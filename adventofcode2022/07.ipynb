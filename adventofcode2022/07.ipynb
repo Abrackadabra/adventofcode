{
 "cells": [
  {
   "cell_type": "code",
   "execution_count": 1,
   "metadata": {
    "execution": {
     "iopub.execute_input": "2022-12-07T05:45:34.185648Z",
     "iopub.status.busy": "2022-12-07T05:45:34.185425Z",
     "iopub.status.idle": "2022-12-07T05:45:35.028322Z",
     "shell.execute_reply": "2022-12-07T05:45:35.027262Z",
     "shell.execute_reply.started": "2022-12-07T05:45:34.185590Z"
    },
    "tags": []
   },
   "outputs": [],
   "source": [
    "import numpy as np\n",
    "from numpy import *\n",
    "import matplotlib\n",
    "from matplotlib import pyplot as plt\n",
    "from tqdm.auto import tqdm\n",
    "import requests\n",
    "import pickle\n",
    "import re\n",
    "import itertools\n",
    "import functools\n",
    "import collections\n",
    "import string\n",
    "import time\n",
    "from bs4 import BeautifulSoup\n",
    "from sortedcontainers import SortedList # http://www.grantjenks.com/docs/sortedcontainers/sortedlist.html#sortedlist\n",
    "\n",
    "from adventlib import *\n",
    "\n",
    "YEAR = 2022\n",
    "DAY = int('07')\n",
    "\n",
    "submit1, submit2 = generate_submits(YEAR, DAY)\n",
    "\n",
    "while True:\n",
    "  try:\n",
    "    raw_input = get_input(YEAR, DAY)\n",
    "    break\n",
    "  except Exception as e:\n",
    "    print(e)\n",
    "    time.sleep(1)"
   ]
  },
  {
   "cell_type": "code",
   "execution_count": 6,
   "metadata": {
    "execution": {
     "iopub.execute_input": "2022-12-07T05:45:37.030703Z",
     "iopub.status.busy": "2022-12-07T05:45:37.030174Z",
     "iopub.status.idle": "2022-12-07T05:45:37.036646Z",
     "shell.execute_reply": "2022-12-07T05:45:37.035348Z",
     "shell.execute_reply.started": "2022-12-07T05:45:37.030664Z"
    },
    "tags": []
   },
   "outputs": [],
   "source": [
    "lines, groups = linesplit(\"\"\"\n",
    "$ cd /\n",
    "$ ls\n",
    "dir a\n",
    "14848514 b.txt\n",
    "8504156 c.dat\n",
    "dir d\n",
    "$ cd a\n",
    "$ ls\n",
    "dir e\n",
    "29116 f\n",
    "2557 g\n",
    "62596 h.lst\n",
    "$ cd e\n",
    "$ ls\n",
    "584 i\n",
    "$ cd ..\n",
    "$ cd ..\n",
    "$ cd d\n",
    "$ ls\n",
    "4060174 j\n",
    "8033020 d.log\n",
    "5626152 d.ext\n",
    "7214296 k\n",
    "\"\"\".strip())"
   ]
  },
  {
   "cell_type": "code",
   "execution_count": 3,
   "metadata": {
    "execution": {
     "iopub.execute_input": "2022-12-07T05:45:35.045838Z",
     "iopub.status.busy": "2022-12-07T05:45:35.045719Z",
     "iopub.status.idle": "2022-12-07T05:45:35.049328Z",
     "shell.execute_reply": "2022-12-07T05:45:35.048655Z",
     "shell.execute_reply.started": "2022-12-07T05:45:35.045828Z"
    },
    "tags": []
   },
   "outputs": [
    {
     "name": "stdout",
     "output_type": "stream",
     "text": [
      "1022 lines\n",
      "1 groups\n",
      ">>>\n",
      "$ cd /\n",
      "$ ls\n",
      "dir bzcg\n",
      "...\n"
     ]
    }
   ],
   "source": [
    "lines, groups = linesplit(raw_input, verbose=True)"
   ]
  },
  {
   "cell_type": "code",
   "execution_count": null,
   "metadata": {},
   "outputs": [],
   "source": []
  },
  {
   "cell_type": "code",
   "execution_count": 7,
   "metadata": {
    "execution": {
     "iopub.execute_input": "2022-12-07T05:45:37.795678Z",
     "iopub.status.busy": "2022-12-07T05:45:37.795005Z",
     "iopub.status.idle": "2022-12-07T05:45:37.803677Z",
     "shell.execute_reply": "2022-12-07T05:45:37.802889Z",
     "shell.execute_reply.started": "2022-12-07T05:45:37.795636Z"
    },
    "tags": []
   },
   "outputs": [
    {
     "data": {
      "text/plain": [
       "['$ cd /',\n",
       " '$ ls',\n",
       " 'dir a',\n",
       " '14848514 b.txt',\n",
       " '8504156 c.dat',\n",
       " 'dir d',\n",
       " '$ cd a',\n",
       " '$ ls',\n",
       " 'dir e',\n",
       " '29116 f',\n",
       " '2557 g',\n",
       " '62596 h.lst',\n",
       " '$ cd e',\n",
       " '$ ls',\n",
       " '584 i',\n",
       " '$ cd ..',\n",
       " '$ cd ..',\n",
       " '$ cd d',\n",
       " '$ ls',\n",
       " '4060174 j',\n",
       " '8033020 d.log',\n",
       " '5626152 d.ext',\n",
       " '7214296 k']"
      ]
     },
     "execution_count": 7,
     "metadata": {},
     "output_type": "execute_result"
    }
   ],
   "source": [
    "lines"
   ]
  },
  {
   "cell_type": "code",
   "execution_count": 12,
   "metadata": {
    "execution": {
     "iopub.execute_input": "2022-12-07T05:28:05.667008Z",
     "iopub.status.busy": "2022-12-07T05:28:05.666221Z",
     "iopub.status.idle": "2022-12-07T05:28:05.683266Z",
     "shell.execute_reply": "2022-12-07T05:28:05.682548Z",
     "shell.execute_reply.started": "2022-12-07T05:28:05.666963Z"
    },
    "tags": []
   },
   "outputs": [
    {
     "data": {
      "text/plain": [
       "[['$ cd /'],\n",
       " ['$ ls', 'dir a', '14848514 b.txt', '8504156 c.dat', 'dir d'],\n",
       " ['$ cd a'],\n",
       " ['$ ls', 'dir e', '29116 f', '2557 g', '62596 h.lst'],\n",
       " ['$ cd e'],\n",
       " ['$ ls', '584 i'],\n",
       " ['$ cd ..'],\n",
       " ['$ cd ..'],\n",
       " ['$ cd d'],\n",
       " ['$ ls', '4060174 j', '8033020 d.log', '5626152 d.ext', '7214296 k']]"
      ]
     },
     "execution_count": 12,
     "metadata": {},
     "output_type": "execute_result"
    }
   ],
   "source": [
    "a = []\n",
    "b = []\n",
    "\n",
    "for line in lines:\n",
    "  if m := re.findall(r'^\\$', line):\n",
    "    if b:\n",
    "      a.append(b)\n",
    "      b = []\n",
    "    b.append(line)\n",
    "  else:\n",
    "    b.append(line)\n",
    "\n",
    "if b:\n",
    "  a.append(b)\n",
    "a"
   ]
  },
  {
   "cell_type": "code",
   "execution_count": 13,
   "metadata": {
    "execution": {
     "iopub.execute_input": "2022-12-07T05:28:06.386608Z",
     "iopub.status.busy": "2022-12-07T05:28:06.385727Z",
     "iopub.status.idle": "2022-12-07T05:28:06.395336Z",
     "shell.execute_reply": "2022-12-07T05:28:06.390455Z",
     "shell.execute_reply.started": "2022-12-07T05:28:06.386574Z"
    },
    "tags": []
   },
   "outputs": [],
   "source": [
    "exes = a"
   ]
  },
  {
   "cell_type": "code",
   "execution_count": 14,
   "metadata": {
    "execution": {
     "iopub.execute_input": "2022-12-07T05:28:07.354156Z",
     "iopub.status.busy": "2022-12-07T05:28:07.353858Z",
     "iopub.status.idle": "2022-12-07T05:28:07.368192Z",
     "shell.execute_reply": "2022-12-07T05:28:07.367653Z",
     "shell.execute_reply.started": "2022-12-07T05:28:07.354137Z"
    },
    "tags": []
   },
   "outputs": [
    {
     "name": "stdout",
     "output_type": "stream",
     "text": [
      "['$ ls', 'dir a', '14848514 b.txt', '8504156 c.dat', 'dir d']\n",
      "['$ ls', 'dir e', '29116 f', '2557 g', '62596 h.lst']\n",
      "['$ ls', '584 i']\n",
      "['$ ls', '4060174 j', '8033020 d.log', '5626152 d.ext', '7214296 k']\n"
     ]
    },
    {
     "data": {
      "text/plain": [
       "{'b.txt': 14848514,\n",
       " 'c.dat': 8504156,\n",
       " 'a': {'f': 29116, 'g': 2557, 'h.lst': 62596, 'e': {'i': 584}},\n",
       " 'd': {'j': 4060174, 'd.log': 8033020, 'd.ext': 5626152, 'k': 7214296}}"
      ]
     },
     "execution_count": 14,
     "metadata": {},
     "output_type": "execute_result"
    }
   ],
   "source": [
    "d = {}\n",
    "stack = [d]\n",
    "for exe in exes:\n",
    "  comm = exe[0]\n",
    "  reses = exe[1:]\n",
    "  # print(comm)\n",
    "  \n",
    "  if m := re.findall(r'^\\$ cd (.*)', comm):\n",
    "    cd_to = m[0]\n",
    "    # print(m[0])\n",
    "    \n",
    "    if cd_to == '/':\n",
    "      stack = [d]\n",
    "    elif cd_to == '..':\n",
    "      stack.pop()\n",
    "      if not stack:\n",
    "        stack = [d]\n",
    "    else:\n",
    "      newd = {}\n",
    "      stack[-1][cd_to] = newd\n",
    "      stack.append(newd)\n",
    "    \n",
    "    \n",
    "    \n",
    "  elif m := re.findall(r'^\\$ ls', comm):\n",
    "    print(exe)\n",
    "    for res in reses:\n",
    "      if m := re.findall(r'^dir (.*)', res):\n",
    "        dirname = m[0]\n",
    "      elif m := re.findall(r'^(\\d+) (.*)', res):\n",
    "        size = int(m[0][0])\n",
    "        name = m[0][1]\n",
    "        stack[-1][name] = size\n",
    "        \n",
    "        \n",
    "d"
   ]
  },
  {
   "cell_type": "code",
   "execution_count": 17,
   "metadata": {
    "execution": {
     "iopub.execute_input": "2022-12-07T05:28:36.394828Z",
     "iopub.status.busy": "2022-12-07T05:28:36.394283Z",
     "iopub.status.idle": "2022-12-07T05:28:36.407504Z",
     "shell.execute_reply": "2022-12-07T05:28:36.406693Z",
     "shell.execute_reply.started": "2022-12-07T05:28:36.394799Z"
    },
    "tags": []
   },
   "outputs": [
    {
     "data": {
      "text/plain": [
       "(48381165, [584, 94853, 24933642, 48381165])"
      ]
     },
     "execution_count": 17,
     "metadata": {},
     "output_type": "execute_result"
    }
   ],
   "source": [
    "all_sizes = []\n",
    "\n",
    "def calc(d):\n",
    "  mysize = 0\n",
    "  for i, j in d.items():\n",
    "    if type(j) is int:\n",
    "      mysize += j\n",
    "    else:\n",
    "      mysize += calc(j)\n",
    "  global all_sizes\n",
    "  all_sizes.append(mysize)\n",
    "  return mysize\n",
    "  \n",
    "calc(d), all_sizes"
   ]
  },
  {
   "cell_type": "code",
   "execution_count": 18,
   "metadata": {
    "execution": {
     "iopub.execute_input": "2022-12-07T05:28:38.000068Z",
     "iopub.status.busy": "2022-12-07T05:28:37.999404Z",
     "iopub.status.idle": "2022-12-07T05:28:38.017909Z",
     "shell.execute_reply": "2022-12-07T05:28:38.015784Z",
     "shell.execute_reply.started": "2022-12-07T05:28:38.000040Z"
    },
    "tags": []
   },
   "outputs": [
    {
     "data": {
      "text/plain": [
       "95437"
      ]
     },
     "execution_count": 18,
     "metadata": {},
     "output_type": "execute_result"
    }
   ],
   "source": [
    "all_sizes = array(all_sizes)\n",
    "sum(all_sizes[all_sizes <= 100000])"
   ]
  },
  {
   "cell_type": "code",
   "execution_count": 35,
   "metadata": {
    "execution": {
     "iopub.execute_input": "2022-12-07T05:11:30.207324Z",
     "iopub.status.busy": "2022-12-07T05:11:30.206687Z",
     "iopub.status.idle": "2022-12-07T05:11:30.690946Z",
     "shell.execute_reply": "2022-12-07T05:11:30.689758Z",
     "shell.execute_reply.started": "2022-12-07T05:11:30.207294Z"
    },
    "tags": []
   },
   "outputs": [
    {
     "name": "stdout",
     "output_type": "stream",
     "text": [
      "Submitting 1141028...\n"
     ]
    },
    {
     "data": {
      "text/plain": [
       "True"
      ]
     },
     "execution_count": 35,
     "metadata": {},
     "output_type": "execute_result"
    }
   ],
   "source": [
    "submit1(_)"
   ]
  },
  {
   "cell_type": "code",
   "execution_count": 37,
   "metadata": {
    "execution": {
     "iopub.execute_input": "2022-12-07T05:12:23.601202Z",
     "iopub.status.busy": "2022-12-07T05:12:23.600904Z",
     "iopub.status.idle": "2022-12-07T05:12:23.608172Z",
     "shell.execute_reply": "2022-12-07T05:12:23.607160Z",
     "shell.execute_reply.started": "2022-12-07T05:12:23.601182Z"
    },
    "tags": []
   },
   "outputs": [],
   "source": [
    "glob = all_sizes[-1]"
   ]
  },
  {
   "cell_type": "code",
   "execution_count": 44,
   "metadata": {
    "execution": {
     "iopub.execute_input": "2022-12-07T05:13:55.331677Z",
     "iopub.status.busy": "2022-12-07T05:13:55.330824Z",
     "iopub.status.idle": "2022-12-07T05:13:55.338716Z",
     "shell.execute_reply": "2022-12-07T05:13:55.337522Z",
     "shell.execute_reply.started": "2022-12-07T05:13:55.331586Z"
    },
    "tags": []
   },
   "outputs": [],
   "source": [
    "have = 70000000 - all_sizes[-1]\n",
    "need = 30000000 - have"
   ]
  },
  {
   "cell_type": "code",
   "execution_count": 45,
   "metadata": {
    "execution": {
     "iopub.execute_input": "2022-12-07T05:13:56.021330Z",
     "iopub.status.busy": "2022-12-07T05:13:56.021023Z",
     "iopub.status.idle": "2022-12-07T05:13:56.028954Z",
     "shell.execute_reply": "2022-12-07T05:13:56.028345Z",
     "shell.execute_reply.started": "2022-12-07T05:13:56.021310Z"
    },
    "tags": []
   },
   "outputs": [
    {
     "data": {
      "text/plain": [
       "[8278005, 9725484, 10715508, 11798147, 12367143, 14629551, 48008081]"
      ]
     },
     "execution_count": 45,
     "metadata": {},
     "output_type": "execute_result"
    }
   ],
   "source": [
    "sorted(all_sizes[all_sizes >= need])"
   ]
  },
  {
   "cell_type": "code",
   "execution_count": 55,
   "metadata": {
    "execution": {
     "iopub.execute_input": "2022-12-07T05:14:22.431776Z",
     "iopub.status.busy": "2022-12-07T05:14:22.431238Z",
     "iopub.status.idle": "2022-12-07T05:14:22.448057Z",
     "shell.execute_reply": "2022-12-07T05:14:22.447006Z",
     "shell.execute_reply.started": "2022-12-07T05:14:22.431752Z"
    },
    "tags": []
   },
   "outputs": [
    {
     "ename": "TypeError",
     "evalue": "'bool' object is not subscriptable",
     "output_type": "error",
     "traceback": [
      "\u001b[0;31m---------------------------------------------------------------------------\u001b[0m",
      "\u001b[0;31mTypeError\u001b[0m                                 Traceback (most recent call last)",
      "Cell \u001b[0;32mIn[55], line 1\u001b[0m\n\u001b[0;32m----> 1\u001b[0m submit2(\u001b[43m_\u001b[49m\u001b[43m[\u001b[49m\u001b[38;5;241;43m0\u001b[39;49m\u001b[43m]\u001b[49m)\n",
      "\u001b[0;31mTypeError\u001b[0m: 'bool' object is not subscriptable"
     ]
    }
   ],
   "source": [
    "submit2(_[0])"
   ]
  }
 ],
 "metadata": {
  "kernelspec": {
   "display_name": "Python 3 (ipykernel)",
   "language": "python",
   "name": "python3"
  },
  "language_info": {
   "codemirror_mode": {
    "name": "ipython",
    "version": 3
   },
   "file_extension": ".py",
   "mimetype": "text/x-python",
   "name": "python",
   "nbconvert_exporter": "python",
   "pygments_lexer": "ipython3",
   "version": "3.11.0"
  }
 },
 "nbformat": 4,
 "nbformat_minor": 4
}
