{
 "cells": [
  {
   "cell_type": "code",
   "execution_count": 1,
   "metadata": {
    "execution": {
     "iopub.execute_input": "2022-12-11T05:01:48.810588Z",
     "iopub.status.busy": "2022-12-11T05:01:48.809856Z",
     "iopub.status.idle": "2022-12-11T05:01:49.760492Z",
     "shell.execute_reply": "2022-12-11T05:01:49.759770Z",
     "shell.execute_reply.started": "2022-12-11T05:01:48.810447Z"
    }
   },
   "outputs": [],
   "source": [
    "import numpy as np\n",
    "from numpy import *\n",
    "import matplotlib\n",
    "from matplotlib import pyplot as plt\n",
    "from tqdm.auto import tqdm\n",
    "import requests\n",
    "import pickle\n",
    "import re\n",
    "import itertools\n",
    "import functools\n",
    "import collections\n",
    "import string\n",
    "import time\n",
    "from bs4 import BeautifulSoup\n",
    "from sortedcontainers import SortedList # http://www.grantjenks.com/docs/sortedcontainers/sortedlist.html#sortedlist\n",
    "\n",
    "from adventlib.common import *\n",
    "# n, m, a = lines_as_matrix_nm(lines)\n",
    "# a = lines_as_matrix(lines)\n",
    "# a = lines_as_digit_matrix(lines)\n",
    "# chunks = split_iter_by_start_indices(a, indices)\n",
    "# chunks = split_iter_by_bools(a, bools)\n",
    "\n",
    "# from adventlib.point_2d import *\n",
    "# from adventlib.point_3d import *\n",
    "\n",
    "YEAR = 2022\n",
    "DAY = int('11')\n",
    "\n",
    "submit1, submit2 = generate_submits(YEAR, DAY)\n",
    "\n",
    "while True:\n",
    "  try:\n",
    "    raw_input = get_input(YEAR, DAY)\n",
    "    break\n",
    "  except Exception as e:\n",
    "    print(e)\n",
    "    time.sleep(1)"
   ]
  },
  {
   "cell_type": "code",
   "execution_count": 88,
   "metadata": {
    "execution": {
     "iopub.execute_input": "2022-12-11T05:15:55.646048Z",
     "iopub.status.busy": "2022-12-11T05:15:55.645507Z",
     "iopub.status.idle": "2022-12-11T05:15:55.654953Z",
     "shell.execute_reply": "2022-12-11T05:15:55.653888Z",
     "shell.execute_reply.started": "2022-12-11T05:15:55.646022Z"
    },
    "tags": []
   },
   "outputs": [],
   "source": [
    "lines, groups = linesplit(\"\"\"\n",
    "Monkey 0:\n",
    "  Starting items: 79, 98\n",
    "  Operation: new = old * 19\n",
    "  Test: divisible by 23\n",
    "    If true: throw to monkey 2\n",
    "    If false: throw to monkey 3\n",
    "\n",
    "Monkey 1:\n",
    "  Starting items: 54, 65, 75, 74\n",
    "  Operation: new = old + 6\n",
    "  Test: divisible by 19\n",
    "    If true: throw to monkey 2\n",
    "    If false: throw to monkey 0\n",
    "\n",
    "Monkey 2:\n",
    "  Starting items: 79, 60, 97\n",
    "  Operation: new = old * old\n",
    "  Test: divisible by 13\n",
    "    If true: throw to monkey 1\n",
    "    If false: throw to monkey 3\n",
    "\n",
    "Monkey 3:\n",
    "  Starting items: 74\n",
    "  Operation: new = old + 3\n",
    "  Test: divisible by 17\n",
    "    If true: throw to monkey 0\n",
    "    If false: throw to monkey 1\n",
    "\"\"\".strip())"
   ]
  },
  {
   "cell_type": "code",
   "execution_count": 99,
   "metadata": {
    "execution": {
     "iopub.execute_input": "2022-12-11T05:16:48.688315Z",
     "iopub.status.busy": "2022-12-11T05:16:48.687758Z",
     "iopub.status.idle": "2022-12-11T05:16:48.696655Z",
     "shell.execute_reply": "2022-12-11T05:16:48.695717Z",
     "shell.execute_reply.started": "2022-12-11T05:16:48.688280Z"
    },
    "tags": []
   },
   "outputs": [
    {
     "name": "stdout",
     "output_type": "stream",
     "text": [
      "55 lines\n",
      "8 groups\n",
      ">>>\n",
      "Monkey 0:\n",
      "  Starting items: 83, 62, 93\n",
      "  Operation: new = old * 17\n",
      "...\n"
     ]
    }
   ],
   "source": [
    "lines, groups = linesplit(raw_input, verbose=True)"
   ]
  },
  {
   "cell_type": "code",
   "execution_count": 100,
   "metadata": {
    "execution": {
     "iopub.execute_input": "2022-12-11T05:16:49.723814Z",
     "iopub.status.busy": "2022-12-11T05:16:49.723377Z",
     "iopub.status.idle": "2022-12-11T05:16:49.744198Z",
     "shell.execute_reply": "2022-12-11T05:16:49.742558Z",
     "shell.execute_reply.started": "2022-12-11T05:16:49.723792Z"
    },
    "tags": []
   },
   "outputs": [
    {
     "data": {
      "text/plain": [
       "[{'items': [83, 62, 93],\n",
       "  'op': '*',\n",
       "  'arg1': 'old',\n",
       "  'arg2': '17',\n",
       "  'divby': 2,\n",
       "  'dest_true': 1,\n",
       "  'dest_false': 6,\n",
       "  'counter': 0},\n",
       " {'items': [90, 55],\n",
       "  'op': '+',\n",
       "  'arg1': 'old',\n",
       "  'arg2': '1',\n",
       "  'divby': 17,\n",
       "  'dest_true': 6,\n",
       "  'dest_false': 3,\n",
       "  'counter': 0},\n",
       " {'items': [91, 78, 80, 97, 79, 88],\n",
       "  'op': '+',\n",
       "  'arg1': 'old',\n",
       "  'arg2': '3',\n",
       "  'divby': 19,\n",
       "  'dest_true': 7,\n",
       "  'dest_false': 5,\n",
       "  'counter': 0},\n",
       " {'items': [64, 80, 83, 89, 59],\n",
       "  'op': '+',\n",
       "  'arg1': 'old',\n",
       "  'arg2': '5',\n",
       "  'divby': 3,\n",
       "  'dest_true': 7,\n",
       "  'dest_false': 2,\n",
       "  'counter': 0},\n",
       " {'items': [98, 92, 99, 51],\n",
       "  'op': '*',\n",
       "  'arg1': 'old',\n",
       "  'arg2': 'old',\n",
       "  'divby': 5,\n",
       "  'dest_true': 0,\n",
       "  'dest_false': 1,\n",
       "  'counter': 0},\n",
       " {'items': [68, 57, 95, 85, 98, 75, 98, 75],\n",
       "  'op': '+',\n",
       "  'arg1': 'old',\n",
       "  'arg2': '2',\n",
       "  'divby': 13,\n",
       "  'dest_true': 4,\n",
       "  'dest_false': 0,\n",
       "  'counter': 0},\n",
       " {'items': [74],\n",
       "  'op': '+',\n",
       "  'arg1': 'old',\n",
       "  'arg2': '4',\n",
       "  'divby': 7,\n",
       "  'dest_true': 3,\n",
       "  'dest_false': 2,\n",
       "  'counter': 0},\n",
       " {'items': [68, 64, 60, 68, 87, 80, 82],\n",
       "  'op': '*',\n",
       "  'arg1': 'old',\n",
       "  'arg2': '19',\n",
       "  'divby': 11,\n",
       "  'dest_true': 4,\n",
       "  'dest_false': 5,\n",
       "  'counter': 0}]"
      ]
     },
     "execution_count": 100,
     "metadata": {},
     "output_type": "execute_result"
    }
   ],
   "source": [
    "monkeys = []\n",
    "\n",
    "for group in groups:\n",
    "  monkey = {}\n",
    "  monkey['items'] = list(map(int, re.findall(r'\\d+', group[1])))\n",
    "  \n",
    "  ops = group[2].split()\n",
    "  monkey['op'] = ops[4]\n",
    "  monkey['arg1'] = ops[3]\n",
    "  monkey['arg2'] = ops[5]\n",
    "    \n",
    "  monkey['divby'] = int(re.findall(r'\\d+', group[3])[0])\n",
    "  monkey['dest_true'] = int(re.findall(r'\\d+', group[4])[0])\n",
    "  monkey['dest_false'] = int(re.findall(r'\\d+', group[5])[0])\n",
    "  monkey['counter'] = 0\n",
    "  # monkey\n",
    "  monkeys.append(monkey)\n",
    "monkeys"
   ]
  },
  {
   "cell_type": "code",
   "execution_count": 101,
   "metadata": {
    "execution": {
     "iopub.execute_input": "2022-12-11T05:16:49.979964Z",
     "iopub.status.busy": "2022-12-11T05:16:49.979246Z",
     "iopub.status.idle": "2022-12-11T05:16:49.991424Z",
     "shell.execute_reply": "2022-12-11T05:16:49.990436Z",
     "shell.execute_reply.started": "2022-12-11T05:16:49.979922Z"
    },
    "tags": []
   },
   "outputs": [],
   "source": [
    "magic = product([i['divby'] for i in monkeys])"
   ]
  },
  {
   "cell_type": "code",
   "execution_count": 102,
   "metadata": {
    "execution": {
     "iopub.execute_input": "2022-12-11T05:16:50.583876Z",
     "iopub.status.busy": "2022-12-11T05:16:50.583192Z",
     "iopub.status.idle": "2022-12-11T05:16:50.594231Z",
     "shell.execute_reply": "2022-12-11T05:16:50.593456Z",
     "shell.execute_reply.started": "2022-12-11T05:16:50.583832Z"
    },
    "tags": []
   },
   "outputs": [],
   "source": [
    "def parse(item, s):\n",
    "  if s == 'old':\n",
    "    return item\n",
    "  return int(s)"
   ]
  },
  {
   "cell_type": "code",
   "execution_count": 103,
   "metadata": {
    "execution": {
     "iopub.execute_input": "2022-12-11T05:16:51.265786Z",
     "iopub.status.busy": "2022-12-11T05:16:51.265365Z",
     "iopub.status.idle": "2022-12-11T05:16:51.792911Z",
     "shell.execute_reply": "2022-12-11T05:16:51.792632Z",
     "shell.execute_reply.started": "2022-12-11T05:16:51.265762Z"
    },
    "tags": []
   },
   "outputs": [],
   "source": [
    "for i in range(10000):\n",
    "  for monkey_i in range(len(monkeys)):\n",
    "    for item in monkeys[monkey_i]['items']:\n",
    "      arg1 = parse(item, monkeys[monkey_i]['arg1'])\n",
    "      arg2 = parse(item, monkeys[monkey_i]['arg2'])\n",
    "      res = arg1 + arg2 if monkeys[monkey_i]['op'] == '+' else arg1 * arg2\n",
    "      \n",
    "      # res = res // 3\n",
    "      \n",
    "      res %= magic\n",
    "      \n",
    "      check = res % monkeys[monkey_i]['divby'] == 0\n",
    "      if check:\n",
    "        monkeys[monkeys[monkey_i]['dest_true']]['items'].append(res)\n",
    "      else:\n",
    "        monkeys[monkeys[monkey_i]['dest_false']]['items'].append(res)\n",
    "      \n",
    "      monkeys[monkey_i]['counter'] += 1\n",
    "    \n",
    "    # print([i['items'] for i in monkeys])\n",
    "    monkeys[monkey_i]['items'].clear()"
   ]
  },
  {
   "cell_type": "code",
   "execution_count": 104,
   "metadata": {
    "execution": {
     "iopub.execute_input": "2022-12-11T05:16:52.394208Z",
     "iopub.status.busy": "2022-12-11T05:16:52.392942Z",
     "iopub.status.idle": "2022-12-11T05:16:52.405914Z",
     "shell.execute_reply": "2022-12-11T05:16:52.405306Z",
     "shell.execute_reply.started": "2022-12-11T05:16:52.394168Z"
    },
    "tags": []
   },
   "outputs": [
    {
     "data": {
      "text/plain": [
       "25738411485"
      ]
     },
     "execution_count": 104,
     "metadata": {},
     "output_type": "execute_result"
    }
   ],
   "source": [
    "product(sorted([i['counter'] for i in monkeys])[-2:])"
   ]
  },
  {
   "cell_type": "code",
   "execution_count": 84,
   "metadata": {
    "execution": {
     "iopub.execute_input": "2022-12-11T05:14:50.531379Z",
     "iopub.status.busy": "2022-12-11T05:14:50.530539Z",
     "iopub.status.idle": "2022-12-11T05:14:51.144678Z",
     "shell.execute_reply": "2022-12-11T05:14:51.142970Z",
     "shell.execute_reply.started": "2022-12-11T05:14:50.531350Z"
    },
    "tags": []
   },
   "outputs": [
    {
     "name": "stdout",
     "output_type": "stream",
     "text": [
      "Submitting 112815...\n"
     ]
    },
    {
     "data": {
      "text/plain": [
       "True"
      ]
     },
     "execution_count": 84,
     "metadata": {},
     "output_type": "execute_result"
    }
   ],
   "source": [
    "submit1(_)"
   ]
  },
  {
   "cell_type": "code",
   "execution_count": 105,
   "metadata": {
    "execution": {
     "iopub.execute_input": "2022-12-11T05:16:55.802712Z",
     "iopub.status.busy": "2022-12-11T05:16:55.802082Z",
     "iopub.status.idle": "2022-12-11T05:16:56.389024Z",
     "shell.execute_reply": "2022-12-11T05:16:56.387905Z",
     "shell.execute_reply.started": "2022-12-11T05:16:55.802684Z"
    },
    "tags": []
   },
   "outputs": [
    {
     "name": "stdout",
     "output_type": "stream",
     "text": [
      "Submitting 25738411485...\n"
     ]
    },
    {
     "data": {
      "text/plain": [
       "True"
      ]
     },
     "execution_count": 105,
     "metadata": {},
     "output_type": "execute_result"
    }
   ],
   "source": [
    "submit2(_)"
   ]
  },
  {
   "cell_type": "code",
   "execution_count": null,
   "metadata": {},
   "outputs": [],
   "source": []
  },
  {
   "cell_type": "code",
   "execution_count": 87,
   "metadata": {
    "execution": {
     "iopub.execute_input": "2022-12-11T05:15:38.276850Z",
     "iopub.status.busy": "2022-12-11T05:15:38.276137Z",
     "iopub.status.idle": "2022-12-11T05:15:38.294290Z",
     "shell.execute_reply": "2022-12-11T05:15:38.293770Z",
     "shell.execute_reply.started": "2022-12-11T05:15:38.276807Z"
    },
    "tags": []
   },
   "outputs": [
    {
     "data": {
      "text/plain": [
       "9699690"
      ]
     },
     "execution_count": 87,
     "metadata": {},
     "output_type": "execute_result"
    }
   ],
   "source": []
  }
 ],
 "metadata": {
  "kernelspec": {
   "display_name": "Python 3 (ipykernel)",
   "language": "python",
   "name": "python3"
  },
  "language_info": {
   "codemirror_mode": {
    "name": "ipython",
    "version": 3
   },
   "file_extension": ".py",
   "mimetype": "text/x-python",
   "name": "python",
   "nbconvert_exporter": "python",
   "pygments_lexer": "ipython3",
   "version": "3.11.0"
  }
 },
 "nbformat": 4,
 "nbformat_minor": 4
}
