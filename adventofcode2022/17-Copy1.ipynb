{
 "cells": [
  {
   "cell_type": "code",
   "execution_count": 1,
   "metadata": {
    "execution": {
     "iopub.execute_input": "2022-12-17T05:25:24.541753Z",
     "iopub.status.busy": "2022-12-17T05:25:24.541584Z",
     "iopub.status.idle": "2022-12-17T05:25:25.546493Z",
     "shell.execute_reply": "2022-12-17T05:25:25.546103Z",
     "shell.execute_reply.started": "2022-12-17T05:25:24.541719Z"
    },
    "tags": []
   },
   "outputs": [],
   "source": [
    "import numpy as np\n",
    "from numpy import *\n",
    "import matplotlib\n",
    "from matplotlib import pyplot as plt\n",
    "from tqdm.auto import tqdm\n",
    "import requests\n",
    "import pickle\n",
    "import re\n",
    "import itertools\n",
    "import functools\n",
    "import collections\n",
    "import string\n",
    "import time\n",
    "from bs4 import BeautifulSoup\n",
    "from sortedcontainers import SortedList # http://www.grantjenks.com/docs/sortedcontainers/sortedlist.html#sortedlist\n",
    "\n",
    "import multiprocess\n",
    "# with multiprocess.Pool(processes=8) as pool:\n",
    "#   for i in pool.imap_unordered(f, a):\n",
    "#     print(i)\n",
    "\n",
    "from adventlib.common import *\n",
    "# n, m, a = lines_as_matrix_nm(lines)\n",
    "# a = lines_as_matrix(lines)\n",
    "# a = lines_as_digit_matrix(lines)\n",
    "# chunks = split_iter_by_start_indices(a, indices)\n",
    "# chunks = split_iter_by_bools(a, bools)\n",
    "\n",
    "from adventlib.point_2d import *\n",
    "# from adventlib.point_3d import *\n",
    "\n",
    "YEAR = 2022\n",
    "DAY = int('17')\n",
    "\n",
    "submit1, submit2 = generate_submits(YEAR, DAY)\n",
    "\n",
    "while True:\n",
    "  try:\n",
    "    raw_input = get_input(YEAR, DAY)\n",
    "    break\n",
    "  except Exception as e:\n",
    "    print(e)\n",
    "    time.sleep(1)"
   ]
  },
  {
   "cell_type": "code",
   "execution_count": 2,
   "metadata": {
    "execution": {
     "iopub.execute_input": "2022-12-17T05:25:25.547323Z",
     "iopub.status.busy": "2022-12-17T05:25:25.547193Z",
     "iopub.status.idle": "2022-12-17T05:25:25.549496Z",
     "shell.execute_reply": "2022-12-17T05:25:25.549106Z",
     "shell.execute_reply.started": "2022-12-17T05:25:25.547315Z"
    },
    "tags": []
   },
   "outputs": [],
   "source": [
    "lines_temp, groups_temp = linesplit(\"\"\"\n",
    "####\n",
    "\n",
    ".#.\n",
    "###\n",
    ".#.\n",
    "\n",
    "..#\n",
    "..#\n",
    "###\n",
    "\n",
    "#\n",
    "#\n",
    "#\n",
    "#\n",
    "\n",
    "##\n",
    "##\n",
    "\"\"\".strip())"
   ]
  },
  {
   "cell_type": "code",
   "execution_count": null,
   "metadata": {},
   "outputs": [],
   "source": []
  },
  {
   "cell_type": "code",
   "execution_count": 3,
   "metadata": {
    "execution": {
     "iopub.execute_input": "2022-12-17T05:25:26.773266Z",
     "iopub.status.busy": "2022-12-17T05:25:26.773128Z",
     "iopub.status.idle": "2022-12-17T05:25:26.775075Z",
     "shell.execute_reply": "2022-12-17T05:25:26.774768Z",
     "shell.execute_reply.started": "2022-12-17T05:25:26.773258Z"
    },
    "tags": []
   },
   "outputs": [],
   "source": [
    "lines, groups = linesplit(\"\"\"\n",
    ">>><<><>><<<>><>>><<<>>><<<><<<>><>><<>>\n",
    "\"\"\".strip())"
   ]
  },
  {
   "cell_type": "code",
   "execution_count": 38,
   "metadata": {
    "execution": {
     "iopub.execute_input": "2022-12-17T05:16:30.507350Z",
     "iopub.status.busy": "2022-12-17T05:16:30.506780Z",
     "iopub.status.idle": "2022-12-17T05:16:30.516850Z",
     "shell.execute_reply": "2022-12-17T05:16:30.514698Z",
     "shell.execute_reply.started": "2022-12-17T05:16:30.507312Z"
    },
    "tags": []
   },
   "outputs": [
    {
     "name": "stdout",
     "output_type": "stream",
     "text": [
      "1 lines\n",
      "1 groups\n",
      ">>>\n",
      ">>>><<>>>><<><<<>>><<<>><<>>><<>>>><<<>>><<<>><<<<>>>><<<<>>>><<<>>>><<<<><><>>><<<<>><>>>><<<><<<>>...\n"
     ]
    }
   ],
   "source": [
    "lines, groups = linesplit(raw_input, verbose=True)"
   ]
  },
  {
   "cell_type": "code",
   "execution_count": 4,
   "metadata": {
    "execution": {
     "iopub.execute_input": "2022-12-17T05:25:28.200116Z",
     "iopub.status.busy": "2022-12-17T05:25:28.199976Z",
     "iopub.status.idle": "2022-12-17T05:25:28.206136Z",
     "shell.execute_reply": "2022-12-17T05:25:28.205831Z",
     "shell.execute_reply.started": "2022-12-17T05:25:28.200108Z"
    },
    "tags": []
   },
   "outputs": [
    {
     "data": {
      "text/plain": [
       "[[[+0, +0], [+1, +0], [+2, +0], [+3, +0]],\n",
       " [[+1, +2], [+0, +1], [+1, +1], [+2, +1], [+1, +0]],\n",
       " [[+2, +2], [+2, +1], [+0, +0], [+1, +0], [+2, +0]],\n",
       " [[+0, +3], [+0, +2], [+0, +1], [+0, +0]],\n",
       " [[+0, +1], [+1, +1], [+0, +0], [+1, +0]]]"
      ]
     },
     "execution_count": 4,
     "metadata": {},
     "output_type": "execute_result"
    }
   ],
   "source": [
    "minos = []\n",
    "\n",
    "for group in groups_temp:\n",
    "  ys = len(group)\n",
    "  xs = len(group[0])\n",
    "  mino = []\n",
    "  \n",
    "  for i in range(len(group)):\n",
    "    for j in range(len(group[0])):\n",
    "      if group[i][j] == '#':\n",
    "        mino.append(Point(j, ys - i - 1))\n",
    "  \n",
    "  minos.append(mino)\n",
    "\n",
    "minos"
   ]
  },
  {
   "cell_type": "code",
   "execution_count": 5,
   "metadata": {
    "execution": {
     "iopub.execute_input": "2022-12-17T05:25:29.660966Z",
     "iopub.status.busy": "2022-12-17T05:25:29.660755Z",
     "iopub.status.idle": "2022-12-17T05:25:29.662836Z",
     "shell.execute_reply": "2022-12-17T05:25:29.662543Z",
     "shell.execute_reply.started": "2022-12-17T05:25:29.660947Z"
    },
    "tags": []
   },
   "outputs": [],
   "source": [
    "width = 7"
   ]
  },
  {
   "cell_type": "code",
   "execution_count": 6,
   "metadata": {
    "execution": {
     "iopub.execute_input": "2022-12-17T05:25:29.919971Z",
     "iopub.status.busy": "2022-12-17T05:25:29.919821Z",
     "iopub.status.idle": "2022-12-17T05:25:30.320945Z",
     "shell.execute_reply": "2022-12-17T05:25:30.320637Z",
     "shell.execute_reply.started": "2022-12-17T05:25:29.919959Z"
    },
    "tags": []
   },
   "outputs": [
    {
     "data": {
      "text/plain": [
       "3068"
      ]
     },
     "execution_count": 6,
     "metadata": {},
     "output_type": "execute_result"
    }
   ],
   "source": [
    "jets = lines[0]\n",
    "\n",
    "mino_index = 0\n",
    "jet_index = 0\n",
    "\n",
    "stored = set()\n",
    "\n",
    "def moved(points, delta):\n",
    "  return [i + delta for i in points]\n",
    "\n",
    "for i in range(2022):\n",
    "  a = list(minos[mino_index])\n",
    "  mino_index = (mino_index + 1) % len(minos)\n",
    "  \n",
    "  base_x = 2\n",
    "  if stored:\n",
    "    base_y = max([i.y for i in stored]) + 4\n",
    "  else:\n",
    "    base_y = 3\n",
    "  \n",
    "  a = [i + Point(base_x, base_y) for i in a]\n",
    "  \n",
    "  while True:\n",
    "    aa = moved(a, LEFT if jets[jet_index] == '<' else RIGHT)\n",
    "    jet_index = (jet_index + 1) % len(jets)\n",
    "    \n",
    "    collision = any([i in stored or i.x < 0 or i.y < 0 or i.x >= width for i in aa])\n",
    "    if collision:\n",
    "      pass\n",
    "    else:\n",
    "      a = aa\n",
    "      \n",
    "      \n",
    "    aa = moved(a, DOWN)\n",
    "    \n",
    "    collision = any([i in stored or i.x < 0 or i.y < 0 or i.x >= width for i in aa])\n",
    "    if collision:\n",
    "      stored |= set(a)\n",
    "      \n",
    "      break\n",
    "    else:\n",
    "      a = aa\n",
    "\n",
    "max([i.y for i in stored]) + 1"
   ]
  },
  {
   "cell_type": "code",
   "execution_count": null,
   "metadata": {},
   "outputs": [],
   "source": []
  },
  {
   "cell_type": "code",
   "execution_count": null,
   "metadata": {},
   "outputs": [],
   "source": []
  },
  {
   "cell_type": "code",
   "execution_count": null,
   "metadata": {},
   "outputs": [],
   "source": []
  },
  {
   "cell_type": "code",
   "execution_count": 8,
   "metadata": {
    "execution": {
     "iopub.execute_input": "2022-12-17T05:27:00.460344Z",
     "iopub.status.busy": "2022-12-17T05:27:00.460142Z",
     "iopub.status.idle": "2022-12-17T05:27:04.255713Z",
     "shell.execute_reply": "2022-12-17T05:27:04.255186Z",
     "shell.execute_reply.started": "2022-12-17T05:27:00.460332Z"
    },
    "tags": []
   },
   "outputs": [
    {
     "data": {
      "application/vnd.jupyter.widget-view+json": {
       "model_id": "568a161daa914676b935e4fa874eb5e3",
       "version_major": 2,
       "version_minor": 0
      },
      "text/plain": [
       "  0%|          | 0/202200 [00:00<?, ?it/s]"
      ]
     },
     "metadata": {},
     "output_type": "display_data"
    },
    {
     "ename": "KeyboardInterrupt",
     "evalue": "",
     "output_type": "error",
     "traceback": [
      "\u001b[0;31m---------------------------------------------------------------------------\u001b[0m",
      "\u001b[0;31mKeyboardInterrupt\u001b[0m                         Traceback (most recent call last)",
      "Cell \u001b[0;32mIn[8], line 21\u001b[0m\n\u001b[1;32m     19\u001b[0m base_x \u001b[38;5;241m=\u001b[39m \u001b[38;5;241m2\u001b[39m\n\u001b[1;32m     20\u001b[0m \u001b[38;5;28;01mif\u001b[39;00m stored:\n\u001b[0;32m---> 21\u001b[0m   base_y \u001b[38;5;241m=\u001b[39m \u001b[38;5;28;43mmax\u001b[39;49m\u001b[43m(\u001b[49m\u001b[43m[\u001b[49m\u001b[43mi\u001b[49m\u001b[38;5;241;43m.\u001b[39;49m\u001b[43my\u001b[49m\u001b[43m \u001b[49m\u001b[38;5;28;43;01mfor\u001b[39;49;00m\u001b[43m \u001b[49m\u001b[43mi\u001b[49m\u001b[43m \u001b[49m\u001b[38;5;129;43;01min\u001b[39;49;00m\u001b[43m \u001b[49m\u001b[43mstored\u001b[49m\u001b[43m]\u001b[49m\u001b[43m)\u001b[49m \u001b[38;5;241m+\u001b[39m \u001b[38;5;241m4\u001b[39m\n\u001b[1;32m     22\u001b[0m \u001b[38;5;28;01melse\u001b[39;00m:\n\u001b[1;32m     23\u001b[0m   base_y \u001b[38;5;241m=\u001b[39m \u001b[38;5;241m3\u001b[39m\n",
      "\u001b[0;31mKeyboardInterrupt\u001b[0m: "
     ]
    }
   ],
   "source": [
    "jets = lines[0]\n",
    "\n",
    "mino_index = 0\n",
    "jet_index = 0\n",
    "\n",
    "stored = set()\n",
    "\n",
    "def moved(points, delta):\n",
    "  return [i + delta for i in points]\n",
    "\n",
    "memo = {}\n",
    "\n",
    "maxdepth = 0\n",
    "\n",
    "for i in tqdm(range(202200)):\n",
    "  a = list(minos[mino_index])\n",
    "  mino_index = (mino_index + 1) % len(minos)\n",
    "  \n",
    "  base_x = 2\n",
    "  if stored:\n",
    "    base_y = max([i.y for i in stored]) + 4\n",
    "  else:\n",
    "    base_y = 3\n",
    "    \n",
    "    \n",
    "  bottom = []\n",
    "  for x in range(0, 7):\n",
    "    for y in range(base_y - 10, base_y):\n",
    "      p = Point(x, y)\n",
    "      if p in stored:\n",
    "        bottom.append(p)\n",
    "  \n",
    "  state = (\n",
    "    mino_index,\n",
    "    jet_index,\n",
    "    tuple(bottom)\n",
    "  )\n",
    "  \n",
    "  if state in memo:\n",
    "    print(i)\n",
    "    print(memo[state])\n",
    "    print(state)\n",
    "    break\n",
    "  else:\n",
    "    memo[state] = i\n",
    "  \n",
    "  a = [i + Point(base_x, base_y) for i in a]\n",
    "  \n",
    "  while True:\n",
    "    aa = moved(a, LEFT if jets[jet_index] == '<' else RIGHT)\n",
    "    jet_index = (jet_index + 1) % len(jets)\n",
    "    \n",
    "    collision = any([i in stored or i.x < 0 or i.y < 0 or i.x >= width for i in aa])\n",
    "    if collision:\n",
    "      pass\n",
    "    else:\n",
    "      a = aa\n",
    "      \n",
    "      \n",
    "    aa = moved(a, DOWN)\n",
    "    \n",
    "    collision = any([i in stored or i.x < 0 or i.y < 0 or i.x >= width for i in aa])\n",
    "    if collision:\n",
    "      stored |= set(a)\n",
    "      maxdepth = max(maxdepth, base_y - min([i.y for i in a]))\n",
    "      \n",
    "      break\n",
    "    else:\n",
    "      a = aa\n",
    "\n",
    "max([i.y for i in stored]) + 1"
   ]
  },
  {
   "cell_type": "code",
   "execution_count": 9,
   "metadata": {
    "execution": {
     "iopub.execute_input": "2022-12-17T05:27:06.320243Z",
     "iopub.status.busy": "2022-12-17T05:27:06.320089Z",
     "iopub.status.idle": "2022-12-17T05:27:06.322566Z",
     "shell.execute_reply": "2022-12-17T05:27:06.322186Z",
     "shell.execute_reply.started": "2022-12-17T05:27:06.320232Z"
    },
    "tags": []
   },
   "outputs": [
    {
     "data": {
      "text/plain": [
       "12"
      ]
     },
     "execution_count": 9,
     "metadata": {},
     "output_type": "execute_result"
    }
   ],
   "source": [
    "maxdepth"
   ]
  }
 ],
 "metadata": {
  "kernelspec": {
   "display_name": "Python 3 (ipykernel)",
   "language": "python",
   "name": "python3"
  },
  "language_info": {
   "codemirror_mode": {
    "name": "ipython",
    "version": 3
   },
   "file_extension": ".py",
   "mimetype": "text/x-python",
   "name": "python",
   "nbconvert_exporter": "python",
   "pygments_lexer": "ipython3",
   "version": "3.11.0"
  }
 },
 "nbformat": 4,
 "nbformat_minor": 4
}
