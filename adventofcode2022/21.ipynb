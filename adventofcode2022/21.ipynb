{
 "cells": [
  {
   "cell_type": "code",
   "execution_count": 1,
   "metadata": {
    "execution": {
     "iopub.execute_input": "2022-12-21T12:47:23.891358Z",
     "iopub.status.busy": "2022-12-21T12:47:23.891210Z",
     "iopub.status.idle": "2022-12-21T12:47:25.907256Z",
     "shell.execute_reply": "2022-12-21T12:47:25.906163Z",
     "shell.execute_reply.started": "2022-12-21T12:47:23.891323Z"
    },
    "tags": []
   },
   "outputs": [],
   "source": [
    "import numpy as np\n",
    "from numpy import *\n",
    "import matplotlib\n",
    "from matplotlib import pyplot as plt\n",
    "from tqdm.auto import tqdm\n",
    "import requests\n",
    "import pickle\n",
    "import re\n",
    "import itertools\n",
    "import functools\n",
    "import collections\n",
    "import string\n",
    "import time\n",
    "from bs4 import BeautifulSoup\n",
    "from sortedcontainers import SortedList # http://www.grantjenks.com/docs/sortedcontainers/sortedlist.html#sortedlist\n",
    "\n",
    "import multiprocess\n",
    "# with multiprocess.Pool(processes=8) as pool:\n",
    "#   for i in pool.imap_unordered(f, a):\n",
    "#     print(i)\n",
    "\n",
    "from adventlib.common import *\n",
    "# n, m, a = lines_as_matrix_nm(lines)\n",
    "# a = lines_as_matrix(lines)\n",
    "# a = lines_as_digit_matrix(lines)\n",
    "# chunks = split_iter_by_start_indices(a, indices)\n",
    "# chunks = split_iter_by_bools(a, bools)\n",
    "\n",
    "# from adventlib.point_2d import *\n",
    "# from adventlib.point_3d import *\n",
    "\n",
    "YEAR = 2022\n",
    "DAY = int('21')\n",
    "\n",
    "submit1, submit2 = generate_submits(YEAR, DAY)\n",
    "\n",
    "while True:\n",
    "  try:\n",
    "    raw_input = get_input(YEAR, DAY)\n",
    "    break\n",
    "  except Exception as e:\n",
    "    print(e)\n",
    "    time.sleep(1)"
   ]
  },
  {
   "cell_type": "code",
   "execution_count": 105,
   "metadata": {
    "execution": {
     "iopub.execute_input": "2022-12-21T05:15:59.152524Z",
     "iopub.status.busy": "2022-12-21T05:15:59.152250Z",
     "iopub.status.idle": "2022-12-21T05:15:59.162403Z",
     "shell.execute_reply": "2022-12-21T05:15:59.161349Z",
     "shell.execute_reply.started": "2022-12-21T05:15:59.152504Z"
    },
    "tags": []
   },
   "outputs": [],
   "source": [
    "lines, groups = linesplit(\"\"\"\n",
    "root: pppw + sjmn\n",
    "dbpl: 5\n",
    "cczh: sllz + lgvd\n",
    "zczc: 2\n",
    "ptdq: humn - dvpt\n",
    "dvpt: 3\n",
    "lfqf: 4\n",
    "humn: 5\n",
    "ljgn: 2\n",
    "sjmn: drzm * dbpl\n",
    "sllz: 4\n",
    "pppw: cczh / lfqf\n",
    "lgvd: ljgn * ptdq\n",
    "drzm: hmdt - zczc\n",
    "hmdt: 32\n",
    "\"\"\".strip())"
   ]
  },
  {
   "cell_type": "code",
   "execution_count": 12,
   "metadata": {
    "execution": {
     "iopub.execute_input": "2022-12-21T12:51:04.526490Z",
     "iopub.status.busy": "2022-12-21T12:51:04.526185Z",
     "iopub.status.idle": "2022-12-21T12:51:04.531998Z",
     "shell.execute_reply": "2022-12-21T12:51:04.531461Z",
     "shell.execute_reply.started": "2022-12-21T12:51:04.526470Z"
    },
    "tags": []
   },
   "outputs": [
    {
     "name": "stdout",
     "output_type": "stream",
     "text": [
      "2399 lines\n",
      "1 groups\n",
      ">>>\n",
      "zsdb: gqzc + wrwl\n",
      "hlgq: tdbl + nhvq\n",
      "gmmb: 3\n",
      "...\n"
     ]
    }
   ],
   "source": [
    "lines, groups = linesplit(raw_input, verbose=True)"
   ]
  },
  {
   "cell_type": "code",
   "execution_count": null,
   "metadata": {},
   "outputs": [],
   "source": []
  },
  {
   "cell_type": "code",
   "execution_count": 107,
   "metadata": {
    "execution": {
     "iopub.execute_input": "2022-12-21T05:16:00.196260Z",
     "iopub.status.busy": "2022-12-21T05:16:00.195687Z",
     "iopub.status.idle": "2022-12-21T05:16:00.219968Z",
     "shell.execute_reply": "2022-12-21T05:16:00.219581Z",
     "shell.execute_reply.started": "2022-12-21T05:16:00.196219Z"
    },
    "tags": []
   },
   "outputs": [],
   "source": [
    "monkeys = {\n",
    "\n",
    "}\n",
    "\n",
    "for line in lines:\n",
    "  if m := re.findall(r'^(\\w+): (-?\\d+)$', line):\n",
    "    name, num = m[0]\n",
    "    monkeys[name] = int(num)\n",
    "  elif m := re.findall(r'^(\\w+): (\\w+) (.) (\\w+)$', line):\n",
    "    name, arg1, op, arg2 = m[0]\n",
    "    monkeys[name] = (arg1, op, arg2)\n",
    "  else:\n",
    "    raise Exception()"
   ]
  },
  {
   "cell_type": "code",
   "execution_count": 108,
   "metadata": {
    "execution": {
     "iopub.execute_input": "2022-12-21T05:16:01.767276Z",
     "iopub.status.busy": "2022-12-21T05:16:01.766941Z",
     "iopub.status.idle": "2022-12-21T05:16:01.777710Z",
     "shell.execute_reply": "2022-12-21T05:16:01.776850Z",
     "shell.execute_reply.started": "2022-12-21T05:16:01.767256Z"
    },
    "tags": []
   },
   "outputs": [],
   "source": [
    "def dfs(name):\n",
    "  if type(monkeys[name]) == int:\n",
    "    return monkeys[name]\n",
    "  arg1 = dfs(monkeys[name][0])\n",
    "  arg2 = dfs(monkeys[name][2])\n",
    "  \n",
    "  if monkeys[name][1] == '+':\n",
    "    return arg1 + arg2\n",
    "  elif monkeys[name][1] == '-':\n",
    "    return arg1 - arg2\n",
    "  elif monkeys[name][1] == '*':\n",
    "    return arg1 * arg2\n",
    "  elif monkeys[name][1] == '/':\n",
    "    if arg1 % arg2 != 0:\n",
    "      raise Exception()\n",
    "    return arg1 // arg2\n",
    "  raise Exception()"
   ]
  },
  {
   "cell_type": "code",
   "execution_count": 109,
   "metadata": {
    "execution": {
     "iopub.execute_input": "2022-12-21T05:16:02.303218Z",
     "iopub.status.busy": "2022-12-21T05:16:02.303020Z",
     "iopub.status.idle": "2022-12-21T05:16:02.306600Z",
     "shell.execute_reply": "2022-12-21T05:16:02.306163Z",
     "shell.execute_reply.started": "2022-12-21T05:16:02.303206Z"
    },
    "tags": []
   },
   "outputs": [
    {
     "data": {
      "text/plain": [
       "276156919469632"
      ]
     },
     "execution_count": 109,
     "metadata": {},
     "output_type": "execute_result"
    }
   ],
   "source": [
    "dfs('root')"
   ]
  },
  {
   "cell_type": "code",
   "execution_count": 25,
   "metadata": {
    "execution": {
     "iopub.execute_input": "2022-12-21T05:04:43.128360Z",
     "iopub.status.busy": "2022-12-21T05:04:43.127941Z",
     "iopub.status.idle": "2022-12-21T05:04:43.312189Z",
     "shell.execute_reply": "2022-12-21T05:04:43.311085Z",
     "shell.execute_reply.started": "2022-12-21T05:04:43.128339Z"
    },
    "tags": []
   },
   "outputs": [
    {
     "name": "stdout",
     "output_type": "stream",
     "text": [
      "Submitting 276156919469632...\n"
     ]
    },
    {
     "data": {
      "text/plain": [
       "True"
      ]
     },
     "execution_count": 25,
     "metadata": {},
     "output_type": "execute_result"
    }
   ],
   "source": [
    "submit1(276156919469632)"
   ]
  },
  {
   "cell_type": "code",
   "execution_count": 110,
   "metadata": {
    "execution": {
     "iopub.execute_input": "2022-12-21T05:16:03.434950Z",
     "iopub.status.busy": "2022-12-21T05:16:03.434603Z",
     "iopub.status.idle": "2022-12-21T05:16:03.443887Z",
     "shell.execute_reply": "2022-12-21T05:16:03.442065Z",
     "shell.execute_reply.started": "2022-12-21T05:16:03.434929Z"
    },
    "tags": []
   },
   "outputs": [],
   "source": [
    "monkeys['humn'] = sympy.symbols('x')"
   ]
  },
  {
   "cell_type": "code",
   "execution_count": 111,
   "metadata": {
    "execution": {
     "iopub.execute_input": "2022-12-21T05:16:04.921031Z",
     "iopub.status.busy": "2022-12-21T05:16:04.920488Z",
     "iopub.status.idle": "2022-12-21T05:16:04.935618Z",
     "shell.execute_reply": "2022-12-21T05:16:04.934342Z",
     "shell.execute_reply.started": "2022-12-21T05:16:04.920993Z"
    },
    "tags": []
   },
   "outputs": [],
   "source": [
    "def dfs(name):\n",
    "  if name not in monkeys or name == 'humn':\n",
    "    return name\n",
    "  if type(monkeys[name]) == int:\n",
    "    return monkeys[name]\n",
    "  arg1 = dfs(monkeys[name][0])\n",
    "  arg2 = dfs(monkeys[name][2])\n",
    "  # print(name, arg1, arg2, type(arg1))\n",
    "  # if type(arg2) == str:\n",
    "  #   arg1, arg2 = arg2, arg1\n",
    "  \n",
    "  if monkeys[name][1] == '+':\n",
    "    if type(arg1) == str or type(arg2) == str:\n",
    "      return f'({arg1} + {arg2})'\n",
    "    return arg1 + arg2\n",
    "  elif monkeys[name][1] == '-':\n",
    "    if type(arg1) == str or type(arg2) == str:\n",
    "      return f'({arg1} - {arg2})'\n",
    "    return arg1 - arg2\n",
    "  elif monkeys[name][1] == '*':\n",
    "    if type(arg1) == str or type(arg2) == str:\n",
    "      return f'({arg1} * {arg2})'\n",
    "    return arg1 * arg2\n",
    "  elif monkeys[name][1] == '/':\n",
    "    if type(arg1) == str or type(arg2) == str:\n",
    "      return f'({arg1} / {arg2})'\n",
    "    if arg1 % arg2 != 0:\n",
    "      raise Exception()\n",
    "    return arg1 // arg2\n",
    "  raise Exception()"
   ]
  },
  {
   "cell_type": "code",
   "execution_count": 120,
   "metadata": {
    "execution": {
     "iopub.execute_input": "2022-12-21T05:17:48.332336Z",
     "iopub.status.busy": "2022-12-21T05:17:48.331532Z",
     "iopub.status.idle": "2022-12-21T05:17:48.345967Z",
     "shell.execute_reply": "2022-12-21T05:17:48.345239Z",
     "shell.execute_reply.started": "2022-12-21T05:17:48.332304Z"
    },
    "tags": []
   },
   "outputs": [
    {
     "data": {
      "text/plain": [
       "('pvgq', '+', 'ngpl')"
      ]
     },
     "execution_count": 120,
     "metadata": {},
     "output_type": "execute_result"
    }
   ],
   "source": [
    "monkeys['root']"
   ]
  },
  {
   "cell_type": "code",
   "execution_count": 121,
   "metadata": {
    "execution": {
     "iopub.execute_input": "2022-12-21T05:17:49.887007Z",
     "iopub.status.busy": "2022-12-21T05:17:49.886683Z",
     "iopub.status.idle": "2022-12-21T05:17:49.895583Z",
     "shell.execute_reply": "2022-12-21T05:17:49.894478Z",
     "shell.execute_reply.started": "2022-12-21T05:17:49.886988Z"
    },
    "tags": []
   },
   "outputs": [],
   "source": [
    "humn = sympy.symbols('x')"
   ]
  },
  {
   "cell_type": "code",
   "execution_count": 115,
   "metadata": {
    "execution": {
     "iopub.execute_input": "2022-12-21T05:16:10.395718Z",
     "iopub.status.busy": "2022-12-21T05:16:10.395262Z",
     "iopub.status.idle": "2022-12-21T05:16:10.409577Z",
     "shell.execute_reply": "2022-12-21T05:16:10.408604Z",
     "shell.execute_reply.started": "2022-12-21T05:16:10.395689Z"
    },
    "tags": []
   },
   "outputs": [
    {
     "data": {
      "text/plain": [
       "'((954 + ((48997987172498 - (3 * (((((348 + ((((110 + (((15 * (498 + ((((((((((840 + (4 * (835 + (((2 * ((((36 * ((((((2 * (((62 + (2 * (((((((((5 * (((926 + ((4 * ((10 * (249 + ((903 + (humn - 730)) / 2))) + 533)) - 891)) / 3) - 310)) + 868) + 19) / 2) + 544) / 5) - 373) * 7) - 497))) / 2) - 126)) + 883) / 7) - 698) / 9) + 61)) - 380) / 4) + 774)) - 623) / 3)))) * 2) - 527) / 11) + 980) / 5) - 351) * 7) - 34) / 11))) - 552) / 6)) * 30) - 594) / 2)) * 2) + 55) / 11) - 393))) / 2)) * 8)'"
      ]
     },
     "execution_count": 115,
     "metadata": {},
     "output_type": "execute_result"
    }
   ],
   "source": [
    "dfs('pvgq')"
   ]
  },
  {
   "cell_type": "code",
   "execution_count": 116,
   "metadata": {
    "execution": {
     "iopub.execute_input": "2022-12-21T05:16:11.553175Z",
     "iopub.status.busy": "2022-12-21T05:16:11.552866Z",
     "iopub.status.idle": "2022-12-21T05:16:11.569591Z",
     "shell.execute_reply": "2022-12-21T05:16:11.568852Z",
     "shell.execute_reply.started": "2022-12-21T05:16:11.553154Z"
    },
    "tags": []
   },
   "outputs": [
    {
     "data": {
      "text/latex": [
       "$\\displaystyle \\frac{260865283637126496}{1331} - \\frac{44800 x}{1331}$"
      ],
      "text/plain": [
       "260865283637126496/1331 - 44800*x/1331"
      ]
     },
     "execution_count": 116,
     "metadata": {},
     "output_type": "execute_result"
    }
   ],
   "source": [
    "eval(_)"
   ]
  },
  {
   "cell_type": "code",
   "execution_count": 98,
   "metadata": {
    "execution": {
     "iopub.execute_input": "2022-12-21T05:15:10.333260Z",
     "iopub.status.busy": "2022-12-21T05:15:10.333025Z",
     "iopub.status.idle": "2022-12-21T05:15:10.335785Z",
     "shell.execute_reply": "2022-12-21T05:15:10.335319Z",
     "shell.execute_reply.started": "2022-12-21T05:15:10.333252Z"
    },
    "tags": []
   },
   "outputs": [
    {
     "data": {
      "text/plain": [
       "150"
      ]
     },
     "execution_count": 98,
     "metadata": {},
     "output_type": "execute_result"
    }
   ],
   "source": [
    "dfs('sjmn')"
   ]
  },
  {
   "cell_type": "code",
   "execution_count": 117,
   "metadata": {
    "execution": {
     "iopub.execute_input": "2022-12-21T05:16:20.384821Z",
     "iopub.status.busy": "2022-12-21T05:16:20.384504Z",
     "iopub.status.idle": "2022-12-21T05:16:20.400057Z",
     "shell.execute_reply": "2022-12-21T05:16:20.399237Z",
     "shell.execute_reply.started": "2022-12-21T05:16:20.384802Z"
    },
    "tags": []
   },
   "outputs": [
    {
     "data": {
      "text/plain": [
       "[3441198826073]"
      ]
     },
     "execution_count": 117,
     "metadata": {},
     "output_type": "execute_result"
    }
   ],
   "source": [
    "sympy.solve(eval(dfs('pvgq')) - dfs('ngpl'))"
   ]
  },
  {
   "cell_type": "code",
   "execution_count": 119,
   "metadata": {
    "execution": {
     "iopub.execute_input": "2022-12-21T05:16:27.725680Z",
     "iopub.status.busy": "2022-12-21T05:16:27.725117Z",
     "iopub.status.idle": "2022-12-21T05:16:27.908049Z",
     "shell.execute_reply": "2022-12-21T05:16:27.907019Z",
     "shell.execute_reply.started": "2022-12-21T05:16:27.725631Z"
    },
    "tags": []
   },
   "outputs": [
    {
     "name": "stdout",
     "output_type": "stream",
     "text": [
      "Submitting 3441198826073...\n"
     ]
    },
    {
     "data": {
      "text/plain": [
       "True"
      ]
     },
     "execution_count": 119,
     "metadata": {},
     "output_type": "execute_result"
    }
   ],
   "source": [
    "submit2(3441198826073)"
   ]
  },
  {
   "cell_type": "code",
   "execution_count": 101,
   "metadata": {
    "execution": {
     "iopub.execute_input": "2022-12-21T05:15:39.176390Z",
     "iopub.status.busy": "2022-12-21T05:15:39.175845Z",
     "iopub.status.idle": "2022-12-21T05:15:39.187621Z",
     "shell.execute_reply": "2022-12-21T05:15:39.186606Z",
     "shell.execute_reply.started": "2022-12-21T05:15:39.176340Z"
    },
    "tags": []
   },
   "outputs": [
    {
     "data": {
      "text/plain": [
       "False"
      ]
     },
     "execution_count": 101,
     "metadata": {},
     "output_type": "execute_result"
    }
   ],
   "source": [
    "dfs('pppw') == dfs('sjmn')"
   ]
  },
  {
   "cell_type": "code",
   "execution_count": null,
   "metadata": {},
   "outputs": [],
   "source": []
  },
  {
   "cell_type": "code",
   "execution_count": null,
   "metadata": {},
   "outputs": [],
   "source": []
  },
  {
   "cell_type": "code",
   "execution_count": 143,
   "metadata": {
    "execution": {
     "iopub.execute_input": "2022-12-21T05:22:54.068430Z",
     "iopub.status.busy": "2022-12-21T05:22:54.068101Z",
     "iopub.status.idle": "2022-12-21T05:22:54.074808Z",
     "shell.execute_reply": "2022-12-21T05:22:54.073838Z",
     "shell.execute_reply.started": "2022-12-21T05:22:54.068408Z"
    },
    "tags": []
   },
   "outputs": [
    {
     "data": {
      "text/plain": [
       "('pvgq', '+', 'ngpl')"
      ]
     },
     "execution_count": 143,
     "metadata": {},
     "output_type": "execute_result"
    }
   ],
   "source": [
    "monkeys['root']"
   ]
  },
  {
   "cell_type": "code",
   "execution_count": 144,
   "metadata": {
    "execution": {
     "iopub.execute_input": "2022-12-21T05:22:54.231342Z",
     "iopub.status.busy": "2022-12-21T05:22:54.230934Z",
     "iopub.status.idle": "2022-12-21T05:22:54.239755Z",
     "shell.execute_reply": "2022-12-21T05:22:54.236928Z",
     "shell.execute_reply.started": "2022-12-21T05:22:54.231321Z"
    },
    "tags": []
   },
   "outputs": [],
   "source": [
    "humn = sympy.symbols('x')"
   ]
  },
  {
   "cell_type": "code",
   "execution_count": 145,
   "metadata": {
    "execution": {
     "iopub.execute_input": "2022-12-21T05:22:54.423000Z",
     "iopub.status.busy": "2022-12-21T05:22:54.422197Z",
     "iopub.status.idle": "2022-12-21T05:22:54.435220Z",
     "shell.execute_reply": "2022-12-21T05:22:54.434416Z",
     "shell.execute_reply.started": "2022-12-21T05:22:54.422955Z"
    },
    "tags": []
   },
   "outputs": [
    {
     "data": {
      "text/plain": [
       "'((954 + ((48997987172498 - (3 * (((((348 + ((((110 + (((15 * (498 + ((((((((((840 + (4 * (835 + (((2 * ((((36 * ((((((2 * (((62 + (2 * (((((((((5 * (((926 + ((4 * ((10 * (249 + ((903 + (humn - 730)) / 2))) + 533)) - 891)) / 3) - 310)) + 868) + 19) / 2) + 544) / 5) - 373) * 7) - 497))) / 2) - 126)) + 883) / 7) - 698) / 9) + 61)) - 380) / 4) + 774)) - 623) / 3)))) * 2) - 527) / 11) + 980) / 5) - 351) * 7) - 34) / 11))) - 552) / 6)) * 30) - 594) / 2)) * 2) + 55) / 11) - 393))) / 2)) * 8)'"
      ]
     },
     "execution_count": 145,
     "metadata": {},
     "output_type": "execute_result"
    }
   ],
   "source": [
    "dfs(monkeys['root'][0])"
   ]
  },
  {
   "cell_type": "code",
   "execution_count": 146,
   "metadata": {
    "execution": {
     "iopub.execute_input": "2022-12-21T05:22:54.737205Z",
     "iopub.status.busy": "2022-12-21T05:22:54.736547Z",
     "iopub.status.idle": "2022-12-21T05:22:54.752863Z",
     "shell.execute_reply": "2022-12-21T05:22:54.751897Z",
     "shell.execute_reply.started": "2022-12-21T05:22:54.737164Z"
    },
    "tags": []
   },
   "outputs": [
    {
     "data": {
      "text/latex": [
       "$\\displaystyle \\frac{260865283637126496}{1331} - \\frac{44800 x}{1331}$"
      ],
      "text/plain": [
       "260865283637126496/1331 - 44800*x/1331"
      ]
     },
     "execution_count": 146,
     "metadata": {},
     "output_type": "execute_result"
    }
   ],
   "source": [
    "eval(dfs(monkeys['root'][0]))"
   ]
  },
  {
   "cell_type": "code",
   "execution_count": 147,
   "metadata": {
    "execution": {
     "iopub.execute_input": "2022-12-21T05:22:55.470519Z",
     "iopub.status.busy": "2022-12-21T05:22:55.468196Z",
     "iopub.status.idle": "2022-12-21T05:22:55.487491Z",
     "shell.execute_reply": "2022-12-21T05:22:55.486568Z",
     "shell.execute_reply.started": "2022-12-21T05:22:55.470470Z"
    },
    "tags": []
   },
   "outputs": [
    {
     "data": {
      "text/plain": [
       "80164970870816"
      ]
     },
     "execution_count": 147,
     "metadata": {},
     "output_type": "execute_result"
    }
   ],
   "source": [
    "dfs(monkeys['root'][2])"
   ]
  },
  {
   "cell_type": "code",
   "execution_count": 148,
   "metadata": {
    "execution": {
     "iopub.execute_input": "2022-12-21T05:22:56.188385Z",
     "iopub.status.busy": "2022-12-21T05:22:56.188082Z",
     "iopub.status.idle": "2022-12-21T05:22:56.199102Z",
     "shell.execute_reply": "2022-12-21T05:22:56.195587Z",
     "shell.execute_reply.started": "2022-12-21T05:22:56.188367Z"
    },
    "tags": []
   },
   "outputs": [
    {
     "data": {
      "text/plain": [
       "3441198826073.0"
      ]
     },
     "execution_count": 148,
     "metadata": {},
     "output_type": "execute_result"
    }
   ],
   "source": [
    "(260865283637126496 - dfs(monkeys['root'][2]) * 1331) / 44800"
   ]
  },
  {
   "cell_type": "code",
   "execution_count": 138,
   "metadata": {
    "execution": {
     "iopub.execute_input": "2022-12-21T05:21:39.059005Z",
     "iopub.status.busy": "2022-12-21T05:21:39.058701Z",
     "iopub.status.idle": "2022-12-21T05:21:39.069290Z",
     "shell.execute_reply": "2022-12-21T05:21:39.068564Z",
     "shell.execute_reply.started": "2022-12-21T05:21:39.058986Z"
    },
    "tags": []
   },
   "outputs": [
    {
     "data": {
      "text/plain": [
       "80164970870816"
      ]
     },
     "execution_count": 138,
     "metadata": {},
     "output_type": "execute_result"
    }
   ],
   "source": [
    "dfs(monkeys['root'][2])"
   ]
  },
  {
   "cell_type": "code",
   "execution_count": 139,
   "metadata": {
    "execution": {
     "iopub.execute_input": "2022-12-21T05:21:39.379616Z",
     "iopub.status.busy": "2022-12-21T05:21:39.379260Z",
     "iopub.status.idle": "2022-12-21T05:21:39.394802Z",
     "shell.execute_reply": "2022-12-21T05:21:39.394032Z",
     "shell.execute_reply.started": "2022-12-21T05:21:39.379594Z"
    },
    "tags": []
   },
   "outputs": [
    {
     "data": {
      "text/plain": [
       "[3441198826073]"
      ]
     },
     "execution_count": 139,
     "metadata": {},
     "output_type": "execute_result"
    }
   ],
   "source": [
    "sympy.solve(eval(dfs(monkeys['root'][0])) - dfs(monkeys['root'][2]))"
   ]
  },
  {
   "cell_type": "code",
   "execution_count": null,
   "metadata": {},
   "outputs": [],
   "source": []
  },
  {
   "cell_type": "code",
   "execution_count": null,
   "metadata": {},
   "outputs": [],
   "source": []
  },
  {
   "cell_type": "code",
   "execution_count": 172,
   "metadata": {
    "execution": {
     "iopub.execute_input": "2022-12-21T05:30:35.788683Z",
     "iopub.status.busy": "2022-12-21T05:30:35.788112Z",
     "iopub.status.idle": "2022-12-21T05:30:35.798006Z",
     "shell.execute_reply": "2022-12-21T05:30:35.797351Z",
     "shell.execute_reply.started": "2022-12-21T05:30:35.788658Z"
    },
    "tags": []
   },
   "outputs": [],
   "source": [
    "monkeys['humn'] = sympy.symbols('x')"
   ]
  },
  {
   "cell_type": "code",
   "execution_count": 176,
   "metadata": {
    "execution": {
     "iopub.execute_input": "2022-12-21T05:30:43.046281Z",
     "iopub.status.busy": "2022-12-21T05:30:43.045943Z",
     "iopub.status.idle": "2022-12-21T05:30:43.060109Z",
     "shell.execute_reply": "2022-12-21T05:30:43.059070Z",
     "shell.execute_reply.started": "2022-12-21T05:30:43.046259Z"
    },
    "tags": []
   },
   "outputs": [],
   "source": [
    "def dfs(name):\n",
    "  if type(monkeys[name]) != tuple:\n",
    "    return monkeys[name]\n",
    "  arg1 = dfs(monkeys[name][0])\n",
    "  arg2 = dfs(monkeys[name][2])\n",
    "  \n",
    "  if monkeys[name][1] == '+':\n",
    "    return arg1 + arg2\n",
    "  elif monkeys[name][1] == '-':\n",
    "    return arg1 - arg2\n",
    "  elif monkeys[name][1] == '*':\n",
    "    return arg1 * arg2\n",
    "  elif monkeys[name][1] == '/':\n",
    "    # print(arg1 % arg2)\n",
    "    return arg1 / arg2\n",
    "  raise Exception()"
   ]
  },
  {
   "cell_type": "code",
   "execution_count": 177,
   "metadata": {
    "execution": {
     "iopub.execute_input": "2022-12-21T05:30:43.614707Z",
     "iopub.status.busy": "2022-12-21T05:30:43.614335Z",
     "iopub.status.idle": "2022-12-21T05:30:43.630181Z",
     "shell.execute_reply": "2022-12-21T05:30:43.629740Z",
     "shell.execute_reply.started": "2022-12-21T05:30:43.614687Z"
    },
    "tags": []
   },
   "outputs": [
    {
     "data": {
      "text/plain": [
       "('pvgq', '+', 'ngpl')"
      ]
     },
     "execution_count": 177,
     "metadata": {},
     "output_type": "execute_result"
    }
   ],
   "source": [
    "monkeys['root']"
   ]
  },
  {
   "cell_type": "code",
   "execution_count": 178,
   "metadata": {
    "execution": {
     "iopub.execute_input": "2022-12-21T05:30:44.118885Z",
     "iopub.status.busy": "2022-12-21T05:30:44.118574Z",
     "iopub.status.idle": "2022-12-21T05:30:44.140104Z",
     "shell.execute_reply": "2022-12-21T05:30:44.139824Z",
     "shell.execute_reply.started": "2022-12-21T05:30:44.118866Z"
    },
    "tags": []
   },
   "outputs": [
    {
     "data": {
      "text/plain": [
       "[3441198826072.99]"
      ]
     },
     "execution_count": 178,
     "metadata": {},
     "output_type": "execute_result"
    }
   ],
   "source": [
    "sympy.solve(dfs(monkeys['root'][0]) - dfs(monkeys['root'][2]))"
   ]
  },
  {
   "cell_type": "code",
   "execution_count": 251,
   "metadata": {
    "execution": {
     "iopub.execute_input": "2022-12-21T05:51:53.057747Z",
     "iopub.status.busy": "2022-12-21T05:51:53.057330Z",
     "iopub.status.idle": "2022-12-21T05:51:53.067781Z",
     "shell.execute_reply": "2022-12-21T05:51:53.066890Z",
     "shell.execute_reply.started": "2022-12-21T05:51:53.057720Z"
    },
    "tags": []
   },
   "outputs": [
    {
     "data": {
      "text/plain": [
       "115826977767145.31"
      ]
     },
     "execution_count": 251,
     "metadata": {},
     "output_type": "execute_result"
    }
   ],
   "source": [
    "dfs(monkeys['root'][0]) - dfs(monkeys['root'][2])"
   ]
  },
  {
   "cell_type": "code",
   "execution_count": null,
   "metadata": {},
   "outputs": [],
   "source": []
  },
  {
   "cell_type": "code",
   "execution_count": null,
   "metadata": {},
   "outputs": [],
   "source": []
  },
  {
   "cell_type": "code",
   "execution_count": 252,
   "metadata": {
    "execution": {
     "iopub.execute_input": "2022-12-21T05:51:57.330264Z",
     "iopub.status.busy": "2022-12-21T05:51:57.329665Z",
     "iopub.status.idle": "2022-12-21T05:51:57.342436Z",
     "shell.execute_reply": "2022-12-21T05:51:57.341568Z",
     "shell.execute_reply.started": "2022-12-21T05:51:57.330238Z"
    },
    "tags": []
   },
   "outputs": [],
   "source": [
    "def f(x):\n",
    "  monkeys['humn'] = x\n",
    "  return dfs(monkeys['root'][0]) - dfs(monkeys['root'][2])"
   ]
  },
  {
   "cell_type": "code",
   "execution_count": 266,
   "metadata": {
    "execution": {
     "iopub.execute_input": "2022-12-21T05:56:05.667943Z",
     "iopub.status.busy": "2022-12-21T05:56:05.667300Z",
     "iopub.status.idle": "2022-12-21T05:56:05.684253Z",
     "shell.execute_reply": "2022-12-21T05:56:05.683535Z",
     "shell.execute_reply.started": "2022-12-21T05:56:05.667922Z"
    },
    "tags": []
   },
   "outputs": [
    {
     "data": {
      "text/latex": [
       "$\\displaystyle 115826977767145.0 - \\frac{44800 x}{1331}$"
      ],
      "text/plain": [
       "115826977767145.0 - 44800*x/1331"
      ]
     },
     "execution_count": 266,
     "metadata": {},
     "output_type": "execute_result"
    }
   ],
   "source": [
    "f(sympy.symbols('x'))"
   ]
  },
  {
   "cell_type": "code",
   "execution_count": 267,
   "metadata": {
    "execution": {
     "iopub.execute_input": "2022-12-21T05:56:06.646643Z",
     "iopub.status.busy": "2022-12-21T05:56:06.645793Z",
     "iopub.status.idle": "2022-12-21T05:56:06.655971Z",
     "shell.execute_reply": "2022-12-21T05:56:06.655585Z",
     "shell.execute_reply.started": "2022-12-21T05:56:06.646338Z"
    },
    "tags": []
   },
   "outputs": [
    {
     "data": {
      "text/latex": [
       "$\\displaystyle 195991948637961.0 - \\frac{44800 x}{1331}$"
      ],
      "text/plain": [
       "195991948637961.0 - 44800*x/1331"
      ]
     },
     "execution_count": 267,
     "metadata": {},
     "output_type": "execute_result"
    }
   ],
   "source": [
    "dfs(monkeys['root'][0])"
   ]
  },
  {
   "cell_type": "code",
   "execution_count": 253,
   "metadata": {
    "execution": {
     "iopub.execute_input": "2022-12-21T05:51:58.715856Z",
     "iopub.status.busy": "2022-12-21T05:51:58.715515Z",
     "iopub.status.idle": "2022-12-21T05:51:58.737701Z",
     "shell.execute_reply": "2022-12-21T05:51:58.736958Z",
     "shell.execute_reply.started": "2022-12-21T05:51:58.715837Z"
    },
    "tags": []
   },
   "outputs": [
    {
     "data": {
      "text/plain": [
       "(3.3658903080390675e+201, -3.3658903080390675e+201)"
      ]
     },
     "execution_count": 253,
     "metadata": {},
     "output_type": "execute_result"
    }
   ],
   "source": [
    "l = -1e200\n",
    "r = 1e200\n",
    "f(l), f(r)"
   ]
  },
  {
   "cell_type": "code",
   "execution_count": 257,
   "metadata": {
    "execution": {
     "iopub.execute_input": "2022-12-21T05:52:33.870193Z",
     "iopub.status.busy": "2022-12-21T05:52:33.869693Z",
     "iopub.status.idle": "2022-12-21T05:52:33.883632Z",
     "shell.execute_reply": "2022-12-21T05:52:33.882802Z",
     "shell.execute_reply.started": "2022-12-21T05:52:33.870171Z"
    },
    "tags": []
   },
   "outputs": [
    {
     "data": {
      "text/plain": [
       "3441198826072.999"
      ]
     },
     "execution_count": 257,
     "metadata": {},
     "output_type": "execute_result"
    }
   ],
   "source": [
    "while r - l > 1e-3:\n",
    "  m = (l + r) / 2\n",
    "  if f(m) > 0:\n",
    "    l = m\n",
    "  else:\n",
    "    r = m\n",
    "l"
   ]
  },
  {
   "cell_type": "code",
   "execution_count": 262,
   "metadata": {
    "execution": {
     "iopub.execute_input": "2022-12-21T05:53:00.364717Z",
     "iopub.status.busy": "2022-12-21T05:53:00.364409Z",
     "iopub.status.idle": "2022-12-21T05:53:00.378253Z",
     "shell.execute_reply": "2022-12-21T05:53:00.377489Z",
     "shell.execute_reply.started": "2022-12-21T05:53:00.364698Z"
    },
    "tags": []
   },
   "outputs": [
    {
     "data": {
      "text/plain": [
       "(115826977767145.31, 115826977767145.0)"
      ]
     },
     "execution_count": 262,
     "metadata": {},
     "output_type": "execute_result"
    }
   ],
   "source": [
    "b = f(0)\n",
    "b, 115826977767145.0"
   ]
  },
  {
   "cell_type": "code",
   "execution_count": 259,
   "metadata": {
    "execution": {
     "iopub.execute_input": "2022-12-21T05:52:36.086252Z",
     "iopub.status.busy": "2022-12-21T05:52:36.085905Z",
     "iopub.status.idle": "2022-12-21T05:52:36.096360Z",
     "shell.execute_reply": "2022-12-21T05:52:36.095353Z",
     "shell.execute_reply.started": "2022-12-21T05:52:36.086230Z"
    },
    "tags": []
   },
   "outputs": [
    {
     "data": {
      "text/plain": [
       "-33.65890308039068"
      ]
     },
     "execution_count": 259,
     "metadata": {},
     "output_type": "execute_result"
    }
   ],
   "source": [
    "a = f(1e200) / 1e200\n",
    "a"
   ]
  },
  {
   "cell_type": "code",
   "execution_count": 261,
   "metadata": {
    "execution": {
     "iopub.execute_input": "2022-12-21T05:52:45.555032Z",
     "iopub.status.busy": "2022-12-21T05:52:45.554726Z",
     "iopub.status.idle": "2022-12-21T05:52:45.561938Z",
     "shell.execute_reply": "2022-12-21T05:52:45.561150Z",
     "shell.execute_reply.started": "2022-12-21T05:52:45.555014Z"
    },
    "tags": []
   },
   "outputs": [
    {
     "data": {
      "text/plain": [
       "3441198826072.991"
      ]
     },
     "execution_count": 261,
     "metadata": {},
     "output_type": "execute_result"
    }
   ],
   "source": [
    "-115826977767145.0 / a"
   ]
  },
  {
   "cell_type": "code",
   "execution_count": 249,
   "metadata": {
    "execution": {
     "iopub.execute_input": "2022-12-21T05:51:01.771063Z",
     "iopub.status.busy": "2022-12-21T05:51:01.770533Z",
     "iopub.status.idle": "2022-12-21T05:51:01.787451Z",
     "shell.execute_reply": "2022-12-21T05:51:01.786522Z",
     "shell.execute_reply.started": "2022-12-21T05:51:01.771026Z"
    },
    "tags": []
   },
   "outputs": [
    {
     "data": {
      "text/plain": [
       "-33.65890308039069"
      ]
     },
     "execution_count": 249,
     "metadata": {},
     "output_type": "execute_result"
    }
   ],
   "source": [
    "-44800/1331"
   ]
  },
  {
   "cell_type": "code",
   "execution_count": 248,
   "metadata": {
    "execution": {
     "iopub.execute_input": "2022-12-21T05:50:38.383866Z",
     "iopub.status.busy": "2022-12-21T05:50:38.383564Z",
     "iopub.status.idle": "2022-12-21T05:50:38.388143Z",
     "shell.execute_reply": "2022-12-21T05:50:38.387797Z",
     "shell.execute_reply.started": "2022-12-21T05:50:38.383849Z"
    },
    "tags": []
   },
   "outputs": [
    {
     "data": {
      "text/plain": [
       "-33.65625"
      ]
     },
     "execution_count": 248,
     "metadata": {},
     "output_type": "execute_result"
    }
   ],
   "source": [
    "b = f(0)\n",
    "a = f(-1)  b\n",
    "a"
   ]
  },
  {
   "cell_type": "code",
   "execution_count": null,
   "metadata": {},
   "outputs": [],
   "source": []
  },
  {
   "cell_type": "code",
   "execution_count": null,
   "metadata": {},
   "outputs": [],
   "source": []
  },
  {
   "cell_type": "code",
   "execution_count": 290,
   "metadata": {
    "execution": {
     "iopub.execute_input": "2022-12-21T06:01:15.178227Z",
     "iopub.status.busy": "2022-12-21T06:01:15.177515Z",
     "iopub.status.idle": "2022-12-21T06:01:15.191063Z",
     "shell.execute_reply": "2022-12-21T06:01:15.190224Z",
     "shell.execute_reply.started": "2022-12-21T06:01:15.178184Z"
    },
    "tags": []
   },
   "outputs": [
    {
     "data": {
      "text/plain": [
       "195991948637961.0"
      ]
     },
     "execution_count": 290,
     "metadata": {},
     "output_type": "execute_result"
    }
   ],
   "source": [
    "s = '((954 + ((48997987172498 - (3 * (((((348 + ((((110 + (((15 * (498 + ((((((((((840 + (4 * (835 + (((2 * ((((36 * ((((((2 * (((62 + (2 * (((((((((5 * (((926 + ((4 * ((10 * (249 + ((903 + (humn - 730)) / 2))) + 533)) - 891)) / 3) - 310)) + 868) + 19) / 2) + 544) / 5) - 373) * 7) - 497))) / 2) - 126)) + 883) / 7) - 698) / 9) + 61)) - 380) / 4) + 774)) - 623) / 3)))) * 2) - 527) / 11) + 980) / 5) - 351) * 7) - 34) / 11))) - 552) / 6)) * 30) - 594) / 2)) * 2) + 55) / 11) - 393))) / 2)) * 8)'\n",
    "eval(s.replace('humn', '0.0091'))"
   ]
  },
  {
   "cell_type": "code",
   "execution_count": 316,
   "metadata": {
    "execution": {
     "iopub.execute_input": "2022-12-21T06:08:33.821952Z",
     "iopub.status.busy": "2022-12-21T06:08:33.821534Z",
     "iopub.status.idle": "2022-12-21T06:08:33.832611Z",
     "shell.execute_reply": "2022-12-21T06:08:33.831643Z",
     "shell.execute_reply.started": "2022-12-21T06:08:33.821924Z"
    },
    "tags": []
   },
   "outputs": [
    {
     "data": {
      "text/plain": [
       "mpf('0.33333333333333333333333333333333333333333333333333333333333333333333333333333333333333333333333333333333333333333333333333333333333333333333333333333333333333333333333333333333333333333333333333333333333333333333333333333333333333333333333333333333333333333333333333333333333333333333333333333333333333333333333333333333333333333333333333333333333333333333333333333333333333333333333333333333333333333333333333333333333333333333333333333333333333333333333333333333333333333333333333333333333333333333354')"
      ]
     },
     "execution_count": 316,
     "metadata": {},
     "output_type": "execute_result"
    }
   ],
   "source": [
    "import mpmath\n",
    "mpmath.mp.dps = 500\n",
    "mpmath.mpf(1)/3"
   ]
  },
  {
   "cell_type": "code",
   "execution_count": 317,
   "metadata": {
    "execution": {
     "iopub.execute_input": "2022-12-21T06:08:41.930387Z",
     "iopub.status.busy": "2022-12-21T06:08:41.929851Z",
     "iopub.status.idle": "2022-12-21T06:08:41.942403Z",
     "shell.execute_reply": "2022-12-21T06:08:41.941358Z",
     "shell.execute_reply.started": "2022-12-21T06:08:41.930350Z"
    },
    "tags": []
   },
   "outputs": [
    {
     "data": {
      "text/plain": [
       "mpf('115826977767145.30428249436513899323816679188580015026296018031555221637866265965439519158527422990232907588279489105935386927122464312546957175056348610067618332081141998497370398196844477836213373403456048084147257700976709241172051089406461307287753568745304282494365138993238166791885800150262960180315552216378662659654395191585274229902329075882794891059353869271224643125469571750563486100676183320811419984973703981968444778362133734034560480841472577009767092411720510894064613072877535687453052')"
      ]
     },
     "execution_count": 317,
     "metadata": {},
     "output_type": "execute_result"
    }
   ],
   "source": [
    "f(mpmath.mpf(0))"
   ]
  },
  {
   "cell_type": "code",
   "execution_count": 336,
   "metadata": {
    "execution": {
     "iopub.execute_input": "2022-12-21T06:14:54.006865Z",
     "iopub.status.busy": "2022-12-21T06:14:54.006314Z",
     "iopub.status.idle": "2022-12-21T06:14:54.015512Z",
     "shell.execute_reply": "2022-12-21T06:14:54.012216Z",
     "shell.execute_reply.started": "2022-12-21T06:14:54.006829Z"
    },
    "tags": []
   },
   "outputs": [],
   "source": [
    "def f(x):\n",
    "  monkeys['humn'] = x\n",
    "  return dfs(monkeys['root'][0]) - dfs(monkeys['root'][2])"
   ]
  },
  {
   "cell_type": "code",
   "execution_count": 337,
   "metadata": {
    "execution": {
     "iopub.execute_input": "2022-12-21T06:14:54.208234Z",
     "iopub.status.busy": "2022-12-21T06:14:54.207905Z",
     "iopub.status.idle": "2022-12-21T06:14:54.217048Z",
     "shell.execute_reply": "2022-12-21T06:14:54.216509Z",
     "shell.execute_reply.started": "2022-12-21T06:14:54.208215Z"
    }
   },
   "outputs": [
    {
     "data": {
      "text/plain": [
       "3441198826073"
      ]
     },
     "execution_count": 337,
     "metadata": {},
     "output_type": "execute_result"
    }
   ],
   "source": [
    "# actual answer\n",
    "3441198826073"
   ]
  },
  {
   "cell_type": "code",
   "execution_count": 338,
   "metadata": {
    "execution": {
     "iopub.execute_input": "2022-12-21T06:14:54.451309Z",
     "iopub.status.busy": "2022-12-21T06:14:54.450876Z",
     "iopub.status.idle": "2022-12-21T06:14:54.463206Z",
     "shell.execute_reply": "2022-12-21T06:14:54.462462Z",
     "shell.execute_reply.started": "2022-12-21T06:14:54.451281Z"
    },
    "tags": []
   },
   "outputs": [
    {
     "data": {
      "text/plain": [
       "3441470091502.925"
      ]
     },
     "execution_count": 338,
     "metadata": {},
     "output_type": "execute_result"
    }
   ],
   "source": [
    "b = f(0)\n",
    "a = f(1) - b\n",
    "-b / a"
   ]
  },
  {
   "cell_type": "code",
   "execution_count": 339,
   "metadata": {
    "execution": {
     "iopub.execute_input": "2022-12-21T06:14:55.038236Z",
     "iopub.status.busy": "2022-12-21T06:14:55.037923Z",
     "iopub.status.idle": "2022-12-21T06:14:55.051368Z",
     "shell.execute_reply": "2022-12-21T06:14:55.050743Z",
     "shell.execute_reply.started": "2022-12-21T06:14:55.038216Z"
    },
    "tags": []
   },
   "outputs": [
    {
     "data": {
      "text/plain": [
       "mpf('3441198826072.9999999999999999999999999999999999999999999999999999999999999999999999999999999999999999999999999999999999999999999999999999999999999999999999999999999999999999999999999999999999999999999999999999999999999999999999999999999999999999999999999999999999999999999999999999999999999999999999999999999999999999999999999999999999999999999999999999999999999999999999999999999999999999999999999999999999999999999999999999999999999999999999999999999999999999999999999999999999999999999871095636665854')"
      ]
     },
     "execution_count": 339,
     "metadata": {},
     "output_type": "execute_result"
    }
   ],
   "source": [
    "b = f(mpmath.mpf(0))\n",
    "a = f(mpmath.mpf(1)) - b\n",
    "-b / a"
   ]
  },
  {
   "cell_type": "code",
   "execution_count": 333,
   "metadata": {
    "execution": {
     "iopub.execute_input": "2022-12-21T06:13:42.423509Z",
     "iopub.status.busy": "2022-12-21T06:13:42.423208Z",
     "iopub.status.idle": "2022-12-21T06:13:42.431550Z",
     "shell.execute_reply": "2022-12-21T06:13:42.430583Z",
     "shell.execute_reply.started": "2022-12-21T06:13:42.423490Z"
    },
    "tags": []
   },
   "outputs": [
    {
     "data": {
      "text/plain": [
       "3441198826073"
      ]
     },
     "execution_count": 333,
     "metadata": {},
     "output_type": "execute_result"
    }
   ],
   "source": []
  },
  {
   "cell_type": "code",
   "execution_count": 310,
   "metadata": {
    "execution": {
     "iopub.execute_input": "2022-12-21T06:07:41.395236Z",
     "iopub.status.busy": "2022-12-21T06:07:41.394614Z",
     "iopub.status.idle": "2022-12-21T06:07:41.415986Z",
     "shell.execute_reply": "2022-12-21T06:07:41.414724Z",
     "shell.execute_reply.started": "2022-12-21T06:07:41.395199Z"
    },
    "tags": []
   },
   "outputs": [
    {
     "ename": "AttributeError",
     "evalue": "module 'mpmath' has no attribute 'prec'",
     "output_type": "error",
     "traceback": [
      "\u001b[0;31m---------------------------------------------------------------------------\u001b[0m",
      "\u001b[0;31mAttributeError\u001b[0m                            Traceback (most recent call last)",
      "Cell \u001b[0;32mIn[310], line 1\u001b[0m\n\u001b[0;32m----> 1\u001b[0m \u001b[43mmp\u001b[49m\u001b[38;5;241;43m.\u001b[39;49m\u001b[43mprec\u001b[49m\n",
      "\u001b[0;31mAttributeError\u001b[0m: module 'mpmath' has no attribute 'prec'"
     ]
    }
   ],
   "source": [
    "mp.prec"
   ]
  },
  {
   "cell_type": "code",
   "execution_count": 302,
   "metadata": {
    "execution": {
     "iopub.execute_input": "2022-12-21T06:06:35.566275Z",
     "iopub.status.busy": "2022-12-21T06:06:35.565973Z",
     "iopub.status.idle": "2022-12-21T06:06:35.580732Z",
     "shell.execute_reply": "2022-12-21T06:06:35.578109Z",
     "shell.execute_reply.started": "2022-12-21T06:06:35.566256Z"
    },
    "tags": []
   },
   "outputs": [
    {
     "data": {
      "text/plain": [
       "115826977767145.31"
      ]
     },
     "execution_count": 302,
     "metadata": {},
     "output_type": "execute_result"
    }
   ],
   "source": [
    "f(0)"
   ]
  },
  {
   "cell_type": "code",
   "execution_count": 300,
   "metadata": {
    "execution": {
     "iopub.execute_input": "2022-12-21T06:05:59.374729Z",
     "iopub.status.busy": "2022-12-21T06:05:59.374405Z",
     "iopub.status.idle": "2022-12-21T06:05:59.389163Z",
     "shell.execute_reply": "2022-12-21T06:05:59.388121Z",
     "shell.execute_reply.started": "2022-12-21T06:05:59.374708Z"
    },
    "tags": []
   },
   "outputs": [
    {
     "data": {
      "text/plain": [
       "115826977767145.31"
      ]
     },
     "execution_count": 300,
     "metadata": {},
     "output_type": "execute_result"
    }
   ],
   "source": [
    "f(0)"
   ]
  },
  {
   "cell_type": "code",
   "execution_count": 295,
   "metadata": {
    "execution": {
     "iopub.execute_input": "2022-12-21T06:05:10.916212Z",
     "iopub.status.busy": "2022-12-21T06:05:10.915489Z",
     "iopub.status.idle": "2022-12-21T06:05:10.928664Z",
     "shell.execute_reply": "2022-12-21T06:05:10.926823Z",
     "shell.execute_reply.started": "2022-12-21T06:05:10.916175Z"
    },
    "tags": []
   },
   "outputs": [
    {
     "data": {
      "text/plain": [
       "mpf('1.4142135623730951')"
      ]
     },
     "execution_count": 295,
     "metadata": {},
     "output_type": "execute_result"
    }
   ],
   "source": [
    "\n",
    "mpmath.root(2, 2)"
   ]
  },
  {
   "cell_type": "code",
   "execution_count": null,
   "metadata": {},
   "outputs": [],
   "source": []
  },
  {
   "cell_type": "code",
   "execution_count": null,
   "metadata": {},
   "outputs": [],
   "source": []
  },
  {
   "cell_type": "code",
   "execution_count": 36,
   "metadata": {
    "execution": {
     "iopub.execute_input": "2022-12-21T12:54:59.584886Z",
     "iopub.status.busy": "2022-12-21T12:54:59.584117Z",
     "iopub.status.idle": "2022-12-21T12:54:59.603083Z",
     "shell.execute_reply": "2022-12-21T12:54:59.602262Z",
     "shell.execute_reply.started": "2022-12-21T12:54:59.584858Z"
    },
    "tags": []
   },
   "outputs": [],
   "source": [
    "import operator\n",
    "from mpmath import mp\n",
    "\n",
    "operators = {\n",
    "  '+': operator.add,\n",
    "  '-': operator.sub,\n",
    "  '*': operator.mul,\n",
    "  '/': operator.truediv,\n",
    "}\n",
    "\n",
    "monkeys = {}\n",
    "\n",
    "for line in lines:\n",
    "  if m := re.findall(r'^(\\w+): (-?\\d+)$', line):\n",
    "    name, num = m[0]\n",
    "    monkeys[name] = int(num)\n",
    "  elif m := re.findall(r'^(\\w+): (\\w+) (.) (\\w+)$', line):\n",
    "    name, arg1, op, arg2 = m[0]\n",
    "    monkeys[name] = (arg1, operators[op], arg2)\n",
    "  else:\n",
    "    raise Exception()\n",
    "\n",
    "def dfs(name):\n",
    "  if type(monkeys[name]) != tuple:\n",
    "    return monkeys[name]\n",
    "  arg1 = dfs(monkeys[name][0])\n",
    "  arg2 = dfs(monkeys[name][2])\n",
    "  return monkeys[name][1](arg1, arg2)\n",
    "\n",
    "def f(humn_value):\n",
    "  monkeys['humn'] = humn_value\n",
    "  root = monkeys['root']\n",
    "  return dfs(root[0]) - dfs(root[2])\n",
    "\n",
    "mp.dps = 100\n",
    "answer = -f(mp.mpf(0)) / (f(mp.mpf(1)) - f(mp.mpf(0)))\n",
    "print(round(answer))"
   ]
  }
 ],
 "metadata": {
  "kernelspec": {
   "display_name": "Python 3 (ipykernel)",
   "language": "python",
   "name": "python3"
  },
  "language_info": {
   "codemirror_mode": {
    "name": "ipython",
    "version": 3
   },
   "file_extension": ".py",
   "mimetype": "text/x-python",
   "name": "python",
   "nbconvert_exporter": "python",
   "pygments_lexer": "ipython3",
   "version": "3.11.0"
  }
 },
 "nbformat": 4,
 "nbformat_minor": 4
}
