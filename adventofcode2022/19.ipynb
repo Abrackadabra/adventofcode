{
 "cells": [
  {
   "cell_type": "code",
   "execution_count": 1,
   "metadata": {
    "execution": {
     "iopub.execute_input": "2022-12-19T05:47:36.613038Z",
     "iopub.status.busy": "2022-12-19T05:47:36.612644Z",
     "iopub.status.idle": "2022-12-19T05:47:37.521295Z",
     "shell.execute_reply": "2022-12-19T05:47:37.520173Z",
     "shell.execute_reply.started": "2022-12-19T05:47:36.612961Z"
    },
    "tags": []
   },
   "outputs": [],
   "source": [
    "import numpy as np\n",
    "from numpy import *\n",
    "import matplotlib\n",
    "from matplotlib import pyplot as plt\n",
    "from tqdm.auto import tqdm\n",
    "import requests\n",
    "import pickle\n",
    "import re\n",
    "import itertools\n",
    "import functools\n",
    "import collections\n",
    "import string\n",
    "import time\n",
    "from bs4 import BeautifulSoup\n",
    "from sortedcontainers import SortedList # http://www.grantjenks.com/docs/sortedcontainers/sortedlist.html#sortedlist\n",
    "\n",
    "import multiprocess\n",
    "# with multiprocess.Pool(processes=8) as pool:\n",
    "#   for i in pool.imap_unordered(f, a):\n",
    "#     print(i)\n",
    "\n",
    "from adventlib.common import *\n",
    "# n, m, a = lines_as_matrix_nm(lines)\n",
    "# a = lines_as_matrix(lines)\n",
    "# a = lines_as_digit_matrix(lines)\n",
    "# chunks = split_iter_by_start_indices(a, indices)\n",
    "# chunks = split_iter_by_bools(a, bools)\n",
    "\n",
    "from adventlib.point_2d import *\n",
    "# from adventlib.point_3d import *\n",
    "\n",
    "YEAR = 2022\n",
    "DAY = int('19')\n",
    "\n",
    "submit1, submit2 = generate_submits(YEAR, DAY)\n",
    "\n",
    "while True:\n",
    "  try:\n",
    "    raw_input = get_input(YEAR, DAY)\n",
    "    break\n",
    "  except Exception as e:\n",
    "    print(e)\n",
    "    time.sleep(1)"
   ]
  },
  {
   "cell_type": "code",
   "execution_count": 116,
   "metadata": {
    "execution": {
     "iopub.execute_input": "2022-12-19T06:30:23.315481Z",
     "iopub.status.busy": "2022-12-19T06:30:23.315135Z",
     "iopub.status.idle": "2022-12-19T06:30:23.321104Z",
     "shell.execute_reply": "2022-12-19T06:30:23.320095Z",
     "shell.execute_reply.started": "2022-12-19T06:30:23.315457Z"
    },
    "tags": []
   },
   "outputs": [],
   "source": [
    "lines, groups = linesplit(\"\"\"\n",
    "Blueprint 1: Each ore robot costs 4 ore. Each clay robot costs 2 ore. Each obsidian robot costs 3 ore and 14 clay. Each geode robot costs 2 ore and 7 obsidian.\n",
    "Blueprint 2: Each ore robot costs 2 ore. Each clay robot costs 3 ore. Each obsidian robot costs 3 ore and 8 clay. Each geode robot costs 3 ore and 12 obsidian.\n",
    "\"\"\".strip())"
   ]
  },
  {
   "cell_type": "code",
   "execution_count": 132,
   "metadata": {
    "execution": {
     "iopub.execute_input": "2022-12-19T06:45:35.502821Z",
     "iopub.status.busy": "2022-12-19T06:45:35.502086Z",
     "iopub.status.idle": "2022-12-19T06:45:35.514207Z",
     "shell.execute_reply": "2022-12-19T06:45:35.513533Z",
     "shell.execute_reply.started": "2022-12-19T06:45:35.502777Z"
    },
    "tags": []
   },
   "outputs": [
    {
     "name": "stdout",
     "output_type": "stream",
     "text": [
      "30 lines\n",
      "1 groups\n",
      ">>>\n",
      "Blueprint 1: Each ore robot costs 3 ore. Each clay robot costs 3 ore. Each obsidian robot costs 2 or...\n",
      "Blueprint 2: Each ore robot costs 4 ore. Each clay robot costs 4 ore. Each obsidian robot costs 4 or...\n",
      "Blueprint 3: Each ore robot costs 4 ore. Each clay robot costs 4 ore. Each obsidian robot costs 2 or...\n",
      "...\n"
     ]
    }
   ],
   "source": [
    "lines, groups = linesplit(raw_input, verbose=True)"
   ]
  },
  {
   "cell_type": "code",
   "execution_count": null,
   "metadata": {},
   "outputs": [],
   "source": []
  },
  {
   "cell_type": "code",
   "execution_count": 1,
   "metadata": {
    "execution": {
     "iopub.execute_input": "2022-12-19T04:57:25.551974Z",
     "iopub.status.busy": "2022-12-19T04:57:25.551084Z",
     "iopub.status.idle": "2022-12-19T04:57:26.002838Z",
     "shell.execute_reply": "2022-12-19T04:57:26.002576Z",
     "shell.execute_reply.started": "2022-12-19T04:57:25.551797Z"
    },
    "tags": []
   },
   "outputs": [],
   "source": []
  },
  {
   "cell_type": "code",
   "execution_count": 136,
   "metadata": {
    "execution": {
     "iopub.execute_input": "2022-12-19T06:49:13.889285Z",
     "iopub.status.busy": "2022-12-19T06:49:13.888700Z",
     "iopub.status.idle": "2022-12-19T06:54:43.448500Z",
     "shell.execute_reply": "2022-12-19T06:54:43.448005Z",
     "shell.execute_reply.started": "2022-12-19T06:49:13.889245Z"
    },
    "tags": []
   },
   "outputs": [
    {
     "data": {
      "application/vnd.jupyter.widget-view+json": {
       "model_id": "eb9ac8c111834ca28f14165213be9205",
       "version_major": 2,
       "version_minor": 0
      },
      "text/plain": [
       "  0%|          | 0/32 [00:00<?, ?it/s]"
      ]
     },
     "metadata": {},
     "output_type": "display_data"
    },
    {
     "name": "stdout",
     "output_type": "stream",
     "text": [
      "0 1 1\n",
      "1 1 1\n",
      "2 1 1\n",
      "3 3 3\n",
      "4 5 3\n",
      "5 7 5\n",
      "6 10 6\n",
      "7 12 9\n",
      "8 20 14\n",
      "9 27 14\n",
      "10 28 17\n",
      "11 36 19\n",
      "12 39 18\n",
      "13 45 25\n",
      "14 66 32\n",
      "15 75 41\n",
      "16 102 63\n",
      "17 151 75\n",
      "18 170 101\n",
      "19 222 128\n",
      "20 318 192\n",
      "21 516 312\n",
      "22 834 457\n",
      "23 1252 766\n",
      "24 1966 1168\n",
      "25 2889 1793\n",
      "26 4233 2544\n",
      "27 5683 3413\n",
      "28 7487 4422\n",
      "29 9464 5594\n",
      "30 11871 6857\n",
      "31 14424 8183\n"
     ]
    },
    {
     "data": {
      "application/vnd.jupyter.widget-view+json": {
       "model_id": "28fd64e8cbf3473ca7bf3192c85cf9ad",
       "version_major": 2,
       "version_minor": 0
      },
      "text/plain": [
       "  0%|          | 0/32 [00:00<?, ?it/s]"
      ]
     },
     "metadata": {},
     "output_type": "display_data"
    },
    {
     "name": "stdout",
     "output_type": "stream",
     "text": [
      "0 1 1\n",
      "1 1 1\n",
      "2 1 1\n",
      "3 1 1\n",
      "4 3 3\n",
      "5 5 3\n",
      "6 5 3\n",
      "7 7 5\n",
      "8 10 6\n",
      "9 13 10\n",
      "10 20 14\n",
      "11 33 24\n",
      "12 50 28\n",
      "13 70 47\n",
      "14 110 57\n",
      "15 152 99\n",
      "16 220 108\n",
      "17 267 133\n",
      "18 327 155\n",
      "19 402 186\n",
      "20 486 267\n",
      "21 696 381\n",
      "22 967 521\n",
      "23 1282 711\n",
      "24 1677 959\n",
      "25 2175 1206\n",
      "26 2662 1505\n",
      "27 3259 1843\n",
      "28 3938 2214\n",
      "29 4684 2595\n",
      "30 5445 2954\n",
      "31 6152 3315\n"
     ]
    },
    {
     "data": {
      "application/vnd.jupyter.widget-view+json": {
       "model_id": "c537de164b854e01afd9a20ebf1867d0",
       "version_major": 2,
       "version_minor": 0
      },
      "text/plain": [
       "  0%|          | 0/32 [00:00<?, ?it/s]"
      ]
     },
     "metadata": {},
     "output_type": "display_data"
    },
    {
     "name": "stdout",
     "output_type": "stream",
     "text": [
      "0 1 1\n",
      "1 1 1\n",
      "2 1 1\n",
      "3 1 1\n",
      "4 3 3\n",
      "5 5 3\n",
      "6 5 3\n",
      "7 7 5\n",
      "8 10 6\n",
      "9 13 10\n",
      "10 19 13\n",
      "11 30 22\n",
      "12 43 23\n",
      "13 49 30\n",
      "14 67 34\n",
      "15 84 47\n",
      "16 117 53\n",
      "17 135 73\n",
      "18 190 106\n",
      "19 267 142\n",
      "20 356 184\n",
      "21 525 295\n",
      "22 840 439\n",
      "23 1256 714\n",
      "24 2024 1217\n",
      "25 3131 1896\n",
      "26 4564 2600\n",
      "27 5922 3329\n",
      "28 7354 4048\n",
      "29 8759 4788\n",
      "30 10134 5456\n",
      "31 11442 6281\n"
     ]
    },
    {
     "data": {
      "application/vnd.jupyter.widget-view+json": {
       "model_id": "73b1bb8f49174307b60797c6e4ea02d0",
       "version_major": 2,
       "version_minor": 0
      },
      "text/plain": [
       "  0%|          | 0/32 [00:00<?, ?it/s]"
      ]
     },
     "metadata": {},
     "output_type": "display_data"
    },
    {
     "name": "stdout",
     "output_type": "stream",
     "text": [
      "0 1 1\n",
      "1 1 1\n",
      "2 1 1\n",
      "3 1 1\n",
      "4 3 3\n",
      "5 5 3\n",
      "6 5 3\n",
      "7 7 5\n",
      "8 10 6\n",
      "9 13 10\n",
      "10 19 13\n",
      "11 30 22\n",
      "12 43 23\n",
      "13 48 29\n",
      "14 59 28\n",
      "15 62 34\n",
      "16 87 40\n",
      "17 101 48\n",
      "18 111 56\n",
      "19 144 84\n",
      "20 202 100\n",
      "21 242 121\n",
      "22 268 142\n",
      "23 313 170\n",
      "24 374 220\n",
      "25 563 361\n",
      "26 966 546\n",
      "27 1420 750\n"
     ]
    },
    {
     "ename": "KeyboardInterrupt",
     "evalue": "",
     "output_type": "error",
     "traceback": [
      "\u001b[0;31m---------------------------------------------------------------------------\u001b[0m",
      "\u001b[0;31mKeyboardInterrupt\u001b[0m                         Traceback (most recent call last)",
      "Cell \u001b[0;32mIn[136], line 101\u001b[0m\n\u001b[1;32m     99\u001b[0m \u001b[38;5;28;01mfor\u001b[39;00m ii, jj \u001b[38;5;129;01min\u001b[39;00m \u001b[38;5;28mzip\u001b[39m(i, j):\n\u001b[1;32m    100\u001b[0m   \u001b[38;5;28;01mif\u001b[39;00m jj \u001b[38;5;241m>\u001b[39m\u001b[38;5;241m=\u001b[39m ii:\n\u001b[0;32m--> 101\u001b[0m     \u001b[38;5;28;01mpass\u001b[39;00m\n\u001b[1;32m    102\u001b[0m   \u001b[38;5;28;01melse\u001b[39;00m:\n\u001b[1;32m    103\u001b[0m     found_better \u001b[38;5;241m=\u001b[39m \u001b[38;5;28;01mFalse\u001b[39;00m\n",
      "\u001b[0;31mKeyboardInterrupt\u001b[0m: "
     ]
    }
   ],
   "source": [
    "ans = []\n",
    "\n",
    "for bluep_id, line in enumerate(lines):\n",
    "  a = amap(int, re.findall(r'-?\\d+', line))\n",
    "  id = a[0]\n",
    "  rob1_1_cost = a[1]\n",
    "  rob2_1_cost = a[2]\n",
    "  rob3_1_cost, rob3_2_cost = a[3:5]\n",
    "  rob4_1_cost, rob4_3_cost = a[5:7]\n",
    "  \n",
    "  states = [\n",
    "    (\n",
    "     0, 1,\n",
    "    0, 0,\n",
    "    0, 0,\n",
    "    0, 0,\n",
    "    )\n",
    "  ]\n",
    "  # visited = set()\n",
    "  \n",
    "  for time in tqdm(range(32)):\n",
    "    newpareto = set()\n",
    "    newstates = []\n",
    "    \n",
    "    for state in states:\n",
    "      h1, r1, h2, r2, h3, r3, h4, r4 = state\n",
    "      \n",
    "      if (\n",
    "          h1 >= rob1_1_cost\n",
    "          and r1 < max(rob1_1_cost, rob2_1_cost, rob3_1_cost, r1 < rob4_1_cost)\n",
    "          and h1 < max(rob1_1_cost, rob2_1_cost, rob3_1_cost, r1 < rob4_1_cost) * 2\n",
    "      ):\n",
    "        newstates.append(\n",
    "          (\n",
    "            h1 - rob1_1_cost + r1, r1 + 1,\n",
    "            h2 + r2, r2,\n",
    "            h3 + r3, r3,\n",
    "            h4 + r4, r4\n",
    "          )\n",
    "        )\n",
    "      \n",
    "      if (\n",
    "          h1 >= rob2_1_cost\n",
    "          and r2 < rob3_2_cost\n",
    "          and h2 < rob3_2_cost * 2\n",
    "      ):\n",
    "        newstates.append(\n",
    "          (\n",
    "            h1 - rob2_1_cost + r1, r1,\n",
    "            h2 + r2, r2 + 1,\n",
    "            h3 + r3, r3,\n",
    "            h4 + r4, r4\n",
    "          )\n",
    "        )\n",
    "      \n",
    "      if (\n",
    "          h1 >= rob3_1_cost and h2 >= rob3_2_cost\n",
    "          and r3 < rob4_3_cost\n",
    "          and h3 < rob4_3_cost * 2\n",
    "      ):\n",
    "        newstates.append(\n",
    "          (\n",
    "            h1 - rob3_1_cost + r1, r1,\n",
    "            h2 - rob3_2_cost + r2, r2,\n",
    "            h3 + r3, r3 + 1,\n",
    "            h4 + r4, r4\n",
    "          )\n",
    "        )\n",
    "      \n",
    "      if h1 >= rob4_1_cost and h3 >= rob4_3_cost:\n",
    "        newstates.append(\n",
    "          (\n",
    "            h1 - rob4_1_cost + r1, r1,\n",
    "            h2 + r2, r2,\n",
    "            h3 - rob4_3_cost + r3, r3,\n",
    "            h4 + r4, r4 + 1\n",
    "          )\n",
    "        )\n",
    "      \n",
    "      newstates.append(\n",
    "        (\n",
    "          h1 + r1, r1,\n",
    "          h2 + r2, r2,\n",
    "          h3 + r3, r3,\n",
    "          h4 + r4, r4\n",
    "        )\n",
    "      )\n",
    "      \n",
    "      for i in newstates:\n",
    "        newpareto.add(i)\n",
    "\n",
    "    newstates = []\n",
    "    for i in newpareto:\n",
    "      should_add = True\n",
    "      for j in newpareto:\n",
    "        if i == j:\n",
    "          continue\n",
    "        found_better = True\n",
    "        for ii, jj in zip(i, j):\n",
    "          if jj >= ii:\n",
    "            pass\n",
    "          else:\n",
    "            found_better = False\n",
    "            break\n",
    "        if found_better:\n",
    "          should_add = False\n",
    "          break\n",
    "      if should_add:\n",
    "        newstates.append(i)\n",
    "      \n",
    "    states = newstates\n",
    "    print(time, len(newpareto), len(states))\n",
    "  \n",
    "  ans.append(max([i[-2] for i in states]))"
   ]
  },
  {
   "cell_type": "code",
   "execution_count": 139,
   "metadata": {
    "execution": {
     "iopub.execute_input": "2022-12-19T07:19:23.851557Z",
     "iopub.status.busy": "2022-12-19T07:19:23.851245Z",
     "iopub.status.idle": "2022-12-19T07:20:04.205418Z",
     "shell.execute_reply": "2022-12-19T07:20:04.205137Z",
     "shell.execute_reply.started": "2022-12-19T07:19:23.851537Z"
    },
    "tags": []
   },
   "outputs": [
    {
     "data": {
      "application/vnd.jupyter.widget-view+json": {
       "model_id": "0e1e977bc83a4ba4b1926d36f7a04517",
       "version_major": 2,
       "version_minor": 0
      },
      "text/plain": [
       "  0%|          | 0/24 [00:00<?, ?it/s]"
      ]
     },
     "metadata": {},
     "output_type": "display_data"
    },
    {
     "name": "stdout",
     "output_type": "stream",
     "text": [
      "0 1 1\n",
      "1 1 1\n",
      "2 1 1\n",
      "3 3 3\n",
      "4 5 3\n",
      "5 7 5\n",
      "6 10 6\n",
      "7 12 9\n",
      "8 20 14\n",
      "9 27 14\n",
      "10 28 17\n",
      "11 36 19\n",
      "12 39 18\n",
      "13 45 25\n",
      "14 66 32\n",
      "15 75 41\n",
      "16 102 63\n",
      "17 151 75\n",
      "18 170 101\n",
      "19 222 128\n",
      "20 318 192\n",
      "21 516 312\n",
      "22 834 457\n",
      "23 1252 766\n"
     ]
    },
    {
     "data": {
      "application/vnd.jupyter.widget-view+json": {
       "model_id": "5e02d0e9bf29426a97118a1f6f005a62",
       "version_major": 2,
       "version_minor": 0
      },
      "text/plain": [
       "  0%|          | 0/24 [00:00<?, ?it/s]"
      ]
     },
     "metadata": {},
     "output_type": "display_data"
    },
    {
     "name": "stdout",
     "output_type": "stream",
     "text": [
      "0 1 1\n",
      "1 1 1\n",
      "2 1 1\n",
      "3 1 1\n",
      "4 3 3\n",
      "5 5 3\n",
      "6 5 3\n",
      "7 7 5\n",
      "8 10 6\n",
      "9 13 10\n",
      "10 20 14\n",
      "11 33 24\n",
      "12 50 28\n",
      "13 70 47\n",
      "14 110 57\n",
      "15 152 99\n",
      "16 220 108\n",
      "17 267 133\n",
      "18 327 155\n",
      "19 402 186\n",
      "20 486 267\n",
      "21 696 381\n",
      "22 967 521\n",
      "23 1282 711\n"
     ]
    },
    {
     "data": {
      "application/vnd.jupyter.widget-view+json": {
       "model_id": "3ee39d6157124f10afa41f22a8b1668c",
       "version_major": 2,
       "version_minor": 0
      },
      "text/plain": [
       "  0%|          | 0/24 [00:00<?, ?it/s]"
      ]
     },
     "metadata": {},
     "output_type": "display_data"
    },
    {
     "name": "stdout",
     "output_type": "stream",
     "text": [
      "0 1 1\n",
      "1 1 1\n",
      "2 1 1\n",
      "3 1 1\n",
      "4 3 3\n",
      "5 5 3\n",
      "6 5 3\n",
      "7 7 5\n",
      "8 10 6\n",
      "9 13 10\n",
      "10 19 13\n",
      "11 30 22\n",
      "12 43 23\n",
      "13 49 30\n",
      "14 67 34\n",
      "15 84 47\n",
      "16 117 53\n",
      "17 135 73\n",
      "18 190 106\n",
      "19 267 142\n",
      "20 356 184\n",
      "21 525 295\n",
      "22 840 439\n",
      "23 1256 714\n"
     ]
    },
    {
     "data": {
      "application/vnd.jupyter.widget-view+json": {
       "model_id": "d723ad71c913432f828b689c641a9581",
       "version_major": 2,
       "version_minor": 0
      },
      "text/plain": [
       "  0%|          | 0/24 [00:00<?, ?it/s]"
      ]
     },
     "metadata": {},
     "output_type": "display_data"
    },
    {
     "name": "stdout",
     "output_type": "stream",
     "text": [
      "0 1 1\n",
      "1 1 1\n",
      "2 1 1\n",
      "3 1 1\n",
      "4 3 3\n",
      "5 5 3\n",
      "6 5 3\n",
      "7 7 5\n",
      "8 10 6\n",
      "9 13 10\n",
      "10 19 13\n",
      "11 30 22\n",
      "12 43 23\n",
      "13 48 29\n",
      "14 59 28\n",
      "15 62 34\n",
      "16 87 40\n",
      "17 101 48\n",
      "18 111 56\n",
      "19 144 84\n",
      "20 202 100\n",
      "21 242 121\n",
      "22 268 142\n",
      "23 313 170\n"
     ]
    },
    {
     "data": {
      "application/vnd.jupyter.widget-view+json": {
       "model_id": "94352efbbce748ae893dba79029e8d07",
       "version_major": 2,
       "version_minor": 0
      },
      "text/plain": [
       "  0%|          | 0/24 [00:00<?, ?it/s]"
      ]
     },
     "metadata": {},
     "output_type": "display_data"
    },
    {
     "name": "stdout",
     "output_type": "stream",
     "text": [
      "0 1 1\n",
      "1 1 1\n",
      "2 1 1\n",
      "3 1 1\n",
      "4 3 3\n",
      "5 5 3\n",
      "6 5 3\n",
      "7 7 5\n",
      "8 10 6\n",
      "9 13 10\n",
      "10 19 13\n",
      "11 30 22\n",
      "12 44 24\n",
      "13 53 33\n",
      "14 77 38\n",
      "15 100 60\n",
      "16 135 62\n",
      "17 162 97\n",
      "18 230 118\n",
      "19 273 141\n",
      "20 312 148\n",
      "21 332 167\n",
      "22 354 179\n",
      "23 432 262\n"
     ]
    },
    {
     "data": {
      "application/vnd.jupyter.widget-view+json": {
       "model_id": "bea2346d753843f8bceec257e49c6127",
       "version_major": 2,
       "version_minor": 0
      },
      "text/plain": [
       "  0%|          | 0/24 [00:00<?, ?it/s]"
      ]
     },
     "metadata": {},
     "output_type": "display_data"
    },
    {
     "name": "stdout",
     "output_type": "stream",
     "text": [
      "0 1 1\n",
      "1 1 1\n",
      "2 1 1\n",
      "3 1 1\n",
      "4 3 3\n",
      "5 5 3\n",
      "6 5 3\n",
      "7 7 5\n",
      "8 10 6\n",
      "9 13 10\n",
      "10 19 13\n",
      "11 30 22\n",
      "12 43 23\n",
      "13 48 29\n",
      "14 61 30\n",
      "15 67 36\n",
      "16 96 46\n",
      "17 109 51\n",
      "18 128 78\n",
      "19 198 110\n",
      "20 276 126\n",
      "21 307 143\n",
      "22 332 154\n",
      "23 347 176\n"
     ]
    },
    {
     "data": {
      "application/vnd.jupyter.widget-view+json": {
       "model_id": "91a15f93e6f54676ab038e71e590125e",
       "version_major": 2,
       "version_minor": 0
      },
      "text/plain": [
       "  0%|          | 0/24 [00:00<?, ?it/s]"
      ]
     },
     "metadata": {},
     "output_type": "display_data"
    },
    {
     "name": "stdout",
     "output_type": "stream",
     "text": [
      "0 1 1\n",
      "1 1 1\n",
      "2 2 2\n",
      "3 3 2\n",
      "4 5 3\n",
      "5 6 5\n",
      "6 12 8\n",
      "7 17 9\n",
      "8 21 7\n",
      "9 15 5\n",
      "10 10 6\n",
      "11 12 7\n",
      "12 14 8\n",
      "13 19 12\n",
      "14 29 16\n",
      "15 39 21\n",
      "16 52 31\n",
      "17 74 42\n",
      "18 96 58\n",
      "19 132 73\n",
      "20 161 96\n",
      "21 210 115\n",
      "22 261 160\n",
      "23 415 249\n"
     ]
    },
    {
     "data": {
      "application/vnd.jupyter.widget-view+json": {
       "model_id": "5e7699d42a85477ab43471e51050c1ad",
       "version_major": 2,
       "version_minor": 0
      },
      "text/plain": [
       "  0%|          | 0/24 [00:00<?, ?it/s]"
      ]
     },
     "metadata": {},
     "output_type": "display_data"
    },
    {
     "name": "stdout",
     "output_type": "stream",
     "text": [
      "0 1 1\n",
      "1 1 1\n",
      "2 1 1\n",
      "3 1 1\n",
      "4 3 3\n",
      "5 5 3\n",
      "6 5 3\n",
      "7 7 5\n",
      "8 10 6\n",
      "9 13 10\n",
      "10 19 13\n",
      "11 30 22\n",
      "12 44 24\n",
      "13 50 30\n",
      "14 71 38\n",
      "15 97 57\n",
      "16 139 64\n",
      "17 168 98\n",
      "18 251 130\n",
      "19 328 185\n",
      "20 437 204\n",
      "21 478 220\n",
      "22 524 263\n",
      "23 703 385\n"
     ]
    },
    {
     "data": {
      "application/vnd.jupyter.widget-view+json": {
       "model_id": "f3862493d288495fa95bfdd26955f419",
       "version_major": 2,
       "version_minor": 0
      },
      "text/plain": [
       "  0%|          | 0/24 [00:00<?, ?it/s]"
      ]
     },
     "metadata": {},
     "output_type": "display_data"
    },
    {
     "name": "stdout",
     "output_type": "stream",
     "text": [
      "0 1 1\n",
      "1 1 1\n",
      "2 1 1\n",
      "3 1 1\n",
      "4 3 3\n",
      "5 5 3\n",
      "6 5 3\n",
      "7 7 5\n",
      "8 10 6\n",
      "9 13 10\n",
      "10 19 13\n",
      "11 31 23\n",
      "12 49 27\n",
      "13 58 36\n",
      "14 93 53\n",
      "15 131 75\n",
      "16 193 113\n",
      "17 272 149\n",
      "18 370 165\n",
      "19 386 189\n",
      "20 422 196\n",
      "21 441 193\n",
      "22 424 215\n",
      "23 546 322\n"
     ]
    },
    {
     "data": {
      "application/vnd.jupyter.widget-view+json": {
       "model_id": "97c863cb651d4deabd00238ac736e8b0",
       "version_major": 2,
       "version_minor": 0
      },
      "text/plain": [
       "  0%|          | 0/24 [00:00<?, ?it/s]"
      ]
     },
     "metadata": {},
     "output_type": "display_data"
    },
    {
     "name": "stdout",
     "output_type": "stream",
     "text": [
      "0 1 1\n",
      "1 1 1\n",
      "2 1 1\n",
      "3 2 2\n",
      "4 4 3\n",
      "5 5 3\n",
      "6 7 5\n",
      "7 11 7\n",
      "8 15 9\n",
      "9 20 14\n",
      "10 31 22\n",
      "11 48 25\n",
      "12 54 35\n",
      "13 77 40\n",
      "14 97 53\n",
      "15 131 66\n",
      "16 164 100\n",
      "17 261 154\n",
      "18 387 242\n",
      "19 587 355\n",
      "20 822 493\n",
      "21 1124 646\n",
      "22 1420 849\n",
      "23 1912 1174\n"
     ]
    },
    {
     "data": {
      "application/vnd.jupyter.widget-view+json": {
       "model_id": "01f4df8450514de897b555200f2356f6",
       "version_major": 2,
       "version_minor": 0
      },
      "text/plain": [
       "  0%|          | 0/24 [00:00<?, ?it/s]"
      ]
     },
     "metadata": {},
     "output_type": "display_data"
    },
    {
     "name": "stdout",
     "output_type": "stream",
     "text": [
      "0 1 1\n",
      "1 1 1\n",
      "2 1 1\n",
      "3 1 1\n",
      "4 3 3\n",
      "5 5 3\n",
      "6 5 3\n",
      "7 7 5\n",
      "8 10 6\n",
      "9 13 10\n",
      "10 21 15\n",
      "11 37 26\n",
      "12 58 30\n",
      "13 70 43\n",
      "14 114 68\n",
      "15 169 103\n",
      "16 253 143\n",
      "17 338 187\n",
      "18 431 206\n",
      "19 502 255\n",
      "20 670 353\n",
      "21 931 487\n",
      "22 1240 685\n",
      "23 1718 944\n"
     ]
    },
    {
     "data": {
      "application/vnd.jupyter.widget-view+json": {
       "model_id": "3810ff2add064a92986a9e0475b500b7",
       "version_major": 2,
       "version_minor": 0
      },
      "text/plain": [
       "  0%|          | 0/24 [00:00<?, ?it/s]"
      ]
     },
     "metadata": {},
     "output_type": "display_data"
    },
    {
     "name": "stdout",
     "output_type": "stream",
     "text": [
      "0 1 1\n",
      "1 1 1\n",
      "2 2 2\n",
      "3 4 3\n",
      "4 7 4\n",
      "5 9 7\n",
      "6 14 9\n",
      "7 20 9\n",
      "8 19 9\n",
      "9 18 7\n",
      "10 14 8\n",
      "11 19 12\n",
      "12 29 16\n",
      "13 39 23\n",
      "14 55 32\n",
      "15 73 44\n",
      "16 99 56\n",
      "17 123 72\n",
      "18 155 91\n",
      "19 214 127\n",
      "20 335 202\n",
      "21 526 288\n",
      "22 745 403\n",
      "23 1057 622\n"
     ]
    },
    {
     "data": {
      "application/vnd.jupyter.widget-view+json": {
       "model_id": "21762c2137b24f439db7bcb3bbcf2078",
       "version_major": 2,
       "version_minor": 0
      },
      "text/plain": [
       "  0%|          | 0/24 [00:00<?, ?it/s]"
      ]
     },
     "metadata": {},
     "output_type": "display_data"
    },
    {
     "name": "stdout",
     "output_type": "stream",
     "text": [
      "0 1 1\n",
      "1 1 1\n",
      "2 1 1\n",
      "3 2 2\n",
      "4 4 3\n",
      "5 6 4\n",
      "6 8 4\n",
      "7 10 8\n",
      "8 17 12\n",
      "9 27 18\n",
      "10 36 17\n",
      "11 41 24\n",
      "12 62 30\n",
      "13 78 45\n",
      "14 119 70\n",
      "15 171 90\n",
      "16 212 108\n",
      "17 242 114\n",
      "18 264 146\n",
      "19 378 216\n",
      "20 557 298\n",
      "21 759 436\n",
      "22 1066 592\n",
      "23 1394 804\n"
     ]
    },
    {
     "data": {
      "application/vnd.jupyter.widget-view+json": {
       "model_id": "d1660a3c18e84a1482bc92bdd0376848",
       "version_major": 2,
       "version_minor": 0
      },
      "text/plain": [
       "  0%|          | 0/24 [00:00<?, ?it/s]"
      ]
     },
     "metadata": {},
     "output_type": "display_data"
    },
    {
     "name": "stdout",
     "output_type": "stream",
     "text": [
      "0 1 1\n",
      "1 1 1\n",
      "2 1 1\n",
      "3 2 2\n",
      "4 4 3\n",
      "5 6 4\n",
      "6 8 4\n",
      "7 10 8\n",
      "8 17 12\n",
      "9 27 18\n",
      "10 36 17\n",
      "11 37 20\n",
      "12 41 17\n",
      "13 35 18\n",
      "14 36 17\n",
      "15 43 26\n",
      "16 64 34\n",
      "17 81 44\n",
      "18 108 63\n",
      "19 148 80\n",
      "20 184 107\n",
      "21 238 132\n",
      "22 290 161\n",
      "23 347 197\n"
     ]
    },
    {
     "data": {
      "application/vnd.jupyter.widget-view+json": {
       "model_id": "24837998093c43ebadfd46a707a71377",
       "version_major": 2,
       "version_minor": 0
      },
      "text/plain": [
       "  0%|          | 0/24 [00:00<?, ?it/s]"
      ]
     },
     "metadata": {},
     "output_type": "display_data"
    },
    {
     "name": "stdout",
     "output_type": "stream",
     "text": [
      "0 1 1\n",
      "1 1 1\n",
      "2 1 1\n",
      "3 2 2\n",
      "4 4 3\n",
      "5 6 4\n",
      "6 8 4\n",
      "7 10 8\n",
      "8 17 12\n",
      "9 27 18\n",
      "10 36 17\n",
      "11 37 20\n",
      "12 41 17\n",
      "13 35 18\n",
      "14 36 17\n",
      "15 42 25\n",
      "16 61 33\n",
      "17 80 42\n",
      "18 105 65\n",
      "19 157 87\n",
      "20 199 122\n",
      "21 275 149\n",
      "22 381 246\n",
      "23 676 387\n"
     ]
    },
    {
     "data": {
      "application/vnd.jupyter.widget-view+json": {
       "model_id": "bde40b3d3a1644848876e76e292e31c0",
       "version_major": 2,
       "version_minor": 0
      },
      "text/plain": [
       "  0%|          | 0/24 [00:00<?, ?it/s]"
      ]
     },
     "metadata": {},
     "output_type": "display_data"
    },
    {
     "name": "stdout",
     "output_type": "stream",
     "text": [
      "0 1 1\n",
      "1 1 1\n",
      "2 1 1\n",
      "3 2 2\n",
      "4 4 3\n",
      "5 6 4\n",
      "6 8 4\n",
      "7 10 8\n",
      "8 17 12\n",
      "9 27 18\n",
      "10 36 17\n",
      "11 37 20\n",
      "12 41 17\n",
      "13 35 18\n",
      "14 36 17\n",
      "15 41 24\n",
      "16 58 32\n",
      "17 78 42\n",
      "18 104 63\n",
      "19 152 86\n",
      "20 197 118\n",
      "21 269 148\n",
      "22 327 195\n",
      "23 427 234\n"
     ]
    },
    {
     "data": {
      "application/vnd.jupyter.widget-view+json": {
       "model_id": "90dfb1015875459c9cc40cc28df9487b",
       "version_major": 2,
       "version_minor": 0
      },
      "text/plain": [
       "  0%|          | 0/24 [00:00<?, ?it/s]"
      ]
     },
     "metadata": {},
     "output_type": "display_data"
    },
    {
     "name": "stdout",
     "output_type": "stream",
     "text": [
      "0 1 1\n",
      "1 1 1\n",
      "2 1 1\n",
      "3 3 3\n",
      "4 5 3\n",
      "5 7 5\n",
      "6 10 6\n",
      "7 12 9\n",
      "8 20 14\n",
      "9 27 14\n",
      "10 28 17\n",
      "11 36 19\n",
      "12 38 17\n",
      "13 36 19\n",
      "14 50 27\n",
      "15 66 38\n",
      "16 88 48\n",
      "17 124 76\n",
      "18 188 100\n",
      "19 234 135\n",
      "20 311 156\n",
      "21 352 198\n",
      "22 434 229\n",
      "23 493 264\n"
     ]
    },
    {
     "data": {
      "application/vnd.jupyter.widget-view+json": {
       "model_id": "aa3d8c7de9ca4a3f883d931e126a65a7",
       "version_major": 2,
       "version_minor": 0
      },
      "text/plain": [
       "  0%|          | 0/24 [00:00<?, ?it/s]"
      ]
     },
     "metadata": {},
     "output_type": "display_data"
    },
    {
     "name": "stdout",
     "output_type": "stream",
     "text": [
      "0 1 1\n",
      "1 1 1\n",
      "2 1 1\n",
      "3 3 3\n",
      "4 5 3\n",
      "5 7 5\n",
      "6 10 6\n",
      "7 12 9\n",
      "8 20 14\n",
      "9 27 14\n",
      "10 28 17\n",
      "11 36 19\n",
      "12 38 17\n",
      "13 35 18\n",
      "14 47 24\n",
      "15 59 32\n",
      "16 78 41\n",
      "17 102 62\n",
      "18 149 84\n",
      "19 192 117\n",
      "20 266 146\n",
      "21 322 193\n",
      "22 422 232\n",
      "23 503 296\n"
     ]
    },
    {
     "data": {
      "application/vnd.jupyter.widget-view+json": {
       "model_id": "d96e96282e234ea39d56dafa4cb243a3",
       "version_major": 2,
       "version_minor": 0
      },
      "text/plain": [
       "  0%|          | 0/24 [00:00<?, ?it/s]"
      ]
     },
     "metadata": {},
     "output_type": "display_data"
    },
    {
     "name": "stdout",
     "output_type": "stream",
     "text": [
      "0 1 1\n",
      "1 1 1\n",
      "2 1 1\n",
      "3 2 2\n",
      "4 4 3\n",
      "5 6 4\n",
      "6 8 4\n",
      "7 10 8\n",
      "8 17 12\n",
      "9 27 18\n",
      "10 38 18\n",
      "11 44 26\n",
      "12 69 33\n",
      "13 81 48\n",
      "14 113 58\n",
      "15 134 66\n",
      "16 142 78\n",
      "17 180 108\n",
      "18 271 159\n",
      "19 398 224\n",
      "20 573 331\n",
      "21 805 467\n",
      "22 1079 619\n",
      "23 1404 786\n"
     ]
    },
    {
     "data": {
      "application/vnd.jupyter.widget-view+json": {
       "model_id": "cc9a948d884a47f0b8b363f1cdea35b7",
       "version_major": 2,
       "version_minor": 0
      },
      "text/plain": [
       "  0%|          | 0/24 [00:00<?, ?it/s]"
      ]
     },
     "metadata": {},
     "output_type": "display_data"
    },
    {
     "name": "stdout",
     "output_type": "stream",
     "text": [
      "0 1 1\n",
      "1 1 1\n",
      "2 1 1\n",
      "3 1 1\n",
      "4 3 3\n",
      "5 5 3\n",
      "6 5 3\n",
      "7 7 5\n",
      "8 10 6\n",
      "9 13 10\n",
      "10 19 13\n",
      "11 30 22\n",
      "12 44 24\n",
      "13 51 31\n",
      "14 69 33\n",
      "15 90 52\n",
      "16 121 54\n",
      "17 141 83\n",
      "18 194 100\n",
      "19 245 139\n",
      "20 310 159\n",
      "21 358 168\n",
      "22 365 192\n",
      "23 411 208\n"
     ]
    },
    {
     "data": {
      "application/vnd.jupyter.widget-view+json": {
       "model_id": "ed8ebf91d4424ce4b642292446e5759d",
       "version_major": 2,
       "version_minor": 0
      },
      "text/plain": [
       "  0%|          | 0/24 [00:00<?, ?it/s]"
      ]
     },
     "metadata": {},
     "output_type": "display_data"
    },
    {
     "name": "stdout",
     "output_type": "stream",
     "text": [
      "0 1 1\n",
      "1 1 1\n",
      "2 2 2\n",
      "3 4 3\n",
      "4 7 4\n",
      "5 9 7\n",
      "6 14 9\n",
      "7 20 9\n",
      "8 19 9\n",
      "9 18 7\n",
      "10 14 8\n",
      "11 20 13\n",
      "12 32 17\n",
      "13 41 25\n",
      "14 56 32\n",
      "15 73 42\n",
      "16 94 57\n",
      "17 124 72\n",
      "18 156 87\n",
      "19 214 133\n",
      "20 346 201\n",
      "21 518 272\n",
      "22 707 422\n",
      "23 1076 611\n"
     ]
    },
    {
     "data": {
      "application/vnd.jupyter.widget-view+json": {
       "model_id": "a59f2f31352b4eb98f9d768bd07e4da2",
       "version_major": 2,
       "version_minor": 0
      },
      "text/plain": [
       "  0%|          | 0/24 [00:00<?, ?it/s]"
      ]
     },
     "metadata": {},
     "output_type": "display_data"
    },
    {
     "name": "stdout",
     "output_type": "stream",
     "text": [
      "0 1 1\n",
      "1 1 1\n",
      "2 2 2\n",
      "3 4 3\n",
      "4 7 4\n",
      "5 9 7\n",
      "6 14 9\n",
      "7 20 9\n",
      "8 19 9\n",
      "9 18 7\n",
      "10 14 8\n",
      "11 16 9\n",
      "12 22 14\n",
      "13 34 18\n",
      "14 43 25\n",
      "15 60 34\n",
      "16 78 47\n",
      "17 106 58\n",
      "18 128 78\n",
      "19 186 110\n",
      "20 300 182\n",
      "21 476 260\n",
      "22 694 389\n",
      "23 1019 598\n"
     ]
    },
    {
     "data": {
      "application/vnd.jupyter.widget-view+json": {
       "model_id": "449a23ff6a5e486eb9dbeaa1c233e460",
       "version_major": 2,
       "version_minor": 0
      },
      "text/plain": [
       "  0%|          | 0/24 [00:00<?, ?it/s]"
      ]
     },
     "metadata": {},
     "output_type": "display_data"
    },
    {
     "name": "stdout",
     "output_type": "stream",
     "text": [
      "0 1 1\n",
      "1 1 1\n",
      "2 1 1\n",
      "3 1 1\n",
      "4 3 3\n",
      "5 5 3\n",
      "6 5 3\n",
      "7 7 5\n",
      "8 10 6\n",
      "9 13 10\n",
      "10 19 13\n",
      "11 30 22\n",
      "12 43 23\n",
      "13 49 30\n",
      "14 61 29\n",
      "15 72 42\n",
      "16 103 46\n",
      "17 114 58\n",
      "18 147 89\n",
      "19 229 126\n",
      "20 294 145\n",
      "21 349 173\n",
      "22 480 252\n",
      "23 683 364\n"
     ]
    },
    {
     "data": {
      "application/vnd.jupyter.widget-view+json": {
       "model_id": "06682a9931c54f9c8f0d651e492524a2",
       "version_major": 2,
       "version_minor": 0
      },
      "text/plain": [
       "  0%|          | 0/24 [00:00<?, ?it/s]"
      ]
     },
     "metadata": {},
     "output_type": "display_data"
    },
    {
     "name": "stdout",
     "output_type": "stream",
     "text": [
      "0 1 1\n",
      "1 1 1\n",
      "2 1 1\n",
      "3 1 1\n",
      "4 3 3\n",
      "5 5 3\n",
      "6 5 3\n",
      "7 7 5\n",
      "8 10 6\n",
      "9 13 10\n",
      "10 19 13\n",
      "11 31 23\n",
      "12 49 27\n",
      "13 60 38\n",
      "14 98 56\n",
      "15 139 80\n",
      "16 209 119\n",
      "17 302 171\n",
      "18 427 197\n",
      "19 470 246\n",
      "20 642 327\n",
      "21 922 460\n",
      "22 1252 604\n",
      "23 1637 912\n"
     ]
    },
    {
     "data": {
      "application/vnd.jupyter.widget-view+json": {
       "model_id": "3f8b9cd7610045f49fb9feb103ab6e8e",
       "version_major": 2,
       "version_minor": 0
      },
      "text/plain": [
       "  0%|          | 0/24 [00:00<?, ?it/s]"
      ]
     },
     "metadata": {},
     "output_type": "display_data"
    },
    {
     "name": "stdout",
     "output_type": "stream",
     "text": [
      "0 1 1\n",
      "1 1 1\n",
      "2 3 3\n",
      "3 5 3\n",
      "4 7 5\n",
      "5 9 6\n",
      "6 13 9\n",
      "7 17 8\n",
      "8 17 9\n",
      "9 20 10\n",
      "10 26 13\n",
      "11 32 20\n",
      "12 48 28\n",
      "13 64 41\n",
      "14 90 52\n",
      "15 113 66\n",
      "16 158 101\n",
      "17 271 167\n",
      "18 435 234\n",
      "19 623 371\n",
      "20 941 557\n",
      "21 1324 812\n",
      "22 1855 1079\n",
      "23 2388 1415\n"
     ]
    },
    {
     "data": {
      "application/vnd.jupyter.widget-view+json": {
       "model_id": "bfe3dde9ce3641d482d3c3ea6b17ddc2",
       "version_major": 2,
       "version_minor": 0
      },
      "text/plain": [
       "  0%|          | 0/24 [00:00<?, ?it/s]"
      ]
     },
     "metadata": {},
     "output_type": "display_data"
    },
    {
     "name": "stdout",
     "output_type": "stream",
     "text": [
      "0 1 1\n",
      "1 1 1\n",
      "2 1 1\n",
      "3 2 2\n",
      "4 4 3\n",
      "5 5 3\n",
      "6 7 5\n",
      "7 11 7\n",
      "8 15 9\n",
      "9 21 15\n",
      "10 33 23\n",
      "11 55 29\n",
      "12 69 46\n",
      "13 113 64\n",
      "14 161 96\n",
      "15 242 139\n",
      "16 336 209\n",
      "17 500 273\n",
      "18 659 391\n",
      "19 988 577\n",
      "20 1544 898\n",
      "21 2393 1443\n",
      "22 3751 2304\n",
      "23 5708 3588\n"
     ]
    },
    {
     "data": {
      "application/vnd.jupyter.widget-view+json": {
       "model_id": "5a3b0145a28a492ebcaba5efe7fd858f",
       "version_major": 2,
       "version_minor": 0
      },
      "text/plain": [
       "  0%|          | 0/24 [00:00<?, ?it/s]"
      ]
     },
     "metadata": {},
     "output_type": "display_data"
    },
    {
     "name": "stdout",
     "output_type": "stream",
     "text": [
      "0 1 1\n",
      "1 1 1\n",
      "2 1 1\n",
      "3 1 1\n",
      "4 3 3\n",
      "5 5 3\n",
      "6 5 3\n",
      "7 7 5\n",
      "8 10 6\n",
      "9 13 10\n",
      "10 19 13\n",
      "11 31 23\n",
      "12 49 27\n",
      "13 58 36\n",
      "14 93 53\n",
      "15 131 75\n",
      "16 193 113\n",
      "17 272 149\n",
      "18 370 165\n",
      "19 387 190\n",
      "20 436 208\n",
      "21 562 285\n",
      "22 766 396\n",
      "23 1021 545\n"
     ]
    },
    {
     "data": {
      "application/vnd.jupyter.widget-view+json": {
       "model_id": "1d66d4872e41463c9c5c2229e00de2ea",
       "version_major": 2,
       "version_minor": 0
      },
      "text/plain": [
       "  0%|          | 0/24 [00:00<?, ?it/s]"
      ]
     },
     "metadata": {},
     "output_type": "display_data"
    },
    {
     "name": "stdout",
     "output_type": "stream",
     "text": [
      "0 1 1\n",
      "1 1 1\n",
      "2 2 2\n",
      "3 3 2\n",
      "4 5 3\n",
      "5 6 5\n",
      "6 12 8\n",
      "7 17 9\n",
      "8 21 7\n",
      "9 15 5\n",
      "10 10 6\n",
      "11 12 7\n",
      "12 18 12\n",
      "13 30 16\n",
      "14 39 24\n",
      "15 54 31\n",
      "16 71 41\n",
      "17 91 55\n",
      "18 142 93\n",
      "19 253 146\n",
      "20 389 231\n",
      "21 595 362\n",
      "22 871 537\n",
      "23 1237 755\n"
     ]
    },
    {
     "data": {
      "application/vnd.jupyter.widget-view+json": {
       "model_id": "d3e6b0b204ce4218a7604c9de8b840f3",
       "version_major": 2,
       "version_minor": 0
      },
      "text/plain": [
       "  0%|          | 0/24 [00:00<?, ?it/s]"
      ]
     },
     "metadata": {},
     "output_type": "display_data"
    },
    {
     "name": "stdout",
     "output_type": "stream",
     "text": [
      "0 1 1\n",
      "1 1 1\n",
      "2 1 1\n",
      "3 1 1\n",
      "4 3 3\n",
      "5 5 3\n",
      "6 5 3\n",
      "7 7 5\n",
      "8 10 6\n",
      "9 13 10\n",
      "10 19 13\n",
      "11 30 22\n",
      "12 43 23\n",
      "13 48 29\n",
      "14 58 27\n",
      "15 57 30\n",
      "16 68 28\n",
      "17 75 38\n",
      "18 95 43\n",
      "19 105 62\n",
      "20 152 82\n",
      "21 198 109\n",
      "22 256 135\n",
      "23 307 178\n"
     ]
    },
    {
     "data": {
      "application/vnd.jupyter.widget-view+json": {
       "model_id": "9e24dc472931448198e05c907b34cd15",
       "version_major": 2,
       "version_minor": 0
      },
      "text/plain": [
       "  0%|          | 0/24 [00:00<?, ?it/s]"
      ]
     },
     "metadata": {},
     "output_type": "display_data"
    },
    {
     "name": "stdout",
     "output_type": "stream",
     "text": [
      "0 1 1\n",
      "1 1 1\n",
      "2 1 1\n",
      "3 2 2\n",
      "4 4 3\n",
      "5 6 4\n",
      "6 8 4\n",
      "7 10 8\n",
      "8 17 12\n",
      "9 27 18\n",
      "10 36 17\n",
      "11 39 22\n",
      "12 60 29\n",
      "13 72 37\n",
      "14 92 55\n",
      "15 133 70\n",
      "16 159 78\n",
      "17 169 93\n",
      "18 198 111\n",
      "19 233 126\n",
      "20 274 157\n",
      "21 393 239\n",
      "22 596 316\n",
      "23 779 409\n"
     ]
    }
   ],
   "source": [
    "ans = []\n",
    "\n",
    "for bluep_id, line in enumerate(lines):\n",
    "  a = amap(int, re.findall(r'-?\\d+', line))\n",
    "  id = a[0]\n",
    "  rob1_1_cost = a[1]\n",
    "  rob2_1_cost = a[2]\n",
    "  rob3_1_cost, rob3_2_cost = a[3:5]\n",
    "  rob4_1_cost, rob4_3_cost = a[5:7]\n",
    "  \n",
    "  states = [\n",
    "    (\n",
    "     0, 1,\n",
    "    0, 0,\n",
    "    0, 0,\n",
    "    0, 0,\n",
    "    )\n",
    "  ]\n",
    "  # visited = set()\n",
    "  \n",
    "  for time in tqdm(range(24)):\n",
    "    newpareto = set()\n",
    "    newstates = []\n",
    "    \n",
    "    for state in states:\n",
    "      h1, r1, h2, r2, h3, r3, h4, r4 = state\n",
    "      \n",
    "      if (\n",
    "          h1 >= rob1_1_cost\n",
    "          and r1 < max(rob1_1_cost, rob2_1_cost, rob3_1_cost, r1 < rob4_1_cost)\n",
    "          and h1 < max(rob1_1_cost, rob2_1_cost, rob3_1_cost, r1 < rob4_1_cost) * 2\n",
    "      ):\n",
    "        newstates.append(\n",
    "          (\n",
    "            h1 - rob1_1_cost + r1, r1 + 1,\n",
    "            h2 + r2, r2,\n",
    "            h3 + r3, r3,\n",
    "            h4 + r4, r4\n",
    "          )\n",
    "        )\n",
    "      \n",
    "      if (\n",
    "          h1 >= rob2_1_cost\n",
    "          and r2 < rob3_2_cost\n",
    "          and h2 < rob3_2_cost * 2\n",
    "      ):\n",
    "        newstates.append(\n",
    "          (\n",
    "            h1 - rob2_1_cost + r1, r1,\n",
    "            h2 + r2, r2 + 1,\n",
    "            h3 + r3, r3,\n",
    "            h4 + r4, r4\n",
    "          )\n",
    "        )\n",
    "      \n",
    "      if (\n",
    "          h1 >= rob3_1_cost and h2 >= rob3_2_cost\n",
    "          and r3 < rob4_3_cost\n",
    "          and h3 < rob4_3_cost * 2\n",
    "      ):\n",
    "        newstates.append(\n",
    "          (\n",
    "            h1 - rob3_1_cost + r1, r1,\n",
    "            h2 - rob3_2_cost + r2, r2,\n",
    "            h3 + r3, r3 + 1,\n",
    "            h4 + r4, r4\n",
    "          )\n",
    "        )\n",
    "      \n",
    "      if h1 >= rob4_1_cost and h3 >= rob4_3_cost:\n",
    "        newstates.append(\n",
    "          (\n",
    "            h1 - rob4_1_cost + r1, r1,\n",
    "            h2 + r2, r2,\n",
    "            h3 - rob4_3_cost + r3, r3,\n",
    "            h4 + r4, r4 + 1\n",
    "          )\n",
    "        )\n",
    "      \n",
    "      newstates.append(\n",
    "        (\n",
    "          h1 + r1, r1,\n",
    "          h2 + r2, r2,\n",
    "          h3 + r3, r3,\n",
    "          h4 + r4, r4\n",
    "        )\n",
    "      )\n",
    "      \n",
    "      for i in newstates:\n",
    "        newpareto.add(i)\n",
    "\n",
    "    newstates = []\n",
    "    for i in newpareto:\n",
    "      should_add = True\n",
    "      for j in newpareto:\n",
    "        if i == j:\n",
    "          continue\n",
    "        found_better = True\n",
    "        for ii, jj in zip(i, j):\n",
    "          if jj >= ii:\n",
    "            pass\n",
    "          else:\n",
    "            found_better = False\n",
    "            break\n",
    "        if found_better:\n",
    "          should_add = False\n",
    "          break\n",
    "      if should_add:\n",
    "        newstates.append(i)\n",
    "      \n",
    "    states = newstates\n",
    "    print(time, len(newpareto), len(states))\n",
    "  \n",
    "  ans.append(max([i[-2] for i in states]))"
   ]
  },
  {
   "cell_type": "code",
   "execution_count": 140,
   "metadata": {
    "execution": {
     "iopub.execute_input": "2022-12-19T07:20:04.206197Z",
     "iopub.status.busy": "2022-12-19T07:20:04.206056Z",
     "iopub.status.idle": "2022-12-19T07:20:04.208698Z",
     "shell.execute_reply": "2022-12-19T07:20:04.208329Z",
     "shell.execute_reply.started": "2022-12-19T07:20:04.206189Z"
    },
    "tags": []
   },
   "outputs": [
    {
     "data": {
      "text/plain": [
       "[4,\n",
       " 9,\n",
       " 3,\n",
       " 0,\n",
       " 0,\n",
       " 0,\n",
       " 1,\n",
       " 1,\n",
       " 1,\n",
       " 0,\n",
       " 6,\n",
       " 5,\n",
       " 8,\n",
       " 0,\n",
       " 1,\n",
       " 0,\n",
       " 0,\n",
       " 0,\n",
       " 13,\n",
       " 0,\n",
       " 5,\n",
       " 5,\n",
       " 2,\n",
       " 5,\n",
       " 14,\n",
       " 9,\n",
       " 4,\n",
       " 9,\n",
       " 0,\n",
       " 3]"
      ]
     },
     "execution_count": 140,
     "metadata": {},
     "output_type": "execute_result"
    }
   ],
   "source": [
    "ans"
   ]
  },
  {
   "cell_type": "code",
   "execution_count": 144,
   "metadata": {
    "execution": {
     "iopub.execute_input": "2022-12-19T07:22:18.899792Z",
     "iopub.status.busy": "2022-12-19T07:22:18.899421Z",
     "iopub.status.idle": "2022-12-19T11:27:47.776843Z",
     "shell.execute_reply": "2022-12-19T11:27:47.776353Z",
     "shell.execute_reply.started": "2022-12-19T07:22:18.899772Z"
    },
    "tags": []
   },
   "outputs": [
    {
     "data": {
      "application/vnd.jupyter.widget-view+json": {
       "model_id": "3750389c11f545ba954af4be099098d1",
       "version_major": 2,
       "version_minor": 0
      },
      "text/plain": [
       "  0%|          | 0/32 [00:00<?, ?it/s]"
      ]
     },
     "metadata": {},
     "output_type": "display_data"
    },
    {
     "name": "stdout",
     "output_type": "stream",
     "text": [
      "0 1 1\n",
      "1 1 1\n",
      "2 1 1\n",
      "3 3 3\n",
      "4 5 3\n",
      "5 7 5\n",
      "6 10 6\n",
      "7 12 9\n",
      "8 20 14\n",
      "9 27 14\n",
      "10 28 17\n",
      "11 36 19\n",
      "12 39 18\n",
      "13 45 25\n",
      "14 66 32\n",
      "15 75 41\n",
      "16 102 63\n",
      "17 151 75\n",
      "18 170 101\n",
      "19 222 128\n",
      "20 318 192\n",
      "21 516 312\n",
      "22 834 457\n",
      "23 1252 766\n",
      "24 1966 1168\n",
      "25 2889 1793\n",
      "26 4233 2544\n",
      "27 5683 3413\n",
      "28 7487 4422\n",
      "29 9464 5594\n",
      "30 11871 6857\n",
      "31 14424 8183\n"
     ]
    },
    {
     "data": {
      "application/vnd.jupyter.widget-view+json": {
       "model_id": "4dcd6cfb0b5c473d965ff3e51dafc743",
       "version_major": 2,
       "version_minor": 0
      },
      "text/plain": [
       "  0%|          | 0/32 [00:00<?, ?it/s]"
      ]
     },
     "metadata": {},
     "output_type": "display_data"
    },
    {
     "name": "stdout",
     "output_type": "stream",
     "text": [
      "0 1 1\n",
      "1 1 1\n",
      "2 1 1\n",
      "3 1 1\n",
      "4 3 3\n",
      "5 5 3\n",
      "6 5 3\n",
      "7 7 5\n",
      "8 10 6\n",
      "9 13 10\n",
      "10 20 14\n",
      "11 33 24\n",
      "12 50 28\n",
      "13 70 47\n",
      "14 110 57\n",
      "15 152 99\n",
      "16 220 108\n",
      "17 267 133\n",
      "18 327 155\n",
      "19 402 186\n",
      "20 486 267\n",
      "21 696 381\n",
      "22 967 521\n",
      "23 1282 711\n",
      "24 1677 959\n",
      "25 2175 1206\n",
      "26 2662 1505\n",
      "27 3259 1843\n",
      "28 3938 2214\n",
      "29 4684 2595\n",
      "30 5445 2954\n",
      "31 6152 3315\n"
     ]
    },
    {
     "data": {
      "application/vnd.jupyter.widget-view+json": {
       "model_id": "994b17d853c740d781951e4f3942e43d",
       "version_major": 2,
       "version_minor": 0
      },
      "text/plain": [
       "  0%|          | 0/32 [00:00<?, ?it/s]"
      ]
     },
     "metadata": {},
     "output_type": "display_data"
    },
    {
     "name": "stdout",
     "output_type": "stream",
     "text": [
      "0 1 1\n",
      "1 1 1\n",
      "2 1 1\n",
      "3 1 1\n",
      "4 3 3\n",
      "5 5 3\n",
      "6 5 3\n",
      "7 7 5\n",
      "8 10 6\n",
      "9 13 10\n",
      "10 19 13\n",
      "11 30 22\n",
      "12 43 23\n",
      "13 49 30\n",
      "14 67 34\n",
      "15 84 47\n",
      "16 117 53\n",
      "17 135 73\n",
      "18 190 106\n",
      "19 267 142\n",
      "20 356 184\n",
      "21 525 295\n",
      "22 840 439\n",
      "23 1256 714\n",
      "24 2024 1217\n",
      "25 3131 1896\n",
      "26 4564 2600\n",
      "27 5922 3329\n",
      "28 7354 4048\n",
      "29 8759 4788\n",
      "30 10134 5456\n",
      "31 11442 6281\n"
     ]
    },
    {
     "data": {
      "application/vnd.jupyter.widget-view+json": {
       "model_id": "311aeb106d114df0953e1b7adb48ac4f",
       "version_major": 2,
       "version_minor": 0
      },
      "text/plain": [
       "  0%|          | 0/32 [00:00<?, ?it/s]"
      ]
     },
     "metadata": {},
     "output_type": "display_data"
    },
    {
     "name": "stdout",
     "output_type": "stream",
     "text": [
      "0 1 1\n",
      "1 1 1\n",
      "2 1 1\n",
      "3 1 1\n",
      "4 3 3\n",
      "5 5 3\n",
      "6 5 3\n",
      "7 7 5\n",
      "8 10 6\n",
      "9 13 10\n",
      "10 19 13\n",
      "11 30 22\n",
      "12 43 23\n",
      "13 48 29\n",
      "14 59 28\n",
      "15 62 34\n",
      "16 87 40\n",
      "17 101 48\n",
      "18 111 56\n",
      "19 144 84\n",
      "20 202 100\n",
      "21 242 121\n",
      "22 268 142\n",
      "23 313 170\n",
      "24 374 220\n",
      "25 563 361\n",
      "26 966 546\n",
      "27 1420 750\n",
      "28 2000 1162\n",
      "29 2965 1660\n",
      "30 4120 2332\n",
      "31 5597 3335\n"
     ]
    },
    {
     "data": {
      "application/vnd.jupyter.widget-view+json": {
       "model_id": "ce38a6a4c4a94e59a98b9e83c462bd87",
       "version_major": 2,
       "version_minor": 0
      },
      "text/plain": [
       "  0%|          | 0/32 [00:00<?, ?it/s]"
      ]
     },
     "metadata": {},
     "output_type": "display_data"
    },
    {
     "name": "stdout",
     "output_type": "stream",
     "text": [
      "0 1 1\n",
      "1 1 1\n",
      "2 1 1\n",
      "3 1 1\n",
      "4 3 3\n",
      "5 5 3\n",
      "6 5 3\n",
      "7 7 5\n",
      "8 10 6\n",
      "9 13 10\n",
      "10 19 13\n",
      "11 30 22\n",
      "12 44 24\n",
      "13 53 33\n",
      "14 77 38\n",
      "15 100 60\n",
      "16 135 62\n",
      "17 162 97\n",
      "18 230 118\n",
      "19 273 141\n",
      "20 312 148\n",
      "21 332 167\n",
      "22 354 179\n",
      "23 432 262\n",
      "24 675 385\n",
      "25 969 501\n",
      "26 1292 765\n",
      "27 1912 1099\n",
      "28 2619 1524\n",
      "29 3547 2076\n",
      "30 4666 2684\n",
      "31 5935 3422\n"
     ]
    },
    {
     "data": {
      "application/vnd.jupyter.widget-view+json": {
       "model_id": "8e8ec6d2d4c547e6826645beb47dc5f6",
       "version_major": 2,
       "version_minor": 0
      },
      "text/plain": [
       "  0%|          | 0/32 [00:00<?, ?it/s]"
      ]
     },
     "metadata": {},
     "output_type": "display_data"
    },
    {
     "name": "stdout",
     "output_type": "stream",
     "text": [
      "0 1 1\n",
      "1 1 1\n",
      "2 1 1\n",
      "3 1 1\n",
      "4 3 3\n",
      "5 5 3\n",
      "6 5 3\n",
      "7 7 5\n",
      "8 10 6\n",
      "9 13 10\n",
      "10 19 13\n",
      "11 30 22\n",
      "12 43 23\n",
      "13 48 29\n",
      "14 61 30\n",
      "15 67 36\n",
      "16 96 46\n",
      "17 109 51\n",
      "18 128 78\n",
      "19 198 110\n",
      "20 276 126\n",
      "21 307 143\n",
      "22 332 154\n",
      "23 347 176\n",
      "24 385 222\n",
      "25 511 300\n",
      "26 798 483\n",
      "27 1274 687\n",
      "28 1760 924\n",
      "29 2461 1454\n",
      "30 3731 2117\n",
      "31 5263 3022\n"
     ]
    },
    {
     "data": {
      "application/vnd.jupyter.widget-view+json": {
       "model_id": "50182793d2344feda643d9cd95293083",
       "version_major": 2,
       "version_minor": 0
      },
      "text/plain": [
       "  0%|          | 0/32 [00:00<?, ?it/s]"
      ]
     },
     "metadata": {},
     "output_type": "display_data"
    },
    {
     "name": "stdout",
     "output_type": "stream",
     "text": [
      "0 1 1\n",
      "1 1 1\n",
      "2 2 2\n",
      "3 3 2\n",
      "4 5 3\n",
      "5 6 5\n",
      "6 12 8\n",
      "7 17 9\n",
      "8 21 7\n",
      "9 15 5\n",
      "10 10 6\n",
      "11 12 7\n",
      "12 14 8\n",
      "13 19 12\n",
      "14 29 16\n",
      "15 39 21\n",
      "16 52 31\n",
      "17 74 42\n",
      "18 96 58\n",
      "19 132 73\n",
      "20 161 96\n",
      "21 210 115\n",
      "22 261 160\n",
      "23 415 249\n",
      "24 673 384\n",
      "25 992 501\n",
      "26 1348 763\n",
      "27 1977 1125\n",
      "28 2795 1572\n",
      "29 3814 2289\n",
      "30 5346 3067\n",
      "31 7021 4179\n"
     ]
    },
    {
     "data": {
      "application/vnd.jupyter.widget-view+json": {
       "model_id": "4fbbb1c6d6044e16b0e2b887a43cc5a9",
       "version_major": 2,
       "version_minor": 0
      },
      "text/plain": [
       "  0%|          | 0/32 [00:00<?, ?it/s]"
      ]
     },
     "metadata": {},
     "output_type": "display_data"
    },
    {
     "name": "stdout",
     "output_type": "stream",
     "text": [
      "0 1 1\n",
      "1 1 1\n",
      "2 1 1\n",
      "3 1 1\n",
      "4 3 3\n",
      "5 5 3\n",
      "6 5 3\n",
      "7 7 5\n",
      "8 10 6\n",
      "9 13 10\n",
      "10 19 13\n",
      "11 30 22\n",
      "12 44 24\n",
      "13 50 30\n",
      "14 71 38\n",
      "15 97 57\n",
      "16 139 64\n",
      "17 168 98\n",
      "18 251 130\n",
      "19 328 185\n",
      "20 437 204\n",
      "21 478 220\n",
      "22 524 263\n",
      "23 703 385\n",
      "24 1043 566\n",
      "25 1492 841\n",
      "26 2298 1488\n",
      "27 3892 2218\n",
      "28 5481 3242\n",
      "29 7693 4201\n",
      "30 9603 5287\n",
      "31 11768 6135\n"
     ]
    },
    {
     "data": {
      "application/vnd.jupyter.widget-view+json": {
       "model_id": "219bd3bd8fef4b258a4e24789c25de59",
       "version_major": 2,
       "version_minor": 0
      },
      "text/plain": [
       "  0%|          | 0/32 [00:00<?, ?it/s]"
      ]
     },
     "metadata": {},
     "output_type": "display_data"
    },
    {
     "name": "stdout",
     "output_type": "stream",
     "text": [
      "0 1 1\n",
      "1 1 1\n",
      "2 1 1\n",
      "3 1 1\n",
      "4 3 3\n",
      "5 5 3\n",
      "6 5 3\n",
      "7 7 5\n",
      "8 10 6\n",
      "9 13 10\n",
      "10 19 13\n",
      "11 31 23\n",
      "12 49 27\n",
      "13 58 36\n",
      "14 93 53\n",
      "15 131 75\n",
      "16 193 113\n",
      "17 272 149\n",
      "18 370 165\n",
      "19 386 189\n",
      "20 422 196\n",
      "21 441 193\n",
      "22 424 215\n",
      "23 546 322\n",
      "24 835 433\n",
      "25 1092 559\n",
      "26 1447 850\n",
      "27 2163 1205\n",
      "28 2924 1679\n",
      "29 4000 2236\n",
      "30 5110 2861\n",
      "31 6483 3670\n"
     ]
    },
    {
     "data": {
      "application/vnd.jupyter.widget-view+json": {
       "model_id": "5f6381999cbe4a538f8393191e67c90a",
       "version_major": 2,
       "version_minor": 0
      },
      "text/plain": [
       "  0%|          | 0/32 [00:00<?, ?it/s]"
      ]
     },
     "metadata": {},
     "output_type": "display_data"
    },
    {
     "name": "stdout",
     "output_type": "stream",
     "text": [
      "0 1 1\n",
      "1 1 1\n",
      "2 1 1\n",
      "3 2 2\n",
      "4 4 3\n",
      "5 5 3\n",
      "6 7 5\n",
      "7 11 7\n",
      "8 15 9\n",
      "9 20 14\n",
      "10 31 22\n",
      "11 48 25\n",
      "12 54 35\n",
      "13 77 40\n",
      "14 97 53\n",
      "15 131 66\n",
      "16 164 100\n",
      "17 261 154\n",
      "18 387 242\n",
      "19 587 355\n",
      "20 822 493\n",
      "21 1124 646\n",
      "22 1420 849\n",
      "23 1912 1174\n",
      "24 2974 1900\n",
      "25 5112 3108\n",
      "26 8190 4713\n",
      "27 12568 7525\n",
      "28 19741 12023\n",
      "29 30081 18006\n",
      "30 43696 26722\n",
      "31 62224 37626\n"
     ]
    },
    {
     "data": {
      "application/vnd.jupyter.widget-view+json": {
       "model_id": "65f61028583a46f5b33cca58f2aaec3f",
       "version_major": 2,
       "version_minor": 0
      },
      "text/plain": [
       "  0%|          | 0/32 [00:00<?, ?it/s]"
      ]
     },
     "metadata": {},
     "output_type": "display_data"
    },
    {
     "name": "stdout",
     "output_type": "stream",
     "text": [
      "0 1 1\n",
      "1 1 1\n",
      "2 1 1\n",
      "3 1 1\n",
      "4 3 3\n",
      "5 5 3\n",
      "6 5 3\n",
      "7 7 5\n",
      "8 10 6\n",
      "9 13 10\n",
      "10 21 15\n",
      "11 37 26\n",
      "12 58 30\n",
      "13 70 43\n",
      "14 114 68\n",
      "15 169 103\n",
      "16 253 143\n",
      "17 338 187\n",
      "18 431 206\n",
      "19 502 255\n",
      "20 670 353\n",
      "21 931 487\n",
      "22 1240 685\n",
      "23 1718 944\n",
      "24 2268 1310\n",
      "25 3106 1762\n",
      "26 4046 2294\n",
      "27 5083 2820\n",
      "28 6150 3367\n",
      "29 7273 3954\n",
      "30 8484 4591\n",
      "31 9743 5253\n"
     ]
    },
    {
     "data": {
      "application/vnd.jupyter.widget-view+json": {
       "model_id": "7c3b93a3288c4a41a94a6be9d6eb9b12",
       "version_major": 2,
       "version_minor": 0
      },
      "text/plain": [
       "  0%|          | 0/32 [00:00<?, ?it/s]"
      ]
     },
     "metadata": {},
     "output_type": "display_data"
    },
    {
     "name": "stdout",
     "output_type": "stream",
     "text": [
      "0 1 1\n",
      "1 1 1\n",
      "2 2 2\n",
      "3 4 3\n",
      "4 7 4\n",
      "5 9 7\n",
      "6 14 9\n",
      "7 20 9\n",
      "8 19 9\n",
      "9 18 7\n",
      "10 14 8\n",
      "11 19 12\n",
      "12 29 16\n",
      "13 39 23\n",
      "14 55 32\n",
      "15 73 44\n",
      "16 99 56\n",
      "17 123 72\n",
      "18 155 91\n",
      "19 214 127\n",
      "20 335 202\n",
      "21 526 288\n",
      "22 745 403\n",
      "23 1057 622\n",
      "24 1539 870\n",
      "25 2076 1288\n",
      "26 2957 1709\n",
      "27 3861 2324\n",
      "28 5109 2946\n",
      "29 6448 3769\n",
      "30 8100 4668\n",
      "31 9944 5675\n"
     ]
    },
    {
     "data": {
      "application/vnd.jupyter.widget-view+json": {
       "model_id": "bbe8fc13ae0d4f38aaec95f6e77b4ba7",
       "version_major": 2,
       "version_minor": 0
      },
      "text/plain": [
       "  0%|          | 0/32 [00:00<?, ?it/s]"
      ]
     },
     "metadata": {},
     "output_type": "display_data"
    },
    {
     "name": "stdout",
     "output_type": "stream",
     "text": [
      "0 1 1\n",
      "1 1 1\n",
      "2 1 1\n",
      "3 2 2\n",
      "4 4 3\n",
      "5 6 4\n",
      "6 8 4\n",
      "7 10 8\n",
      "8 17 12\n",
      "9 27 18\n",
      "10 36 17\n",
      "11 41 24\n",
      "12 62 30\n",
      "13 78 45\n",
      "14 119 70\n",
      "15 171 90\n",
      "16 212 108\n",
      "17 242 114\n",
      "18 264 146\n",
      "19 378 216\n",
      "20 557 298\n",
      "21 759 436\n",
      "22 1066 592\n",
      "23 1394 804\n",
      "24 1836 1045\n",
      "25 2350 1313\n",
      "26 2881 1648\n",
      "27 3577 2008\n",
      "28 4304 2352\n",
      "29 5004 2781\n",
      "30 5874 3285\n",
      "31 6920 3773\n"
     ]
    },
    {
     "data": {
      "application/vnd.jupyter.widget-view+json": {
       "model_id": "aa673da520d24fd1923d25dcf4162100",
       "version_major": 2,
       "version_minor": 0
      },
      "text/plain": [
       "  0%|          | 0/32 [00:00<?, ?it/s]"
      ]
     },
     "metadata": {},
     "output_type": "display_data"
    },
    {
     "name": "stdout",
     "output_type": "stream",
     "text": [
      "0 1 1\n",
      "1 1 1\n",
      "2 1 1\n",
      "3 2 2\n",
      "4 4 3\n",
      "5 6 4\n",
      "6 8 4\n",
      "7 10 8\n",
      "8 17 12\n",
      "9 27 18\n",
      "10 36 17\n",
      "11 37 20\n",
      "12 41 17\n",
      "13 35 18\n",
      "14 36 17\n",
      "15 43 26\n",
      "16 64 34\n",
      "17 81 44\n",
      "18 108 63\n",
      "19 148 80\n",
      "20 184 107\n",
      "21 238 132\n",
      "22 290 161\n",
      "23 347 197\n",
      "24 476 283\n",
      "25 755 446\n",
      "26 1171 609\n",
      "27 1605 858\n",
      "28 2271 1347\n",
      "29 3361 1880\n",
      "30 4650 2835\n",
      "31 6719 3924\n"
     ]
    },
    {
     "data": {
      "application/vnd.jupyter.widget-view+json": {
       "model_id": "a2403582a79a49e9894d7bdf2f0f5e7b",
       "version_major": 2,
       "version_minor": 0
      },
      "text/plain": [
       "  0%|          | 0/32 [00:00<?, ?it/s]"
      ]
     },
     "metadata": {},
     "output_type": "display_data"
    },
    {
     "name": "stdout",
     "output_type": "stream",
     "text": [
      "0 1 1\n",
      "1 1 1\n",
      "2 1 1\n",
      "3 2 2\n",
      "4 4 3\n",
      "5 6 4\n",
      "6 8 4\n",
      "7 10 8\n",
      "8 17 12\n",
      "9 27 18\n",
      "10 36 17\n",
      "11 37 20\n",
      "12 41 17\n",
      "13 35 18\n",
      "14 36 17\n",
      "15 42 25\n",
      "16 61 33\n",
      "17 80 42\n",
      "18 105 65\n",
      "19 157 87\n",
      "20 199 122\n",
      "21 275 149\n",
      "22 381 246\n",
      "23 676 387\n",
      "24 1051 590\n",
      "25 1587 908\n",
      "26 2398 1390\n",
      "27 3445 2058\n",
      "28 4908 2957\n",
      "29 6738 4021\n",
      "30 8881 5276\n",
      "31 11349 6693\n"
     ]
    },
    {
     "data": {
      "application/vnd.jupyter.widget-view+json": {
       "model_id": "ea7b9838706842c9b7ebf5968e21bf5a",
       "version_major": 2,
       "version_minor": 0
      },
      "text/plain": [
       "  0%|          | 0/32 [00:00<?, ?it/s]"
      ]
     },
     "metadata": {},
     "output_type": "display_data"
    },
    {
     "name": "stdout",
     "output_type": "stream",
     "text": [
      "0 1 1\n",
      "1 1 1\n",
      "2 1 1\n",
      "3 2 2\n",
      "4 4 3\n",
      "5 6 4\n",
      "6 8 4\n",
      "7 10 8\n",
      "8 17 12\n",
      "9 27 18\n",
      "10 36 17\n",
      "11 37 20\n",
      "12 41 17\n",
      "13 35 18\n",
      "14 36 17\n",
      "15 41 24\n",
      "16 58 32\n",
      "17 78 42\n",
      "18 104 63\n",
      "19 152 86\n",
      "20 197 118\n",
      "21 269 148\n",
      "22 327 195\n",
      "23 427 234\n",
      "24 576 367\n",
      "25 1007 590\n",
      "26 1566 832\n",
      "27 2208 1208\n",
      "28 3219 1809\n",
      "29 4583 2531\n",
      "30 6203 3662\n",
      "31 8677 4934\n"
     ]
    },
    {
     "data": {
      "application/vnd.jupyter.widget-view+json": {
       "model_id": "b8bd6a9d2a1d43f6b9222db3e4acc14b",
       "version_major": 2,
       "version_minor": 0
      },
      "text/plain": [
       "  0%|          | 0/32 [00:00<?, ?it/s]"
      ]
     },
     "metadata": {},
     "output_type": "display_data"
    },
    {
     "name": "stdout",
     "output_type": "stream",
     "text": [
      "0 1 1\n",
      "1 1 1\n",
      "2 1 1\n",
      "3 3 3\n",
      "4 5 3\n",
      "5 7 5\n",
      "6 10 6\n",
      "7 12 9\n",
      "8 20 14\n",
      "9 27 14\n",
      "10 28 17\n",
      "11 36 19\n",
      "12 38 17\n",
      "13 36 19\n",
      "14 50 27\n",
      "15 66 38\n",
      "16 88 48\n",
      "17 124 76\n",
      "18 188 100\n",
      "19 234 135\n",
      "20 311 156\n",
      "21 352 198\n",
      "22 434 229\n",
      "23 493 264\n",
      "24 599 346\n",
      "25 919 551\n",
      "26 1432 754\n",
      "27 1937 992\n",
      "28 2649 1485\n",
      "29 3834 2179\n",
      "30 5362 2889\n",
      "31 6993 4226\n"
     ]
    },
    {
     "data": {
      "application/vnd.jupyter.widget-view+json": {
       "model_id": "1078d02a35484ee3bb033b3d961a217b",
       "version_major": 2,
       "version_minor": 0
      },
      "text/plain": [
       "  0%|          | 0/32 [00:00<?, ?it/s]"
      ]
     },
     "metadata": {},
     "output_type": "display_data"
    },
    {
     "name": "stdout",
     "output_type": "stream",
     "text": [
      "0 1 1\n",
      "1 1 1\n",
      "2 1 1\n",
      "3 3 3\n",
      "4 5 3\n",
      "5 7 5\n",
      "6 10 6\n",
      "7 12 9\n",
      "8 20 14\n",
      "9 27 14\n",
      "10 28 17\n",
      "11 36 19\n",
      "12 38 17\n",
      "13 35 18\n",
      "14 47 24\n",
      "15 59 32\n",
      "16 78 41\n",
      "17 102 62\n",
      "18 149 84\n",
      "19 192 117\n",
      "20 266 146\n",
      "21 322 193\n",
      "22 422 232\n",
      "23 503 296\n",
      "24 671 379\n",
      "25 991 604\n",
      "26 1581 848\n",
      "27 2214 1135\n",
      "28 2965 1613\n",
      "29 4209 2410\n",
      "30 6021 3221\n",
      "31 7967 4622\n"
     ]
    },
    {
     "data": {
      "application/vnd.jupyter.widget-view+json": {
       "model_id": "58f44af75fcf485f8e0990fdaa31dd1d",
       "version_major": 2,
       "version_minor": 0
      },
      "text/plain": [
       "  0%|          | 0/32 [00:00<?, ?it/s]"
      ]
     },
     "metadata": {},
     "output_type": "display_data"
    },
    {
     "name": "stdout",
     "output_type": "stream",
     "text": [
      "0 1 1\n",
      "1 1 1\n",
      "2 1 1\n",
      "3 2 2\n",
      "4 4 3\n",
      "5 6 4\n",
      "6 8 4\n",
      "7 10 8\n",
      "8 17 12\n",
      "9 27 18\n",
      "10 38 18\n",
      "11 44 26\n",
      "12 69 33\n",
      "13 81 48\n",
      "14 113 58\n",
      "15 134 66\n",
      "16 142 78\n",
      "17 180 108\n",
      "18 271 159\n",
      "19 398 224\n",
      "20 573 331\n",
      "21 805 467\n",
      "22 1079 619\n",
      "23 1404 786\n",
      "24 1736 968\n",
      "25 2095 1173\n",
      "26 2520 1415\n",
      "27 3002 1656\n",
      "28 3500 1922\n",
      "29 4029 2201\n",
      "30 4596 2477\n",
      "31 5144 2751\n"
     ]
    },
    {
     "data": {
      "application/vnd.jupyter.widget-view+json": {
       "model_id": "a63dcb7c55ce4ba789ab46499486d66d",
       "version_major": 2,
       "version_minor": 0
      },
      "text/plain": [
       "  0%|          | 0/32 [00:00<?, ?it/s]"
      ]
     },
     "metadata": {},
     "output_type": "display_data"
    },
    {
     "name": "stdout",
     "output_type": "stream",
     "text": [
      "0 1 1\n",
      "1 1 1\n",
      "2 1 1\n",
      "3 1 1\n",
      "4 3 3\n",
      "5 5 3\n",
      "6 5 3\n",
      "7 7 5\n",
      "8 10 6\n",
      "9 13 10\n",
      "10 19 13\n",
      "11 30 22\n",
      "12 44 24\n",
      "13 51 31\n",
      "14 69 33\n",
      "15 90 52\n",
      "16 121 54\n",
      "17 141 83\n",
      "18 194 100\n",
      "19 245 139\n",
      "20 310 159\n",
      "21 358 168\n",
      "22 365 192\n",
      "23 411 208\n",
      "24 505 309\n",
      "25 787 434\n",
      "26 1088 565\n",
      "27 1436 809\n",
      "28 2028 1140\n",
      "29 2745 1506\n",
      "30 3534 2095\n",
      "31 4807 2646\n"
     ]
    },
    {
     "data": {
      "application/vnd.jupyter.widget-view+json": {
       "model_id": "74fb918c96004b5d8e43317338bf2bed",
       "version_major": 2,
       "version_minor": 0
      },
      "text/plain": [
       "  0%|          | 0/32 [00:00<?, ?it/s]"
      ]
     },
     "metadata": {},
     "output_type": "display_data"
    },
    {
     "name": "stdout",
     "output_type": "stream",
     "text": [
      "0 1 1\n",
      "1 1 1\n",
      "2 2 2\n",
      "3 4 3\n",
      "4 7 4\n",
      "5 9 7\n",
      "6 14 9\n",
      "7 20 9\n",
      "8 19 9\n",
      "9 18 7\n",
      "10 14 8\n",
      "11 20 13\n",
      "12 32 17\n",
      "13 41 25\n",
      "14 56 32\n",
      "15 73 42\n",
      "16 94 57\n",
      "17 124 72\n",
      "18 156 87\n",
      "19 214 133\n",
      "20 346 201\n",
      "21 518 272\n",
      "22 707 422\n",
      "23 1076 611\n",
      "24 1472 863\n",
      "25 2010 1208\n",
      "26 2732 1602\n",
      "27 3566 2084\n",
      "28 4558 2685\n",
      "29 5829 3296\n",
      "30 7104 4086\n",
      "31 8723 4881\n"
     ]
    },
    {
     "data": {
      "application/vnd.jupyter.widget-view+json": {
       "model_id": "9ae4d8c921d0463880f8d958e7a11ff5",
       "version_major": 2,
       "version_minor": 0
      },
      "text/plain": [
       "  0%|          | 0/32 [00:00<?, ?it/s]"
      ]
     },
     "metadata": {},
     "output_type": "display_data"
    },
    {
     "name": "stdout",
     "output_type": "stream",
     "text": [
      "0 1 1\n",
      "1 1 1\n",
      "2 2 2\n",
      "3 4 3\n",
      "4 7 4\n",
      "5 9 7\n",
      "6 14 9\n",
      "7 20 9\n",
      "8 19 9\n",
      "9 18 7\n",
      "10 14 8\n",
      "11 16 9\n",
      "12 22 14\n",
      "13 34 18\n",
      "14 43 25\n",
      "15 60 34\n",
      "16 78 47\n",
      "17 106 58\n",
      "18 128 78\n",
      "19 186 110\n",
      "20 300 182\n",
      "21 476 260\n",
      "22 694 389\n",
      "23 1019 598\n",
      "24 1478 884\n",
      "25 2086 1251\n",
      "26 2884 1755\n",
      "27 3894 2310\n",
      "28 5045 2993\n",
      "29 6444 3762\n",
      "30 8002 4633\n",
      "31 9810 5610\n"
     ]
    },
    {
     "data": {
      "application/vnd.jupyter.widget-view+json": {
       "model_id": "187dc860fc0b47a28e38f01c5f46a4a4",
       "version_major": 2,
       "version_minor": 0
      },
      "text/plain": [
       "  0%|          | 0/32 [00:00<?, ?it/s]"
      ]
     },
     "metadata": {},
     "output_type": "display_data"
    },
    {
     "name": "stdout",
     "output_type": "stream",
     "text": [
      "0 1 1\n",
      "1 1 1\n",
      "2 1 1\n",
      "3 1 1\n",
      "4 3 3\n",
      "5 5 3\n",
      "6 5 3\n",
      "7 7 5\n",
      "8 10 6\n",
      "9 13 10\n",
      "10 19 13\n",
      "11 30 22\n",
      "12 43 23\n",
      "13 49 30\n",
      "14 61 29\n",
      "15 72 42\n",
      "16 103 46\n",
      "17 114 58\n",
      "18 147 89\n",
      "19 229 126\n",
      "20 294 145\n",
      "21 349 173\n",
      "22 480 252\n",
      "23 683 364\n",
      "24 964 552\n",
      "25 1470 801\n",
      "26 2079 1135\n",
      "27 2706 1555\n",
      "28 3544 2102\n",
      "29 4656 2731\n",
      "30 5907 3466\n",
      "31 7426 4288\n"
     ]
    },
    {
     "data": {
      "application/vnd.jupyter.widget-view+json": {
       "model_id": "819558e115e744d9815740566b5c3517",
       "version_major": 2,
       "version_minor": 0
      },
      "text/plain": [
       "  0%|          | 0/32 [00:00<?, ?it/s]"
      ]
     },
     "metadata": {},
     "output_type": "display_data"
    },
    {
     "name": "stdout",
     "output_type": "stream",
     "text": [
      "0 1 1\n",
      "1 1 1\n",
      "2 1 1\n",
      "3 1 1\n",
      "4 3 3\n",
      "5 5 3\n",
      "6 5 3\n",
      "7 7 5\n",
      "8 10 6\n",
      "9 13 10\n",
      "10 19 13\n",
      "11 31 23\n",
      "12 49 27\n",
      "13 60 38\n",
      "14 98 56\n",
      "15 139 80\n",
      "16 209 119\n",
      "17 302 171\n",
      "18 427 197\n",
      "19 470 246\n",
      "20 642 327\n",
      "21 922 460\n",
      "22 1252 604\n",
      "23 1637 912\n",
      "24 2354 1281\n",
      "25 3164 1809\n",
      "26 4194 2307\n",
      "27 5232 2950\n",
      "28 6503 3681\n",
      "29 7928 4449\n",
      "30 9451 5164\n",
      "31 10894 5886\n"
     ]
    },
    {
     "data": {
      "application/vnd.jupyter.widget-view+json": {
       "model_id": "91718b0f2d5040279801ec64ff59c6fc",
       "version_major": 2,
       "version_minor": 0
      },
      "text/plain": [
       "  0%|          | 0/32 [00:00<?, ?it/s]"
      ]
     },
     "metadata": {},
     "output_type": "display_data"
    },
    {
     "name": "stdout",
     "output_type": "stream",
     "text": [
      "0 1 1\n",
      "1 1 1\n",
      "2 3 3\n",
      "3 5 3\n",
      "4 7 5\n",
      "5 9 6\n",
      "6 13 9\n",
      "7 17 8\n",
      "8 17 9\n",
      "9 20 10\n",
      "10 26 13\n",
      "11 32 20\n",
      "12 48 28\n",
      "13 64 41\n",
      "14 90 52\n",
      "15 113 66\n",
      "16 158 101\n",
      "17 271 167\n",
      "18 435 234\n",
      "19 623 371\n",
      "20 941 557\n",
      "21 1324 812\n",
      "22 1855 1079\n",
      "23 2388 1415\n",
      "24 3073 1778\n",
      "25 3826 2168\n",
      "26 4615 2588\n",
      "27 5478 3079\n",
      "28 6483 3634\n",
      "29 7588 4179\n",
      "30 8697 4778\n",
      "31 9900 5363\n"
     ]
    },
    {
     "data": {
      "application/vnd.jupyter.widget-view+json": {
       "model_id": "4e78b24a3ee4483b928e4ef701fe8e7f",
       "version_major": 2,
       "version_minor": 0
      },
      "text/plain": [
       "  0%|          | 0/32 [00:00<?, ?it/s]"
      ]
     },
     "metadata": {},
     "output_type": "display_data"
    },
    {
     "name": "stdout",
     "output_type": "stream",
     "text": [
      "0 1 1\n",
      "1 1 1\n",
      "2 1 1\n",
      "3 2 2\n",
      "4 4 3\n",
      "5 5 3\n",
      "6 7 5\n",
      "7 11 7\n",
      "8 15 9\n",
      "9 21 15\n",
      "10 33 23\n",
      "11 55 29\n",
      "12 69 46\n",
      "13 113 64\n",
      "14 161 96\n",
      "15 242 139\n",
      "16 336 209\n",
      "17 500 273\n",
      "18 659 391\n",
      "19 988 577\n",
      "20 1544 898\n",
      "21 2393 1443\n",
      "22 3751 2304\n",
      "23 5708 3588\n",
      "24 8465 5283\n",
      "25 11920 7455\n",
      "26 16407 10065\n",
      "27 21676 13158\n",
      "28 27989 16769\n",
      "29 35343 20845\n",
      "30 43558 25323\n",
      "31 52579 30304\n"
     ]
    },
    {
     "data": {
      "application/vnd.jupyter.widget-view+json": {
       "model_id": "ee284e536dd2412a939ec313246379c3",
       "version_major": 2,
       "version_minor": 0
      },
      "text/plain": [
       "  0%|          | 0/32 [00:00<?, ?it/s]"
      ]
     },
     "metadata": {},
     "output_type": "display_data"
    },
    {
     "name": "stdout",
     "output_type": "stream",
     "text": [
      "0 1 1\n",
      "1 1 1\n",
      "2 1 1\n",
      "3 1 1\n",
      "4 3 3\n",
      "5 5 3\n",
      "6 5 3\n",
      "7 7 5\n",
      "8 10 6\n",
      "9 13 10\n",
      "10 19 13\n",
      "11 31 23\n",
      "12 49 27\n",
      "13 58 36\n",
      "14 93 53\n",
      "15 131 75\n",
      "16 193 113\n",
      "17 272 149\n",
      "18 370 165\n",
      "19 387 190\n",
      "20 436 208\n",
      "21 562 285\n",
      "22 766 396\n",
      "23 1021 545\n",
      "24 1423 784\n",
      "25 1935 1079\n",
      "26 2542 1389\n",
      "27 3143 1718\n",
      "28 3775 2098\n",
      "29 4526 2551\n",
      "30 5462 3087\n",
      "31 6562 3646\n"
     ]
    },
    {
     "data": {
      "application/vnd.jupyter.widget-view+json": {
       "model_id": "00eaa2ca07264ef48491ad8ccfb89afe",
       "version_major": 2,
       "version_minor": 0
      },
      "text/plain": [
       "  0%|          | 0/32 [00:00<?, ?it/s]"
      ]
     },
     "metadata": {},
     "output_type": "display_data"
    },
    {
     "name": "stdout",
     "output_type": "stream",
     "text": [
      "0 1 1\n",
      "1 1 1\n",
      "2 2 2\n",
      "3 3 2\n",
      "4 5 3\n",
      "5 6 5\n",
      "6 12 8\n",
      "7 17 9\n",
      "8 21 7\n",
      "9 15 5\n",
      "10 10 6\n",
      "11 12 7\n",
      "12 18 12\n",
      "13 30 16\n",
      "14 39 24\n",
      "15 54 31\n",
      "16 71 41\n",
      "17 91 55\n",
      "18 142 93\n",
      "19 253 146\n",
      "20 389 231\n",
      "21 595 362\n",
      "22 871 537\n",
      "23 1237 755\n",
      "24 1680 1002\n",
      "25 2164 1276\n",
      "26 2729 1592\n",
      "27 3368 1937\n",
      "28 4055 2312\n",
      "29 4817 2700\n",
      "30 5606 3125\n",
      "31 6446 3557\n"
     ]
    },
    {
     "data": {
      "application/vnd.jupyter.widget-view+json": {
       "model_id": "08427e5da0924596993d1f4c7721bb6f",
       "version_major": 2,
       "version_minor": 0
      },
      "text/plain": [
       "  0%|          | 0/32 [00:00<?, ?it/s]"
      ]
     },
     "metadata": {},
     "output_type": "display_data"
    },
    {
     "name": "stdout",
     "output_type": "stream",
     "text": [
      "0 1 1\n",
      "1 1 1\n",
      "2 1 1\n",
      "3 1 1\n",
      "4 3 3\n",
      "5 5 3\n",
      "6 5 3\n",
      "7 7 5\n",
      "8 10 6\n",
      "9 13 10\n",
      "10 19 13\n",
      "11 30 22\n",
      "12 43 23\n",
      "13 48 29\n",
      "14 58 27\n",
      "15 57 30\n",
      "16 68 28\n",
      "17 75 38\n",
      "18 95 43\n",
      "19 105 62\n",
      "20 152 82\n",
      "21 198 109\n",
      "22 256 135\n",
      "23 307 178\n",
      "24 389 208\n",
      "25 523 332\n",
      "26 908 512\n",
      "27 1349 713\n",
      "28 1907 1100\n",
      "29 2860 1608\n",
      "30 4068 2329\n",
      "31 5631 3299\n"
     ]
    },
    {
     "data": {
      "application/vnd.jupyter.widget-view+json": {
       "model_id": "a81643baef5743ff8e7771b6368ccb5e",
       "version_major": 2,
       "version_minor": 0
      },
      "text/plain": [
       "  0%|          | 0/32 [00:00<?, ?it/s]"
      ]
     },
     "metadata": {},
     "output_type": "display_data"
    },
    {
     "name": "stdout",
     "output_type": "stream",
     "text": [
      "0 1 1\n",
      "1 1 1\n",
      "2 1 1\n",
      "3 2 2\n",
      "4 4 3\n",
      "5 6 4\n",
      "6 8 4\n",
      "7 10 8\n",
      "8 17 12\n",
      "9 27 18\n",
      "10 36 17\n",
      "11 39 22\n",
      "12 60 29\n",
      "13 72 37\n",
      "14 92 55\n",
      "15 133 70\n",
      "16 159 78\n",
      "17 169 93\n",
      "18 198 111\n",
      "19 233 126\n",
      "20 274 157\n",
      "21 393 239\n",
      "22 596 316\n",
      "23 779 409\n",
      "24 1032 596\n",
      "25 1458 765\n",
      "26 1789 1049\n",
      "27 2407 1281\n",
      "28 2874 1676\n",
      "29 3722 1993\n",
      "30 4372 2480\n",
      "31 5418 2907\n"
     ]
    }
   ],
   "source": [
    "ans = []\n",
    "\n",
    "for bluep_id, line in enumerate(lines[:]):\n",
    "  a = amap(int, re.findall(r'-?\\d+', line))\n",
    "  id = a[0]\n",
    "  rob1_1_cost = a[1]\n",
    "  rob2_1_cost = a[2]\n",
    "  rob3_1_cost, rob3_2_cost = a[3:5]\n",
    "  rob4_1_cost, rob4_3_cost = a[5:7]\n",
    "  \n",
    "  states = [\n",
    "    (\n",
    "     0, 1,\n",
    "    0, 0,\n",
    "    0, 0,\n",
    "    0, 0,\n",
    "    )\n",
    "  ]\n",
    "  # visited = set()\n",
    "  \n",
    "  for time in tqdm(range(32)):\n",
    "    newpareto = set()\n",
    "    newstates = []\n",
    "    \n",
    "    for state in states:\n",
    "      h1, r1, h2, r2, h3, r3, h4, r4 = state\n",
    "      \n",
    "      if (\n",
    "          h1 >= rob1_1_cost\n",
    "          and r1 < max(rob1_1_cost, rob2_1_cost, rob3_1_cost, r1 < rob4_1_cost)\n",
    "          and h1 < max(rob1_1_cost, rob2_1_cost, rob3_1_cost, r1 < rob4_1_cost) * 2\n",
    "      ):\n",
    "        newstates.append(\n",
    "          (\n",
    "            h1 - rob1_1_cost + r1, r1 + 1,\n",
    "            h2 + r2, r2,\n",
    "            h3 + r3, r3,\n",
    "            h4 + r4, r4\n",
    "          )\n",
    "        )\n",
    "      \n",
    "      if (\n",
    "          h1 >= rob2_1_cost\n",
    "          and r2 < rob3_2_cost\n",
    "          and h2 < rob3_2_cost * 2\n",
    "      ):\n",
    "        newstates.append(\n",
    "          (\n",
    "            h1 - rob2_1_cost + r1, r1,\n",
    "            h2 + r2, r2 + 1,\n",
    "            h3 + r3, r3,\n",
    "            h4 + r4, r4\n",
    "          )\n",
    "        )\n",
    "      \n",
    "      if (\n",
    "          h1 >= rob3_1_cost and h2 >= rob3_2_cost\n",
    "          and r3 < rob4_3_cost\n",
    "          and h3 < rob4_3_cost * 2\n",
    "      ):\n",
    "        newstates.append(\n",
    "          (\n",
    "            h1 - rob3_1_cost + r1, r1,\n",
    "            h2 - rob3_2_cost + r2, r2,\n",
    "            h3 + r3, r3 + 1,\n",
    "            h4 + r4, r4\n",
    "          )\n",
    "        )\n",
    "      \n",
    "      if h1 >= rob4_1_cost and h3 >= rob4_3_cost:\n",
    "        newstates.append(\n",
    "          (\n",
    "            h1 - rob4_1_cost + r1, r1,\n",
    "            h2 + r2, r2,\n",
    "            h3 - rob4_3_cost + r3, r3,\n",
    "            h4 + r4, r4 + 1\n",
    "          )\n",
    "        )\n",
    "      \n",
    "      newstates.append(\n",
    "        (\n",
    "          h1 + r1, r1,\n",
    "          h2 + r2, r2,\n",
    "          h3 + r3, r3,\n",
    "          h4 + r4, r4\n",
    "        )\n",
    "      )\n",
    "      \n",
    "      for i in newstates:\n",
    "        newpareto.add(i)\n",
    "\n",
    "    newstates = []\n",
    "    for i in newpareto:\n",
    "      should_add = True\n",
    "      for j in newpareto:\n",
    "        if i == j:\n",
    "          continue\n",
    "        found_better = True\n",
    "        for ii, jj in zip(i, j):\n",
    "          if jj >= ii:\n",
    "            pass\n",
    "          else:\n",
    "            found_better = False\n",
    "            break\n",
    "        if found_better:\n",
    "          should_add = False\n",
    "          break\n",
    "      if should_add:\n",
    "        newstates.append(i)\n",
    "      \n",
    "    states = newstates\n",
    "    print(time, len(newpareto), len(states))\n",
    "  \n",
    "  ans.append(max([i[-2] for i in states]))"
   ]
  },
  {
   "cell_type": "code",
   "execution_count": 143,
   "metadata": {
    "execution": {
     "iopub.execute_input": "2022-12-19T07:21:47.289111Z",
     "iopub.status.busy": "2022-12-19T07:21:47.289014Z",
     "iopub.status.idle": "2022-12-19T07:21:47.291332Z",
     "shell.execute_reply": "2022-12-19T07:21:47.291058Z",
     "shell.execute_reply.started": "2022-12-19T07:21:47.289104Z"
    },
    "tags": []
   },
   "outputs": [
    {
     "data": {
      "text/plain": [
       "[11]"
      ]
     },
     "execution_count": 143,
     "metadata": {},
     "output_type": "execute_result"
    }
   ],
   "source": [
    "ans"
   ]
  },
  {
   "cell_type": "code",
   "execution_count": 138,
   "metadata": {
    "execution": {
     "iopub.execute_input": "2022-12-19T06:54:52.520442Z",
     "iopub.status.busy": "2022-12-19T06:54:52.519905Z",
     "iopub.status.idle": "2022-12-19T06:54:53.093287Z",
     "shell.execute_reply": "2022-12-19T06:54:53.091043Z",
     "shell.execute_reply.started": "2022-12-19T06:54:52.520404Z"
    },
    "tags": []
   },
   "outputs": [
    {
     "name": "stdout",
     "output_type": "stream",
     "text": [
      "Submitting 88160...\n"
     ]
    },
    {
     "data": {
      "text/plain": [
       "True"
      ]
     },
     "execution_count": 138,
     "metadata": {},
     "output_type": "execute_result"
    }
   ],
   "source": [
    "submit2(product(ans))"
   ]
  },
  {
   "cell_type": "code",
   "execution_count": 141,
   "metadata": {
    "execution": {
     "iopub.execute_input": "2022-12-19T07:20:53.999212Z",
     "iopub.status.busy": "2022-12-19T07:20:53.998903Z",
     "iopub.status.idle": "2022-12-19T07:20:54.013887Z",
     "shell.execute_reply": "2022-12-19T07:20:54.012964Z",
     "shell.execute_reply.started": "2022-12-19T07:20:53.999193Z"
    },
    "tags": []
   },
   "outputs": [
    {
     "data": {
      "text/plain": [
       "['Blueprint 1: Each ore robot costs 3 ore. Each clay robot costs 3 ore. Each obsidian robot costs 2 ore and 15 clay. Each geode robot costs 3 ore and 9 obsidian.',\n",
       " 'Blueprint 2: Each ore robot costs 4 ore. Each clay robot costs 4 ore. Each obsidian robot costs 4 ore and 5 clay. Each geode robot costs 3 ore and 7 obsidian.',\n",
       " 'Blueprint 3: Each ore robot costs 4 ore. Each clay robot costs 4 ore. Each obsidian robot costs 2 ore and 11 clay. Each geode robot costs 2 ore and 7 obsidian.',\n",
       " 'Blueprint 4: Each ore robot costs 4 ore. Each clay robot costs 4 ore. Each obsidian robot costs 4 ore and 14 clay. Each geode robot costs 2 ore and 16 obsidian.',\n",
       " 'Blueprint 5: Each ore robot costs 4 ore. Each clay robot costs 4 ore. Each obsidian robot costs 4 ore and 8 clay. Each geode robot costs 2 ore and 18 obsidian.',\n",
       " 'Blueprint 6: Each ore robot costs 4 ore. Each clay robot costs 4 ore. Each obsidian robot costs 2 ore and 14 clay. Each geode robot costs 4 ore and 19 obsidian.',\n",
       " 'Blueprint 7: Each ore robot costs 2 ore. Each clay robot costs 4 ore. Each obsidian robot costs 3 ore and 20 clay. Each geode robot costs 2 ore and 16 obsidian.',\n",
       " 'Blueprint 8: Each ore robot costs 4 ore. Each clay robot costs 4 ore. Each obsidian robot costs 2 ore and 10 clay. Each geode robot costs 3 ore and 14 obsidian.',\n",
       " 'Blueprint 9: Each ore robot costs 4 ore. Each clay robot costs 4 ore. Each obsidian robot costs 3 ore and 7 clay. Each geode robot costs 3 ore and 20 obsidian.',\n",
       " 'Blueprint 10: Each ore robot costs 4 ore. Each clay robot costs 3 ore. Each obsidian robot costs 3 ore and 14 clay. Each geode robot costs 4 ore and 17 obsidian.',\n",
       " 'Blueprint 11: Each ore robot costs 4 ore. Each clay robot costs 4 ore. Each obsidian robot costs 3 ore and 5 clay. Each geode robot costs 4 ore and 11 obsidian.',\n",
       " 'Blueprint 12: Each ore robot costs 2 ore. Each clay robot costs 3 ore. Each obsidian robot costs 3 ore and 13 clay. Each geode robot costs 3 ore and 15 obsidian.',\n",
       " 'Blueprint 13: Each ore robot costs 3 ore. Each clay robot costs 4 ore. Each obsidian robot costs 3 ore and 6 clay. Each geode robot costs 4 ore and 11 obsidian.',\n",
       " 'Blueprint 14: Each ore robot costs 3 ore. Each clay robot costs 4 ore. Each obsidian robot costs 3 ore and 18 clay. Each geode robot costs 4 ore and 16 obsidian.',\n",
       " 'Blueprint 15: Each ore robot costs 3 ore. Each clay robot costs 4 ore. Each obsidian robot costs 3 ore and 19 clay. Each geode robot costs 3 ore and 8 obsidian.',\n",
       " 'Blueprint 16: Each ore robot costs 3 ore. Each clay robot costs 4 ore. Each obsidian robot costs 3 ore and 20 clay. Each geode robot costs 3 ore and 14 obsidian.',\n",
       " 'Blueprint 17: Each ore robot costs 3 ore. Each clay robot costs 3 ore. Each obsidian robot costs 2 ore and 19 clay. Each geode robot costs 2 ore and 20 obsidian.',\n",
       " 'Blueprint 18: Each ore robot costs 3 ore. Each clay robot costs 3 ore. Each obsidian robot costs 2 ore and 20 clay. Each geode robot costs 2 ore and 20 obsidian.',\n",
       " 'Blueprint 19: Each ore robot costs 3 ore. Each clay robot costs 4 ore. Each obsidian robot costs 4 ore and 5 clay. Each geode robot costs 4 ore and 8 obsidian.',\n",
       " 'Blueprint 20: Each ore robot costs 4 ore. Each clay robot costs 4 ore. Each obsidian robot costs 4 ore and 9 clay. Each geode robot costs 2 ore and 20 obsidian.',\n",
       " 'Blueprint 21: Each ore robot costs 2 ore. Each clay robot costs 3 ore. Each obsidian robot costs 3 ore and 11 clay. Each geode robot costs 2 ore and 16 obsidian.',\n",
       " 'Blueprint 22: Each ore robot costs 2 ore. Each clay robot costs 3 ore. Each obsidian robot costs 3 ore and 16 clay. Each geode robot costs 2 ore and 11 obsidian.',\n",
       " 'Blueprint 23: Each ore robot costs 4 ore. Each clay robot costs 4 ore. Each obsidian robot costs 4 ore and 12 clay. Each geode robot costs 3 ore and 8 obsidian.',\n",
       " 'Blueprint 24: Each ore robot costs 4 ore. Each clay robot costs 4 ore. Each obsidian robot costs 2 ore and 7 clay. Each geode robot costs 3 ore and 10 obsidian.',\n",
       " 'Blueprint 25: Each ore robot costs 2 ore. Each clay robot costs 2 ore. Each obsidian robot costs 2 ore and 10 clay. Each geode robot costs 2 ore and 11 obsidian.',\n",
       " 'Blueprint 26: Each ore robot costs 4 ore. Each clay robot costs 3 ore. Each obsidian robot costs 3 ore and 7 clay. Each geode robot costs 3 ore and 9 obsidian.',\n",
       " 'Blueprint 27: Each ore robot costs 4 ore. Each clay robot costs 4 ore. Each obsidian robot costs 3 ore and 7 clay. Each geode robot costs 4 ore and 11 obsidian.',\n",
       " 'Blueprint 28: Each ore robot costs 2 ore. Each clay robot costs 4 ore. Each obsidian robot costs 4 ore and 11 clay. Each geode robot costs 3 ore and 8 obsidian.',\n",
       " 'Blueprint 29: Each ore robot costs 4 ore. Each clay robot costs 4 ore. Each obsidian robot costs 4 ore and 17 clay. Each geode robot costs 2 ore and 13 obsidian.',\n",
       " 'Blueprint 30: Each ore robot costs 3 ore. Each clay robot costs 4 ore. Each obsidian robot costs 4 ore and 6 clay. Each geode robot costs 2 ore and 20 obsidian.']"
      ]
     },
     "execution_count": 141,
     "metadata": {},
     "output_type": "execute_result"
    }
   ],
   "source": [
    "lines"
   ]
  },
  {
   "cell_type": "code",
   "execution_count": null,
   "metadata": {},
   "outputs": [],
   "source": []
  },
  {
   "cell_type": "code",
   "execution_count": null,
   "metadata": {},
   "outputs": [],
   "source": []
  },
  {
   "cell_type": "code",
   "execution_count": null,
   "metadata": {},
   "outputs": [],
   "source": []
  },
  {
   "cell_type": "code",
   "execution_count": null,
   "metadata": {},
   "outputs": [],
   "source": []
  },
  {
   "cell_type": "code",
   "execution_count": 133,
   "metadata": {
    "execution": {
     "iopub.execute_input": "2022-12-19T06:45:37.741771Z",
     "iopub.status.busy": "2022-12-19T06:45:37.741442Z",
     "iopub.status.idle": "2022-12-19T06:46:30.866834Z",
     "shell.execute_reply": "2022-12-19T06:46:30.866363Z",
     "shell.execute_reply.started": "2022-12-19T06:45:37.741751Z"
    },
    "tags": []
   },
   "outputs": [
    {
     "data": {
      "application/vnd.jupyter.widget-view+json": {
       "model_id": "0dd82d5fb6ec48dfb4bfb665d251a7c7",
       "version_major": 2,
       "version_minor": 0
      },
      "text/plain": [
       "  0%|          | 0/24 [00:00<?, ?it/s]"
      ]
     },
     "metadata": {},
     "output_type": "display_data"
    },
    {
     "name": "stdout",
     "output_type": "stream",
     "text": [
      "0 1 1\n",
      "1 1 1\n",
      "2 1 1\n",
      "3 3 3\n",
      "4 5 3\n",
      "5 7 5\n",
      "6 10 6\n",
      "7 12 9\n",
      "8 20 14\n",
      "9 27 14\n",
      "10 28 17\n",
      "11 36 19\n",
      "12 39 18\n",
      "13 45 25\n",
      "14 66 32\n",
      "15 75 41\n",
      "16 102 63\n",
      "17 151 75\n",
      "18 170 101\n",
      "19 222 128\n",
      "20 318 192\n",
      "21 516 312\n",
      "22 837 457\n",
      "23 1326 777\n"
     ]
    },
    {
     "data": {
      "application/vnd.jupyter.widget-view+json": {
       "model_id": "f7febc66986b492fb11fa2e1c4e4faf9",
       "version_major": 2,
       "version_minor": 0
      },
      "text/plain": [
       "  0%|          | 0/24 [00:00<?, ?it/s]"
      ]
     },
     "metadata": {},
     "output_type": "display_data"
    },
    {
     "name": "stdout",
     "output_type": "stream",
     "text": [
      "0 1 1\n",
      "1 1 1\n",
      "2 1 1\n",
      "3 1 1\n",
      "4 3 3\n",
      "5 5 3\n",
      "6 5 3\n",
      "7 7 5\n",
      "8 10 6\n",
      "9 13 10\n",
      "10 20 14\n",
      "11 33 24\n",
      "12 50 28\n",
      "13 70 47\n",
      "14 110 57\n",
      "15 152 99\n",
      "16 220 108\n",
      "17 267 133\n",
      "18 327 155\n",
      "19 402 186\n",
      "20 490 267\n",
      "21 740 390\n",
      "22 1106 572\n",
      "23 1605 823\n"
     ]
    },
    {
     "data": {
      "application/vnd.jupyter.widget-view+json": {
       "model_id": "9ffef1fb49614116befb0fb45c21eb29",
       "version_major": 2,
       "version_minor": 0
      },
      "text/plain": [
       "  0%|          | 0/24 [00:00<?, ?it/s]"
      ]
     },
     "metadata": {},
     "output_type": "display_data"
    },
    {
     "name": "stdout",
     "output_type": "stream",
     "text": [
      "0 1 1\n",
      "1 1 1\n",
      "2 1 1\n",
      "3 1 1\n",
      "4 3 3\n",
      "5 5 3\n",
      "6 5 3\n",
      "7 7 5\n",
      "8 10 6\n",
      "9 13 10\n",
      "10 19 13\n",
      "11 30 22\n",
      "12 43 23\n",
      "13 49 30\n",
      "14 67 34\n",
      "15 84 47\n",
      "16 117 53\n",
      "17 135 73\n",
      "18 190 106\n",
      "19 267 142\n",
      "20 356 184\n",
      "21 525 295\n",
      "22 840 439\n",
      "23 1314 721\n"
     ]
    },
    {
     "data": {
      "application/vnd.jupyter.widget-view+json": {
       "model_id": "96e5a9b0d3284125825410e570775919",
       "version_major": 2,
       "version_minor": 0
      },
      "text/plain": [
       "  0%|          | 0/24 [00:00<?, ?it/s]"
      ]
     },
     "metadata": {},
     "output_type": "display_data"
    },
    {
     "name": "stdout",
     "output_type": "stream",
     "text": [
      "0 1 1\n",
      "1 1 1\n",
      "2 1 1\n",
      "3 1 1\n",
      "4 3 3\n",
      "5 5 3\n",
      "6 5 3\n",
      "7 7 5\n",
      "8 10 6\n",
      "9 13 10\n",
      "10 19 13\n",
      "11 30 22\n",
      "12 43 23\n",
      "13 48 29\n",
      "14 59 28\n",
      "15 62 34\n",
      "16 87 40\n",
      "17 101 48\n",
      "18 111 56\n",
      "19 144 84\n",
      "20 202 100\n",
      "21 242 121\n",
      "22 268 142\n",
      "23 313 170\n"
     ]
    },
    {
     "data": {
      "application/vnd.jupyter.widget-view+json": {
       "model_id": "cad21bb5e7df41a4a1d3f6f4dabe733c",
       "version_major": 2,
       "version_minor": 0
      },
      "text/plain": [
       "  0%|          | 0/24 [00:00<?, ?it/s]"
      ]
     },
     "metadata": {},
     "output_type": "display_data"
    },
    {
     "name": "stdout",
     "output_type": "stream",
     "text": [
      "0 1 1\n",
      "1 1 1\n",
      "2 1 1\n",
      "3 1 1\n",
      "4 3 3\n",
      "5 5 3\n",
      "6 5 3\n",
      "7 7 5\n",
      "8 10 6\n",
      "9 13 10\n",
      "10 19 13\n",
      "11 30 22\n",
      "12 44 24\n",
      "13 53 33\n",
      "14 77 38\n",
      "15 100 60\n",
      "16 135 62\n",
      "17 162 97\n",
      "18 230 118\n",
      "19 273 141\n",
      "20 312 148\n",
      "21 332 167\n",
      "22 354 179\n",
      "23 432 262\n"
     ]
    },
    {
     "data": {
      "application/vnd.jupyter.widget-view+json": {
       "model_id": "4ee18218278440ac9f3c7ece00902cf2",
       "version_major": 2,
       "version_minor": 0
      },
      "text/plain": [
       "  0%|          | 0/24 [00:00<?, ?it/s]"
      ]
     },
     "metadata": {},
     "output_type": "display_data"
    },
    {
     "name": "stdout",
     "output_type": "stream",
     "text": [
      "0 1 1\n",
      "1 1 1\n",
      "2 1 1\n",
      "3 1 1\n",
      "4 3 3\n",
      "5 5 3\n",
      "6 5 3\n",
      "7 7 5\n",
      "8 10 6\n",
      "9 13 10\n",
      "10 19 13\n",
      "11 30 22\n",
      "12 43 23\n",
      "13 48 29\n",
      "14 61 30\n",
      "15 67 36\n",
      "16 96 46\n",
      "17 109 51\n",
      "18 128 78\n",
      "19 198 110\n",
      "20 276 126\n",
      "21 307 143\n",
      "22 332 154\n",
      "23 347 176\n"
     ]
    },
    {
     "data": {
      "application/vnd.jupyter.widget-view+json": {
       "model_id": "cbb3aa9d851b4444ae99abf37350fa4c",
       "version_major": 2,
       "version_minor": 0
      },
      "text/plain": [
       "  0%|          | 0/24 [00:00<?, ?it/s]"
      ]
     },
     "metadata": {},
     "output_type": "display_data"
    },
    {
     "name": "stdout",
     "output_type": "stream",
     "text": [
      "0 1 1\n",
      "1 1 1\n",
      "2 2 2\n",
      "3 3 2\n",
      "4 5 3\n",
      "5 6 5\n",
      "6 12 8\n",
      "7 17 9\n",
      "8 21 7\n",
      "9 15 5\n",
      "10 10 6\n",
      "11 12 7\n",
      "12 14 8\n",
      "13 19 12\n",
      "14 29 16\n",
      "15 39 21\n",
      "16 52 31\n",
      "17 74 42\n",
      "18 96 58\n",
      "19 132 73\n",
      "20 161 96\n",
      "21 210 115\n",
      "22 261 160\n",
      "23 415 249\n"
     ]
    },
    {
     "data": {
      "application/vnd.jupyter.widget-view+json": {
       "model_id": "a85d24f3b1bd49e59124b5f72d75c67f",
       "version_major": 2,
       "version_minor": 0
      },
      "text/plain": [
       "  0%|          | 0/24 [00:00<?, ?it/s]"
      ]
     },
     "metadata": {},
     "output_type": "display_data"
    },
    {
     "name": "stdout",
     "output_type": "stream",
     "text": [
      "0 1 1\n",
      "1 1 1\n",
      "2 1 1\n",
      "3 1 1\n",
      "4 3 3\n",
      "5 5 3\n",
      "6 5 3\n",
      "7 7 5\n",
      "8 10 6\n",
      "9 13 10\n",
      "10 19 13\n",
      "11 30 22\n",
      "12 44 24\n",
      "13 50 30\n",
      "14 71 38\n",
      "15 97 57\n",
      "16 139 64\n",
      "17 168 98\n",
      "18 251 130\n",
      "19 328 185\n",
      "20 437 204\n",
      "21 478 220\n",
      "22 524 263\n",
      "23 703 385\n"
     ]
    },
    {
     "data": {
      "application/vnd.jupyter.widget-view+json": {
       "model_id": "9a3318be05b742f1b936e1315d0c8246",
       "version_major": 2,
       "version_minor": 0
      },
      "text/plain": [
       "  0%|          | 0/24 [00:00<?, ?it/s]"
      ]
     },
     "metadata": {},
     "output_type": "display_data"
    },
    {
     "name": "stdout",
     "output_type": "stream",
     "text": [
      "0 1 1\n",
      "1 1 1\n",
      "2 1 1\n",
      "3 1 1\n",
      "4 3 3\n",
      "5 5 3\n",
      "6 5 3\n",
      "7 7 5\n",
      "8 10 6\n",
      "9 13 10\n",
      "10 19 13\n",
      "11 31 23\n",
      "12 49 27\n",
      "13 58 36\n",
      "14 93 53\n",
      "15 131 75\n",
      "16 193 113\n",
      "17 272 149\n",
      "18 370 165\n",
      "19 386 189\n",
      "20 422 196\n",
      "21 441 193\n",
      "22 424 215\n",
      "23 546 322\n"
     ]
    },
    {
     "data": {
      "application/vnd.jupyter.widget-view+json": {
       "model_id": "cb5d79666d064b7fb32cd8bf1d584530",
       "version_major": 2,
       "version_minor": 0
      },
      "text/plain": [
       "  0%|          | 0/24 [00:00<?, ?it/s]"
      ]
     },
     "metadata": {},
     "output_type": "display_data"
    },
    {
     "name": "stdout",
     "output_type": "stream",
     "text": [
      "0 1 1\n",
      "1 1 1\n",
      "2 1 1\n",
      "3 2 2\n",
      "4 4 3\n",
      "5 5 3\n",
      "6 7 5\n",
      "7 11 7\n",
      "8 15 9\n",
      "9 20 14\n",
      "10 31 22\n",
      "11 48 25\n",
      "12 54 35\n",
      "13 77 40\n",
      "14 97 53\n",
      "15 131 66\n",
      "16 164 100\n",
      "17 261 154\n",
      "18 387 242\n",
      "19 587 355\n",
      "20 822 493\n",
      "21 1124 646\n",
      "22 1420 849\n",
      "23 1912 1174\n"
     ]
    },
    {
     "data": {
      "application/vnd.jupyter.widget-view+json": {
       "model_id": "a085f59f27af45d292f859fbe2449811",
       "version_major": 2,
       "version_minor": 0
      },
      "text/plain": [
       "  0%|          | 0/24 [00:00<?, ?it/s]"
      ]
     },
     "metadata": {},
     "output_type": "display_data"
    },
    {
     "name": "stdout",
     "output_type": "stream",
     "text": [
      "0 1 1\n",
      "1 1 1\n",
      "2 1 1\n",
      "3 1 1\n",
      "4 3 3\n",
      "5 5 3\n",
      "6 5 3\n",
      "7 7 5\n",
      "8 10 6\n",
      "9 13 10\n",
      "10 21 15\n",
      "11 37 26\n",
      "12 58 30\n",
      "13 70 43\n",
      "14 114 68\n",
      "15 169 103\n",
      "16 253 143\n",
      "17 338 187\n",
      "18 431 206\n",
      "19 502 255\n",
      "20 670 353\n",
      "21 936 488\n",
      "22 1343 708\n",
      "23 1979 1036\n"
     ]
    },
    {
     "data": {
      "application/vnd.jupyter.widget-view+json": {
       "model_id": "d4b27ad05c73454e90ce188b77e89fe6",
       "version_major": 2,
       "version_minor": 0
      },
      "text/plain": [
       "  0%|          | 0/24 [00:00<?, ?it/s]"
      ]
     },
     "metadata": {},
     "output_type": "display_data"
    },
    {
     "name": "stdout",
     "output_type": "stream",
     "text": [
      "0 1 1\n",
      "1 1 1\n",
      "2 2 2\n",
      "3 4 3\n",
      "4 7 4\n",
      "5 9 7\n",
      "6 14 9\n",
      "7 20 9\n",
      "8 19 9\n",
      "9 18 7\n",
      "10 14 8\n",
      "11 19 12\n",
      "12 29 16\n",
      "13 39 23\n",
      "14 55 32\n",
      "15 73 44\n",
      "16 99 56\n",
      "17 123 72\n",
      "18 155 91\n",
      "19 214 127\n",
      "20 335 202\n",
      "21 526 288\n",
      "22 767 408\n",
      "23 1160 643\n"
     ]
    },
    {
     "data": {
      "application/vnd.jupyter.widget-view+json": {
       "model_id": "d06b41f490a14cae8ec2b6a6ec3376d0",
       "version_major": 2,
       "version_minor": 0
      },
      "text/plain": [
       "  0%|          | 0/24 [00:00<?, ?it/s]"
      ]
     },
     "metadata": {},
     "output_type": "display_data"
    },
    {
     "name": "stdout",
     "output_type": "stream",
     "text": [
      "0 1 1\n",
      "1 1 1\n",
      "2 1 1\n",
      "3 2 2\n",
      "4 4 3\n",
      "5 6 4\n",
      "6 8 4\n",
      "7 10 8\n",
      "8 17 12\n",
      "9 27 18\n",
      "10 36 17\n",
      "11 41 24\n",
      "12 62 30\n",
      "13 78 45\n",
      "14 119 70\n",
      "15 171 90\n",
      "16 212 108\n",
      "17 242 114\n",
      "18 264 146\n",
      "19 378 216\n",
      "20 563 300\n",
      "21 834 461\n",
      "22 1267 674\n",
      "23 1920 1022\n"
     ]
    },
    {
     "data": {
      "application/vnd.jupyter.widget-view+json": {
       "model_id": "36e7487ff5b94992a8f26164161285db",
       "version_major": 2,
       "version_minor": 0
      },
      "text/plain": [
       "  0%|          | 0/24 [00:00<?, ?it/s]"
      ]
     },
     "metadata": {},
     "output_type": "display_data"
    },
    {
     "name": "stdout",
     "output_type": "stream",
     "text": [
      "0 1 1\n",
      "1 1 1\n",
      "2 1 1\n",
      "3 2 2\n",
      "4 4 3\n",
      "5 6 4\n",
      "6 8 4\n",
      "7 10 8\n",
      "8 17 12\n",
      "9 27 18\n",
      "10 36 17\n",
      "11 37 20\n",
      "12 41 17\n",
      "13 35 18\n",
      "14 36 17\n",
      "15 43 26\n",
      "16 64 34\n",
      "17 81 44\n",
      "18 108 63\n",
      "19 148 80\n",
      "20 184 107\n",
      "21 238 132\n",
      "22 290 161\n",
      "23 347 197\n"
     ]
    },
    {
     "data": {
      "application/vnd.jupyter.widget-view+json": {
       "model_id": "5258d50ed5fc4f13b2b427b04ff07b9b",
       "version_major": 2,
       "version_minor": 0
      },
      "text/plain": [
       "  0%|          | 0/24 [00:00<?, ?it/s]"
      ]
     },
     "metadata": {},
     "output_type": "display_data"
    },
    {
     "name": "stdout",
     "output_type": "stream",
     "text": [
      "0 1 1\n",
      "1 1 1\n",
      "2 1 1\n",
      "3 2 2\n",
      "4 4 3\n",
      "5 6 4\n",
      "6 8 4\n",
      "7 10 8\n",
      "8 17 12\n",
      "9 27 18\n",
      "10 36 17\n",
      "11 37 20\n",
      "12 41 17\n",
      "13 35 18\n",
      "14 36 17\n",
      "15 42 25\n",
      "16 61 33\n",
      "17 80 42\n",
      "18 105 65\n",
      "19 157 87\n",
      "20 199 122\n",
      "21 275 149\n",
      "22 381 246\n",
      "23 676 387\n"
     ]
    },
    {
     "data": {
      "application/vnd.jupyter.widget-view+json": {
       "model_id": "c4551679f4934e728ff673ab0de7e47e",
       "version_major": 2,
       "version_minor": 0
      },
      "text/plain": [
       "  0%|          | 0/24 [00:00<?, ?it/s]"
      ]
     },
     "metadata": {},
     "output_type": "display_data"
    },
    {
     "name": "stdout",
     "output_type": "stream",
     "text": [
      "0 1 1\n",
      "1 1 1\n",
      "2 1 1\n",
      "3 2 2\n",
      "4 4 3\n",
      "5 6 4\n",
      "6 8 4\n",
      "7 10 8\n",
      "8 17 12\n",
      "9 27 18\n",
      "10 36 17\n",
      "11 37 20\n",
      "12 41 17\n",
      "13 35 18\n",
      "14 36 17\n",
      "15 41 24\n",
      "16 58 32\n",
      "17 78 42\n",
      "18 104 63\n",
      "19 152 86\n",
      "20 197 118\n",
      "21 269 148\n",
      "22 327 195\n",
      "23 427 234\n"
     ]
    },
    {
     "data": {
      "application/vnd.jupyter.widget-view+json": {
       "model_id": "3d688b118a1848d09c52fc37b775ef3d",
       "version_major": 2,
       "version_minor": 0
      },
      "text/plain": [
       "  0%|          | 0/24 [00:00<?, ?it/s]"
      ]
     },
     "metadata": {},
     "output_type": "display_data"
    },
    {
     "name": "stdout",
     "output_type": "stream",
     "text": [
      "0 1 1\n",
      "1 1 1\n",
      "2 1 1\n",
      "3 3 3\n",
      "4 5 3\n",
      "5 7 5\n",
      "6 10 6\n",
      "7 12 9\n",
      "8 20 14\n",
      "9 27 14\n",
      "10 28 17\n",
      "11 36 19\n",
      "12 38 17\n",
      "13 36 19\n",
      "14 50 27\n",
      "15 66 38\n",
      "16 88 48\n",
      "17 124 76\n",
      "18 188 100\n",
      "19 234 135\n",
      "20 311 156\n",
      "21 352 198\n",
      "22 434 229\n",
      "23 493 264\n"
     ]
    },
    {
     "data": {
      "application/vnd.jupyter.widget-view+json": {
       "model_id": "a81063282d2143fb982d200d04949698",
       "version_major": 2,
       "version_minor": 0
      },
      "text/plain": [
       "  0%|          | 0/24 [00:00<?, ?it/s]"
      ]
     },
     "metadata": {},
     "output_type": "display_data"
    },
    {
     "name": "stdout",
     "output_type": "stream",
     "text": [
      "0 1 1\n",
      "1 1 1\n",
      "2 1 1\n",
      "3 3 3\n",
      "4 5 3\n",
      "5 7 5\n",
      "6 10 6\n",
      "7 12 9\n",
      "8 20 14\n",
      "9 27 14\n",
      "10 28 17\n",
      "11 36 19\n",
      "12 38 17\n",
      "13 35 18\n",
      "14 47 24\n",
      "15 59 32\n",
      "16 78 41\n",
      "17 102 62\n",
      "18 149 84\n",
      "19 192 117\n",
      "20 266 146\n",
      "21 322 193\n",
      "22 422 232\n",
      "23 503 296\n"
     ]
    },
    {
     "data": {
      "application/vnd.jupyter.widget-view+json": {
       "model_id": "503057553a58432989be70dff3d0bc9c",
       "version_major": 2,
       "version_minor": 0
      },
      "text/plain": [
       "  0%|          | 0/24 [00:00<?, ?it/s]"
      ]
     },
     "metadata": {},
     "output_type": "display_data"
    },
    {
     "name": "stdout",
     "output_type": "stream",
     "text": [
      "0 1 1\n",
      "1 1 1\n",
      "2 1 1\n",
      "3 2 2\n",
      "4 4 3\n",
      "5 6 4\n",
      "6 8 4\n",
      "7 10 8\n",
      "8 17 12\n",
      "9 27 18\n",
      "10 38 18\n",
      "11 44 26\n",
      "12 69 33\n",
      "13 81 48\n",
      "14 113 58\n",
      "15 134 66\n",
      "16 142 78\n",
      "17 180 108\n",
      "18 271 159\n",
      "19 416 230\n",
      "20 636 355\n",
      "21 1000 542\n",
      "22 1480 778\n",
      "23 2066 1041\n"
     ]
    },
    {
     "data": {
      "application/vnd.jupyter.widget-view+json": {
       "model_id": "0474de55e6354f58a4bf7f7fbd61ec47",
       "version_major": 2,
       "version_minor": 0
      },
      "text/plain": [
       "  0%|          | 0/24 [00:00<?, ?it/s]"
      ]
     },
     "metadata": {},
     "output_type": "display_data"
    },
    {
     "name": "stdout",
     "output_type": "stream",
     "text": [
      "0 1 1\n",
      "1 1 1\n",
      "2 1 1\n",
      "3 1 1\n",
      "4 3 3\n",
      "5 5 3\n",
      "6 5 3\n",
      "7 7 5\n",
      "8 10 6\n",
      "9 13 10\n",
      "10 19 13\n",
      "11 30 22\n",
      "12 44 24\n",
      "13 51 31\n",
      "14 69 33\n",
      "15 90 52\n",
      "16 121 54\n",
      "17 141 83\n",
      "18 194 100\n",
      "19 245 139\n",
      "20 310 159\n",
      "21 358 168\n",
      "22 365 192\n",
      "23 411 208\n"
     ]
    },
    {
     "data": {
      "application/vnd.jupyter.widget-view+json": {
       "model_id": "8891898054514797bca562a4fa2c81a7",
       "version_major": 2,
       "version_minor": 0
      },
      "text/plain": [
       "  0%|          | 0/24 [00:00<?, ?it/s]"
      ]
     },
     "metadata": {},
     "output_type": "display_data"
    },
    {
     "name": "stdout",
     "output_type": "stream",
     "text": [
      "0 1 1\n",
      "1 1 1\n",
      "2 2 2\n",
      "3 4 3\n",
      "4 7 4\n",
      "5 9 7\n",
      "6 14 9\n",
      "7 20 9\n",
      "8 19 9\n",
      "9 18 7\n",
      "10 14 8\n",
      "11 20 13\n",
      "12 32 17\n",
      "13 41 25\n",
      "14 56 32\n",
      "15 73 42\n",
      "16 94 57\n",
      "17 124 72\n",
      "18 156 87\n",
      "19 214 133\n",
      "20 346 201\n",
      "21 518 272\n",
      "22 755 432\n",
      "23 1199 643\n"
     ]
    },
    {
     "data": {
      "application/vnd.jupyter.widget-view+json": {
       "model_id": "06f631080411493dbbe8dbc0a7cae12f",
       "version_major": 2,
       "version_minor": 0
      },
      "text/plain": [
       "  0%|          | 0/24 [00:00<?, ?it/s]"
      ]
     },
     "metadata": {},
     "output_type": "display_data"
    },
    {
     "name": "stdout",
     "output_type": "stream",
     "text": [
      "0 1 1\n",
      "1 1 1\n",
      "2 2 2\n",
      "3 4 3\n",
      "4 7 4\n",
      "5 9 7\n",
      "6 14 9\n",
      "7 20 9\n",
      "8 19 9\n",
      "9 18 7\n",
      "10 14 8\n",
      "11 16 9\n",
      "12 22 14\n",
      "13 34 18\n",
      "14 43 25\n",
      "15 60 34\n",
      "16 78 47\n",
      "17 106 58\n",
      "18 128 78\n",
      "19 186 110\n",
      "20 300 182\n",
      "21 476 260\n",
      "22 727 396\n",
      "23 1123 620\n"
     ]
    },
    {
     "data": {
      "application/vnd.jupyter.widget-view+json": {
       "model_id": "3865d8e74af3410580c13aaa193c9766",
       "version_major": 2,
       "version_minor": 0
      },
      "text/plain": [
       "  0%|          | 0/24 [00:00<?, ?it/s]"
      ]
     },
     "metadata": {},
     "output_type": "display_data"
    },
    {
     "name": "stdout",
     "output_type": "stream",
     "text": [
      "0 1 1\n",
      "1 1 1\n",
      "2 1 1\n",
      "3 1 1\n",
      "4 3 3\n",
      "5 5 3\n",
      "6 5 3\n",
      "7 7 5\n",
      "8 10 6\n",
      "9 13 10\n",
      "10 19 13\n",
      "11 30 22\n",
      "12 43 23\n",
      "13 49 30\n",
      "14 61 29\n",
      "15 72 42\n",
      "16 103 46\n",
      "17 114 58\n",
      "18 147 89\n",
      "19 229 126\n",
      "20 294 145\n",
      "21 349 173\n",
      "22 480 252\n",
      "23 683 364\n"
     ]
    },
    {
     "data": {
      "application/vnd.jupyter.widget-view+json": {
       "model_id": "614666b4189243579c7c8414ebb1b83f",
       "version_major": 2,
       "version_minor": 0
      },
      "text/plain": [
       "  0%|          | 0/24 [00:00<?, ?it/s]"
      ]
     },
     "metadata": {},
     "output_type": "display_data"
    },
    {
     "name": "stdout",
     "output_type": "stream",
     "text": [
      "0 1 1\n",
      "1 1 1\n",
      "2 1 1\n",
      "3 1 1\n",
      "4 3 3\n",
      "5 5 3\n",
      "6 5 3\n",
      "7 7 5\n",
      "8 10 6\n",
      "9 13 10\n",
      "10 19 13\n",
      "11 31 23\n",
      "12 49 27\n",
      "13 60 38\n",
      "14 98 56\n",
      "15 139 80\n",
      "16 209 119\n",
      "17 302 171\n",
      "18 427 197\n",
      "19 470 246\n",
      "20 642 327\n",
      "21 922 460\n",
      "22 1277 611\n",
      "23 1792 944\n"
     ]
    },
    {
     "data": {
      "application/vnd.jupyter.widget-view+json": {
       "model_id": "6adcd56179da48c288ac1135ab82569f",
       "version_major": 2,
       "version_minor": 0
      },
      "text/plain": [
       "  0%|          | 0/24 [00:00<?, ?it/s]"
      ]
     },
     "metadata": {},
     "output_type": "display_data"
    },
    {
     "name": "stdout",
     "output_type": "stream",
     "text": [
      "0 1 1\n",
      "1 1 1\n",
      "2 3 3\n",
      "3 5 3\n",
      "4 7 5\n",
      "5 9 6\n",
      "6 13 9\n",
      "7 17 8\n",
      "8 17 9\n",
      "9 20 10\n",
      "10 26 13\n",
      "11 32 20\n",
      "12 48 28\n",
      "13 64 41\n",
      "14 90 52\n",
      "15 113 66\n",
      "16 158 101\n",
      "17 271 167\n",
      "18 435 234\n",
      "19 665 378\n",
      "20 1050 589\n",
      "21 1672 944\n",
      "22 2637 1428\n",
      "23 3982 2187\n"
     ]
    },
    {
     "data": {
      "application/vnd.jupyter.widget-view+json": {
       "model_id": "888932de254441639f21159dc86cfbce",
       "version_major": 2,
       "version_minor": 0
      },
      "text/plain": [
       "  0%|          | 0/24 [00:00<?, ?it/s]"
      ]
     },
     "metadata": {},
     "output_type": "display_data"
    },
    {
     "name": "stdout",
     "output_type": "stream",
     "text": [
      "0 1 1\n",
      "1 1 1\n",
      "2 1 1\n",
      "3 2 2\n",
      "4 4 3\n",
      "5 5 3\n",
      "6 7 5\n",
      "7 11 7\n",
      "8 15 9\n",
      "9 21 15\n",
      "10 33 23\n",
      "11 55 29\n",
      "12 69 46\n",
      "13 113 64\n",
      "14 161 96\n",
      "15 242 139\n",
      "16 336 209\n",
      "17 500 273\n",
      "18 659 391\n",
      "19 988 577\n",
      "20 1551 898\n",
      "21 2494 1482\n",
      "22 4206 2492\n",
      "23 7226 4327\n"
     ]
    },
    {
     "data": {
      "application/vnd.jupyter.widget-view+json": {
       "model_id": "41976f5457f547a3a233e549acb4e447",
       "version_major": 2,
       "version_minor": 0
      },
      "text/plain": [
       "  0%|          | 0/24 [00:00<?, ?it/s]"
      ]
     },
     "metadata": {},
     "output_type": "display_data"
    },
    {
     "name": "stdout",
     "output_type": "stream",
     "text": [
      "0 1 1\n",
      "1 1 1\n",
      "2 1 1\n",
      "3 1 1\n",
      "4 3 3\n",
      "5 5 3\n",
      "6 5 3\n",
      "7 7 5\n",
      "8 10 6\n",
      "9 13 10\n",
      "10 19 13\n",
      "11 31 23\n",
      "12 49 27\n",
      "13 58 36\n",
      "14 93 53\n",
      "15 131 75\n",
      "16 193 113\n",
      "17 272 149\n",
      "18 370 165\n",
      "19 387 190\n",
      "20 436 208\n",
      "21 562 285\n",
      "22 766 396\n",
      "23 1075 554\n"
     ]
    },
    {
     "data": {
      "application/vnd.jupyter.widget-view+json": {
       "model_id": "d7ad2dfb533e45b7bfb25f47a78e274f",
       "version_major": 2,
       "version_minor": 0
      },
      "text/plain": [
       "  0%|          | 0/24 [00:00<?, ?it/s]"
      ]
     },
     "metadata": {},
     "output_type": "display_data"
    },
    {
     "name": "stdout",
     "output_type": "stream",
     "text": [
      "0 1 1\n",
      "1 1 1\n",
      "2 2 2\n",
      "3 3 2\n",
      "4 5 3\n",
      "5 6 5\n",
      "6 12 8\n",
      "7 17 9\n",
      "8 21 7\n",
      "9 15 5\n",
      "10 10 6\n",
      "11 12 7\n",
      "12 18 12\n",
      "13 30 16\n",
      "14 39 24\n",
      "15 54 31\n",
      "16 71 41\n",
      "17 91 55\n",
      "18 142 93\n",
      "19 253 146\n",
      "20 407 236\n",
      "21 667 383\n",
      "22 1109 624\n",
      "23 1781 1008\n"
     ]
    },
    {
     "data": {
      "application/vnd.jupyter.widget-view+json": {
       "model_id": "3075b44c492c431484bf9c8fc9e284cc",
       "version_major": 2,
       "version_minor": 0
      },
      "text/plain": [
       "  0%|          | 0/24 [00:00<?, ?it/s]"
      ]
     },
     "metadata": {},
     "output_type": "display_data"
    },
    {
     "name": "stdout",
     "output_type": "stream",
     "text": [
      "0 1 1\n",
      "1 1 1\n",
      "2 1 1\n",
      "3 1 1\n",
      "4 3 3\n",
      "5 5 3\n",
      "6 5 3\n",
      "7 7 5\n",
      "8 10 6\n",
      "9 13 10\n",
      "10 19 13\n",
      "11 30 22\n",
      "12 43 23\n",
      "13 48 29\n",
      "14 58 27\n",
      "15 57 30\n",
      "16 68 28\n",
      "17 75 38\n",
      "18 95 43\n",
      "19 105 62\n",
      "20 152 82\n",
      "21 198 109\n",
      "22 256 135\n",
      "23 307 178\n"
     ]
    },
    {
     "data": {
      "application/vnd.jupyter.widget-view+json": {
       "model_id": "e132e4d63f8c455196c28a7d12093751",
       "version_major": 2,
       "version_minor": 0
      },
      "text/plain": [
       "  0%|          | 0/24 [00:00<?, ?it/s]"
      ]
     },
     "metadata": {},
     "output_type": "display_data"
    },
    {
     "name": "stdout",
     "output_type": "stream",
     "text": [
      "0 1 1\n",
      "1 1 1\n",
      "2 1 1\n",
      "3 2 2\n",
      "4 4 3\n",
      "5 6 4\n",
      "6 8 4\n",
      "7 10 8\n",
      "8 17 12\n",
      "9 27 18\n",
      "10 36 17\n",
      "11 39 22\n",
      "12 60 29\n",
      "13 72 37\n",
      "14 92 55\n",
      "15 133 70\n",
      "16 159 78\n",
      "17 169 93\n",
      "18 198 111\n",
      "19 233 126\n",
      "20 274 157\n",
      "21 393 239\n",
      "22 596 316\n",
      "23 798 416\n"
     ]
    }
   ],
   "source": [
    "ans = []\n",
    "\n",
    "for bluep_id, line in enumerate(lines):\n",
    "  a = amap(int, re.findall(r'-?\\d+', line))\n",
    "  id = a[0]\n",
    "  rob1_1_cost = a[1]\n",
    "  rob2_1_cost = a[2]\n",
    "  rob3_1_cost, rob3_2_cost = a[3:5]\n",
    "  rob4_1_cost, rob4_3_cost = a[5:7]\n",
    "  \n",
    "  states = [\n",
    "    (\n",
    "     0, 1,\n",
    "    0, 0,\n",
    "    0, 0,\n",
    "    0, 0,\n",
    "    )\n",
    "  ]\n",
    "  # visited = set()\n",
    "  \n",
    "  for time in tqdm(range(24)):\n",
    "    newpareto = set()\n",
    "    newstates = []\n",
    "    \n",
    "    for state in states:\n",
    "      h1, r1, h2, r2, h3, r3, h4, r4 = state\n",
    "      \n",
    "      if (\n",
    "          h1 >= rob1_1_cost\n",
    "          and r1 < max(rob1_1_cost, rob2_1_cost, rob3_1_cost, r1 < rob4_1_cost)\n",
    "          and h1 < max(rob1_1_cost, rob2_1_cost, rob3_1_cost, r1 < rob4_1_cost) * 2\n",
    "      ):\n",
    "        newstates.append(\n",
    "          (\n",
    "            h1 - rob1_1_cost + r1, r1 + 1,\n",
    "            h2 + r2, r2,\n",
    "            h3 + r3, r3,\n",
    "            h4 + r4, r4\n",
    "          )\n",
    "        )\n",
    "      \n",
    "      if (\n",
    "          h1 >= rob2_1_cost\n",
    "          and r2 < rob3_2_cost\n",
    "          and h2 < rob3_2_cost * 2\n",
    "      ):\n",
    "        newstates.append(\n",
    "          (\n",
    "            h1 - rob2_1_cost + r1, r1,\n",
    "            h2 + r2, r2 + 1,\n",
    "            h3 + r3, r3,\n",
    "            h4 + r4, r4\n",
    "          )\n",
    "        )\n",
    "      \n",
    "      if h1 >= rob3_1_cost and h2 >= rob3_2_cost and (r3 < rob4_3_cost):\n",
    "        newstates.append(\n",
    "          (\n",
    "            h1 - rob3_1_cost + r1, r1,\n",
    "            h2 - rob3_2_cost + r2, r2,\n",
    "            h3 + r3, r3 + 1,\n",
    "            h4 + r4, r4\n",
    "          )\n",
    "        )\n",
    "      \n",
    "      if h1 >= rob4_1_cost and h3 >= rob4_3_cost:\n",
    "        newstates.append(\n",
    "          (\n",
    "            h1 - rob4_1_cost + r1, r1,\n",
    "            h2 + r2, r2,\n",
    "            h3 - rob4_3_cost + r3, r3,\n",
    "            h4 + r4, r4 + 1\n",
    "          )\n",
    "        )\n",
    "      \n",
    "      newstates.append(\n",
    "        (\n",
    "          h1 + r1, r1,\n",
    "          h2 + r2, r2,\n",
    "          h3 + r3, r3,\n",
    "          h4 + r4, r4\n",
    "        )\n",
    "      )\n",
    "      \n",
    "      # for i in newstates:\n",
    "      #   should_add = True\n",
    "      #   for j in newpareto:\n",
    "      #     found_better = True\n",
    "      #     for ii, jj in zip(i, j):\n",
    "      #       if jj >= ii:\n",
    "      #         pass\n",
    "      #       else:\n",
    "      #         found_better = False\n",
    "      #         break\n",
    "      #     if found_better:\n",
    "      #       should_add = False\n",
    "      #       break\n",
    "      #   if should_add:\n",
    "      #     newpareto.append(i)\n",
    "      for i in newstates:\n",
    "        newpareto.add(i)\n",
    "\n",
    "    newstates = []\n",
    "    for i in newpareto:\n",
    "      should_add = True\n",
    "      for j in newpareto:\n",
    "        if i == j:\n",
    "          continue\n",
    "        found_better = True\n",
    "        for ii, jj in zip(i, j):\n",
    "          if jj >= ii:\n",
    "            pass\n",
    "          else:\n",
    "            found_better = False\n",
    "            break\n",
    "        if found_better:\n",
    "          should_add = False\n",
    "          break\n",
    "      if should_add:\n",
    "        newstates.append(i)\n",
    "      \n",
    "    states = newstates\n",
    "    print(time, len(newpareto), len(states))\n",
    "  \n",
    "  ans.append(max([i[-2] for i in states]) * (bluep_id + 1))"
   ]
  },
  {
   "cell_type": "code",
   "execution_count": 134,
   "metadata": {
    "execution": {
     "iopub.execute_input": "2022-12-19T06:46:41.697155Z",
     "iopub.status.busy": "2022-12-19T06:46:41.696353Z",
     "iopub.status.idle": "2022-12-19T06:46:42.270356Z",
     "shell.execute_reply": "2022-12-19T06:46:42.268917Z",
     "shell.execute_reply.started": "2022-12-19T06:46:41.697107Z"
    },
    "tags": []
   },
   "outputs": [
    {
     "name": "stdout",
     "output_type": "stream",
     "text": [
      "Submitting 1962...\n"
     ]
    },
    {
     "data": {
      "text/plain": [
       "True"
      ]
     },
     "execution_count": 134,
     "metadata": {},
     "output_type": "execute_result"
    }
   ],
   "source": [
    "submit1(sum(ans))"
   ]
  },
  {
   "cell_type": "code",
   "execution_count": 125,
   "metadata": {
    "execution": {
     "iopub.execute_input": "2022-12-19T06:33:17.467181Z",
     "iopub.status.busy": "2022-12-19T06:33:17.466618Z",
     "iopub.status.idle": "2022-12-19T06:33:17.492216Z",
     "shell.execute_reply": "2022-12-19T06:33:17.491604Z",
     "shell.execute_reply.started": "2022-12-19T06:33:17.467138Z"
    },
    "tags": []
   },
   "outputs": [
    {
     "name": "stdout",
     "output_type": "stream",
     "text": [
      "0 1 53\n",
      "1 1 4\n",
      "2 0 119\n",
      "3 0 14\n",
      "4 0 23\n",
      "5 0 6\n",
      "6 0 5\n",
      "7 0 2\n"
     ]
    }
   ],
   "source": [
    "for i in range(8):\n",
    "  a = [j[i] for j in states]\n",
    "  print(i, min(a), max(a))"
   ]
  },
  {
   "cell_type": "code",
   "execution_count": 127,
   "metadata": {
    "execution": {
     "iopub.execute_input": "2022-12-19T06:39:11.709456Z",
     "iopub.status.busy": "2022-12-19T06:39:11.708919Z",
     "iopub.status.idle": "2022-12-19T06:39:11.722150Z",
     "shell.execute_reply": "2022-12-19T06:39:11.721162Z",
     "shell.execute_reply.started": "2022-12-19T06:39:11.709428Z"
    },
    "tags": []
   },
   "outputs": [
    {
     "data": {
      "text/plain": [
       "8013"
      ]
     },
     "execution_count": 127,
     "metadata": {},
     "output_type": "execute_result"
    }
   ],
   "source": [
    "len(states)"
   ]
  },
  {
   "cell_type": "code",
   "execution_count": 126,
   "metadata": {
    "execution": {
     "iopub.execute_input": "2022-12-19T06:39:02.631569Z",
     "iopub.status.busy": "2022-12-19T06:39:02.631117Z",
     "iopub.status.idle": "2022-12-19T06:39:02.649368Z",
     "shell.execute_reply": "2022-12-19T06:39:02.648722Z",
     "shell.execute_reply.started": "2022-12-19T06:39:02.631547Z"
    },
    "tags": []
   },
   "outputs": [
    {
     "data": {
      "text/plain": [
       "[(2, 2, 14, 7, 8, 5, 3, 2),\n",
       " (2, 2, 34, 8, 10, 2, 4, 1),\n",
       " (2, 2, 72, 12, 4, 3, 0, 0),\n",
       " (3, 2, 36, 8, 4, 4, 1, 2),\n",
       " (3, 4, 79, 11, 4, 2, 0, 0),\n",
       " (4, 3, 18, 8, 12, 5, 0, 1),\n",
       " (4, 3, 43, 10, 10, 4, 0, 0),\n",
       " (4, 3, 54, 10, 14, 3, 0, 0),\n",
       " (5, 2, 29, 8, 14, 4, 3, 1),\n",
       " (5, 3, 36, 8, 16, 4, 0, 0),\n",
       " (5, 4, 30, 9, 18, 4, 0, 0),\n",
       " (5, 4, 32, 9, 16, 4, 0, 0),\n",
       " (5, 4, 60, 9, 8, 2, 2, 1),\n",
       " (6, 3, 31, 9, 9, 4, 2, 1),\n",
       " (6, 3, 53, 11, 12, 3, 0, 0),\n",
       " (6, 3, 62, 11, 3, 3, 0, 0),\n",
       " (7, 3, 45, 10, 10, 3, 1, 1),\n",
       " (7, 3, 52, 10, 4, 3, 0, 1),\n",
       " (7, 4, 29, 8, 10, 4, 0, 1),\n",
       " (8, 2, 98, 12, 5, 1, 0, 0),\n",
       " (8, 3, 12, 8, 9, 5, 1, 1),\n",
       " (8, 3, 19, 9, 10, 5, 0, 0),\n",
       " (8, 3, 28, 7, 4, 4, 1, 2),\n",
       " (8, 4, 12, 8, 17, 5, 0, 0),\n",
       " (8, 4, 90, 11, 4, 1, 0, 0),\n",
       " (9, 3, 25, 9, 9, 4, 2, 1),\n",
       " (9, 3, 48, 10, 4, 3, 0, 1),\n",
       " (9, 3, 88, 10, 1, 1, 0, 1),\n",
       " (9, 4, 10, 8, 17, 5, 0, 0),\n",
       " (10, 3, 24, 8, 12, 4, 2, 1),\n",
       " (10, 3, 34, 10, 7, 4, 0, 0),\n",
       " (10, 4, 36, 8, 12, 3, 3, 1),\n",
       " (11, 3, 23, 3, 10, 2, 4, 1),\n",
       " (11, 3, 30, 10, 9, 4, 0, 0),\n",
       " (11, 3, 43, 8, 10, 3, 2, 1),\n",
       " (11, 3, 43, 11, 12, 3, 0, 0),\n",
       " (11, 3, 46, 9, 16, 3, 0, 0),\n",
       " (11, 3, 48, 11, 7, 3, 0, 0),\n",
       " (11, 3, 59, 11, 5, 2, 0, 1),\n",
       " (11, 3, 64, 11, 11, 2, 0, 0),\n",
       " (11, 4, 34, 8, 10, 4, 0, 0),\n",
       " (11, 4, 45, 8, 5, 3, 0, 1),\n",
       " (11, 4, 48, 9, 11, 3, 0, 0),\n",
       " (12, 2, 89, 10, 7, 1, 0, 0),\n",
       " (12, 3, 85, 13, 0, 1, 0, 0),\n",
       " (12, 4, 36, 9, 10, 3, 1, 1),\n",
       " (12, 4, 45, 9, 12, 3, 0, 0),\n",
       " (12, 4, 62, 11, 8, 2, 0, 0),\n",
       " (12, 4, 64, 11, 6, 2, 0, 0),\n",
       " (13, 3, 26, 7, 17, 4, 0, 0),\n",
       " (13, 3, 63, 9, 13, 2, 0, 0),\n",
       " (13, 3, 106, 12, 0, 0, 0, 0),\n",
       " (13, 4, 41, 9, 4, 3, 1, 1),\n",
       " (13, 4, 48, 10, 5, 3, 0, 0),\n",
       " (14, 3, 36, 7, 11, 3, 2, 1),\n",
       " (14, 3, 38, 10, 4, 3, 0, 1),\n",
       " (14, 3, 41, 11, 8, 3, 0, 0),\n",
       " (14, 3, 58, 12, 7, 2, 0, 0),\n",
       " (14, 4, 18, 8, 11, 4, 0, 1),\n",
       " (14, 4, 24, 9, 12, 4, 0, 0),\n",
       " (14, 4, 45, 8, 11, 3, 0, 0),\n",
       " (14, 4, 55, 10, 5, 2, 0, 1),\n",
       " (15, 4, 13, 6, 4, 4, 2, 2),\n",
       " (15, 4, 22, 9, 13, 4, 0, 0),\n",
       " (15, 4, 61, 11, 5, 2, 0, 0),\n",
       " (15, 4, 66, 9, 5, 2, 0, 0),\n",
       " (16, 4, 20, 7, 6, 4, 1, 1),\n",
       " (16, 4, 33, 9, 8, 3, 1, 1),\n",
       " (17, 4, 17, 7, 9, 4, 0, 1),\n",
       " (17, 4, 23, 7, 14, 4, 0, 0),\n",
       " (17, 4, 42, 8, 10, 3, 0, 0),\n",
       " (17, 4, 55, 8, 13, 2, 0, 0),\n",
       " (17, 4, 57, 9, 10, 2, 0, 0),\n",
       " (17, 4, 76, 12, 2, 1, 0, 0),\n",
       " (18, 4, 52, 8, 5, 2, 1, 1),\n",
       " (18, 4, 57, 9, 9, 2, 0, 0),\n",
       " (18, 4, 68, 11, 1, 1, 0, 1),\n",
       " (19, 4, 19, 9, 10, 4, 0, 0),\n",
       " (19, 4, 32, 9, 15, 3, 0, 0),\n",
       " (19, 4, 52, 9, 3, 2, 0, 1),\n",
       " (19, 4, 78, 9, 3, 1, 0, 0),\n",
       " (20, 4, 11, 6, 8, 4, 1, 1),\n",
       " (20, 4, 16, 9, 11, 4, 0, 0),\n",
       " (20, 4, 20, 8, 10, 4, 0, 0),\n",
       " (20, 4, 30, 7, 9, 3, 2, 1),\n",
       " (20, 4, 53, 9, 10, 2, 0, 0),\n",
       " (20, 4, 56, 9, 7, 2, 0, 0),\n",
       " (21, 4, 30, 8, 6, 3, 1, 1),\n",
       " (21, 4, 51, 10, 9, 2, 0, 0),\n",
       " (22, 4, 29, 10, 11, 3, 0, 0),\n",
       " (22, 4, 30, 7, 16, 3, 0, 0),\n",
       " (22, 4, 37, 9, 6, 3, 0, 0),\n",
       " (24, 4, 31, 7, 12, 3, 0, 0),\n",
       " (27, 4, 38, 6, 5, 2, 1, 1),\n",
       " (27, 4, 60, 11, 6, 1, 0, 0),\n",
       " (29, 4, 17, 6, 4, 3, 0, 1),\n",
       " (29, 4, 61, 9, 5, 1, 0, 0),\n",
       " (30, 4, 40, 8, 9, 2, 0, 0),\n",
       " (32, 4, 16, 6, 11, 3, 0, 0),\n",
       " (40, 4, 32, 4, 7, 1, 0, 0)]"
      ]
     },
     "execution_count": 126,
     "metadata": {},
     "output_type": "execute_result"
    }
   ],
   "source": [
    "sorted(states[:100])"
   ]
  },
  {
   "cell_type": "code",
   "execution_count": 108,
   "metadata": {
    "execution": {
     "iopub.execute_input": "2022-12-19T06:28:01.078999Z",
     "iopub.status.busy": "2022-12-19T06:28:01.078542Z",
     "iopub.status.idle": "2022-12-19T06:28:01.092782Z",
     "shell.execute_reply": "2022-12-19T06:28:01.092085Z",
     "shell.execute_reply.started": "2022-12-19T06:28:01.078975Z"
    },
    "tags": []
   },
   "outputs": [
    {
     "data": {
      "text/plain": [
       "[(1, 1, 20, 5, 0, 0, 0, 0, 1),\n",
       " (2, 1, 4, 3, 0, 1, 0, 0, 2),\n",
       " (3, 1, 20, 4, 0, 0, 0, 0, 1),\n",
       " (3, 2, 10, 5, 0, 0, 0, 0, 1),\n",
       " (5, 1, 18, 3, 0, 0, 0, 0, 1),\n",
       " (5, 2, 10, 4, 0, 0, 0, 0, 1),\n",
       " (5, 5, 0, 0, 0, 0, 0, 0, 0),\n",
       " (6, 3, 3, 3, 0, 0, 0, 0, 1),\n",
       " (7, 1, 14, 2, 0, 0, 0, 0, 1),\n",
       " (7, 2, 9, 3, 0, 0, 0, 0, 1),\n",
       " (7, 4, 0, 1, 0, 0, 0, 0, 1),\n",
       " (8, 3, 3, 2, 0, 0, 0, 0, 1),\n",
       " (9, 1, 8, 1, 0, 0, 0, 0, 1),\n",
       " (9, 2, 7, 2, 0, 0, 0, 0, 1),\n",
       " (9, 4, 0, 0, 0, 0, 0, 0, 0),\n",
       " (10, 3, 2, 1, 0, 0, 0, 0, 1),\n",
       " (11, 2, 4, 1, 0, 0, 0, 0, 1),\n",
       " (12, 3, 0, 0, 0, 0, 0, 0, 0),\n",
       " (13, 2, 0, 0, 0, 0, 0, 0, 0)]"
      ]
     },
     "execution_count": 108,
     "metadata": {},
     "output_type": "execute_result"
    }
   ],
   "source": [
    "sorted(states)"
   ]
  },
  {
   "cell_type": "code",
   "execution_count": 131,
   "metadata": {
    "execution": {
     "iopub.execute_input": "2022-12-19T06:45:25.325526Z",
     "iopub.status.busy": "2022-12-19T06:45:25.324749Z",
     "iopub.status.idle": "2022-12-19T06:45:25.344440Z",
     "shell.execute_reply": "2022-12-19T06:45:25.343773Z",
     "shell.execute_reply.started": "2022-12-19T06:45:25.325479Z"
    },
    "tags": []
   },
   "outputs": [
    {
     "data": {
      "text/plain": [
       "[9, 24]"
      ]
     },
     "execution_count": 131,
     "metadata": {},
     "output_type": "execute_result"
    }
   ],
   "source": [
    "ans"
   ]
  },
  {
   "cell_type": "code",
   "execution_count": 94,
   "metadata": {
    "execution": {
     "iopub.execute_input": "2022-12-19T06:25:41.798727Z",
     "iopub.status.busy": "2022-12-19T06:25:41.797982Z",
     "iopub.status.idle": "2022-12-19T06:25:41.810535Z",
     "shell.execute_reply": "2022-12-19T06:25:41.809628Z",
     "shell.execute_reply.started": "2022-12-19T06:25:41.798683Z"
    },
    "tags": []
   },
   "outputs": [
    {
     "data": {
      "text/plain": [
       "4"
      ]
     },
     "execution_count": 94,
     "metadata": {},
     "output_type": "execute_result"
    }
   ],
   "source": [
    "max([i[-2] for i in states])"
   ]
  },
  {
   "cell_type": "code",
   "execution_count": 97,
   "metadata": {
    "execution": {
     "iopub.execute_input": "2022-12-19T06:26:14.450105Z",
     "iopub.status.busy": "2022-12-19T06:26:14.449526Z",
     "iopub.status.idle": "2022-12-19T06:26:14.457892Z",
     "shell.execute_reply": "2022-12-19T06:26:14.457332Z",
     "shell.execute_reply.started": "2022-12-19T06:26:14.450084Z"
    },
    "tags": []
   },
   "outputs": [
    {
     "data": {
      "text/plain": [
       "(9, 2, 31, 6, 8, 4, 6, 3, 3)"
      ]
     },
     "execution_count": 97,
     "metadata": {},
     "output_type": "execute_result"
    }
   ],
   "source": [
    "states[argmax([i[-2] for i in states])]"
   ]
  },
  {
   "cell_type": "code",
   "execution_count": 27,
   "metadata": {
    "execution": {
     "iopub.execute_input": "2022-12-19T06:06:00.594113Z",
     "iopub.status.busy": "2022-12-19T06:06:00.593593Z",
     "iopub.status.idle": "2022-12-19T06:06:00.604310Z",
     "shell.execute_reply": "2022-12-19T06:06:00.603422Z",
     "shell.execute_reply.started": "2022-12-19T06:06:00.594085Z"
    },
    "tags": []
   },
   "outputs": [],
   "source": [
    "for i in states:\n",
    "  if i[0:4] == [6, 1, 41, 4]:\n",
    "    print(i)"
   ]
  },
  {
   "cell_type": "code",
   "execution_count": null,
   "metadata": {},
   "outputs": [],
   "source": []
  },
  {
   "cell_type": "code",
   "execution_count": 10,
   "metadata": {
    "execution": {
     "iopub.execute_input": "2022-12-19T05:55:42.382270Z",
     "iopub.status.busy": "2022-12-19T05:55:42.381484Z",
     "iopub.status.idle": "2022-12-19T05:55:42.407741Z",
     "shell.execute_reply": "2022-12-19T05:55:42.406739Z",
     "shell.execute_reply.started": "2022-12-19T05:55:42.382223Z"
    },
    "tags": []
   },
   "outputs": [
    {
     "name": "stdout",
     "output_type": "stream",
     "text": [
      "11 14 7 4 14 7 20\n",
      "8451520\n",
      "11 8 12 3 8 12 20\n",
      "6082560\n"
     ]
    }
   ],
   "source": [
    "for bluep_id, line in enumerate(lines):\n",
    "  a = amap(int, re.findall(r'-?\\d+', line))\n",
    "  id = a[0]\n",
    "  rob1_1_cost = a[1]\n",
    "  rob2_1_cost = a[2]\n",
    "  rob3_1_cost, rob3_2_cost = a[3:5]\n",
    "  rob4_1_cost, rob4_3_cost = a[5:7]\n",
    "  \n",
    "  hm1 = rob1_1_cost + rob2_1_cost + rob3_1_cost + rob4_1_cost\n",
    "  hm2 = rob3_2_cost\n",
    "  hm3 = rob4_3_cost\n",
    "  \n",
    "  rm1 = max(rob1_1_cost, rob2_1_cost, rob3_1_cost, rob4_1_cost)\n",
    "  rm2 = rob3_2_cost\n",
    "  rm3 = rob4_3_cost\n",
    "  rm4 = 20\n",
    "  \n",
    "  print(hm1, hm2, hm3, rm1, rm2, rm3, rm4)\n",
    "  print(hm1* hm2* hm3* rm1* rm2* rm3* rm4)\n",
    "  \n",
    "  dp = np.full((hm1, rm1, hm2, rm2, ), -100)"
   ]
  },
  {
   "cell_type": "code",
   "execution_count": null,
   "metadata": {},
   "outputs": [],
   "source": []
  },
  {
   "cell_type": "code",
   "execution_count": null,
   "metadata": {},
   "outputs": [],
   "source": []
  },
  {
   "cell_type": "code",
   "execution_count": null,
   "metadata": {},
   "outputs": [],
   "source": []
  },
  {
   "cell_type": "code",
   "execution_count": 6,
   "metadata": {
    "execution": {
     "iopub.execute_input": "2022-12-19T05:49:00.355075Z",
     "iopub.status.busy": "2022-12-19T05:49:00.354384Z",
     "iopub.status.idle": "2022-12-19T05:49:00.367824Z",
     "shell.execute_reply": "2022-12-19T05:49:00.366951Z",
     "shell.execute_reply.started": "2022-12-19T05:49:00.355031Z"
    },
    "tags": []
   },
   "outputs": [
    {
     "data": {
      "text/plain": [
       "(2220, 31)"
      ]
     },
     "execution_count": 6,
     "metadata": {},
     "output_type": "execute_result"
    }
   ],
   "source": [
    "len(states), len(newstates)"
   ]
  },
  {
   "cell_type": "code",
   "execution_count": 58,
   "metadata": {
    "execution": {
     "iopub.execute_input": "2022-12-19T05:30:16.693307Z",
     "iopub.status.busy": "2022-12-19T05:30:16.692906Z",
     "iopub.status.idle": "2022-12-19T05:30:16.703259Z",
     "shell.execute_reply": "2022-12-19T05:30:16.702183Z",
     "shell.execute_reply.started": "2022-12-19T05:30:16.693286Z"
    },
    "tags": []
   },
   "outputs": [
    {
     "data": {
      "text/plain": [
       "249"
      ]
     },
     "execution_count": 58,
     "metadata": {},
     "output_type": "execute_result"
    }
   ],
   "source": [
    "len(states)"
   ]
  },
  {
   "cell_type": "code",
   "execution_count": 45,
   "metadata": {
    "execution": {
     "iopub.execute_input": "2022-12-19T05:24:22.885258Z",
     "iopub.status.busy": "2022-12-19T05:24:22.884816Z",
     "iopub.status.idle": "2022-12-19T05:24:22.900221Z",
     "shell.execute_reply": "2022-12-19T05:24:22.899457Z",
     "shell.execute_reply.started": "2022-12-19T05:24:22.885234Z"
    },
    "tags": []
   },
   "outputs": [
    {
     "data": {
      "text/plain": [
       "42937355"
      ]
     },
     "execution_count": 45,
     "metadata": {},
     "output_type": "execute_result"
    }
   ],
   "source": [
    "len(states)"
   ]
  },
  {
   "cell_type": "code",
   "execution_count": 19,
   "metadata": {
    "execution": {
     "iopub.execute_input": "2022-12-19T05:09:46.775022Z",
     "iopub.status.busy": "2022-12-19T05:09:46.774676Z",
     "iopub.status.idle": "2022-12-19T05:09:46.780258Z",
     "shell.execute_reply": "2022-12-19T05:09:46.779883Z",
     "shell.execute_reply.started": "2022-12-19T05:09:46.775002Z"
    },
    "tags": []
   },
   "outputs": [
    {
     "data": {
      "text/plain": [
       "1280000000"
      ]
     },
     "execution_count": 19,
     "metadata": {},
     "output_type": "execute_result"
    }
   ],
   "source": [
    "20 * 20 * 20 * 20 * 20 * 20 * 20"
   ]
  },
  {
   "cell_type": "code",
   "execution_count": null,
   "metadata": {},
   "outputs": [],
   "source": [
    "count = 0\n",
    "a = []\n",
    "s = set()\n",
    "d = collections.defaultdict()\n",
    "\n",
    "for line in lines:\n",
    "  if m := re.findall(r'^$', line):\n",
    "    pass\n",
    "  elif m := re.findall(r'^$', line):\n",
    "    pass\n",
    "  else:\n",
    "    raise Exception()"
   ]
  }
 ],
 "metadata": {
  "kernelspec": {
   "display_name": "Python 3 (ipykernel)",
   "language": "python",
   "name": "python3"
  },
  "language_info": {
   "codemirror_mode": {
    "name": "ipython",
    "version": 3
   },
   "file_extension": ".py",
   "mimetype": "text/x-python",
   "name": "python",
   "nbconvert_exporter": "python",
   "pygments_lexer": "ipython3",
   "version": "3.11.0"
  }
 },
 "nbformat": 4,
 "nbformat_minor": 4
}
