{
 "cells": [
  {
   "cell_type": "code",
   "execution_count": 1,
   "metadata": {
    "execution": {
     "iopub.execute_input": "2022-12-16T05:49:24.459230Z",
     "iopub.status.busy": "2022-12-16T05:49:24.459060Z",
     "iopub.status.idle": "2022-12-16T05:49:25.380270Z",
     "shell.execute_reply": "2022-12-16T05:49:25.379951Z",
     "shell.execute_reply.started": "2022-12-16T05:49:24.459199Z"
    },
    "tags": []
   },
   "outputs": [],
   "source": [
    "import numpy as np\n",
    "from numpy import *\n",
    "import matplotlib\n",
    "from matplotlib import pyplot as plt\n",
    "from tqdm.auto import tqdm\n",
    "import requests\n",
    "import pickle\n",
    "import re\n",
    "import itertools\n",
    "import functools\n",
    "import collections\n",
    "import string\n",
    "import time\n",
    "from bs4 import BeautifulSoup\n",
    "from sortedcontainers import SortedList # http://www.grantjenks.com/docs/sortedcontainers/sortedlist.html#sortedlist\n",
    "\n",
    "from adventlib.common import *\n",
    "# n, m, a = lines_as_matrix_nm(lines)\n",
    "# a = lines_as_matrix(lines)\n",
    "# a = lines_as_digit_matrix(lines)\n",
    "# chunks = split_iter_by_start_indices(a, indices)\n",
    "# chunks = split_iter_by_bools(a, bools)\n",
    "\n",
    "# from adventlib.point_2d import *\n",
    "# from adventlib.point_3d import *\n",
    "\n",
    "YEAR = 2022\n",
    "DAY = int('16')\n",
    "\n",
    "submit1, submit2 = generate_submits(YEAR, DAY)\n",
    "\n",
    "while True:\n",
    "  try:\n",
    "    raw_input = get_input(YEAR, DAY)\n",
    "    break\n",
    "  except Exception as e:\n",
    "    print(e)\n",
    "    time.sleep(1)"
   ]
  },
  {
   "cell_type": "code",
   "execution_count": 15,
   "metadata": {
    "execution": {
     "iopub.execute_input": "2022-12-16T05:52:59.022657Z",
     "iopub.status.busy": "2022-12-16T05:52:59.022511Z",
     "iopub.status.idle": "2022-12-16T05:52:59.024992Z",
     "shell.execute_reply": "2022-12-16T05:52:59.024603Z",
     "shell.execute_reply.started": "2022-12-16T05:52:59.022647Z"
    },
    "tags": []
   },
   "outputs": [],
   "source": [
    "lines, groups = linesplit(\"\"\"\n",
    "Valve AA has flow rate=0; tunnels lead to valves DD, II, BB\n",
    "Valve BB has flow rate=13; tunnels lead to valves CC, AA\n",
    "Valve CC has flow rate=2; tunnels lead to valves DD, BB\n",
    "Valve DD has flow rate=20; tunnels lead to valves CC, AA, EE\n",
    "Valve EE has flow rate=3; tunnels lead to valves FF, DD\n",
    "Valve FF has flow rate=0; tunnels lead to valves EE, GG\n",
    "Valve GG has flow rate=0; tunnels lead to valves FF, HH\n",
    "Valve HH has flow rate=22; tunnel leads to valve GG\n",
    "Valve II has flow rate=0; tunnels lead to valves AA, JJ\n",
    "Valve JJ has flow rate=21; tunnel leads to valve II\n",
    "\"\"\".strip())"
   ]
  },
  {
   "cell_type": "code",
   "execution_count": 21,
   "metadata": {
    "execution": {
     "iopub.execute_input": "2022-12-16T06:11:03.517771Z",
     "iopub.status.busy": "2022-12-16T06:11:03.517588Z",
     "iopub.status.idle": "2022-12-16T06:11:03.520035Z",
     "shell.execute_reply": "2022-12-16T06:11:03.519698Z",
     "shell.execute_reply.started": "2022-12-16T06:11:03.517761Z"
    },
    "tags": []
   },
   "outputs": [
    {
     "name": "stdout",
     "output_type": "stream",
     "text": [
      "64 lines\n",
      "1 groups\n",
      ">>>\n",
      "Valve MU has flow rate=0; tunnels lead to valves VT, LA\n",
      "Valve TQ has flow rate=0; tunnels lead to valves HU, SU\n",
      "Valve YH has flow rate=0; tunnels lead to valves CN, BN\n",
      "...\n"
     ]
    }
   ],
   "source": [
    "lines, groups = linesplit(raw_input, verbose=True)"
   ]
  },
  {
   "cell_type": "code",
   "execution_count": 22,
   "metadata": {
    "execution": {
     "iopub.execute_input": "2022-12-16T06:11:03.665421Z",
     "iopub.status.busy": "2022-12-16T06:11:03.665287Z",
     "iopub.status.idle": "2022-12-16T06:11:03.668199Z",
     "shell.execute_reply": "2022-12-16T06:11:03.667700Z",
     "shell.execute_reply.started": "2022-12-16T06:11:03.665413Z"
    },
    "tags": []
   },
   "outputs": [],
   "source": [
    "names = set()\n",
    "rates = {}\n",
    "neighs = {}\n",
    "\n",
    "for line in lines:\n",
    "  if m := re.findall(r'^Valve (.*) has flow rate=(.*); tunnels? leads? to valves? (.*)$', line):\n",
    "    m = m[0]\n",
    "    name = m[0]\n",
    "    rate = int(m[1])\n",
    "    neigh = m[2].split(', ')\n",
    "    \n",
    "    names.add(name)\n",
    "    rates[name] = rate\n",
    "    neighs[name] = neigh\n",
    "  else:\n",
    "    raise Exception()"
   ]
  },
  {
   "cell_type": "code",
   "execution_count": 23,
   "metadata": {
    "execution": {
     "iopub.execute_input": "2022-12-16T06:11:03.799030Z",
     "iopub.status.busy": "2022-12-16T06:11:03.798890Z",
     "iopub.status.idle": "2022-12-16T06:11:03.808743Z",
     "shell.execute_reply": "2022-12-16T06:11:03.808320Z",
     "shell.execute_reply.started": "2022-12-16T06:11:03.799021Z"
    },
    "tags": []
   },
   "outputs": [
    {
     "data": {
      "text/plain": [
       "['SF',\n",
       " 'HU',\n",
       " 'YN',\n",
       " 'VH',\n",
       " 'IL',\n",
       " 'NJ',\n",
       " 'IK',\n",
       " 'MU',\n",
       " 'HF',\n",
       " 'TZ',\n",
       " 'OJ',\n",
       " 'IP',\n",
       " 'WX',\n",
       " 'BN',\n",
       " 'RJ',\n",
       " 'NR',\n",
       " 'AA',\n",
       " 'IX',\n",
       " 'YI',\n",
       " 'TA',\n",
       " 'UU',\n",
       " 'KA',\n",
       " 'EO',\n",
       " 'FM',\n",
       " 'AN',\n",
       " 'AM',\n",
       " 'TQ',\n",
       " 'ML',\n",
       " 'EE',\n",
       " 'PE',\n",
       " 'XG',\n",
       " 'XD',\n",
       " 'MH',\n",
       " 'HG',\n",
       " 'LR',\n",
       " 'JC',\n",
       " 'HN',\n",
       " 'YH',\n",
       " 'OL',\n",
       " 'LA',\n",
       " 'XZ',\n",
       " 'LY',\n",
       " 'OM',\n",
       " 'PX',\n",
       " 'KO',\n",
       " 'GQ',\n",
       " 'BB',\n",
       " 'UJ',\n",
       " 'CV',\n",
       " 'RP',\n",
       " 'RI',\n",
       " 'VT',\n",
       " 'JQ',\n",
       " 'CN',\n",
       " 'HR',\n",
       " 'GG',\n",
       " 'KV',\n",
       " 'LI',\n",
       " 'DT',\n",
       " 'QF',\n",
       " 'SU',\n",
       " 'YA',\n",
       " 'NS',\n",
       " 'UH']"
      ]
     },
     "execution_count": 23,
     "metadata": {},
     "output_type": "execute_result"
    }
   ],
   "source": [
    "paths = {}\n",
    "\n",
    "for start in names:\n",
    "  visited = set()\n",
    "  distance = {start: 0}\n",
    "  q = collections.deque([start])\n",
    "  prev = {}\n",
    "  \n",
    "  while q:\n",
    "    t = q.popleft()\n",
    "    \n",
    "    for tt in neighs[t]:\n",
    "      if tt not in visited:\n",
    "        visited.add(tt)\n",
    "        q.append(tt)\n",
    "        distance[tt] = distance[t] + 1\n",
    "        prev[tt] = t\n",
    "  \n",
    "  for name in names:\n",
    "    t = name\n",
    "    path = []\n",
    "    \n",
    "    while t != start:\n",
    "      path.append(t)\n",
    "      t = prev[t]\n",
    "    \n",
    "    paths[(start, name)] = path[::-1]\n",
    "    \n",
    "byrate = sorted(names, key=lambda x: rates[x])\n",
    "byrate"
   ]
  },
  {
   "cell_type": "code",
   "execution_count": 24,
   "metadata": {
    "execution": {
     "iopub.execute_input": "2022-12-16T06:11:03.933611Z",
     "iopub.status.busy": "2022-12-16T06:11:03.933458Z",
     "iopub.status.idle": "2022-12-16T06:11:03.936439Z",
     "shell.execute_reply": "2022-12-16T06:11:03.936136Z",
     "shell.execute_reply.started": "2022-12-16T06:11:03.933600Z"
    },
    "tags": []
   },
   "outputs": [
    {
     "data": {
      "text/plain": [
       "{'AA',\n",
       " 'AM',\n",
       " 'AN',\n",
       " 'BB',\n",
       " 'BN',\n",
       " 'CN',\n",
       " 'CV',\n",
       " 'DT',\n",
       " 'EE',\n",
       " 'EO',\n",
       " 'FM',\n",
       " 'GG',\n",
       " 'GQ',\n",
       " 'HF',\n",
       " 'HG',\n",
       " 'HN',\n",
       " 'HR',\n",
       " 'HU',\n",
       " 'IK',\n",
       " 'IL',\n",
       " 'IP',\n",
       " 'IX',\n",
       " 'JC',\n",
       " 'JQ',\n",
       " 'KA',\n",
       " 'KO',\n",
       " 'KV',\n",
       " 'LA',\n",
       " 'LI',\n",
       " 'LR',\n",
       " 'LY',\n",
       " 'MH',\n",
       " 'ML',\n",
       " 'MU',\n",
       " 'NJ',\n",
       " 'NR',\n",
       " 'NS',\n",
       " 'OJ',\n",
       " 'OL',\n",
       " 'OM',\n",
       " 'PE',\n",
       " 'PX',\n",
       " 'QF',\n",
       " 'RI',\n",
       " 'RJ',\n",
       " 'RP',\n",
       " 'SF',\n",
       " 'SU',\n",
       " 'TA',\n",
       " 'TQ',\n",
       " 'TZ',\n",
       " 'UH',\n",
       " 'UJ',\n",
       " 'UU',\n",
       " 'VH',\n",
       " 'VT',\n",
       " 'WX',\n",
       " 'XD',\n",
       " 'XG',\n",
       " 'XZ',\n",
       " 'YA',\n",
       " 'YH',\n",
       " 'YI',\n",
       " 'YN'}"
      ]
     },
     "execution_count": 24,
     "metadata": {},
     "output_type": "execute_result"
    }
   ],
   "source": [
    "names"
   ]
  },
  {
   "cell_type": "code",
   "execution_count": null,
   "metadata": {
    "tags": []
   },
   "outputs": [],
   "source": []
  },
  {
   "cell_type": "code",
   "execution_count": 78,
   "metadata": {
    "execution": {
     "iopub.execute_input": "2022-12-16T05:21:39.708693Z",
     "iopub.status.busy": "2022-12-16T05:21:39.708116Z",
     "iopub.status.idle": "2022-12-16T05:21:44.306795Z",
     "shell.execute_reply": "2022-12-16T05:21:44.306394Z",
     "shell.execute_reply.started": "2022-12-16T05:21:39.708655Z"
    },
    "tags": []
   },
   "outputs": [
    {
     "data": {
      "application/vnd.jupyter.widget-view+json": {
       "model_id": "823afb46ee7d4d0eb677dde0ded96aa2",
       "version_major": 2,
       "version_minor": 0
      },
      "text/plain": [
       "0it [00:00, ?it/s]"
      ]
     },
     "metadata": {},
     "output_type": "display_data"
    },
    {
     "name": "stdout",
     "output_type": "stream",
     "text": [
      "625\n",
      "722\n",
      "734\n",
      "760\n",
      "781\n",
      "854\n",
      "875\n",
      "925\n",
      "953\n",
      "977\n",
      "1010\n",
      "1027\n",
      "1043\n",
      "1046\n",
      "1055\n",
      "1063\n",
      "1075\n",
      "1094\n",
      "1121\n",
      "1137\n",
      "1140\n",
      "1149\n",
      "1154\n",
      "1195\n",
      "1199\n",
      "1207\n",
      "1219\n",
      "1247\n",
      "1312\n",
      "1316\n",
      "1328\n",
      "1347\n",
      "1361\n",
      "1366\n",
      "1377\n",
      "1383\n",
      "1431\n",
      "1438\n",
      "1487\n",
      "1531\n",
      "1571\n",
      "1613\n",
      "1653\n"
     ]
    }
   ],
   "source": [
    "best = 0\n",
    "\n",
    "for order in tqdm(itertools.permutations(byrate[-10:])):\n",
    "  cur = 'AA'\n",
    "  t = 30\n",
    "  score = 0\n",
    "  \n",
    "  for i in order:\n",
    "    t -= len(paths[(cur, i)])\n",
    "    t -= 1\n",
    "    if t <= 0:\n",
    "      break\n",
    "    score += rates[i] * t\n",
    "    cur = i\n",
    "  \n",
    "  if score > best:\n",
    "    # print(order)\n",
    "    best = score\n",
    "    print(best)"
   ]
  },
  {
   "cell_type": "code",
   "execution_count": 66,
   "metadata": {
    "execution": {
     "iopub.execute_input": "2022-12-16T05:19:51.958021Z",
     "iopub.status.busy": "2022-12-16T05:19:51.957615Z",
     "iopub.status.idle": "2022-12-16T05:19:52.531871Z",
     "shell.execute_reply": "2022-12-16T05:19:52.530355Z",
     "shell.execute_reply.started": "2022-12-16T05:19:51.957998Z"
    },
    "tags": []
   },
   "outputs": [
    {
     "name": "stdout",
     "output_type": "stream",
     "text": [
      "Submitting 1653...\n"
     ]
    },
    {
     "data": {
      "text/plain": [
       "True"
      ]
     },
     "execution_count": 66,
     "metadata": {},
     "output_type": "execute_result"
    }
   ],
   "source": [
    "submit1(1653)"
   ]
  },
  {
   "cell_type": "code",
   "execution_count": 43,
   "metadata": {
    "execution": {
     "iopub.execute_input": "2022-12-16T05:45:17.997691Z",
     "iopub.status.busy": "2022-12-16T05:45:17.997539Z",
     "iopub.status.idle": "2022-12-16T05:45:22.890339Z",
     "shell.execute_reply": "2022-12-16T05:45:22.889772Z",
     "shell.execute_reply.started": "2022-12-16T05:45:17.997681Z"
    },
    "tags": []
   },
   "outputs": [
    {
     "data": {
      "application/vnd.jupyter.widget-view+json": {
       "model_id": "e1fcd5dc51c5434099d519849bdd178e",
       "version_major": 2,
       "version_minor": 0
      },
      "text/plain": [
       "0it [00:00, ?it/s]"
      ]
     },
     "metadata": {},
     "output_type": "display_data"
    },
    {
     "name": "stdout",
     "output_type": "stream",
     "text": [
      "797\n",
      "805\n",
      "845\n",
      "859\n",
      "866\n",
      "898\n",
      "899\n",
      "906\n",
      "955\n",
      "975\n",
      "976\n",
      "987\n",
      "1050\n",
      "1063\n",
      "1071\n",
      "1073\n",
      "1084\n",
      "1089\n",
      "1095\n",
      "1102\n",
      "1106\n",
      "1110\n",
      "1139\n",
      "1212\n",
      "1218\n",
      "1228\n",
      "1233\n",
      "1242\n",
      "1246\n",
      "1247\n",
      "1258\n",
      "1320\n",
      "1333\n",
      "1341\n",
      "1354\n",
      "1355\n",
      "1360\n",
      "1363\n",
      "1376\n",
      "1381\n",
      "1387\n",
      "1388\n",
      "1390\n",
      "1396\n",
      "1409\n",
      "1414\n",
      "1415\n",
      "1417\n",
      "1430\n",
      "1435\n",
      "1444\n",
      "1446\n",
      "1449\n",
      "1455\n",
      "1456\n",
      "1460\n",
      "1464\n",
      "1474\n",
      "1477\n",
      "1481\n",
      "1482\n",
      "1485\n",
      "1486\n",
      "1496\n",
      "1499\n",
      "1503\n",
      "1506\n",
      "1513\n",
      "1527\n",
      "1549\n",
      "1551\n",
      "1552\n",
      "1555\n",
      "1557\n",
      "1558\n",
      "1567\n",
      "1570\n",
      "1588\n",
      "1589\n",
      "1601\n",
      "1615\n",
      "1625\n",
      "1626\n",
      "1628\n",
      "1631\n",
      "1636\n",
      "1637\n",
      "1640\n",
      "1643\n",
      "1646\n",
      "1647\n",
      "1655\n",
      "1660\n",
      "1662\n",
      "1664\n",
      "1670\n",
      "1671\n"
     ]
    },
    {
     "ename": "KeyboardInterrupt",
     "evalue": "",
     "output_type": "error",
     "traceback": [
      "\u001b[0;31m---------------------------------------------------------------------------\u001b[0m",
      "\u001b[0;31mKeyboardInterrupt\u001b[0m                         Traceback (most recent call last)",
      "Cell \u001b[0;32mIn[43], line 24\u001b[0m\n\u001b[1;32m     22\u001b[0m     \u001b[38;5;28;01mbreak\u001b[39;00m\n\u001b[1;32m     23\u001b[0m   score \u001b[38;5;241m+\u001b[39m\u001b[38;5;241m=\u001b[39m rates[i] \u001b[38;5;241m*\u001b[39m t\n\u001b[0;32m---> 24\u001b[0m   cur2 \u001b[38;5;241m=\u001b[39m i\n\u001b[1;32m     26\u001b[0m \u001b[38;5;28;01mif\u001b[39;00m score \u001b[38;5;241m>\u001b[39m best:\n\u001b[1;32m     27\u001b[0m   \u001b[38;5;66;03m# print(order)\u001b[39;00m\n\u001b[1;32m     28\u001b[0m   best \u001b[38;5;241m=\u001b[39m score\n",
      "\u001b[0;31mKeyboardInterrupt\u001b[0m: "
     ]
    }
   ],
   "source": [
    "best = 0\n",
    "\n",
    "for order in tqdm(itertools.permutations(byrate[-13:])):\n",
    "  cur1 = 'AA'\n",
    "  cur2 = 'AA'\n",
    "  score = 0\n",
    "  \n",
    "  t = 26\n",
    "  for i in order[::2]:\n",
    "    t -= len(paths[(cur1, i)])\n",
    "    t -= 1\n",
    "    if t <= 0:\n",
    "      break\n",
    "    score += rates[i] * t\n",
    "    cur1 = i\n",
    "  \n",
    "  t = 26\n",
    "  for i in order[1::2]:\n",
    "    t -= len(paths[(cur2, i)])\n",
    "    t -= 1\n",
    "    if t <= 0:\n",
    "      break\n",
    "    score += rates[i] * t\n",
    "    cur2 = i\n",
    "  \n",
    "  if score > best:\n",
    "    # print(order)\n",
    "    best = score\n",
    "    print(best)"
   ]
  },
  {
   "cell_type": "code",
   "execution_count": null,
   "metadata": {},
   "outputs": [],
   "source": [
    "submit2(best)"
   ]
  },
  {
   "cell_type": "code",
   "execution_count": null,
   "metadata": {},
   "outputs": [],
   "source": []
  },
  {
   "cell_type": "code",
   "execution_count": 11,
   "metadata": {
    "execution": {
     "iopub.execute_input": "2022-12-16T05:32:28.706214Z",
     "iopub.status.busy": "2022-12-16T05:32:28.706054Z",
     "iopub.status.idle": "2022-12-16T05:32:28.708313Z",
     "shell.execute_reply": "2022-12-16T05:32:28.707736Z",
     "shell.execute_reply.started": "2022-12-16T05:32:28.706205Z"
    },
    "tags": []
   },
   "outputs": [],
   "source": [
    "import multiprocessing"
   ]
  },
  {
   "cell_type": "code",
   "execution_count": 21,
   "metadata": {
    "execution": {
     "iopub.execute_input": "2022-12-16T05:36:59.682709Z",
     "iopub.status.busy": "2022-12-16T05:36:59.682526Z",
     "iopub.status.idle": "2022-12-16T05:36:59.685974Z",
     "shell.execute_reply": "2022-12-16T05:36:59.685446Z",
     "shell.execute_reply.started": "2022-12-16T05:36:59.682699Z"
    },
    "tags": []
   },
   "outputs": [],
   "source": [
    "best = 0\n",
    "\n",
    "def proc_order(order):\n",
    "  cur1 = 'AA'\n",
    "  cur2 = 'AA'\n",
    "  score = 0\n",
    "  \n",
    "  t = 26\n",
    "  for i in order[::2]:\n",
    "    t -= len(paths[(cur1, i)]) + 1\n",
    "    if t <= 0:\n",
    "      break\n",
    "    score += rates[i] * t\n",
    "    cur1 = i\n",
    "  \n",
    "  t = 26\n",
    "  for i in order[1::2]:\n",
    "    t -= len(paths[(cur2, i)]) + 1\n",
    "    if t <= 0:\n",
    "      break\n",
    "    score += rates[i] * t\n",
    "    cur2 = i\n",
    "  \n",
    "  return score"
   ]
  },
  {
   "cell_type": "code",
   "execution_count": 33,
   "metadata": {
    "execution": {
     "iopub.execute_input": "2022-12-16T05:39:40.189707Z",
     "iopub.status.busy": "2022-12-16T05:39:40.189474Z",
     "iopub.status.idle": "2022-12-16T05:39:40.192656Z",
     "shell.execute_reply": "2022-12-16T05:39:40.192194Z",
     "shell.execute_reply.started": "2022-12-16T05:39:40.189691Z"
    },
    "tags": []
   },
   "outputs": [
    {
     "data": {
      "text/plain": [
       "[('RP', 3),\n",
       " ('RI', 4),\n",
       " ('VT', 5),\n",
       " ('JQ', 6),\n",
       " ('CN', 7),\n",
       " ('HR', 11),\n",
       " ('GG', 12),\n",
       " ('KV', 13),\n",
       " ('LI', 15),\n",
       " ('DT', 16),\n",
       " ('QF', 17),\n",
       " ('SU', 19),\n",
       " ('YA', 21),\n",
       " ('NS', 23),\n",
       " ('UH', 25)]"
      ]
     },
     "execution_count": 33,
     "metadata": {},
     "output_type": "execute_result"
    }
   ],
   "source": [
    "[(i, rates[i]) for i in byrate[-15:]]"
   ]
  },
  {
   "cell_type": "code",
   "execution_count": 26,
   "metadata": {
    "execution": {
     "iopub.execute_input": "2022-12-16T06:11:47.310077Z",
     "iopub.status.busy": "2022-12-16T06:11:47.309656Z",
     "iopub.status.idle": "2022-12-16T06:12:24.279279Z",
     "shell.execute_reply": "2022-12-16T06:12:24.278861Z",
     "shell.execute_reply.started": "2022-12-16T06:11:47.310066Z"
    },
    "tags": []
   },
   "outputs": [
    {
     "data": {
      "application/vnd.jupyter.widget-view+json": {
       "model_id": "f02de12b1a484b639d3b1cca23b7fd68",
       "version_major": 2,
       "version_minor": 0
      },
      "text/plain": [
       "  0%|          | 0/16384 [00:00<?, ?it/s]"
      ]
     },
     "metadata": {},
     "output_type": "display_data"
    },
    {
     "name": "stdout",
     "output_type": "stream",
     "text": [
      "1669 ['RI', 'VT', 'JQ', 'CN', 'HR', 'GG', 'KV'] ['LI', 'DT', 'QF', 'SU', 'YA', 'NS', 'UH']\n",
      "1757 ['RI', 'VT', 'JQ', 'CN', 'HR', 'GG', 'LI'] ['KV', 'DT', 'QF', 'SU', 'YA', 'NS', 'UH']\n",
      "1828 ['RI', 'VT', 'JQ', 'CN', 'HR', 'GG', 'DT'] ['KV', 'LI', 'QF', 'SU', 'YA', 'NS', 'UH']\n",
      "1981 ['RI', 'VT', 'JQ', 'CN', 'GG', 'LI', 'DT'] ['HR', 'KV', 'QF', 'SU', 'YA', 'NS', 'UH']\n",
      "1995 ['RI', 'VT', 'JQ', 'CN', 'HR', 'GG', 'SU'] ['KV', 'LI', 'DT', 'QF', 'YA', 'NS', 'UH']\n",
      "2023 ['RI', 'VT', 'JQ', 'CN', 'GG', 'LI', 'SU'] ['HR', 'KV', 'DT', 'QF', 'YA', 'NS', 'UH']\n",
      "2098 ['RI', 'VT', 'JQ', 'CN', 'GG', 'DT', 'SU'] ['HR', 'KV', 'LI', 'QF', 'YA', 'NS', 'UH']\n",
      "2121 ['RI', 'VT', 'JQ', 'GG', 'LI', 'DT', 'SU'] ['CN', 'HR', 'KV', 'QF', 'YA', 'NS', 'UH']\n",
      "2136 ['RI', 'JQ', 'CN', 'GG', 'LI', 'DT', 'SU'] ['VT', 'HR', 'KV', 'QF', 'YA', 'NS', 'UH']\n",
      "2145 ['JQ', 'CN', 'GG', 'LI', 'DT', 'QF', 'SU'] ['RI', 'VT', 'HR', 'KV', 'YA', 'NS', 'UH']\n",
      "2182 ['RI', 'VT', 'JQ', 'HR', 'KV', 'YA', 'NS'] ['CN', 'GG', 'LI', 'DT', 'QF', 'SU', 'UH']\n",
      "2200 ['RI', 'VT', 'CN', 'HR', 'KV', 'YA', 'NS'] ['JQ', 'GG', 'LI', 'DT', 'QF', 'SU', 'UH']\n",
      "2218 ['RI', 'VT', 'HR', 'KV', 'DT', 'YA', 'NS'] ['JQ', 'CN', 'GG', 'LI', 'QF', 'SU', 'UH']\n",
      "2223 ['VT', 'CN', 'HR', 'KV', 'DT', 'YA', 'NS'] ['RI', 'JQ', 'GG', 'LI', 'QF', 'SU', 'UH']\n"
     ]
    }
   ],
   "source": [
    "N = 14\n",
    "M = 6\n",
    "\n",
    "a = byrate[-N:]\n",
    "best = 0\n",
    "\n",
    "for i in tqdm(range(1 << N)):\n",
    "  a1 = []\n",
    "  a2 = []\n",
    "  \n",
    "  for j in range(N):\n",
    "    if i & (1 << j) > 0:\n",
    "      a1.append(a[j])\n",
    "    else:\n",
    "      a2.append(a[j])\n",
    "      \n",
    "  if len(a1) <= M or len(a2) <= M or len(a1) < len(a2):\n",
    "    continue\n",
    "  \n",
    "  best1 = 0\n",
    "  best2 = 0\n",
    "  \n",
    "  for order in itertools.permutations(a1):\n",
    "    cur1 = 'AA'\n",
    "    score = 0\n",
    "\n",
    "    t = 26\n",
    "    for i in order:\n",
    "      t -= len(paths[(cur1, i)]) + 1\n",
    "      if t <= 0:\n",
    "        break\n",
    "      score += rates[i] * t\n",
    "      cur1 = i\n",
    "    \n",
    "    if score > best1:\n",
    "      best1 = score\n",
    "  \n",
    "  for order in itertools.permutations(a2):\n",
    "    cur1 = 'AA'\n",
    "    score = 0\n",
    "\n",
    "    t = 26\n",
    "    for i in order:\n",
    "      t -= len(paths[(cur1, i)]) + 1\n",
    "      if t <= 0:\n",
    "        break\n",
    "      score += rates[i] * t\n",
    "      cur1 = i\n",
    "    \n",
    "    if score > best2:\n",
    "      best2 = score\n",
    "  \n",
    "  if best1 + best2 > best:\n",
    "    best = best1 + best2\n",
    "    print(best, a1, a2)"
   ]
  },
  {
   "cell_type": "code",
   "execution_count": 52,
   "metadata": {
    "execution": {
     "iopub.execute_input": "2022-12-16T05:47:00.023776Z",
     "iopub.status.busy": "2022-12-16T05:47:00.023604Z",
     "iopub.status.idle": "2022-12-16T05:47:00.605668Z",
     "shell.execute_reply": "2022-12-16T05:47:00.605175Z",
     "shell.execute_reply.started": "2022-12-16T05:47:00.023769Z"
    },
    "tags": []
   },
   "outputs": [
    {
     "name": "stdout",
     "output_type": "stream",
     "text": [
      "Submitting 2210...\n",
      "[<p>That's not the right answer.  If you're stuck, make sure you're using the full input data; there are also some general tips on the <a href=\"/2022/about\">about page</a>, or you can ask for hints on the <a href=\"https://www.reddit.com/r/adventofcode/\" target=\"_blank\">subreddit</a>.  Because you have guessed incorrectly 5 times on this puzzle, please wait 5 minutes before trying again. (You guessed <span style=\"white-space:nowrap;\"><code>2210</code>.)</span> <a href=\"/2022/day/16\">[Return to Day 16]</a></p>]\n"
     ]
    },
    {
     "name": "stderr",
     "output_type": "stream",
     "text": [
      "/Users/abra/projects/jupyter/adventofcode2022/adventlib/common.py:51: GuessedAtParserWarning: No parser was explicitly specified, so I'm using the best available HTML parser for this system (\"html.parser\"). This usually isn't a problem, but if you run this code on another system, or in a different virtual environment, it may use a different parser and behave differently.\n",
      "\n",
      "The code that caused this warning is on line 51 of the file /Users/abra/projects/jupyter/adventofcode2022/adventlib/common.py. To get rid of this warning, pass the additional argument 'features=\"html.parser\"' to the BeautifulSoup constructor.\n",
      "\n",
      "  print(BeautifulSoup(response.text).select('main>article>p'))\n"
     ]
    },
    {
     "ename": "AssertionError",
     "evalue": "",
     "output_type": "error",
     "traceback": [
      "\u001b[0;31m---------------------------------------------------------------------------\u001b[0m",
      "\u001b[0;31mAssertionError\u001b[0m                            Traceback (most recent call last)",
      "Cell \u001b[0;32mIn[52], line 1\u001b[0m\n\u001b[0;32m----> 1\u001b[0m \u001b[43msubmit2\u001b[49m\u001b[43m(\u001b[49m\u001b[43mbest\u001b[49m\u001b[43m)\u001b[49m\n",
      "File \u001b[0;32m~/projects/jupyter/adventofcode2022/adventlib/common.py:112\u001b[0m, in \u001b[0;36mgenerate_submits.<locals>.<lambda>\u001b[0;34m(ans)\u001b[0m\n\u001b[1;32m    110\u001b[0m \u001b[38;5;28;01mdef\u001b[39;00m \u001b[38;5;21mgenerate_submits\u001b[39m(year, day):\n\u001b[1;32m    111\u001b[0m   submit1 \u001b[38;5;241m=\u001b[39m \u001b[38;5;28;01mlambda\u001b[39;00m ans: submit(year\u001b[38;5;241m=\u001b[39myear, day\u001b[38;5;241m=\u001b[39mday, level\u001b[38;5;241m=\u001b[39m\u001b[38;5;241m1\u001b[39m, ans\u001b[38;5;241m=\u001b[39mans)\n\u001b[0;32m--> 112\u001b[0m   submit2 \u001b[38;5;241m=\u001b[39m \u001b[38;5;28;01mlambda\u001b[39;00m ans: \u001b[43msubmit\u001b[49m\u001b[43m(\u001b[49m\u001b[43myear\u001b[49m\u001b[38;5;241;43m=\u001b[39;49m\u001b[43myear\u001b[49m\u001b[43m,\u001b[49m\u001b[43m \u001b[49m\u001b[43mday\u001b[49m\u001b[38;5;241;43m=\u001b[39;49m\u001b[43mday\u001b[49m\u001b[43m,\u001b[49m\u001b[43m \u001b[49m\u001b[43mlevel\u001b[49m\u001b[38;5;241;43m=\u001b[39;49m\u001b[38;5;241;43m2\u001b[39;49m\u001b[43m,\u001b[49m\u001b[43m \u001b[49m\u001b[43mans\u001b[49m\u001b[38;5;241;43m=\u001b[39;49m\u001b[43mans\u001b[49m\u001b[43m)\u001b[49m\n\u001b[1;32m    114\u001b[0m   \u001b[38;5;28;01mreturn\u001b[39;00m submit1, submit2\n",
      "File \u001b[0;32m~/projects/jupyter/adventofcode2022/adventlib/common.py:53\u001b[0m, in \u001b[0;36msubmit\u001b[0;34m(year, day, level, ans)\u001b[0m\n\u001b[1;32m     51\u001b[0m \u001b[38;5;28mprint\u001b[39m(BeautifulSoup(response\u001b[38;5;241m.\u001b[39mtext)\u001b[38;5;241m.\u001b[39mselect(\u001b[38;5;124m'\u001b[39m\u001b[38;5;124mmain>article>p\u001b[39m\u001b[38;5;124m'\u001b[39m))\n\u001b[1;32m     52\u001b[0m SUBMITTED_ANSWERS[key] \u001b[38;5;241m=\u001b[39m \u001b[38;5;28;01mFalse\u001b[39;00m\n\u001b[0;32m---> 53\u001b[0m \u001b[38;5;28;01massert\u001b[39;00m \u001b[38;5;28;01mFalse\u001b[39;00m\n",
      "\u001b[0;31mAssertionError\u001b[0m: "
     ]
    }
   ],
   "source": [
    "submit2(best)"
   ]
  }
 ],
 "metadata": {
  "kernelspec": {
   "display_name": "Python 3 (ipykernel)",
   "language": "python",
   "name": "python3"
  },
  "language_info": {
   "codemirror_mode": {
    "name": "ipython",
    "version": 3
   },
   "file_extension": ".py",
   "mimetype": "text/x-python",
   "name": "python",
   "nbconvert_exporter": "python",
   "pygments_lexer": "ipython3",
   "version": "3.11.0"
  }
 },
 "nbformat": 4,
 "nbformat_minor": 4
}
