{
 "cells": [
  {
   "cell_type": "code",
   "execution_count": 1,
   "metadata": {
    "execution": {
     "iopub.execute_input": "2022-12-10T05:01:53.690852Z",
     "iopub.status.busy": "2022-12-10T05:01:53.689893Z",
     "iopub.status.idle": "2022-12-10T05:01:54.564581Z",
     "shell.execute_reply": "2022-12-10T05:01:54.563582Z",
     "shell.execute_reply.started": "2022-12-10T05:01:53.690661Z"
    },
    "tags": []
   },
   "outputs": [],
   "source": [
    "import numpy as np\n",
    "from numpy import *\n",
    "import matplotlib\n",
    "from matplotlib import pyplot as plt\n",
    "from tqdm.auto import tqdm\n",
    "import requests\n",
    "import pickle\n",
    "import re\n",
    "import itertools\n",
    "import functools\n",
    "import collections\n",
    "import string\n",
    "import time\n",
    "from bs4 import BeautifulSoup\n",
    "from sortedcontainers import SortedList # http://www.grantjenks.com/docs/sortedcontainers/sortedlist.html#sortedlist\n",
    "\n",
    "from adventlib.common import *\n",
    "# n, m, a = lines_as_matrix_nm(lines)\n",
    "# a = lines_as_matrix(lines)\n",
    "# a = lines_as_digit_matrix(lines)\n",
    "# chunks = split_iter_by_start_indices(a, indices)\n",
    "# chunks = split_iter_by_bools(a, bools)\n",
    "\n",
    "# from adventlib.point_2d import *\n",
    "# from adventlib.point_3d import *\n",
    "\n",
    "YEAR = 2022\n",
    "DAY = int('10')\n",
    "\n",
    "submit1, submit2 = generate_submits(YEAR, DAY)\n",
    "\n",
    "while True:\n",
    "  try:\n",
    "    raw_input = get_input(YEAR, DAY)\n",
    "    break\n",
    "  except Exception as e:\n",
    "    print(e)\n",
    "    time.sleep(1)"
   ]
  },
  {
   "cell_type": "code",
   "execution_count": 2,
   "metadata": {
    "execution": {
     "iopub.execute_input": "2022-12-10T05:01:55.241603Z",
     "iopub.status.busy": "2022-12-10T05:01:55.240548Z",
     "iopub.status.idle": "2022-12-10T05:01:55.251850Z",
     "shell.execute_reply": "2022-12-10T05:01:55.251212Z",
     "shell.execute_reply.started": "2022-12-10T05:01:55.241545Z"
    }
   },
   "outputs": [],
   "source": [
    "lines, groups = linesplit(\"\"\"\n",
    "addx 15\n",
    "addx -11\n",
    "addx 6\n",
    "addx -3\n",
    "addx 5\n",
    "addx -1\n",
    "addx -8\n",
    "addx 13\n",
    "addx 4\n",
    "noop\n",
    "addx -1\n",
    "addx 5\n",
    "addx -1\n",
    "addx 5\n",
    "addx -1\n",
    "addx 5\n",
    "addx -1\n",
    "addx 5\n",
    "addx -1\n",
    "addx -35\n",
    "addx 1\n",
    "addx 24\n",
    "addx -19\n",
    "addx 1\n",
    "addx 16\n",
    "addx -11\n",
    "noop\n",
    "noop\n",
    "addx 21\n",
    "addx -15\n",
    "noop\n",
    "noop\n",
    "addx -3\n",
    "addx 9\n",
    "addx 1\n",
    "addx -3\n",
    "addx 8\n",
    "addx 1\n",
    "addx 5\n",
    "noop\n",
    "noop\n",
    "noop\n",
    "noop\n",
    "noop\n",
    "addx -36\n",
    "noop\n",
    "addx 1\n",
    "addx 7\n",
    "noop\n",
    "noop\n",
    "noop\n",
    "addx 2\n",
    "addx 6\n",
    "noop\n",
    "noop\n",
    "noop\n",
    "noop\n",
    "noop\n",
    "addx 1\n",
    "noop\n",
    "noop\n",
    "addx 7\n",
    "addx 1\n",
    "noop\n",
    "addx -13\n",
    "addx 13\n",
    "addx 7\n",
    "noop\n",
    "addx 1\n",
    "addx -33\n",
    "noop\n",
    "noop\n",
    "noop\n",
    "addx 2\n",
    "noop\n",
    "noop\n",
    "noop\n",
    "addx 8\n",
    "noop\n",
    "addx -1\n",
    "addx 2\n",
    "addx 1\n",
    "noop\n",
    "addx 17\n",
    "addx -9\n",
    "addx 1\n",
    "addx 1\n",
    "addx -3\n",
    "addx 11\n",
    "noop\n",
    "noop\n",
    "addx 1\n",
    "noop\n",
    "addx 1\n",
    "noop\n",
    "noop\n",
    "addx -13\n",
    "addx -19\n",
    "addx 1\n",
    "addx 3\n",
    "addx 26\n",
    "addx -30\n",
    "addx 12\n",
    "addx -1\n",
    "addx 3\n",
    "addx 1\n",
    "noop\n",
    "noop\n",
    "noop\n",
    "addx -9\n",
    "addx 18\n",
    "addx 1\n",
    "addx 2\n",
    "noop\n",
    "noop\n",
    "addx 9\n",
    "noop\n",
    "noop\n",
    "noop\n",
    "addx -1\n",
    "addx 2\n",
    "addx -37\n",
    "addx 1\n",
    "addx 3\n",
    "noop\n",
    "addx 15\n",
    "addx -21\n",
    "addx 22\n",
    "addx -6\n",
    "addx 1\n",
    "noop\n",
    "addx 2\n",
    "addx 1\n",
    "noop\n",
    "addx -10\n",
    "noop\n",
    "noop\n",
    "addx 20\n",
    "addx 1\n",
    "addx 2\n",
    "addx 2\n",
    "addx -6\n",
    "addx -11\n",
    "noop\n",
    "noop\n",
    "noop\n",
    "\"\"\".strip())"
   ]
  },
  {
   "cell_type": "code",
   "execution_count": 8,
   "metadata": {
    "execution": {
     "iopub.execute_input": "2022-12-10T05:05:49.125805Z",
     "iopub.status.busy": "2022-12-10T05:05:49.125237Z",
     "iopub.status.idle": "2022-12-10T05:05:49.136751Z",
     "shell.execute_reply": "2022-12-10T05:05:49.134594Z",
     "shell.execute_reply.started": "2022-12-10T05:05:49.125775Z"
    }
   },
   "outputs": [
    {
     "name": "stdout",
     "output_type": "stream",
     "text": [
      "137 lines\n",
      "1 groups\n",
      ">>>\n",
      "noop\n",
      "noop\n",
      "addx 5\n",
      "...\n"
     ]
    }
   ],
   "source": [
    "lines, groups = linesplit(raw_input, verbose=True)"
   ]
  },
  {
   "cell_type": "code",
   "execution_count": null,
   "metadata": {},
   "outputs": [],
   "source": []
  },
  {
   "cell_type": "code",
   "execution_count": 9,
   "metadata": {
    "execution": {
     "iopub.execute_input": "2022-12-10T05:05:49.723230Z",
     "iopub.status.busy": "2022-12-10T05:05:49.722699Z",
     "iopub.status.idle": "2022-12-10T05:05:49.738774Z",
     "shell.execute_reply": "2022-12-10T05:05:49.738016Z",
     "shell.execute_reply.started": "2022-12-10T05:05:49.723192Z"
    },
    "tags": []
   },
   "outputs": [
    {
     "name": "stdout",
     "output_type": "stream",
     "text": [
      "19 12\n",
      "60 4\n",
      "100 39\n",
      "140 22\n",
      "179 17\n",
      "220 21\n"
     ]
    },
    {
     "data": {
      "text/plain": [
       "15140"
      ]
     },
     "execution_count": 9,
     "metadata": {},
     "output_type": "execute_result"
    }
   ],
   "source": [
    "cyclei = 1\n",
    "x = 1\n",
    "res = 0\n",
    "\n",
    "for line in lines:\n",
    "  if m := re.findall(r'^addx (.*)$', line):\n",
    "    arg1 = int(m[0])\n",
    "    \n",
    "    if (cyclei - 20) % 40 == 0 or (cyclei - 19) % 40 == 0:\n",
    "      print(cyclei, x)\n",
    "      aligned = ((cyclei - 19) // 40 * 40 + 20)\n",
    "      res += aligned * x\n",
    "    \n",
    "    cyclei += 2\n",
    "    x += arg1\n",
    "  elif m := re.findall(r'^noop$', line):\n",
    "    if (cyclei - 20) % 40 == 0:\n",
    "      print(cyclei, x)\n",
    "      res += ((cyclei - 20) // 40 * 40 + 20) * x\n",
    "    \n",
    "    cyclei += 1\n",
    "  else:\n",
    "    raise Exception()\n",
    "res"
   ]
  },
  {
   "cell_type": "code",
   "execution_count": 10,
   "metadata": {
    "execution": {
     "iopub.execute_input": "2022-12-10T05:05:52.374103Z",
     "iopub.status.busy": "2022-12-10T05:05:52.372486Z",
     "iopub.status.idle": "2022-12-10T05:05:53.255870Z",
     "shell.execute_reply": "2022-12-10T05:05:53.254773Z",
     "shell.execute_reply.started": "2022-12-10T05:05:52.374071Z"
    },
    "tags": []
   },
   "outputs": [
    {
     "name": "stdout",
     "output_type": "stream",
     "text": [
      "Submitting 15140...\n"
     ]
    },
    {
     "data": {
      "text/plain": [
       "True"
      ]
     },
     "execution_count": 10,
     "metadata": {},
     "output_type": "execute_result"
    }
   ],
   "source": [
    "submit1(_)"
   ]
  },
  {
   "cell_type": "code",
   "execution_count": null,
   "metadata": {},
   "outputs": [],
   "source": []
  },
  {
   "cell_type": "code",
   "execution_count": 15,
   "metadata": {
    "execution": {
     "iopub.execute_input": "2022-12-10T05:08:59.070587Z",
     "iopub.status.busy": "2022-12-10T05:08:59.069816Z",
     "iopub.status.idle": "2022-12-10T05:08:59.088748Z",
     "shell.execute_reply": "2022-12-10T05:08:59.087994Z",
     "shell.execute_reply.started": "2022-12-10T05:08:59.070532Z"
    },
    "tags": []
   },
   "outputs": [
    {
     "name": "stdout",
     "output_type": "stream",
     "text": [
      "19 12\n",
      "60 4\n",
      "100 39\n",
      "140 22\n",
      "179 17\n",
      "220 21\n"
     ]
    },
    {
     "data": {
      "text/plain": [
       "15140"
      ]
     },
     "execution_count": 15,
     "metadata": {},
     "output_type": "execute_result"
    }
   ],
   "source": [
    "cyclei = 1\n",
    "x = 1\n",
    "res = 0\n",
    "\n",
    "a = zeros((6, 40), dtype=int)\n",
    "\n",
    "log = {}\n",
    "\n",
    "for line in lines:\n",
    "  if m := re.findall(r'^addx (.*)$', line):\n",
    "    arg1 = int(m[0])\n",
    "    log[cyclei] = x\n",
    "    log[cyclei + 1] = x\n",
    "    \n",
    "    if (cyclei - 20) % 40 == 0 or (cyclei - 19) % 40 == 0:\n",
    "      print(cyclei, x)\n",
    "      aligned = ((cyclei - 19) // 40 * 40 + 20)\n",
    "      res += aligned * x\n",
    "    \n",
    "    cyclei += 2\n",
    "    x += arg1\n",
    "  elif m := re.findall(r'^noop$', line):\n",
    "    log[cyclei] = x\n",
    "    if (cyclei - 20) % 40 == 0:\n",
    "      print(cyclei, x)\n",
    "      res += ((cyclei - 20) // 40 * 40 + 20) * x\n",
    "    \n",
    "    cyclei += 1\n",
    "  else:\n",
    "    raise Exception()\n",
    "res"
   ]
  },
  {
   "cell_type": "code",
   "execution_count": 20,
   "metadata": {
    "execution": {
     "iopub.execute_input": "2022-12-10T05:12:05.312190Z",
     "iopub.status.busy": "2022-12-10T05:12:05.311471Z",
     "iopub.status.idle": "2022-12-10T05:12:05.327656Z",
     "shell.execute_reply": "2022-12-10T05:12:05.326881Z",
     "shell.execute_reply.started": "2022-12-10T05:12:05.312145Z"
    },
    "tags": []
   },
   "outputs": [
    {
     "name": "stdout",
     "output_type": "stream",
     "text": [
      "###  ###    ##  ##  ####  ##   ##  ###  \n",
      "#  # #  #    # #  #    # #  # #  # #  # \n",
      "###  #  #    # #  #   #  #    #  # #  # \n",
      "#  # ###     # ####  #   # ## #### ###  \n",
      "#  # #    #  # #  # #    #  # #  # #    \n",
      "###  #     ##  #  # ####  ### #  # #    \n"
     ]
    }
   ],
   "source": [
    "c = 1\n",
    "for i in range(6):\n",
    "  for j in range(40):\n",
    "    x = log[c]\n",
    "    if x - 1 <= j <= x + 1:\n",
    "      print('#', end=\"\")\n",
    "    else:\n",
    "      print(' ', end=\"\")\n",
    "    c += 1\n",
    "  print()"
   ]
  },
  {
   "cell_type": "code",
   "execution_count": 21,
   "metadata": {
    "execution": {
     "iopub.execute_input": "2022-12-10T05:12:14.592307Z",
     "iopub.status.busy": "2022-12-10T05:12:14.591783Z",
     "iopub.status.idle": "2022-12-10T05:12:15.268920Z",
     "shell.execute_reply": "2022-12-10T05:12:15.256982Z",
     "shell.execute_reply.started": "2022-12-10T05:12:14.592279Z"
    },
    "tags": []
   },
   "outputs": [
    {
     "name": "stdout",
     "output_type": "stream",
     "text": [
      "Submitting BPJAZGAP...\n"
     ]
    },
    {
     "data": {
      "text/plain": [
       "True"
      ]
     },
     "execution_count": 21,
     "metadata": {},
     "output_type": "execute_result"
    }
   ],
   "source": [
    "submit2('BPJAZGAP')"
   ]
  },
  {
   "cell_type": "code",
   "execution_count": null,
   "metadata": {},
   "outputs": [],
   "source": []
  },
  {
   "cell_type": "code",
   "execution_count": null,
   "metadata": {},
   "outputs": [],
   "source": []
  },
  {
   "cell_type": "code",
   "execution_count": null,
   "metadata": {},
   "outputs": [],
   "source": []
  },
  {
   "cell_type": "code",
   "execution_count": null,
   "metadata": {},
   "outputs": [],
   "source": []
  },
  {
   "cell_type": "code",
   "execution_count": 25,
   "metadata": {
    "execution": {
     "iopub.execute_input": "2022-12-10T05:19:34.684934Z",
     "iopub.status.busy": "2022-12-10T05:19:34.684623Z",
     "iopub.status.idle": "2022-12-10T05:19:34.697737Z",
     "shell.execute_reply": "2022-12-10T05:19:34.696998Z",
     "shell.execute_reply.started": "2022-12-10T05:19:34.684913Z"
    },
    "tags": []
   },
   "outputs": [
    {
     "data": {
      "text/plain": [
       "15140"
      ]
     },
     "execution_count": 25,
     "metadata": {},
     "output_type": "execute_result"
    }
   ],
   "source": [
    "curcycle = 0\n",
    "x = 1\n",
    "log = {}\n",
    "\n",
    "for line in lines:\n",
    "  if m := re.findall(r'^addx (.*)$', line):\n",
    "    log[curcycle] = x\n",
    "    log[curcycle + 1] = x\n",
    "    \n",
    "    arg1 = int(m[0])\n",
    "    x += arg1\n",
    "  \n",
    "    curcycle += 2\n",
    "  elif m := re.findall(r'^noop$', line):\n",
    "    log[curcycle] = x\n",
    "    \n",
    "    curcycle += 1\n",
    "  else:\n",
    "    raise Exception()\n",
    "\n",
    "res = 0\n",
    "for i in range(19, len(log), 40):\n",
    "  res += log[i] * (i + 1)\n",
    "res"
   ]
  },
  {
   "cell_type": "code",
   "execution_count": 26,
   "metadata": {
    "execution": {
     "iopub.execute_input": "2022-12-10T05:19:34.866066Z",
     "iopub.status.busy": "2022-12-10T05:19:34.865416Z",
     "iopub.status.idle": "2022-12-10T05:19:34.882719Z",
     "shell.execute_reply": "2022-12-10T05:19:34.882343Z",
     "shell.execute_reply.started": "2022-12-10T05:19:34.866030Z"
    },
    "tags": []
   },
   "outputs": [
    {
     "name": "stdout",
     "output_type": "stream",
     "text": [
      "###  ###    ##  ##  ####  ##   ##  ###  \n",
      "#  # #  #    # #  #    # #  # #  # #  # \n",
      "###  #  #    # #  #   #  #    #  # #  # \n",
      "#  # ###     # ####  #   # ## #### ###  \n",
      "#  # #    #  # #  # #    #  # #  # #    \n",
      "###  #     ##  #  # ####  ### #  # #    \n"
     ]
    }
   ],
   "source": [
    "for i in range(6):\n",
    "  for j in range(40):\n",
    "    if log[i * 40 + j] - 1 <= j <= log[i * 40 + j] + 1:\n",
    "      print('#', end='')\n",
    "    else:\n",
    "      print(' ', end='')\n",
    "  print('')  "
   ]
  }
 ],
 "metadata": {
  "kernelspec": {
   "display_name": "Python 3 (ipykernel)",
   "language": "python",
   "name": "python3"
  },
  "language_info": {
   "codemirror_mode": {
    "name": "ipython",
    "version": 3
   },
   "file_extension": ".py",
   "mimetype": "text/x-python",
   "name": "python",
   "nbconvert_exporter": "python",
   "pygments_lexer": "ipython3",
   "version": "3.11.0"
  }
 },
 "nbformat": 4,
 "nbformat_minor": 4
}
