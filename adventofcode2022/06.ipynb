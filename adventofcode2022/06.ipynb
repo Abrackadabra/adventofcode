{
 "cells": [
  {
   "cell_type": "code",
   "execution_count": 2,
   "metadata": {
    "execution": {
     "iopub.execute_input": "2022-12-06T05:00:59.764936Z",
     "iopub.status.busy": "2022-12-06T05:00:59.764278Z",
     "iopub.status.idle": "2022-12-06T05:00:59.871586Z",
     "shell.execute_reply": "2022-12-06T05:00:59.870271Z",
     "shell.execute_reply.started": "2022-12-06T05:00:59.764912Z"
    },
    "tags": []
   },
   "outputs": [],
   "source": [
    "import numpy as np\n",
    "from numpy import *\n",
    "import matplotlib\n",
    "from matplotlib import pyplot as plt\n",
    "import requests\n",
    "import pickle\n",
    "import re\n",
    "import itertools\n",
    "import functools\n",
    "import collections\n",
    "import string\n",
    "import time\n",
    "from bs4 import BeautifulSoup\n",
    "from sortedcontainers import SortedList # http://www.grantjenks.com/docs/sortedcontainers/sortedlist.html#sortedlist\n",
    "from tqdm.auto import tqdm\n",
    "\n",
    "from adventlib import *\n",
    "\n",
    "YEAR = 2022\n",
    "DAY = int('06')\n",
    "\n",
    "submit1, submit2 = generate_submits(YEAR, DAY)\n",
    "\n",
    "while True:\n",
    "  try:\n",
    "    raw_input = get_input(YEAR, DAY)\n",
    "    break\n",
    "  except Exception as e:\n",
    "    print(e)\n",
    "    time.sleep(1)"
   ]
  },
  {
   "cell_type": "code",
   "execution_count": 13,
   "metadata": {
    "execution": {
     "iopub.execute_input": "2022-12-06T05:02:41.629930Z",
     "iopub.status.busy": "2022-12-06T05:02:41.629169Z",
     "iopub.status.idle": "2022-12-06T05:02:41.642929Z",
     "shell.execute_reply": "2022-12-06T05:02:41.641928Z",
     "shell.execute_reply.started": "2022-12-06T05:02:41.629885Z"
    },
    "tags": []
   },
   "outputs": [],
   "source": [
    "lines, groups = linesplit(\"\"\"\n",
    "mjqjpqmgbljsphdztnvjfqwrcgsmlb\n",
    "\"\"\".strip())"
   ]
  },
  {
   "cell_type": "code",
   "execution_count": 16,
   "metadata": {
    "execution": {
     "iopub.execute_input": "2022-12-06T05:02:49.956932Z",
     "iopub.status.busy": "2022-12-06T05:02:49.956086Z",
     "iopub.status.idle": "2022-12-06T05:02:49.975812Z",
     "shell.execute_reply": "2022-12-06T05:02:49.974391Z",
     "shell.execute_reply.started": "2022-12-06T05:02:49.956882Z"
    },
    "tags": []
   },
   "outputs": [
    {
     "name": "stdout",
     "output_type": "stream",
     "text": [
      "1 lines\n",
      "1 groups\n",
      ">>>\n",
      "zdnnfgfsgffgllwrwprwrgwwpssznzrnznllstszsttpdptdpdmdsdzsdscsmcmttdllbsbwwtwnwswcchshlhjhfhwfftcchnnf...\n"
     ]
    }
   ],
   "source": [
    "lines, groups = linesplit(raw_input, verbose=True)"
   ]
  },
  {
   "cell_type": "code",
   "execution_count": null,
   "metadata": {},
   "outputs": [],
   "source": []
  },
  {
   "cell_type": "code",
   "execution_count": 17,
   "metadata": {
    "execution": {
     "iopub.execute_input": "2022-12-06T05:02:50.426616Z",
     "iopub.status.busy": "2022-12-06T05:02:50.425786Z",
     "iopub.status.idle": "2022-12-06T05:02:50.441954Z",
     "shell.execute_reply": "2022-12-06T05:02:50.441107Z",
     "shell.execute_reply.started": "2022-12-06T05:02:50.426566Z"
    },
    "tags": []
   },
   "outputs": [
    {
     "name": "stdout",
     "output_type": "stream",
     "text": [
      "2265\n"
     ]
    }
   ],
   "source": [
    "line = lines[0]\n",
    "for i in range(14, len(line)):\n",
    "  if len(set(line[i-14:i])) == 14:\n",
    "    print(i)\n",
    "    break"
   ]
  },
  {
   "cell_type": "code",
   "execution_count": 18,
   "metadata": {
    "execution": {
     "iopub.execute_input": "2022-12-06T05:02:53.925394Z",
     "iopub.status.busy": "2022-12-06T05:02:53.925081Z",
     "iopub.status.idle": "2022-12-06T05:02:54.091813Z",
     "shell.execute_reply": "2022-12-06T05:02:54.089071Z",
     "shell.execute_reply.started": "2022-12-06T05:02:53.925374Z"
    },
    "tags": []
   },
   "outputs": [
    {
     "name": "stdout",
     "output_type": "stream",
     "text": [
      "Submitting 2265...\n"
     ]
    },
    {
     "data": {
      "text/plain": [
       "True"
      ]
     },
     "execution_count": 18,
     "metadata": {},
     "output_type": "execute_result"
    }
   ],
   "source": [
    "submit2(2265)"
   ]
  }
 ],
 "metadata": {
  "kernelspec": {
   "display_name": "Python 3 (ipykernel)",
   "language": "python",
   "name": "python3"
  },
  "language_info": {
   "codemirror_mode": {
    "name": "ipython",
    "version": 3
   },
   "file_extension": ".py",
   "mimetype": "text/x-python",
   "name": "python",
   "nbconvert_exporter": "python",
   "pygments_lexer": "ipython3",
   "version": "3.11.0"
  }
 },
 "nbformat": 4,
 "nbformat_minor": 4
}
