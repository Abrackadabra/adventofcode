{
 "cells": [
  {
   "cell_type": "code",
   "execution_count": 1,
   "metadata": {
    "execution": {
     "iopub.execute_input": "2022-12-08T05:00:21.943201Z",
     "iopub.status.busy": "2022-12-08T05:00:21.941652Z",
     "iopub.status.idle": "2022-12-08T05:00:23.770439Z",
     "shell.execute_reply": "2022-12-08T05:00:23.769321Z",
     "shell.execute_reply.started": "2022-12-08T05:00:21.942914Z"
    }
   },
   "outputs": [],
   "source": [
    "import numpy as np\n",
    "from numpy import *\n",
    "import matplotlib\n",
    "from matplotlib import pyplot as plt\n",
    "from tqdm.auto import tqdm\n",
    "import requests\n",
    "import pickle\n",
    "import re\n",
    "import itertools\n",
    "import functools\n",
    "import collections\n",
    "import string\n",
    "import time\n",
    "from bs4 import BeautifulSoup\n",
    "from sortedcontainers import SortedList # http://www.grantjenks.com/docs/sortedcontainers/sortedlist.html#sortedlist\n",
    "\n",
    "from adventlib import *\n",
    "\n",
    "YEAR = 2022\n",
    "DAY = int('08')\n",
    "\n",
    "submit1, submit2 = generate_submits(YEAR, DAY)\n",
    "\n",
    "while True:\n",
    "  try:\n",
    "    raw_input = get_input(YEAR, DAY)\n",
    "    break\n",
    "  except Exception as e:\n",
    "    print(e)\n",
    "    time.sleep(1)"
   ]
  },
  {
   "cell_type": "code",
   "execution_count": 61,
   "metadata": {
    "execution": {
     "iopub.execute_input": "2022-12-08T05:14:22.777720Z",
     "iopub.status.busy": "2022-12-08T05:14:22.776757Z",
     "iopub.status.idle": "2022-12-08T05:14:22.786164Z",
     "shell.execute_reply": "2022-12-08T05:14:22.784803Z",
     "shell.execute_reply.started": "2022-12-08T05:14:22.777661Z"
    },
    "tags": []
   },
   "outputs": [],
   "source": [
    "lines, groups = linesplit(\"\"\"\n",
    "30373\n",
    "25512\n",
    "65332\n",
    "33549\n",
    "35390\n",
    "\"\"\".strip())"
   ]
  },
  {
   "cell_type": "code",
   "execution_count": 65,
   "metadata": {
    "execution": {
     "iopub.execute_input": "2022-12-08T05:14:32.654723Z",
     "iopub.status.busy": "2022-12-08T05:14:32.654023Z",
     "iopub.status.idle": "2022-12-08T05:14:32.668107Z",
     "shell.execute_reply": "2022-12-08T05:14:32.665435Z",
     "shell.execute_reply.started": "2022-12-08T05:14:32.654692Z"
    },
    "tags": []
   },
   "outputs": [
    {
     "name": "stdout",
     "output_type": "stream",
     "text": [
      "99 lines\n",
      "1 groups\n",
      ">>>\n",
      "101002200302221033023303143134003020403131311534441424251301311211314032120023113231033031121022011\n",
      "000000201330102222312340313324430424413214435242113342242434514432041413213343304030120232213020102\n",
      "010000203232213031433114342021403232235333514333553111322134215441434143114041342040010222003200011\n",
      "...\n"
     ]
    }
   ],
   "source": [
    "lines, groups = linesplit(raw_input, verbose=True)"
   ]
  },
  {
   "cell_type": "code",
   "execution_count": null,
   "metadata": {},
   "outputs": [],
   "source": []
  },
  {
   "cell_type": "code",
   "execution_count": 66,
   "metadata": {
    "execution": {
     "iopub.execute_input": "2022-12-08T05:14:34.843087Z",
     "iopub.status.busy": "2022-12-08T05:14:34.842612Z",
     "iopub.status.idle": "2022-12-08T05:14:34.855016Z",
     "shell.execute_reply": "2022-12-08T05:14:34.853960Z",
     "shell.execute_reply.started": "2022-12-08T05:14:34.843050Z"
    },
    "tags": []
   },
   "outputs": [],
   "source": [
    "\n",
    "def lines_as_matrix_nm(lines):\n",
    "  assert len(set(map(len, lines))) == 1\n",
    "  a = np.array(list(map(list, lines)), dtype='<U1')\n",
    "  return a.shape[0], a.shape[1], a\n",
    "\n",
    "\n",
    "def lines_as_matrix(lines):\n",
    "  return lines_as_matrix_nm(lines)[2]\n",
    "\n",
    "\n",
    "def lines_as_digit_matrix(lines):\n",
    "  return vectorize(int)(lines_as_matrix(lines))"
   ]
  },
  {
   "cell_type": "code",
   "execution_count": 67,
   "metadata": {
    "execution": {
     "iopub.execute_input": "2022-12-08T05:14:35.342078Z",
     "iopub.status.busy": "2022-12-08T05:14:35.341570Z",
     "iopub.status.idle": "2022-12-08T05:14:35.355622Z",
     "shell.execute_reply": "2022-12-08T05:14:35.354646Z",
     "shell.execute_reply.started": "2022-12-08T05:14:35.342040Z"
    },
    "tags": []
   },
   "outputs": [],
   "source": [
    "a = lines_as_digit_matrix(lines)"
   ]
  },
  {
   "cell_type": "code",
   "execution_count": 55,
   "metadata": {
    "execution": {
     "iopub.execute_input": "2022-12-08T05:13:37.734513Z",
     "iopub.status.busy": "2022-12-08T05:13:37.734018Z",
     "iopub.status.idle": "2022-12-08T05:13:37.739952Z",
     "shell.execute_reply": "2022-12-08T05:13:37.738913Z",
     "shell.execute_reply.started": "2022-12-08T05:13:37.734491Z"
    },
    "tags": []
   },
   "outputs": [],
   "source": [
    "b = ones_like(a, dtype=bool)"
   ]
  },
  {
   "cell_type": "code",
   "execution_count": 8,
   "metadata": {
    "execution": {
     "iopub.execute_input": "2022-12-08T05:01:05.241750Z",
     "iopub.status.busy": "2022-12-08T05:01:05.241383Z",
     "iopub.status.idle": "2022-12-08T05:01:05.251586Z",
     "shell.execute_reply": "2022-12-08T05:01:05.250018Z",
     "shell.execute_reply.started": "2022-12-08T05:01:05.241727Z"
    },
    "tags": []
   },
   "outputs": [
    {
     "data": {
      "text/plain": [
       "array([[3, 0, 3, 7, 3],\n",
       "       [2, 5, 5, 1, 2],\n",
       "       [6, 5, 3, 3, 2],\n",
       "       [3, 3, 5, 4, 9],\n",
       "       [3, 5, 3, 9, 0]])"
      ]
     },
     "execution_count": 8,
     "metadata": {},
     "output_type": "execute_result"
    }
   ],
   "source": [
    "a"
   ]
  },
  {
   "cell_type": "code",
   "execution_count": 69,
   "metadata": {
    "execution": {
     "iopub.execute_input": "2022-12-08T05:14:46.446273Z",
     "iopub.status.busy": "2022-12-08T05:14:46.445859Z",
     "iopub.status.idle": "2022-12-08T05:14:46.451643Z",
     "shell.execute_reply": "2022-12-08T05:14:46.450823Z",
     "shell.execute_reply.started": "2022-12-08T05:14:46.446253Z"
    },
    "tags": []
   },
   "outputs": [],
   "source": [
    "n, m = a.shape"
   ]
  },
  {
   "cell_type": "code",
   "execution_count": 26,
   "metadata": {
    "execution": {
     "iopub.execute_input": "2022-12-08T05:06:08.033089Z",
     "iopub.status.busy": "2022-12-08T05:06:08.032727Z",
     "iopub.status.idle": "2022-12-08T05:06:08.141420Z",
     "shell.execute_reply": "2022-12-08T05:06:08.140682Z",
     "shell.execute_reply.started": "2022-12-08T05:06:08.033067Z"
    },
    "tags": []
   },
   "outputs": [
    {
     "data": {
      "text/plain": [
       "array([[ True,  True,  True, ...,  True,  True,  True],\n",
       "       [ True, False, False, ...,  True, False,  True],\n",
       "       [ True,  True, False, ..., False, False,  True],\n",
       "       ...,\n",
       "       [ True, False, False, ...,  True, False,  True],\n",
       "       [ True, False, False, ...,  True, False,  True],\n",
       "       [ True,  True,  True, ...,  True,  True,  True]])"
      ]
     },
     "execution_count": 26,
     "metadata": {},
     "output_type": "execute_result"
    }
   ],
   "source": [
    "b = ones_like(a, dtype=bool)\n",
    "b[1:n-1,1:m-1] = False\n",
    "\n",
    "\n",
    "for i in range(1, n-1):\n",
    "  for j in range(1,m-1):\n",
    "    b[i, j] |= all(a[i, 0:j] < a[i, j])\n",
    "    b[i, j] |= all(a[i, j+1:m] < a[i, j])\n",
    "    b[i, j] |= all(a[0:i,j] < a[i, j])\n",
    "    b[i, j] |= all(a[i+1:n, j] < a[i, j])\n",
    "    # b[i, j] |= all(a[i, j:m-1] < a[i, j+1:m])\n",
    "    # b[i, j] |= all(a[1:i, j] < a[0:i-1, j])\n",
    "    # b[i, j] |= all(a[i:n-1, j] < a[i+1:n, j])\n",
    "    # b[i, j] |= all(a[i, 1:j] < a[i, 0:j-1])\n",
    "    # b[i, j] |= all(a[i, 1:j] < a[i, 0:j-1])\n",
    "    # b[i, j] |= all(a[i, 1:j] < a[i, 0:j-1])\n",
    "b"
   ]
  },
  {
   "cell_type": "code",
   "execution_count": 27,
   "metadata": {
    "execution": {
     "iopub.execute_input": "2022-12-08T05:06:08.980740Z",
     "iopub.status.busy": "2022-12-08T05:06:08.980392Z",
     "iopub.status.idle": "2022-12-08T05:06:08.990070Z",
     "shell.execute_reply": "2022-12-08T05:06:08.989165Z",
     "shell.execute_reply.started": "2022-12-08T05:06:08.980676Z"
    },
    "tags": []
   },
   "outputs": [
    {
     "data": {
      "text/plain": [
       "1849"
      ]
     },
     "execution_count": 27,
     "metadata": {},
     "output_type": "execute_result"
    }
   ],
   "source": [
    "sum(b)"
   ]
  },
  {
   "cell_type": "code",
   "execution_count": 28,
   "metadata": {
    "execution": {
     "iopub.execute_input": "2022-12-08T05:06:12.947708Z",
     "iopub.status.busy": "2022-12-08T05:06:12.947410Z",
     "iopub.status.idle": "2022-12-08T05:06:14.916360Z",
     "shell.execute_reply": "2022-12-08T05:06:14.915252Z",
     "shell.execute_reply.started": "2022-12-08T05:06:12.947689Z"
    },
    "tags": []
   },
   "outputs": [
    {
     "name": "stdout",
     "output_type": "stream",
     "text": [
      "Submitting 1849...\n"
     ]
    },
    {
     "data": {
      "text/plain": [
       "True"
      ]
     },
     "execution_count": 28,
     "metadata": {},
     "output_type": "execute_result"
    }
   ],
   "source": [
    "submit1(_)"
   ]
  },
  {
   "cell_type": "code",
   "execution_count": 70,
   "metadata": {
    "execution": {
     "iopub.execute_input": "2022-12-08T05:14:48.263498Z",
     "iopub.status.busy": "2022-12-08T05:14:48.263077Z",
     "iopub.status.idle": "2022-12-08T05:14:48.359773Z",
     "shell.execute_reply": "2022-12-08T05:14:48.359285Z",
     "shell.execute_reply.started": "2022-12-08T05:14:48.263469Z"
    },
    "tags": []
   },
   "outputs": [
    {
     "data": {
      "text/plain": [
       "array([[ 0,  0,  0, ...,  0,  0,  0],\n",
       "       [ 0,  1,  1, ...,  8,  1,  0],\n",
       "       [ 0, 30,  1, ...,  1,  8,  0],\n",
       "       ...,\n",
       "       [ 0,  2,  1, ...,  2,  1,  0],\n",
       "       [ 0,  2,  1, ...,  1,  3,  0],\n",
       "       [ 0,  0,  0, ...,  0,  0,  0]])"
      ]
     },
     "execution_count": 70,
     "metadata": {},
     "output_type": "execute_result"
    }
   ],
   "source": [
    "b = zeros_like(a, dtype=int)\n",
    "# b[1:n-1,1:m-1] = False\n",
    "\n",
    "\n",
    "for i in range(1, n-1):\n",
    "  for j in range(1,m-1):\n",
    "    p = 1\n",
    "    \n",
    "    x = (a[i, 0:j] < a[i, j])[::-1]\n",
    "    # print(x)\n",
    "    y = where(x == False)[0]\n",
    "    if len(y) > 0:\n",
    "      p *= y[0] + 1\n",
    "    else:\n",
    "      p *= len(x)\n",
    "    # print(p)\n",
    "    \n",
    "    x = (a[i, j+1:m] < a[i, j])\n",
    "    y = where(x == False)[0]\n",
    "    if len(y) > 0:\n",
    "      p *= y[0] + 1\n",
    "    else:\n",
    "      p *= len(x)\n",
    "    \n",
    "    x = (a[0:i, j] < a[i, j])[::-1]\n",
    "    y = where(x == False)[0]\n",
    "    if len(y) > 0:\n",
    "      p *= y[0] + 1\n",
    "    else:\n",
    "      p *= len(x)\n",
    "    \n",
    "    x = (a[i+1:n, j] < a[i, j])\n",
    "    y = where(x == False)[0]\n",
    "    if len(y) > 0:\n",
    "      p *= y[0] + 1\n",
    "    else:\n",
    "      p *= len(x)\n",
    "    \n",
    "    b[i, j] = p\n",
    "    # print(x, )\n",
    "    \n",
    "    \n",
    "    # b[i, j] |= all(a[i, j+1:m] < a[i, j])\n",
    "    # b[i, j] |= all(a[0:i,j] < a[i, j])\n",
    "    # b[i, j] |= all(a[i+1:n, j] < a[i, j])\n",
    "    # b[i, j] |= all(a[i, j:m-1] < a[i, j+1:m])\n",
    "    # b[i, j] |= all(a[1:i, j] < a[0:i-1, j])\n",
    "    # b[i, j] |= all(a[i:n-1, j] < a[i+1:n, j])\n",
    "    # b[i, j] |= all(a[i, 1:j] < a[i, 0:j-1])\n",
    "    # b[i, j] |= all(a[i, 1:j] < a[i, 0:j-1])\n",
    "    # b[i, j] |= all(a[i, 1:j] < a[i, 0:j-1])\n",
    "b"
   ]
  },
  {
   "cell_type": "code",
   "execution_count": 71,
   "metadata": {
    "execution": {
     "iopub.execute_input": "2022-12-08T05:14:50.109740Z",
     "iopub.status.busy": "2022-12-08T05:14:50.109422Z",
     "iopub.status.idle": "2022-12-08T05:14:50.121217Z",
     "shell.execute_reply": "2022-12-08T05:14:50.119865Z",
     "shell.execute_reply.started": "2022-12-08T05:14:50.109720Z"
    },
    "tags": []
   },
   "outputs": [
    {
     "data": {
      "text/plain": [
       "201600"
      ]
     },
     "execution_count": 71,
     "metadata": {},
     "output_type": "execute_result"
    }
   ],
   "source": [
    "max(b.max(axis=0))"
   ]
  },
  {
   "cell_type": "code",
   "execution_count": 72,
   "metadata": {
    "execution": {
     "iopub.execute_input": "2022-12-08T05:14:53.119412Z",
     "iopub.status.busy": "2022-12-08T05:14:53.115841Z",
     "iopub.status.idle": "2022-12-08T05:14:55.366670Z",
     "shell.execute_reply": "2022-12-08T05:14:55.366036Z",
     "shell.execute_reply.started": "2022-12-08T05:14:53.118991Z"
    },
    "tags": []
   },
   "outputs": [
    {
     "name": "stdout",
     "output_type": "stream",
     "text": [
      "Submitting 201600...\n"
     ]
    },
    {
     "data": {
      "text/plain": [
       "True"
      ]
     },
     "execution_count": 72,
     "metadata": {},
     "output_type": "execute_result"
    }
   ],
   "source": [
    "submit2(_)"
   ]
  }
 ],
 "metadata": {
  "kernelspec": {
   "display_name": "Python 3 (ipykernel)",
   "language": "python",
   "name": "python3"
  },
  "language_info": {
   "codemirror_mode": {
    "name": "ipython",
    "version": 3
   },
   "file_extension": ".py",
   "mimetype": "text/x-python",
   "name": "python",
   "nbconvert_exporter": "python",
   "pygments_lexer": "ipython3",
   "version": "3.11.0"
  }
 },
 "nbformat": 4,
 "nbformat_minor": 4
}
