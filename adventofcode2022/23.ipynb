{
 "cells": [
  {
   "cell_type": "code",
   "execution_count": 6,
   "metadata": {
    "execution": {
     "iopub.execute_input": "2022-12-23T05:03:01.794901Z",
     "iopub.status.busy": "2022-12-23T05:03:01.794096Z",
     "iopub.status.idle": "2022-12-23T05:03:01.954264Z",
     "shell.execute_reply": "2022-12-23T05:03:01.953380Z",
     "shell.execute_reply.started": "2022-12-23T05:03:01.794878Z"
    },
    "tags": []
   },
   "outputs": [],
   "source": [
    "import numpy as np\n",
    "from numpy import *\n",
    "import matplotlib\n",
    "from matplotlib import pyplot as plt\n",
    "from tqdm.auto import tqdm\n",
    "import requests\n",
    "import pickle\n",
    "import re\n",
    "import itertools\n",
    "import functools\n",
    "import collections\n",
    "import string\n",
    "import time\n",
    "from bs4 import BeautifulSoup\n",
    "from sortedcontainers import SortedList # http://www.grantjenks.com/docs/sortedcontainers/sortedlist.html#sortedlist\n",
    "\n",
    "import multiprocess\n",
    "# with multiprocess.Pool(processes=8) as pool:\n",
    "#   for i in pool.imap_unordered(f, a):\n",
    "#     print(i)\n",
    "\n",
    "from adventlib.common import *\n",
    "# n, m, a = lines_as_matrix_nm(lines)\n",
    "# a = lines_as_matrix(lines)\n",
    "# a = lines_as_digit_matrix(lines)\n",
    "# chunks = split_iter_by_start_indices(a, indices)\n",
    "# chunks = split_iter_by_bools(a, bools)\n",
    "\n",
    "from adventlib.point_2d import *\n",
    "# from adventlib.point_3d import *\n",
    "\n",
    "YEAR = 2022\n",
    "DAY = int('23')\n",
    "\n",
    "submit1, submit2 = generate_submits(YEAR, DAY)\n",
    "\n",
    "while True:\n",
    "  try:\n",
    "    raw_input = get_input(YEAR, DAY)\n",
    "    break\n",
    "  except Exception as e:\n",
    "    print(e)\n",
    "    time.sleep(1)"
   ]
  },
  {
   "cell_type": "code",
   "execution_count": 72,
   "metadata": {
    "execution": {
     "iopub.execute_input": "2022-12-23T05:22:37.074756Z",
     "iopub.status.busy": "2022-12-23T05:22:37.074316Z",
     "iopub.status.idle": "2022-12-23T05:22:37.080913Z",
     "shell.execute_reply": "2022-12-23T05:22:37.079106Z",
     "shell.execute_reply.started": "2022-12-23T05:22:37.074734Z"
    },
    "tags": []
   },
   "outputs": [],
   "source": [
    "lines, groups = linesplit(\"\"\"\n",
    "....#..\n",
    "..###.#\n",
    "#...#.#\n",
    ".#...##\n",
    "#.###..\n",
    "##.#.##\n",
    ".#..#..\n",
    "\"\"\".strip())"
   ]
  },
  {
   "cell_type": "code",
   "execution_count": 14,
   "metadata": {
    "execution": {
     "iopub.execute_input": "2022-12-23T05:10:59.540290Z",
     "iopub.status.busy": "2022-12-23T05:10:59.538550Z",
     "iopub.status.idle": "2022-12-23T05:10:59.551983Z",
     "shell.execute_reply": "2022-12-23T05:10:59.550660Z",
     "shell.execute_reply.started": "2022-12-23T05:10:59.540221Z"
    },
    "tags": []
   },
   "outputs": [],
   "source": [
    "lines, groups = linesplit(\"\"\"\n",
    ".....\n",
    "..##.\n",
    "..#..\n",
    ".....\n",
    "..##.\n",
    ".....\n",
    "\"\"\".strip())"
   ]
  },
  {
   "cell_type": "code",
   "execution_count": 80,
   "metadata": {
    "execution": {
     "iopub.execute_input": "2022-12-23T05:23:01.024586Z",
     "iopub.status.busy": "2022-12-23T05:23:01.024063Z",
     "iopub.status.idle": "2022-12-23T05:23:01.032925Z",
     "shell.execute_reply": "2022-12-23T05:23:01.031987Z",
     "shell.execute_reply.started": "2022-12-23T05:23:01.024549Z"
    },
    "tags": []
   },
   "outputs": [
    {
     "name": "stdout",
     "output_type": "stream",
     "text": [
      "73 lines\n",
      "1 groups\n",
      ">>>\n",
      "#.##.##...####..#.##.##....###....##...#..#####..#.##.##.#...###.##..#.##\n",
      ".#....#..#.##..#.#.#...#..#..####..#.#.##.#.#..#.#..#.#..##.#..........#.\n",
      "##.#####.###.#...######..###.#.#..##.#.##.#......#..##.....###.#.##.##.##\n",
      "...\n"
     ]
    }
   ],
   "source": [
    "lines, groups = linesplit(raw_input, verbose=True)"
   ]
  },
  {
   "cell_type": "code",
   "execution_count": null,
   "metadata": {},
   "outputs": [],
   "source": []
  },
  {
   "cell_type": "code",
   "execution_count": 81,
   "metadata": {
    "execution": {
     "iopub.execute_input": "2022-12-23T05:23:01.385356Z",
     "iopub.status.busy": "2022-12-23T05:23:01.384836Z",
     "iopub.status.idle": "2022-12-23T05:23:01.391209Z",
     "shell.execute_reply": "2022-12-23T05:23:01.389936Z",
     "shell.execute_reply.started": "2022-12-23T05:23:01.385334Z"
    },
    "tags": []
   },
   "outputs": [],
   "source": [
    "n, m, a = lines_as_matrix_nm(lines)"
   ]
  },
  {
   "cell_type": "code",
   "execution_count": null,
   "metadata": {
    "tags": []
   },
   "outputs": [],
   "source": []
  },
  {
   "cell_type": "code",
   "execution_count": 82,
   "metadata": {
    "execution": {
     "iopub.execute_input": "2022-12-23T05:23:01.763238Z",
     "iopub.status.busy": "2022-12-23T05:23:01.762921Z",
     "iopub.status.idle": "2022-12-23T05:23:01.769004Z",
     "shell.execute_reply": "2022-12-23T05:23:01.768376Z",
     "shell.execute_reply.started": "2022-12-23T05:23:01.763218Z"
    },
    "tags": []
   },
   "outputs": [],
   "source": [
    "dirs = [\n",
    "  UP,\n",
    "  DOWN,\n",
    "  LEFT,\n",
    "  RIGHT,\n",
    "]\n",
    "\n",
    "dir_checks = [\n",
    "  [NORTH, NORTHEAST, NORTHWEST],\n",
    "  [SOUTH, SOUTHEAST, SOUTHWEST],\n",
    "  [WEST, NORTHWEST, SOUTHWEST],\n",
    "  [EAST, NORTHEAST, SOUTHEAST],\n",
    "]"
   ]
  },
  {
   "cell_type": "code",
   "execution_count": null,
   "metadata": {},
   "outputs": [],
   "source": []
  },
  {
   "cell_type": "code",
   "execution_count": 75,
   "metadata": {
    "execution": {
     "iopub.execute_input": "2022-12-23T05:22:39.689497Z",
     "iopub.status.busy": "2022-12-23T05:22:39.688902Z",
     "iopub.status.idle": "2022-12-23T05:22:39.709645Z",
     "shell.execute_reply": "2022-12-23T05:22:39.708760Z",
     "shell.execute_reply.started": "2022-12-23T05:22:39.689475Z"
    },
    "tags": []
   },
   "outputs": [],
   "source": [
    "start_dir = 0\n",
    "start_ps = []\n",
    "\n",
    "for i in range(n):\n",
    "  for j in range(m):\n",
    "    if a[i, j] == '#':\n",
    "      start_ps.append(Point(j, -i))\n",
    "\n",
    "ps = set(start_ps)\n",
    "\n",
    "for round_i in range(10):\n",
    "  proposals = []\n",
    "  \n",
    "  for p in ps:\n",
    "    pcheck = set([p + i for i in DIRS8])\n",
    "    if not (pcheck & ps):\n",
    "      proposals.append(p)\n",
    "      continue\n",
    "    \n",
    "    for dir_i in range(4):\n",
    "      dir = dirs[(dir_i + start_dir) % 4]\n",
    "      dir_check = dir_checks[(dir_i + start_dir) % 4]\n",
    "    \n",
    "      pcheck = set([p + i for i in dir_check])\n",
    "      if not (pcheck & ps):\n",
    "        # print(f'{p} -> {p + dir}')\n",
    "        proposals.append(p + dir)\n",
    "        break\n",
    "    else:\n",
    "      proposals.append(p)\n",
    "  \n",
    "  c = collections.Counter(proposals)\n",
    "  \n",
    "  next_ps = []\n",
    "  for p, pp in zip(ps, proposals):\n",
    "    if c[pp] > 1:\n",
    "      next_ps.append(p)\n",
    "    else:\n",
    "      next_ps.append(pp)\n",
    "  \n",
    "  # print(ps, set(next_ps))\n",
    "  ps = set(next_ps)\n",
    "  start_dir = (start_dir + 1) % 4\n",
    "\n",
    "# print(ps)"
   ]
  },
  {
   "cell_type": "code",
   "execution_count": 55,
   "metadata": {
    "execution": {
     "iopub.execute_input": "2022-12-23T05:19:35.210284Z",
     "iopub.status.busy": "2022-12-23T05:19:35.209676Z",
     "iopub.status.idle": "2022-12-23T05:19:35.218296Z",
     "shell.execute_reply": "2022-12-23T05:19:35.217555Z",
     "shell.execute_reply.started": "2022-12-23T05:19:35.210263Z"
    },
    "tags": []
   },
   "outputs": [],
   "source": [
    "minx = min([i.x for i in ps])\n",
    "miny = min([i.y for i in ps])\n",
    "maxx = max([i.x for i in ps])\n",
    "maxy = max([i.y for i in ps])"
   ]
  },
  {
   "cell_type": "code",
   "execution_count": 47,
   "metadata": {
    "execution": {
     "iopub.execute_input": "2022-12-23T05:18:11.321312Z",
     "iopub.status.busy": "2022-12-23T05:18:11.321151Z",
     "iopub.status.idle": "2022-12-23T05:18:11.328810Z",
     "shell.execute_reply": "2022-12-23T05:18:11.328452Z",
     "shell.execute_reply.started": "2022-12-23T05:18:11.321301Z"
    },
    "tags": []
   },
   "outputs": [
    {
     "data": {
      "text/plain": [
       "4114"
      ]
     },
     "execution_count": 47,
     "metadata": {},
     "output_type": "execute_result"
    }
   ],
   "source": [
    "total = 0\n",
    "got = 0\n",
    "for x in range(minx, maxx + 1):\n",
    "  for y in range(miny, maxy + 1):\n",
    "    p = Point(x, y)\n",
    "    total += 1\n",
    "    if p in ps:\n",
    "      got += 1\n",
    "total - got"
   ]
  },
  {
   "cell_type": "code",
   "execution_count": 48,
   "metadata": {
    "execution": {
     "iopub.execute_input": "2022-12-23T05:18:15.442756Z",
     "iopub.status.busy": "2022-12-23T05:18:15.442245Z",
     "iopub.status.idle": "2022-12-23T05:18:16.081049Z",
     "shell.execute_reply": "2022-12-23T05:18:16.080174Z",
     "shell.execute_reply.started": "2022-12-23T05:18:15.442728Z"
    },
    "tags": []
   },
   "outputs": [
    {
     "name": "stdout",
     "output_type": "stream",
     "text": [
      "Submitting 4114...\n"
     ]
    },
    {
     "data": {
      "text/plain": [
       "True"
      ]
     },
     "execution_count": 48,
     "metadata": {},
     "output_type": "execute_result"
    }
   ],
   "source": [
    "submit1(_)"
   ]
  },
  {
   "cell_type": "code",
   "execution_count": null,
   "metadata": {},
   "outputs": [],
   "source": []
  },
  {
   "cell_type": "code",
   "execution_count": null,
   "metadata": {},
   "outputs": [],
   "source": []
  },
  {
   "cell_type": "code",
   "execution_count": 87,
   "metadata": {
    "execution": {
     "iopub.execute_input": "2022-12-23T05:26:26.080070Z",
     "iopub.status.busy": "2022-12-23T05:26:26.079621Z",
     "iopub.status.idle": "2022-12-23T05:26:47.377670Z",
     "shell.execute_reply": "2022-12-23T05:26:47.377400Z",
     "shell.execute_reply.started": "2022-12-23T05:26:26.080049Z"
    },
    "tags": []
   },
   "outputs": [
    {
     "data": {
      "application/vnd.jupyter.widget-view+json": {
       "model_id": "c37e875865564a3ba9d7dedb001fdeea",
       "version_major": 2,
       "version_minor": 0
      },
      "text/plain": [
       "  0%|          | 0/1000000000 [00:00<?, ?it/s]"
      ]
     },
     "metadata": {},
     "output_type": "display_data"
    },
    {
     "name": "stdout",
     "output_type": "stream",
     "text": [
      "22\n"
     ]
    }
   ],
   "source": [
    "start_dir = 0\n",
    "start_ps = []\n",
    "\n",
    "for i in range(n):\n",
    "  for j in range(m):\n",
    "    if a[i, j] == '#':\n",
    "      start_ps.append(Point(j, -i))\n",
    "\n",
    "ps = set(start_ps)\n",
    "\n",
    "for round_i in tqdm(range(1000000000)):\n",
    "  proposals = []\n",
    "  \n",
    "  for p in ps:\n",
    "    pcheck = set([p + i for i in DIRS8])\n",
    "    if not (pcheck & ps):\n",
    "      proposals.append(p)\n",
    "      continue\n",
    "    \n",
    "    for dir_i in range(4):\n",
    "      dir = dirs[(dir_i + start_dir) % 4]\n",
    "      dir_check = dir_checks[(dir_i + start_dir) % 4]\n",
    "    \n",
    "      pcheck = set([p + i for i in dir_check])\n",
    "      if not (pcheck & ps):\n",
    "        # print(f'{p} -> {p + dir}')\n",
    "        proposals.append(p + dir)\n",
    "        break\n",
    "    else:\n",
    "      proposals.append(p)\n",
    "  \n",
    "  c = collections.Counter(proposals)\n",
    "  \n",
    "  next_ps = []\n",
    "  for p, pp in zip(ps, proposals):\n",
    "    if c[pp] > 1:\n",
    "      next_ps.append(p)\n",
    "    else:\n",
    "      next_ps.append(pp)\n",
    "  \n",
    "  if ps == set(next_ps):\n",
    "    print(stayed)\n",
    "    break\n",
    "      \n",
    "  \n",
    "  # print(ps, set(next_ps))\n",
    "  ps = set(next_ps)\n",
    "  start_dir = (start_dir + 1) % 4\n",
    "\n",
    "# print(ps)"
   ]
  },
  {
   "cell_type": "code",
   "execution_count": 71,
   "metadata": {
    "execution": {
     "iopub.execute_input": "2022-12-23T05:22:30.341577Z",
     "iopub.status.busy": "2022-12-23T05:22:30.341051Z",
     "iopub.status.idle": "2022-12-23T05:22:30.358743Z",
     "shell.execute_reply": "2022-12-23T05:22:30.358127Z",
     "shell.execute_reply.started": "2022-12-23T05:22:30.341543Z"
    },
    "tags": []
   },
   "outputs": [
    {
     "data": {
      "text/plain": [
       "72"
      ]
     },
     "execution_count": 71,
     "metadata": {},
     "output_type": "execute_result"
    }
   ],
   "source": [
    "i"
   ]
  },
  {
   "cell_type": "code",
   "execution_count": 79,
   "metadata": {
    "execution": {
     "iopub.execute_input": "2022-12-23T05:22:58.285566Z",
     "iopub.status.busy": "2022-12-23T05:22:58.285053Z",
     "iopub.status.idle": "2022-12-23T05:22:58.292775Z",
     "shell.execute_reply": "2022-12-23T05:22:58.292057Z",
     "shell.execute_reply.started": "2022-12-23T05:22:58.285546Z"
    },
    "tags": []
   },
   "outputs": [
    {
     "data": {
      "text/plain": [
       "20"
      ]
     },
     "execution_count": 79,
     "metadata": {},
     "output_type": "execute_result"
    }
   ],
   "source": [
    "round_i + 1"
   ]
  },
  {
   "cell_type": "code",
   "execution_count": 84,
   "metadata": {
    "execution": {
     "iopub.execute_input": "2022-12-23T05:23:26.175949Z",
     "iopub.status.busy": "2022-12-23T05:23:26.175776Z",
     "iopub.status.idle": "2022-12-23T05:23:26.178508Z",
     "shell.execute_reply": "2022-12-23T05:23:26.178162Z",
     "shell.execute_reply.started": "2022-12-23T05:23:26.175940Z"
    }
   },
   "outputs": [
    {
     "data": {
      "text/plain": [
       "970"
      ]
     },
     "execution_count": 84,
     "metadata": {},
     "output_type": "execute_result"
    }
   ],
   "source": [
    "round_i + 1"
   ]
  },
  {
   "cell_type": "code",
   "execution_count": 85,
   "metadata": {
    "execution": {
     "iopub.execute_input": "2022-12-23T05:23:27.102394Z",
     "iopub.status.busy": "2022-12-23T05:23:27.102077Z",
     "iopub.status.idle": "2022-12-23T05:23:27.703225Z",
     "shell.execute_reply": "2022-12-23T05:23:27.702629Z",
     "shell.execute_reply.started": "2022-12-23T05:23:27.102373Z"
    },
    "tags": []
   },
   "outputs": [
    {
     "name": "stdout",
     "output_type": "stream",
     "text": [
      "Submitting 970...\n"
     ]
    },
    {
     "data": {
      "text/plain": [
       "True"
      ]
     },
     "execution_count": 85,
     "metadata": {},
     "output_type": "execute_result"
    }
   ],
   "source": [
    "submit2(_)"
   ]
  }
 ],
 "metadata": {
  "kernelspec": {
   "display_name": "Python 3 (ipykernel)",
   "language": "python",
   "name": "python3"
  },
  "language_info": {
   "codemirror_mode": {
    "name": "ipython",
    "version": 3
   },
   "file_extension": ".py",
   "mimetype": "text/x-python",
   "name": "python",
   "nbconvert_exporter": "python",
   "pygments_lexer": "ipython3",
   "version": "3.11.0"
  }
 },
 "nbformat": 4,
 "nbformat_minor": 4
}
