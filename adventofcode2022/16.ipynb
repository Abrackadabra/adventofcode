{
 "cells": [
  {
   "cell_type": "code",
   "execution_count": 1,
   "metadata": {
    "execution": {
     "iopub.execute_input": "2022-12-16T05:01:04.410205Z",
     "iopub.status.busy": "2022-12-16T05:01:04.409856Z",
     "iopub.status.idle": "2022-12-16T05:01:05.497262Z",
     "shell.execute_reply": "2022-12-16T05:01:05.495788Z",
     "shell.execute_reply.started": "2022-12-16T05:01:04.410138Z"
    }
   },
   "outputs": [],
   "source": [
    "import numpy as np\n",
    "from numpy import *\n",
    "import matplotlib\n",
    "from matplotlib import pyplot as plt\n",
    "from tqdm.auto import tqdm\n",
    "import requests\n",
    "import pickle\n",
    "import re\n",
    "import itertools\n",
    "import functools\n",
    "import collections\n",
    "import string\n",
    "import time\n",
    "from bs4 import BeautifulSoup\n",
    "from sortedcontainers import SortedList # http://www.grantjenks.com/docs/sortedcontainers/sortedlist.html#sortedlist\n",
    "\n",
    "from adventlib.common import *\n",
    "# n, m, a = lines_as_matrix_nm(lines)\n",
    "# a = lines_as_matrix(lines)\n",
    "# a = lines_as_digit_matrix(lines)\n",
    "# chunks = split_iter_by_start_indices(a, indices)\n",
    "# chunks = split_iter_by_bools(a, bools)\n",
    "\n",
    "# from adventlib.point_2d import *\n",
    "# from adventlib.point_3d import *\n",
    "\n",
    "YEAR = 2022\n",
    "DAY = int('16')\n",
    "\n",
    "submit1, submit2 = generate_submits(YEAR, DAY)\n",
    "\n",
    "while True:\n",
    "  try:\n",
    "    raw_input = get_input(YEAR, DAY)\n",
    "    break\n",
    "  except Exception as e:\n",
    "    print(e)\n",
    "    time.sleep(1)"
   ]
  },
  {
   "cell_type": "code",
   "execution_count": 81,
   "metadata": {
    "execution": {
     "iopub.execute_input": "2022-12-16T05:23:00.421133Z",
     "iopub.status.busy": "2022-12-16T05:23:00.420823Z",
     "iopub.status.idle": "2022-12-16T05:23:00.434177Z",
     "shell.execute_reply": "2022-12-16T05:23:00.431605Z",
     "shell.execute_reply.started": "2022-12-16T05:23:00.421114Z"
    },
    "tags": []
   },
   "outputs": [],
   "source": [
    "lines, groups = linesplit(\"\"\"\n",
    "Valve AA has flow rate=0; tunnels lead to valves DD, II, BB\n",
    "Valve BB has flow rate=13; tunnels lead to valves CC, AA\n",
    "Valve CC has flow rate=2; tunnels lead to valves DD, BB\n",
    "Valve DD has flow rate=20; tunnels lead to valves CC, AA, EE\n",
    "Valve EE has flow rate=3; tunnels lead to valves FF, DD\n",
    "Valve FF has flow rate=0; tunnels lead to valves EE, GG\n",
    "Valve GG has flow rate=0; tunnels lead to valves FF, HH\n",
    "Valve HH has flow rate=22; tunnel leads to valve GG\n",
    "Valve II has flow rate=0; tunnels lead to valves AA, JJ\n",
    "Valve JJ has flow rate=21; tunnel leads to valve II\n",
    "\"\"\".strip())"
   ]
  },
  {
   "cell_type": "code",
   "execution_count": 92,
   "metadata": {
    "execution": {
     "iopub.execute_input": "2022-12-16T05:24:33.036168Z",
     "iopub.status.busy": "2022-12-16T05:24:33.035518Z",
     "iopub.status.idle": "2022-12-16T05:24:33.043994Z",
     "shell.execute_reply": "2022-12-16T05:24:33.043111Z",
     "shell.execute_reply.started": "2022-12-16T05:24:33.036124Z"
    },
    "tags": []
   },
   "outputs": [
    {
     "name": "stdout",
     "output_type": "stream",
     "text": [
      "64 lines\n",
      "1 groups\n",
      ">>>\n",
      "Valve MU has flow rate=0; tunnels lead to valves VT, LA\n",
      "Valve TQ has flow rate=0; tunnels lead to valves HU, SU\n",
      "Valve YH has flow rate=0; tunnels lead to valves CN, BN\n",
      "...\n"
     ]
    }
   ],
   "source": [
    "lines, groups = linesplit(raw_input, verbose=True)"
   ]
  },
  {
   "cell_type": "code",
   "execution_count": 93,
   "metadata": {
    "execution": {
     "iopub.execute_input": "2022-12-16T05:24:33.227386Z",
     "iopub.status.busy": "2022-12-16T05:24:33.227072Z",
     "iopub.status.idle": "2022-12-16T05:24:33.236189Z",
     "shell.execute_reply": "2022-12-16T05:24:33.235087Z",
     "shell.execute_reply.started": "2022-12-16T05:24:33.227366Z"
    },
    "tags": []
   },
   "outputs": [],
   "source": [
    "names = set()\n",
    "rates = {}\n",
    "neighs = {}\n",
    "\n",
    "for line in lines:\n",
    "  if m := re.findall(r'^Valve (.*) has flow rate=(.*); tunnels? leads? to valves? (.*)$', line):\n",
    "    m = m[0]\n",
    "    name = m[0]\n",
    "    rate = int(m[1])\n",
    "    neigh = m[2].split(', ')\n",
    "    \n",
    "    names.add(name)\n",
    "    rates[name] = rate\n",
    "    neighs[name] = neigh\n",
    "  else:\n",
    "    raise Exception()"
   ]
  },
  {
   "cell_type": "code",
   "execution_count": 94,
   "metadata": {
    "execution": {
     "iopub.execute_input": "2022-12-16T05:24:33.376929Z",
     "iopub.status.busy": "2022-12-16T05:24:33.376304Z",
     "iopub.status.idle": "2022-12-16T05:24:33.395911Z",
     "shell.execute_reply": "2022-12-16T05:24:33.392998Z",
     "shell.execute_reply.started": "2022-12-16T05:24:33.376883Z"
    },
    "tags": []
   },
   "outputs": [
    {
     "data": {
      "text/plain": [
       "15"
      ]
     },
     "execution_count": 94,
     "metadata": {},
     "output_type": "execute_result"
    }
   ],
   "source": [
    "len([j for i, j in rates.items() if j > 0])"
   ]
  },
  {
   "cell_type": "code",
   "execution_count": 95,
   "metadata": {
    "execution": {
     "iopub.execute_input": "2022-12-16T05:24:33.520614Z",
     "iopub.status.busy": "2022-12-16T05:24:33.520082Z",
     "iopub.status.idle": "2022-12-16T05:24:33.530953Z",
     "shell.execute_reply": "2022-12-16T05:24:33.530150Z",
     "shell.execute_reply.started": "2022-12-16T05:24:33.520577Z"
    },
    "tags": []
   },
   "outputs": [
    {
     "data": {
      "text/plain": [
       "[3, 4, 5, 6, 7, 11, 12, 13, 15, 16, 17, 19, 21, 23, 25]"
      ]
     },
     "execution_count": 95,
     "metadata": {},
     "output_type": "execute_result"
    }
   ],
   "source": [
    "sorted([j for i, j in rates.items() if j > 0])"
   ]
  },
  {
   "cell_type": "code",
   "execution_count": 96,
   "metadata": {
    "execution": {
     "iopub.execute_input": "2022-12-16T05:24:33.657082Z",
     "iopub.status.busy": "2022-12-16T05:24:33.656567Z",
     "iopub.status.idle": "2022-12-16T05:24:33.680990Z",
     "shell.execute_reply": "2022-12-16T05:24:33.680586Z",
     "shell.execute_reply.started": "2022-12-16T05:24:33.657046Z"
    },
    "tags": []
   },
   "outputs": [],
   "source": [
    "paths = {}\n",
    "\n",
    "for start in names:\n",
    "  visited = set()\n",
    "  distance = {start: 0}\n",
    "  q = collections.deque([start])\n",
    "  prev = {}\n",
    "  \n",
    "  while q:\n",
    "    t = q.popleft()\n",
    "    \n",
    "    for tt in neighs[t]:\n",
    "      if tt not in visited:\n",
    "        visited.add(tt)\n",
    "        q.append(tt)\n",
    "        distance[tt] = distance[t] + 1\n",
    "        prev[tt] = t\n",
    "  \n",
    "  for name in names:\n",
    "    t = name\n",
    "    path = []\n",
    "    \n",
    "    while t != start:\n",
    "      path.append(t)\n",
    "      t = prev[t]\n",
    "    \n",
    "    paths[(start, name)] = path[::-1]"
   ]
  },
  {
   "cell_type": "code",
   "execution_count": 97,
   "metadata": {
    "execution": {
     "iopub.execute_input": "2022-12-16T05:24:33.809797Z",
     "iopub.status.busy": "2022-12-16T05:24:33.809417Z",
     "iopub.status.idle": "2022-12-16T05:24:33.819311Z",
     "shell.execute_reply": "2022-12-16T05:24:33.818645Z",
     "shell.execute_reply.started": "2022-12-16T05:24:33.809772Z"
    },
    "tags": []
   },
   "outputs": [
    {
     "data": {
      "text/plain": [
       "{'AA',\n",
       " 'AM',\n",
       " 'AN',\n",
       " 'BB',\n",
       " 'BN',\n",
       " 'CN',\n",
       " 'CV',\n",
       " 'DT',\n",
       " 'EE',\n",
       " 'EO',\n",
       " 'FM',\n",
       " 'GG',\n",
       " 'GQ',\n",
       " 'HF',\n",
       " 'HG',\n",
       " 'HN',\n",
       " 'HR',\n",
       " 'HU',\n",
       " 'IK',\n",
       " 'IL',\n",
       " 'IP',\n",
       " 'IX',\n",
       " 'JC',\n",
       " 'JQ',\n",
       " 'KA',\n",
       " 'KO',\n",
       " 'KV',\n",
       " 'LA',\n",
       " 'LI',\n",
       " 'LR',\n",
       " 'LY',\n",
       " 'MH',\n",
       " 'ML',\n",
       " 'MU',\n",
       " 'NJ',\n",
       " 'NR',\n",
       " 'NS',\n",
       " 'OJ',\n",
       " 'OL',\n",
       " 'OM',\n",
       " 'PE',\n",
       " 'PX',\n",
       " 'QF',\n",
       " 'RI',\n",
       " 'RJ',\n",
       " 'RP',\n",
       " 'SF',\n",
       " 'SU',\n",
       " 'TA',\n",
       " 'TQ',\n",
       " 'TZ',\n",
       " 'UH',\n",
       " 'UJ',\n",
       " 'UU',\n",
       " 'VH',\n",
       " 'VT',\n",
       " 'WX',\n",
       " 'XD',\n",
       " 'XG',\n",
       " 'XZ',\n",
       " 'YA',\n",
       " 'YH',\n",
       " 'YI',\n",
       " 'YN'}"
      ]
     },
     "execution_count": 97,
     "metadata": {},
     "output_type": "execute_result"
    }
   ],
   "source": [
    "names"
   ]
  },
  {
   "cell_type": "code",
   "execution_count": 98,
   "metadata": {
    "execution": {
     "iopub.execute_input": "2022-12-16T05:24:35.559011Z",
     "iopub.status.busy": "2022-12-16T05:24:35.558285Z",
     "iopub.status.idle": "2022-12-16T05:24:35.574188Z",
     "shell.execute_reply": "2022-12-16T05:24:35.573364Z",
     "shell.execute_reply.started": "2022-12-16T05:24:35.558968Z"
    },
    "tags": []
   },
   "outputs": [
    {
     "data": {
      "text/plain": [
       "['OJ',\n",
       " 'OM',\n",
       " 'MU',\n",
       " 'EO',\n",
       " 'HG',\n",
       " 'UU',\n",
       " 'HN',\n",
       " 'UJ',\n",
       " 'AM',\n",
       " 'OL',\n",
       " 'YI',\n",
       " 'EE',\n",
       " 'BB',\n",
       " 'RJ',\n",
       " 'TA',\n",
       " 'TZ',\n",
       " 'XD',\n",
       " 'HU',\n",
       " 'XG',\n",
       " 'IX',\n",
       " 'KA',\n",
       " 'ML',\n",
       " 'LA',\n",
       " 'NR',\n",
       " 'LR',\n",
       " 'GQ',\n",
       " 'PX',\n",
       " 'YH',\n",
       " 'HF',\n",
       " 'VH',\n",
       " 'AA',\n",
       " 'NJ',\n",
       " 'IK',\n",
       " 'TQ',\n",
       " 'KO',\n",
       " 'PE',\n",
       " 'YN',\n",
       " 'WX',\n",
       " 'JC',\n",
       " 'IP',\n",
       " 'MH',\n",
       " 'SF',\n",
       " 'XZ',\n",
       " 'BN',\n",
       " 'IL',\n",
       " 'LY',\n",
       " 'CV',\n",
       " 'FM',\n",
       " 'AN',\n",
       " 'RP',\n",
       " 'RI',\n",
       " 'VT',\n",
       " 'JQ',\n",
       " 'CN',\n",
       " 'HR',\n",
       " 'GG',\n",
       " 'KV',\n",
       " 'LI',\n",
       " 'DT',\n",
       " 'QF',\n",
       " 'SU',\n",
       " 'YA',\n",
       " 'NS',\n",
       " 'UH']"
      ]
     },
     "execution_count": 98,
     "metadata": {},
     "output_type": "execute_result"
    }
   ],
   "source": [
    "byrate = sorted(names, key=lambda x: rates[x])\n",
    "byrate"
   ]
  },
  {
   "cell_type": "code",
   "execution_count": 78,
   "metadata": {
    "execution": {
     "iopub.execute_input": "2022-12-16T05:21:39.708693Z",
     "iopub.status.busy": "2022-12-16T05:21:39.708116Z",
     "iopub.status.idle": "2022-12-16T05:21:44.306795Z",
     "shell.execute_reply": "2022-12-16T05:21:44.306394Z",
     "shell.execute_reply.started": "2022-12-16T05:21:39.708655Z"
    },
    "tags": []
   },
   "outputs": [
    {
     "data": {
      "application/vnd.jupyter.widget-view+json": {
       "model_id": "823afb46ee7d4d0eb677dde0ded96aa2",
       "version_major": 2,
       "version_minor": 0
      },
      "text/plain": [
       "0it [00:00, ?it/s]"
      ]
     },
     "metadata": {},
     "output_type": "display_data"
    },
    {
     "name": "stdout",
     "output_type": "stream",
     "text": [
      "625\n",
      "722\n",
      "734\n",
      "760\n",
      "781\n",
      "854\n",
      "875\n",
      "925\n",
      "953\n",
      "977\n",
      "1010\n",
      "1027\n",
      "1043\n",
      "1046\n",
      "1055\n",
      "1063\n",
      "1075\n",
      "1094\n",
      "1121\n",
      "1137\n",
      "1140\n",
      "1149\n",
      "1154\n",
      "1195\n",
      "1199\n",
      "1207\n",
      "1219\n",
      "1247\n",
      "1312\n",
      "1316\n",
      "1328\n",
      "1347\n",
      "1361\n",
      "1366\n",
      "1377\n",
      "1383\n",
      "1431\n",
      "1438\n",
      "1487\n",
      "1531\n",
      "1571\n",
      "1613\n",
      "1653\n"
     ]
    }
   ],
   "source": [
    "best = 0\n",
    "\n",
    "for order in tqdm(itertools.permutations(byrate[-10:])):\n",
    "  cur = 'AA'\n",
    "  t = 30\n",
    "  score = 0\n",
    "  \n",
    "  for i in order:\n",
    "    t -= len(paths[(cur, i)])\n",
    "    t -= 1\n",
    "    if t <= 0:\n",
    "      break\n",
    "    score += rates[i] * t\n",
    "    cur = i\n",
    "  \n",
    "  if score > best:\n",
    "    # print(order)\n",
    "    best = score\n",
    "    print(best)"
   ]
  },
  {
   "cell_type": "code",
   "execution_count": 66,
   "metadata": {
    "execution": {
     "iopub.execute_input": "2022-12-16T05:19:51.958021Z",
     "iopub.status.busy": "2022-12-16T05:19:51.957615Z",
     "iopub.status.idle": "2022-12-16T05:19:52.531871Z",
     "shell.execute_reply": "2022-12-16T05:19:52.530355Z",
     "shell.execute_reply.started": "2022-12-16T05:19:51.957998Z"
    },
    "tags": []
   },
   "outputs": [
    {
     "name": "stdout",
     "output_type": "stream",
     "text": [
      "Submitting 1653...\n"
     ]
    },
    {
     "data": {
      "text/plain": [
       "True"
      ]
     },
     "execution_count": 66,
     "metadata": {},
     "output_type": "execute_result"
    }
   ],
   "source": [
    "submit1(1653)"
   ]
  },
  {
   "cell_type": "code",
   "execution_count": 99,
   "metadata": {
    "execution": {
     "iopub.execute_input": "2022-12-16T05:24:40.281614Z",
     "iopub.status.busy": "2022-12-16T05:24:40.281058Z",
     "iopub.status.idle": "2022-12-16T09:50:09.988415Z",
     "shell.execute_reply": "2022-12-16T09:50:09.987994Z",
     "shell.execute_reply.started": "2022-12-16T05:24:40.281576Z"
    },
    "tags": []
   },
   "outputs": [
    {
     "data": {
      "application/vnd.jupyter.widget-view+json": {
       "model_id": "30a3bb7fafb148108f115542940a7f66",
       "version_major": 2,
       "version_minor": 0
      },
      "text/plain": [
       "0it [00:00, ?it/s]"
      ]
     },
     "metadata": {},
     "output_type": "display_data"
    },
    {
     "name": "stdout",
     "output_type": "stream",
     "text": [
      "862\n",
      "865\n",
      "888\n",
      "938\n",
      "959\n",
      "963\n",
      "985\n",
      "1005\n",
      "1035\n",
      "1056\n",
      "1076\n",
      "1082\n",
      "1103\n",
      "1104\n",
      "1124\n",
      "1151\n",
      "1161\n",
      "1188\n",
      "1207\n",
      "1208\n",
      "1258\n",
      "1279\n",
      "1327\n",
      "1364\n",
      "1401\n",
      "1478\n",
      "1500\n",
      "1515\n",
      "1547\n",
      "1565\n",
      "1587\n",
      "1601\n",
      "1651\n",
      "1661\n",
      "1699\n",
      "1751\n",
      "1772\n",
      "1812\n",
      "1834\n",
      "1852\n",
      "1854\n",
      "1874\n",
      "1884\n",
      "1902\n",
      "1924\n",
      "1927\n",
      "1949\n",
      "1956\n",
      "1964\n",
      "2004\n",
      "2022\n",
      "2030\n",
      "2044\n",
      "2062\n",
      "2064\n",
      "2066\n",
      "2106\n",
      "2114\n",
      "2128\n",
      "2140\n",
      "2150\n",
      "2181\n",
      "2210\n"
     ]
    }
   ],
   "source": [
    "best = 0\n",
    "\n",
    "for order in tqdm(itertools.permutations(byrate[-13:])):\n",
    "  cur1 = 'AA'\n",
    "  cur2 = 'AA'\n",
    "  score = 0\n",
    "  \n",
    "  t = 26\n",
    "  for i in order[::2]:\n",
    "    t -= len(paths[(cur1, i)])\n",
    "    t -= 1\n",
    "    if t <= 0:\n",
    "      break\n",
    "    score += rates[i] * t\n",
    "    cur1 = i\n",
    "  \n",
    "  t = 26\n",
    "  for i in order[1::2]:\n",
    "    t -= len(paths[(cur2, i)])\n",
    "    t -= 1\n",
    "    if t <= 0:\n",
    "      break\n",
    "    score += rates[i] * t\n",
    "    cur2 = i\n",
    "  \n",
    "  if score > best:\n",
    "    # print(order)\n",
    "    best = score\n",
    "    print(best)"
   ]
  },
  {
   "cell_type": "code",
   "execution_count": null,
   "metadata": {},
   "outputs": [],
   "source": [
    "submit2(best)"
   ]
  }
 ],
 "metadata": {
  "kernelspec": {
   "display_name": "Python 3 (ipykernel)",
   "language": "python",
   "name": "python3"
  },
  "language_info": {
   "codemirror_mode": {
    "name": "ipython",
    "version": 3
   },
   "file_extension": ".py",
   "mimetype": "text/x-python",
   "name": "python",
   "nbconvert_exporter": "python",
   "pygments_lexer": "ipython3",
   "version": "3.11.0"
  }
 },
 "nbformat": 4,
 "nbformat_minor": 4
}
