{
 "cells": [
  {
   "cell_type": "code",
   "execution_count": 1,
   "metadata": {
    "execution": {
     "iopub.execute_input": "2022-12-05T06:24:20.484391Z",
     "iopub.status.busy": "2022-12-05T06:24:20.484003Z",
     "iopub.status.idle": "2022-12-05T06:24:21.544532Z",
     "shell.execute_reply": "2022-12-05T06:24:21.543856Z",
     "shell.execute_reply.started": "2022-12-05T06:24:20.484323Z"
    },
    "tags": []
   },
   "outputs": [],
   "source": [
    "import numpy as np\n",
    "from numpy import *\n",
    "import matplotlib\n",
    "from matplotlib import pyplot as plt\n",
    "import requests\n",
    "import pickle\n",
    "import re\n",
    "import itertools\n",
    "import functools\n",
    "import collections\n",
    "import string\n",
    "import time\n",
    "from bs4 import BeautifulSoup\n",
    "from sortedcontainers import SortedList # http://www.grantjenks.com/docs/sortedcontainers/sortedlist.html#sortedlist\n",
    "\n",
    "from adventlib import *\n",
    "\n",
    "YEAR = 2022\n",
    "DAY = int('05')\n",
    "\n",
    "submit1, submit2 = generate_submits(YEAR, DAY)\n",
    "\n",
    "while True:\n",
    "  try:\n",
    "    raw_input = get_input(YEAR, DAY)\n",
    "    break\n",
    "  except Exception as e:\n",
    "    print(e)\n",
    "    time.sleep(1)"
   ]
  },
  {
   "cell_type": "code",
   "execution_count": 2,
   "metadata": {
    "execution": {
     "iopub.execute_input": "2022-12-05T06:24:21.547005Z",
     "iopub.status.busy": "2022-12-05T06:24:21.546220Z",
     "iopub.status.idle": "2022-12-05T06:24:21.551781Z",
     "shell.execute_reply": "2022-12-05T06:24:21.550146Z",
     "shell.execute_reply.started": "2022-12-05T06:24:21.546983Z"
    },
    "tags": []
   },
   "outputs": [],
   "source": [
    "lines, groups = linesplit(\"\"\"\n",
    "    [D]    \n",
    "[N] [C]    \n",
    "[Z] [M] [P]\n",
    " 1   2   3 \n",
    "\n",
    "move 1 from 2 to 1\n",
    "move 3 from 1 to 3\n",
    "move 2 from 2 to 1\n",
    "move 1 from 1 to 2\n",
    "\"\"\")"
   ]
  },
  {
   "cell_type": "code",
   "execution_count": 4,
   "metadata": {
    "execution": {
     "iopub.execute_input": "2022-12-05T06:24:45.780917Z",
     "iopub.status.busy": "2022-12-05T06:24:45.780602Z",
     "iopub.status.idle": "2022-12-05T06:24:45.792666Z",
     "shell.execute_reply": "2022-12-05T06:24:45.791156Z",
     "shell.execute_reply.started": "2022-12-05T06:24:45.780896Z"
    },
    "tags": []
   },
   "outputs": [
    {
     "name": "stdout",
     "output_type": "stream",
     "text": [
      "511 lines\n",
      "2 groups\n",
      ">>>\n",
      "[N]             [R]             [C]\n",
      "[T] [J]         [S] [J]         [N]\n",
      "[B] [Z]     [H] [M] [Z]         [D]\n",
      "...\n"
     ]
    }
   ],
   "source": [
    "lines, groups = linesplit(raw_input, verbose=True)"
   ]
  },
  {
   "cell_type": "code",
   "execution_count": null,
   "metadata": {},
   "outputs": [],
   "source": []
  },
  {
   "cell_type": "code",
   "execution_count": 5,
   "metadata": {
    "execution": {
     "iopub.execute_input": "2022-12-05T06:24:46.639997Z",
     "iopub.status.busy": "2022-12-05T06:24:46.639691Z",
     "iopub.status.idle": "2022-12-05T06:24:46.649058Z",
     "shell.execute_reply": "2022-12-05T06:24:46.647841Z",
     "shell.execute_reply.started": "2022-12-05T06:24:46.639976Z"
    },
    "tags": []
   },
   "outputs": [
    {
     "data": {
      "text/plain": [
       "array([['R', 'G', 'H', 'Q', 'S', 'B', 'T', 'N'],\n",
       "       ['H', 'S', 'F', 'D', 'P', 'Z', 'J', ' '],\n",
       "       ['Z', 'H', 'V', ' ', ' ', ' ', ' ', ' '],\n",
       "       ['M', 'Z', 'J', 'F', 'G', 'H', ' ', ' '],\n",
       "       ['T', 'Z', 'C', 'D', 'L', 'M', 'S', 'R'],\n",
       "       ['M', 'T', 'W', 'V', 'H', 'Z', 'J', ' '],\n",
       "       ['T', 'F', 'P', 'L', 'Z', ' ', ' ', ' '],\n",
       "       ['Q', 'V', 'W', 'S', ' ', ' ', ' ', ' '],\n",
       "       ['W', 'H', 'L', 'M', 'T', 'D', 'N', 'C']], dtype='<U1')"
      ]
     },
     "execution_count": 5,
     "metadata": {},
     "output_type": "execute_result"
    }
   ],
   "source": [
    "np.fliplr(å(groups[0][:-1], list, array).T[1::4])"
   ]
  },
  {
   "cell_type": "code",
   "execution_count": 6,
   "metadata": {
    "execution": {
     "iopub.execute_input": "2022-12-05T06:24:47.786663Z",
     "iopub.status.busy": "2022-12-05T06:24:47.786343Z",
     "iopub.status.idle": "2022-12-05T06:24:47.808326Z",
     "shell.execute_reply": "2022-12-05T06:24:47.807728Z",
     "shell.execute_reply.started": "2022-12-05T06:24:47.786642Z"
    },
    "tags": []
   },
   "outputs": [
    {
     "data": {
      "text/plain": [
       "[['P', 'D', 'P'],\n",
       " ['B', 'N', 'R', 'H', 'J', 'T', 'Q', 'M', 'T'],\n",
       " ['S', 'W'],\n",
       " ['H', 'V', 'F', 'W', 'M', 'D', 'L', 'S', 'T', 'Z', 'L'],\n",
       " ['C', 'G', 'Q', 'H', 'F', 'F', 'T'],\n",
       " ['N', 'M', 'Z', 'H', 'Z', 'Z', 'D'],\n",
       " ['S'],\n",
       " ['J'],\n",
       " ['Z', 'M', 'C', 'H', 'V', 'L', 'Z', 'G', 'J', 'S', 'W', 'H', 'T', 'R', 'V']]"
      ]
     },
     "execution_count": 6,
     "metadata": {},
     "output_type": "execute_result"
    }
   ],
   "source": [
    "a = groups[0][:-1]\n",
    "b = groups[1]\n",
    "\n",
    "stacks = [[] for i in range(9)]\n",
    "\n",
    "for i in a:\n",
    "  for j in range(1, len(i), 4):\n",
    "    if i[j] != ' ':\n",
    "      stacks[j // 4].append(i[j])\n",
    "      \n",
    "      \n",
    "for i in range(len(stacks)):\n",
    "  stacks[i] = stacks[i][::-1]\n",
    "  \n",
    "# stacks\n",
    "\n",
    "for i in b:\n",
    "  m = re.findall(r'\\d+', i)\n",
    "  count, fr, to = amap(int, m)\n",
    "  fr -= 1\n",
    "  to -= 1\n",
    "  \n",
    "  for j in range(count):\n",
    "    stacks[to].append(stacks[fr][-1])\n",
    "    stacks[fr] = stacks[fr][:-1]\n",
    "\n",
    "stacks"
   ]
  },
  {
   "cell_type": "code",
   "execution_count": 22,
   "metadata": {
    "execution": {
     "iopub.execute_input": "2022-12-05T05:06:30.671919Z",
     "iopub.status.busy": "2022-12-05T05:06:30.671412Z",
     "iopub.status.idle": "2022-12-05T05:06:31.221546Z",
     "shell.execute_reply": "2022-12-05T05:06:31.220416Z",
     "shell.execute_reply.started": "2022-12-05T05:06:30.671899Z"
    },
    "tags": []
   },
   "outputs": [
    {
     "name": "stdout",
     "output_type": "stream",
     "text": [
      "Submitting PTWLTDSJV...\n"
     ]
    },
    {
     "data": {
      "text/plain": [
       "True"
      ]
     },
     "execution_count": 22,
     "metadata": {},
     "output_type": "execute_result"
    }
   ],
   "source": [
    "submit1('PTWLTDSJV')"
   ]
  },
  {
   "cell_type": "code",
   "execution_count": 7,
   "metadata": {
    "execution": {
     "iopub.execute_input": "2022-12-05T06:24:56.599050Z",
     "iopub.status.busy": "2022-12-05T06:24:56.598667Z",
     "iopub.status.idle": "2022-12-05T06:24:56.619929Z",
     "shell.execute_reply": "2022-12-05T06:24:56.619620Z",
     "shell.execute_reply.started": "2022-12-05T06:24:56.599027Z"
    },
    "tags": []
   },
   "outputs": [
    {
     "data": {
      "text/plain": [
       "[['V', 'D', 'W'],\n",
       " ['Z', 'D', 'H', 'M', 'L', 'S', 'J', 'W', 'Z'],\n",
       " ['S', 'M'],\n",
       " ['H', 'F', 'R', 'N', 'Z', 'S', 'F', 'M', 'M', 'J', 'F'],\n",
       " ['R', 'D', 'T', 'H', 'H', 'T', 'V'],\n",
       " ['S', 'N', 'H', 'T', 'Z', 'T', 'G'],\n",
       " ['G'],\n",
       " ['Z'],\n",
       " ['Z', 'W', 'T', 'C', 'Q', 'C', 'Q', 'H', 'P', 'J', 'L', 'L', 'B', 'V', 'P']]"
      ]
     },
     "execution_count": 7,
     "metadata": {},
     "output_type": "execute_result"
    }
   ],
   "source": [
    "a = groups[0][:-1]\n",
    "b = groups[1]\n",
    "\n",
    "stacks = [[] for i in range(9)]\n",
    "\n",
    "for i in a:\n",
    "  for j in range(1, len(i), 4):\n",
    "    if i[j] != ' ':\n",
    "      stacks[j // 4].append(i[j])\n",
    "      \n",
    "      \n",
    "for i in range(len(stacks)):\n",
    "  stacks[i] = stacks[i][::-1]\n",
    "  \n",
    "# stacks\n",
    "\n",
    "for i in b:\n",
    "  m = re.findall(r'\\d+', i)\n",
    "  count, fr, to = amap(int, m)\n",
    "  fr -= 1\n",
    "  to -= 1\n",
    "  \n",
    "  stacks[to] += stacks[fr][-count:]\n",
    "  stacks[fr] = stacks[fr][:-count]\n",
    "\n",
    "stacks"
   ]
  },
  {
   "cell_type": "code",
   "execution_count": 8,
   "metadata": {
    "execution": {
     "iopub.execute_input": "2022-12-05T06:24:59.128552Z",
     "iopub.status.busy": "2022-12-05T06:24:59.128185Z",
     "iopub.status.idle": "2022-12-05T06:24:59.138052Z",
     "shell.execute_reply": "2022-12-05T06:24:59.136707Z",
     "shell.execute_reply.started": "2022-12-05T06:24:59.128531Z"
    },
    "tags": []
   },
   "outputs": [
    {
     "data": {
      "text/plain": [
       "'WZMFVGGZP'"
      ]
     },
     "execution_count": 8,
     "metadata": {},
     "output_type": "execute_result"
    }
   ],
   "source": [
    "''.join(i[-1] for i in stacks)"
   ]
  },
  {
   "cell_type": "code",
   "execution_count": 25,
   "metadata": {
    "execution": {
     "iopub.execute_input": "2022-12-05T05:07:35.738220Z",
     "iopub.status.busy": "2022-12-05T05:07:35.737628Z",
     "iopub.status.idle": "2022-12-05T05:07:36.212983Z",
     "shell.execute_reply": "2022-12-05T05:07:36.211701Z",
     "shell.execute_reply.started": "2022-12-05T05:07:35.738194Z"
    },
    "tags": []
   },
   "outputs": [
    {
     "name": "stdout",
     "output_type": "stream",
     "text": [
      "Submitting WZMFVGGZP...\n"
     ]
    },
    {
     "data": {
      "text/plain": [
       "True"
      ]
     },
     "execution_count": 25,
     "metadata": {},
     "output_type": "execute_result"
    }
   ],
   "source": [
    "submit2(_)"
   ]
  }
 ],
 "metadata": {
  "kernelspec": {
   "display_name": "Python 3 (ipykernel)",
   "language": "python",
   "name": "python3"
  },
  "language_info": {
   "codemirror_mode": {
    "name": "ipython",
    "version": 3
   },
   "file_extension": ".py",
   "mimetype": "text/x-python",
   "name": "python",
   "nbconvert_exporter": "python",
   "pygments_lexer": "ipython3",
   "version": "3.11.0"
  }
 },
 "nbformat": 4,
 "nbformat_minor": 4
}
