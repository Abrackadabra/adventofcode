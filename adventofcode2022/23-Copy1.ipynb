{
 "cells": [
  {
   "cell_type": "code",
   "execution_count": 1,
   "metadata": {
    "execution": {
     "iopub.execute_input": "2022-12-23T20:53:13.965724Z",
     "iopub.status.busy": "2022-12-23T20:53:13.965332Z",
     "iopub.status.idle": "2022-12-23T20:53:15.011694Z",
     "shell.execute_reply": "2022-12-23T20:53:15.010861Z",
     "shell.execute_reply.started": "2022-12-23T20:53:13.965647Z"
    },
    "tags": []
   },
   "outputs": [],
   "source": [
    "import numpy as np\n",
    "from numpy import *\n",
    "import matplotlib\n",
    "from matplotlib import pyplot as plt\n",
    "from tqdm.auto import tqdm\n",
    "import requests\n",
    "import pickle\n",
    "import re\n",
    "import itertools\n",
    "import functools\n",
    "import collections\n",
    "import string\n",
    "import time\n",
    "from bs4 import BeautifulSoup\n",
    "from sortedcontainers import SortedList # http://www.grantjenks.com/docs/sortedcontainers/sortedlist.html#sortedlist\n",
    "\n",
    "import multiprocess\n",
    "# with multiprocess.Pool(processes=8) as pool:\n",
    "#   for i in pool.imap_unordered(f, a):\n",
    "#     print(i)\n",
    "\n",
    "from adventlib.common import *\n",
    "# n, m, a = lines_as_matrix_nm(lines)\n",
    "# a = lines_as_matrix(lines)\n",
    "# a = lines_as_digit_matrix(lines)\n",
    "# chunks = split_iter_by_start_indices(a, indices)\n",
    "# chunks = split_iter_by_bools(a, bools)\n",
    "\n",
    "from adventlib.point_2d import *\n",
    "# from adventlib.point_3d import *\n",
    "\n",
    "YEAR = 2022\n",
    "DAY = int('23')\n",
    "\n",
    "submit1, submit2 = generate_submits(YEAR, DAY)\n",
    "\n",
    "while True:\n",
    "  try:\n",
    "    raw_input = get_input(YEAR, DAY)\n",
    "    break\n",
    "  except Exception as e:\n",
    "    print(e)\n",
    "    time.sleep(1)"
   ]
  },
  {
   "cell_type": "code",
   "execution_count": 3,
   "metadata": {
    "execution": {
     "iopub.execute_input": "2022-12-23T20:54:24.789529Z",
     "iopub.status.busy": "2022-12-23T20:54:24.788666Z",
     "iopub.status.idle": "2022-12-23T20:54:24.809937Z",
     "shell.execute_reply": "2022-12-23T20:54:24.809436Z",
     "shell.execute_reply.started": "2022-12-23T20:54:24.789504Z"
    },
    "tags": []
   },
   "outputs": [
    {
     "data": {
      "text/plain": [
       "['a', 'b', '  c']"
      ]
     },
     "execution_count": 3,
     "metadata": {},
     "output_type": "execute_result"
    }
   ],
   "source": [
    "lines, groups = linesplit(\"\"\"\n",
    "  a\n",
    "b\n",
    "  c\n",
    "\"\"\".strip())\n",
    "lines"
   ]
  },
  {
   "cell_type": "code",
   "execution_count": 5,
   "metadata": {
    "execution": {
     "iopub.execute_input": "2022-12-23T20:55:02.940995Z",
     "iopub.status.busy": "2022-12-23T20:55:02.940214Z",
     "iopub.status.idle": "2022-12-23T20:55:02.956701Z",
     "shell.execute_reply": "2022-12-23T20:55:02.955831Z",
     "shell.execute_reply.started": "2022-12-23T20:55:02.940970Z"
    },
    "tags": []
   },
   "outputs": [
    {
     "data": {
      "text/plain": [
       "['', '  a', 'b', '  c', '']"
      ]
     },
     "execution_count": 5,
     "metadata": {},
     "output_type": "execute_result"
    }
   ],
   "source": [
    "\"\"\"\n",
    "  a\n",
    "b\n",
    "  c\n",
    "\"\"\".split('\\n')"
   ]
  }
 ],
 "metadata": {
  "kernelspec": {
   "display_name": "Python 3 (ipykernel)",
   "language": "python",
   "name": "python3"
  },
  "language_info": {
   "codemirror_mode": {
    "name": "ipython",
    "version": 3
   },
   "file_extension": ".py",
   "mimetype": "text/x-python",
   "name": "python",
   "nbconvert_exporter": "python",
   "pygments_lexer": "ipython3",
   "version": "3.11.0"
  }
 },
 "nbformat": 4,
 "nbformat_minor": 4
}
