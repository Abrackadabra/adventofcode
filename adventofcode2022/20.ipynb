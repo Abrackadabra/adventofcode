{
 "cells": [
  {
   "cell_type": "code",
   "execution_count": 1,
   "metadata": {
    "execution": {
     "iopub.execute_input": "2022-12-20T05:01:15.121694Z",
     "iopub.status.busy": "2022-12-20T05:01:15.118759Z",
     "iopub.status.idle": "2022-12-20T05:01:16.134403Z",
     "shell.execute_reply": "2022-12-20T05:01:16.133630Z",
     "shell.execute_reply.started": "2022-12-20T05:01:15.121315Z"
    }
   },
   "outputs": [],
   "source": [
    "import numpy as np\n",
    "from numpy import *\n",
    "import matplotlib\n",
    "from matplotlib import pyplot as plt\n",
    "from tqdm.auto import tqdm\n",
    "import requests\n",
    "import pickle\n",
    "import re\n",
    "import itertools\n",
    "import functools\n",
    "import collections\n",
    "import string\n",
    "import time\n",
    "from bs4 import BeautifulSoup\n",
    "from sortedcontainers import SortedList # http://www.grantjenks.com/docs/sortedcontainers/sortedlist.html#sortedlist\n",
    "\n",
    "import multiprocess\n",
    "# with multiprocess.Pool(processes=8) as pool:\n",
    "#   for i in pool.imap_unordered(f, a):\n",
    "#     print(i)\n",
    "\n",
    "from adventlib.common import *\n",
    "# n, m, a = lines_as_matrix_nm(lines)\n",
    "# a = lines_as_matrix(lines)\n",
    "# a = lines_as_digit_matrix(lines)\n",
    "# chunks = split_iter_by_start_indices(a, indices)\n",
    "# chunks = split_iter_by_bools(a, bools)\n",
    "\n",
    "# from adventlib.point_2d import *\n",
    "# from adventlib.point_3d import *\n",
    "\n",
    "YEAR = 2022\n",
    "DAY = int('20')\n",
    "\n",
    "submit1, submit2 = generate_submits(YEAR, DAY)\n",
    "\n",
    "while True:\n",
    "  try:\n",
    "    raw_input = get_input(YEAR, DAY)\n",
    "    break\n",
    "  except Exception as e:\n",
    "    print(e)\n",
    "    time.sleep(1)"
   ]
  },
  {
   "cell_type": "code",
   "execution_count": 81,
   "metadata": {
    "execution": {
     "iopub.execute_input": "2022-12-20T05:33:32.836434Z",
     "iopub.status.busy": "2022-12-20T05:33:32.836102Z",
     "iopub.status.idle": "2022-12-20T05:33:32.842496Z",
     "shell.execute_reply": "2022-12-20T05:33:32.840183Z",
     "shell.execute_reply.started": "2022-12-20T05:33:32.836414Z"
    },
    "tags": []
   },
   "outputs": [],
   "source": [
    "lines, groups = linesplit(\"\"\"\n",
    "1\n",
    "2\n",
    "-3\n",
    "3\n",
    "-2\n",
    "0\n",
    "4\n",
    "\"\"\".strip())"
   ]
  },
  {
   "cell_type": "code",
   "execution_count": 89,
   "metadata": {
    "execution": {
     "iopub.execute_input": "2022-12-20T05:34:44.639489Z",
     "iopub.status.busy": "2022-12-20T05:34:44.639163Z",
     "iopub.status.idle": "2022-12-20T05:34:44.654950Z",
     "shell.execute_reply": "2022-12-20T05:34:44.653945Z",
     "shell.execute_reply.started": "2022-12-20T05:34:44.639467Z"
    },
    "tags": []
   },
   "outputs": [
    {
     "name": "stdout",
     "output_type": "stream",
     "text": [
      "5000 lines\n",
      "1 groups\n",
      ">>>\n",
      "-2446\n",
      "159\n",
      "2372\n",
      "...\n"
     ]
    }
   ],
   "source": [
    "lines, groups = linesplit(raw_input, verbose=True)"
   ]
  },
  {
   "cell_type": "code",
   "execution_count": 90,
   "metadata": {
    "execution": {
     "iopub.execute_input": "2022-12-20T05:34:44.811673Z",
     "iopub.status.busy": "2022-12-20T05:34:44.811368Z",
     "iopub.status.idle": "2022-12-20T05:34:44.820144Z",
     "shell.execute_reply": "2022-12-20T05:34:44.819179Z",
     "shell.execute_reply.started": "2022-12-20T05:34:44.811654Z"
    },
    "tags": []
   },
   "outputs": [],
   "source": [
    "a = amap(int, lines)"
   ]
  },
  {
   "cell_type": "code",
   "execution_count": 75,
   "metadata": {
    "execution": {
     "iopub.execute_input": "2022-12-20T05:32:58.918379Z",
     "iopub.status.busy": "2022-12-20T05:32:58.918066Z",
     "iopub.status.idle": "2022-12-20T05:32:59.280179Z",
     "shell.execute_reply": "2022-12-20T05:32:59.279893Z",
     "shell.execute_reply.started": "2022-12-20T05:32:58.918360Z"
    },
    "tags": []
   },
   "outputs": [],
   "source": [
    "A = c_[a[:, np.newaxis], np.arange(len(a))[:, np.newaxis]]\n",
    "\n",
    "n = len(a)\n",
    "\n",
    "for i in range(len(a)):\n",
    "  delta = A[i, 0]\n",
    "  if delta > 0:\n",
    "    delta = delta % (n - 1)\n",
    "    A[:, 1] = (A[:, 1] + n - A[i, 1]) % n\n",
    "  elif delta < 0:\n",
    "    delta = -(-delta % (n - 1))\n",
    "    A[:, 1] = (A[:, 1] + n - A[i, 1] - 1 + n) % n\n",
    "  \n",
    "  pos = A[i, 1]\n",
    "  newpos = ((pos + delta + n) % n + n) % n\n",
    "  # print(A[i, 0], pos, newpos, A)\n",
    "  \n",
    "  if pos == newpos:\n",
    "    continue\n",
    "  \n",
    "  if newpos > pos:\n",
    "    A[logical_and(A[:, 1] > pos, A[:, 1] <= newpos), 1] -= 1\n",
    "  \n",
    "  if newpos < pos:\n",
    "    A[logical_and(A[:, 1] < pos, A[:, 1] >= newpos), 1] += 1\n",
    "  \n",
    "  A[i, 1] = newpos\n",
    "  \n",
    "#   b = []\n",
    "#   for i in argsort(A[:, 1]):\n",
    "#     b.append(A[i, 0])\n",
    "#   b = np.array(b, dtype=int)\n",
    "#   b\n",
    "  \n",
    "#   print('fin', A, b)"
   ]
  },
  {
   "cell_type": "code",
   "execution_count": 76,
   "metadata": {
    "execution": {
     "iopub.execute_input": "2022-12-20T05:33:00.921032Z",
     "iopub.status.busy": "2022-12-20T05:33:00.920046Z",
     "iopub.status.idle": "2022-12-20T05:33:00.934436Z",
     "shell.execute_reply": "2022-12-20T05:33:00.933782Z",
     "shell.execute_reply.started": "2022-12-20T05:33:00.921008Z"
    },
    "tags": []
   },
   "outputs": [
    {
     "data": {
      "text/plain": [
       "array([ -332, -4961,  6583, ..., -8062,  3081, -5155])"
      ]
     },
     "execution_count": 76,
     "metadata": {},
     "output_type": "execute_result"
    }
   ],
   "source": [
    "b = []\n",
    "for i in argsort(A[:, 1]):\n",
    "  b.append(A[i, 0])\n",
    "b = np.array(b, dtype=int)\n",
    "b"
   ]
  },
  {
   "cell_type": "code",
   "execution_count": 77,
   "metadata": {
    "execution": {
     "iopub.execute_input": "2022-12-20T05:33:01.094183Z",
     "iopub.status.busy": "2022-12-20T05:33:01.093217Z",
     "iopub.status.idle": "2022-12-20T05:33:01.105082Z",
     "shell.execute_reply": "2022-12-20T05:33:01.104004Z",
     "shell.execute_reply.started": "2022-12-20T05:33:01.094139Z"
    },
    "tags": []
   },
   "outputs": [
    {
     "data": {
      "text/plain": [
       "704"
      ]
     },
     "execution_count": 77,
     "metadata": {},
     "output_type": "execute_result"
    }
   ],
   "source": [
    "i = where(b == 0)[0][0]\n",
    "i"
   ]
  },
  {
   "cell_type": "code",
   "execution_count": 78,
   "metadata": {
    "execution": {
     "iopub.execute_input": "2022-12-20T05:33:02.294257Z",
     "iopub.status.busy": "2022-12-20T05:33:02.293558Z",
     "iopub.status.idle": "2022-12-20T05:33:02.299891Z",
     "shell.execute_reply": "2022-12-20T05:33:02.299321Z",
     "shell.execute_reply.started": "2022-12-20T05:33:02.294235Z"
    },
    "tags": []
   },
   "outputs": [
    {
     "data": {
      "text/plain": [
       "array([ 8370, -8315,  4859])"
      ]
     },
     "execution_count": 78,
     "metadata": {},
     "output_type": "execute_result"
    }
   ],
   "source": [
    "b[(i + arange(1000, 4000, 1000)) % n]"
   ]
  },
  {
   "cell_type": "code",
   "execution_count": 79,
   "metadata": {
    "execution": {
     "iopub.execute_input": "2022-12-20T05:33:02.817562Z",
     "iopub.status.busy": "2022-12-20T05:33:02.817073Z",
     "iopub.status.idle": "2022-12-20T05:33:02.824936Z",
     "shell.execute_reply": "2022-12-20T05:33:02.824231Z",
     "shell.execute_reply.started": "2022-12-20T05:33:02.817541Z"
    },
    "tags": []
   },
   "outputs": [
    {
     "data": {
      "text/plain": [
       "4914"
      ]
     },
     "execution_count": 79,
     "metadata": {},
     "output_type": "execute_result"
    }
   ],
   "source": [
    "sum(_)"
   ]
  },
  {
   "cell_type": "code",
   "execution_count": 80,
   "metadata": {
    "execution": {
     "iopub.execute_input": "2022-12-20T05:33:04.365811Z",
     "iopub.status.busy": "2022-12-20T05:33:04.365293Z",
     "iopub.status.idle": "2022-12-20T05:33:04.920785Z",
     "shell.execute_reply": "2022-12-20T05:33:04.919267Z",
     "shell.execute_reply.started": "2022-12-20T05:33:04.365789Z"
    },
    "tags": []
   },
   "outputs": [
    {
     "name": "stdout",
     "output_type": "stream",
     "text": [
      "Submitting 4914...\n"
     ]
    },
    {
     "data": {
      "text/plain": [
       "True"
      ]
     },
     "execution_count": 80,
     "metadata": {},
     "output_type": "execute_result"
    }
   ],
   "source": [
    "submit1(sum(_))"
   ]
  },
  {
   "cell_type": "code",
   "execution_count": 52,
   "metadata": {
    "execution": {
     "iopub.execute_input": "2022-12-20T05:25:32.582543Z",
     "iopub.status.busy": "2022-12-20T05:25:32.582237Z",
     "iopub.status.idle": "2022-12-20T05:25:32.589303Z",
     "shell.execute_reply": "2022-12-20T05:25:32.588763Z",
     "shell.execute_reply.started": "2022-12-20T05:25:32.582523Z"
    },
    "tags": []
   },
   "outputs": [
    {
     "data": {
      "text/plain": [
       "{(2022, 20, 1, 757): False}"
      ]
     },
     "execution_count": 52,
     "metadata": {},
     "output_type": "execute_result"
    }
   ],
   "source": [
    "SUBMITTED_ANSWERS"
   ]
  },
  {
   "cell_type": "code",
   "execution_count": null,
   "metadata": {},
   "outputs": [],
   "source": []
  },
  {
   "cell_type": "code",
   "execution_count": null,
   "metadata": {},
   "outputs": [],
   "source": []
  },
  {
   "cell_type": "code",
   "execution_count": 91,
   "metadata": {
    "execution": {
     "iopub.execute_input": "2022-12-20T05:34:46.832279Z",
     "iopub.status.busy": "2022-12-20T05:34:46.831739Z",
     "iopub.status.idle": "2022-12-20T05:34:50.585081Z",
     "shell.execute_reply": "2022-12-20T05:34:50.584657Z",
     "shell.execute_reply.started": "2022-12-20T05:34:46.832243Z"
    },
    "tags": []
   },
   "outputs": [],
   "source": [
    "A = c_[a[:, np.newaxis], np.arange(len(a))[:, np.newaxis]]\n",
    "A[:, 0] *= 811589153\n",
    "\n",
    "n = len(a)\n",
    "\n",
    "for it in range(10):\n",
    "  for i in range(len(a)):\n",
    "    delta = A[i, 0]\n",
    "    if delta > 0:\n",
    "      delta = delta % (n - 1)\n",
    "      A[:, 1] = (A[:, 1] + n - A[i, 1]) % n\n",
    "    elif delta < 0:\n",
    "      delta = -(-delta % (n - 1))\n",
    "      A[:, 1] = (A[:, 1] + n - A[i, 1] - 1 + n) % n\n",
    "\n",
    "    pos = A[i, 1]\n",
    "    newpos = ((pos + delta + n) % n + n) % n\n",
    "    # print(A[i, 0], pos, newpos, A)\n",
    "\n",
    "    if pos == newpos:\n",
    "      continue\n",
    "\n",
    "    if newpos > pos:\n",
    "      A[logical_and(A[:, 1] > pos, A[:, 1] <= newpos), 1] -= 1\n",
    "\n",
    "    if newpos < pos:\n",
    "      A[logical_and(A[:, 1] < pos, A[:, 1] >= newpos), 1] += 1\n",
    "\n",
    "    A[i, 1] = newpos\n",
    "  \n",
    "#   b = []\n",
    "#   for i in argsort(A[:, 1]):\n",
    "#     b.append(A[i, 0])\n",
    "#   b = np.array(b, dtype=int)\n",
    "#   b\n",
    "  \n",
    "#   print('fin', A, b)"
   ]
  },
  {
   "cell_type": "code",
   "execution_count": 92,
   "metadata": {
    "execution": {
     "iopub.execute_input": "2022-12-20T05:34:50.586126Z",
     "iopub.status.busy": "2022-12-20T05:34:50.586002Z",
     "iopub.status.idle": "2022-12-20T05:34:50.590366Z",
     "shell.execute_reply": "2022-12-20T05:34:50.589672Z",
     "shell.execute_reply.started": "2022-12-20T05:34:50.586118Z"
    },
    "tags": []
   },
   "outputs": [
    {
     "data": {
      "text/plain": [
       "array([ 7056767685335, -5147909997479,  4867911739694, ...,\n",
       "        3431398938884,  7300244431235, -7236128888148])"
      ]
     },
     "execution_count": 92,
     "metadata": {},
     "output_type": "execute_result"
    }
   ],
   "source": [
    "b = []\n",
    "for i in argsort(A[:, 1]):\n",
    "  b.append(A[i, 0])\n",
    "b = np.array(b, dtype=int)\n",
    "b"
   ]
  },
  {
   "cell_type": "code",
   "execution_count": 93,
   "metadata": {
    "execution": {
     "iopub.execute_input": "2022-12-20T05:34:50.591014Z",
     "iopub.status.busy": "2022-12-20T05:34:50.590914Z",
     "iopub.status.idle": "2022-12-20T05:34:50.593980Z",
     "shell.execute_reply": "2022-12-20T05:34:50.593503Z",
     "shell.execute_reply.started": "2022-12-20T05:34:50.591006Z"
    },
    "tags": []
   },
   "outputs": [
    {
     "data": {
      "text/plain": [
       "4365"
      ]
     },
     "execution_count": 93,
     "metadata": {},
     "output_type": "execute_result"
    }
   ],
   "source": [
    "i = where(b == 0)[0][0]\n",
    "i"
   ]
  },
  {
   "cell_type": "code",
   "execution_count": 94,
   "metadata": {
    "execution": {
     "iopub.execute_input": "2022-12-20T05:34:50.595237Z",
     "iopub.status.busy": "2022-12-20T05:34:50.595103Z",
     "iopub.status.idle": "2022-12-20T05:34:50.597856Z",
     "shell.execute_reply": "2022-12-20T05:34:50.597485Z",
     "shell.execute_reply.started": "2022-12-20T05:34:50.595222Z"
    },
    "tags": []
   },
   "outputs": [
    {
     "data": {
      "text/plain": [
       "array([ 5205532827342, -4838694530186,  7606213541916])"
      ]
     },
     "execution_count": 94,
     "metadata": {},
     "output_type": "execute_result"
    }
   ],
   "source": [
    "b[(i + arange(1000, 4000, 1000)) % n]"
   ]
  },
  {
   "cell_type": "code",
   "execution_count": 95,
   "metadata": {
    "execution": {
     "iopub.execute_input": "2022-12-20T05:34:50.598525Z",
     "iopub.status.busy": "2022-12-20T05:34:50.598357Z",
     "iopub.status.idle": "2022-12-20T05:34:50.601434Z",
     "shell.execute_reply": "2022-12-20T05:34:50.600988Z",
     "shell.execute_reply.started": "2022-12-20T05:34:50.598516Z"
    },
    "tags": []
   },
   "outputs": [
    {
     "data": {
      "text/plain": [
       "7973051839072"
      ]
     },
     "execution_count": 95,
     "metadata": {},
     "output_type": "execute_result"
    }
   ],
   "source": [
    "sum(_)"
   ]
  },
  {
   "cell_type": "code",
   "execution_count": 96,
   "metadata": {
    "execution": {
     "iopub.execute_input": "2022-12-20T05:34:51.444621Z",
     "iopub.status.busy": "2022-12-20T05:34:51.444069Z",
     "iopub.status.idle": "2022-12-20T05:34:52.024271Z",
     "shell.execute_reply": "2022-12-20T05:34:52.022049Z",
     "shell.execute_reply.started": "2022-12-20T05:34:51.444600Z"
    },
    "tags": []
   },
   "outputs": [
    {
     "name": "stdout",
     "output_type": "stream",
     "text": [
      "Submitting 7973051839072...\n"
     ]
    },
    {
     "data": {
      "text/plain": [
       "True"
      ]
     },
     "execution_count": 96,
     "metadata": {},
     "output_type": "execute_result"
    }
   ],
   "source": [
    "submit2(_)"
   ]
  }
 ],
 "metadata": {
  "kernelspec": {
   "display_name": "Python 3 (ipykernel)",
   "language": "python",
   "name": "python3"
  },
  "language_info": {
   "codemirror_mode": {
    "name": "ipython",
    "version": 3
   },
   "file_extension": ".py",
   "mimetype": "text/x-python",
   "name": "python",
   "nbconvert_exporter": "python",
   "pygments_lexer": "ipython3",
   "version": "3.11.0"
  }
 },
 "nbformat": 4,
 "nbformat_minor": 4
}
