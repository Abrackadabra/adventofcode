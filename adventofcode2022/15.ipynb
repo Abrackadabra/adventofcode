{
 "cells": [
  {
   "cell_type": "code",
   "execution_count": 1,
   "metadata": {
    "execution": {
     "iopub.execute_input": "2022-12-15T05:06:00.243895Z",
     "iopub.status.busy": "2022-12-15T05:06:00.243395Z",
     "iopub.status.idle": "2022-12-15T05:06:01.164362Z",
     "shell.execute_reply": "2022-12-15T05:06:01.163764Z",
     "shell.execute_reply.started": "2022-12-15T05:06:00.243807Z"
    },
    "tags": []
   },
   "outputs": [],
   "source": [
    "import numpy as np\n",
    "from numpy import *\n",
    "import matplotlib\n",
    "from matplotlib import pyplot as plt\n",
    "from tqdm.auto import tqdm\n",
    "import requests\n",
    "import pickle\n",
    "import re\n",
    "import itertools\n",
    "import functools\n",
    "import collections\n",
    "import string\n",
    "import time\n",
    "from bs4 import BeautifulSoup\n",
    "from sortedcontainers import SortedList # http://www.grantjenks.com/docs/sortedcontainers/sortedlist.html#sortedlist\n",
    "\n",
    "from adventlib.common import *\n",
    "# n, m, a = lines_as_matrix_nm(lines)\n",
    "# a = lines_as_matrix(lines)\n",
    "# a = lines_as_digit_matrix(lines)\n",
    "# chunks = split_iter_by_start_indices(a, indices)\n",
    "# chunks = split_iter_by_bools(a, bools)\n",
    "\n",
    "from adventlib.point_2d import *\n",
    "# from adventlib.point_3d import *\n",
    "\n",
    "YEAR = 2022\n",
    "DAY = int('15')\n",
    "\n",
    "submit1, submit2 = generate_submits(YEAR, DAY)\n",
    "\n",
    "while True:\n",
    "  try:\n",
    "    raw_input = get_input(YEAR, DAY)\n",
    "    break\n",
    "  except Exception as e:\n",
    "    print(e)\n",
    "    time.sleep(1)"
   ]
  },
  {
   "cell_type": "code",
   "execution_count": 35,
   "metadata": {
    "execution": {
     "iopub.execute_input": "2022-12-15T05:18:10.269168Z",
     "iopub.status.busy": "2022-12-15T05:18:10.268693Z",
     "iopub.status.idle": "2022-12-15T05:18:10.276002Z",
     "shell.execute_reply": "2022-12-15T05:18:10.274771Z",
     "shell.execute_reply.started": "2022-12-15T05:18:10.269145Z"
    },
    "tags": []
   },
   "outputs": [],
   "source": [
    "lines, groups = linesplit(\"\"\"\n",
    "Sensor at x=2, y=18: closest beacon is at x=-2, y=15\n",
    "Sensor at x=9, y=16: closest beacon is at x=10, y=16\n",
    "Sensor at x=13, y=2: closest beacon is at x=15, y=3\n",
    "Sensor at x=12, y=14: closest beacon is at x=10, y=16\n",
    "Sensor at x=10, y=20: closest beacon is at x=10, y=16\n",
    "Sensor at x=14, y=17: closest beacon is at x=10, y=16\n",
    "Sensor at x=8, y=7: closest beacon is at x=2, y=10\n",
    "Sensor at x=2, y=0: closest beacon is at x=2, y=10\n",
    "Sensor at x=0, y=11: closest beacon is at x=2, y=10\n",
    "Sensor at x=20, y=14: closest beacon is at x=25, y=17\n",
    "Sensor at x=17, y=20: closest beacon is at x=21, y=22\n",
    "Sensor at x=16, y=7: closest beacon is at x=15, y=3\n",
    "Sensor at x=14, y=3: closest beacon is at x=15, y=3\n",
    "Sensor at x=20, y=1: closest beacon is at x=15, y=3\n",
    "\"\"\".strip())\n",
    "\n",
    "Y = 10"
   ]
  },
  {
   "cell_type": "code",
   "execution_count": 41,
   "metadata": {
    "execution": {
     "iopub.execute_input": "2022-12-15T05:18:38.976525Z",
     "iopub.status.busy": "2022-12-15T05:18:38.976005Z",
     "iopub.status.idle": "2022-12-15T05:18:38.988144Z",
     "shell.execute_reply": "2022-12-15T05:18:38.986858Z",
     "shell.execute_reply.started": "2022-12-15T05:18:38.976489Z"
    },
    "tags": []
   },
   "outputs": [
    {
     "name": "stdout",
     "output_type": "stream",
     "text": [
      "32 lines\n",
      "1 groups\n",
      ">>>\n",
      "Sensor at x=2662540, y=1992627: closest beacon is at x=1562171, y=2000000\n",
      "Sensor at x=3577947, y=3994226: closest beacon is at x=3468220, y=3832344\n",
      "Sensor at x=34015, y=3658022: closest beacon is at x=-48386, y=3887238\n",
      "...\n"
     ]
    }
   ],
   "source": [
    "lines, groups = linesplit(raw_input, verbose=True)\n",
    "\n",
    "Y = 2000000"
   ]
  },
  {
   "cell_type": "code",
   "execution_count": null,
   "metadata": {},
   "outputs": [],
   "source": []
  },
  {
   "cell_type": "code",
   "execution_count": 42,
   "metadata": {
    "execution": {
     "iopub.execute_input": "2022-12-15T05:18:39.230505Z",
     "iopub.status.busy": "2022-12-15T05:18:39.230125Z",
     "iopub.status.idle": "2022-12-15T05:18:39.242961Z",
     "shell.execute_reply": "2022-12-15T05:18:39.242216Z",
     "shell.execute_reply.started": "2022-12-15T05:18:39.230468Z"
    },
    "tags": []
   },
   "outputs": [],
   "source": [
    "sensors = []\n",
    "beacons = []\n",
    "distances = []\n",
    "\n",
    "for line in lines:\n",
    "  if m := re.findall(r'-?\\d+', line):\n",
    "    a = amap(int, m)\n",
    "    \n",
    "    sensor = Point(a[0], a[1])\n",
    "    beacon = Point(a[2], a[3])\n",
    "    \n",
    "    sensors.append(sensor)\n",
    "    beacons.append(beacon)\n",
    "    distances.append(sensor.mandistance(beacon))\n",
    "  else:\n",
    "    raise Exception()"
   ]
  },
  {
   "cell_type": "code",
   "execution_count": 43,
   "metadata": {
    "execution": {
     "iopub.execute_input": "2022-12-15T05:18:39.405547Z",
     "iopub.status.busy": "2022-12-15T05:18:39.405198Z",
     "iopub.status.idle": "2022-12-15T05:18:39.413719Z",
     "shell.execute_reply": "2022-12-15T05:18:39.412114Z",
     "shell.execute_reply.started": "2022-12-15T05:18:39.405526Z"
    },
    "tags": []
   },
   "outputs": [],
   "source": [
    "ranges = []\n",
    "\n",
    "for s, b, d in zip(sensors, beacons, distances):\n",
    "  d1 = abs(Y - s.y)\n",
    "  if d - d1 < 0:\n",
    "    continue\n",
    "  \n",
    "  else:\n",
    "    z = d - d1\n",
    "    ranges.append((\n",
    "      s.x - z,\n",
    "      s.x + z + 1,\n",
    "    ))\n",
    "\n",
    "ranges = sorted(ranges)"
   ]
  },
  {
   "cell_type": "code",
   "execution_count": 44,
   "metadata": {
    "execution": {
     "iopub.execute_input": "2022-12-15T05:18:39.567984Z",
     "iopub.status.busy": "2022-12-15T05:18:39.567446Z",
     "iopub.status.idle": "2022-12-15T05:18:39.579202Z",
     "shell.execute_reply": "2022-12-15T05:18:39.578384Z",
     "shell.execute_reply.started": "2022-12-15T05:18:39.567946Z"
    },
    "tags": []
   },
   "outputs": [
    {
     "data": {
      "text/plain": [
       "[(-202539, 4515093)]"
      ]
     },
     "execution_count": 44,
     "metadata": {},
     "output_type": "execute_result"
    }
   ],
   "source": [
    "ranges_merged = ranges[:1]\n",
    "for i, j in ranges[1:]:\n",
    "  ii, jj = ranges_merged[-1]\n",
    "  if i <= jj:\n",
    "    ranges_merged[-1] = (min(i, ii), max(j, jj))\n",
    "  else:\n",
    "    ranges_merged.append((i, j))\n",
    "  # print(ii, jj, i, j, ranges_merged)\n",
    "    \n",
    "ranges_merged"
   ]
  },
  {
   "cell_type": "code",
   "execution_count": 45,
   "metadata": {
    "execution": {
     "iopub.execute_input": "2022-12-15T05:18:40.520393Z",
     "iopub.status.busy": "2022-12-15T05:18:40.519875Z",
     "iopub.status.idle": "2022-12-15T05:18:40.529130Z",
     "shell.execute_reply": "2022-12-15T05:18:40.526973Z",
     "shell.execute_reply.started": "2022-12-15T05:18:40.520357Z"
    },
    "tags": []
   },
   "outputs": [
    {
     "data": {
      "text/plain": [
       "{[+1562171, +2000000]}"
      ]
     },
     "execution_count": 45,
     "metadata": {},
     "output_type": "execute_result"
    }
   ],
   "source": [
    "set([i for i in beacons if i.y == Y])"
   ]
  },
  {
   "cell_type": "code",
   "execution_count": 46,
   "metadata": {
    "execution": {
     "iopub.execute_input": "2022-12-15T05:18:40.638642Z",
     "iopub.status.busy": "2022-12-15T05:18:40.638315Z",
     "iopub.status.idle": "2022-12-15T05:18:40.644272Z",
     "shell.execute_reply": "2022-12-15T05:18:40.643638Z",
     "shell.execute_reply.started": "2022-12-15T05:18:40.638620Z"
    },
    "tags": []
   },
   "outputs": [
    {
     "data": {
      "text/plain": [
       "4717631"
      ]
     },
     "execution_count": 46,
     "metadata": {},
     "output_type": "execute_result"
    }
   ],
   "source": [
    "4515093 - (-202539) - 1"
   ]
  },
  {
   "cell_type": "code",
   "execution_count": 47,
   "metadata": {
    "execution": {
     "iopub.execute_input": "2022-12-15T05:18:40.777939Z",
     "iopub.status.busy": "2022-12-15T05:18:40.777451Z",
     "iopub.status.idle": "2022-12-15T05:18:40.784616Z",
     "shell.execute_reply": "2022-12-15T05:18:40.783713Z",
     "shell.execute_reply.started": "2022-12-15T05:18:40.777917Z"
    },
    "tags": []
   },
   "outputs": [
    {
     "name": "stdout",
     "output_type": "stream",
     "text": [
      "Already submitted (2022, 15, 1, 4717631): True\n"
     ]
    },
    {
     "data": {
      "text/plain": [
       "True"
      ]
     },
     "execution_count": 47,
     "metadata": {},
     "output_type": "execute_result"
    }
   ],
   "source": [
    "submit1(_)"
   ]
  },
  {
   "cell_type": "code",
   "execution_count": null,
   "metadata": {},
   "outputs": [],
   "source": []
  },
  {
   "cell_type": "code",
   "execution_count": null,
   "metadata": {},
   "outputs": [],
   "source": []
  },
  {
   "cell_type": "code",
   "execution_count": 48,
   "metadata": {
    "execution": {
     "iopub.execute_input": "2022-12-15T05:18:44.080689Z",
     "iopub.status.busy": "2022-12-15T05:18:44.080146Z",
     "iopub.status.idle": "2022-12-15T05:18:44.107194Z",
     "shell.execute_reply": "2022-12-15T05:18:44.106875Z",
     "shell.execute_reply.started": "2022-12-15T05:18:44.080652Z"
    },
    "tags": []
   },
   "outputs": [
    {
     "data": {
      "application/vnd.jupyter.widget-view+json": {
       "model_id": "b4745d855fd845d4a288c2ccddd3b7b5",
       "version_major": 2,
       "version_minor": 0
      },
      "text/plain": [
       "  0%|          | 0/644781 [00:00<?, ?it/s]"
      ]
     },
     "metadata": {},
     "output_type": "display_data"
    },
    {
     "name": "stdout",
     "output_type": "stream",
     "text": [
      "[(-158295, 3299359), (3299360, 4399269)]\n"
     ]
    }
   ],
   "source": [
    "# for Y in tqdm(range(0, 4000000 + 1)):\n",
    "for Y in tqdm(range(3355220, 4000000 + 1)):\n",
    "# for Y in tqdm(range(0, 4000000 + 1)):\n",
    "\n",
    "  ranges = []\n",
    "\n",
    "  for s, b, d in zip(sensors, beacons, distances):\n",
    "    d1 = abs(Y - s.y)\n",
    "    if d - d1 < 0:\n",
    "      continue\n",
    "\n",
    "    else:\n",
    "      z = d - d1\n",
    "      ranges.append((\n",
    "        s.x - z,\n",
    "        s.x + z + 1,\n",
    "      ))\n",
    "\n",
    "  ranges = sorted(ranges)\n",
    "\n",
    "  ranges_merged = ranges[:1]\n",
    "  for i, j in ranges[1:]:\n",
    "    ii, jj = ranges_merged[-1]\n",
    "    if i <= jj:\n",
    "      ranges_merged[-1] = (min(i, ii), max(j, jj))\n",
    "    else:\n",
    "      ranges_merged.append((i, j))\n",
    "    # print(ii, jj, i, j, ranges_merged)\n",
    "\n",
    "  if len(ranges_merged) != 1:\n",
    "    print(ranges_merged)\n",
    "    break"
   ]
  },
  {
   "cell_type": "code",
   "execution_count": 49,
   "metadata": {
    "execution": {
     "iopub.execute_input": "2022-12-15T05:18:47.828926Z",
     "iopub.status.busy": "2022-12-15T05:18:47.828494Z",
     "iopub.status.idle": "2022-12-15T05:18:47.837908Z",
     "shell.execute_reply": "2022-12-15T05:18:47.837365Z",
     "shell.execute_reply.started": "2022-12-15T05:18:47.828884Z"
    },
    "tags": []
   },
   "outputs": [
    {
     "data": {
      "text/plain": [
       "(3299359, 3355220)"
      ]
     },
     "execution_count": 49,
     "metadata": {},
     "output_type": "execute_result"
    }
   ],
   "source": [
    "3299359, Y"
   ]
  },
  {
   "cell_type": "code",
   "execution_count": 50,
   "metadata": {
    "execution": {
     "iopub.execute_input": "2022-12-15T05:18:49.114613Z",
     "iopub.status.busy": "2022-12-15T05:18:49.114216Z",
     "iopub.status.idle": "2022-12-15T05:18:49.123248Z",
     "shell.execute_reply": "2022-12-15T05:18:49.122425Z",
     "shell.execute_reply.started": "2022-12-15T05:18:49.114589Z"
    },
    "tags": []
   },
   "outputs": [
    {
     "data": {
      "text/plain": [
       "13197439355220"
      ]
     },
     "execution_count": 50,
     "metadata": {},
     "output_type": "execute_result"
    }
   ],
   "source": [
    "_[0] * 4000000 + _[1]"
   ]
  },
  {
   "cell_type": "code",
   "execution_count": 51,
   "metadata": {
    "execution": {
     "iopub.execute_input": "2022-12-15T05:18:53.993206Z",
     "iopub.status.busy": "2022-12-15T05:18:53.992673Z",
     "iopub.status.idle": "2022-12-15T05:18:54.591231Z",
     "shell.execute_reply": "2022-12-15T05:18:54.590057Z",
     "shell.execute_reply.started": "2022-12-15T05:18:53.993170Z"
    },
    "tags": []
   },
   "outputs": [
    {
     "name": "stdout",
     "output_type": "stream",
     "text": [
      "Submitting 13197439355220...\n"
     ]
    },
    {
     "data": {
      "text/plain": [
       "True"
      ]
     },
     "execution_count": 51,
     "metadata": {},
     "output_type": "execute_result"
    }
   ],
   "source": [
    "submit2(13197439355220)"
   ]
  },
  {
   "cell_type": "code",
   "execution_count": null,
   "metadata": {},
   "outputs": [],
   "source": []
  },
  {
   "cell_type": "code",
   "execution_count": null,
   "metadata": {},
   "outputs": [],
   "source": []
  },
  {
   "cell_type": "code",
   "execution_count": null,
   "metadata": {},
   "outputs": [],
   "source": []
  },
  {
   "cell_type": "code",
   "execution_count": 52,
   "metadata": {
    "execution": {
     "iopub.execute_input": "2022-12-15T06:54:45.695091Z",
     "iopub.status.busy": "2022-12-15T06:54:45.691368Z",
     "iopub.status.idle": "2022-12-15T06:54:45.713231Z",
     "shell.execute_reply": "2022-12-15T06:54:45.712791Z",
     "shell.execute_reply.started": "2022-12-15T06:54:45.694988Z"
    },
    "tags": []
   },
   "outputs": [
    {
     "data": {
      "text/plain": [
       "[(-158295, 3299359), (3299360, 4399269)]"
      ]
     },
     "execution_count": 52,
     "metadata": {},
     "output_type": "execute_result"
    }
   ],
   "source": [
    "sensors = []\n",
    "beacons = []\n",
    "distances = []\n",
    "\n",
    "for line in lines:\n",
    "  if m := re.findall(r'-?\\d+', line):\n",
    "    a = amap(int, m)\n",
    "    \n",
    "    sensor = Point(a[0], a[1])\n",
    "    beacon = Point(a[2], a[3])\n",
    "    \n",
    "    sensors.append(sensor)\n",
    "    beacons.append(beacon)\n",
    "    distances.append(sensor.mandistance(beacon))\n",
    "  else:\n",
    "    raise Exception()\n",
    "    \n",
    "ranges = []\n",
    "\n",
    "for Y in tqdm(range(0, 4000000 + 1)):\n",
    "  ranges = []\n",
    "\n",
    "  for s, b, d in zip(sensors, beacons, distances):\n",
    "    d1 = abs(Y - s.y)\n",
    "    if d - d1 < 0:\n",
    "      continue\n",
    "\n",
    "    else:\n",
    "      z = d - d1\n",
    "      ranges.append((\n",
    "        s.x - z,\n",
    "        s.x + z + 1,\n",
    "      ))\n",
    "\n",
    "  ranges = sorted(ranges)\n",
    "\n",
    "  ranges_merged = ranges[:1]\n",
    "  for i, j in ranges[1:]:\n",
    "    ii, jj = ranges_merged[-1]\n",
    "    if i <= jj:\n",
    "      ranges_merged[-1] = (min(i, ii), max(j, jj))\n",
    "    else:\n",
    "      ranges_merged.append((i, j))\n",
    "\n",
    "  if len(ranges_merged) != 1:\n",
    "    print(ranges_merged)\n",
    "    break"
   ]
  }
 ],
 "metadata": {
  "kernelspec": {
   "display_name": "Python 3 (ipykernel)",
   "language": "python",
   "name": "python3"
  },
  "language_info": {
   "codemirror_mode": {
    "name": "ipython",
    "version": 3
   },
   "file_extension": ".py",
   "mimetype": "text/x-python",
   "name": "python",
   "nbconvert_exporter": "python",
   "pygments_lexer": "ipython3",
   "version": "3.11.0"
  }
 },
 "nbformat": 4,
 "nbformat_minor": 4
}
