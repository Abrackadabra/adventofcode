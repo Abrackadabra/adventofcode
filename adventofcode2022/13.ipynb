{
 "cells": [
  {
   "cell_type": "code",
   "execution_count": 1,
   "metadata": {
    "execution": {
     "iopub.execute_input": "2022-12-13T05:00:25.146776Z",
     "iopub.status.busy": "2022-12-13T05:00:25.146067Z",
     "iopub.status.idle": "2022-12-13T05:00:26.147999Z",
     "shell.execute_reply": "2022-12-13T05:00:26.147347Z",
     "shell.execute_reply.started": "2022-12-13T05:00:25.146611Z"
    }
   },
   "outputs": [],
   "source": [
    "import numpy as np\n",
    "from numpy import *\n",
    "import matplotlib\n",
    "from matplotlib import pyplot as plt\n",
    "from tqdm.auto import tqdm\n",
    "import requests\n",
    "import pickle\n",
    "import re\n",
    "import itertools\n",
    "import functools\n",
    "import collections\n",
    "import string\n",
    "import time\n",
    "from bs4 import BeautifulSoup\n",
    "from sortedcontainers import SortedList # http://www.grantjenks.com/docs/sortedcontainers/sortedlist.html#sortedlist\n",
    "\n",
    "from adventlib.common import *\n",
    "# n, m, a = lines_as_matrix_nm(lines)\n",
    "# a = lines_as_matrix(lines)\n",
    "# a = lines_as_digit_matrix(lines)\n",
    "# chunks = split_iter_by_start_indices(a, indices)\n",
    "# chunks = split_iter_by_bools(a, bools)\n",
    "\n",
    "# from adventlib.point_2d import *\n",
    "# from adventlib.point_3d import *\n",
    "\n",
    "YEAR = 2022\n",
    "DAY = int('13')\n",
    "\n",
    "submit1, submit2 = generate_submits(YEAR, DAY)\n",
    "\n",
    "while True:\n",
    "  try:\n",
    "    raw_input = get_input(YEAR, DAY)\n",
    "    break\n",
    "  except Exception as e:\n",
    "    print(e)\n",
    "    time.sleep(1)"
   ]
  },
  {
   "cell_type": "code",
   "execution_count": 2,
   "metadata": {
    "execution": {
     "iopub.execute_input": "2022-12-13T05:00:26.152910Z",
     "iopub.status.busy": "2022-12-13T05:00:26.152143Z",
     "iopub.status.idle": "2022-12-13T05:00:26.158517Z",
     "shell.execute_reply": "2022-12-13T05:00:26.157738Z",
     "shell.execute_reply.started": "2022-12-13T05:00:26.152887Z"
    }
   },
   "outputs": [],
   "source": [
    "lines, groups = linesplit(\"\"\"\n",
    "[1,1,3,1,1]\n",
    "[1,1,5,1,1]\n",
    "\n",
    "[[1],[2,3,4]]\n",
    "[[1],4]\n",
    "\n",
    "[9]\n",
    "[[8,7,6]]\n",
    "\n",
    "[[4,4],4,4]\n",
    "[[4,4],4,4,4]\n",
    "\n",
    "[7,7,7,7]\n",
    "[7,7,7]\n",
    "\n",
    "[]\n",
    "[3]\n",
    "\n",
    "[[[]]]\n",
    "[[]]\n",
    "\n",
    "[1,[2,[3,[4,[5,6,7]]]],8,9]\n",
    "[1,[2,[3,[4,[5,6,0]]]],8,9]\n",
    "\"\"\".strip())"
   ]
  },
  {
   "cell_type": "code",
   "execution_count": 8,
   "metadata": {
    "execution": {
     "iopub.execute_input": "2022-12-13T05:06:00.148654Z",
     "iopub.status.busy": "2022-12-13T05:06:00.147837Z",
     "iopub.status.idle": "2022-12-13T05:06:00.160230Z",
     "shell.execute_reply": "2022-12-13T05:06:00.157168Z",
     "shell.execute_reply.started": "2022-12-13T05:06:00.148596Z"
    }
   },
   "outputs": [
    {
     "name": "stdout",
     "output_type": "stream",
     "text": [
      "449 lines\n",
      "150 groups\n",
      ">>>\n",
      "[[[5,1,[],[8,1,3],6],[[7]]],[10,[]],[6],[[],[[0,6,4,10,5],[2,2,9],[4,4],[2,10,4,10,8]],7,7],[[5],5,[...\n",
      "[[5]]\n",
      "\n",
      "...\n"
     ]
    }
   ],
   "source": [
    "lines, groups = linesplit(raw_input, verbose=True)"
   ]
  },
  {
   "cell_type": "code",
   "execution_count": null,
   "metadata": {},
   "outputs": [],
   "source": []
  },
  {
   "cell_type": "code",
   "execution_count": 9,
   "metadata": {
    "execution": {
     "iopub.execute_input": "2022-12-13T05:06:00.466210Z",
     "iopub.status.busy": "2022-12-13T05:06:00.465476Z",
     "iopub.status.idle": "2022-12-13T05:06:00.494769Z",
     "shell.execute_reply": "2022-12-13T05:06:00.494394Z",
     "shell.execute_reply.started": "2022-12-13T05:06:00.466165Z"
    },
    "tags": []
   },
   "outputs": [
    {
     "data": {
      "text/plain": [
       "[6,\n",
       " 9,\n",
       " 11,\n",
       " 12,\n",
       " 14,\n",
       " 18,\n",
       " 19,\n",
       " 20,\n",
       " 21,\n",
       " 27,\n",
       " 28,\n",
       " 30,\n",
       " 31,\n",
       " 32,\n",
       " 34,\n",
       " 37,\n",
       " 40,\n",
       " 42,\n",
       " 43,\n",
       " 46,\n",
       " 47,\n",
       " 49,\n",
       " 50,\n",
       " 51,\n",
       " 53,\n",
       " 56,\n",
       " 57,\n",
       " 59,\n",
       " 64,\n",
       " 69,\n",
       " 70,\n",
       " 71,\n",
       " 74,\n",
       " 75,\n",
       " 78,\n",
       " 79,\n",
       " 82,\n",
       " 84,\n",
       " 85,\n",
       " 87,\n",
       " 91,\n",
       " 93,\n",
       " 96,\n",
       " 98,\n",
       " 99,\n",
       " 100,\n",
       " 102,\n",
       " 103,\n",
       " 105,\n",
       " 109,\n",
       " 112,\n",
       " 113,\n",
       " 115,\n",
       " 116,\n",
       " 118,\n",
       " 119,\n",
       " 121,\n",
       " 122,\n",
       " 125,\n",
       " 126,\n",
       " 128,\n",
       " 129,\n",
       " 131,\n",
       " 132,\n",
       " 134,\n",
       " 138,\n",
       " 139,\n",
       " 141,\n",
       " 142,\n",
       " 143,\n",
       " 145,\n",
       " 148,\n",
       " 150]"
      ]
     },
     "execution_count": 9,
     "metadata": {},
     "output_type": "execute_result"
    }
   ],
   "source": [
    "def comp(a1, a2):\n",
    "  if type(a1) == int and type(a2) == int:\n",
    "    if a1 < a2:\n",
    "      return True\n",
    "    if a1 > a2:\n",
    "      return False\n",
    "    return None\n",
    "  \n",
    "  if type(a1) == list and type(a2) == list:\n",
    "    for i in range(max(len(a1), len(a2))):\n",
    "      if i >= len(a1):\n",
    "        return True\n",
    "      if i >= len(a2):\n",
    "        return False\n",
    "      \n",
    "      r1 = comp(a1[i], a2[i])\n",
    "      if r1 is not None:\n",
    "        return r1\n",
    "    return None\n",
    "  \n",
    "  if type(a1) == int:\n",
    "    return comp([a1], a2)\n",
    "  \n",
    "  if type(a2) == int:\n",
    "    return comp(a1, [a2])\n",
    "  raise Exception()\n",
    "\n",
    "ans = []\n",
    "\n",
    "for i, group in enumerate(groups):\n",
    "  line1, line2 = group\n",
    "  a1 = eval(line1)\n",
    "  a2 = eval(line2)\n",
    "  if comp(a1, a2):\n",
    "    ans.append(i + 1)\n",
    "\n",
    "ans"
   ]
  },
  {
   "cell_type": "code",
   "execution_count": 10,
   "metadata": {
    "execution": {
     "iopub.execute_input": "2022-12-13T05:06:00.882871Z",
     "iopub.status.busy": "2022-12-13T05:06:00.882415Z",
     "iopub.status.idle": "2022-12-13T05:06:00.891005Z",
     "shell.execute_reply": "2022-12-13T05:06:00.890094Z",
     "shell.execute_reply.started": "2022-12-13T05:06:00.882848Z"
    },
    "tags": []
   },
   "outputs": [
    {
     "data": {
      "text/plain": [
       "5843"
      ]
     },
     "execution_count": 10,
     "metadata": {},
     "output_type": "execute_result"
    }
   ],
   "source": [
    "sum(ans)"
   ]
  },
  {
   "cell_type": "code",
   "execution_count": 11,
   "metadata": {
    "execution": {
     "iopub.execute_input": "2022-12-13T05:06:03.930025Z",
     "iopub.status.busy": "2022-12-13T05:06:03.929175Z",
     "iopub.status.idle": "2022-12-13T05:06:04.545139Z",
     "shell.execute_reply": "2022-12-13T05:06:04.544472Z",
     "shell.execute_reply.started": "2022-12-13T05:06:03.929985Z"
    },
    "tags": []
   },
   "outputs": [
    {
     "name": "stdout",
     "output_type": "stream",
     "text": [
      "Submitting 5843...\n"
     ]
    },
    {
     "data": {
      "text/plain": [
       "True"
      ]
     },
     "execution_count": 11,
     "metadata": {},
     "output_type": "execute_result"
    }
   ],
   "source": [
    "submit1(_)"
   ]
  },
  {
   "cell_type": "code",
   "execution_count": null,
   "metadata": {},
   "outputs": [],
   "source": []
  },
  {
   "cell_type": "code",
   "execution_count": null,
   "metadata": {},
   "outputs": [],
   "source": []
  },
  {
   "cell_type": "code",
   "execution_count": 14,
   "metadata": {
    "execution": {
     "iopub.execute_input": "2022-12-13T05:07:23.028527Z",
     "iopub.status.busy": "2022-12-13T05:07:23.027997Z",
     "iopub.status.idle": "2022-12-13T05:07:23.057726Z",
     "shell.execute_reply": "2022-12-13T05:07:23.057228Z",
     "shell.execute_reply.started": "2022-12-13T05:07:23.028502Z"
    },
    "tags": []
   },
   "outputs": [],
   "source": [
    "a = []\n",
    "\n",
    "for i, group in enumerate(groups):\n",
    "  line1, line2 = group\n",
    "  a1 = eval(line1)\n",
    "  a2 = eval(line2)\n",
    "  a += [a1, a2]\n",
    "  \n",
    "a += [\n",
    "  [[2]],\n",
    "  [[6]],\n",
    "]"
   ]
  },
  {
   "cell_type": "code",
   "execution_count": 16,
   "metadata": {
    "execution": {
     "iopub.execute_input": "2022-12-13T05:08:25.858659Z",
     "iopub.status.busy": "2022-12-13T05:08:25.857939Z",
     "iopub.status.idle": "2022-12-13T05:08:26.010988Z",
     "shell.execute_reply": "2022-12-13T05:08:26.010732Z",
     "shell.execute_reply.started": "2022-12-13T05:08:25.858619Z"
    },
    "tags": []
   },
   "outputs": [],
   "source": [
    "for i in range(len(a)):\n",
    "  for j in range(len(a) - 1):\n",
    "    r1 = comp(a[j], a[j + 1])\n",
    "    if r1 is None:\n",
    "      continue\n",
    "    \n",
    "    if r1 is False:\n",
    "      a[j], a[j + 1] = a[j + 1], a[j]"
   ]
  },
  {
   "cell_type": "code",
   "execution_count": 18,
   "metadata": {
    "execution": {
     "iopub.execute_input": "2022-12-13T05:08:52.742601Z",
     "iopub.status.busy": "2022-12-13T05:08:52.742257Z",
     "iopub.status.idle": "2022-12-13T05:08:52.757454Z",
     "shell.execute_reply": "2022-12-13T05:08:52.756852Z",
     "shell.execute_reply.started": "2022-12-13T05:08:52.742582Z"
    },
    "tags": []
   },
   "outputs": [
    {
     "name": "stdout",
     "output_type": "stream",
     "text": [
      "127\n",
      "207\n"
     ]
    }
   ],
   "source": [
    "for i, j in enumerate(a):\n",
    "  if j == [[2]] or j == [[6]]:\n",
    "    print(i + 1)"
   ]
  },
  {
   "cell_type": "code",
   "execution_count": 19,
   "metadata": {
    "execution": {
     "iopub.execute_input": "2022-12-13T05:09:08.688240Z",
     "iopub.status.busy": "2022-12-13T05:09:08.687740Z",
     "iopub.status.idle": "2022-12-13T05:09:09.331531Z",
     "shell.execute_reply": "2022-12-13T05:09:09.329861Z",
     "shell.execute_reply.started": "2022-12-13T05:09:08.688214Z"
    },
    "tags": []
   },
   "outputs": [
    {
     "name": "stdout",
     "output_type": "stream",
     "text": [
      "Submitting 26289...\n"
     ]
    },
    {
     "data": {
      "text/plain": [
       "True"
      ]
     },
     "execution_count": 19,
     "metadata": {},
     "output_type": "execute_result"
    }
   ],
   "source": [
    "submit2(127 * 207)"
   ]
  }
 ],
 "metadata": {
  "kernelspec": {
   "display_name": "Python 3 (ipykernel)",
   "language": "python",
   "name": "python3"
  },
  "language_info": {
   "codemirror_mode": {
    "name": "ipython",
    "version": 3
   },
   "file_extension": ".py",
   "mimetype": "text/x-python",
   "name": "python",
   "nbconvert_exporter": "python",
   "pygments_lexer": "ipython3",
   "version": "3.11.0"
  }
 },
 "nbformat": 4,
 "nbformat_minor": 4
}
