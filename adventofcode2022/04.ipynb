{
 "cells": [
  {
   "cell_type": "code",
   "execution_count": 1,
   "metadata": {
    "execution": {
     "iopub.execute_input": "2022-12-04T05:00:55.681656Z",
     "iopub.status.busy": "2022-12-04T05:00:55.679096Z",
     "iopub.status.idle": "2022-12-04T05:00:56.550347Z",
     "shell.execute_reply": "2022-12-04T05:00:56.549210Z",
     "shell.execute_reply.started": "2022-12-04T05:00:55.681219Z"
    }
   },
   "outputs": [],
   "source": [
    "import numpy as np\n",
    "from numpy import *\n",
    "import matplotlib\n",
    "from matplotlib import pyplot as plt\n",
    "import requests\n",
    "import pickle\n",
    "import re\n",
    "import itertools\n",
    "import functools\n",
    "import collections\n",
    "import string\n",
    "import time\n",
    "from bs4 import BeautifulSoup\n",
    "from sortedcontainers import SortedList # http://www.grantjenks.com/docs/sortedcontainers/sortedlist.html#sortedlist\n",
    "\n",
    "from adventlib import *\n",
    "\n",
    "YEAR = 2022\n",
    "DAY = int('04')\n",
    "\n",
    "submit1, submit2 = generate_submits(YEAR, DAY)\n",
    "\n",
    "while True:\n",
    "  try:\n",
    "    raw_input = get_input(YEAR, DAY)\n",
    "    break\n",
    "  except Exception as e:\n",
    "    print(e)\n",
    "    time.sleep(1)"
   ]
  },
  {
   "cell_type": "code",
   "execution_count": 17,
   "metadata": {
    "execution": {
     "iopub.execute_input": "2022-12-04T05:04:09.163417Z",
     "iopub.status.busy": "2022-12-04T05:04:09.162869Z",
     "iopub.status.idle": "2022-12-04T05:04:09.178683Z",
     "shell.execute_reply": "2022-12-04T05:04:09.176080Z",
     "shell.execute_reply.started": "2022-12-04T05:04:09.163393Z"
    },
    "tags": []
   },
   "outputs": [],
   "source": [
    "lines, groups = linesplit(\"\"\"\n",
    "2-4,6-8\n",
    "2-3,4-5\n",
    "5-7,7-9\n",
    "2-8,3-7\n",
    "6-6,4-6\n",
    "2-6,4-8\n",
    "\"\"\".strip())"
   ]
  },
  {
   "cell_type": "code",
   "execution_count": 20,
   "metadata": {
    "execution": {
     "iopub.execute_input": "2022-12-04T05:04:31.677810Z",
     "iopub.status.busy": "2022-12-04T05:04:31.677284Z",
     "iopub.status.idle": "2022-12-04T05:04:31.686501Z",
     "shell.execute_reply": "2022-12-04T05:04:31.684867Z",
     "shell.execute_reply.started": "2022-12-04T05:04:31.677782Z"
    },
    "tags": []
   },
   "outputs": [
    {
     "name": "stdout",
     "output_type": "stream",
     "text": [
      "1000 lines\n",
      "1 groups\n",
      ">>>\n",
      "22-65,22-66\n",
      "91-94,63-91\n",
      "6-88,5-31\n",
      "...\n"
     ]
    }
   ],
   "source": [
    "lines, groups = linesplit(raw_input, verbose=True)"
   ]
  },
  {
   "cell_type": "code",
   "execution_count": null,
   "metadata": {},
   "outputs": [],
   "source": []
  },
  {
   "cell_type": "code",
   "execution_count": 7,
   "metadata": {
    "execution": {
     "iopub.execute_input": "2022-12-04T05:02:05.271331Z",
     "iopub.status.busy": "2022-12-04T05:02:05.271029Z",
     "iopub.status.idle": "2022-12-04T05:02:05.292564Z",
     "shell.execute_reply": "2022-12-04T05:02:05.291650Z",
     "shell.execute_reply.started": "2022-12-04T05:02:05.271311Z"
    },
    "tags": []
   },
   "outputs": [
    {
     "data": {
      "text/plain": [
       "584"
      ]
     },
     "execution_count": 7,
     "metadata": {},
     "output_type": "execute_result"
    }
   ],
   "source": [
    "res = 0\n",
    "a = []\n",
    "s = set()\n",
    "d = collections.defaultdict()\n",
    "\n",
    "for line in lines:\n",
    "  if m := re.findall(r'\\d+', line):\n",
    "    a, b, c, d = amap(int, m)\n",
    "    if (a >= c and b <= d) or (c >= a and d <= b):\n",
    "      res+= 1\n",
    "res"
   ]
  },
  {
   "cell_type": "code",
   "execution_count": 8,
   "metadata": {
    "execution": {
     "iopub.execute_input": "2022-12-04T05:02:08.741345Z",
     "iopub.status.busy": "2022-12-04T05:02:08.740717Z",
     "iopub.status.idle": "2022-12-04T05:02:09.192465Z",
     "shell.execute_reply": "2022-12-04T05:02:09.191893Z",
     "shell.execute_reply.started": "2022-12-04T05:02:08.741315Z"
    },
    "tags": []
   },
   "outputs": [
    {
     "name": "stdout",
     "output_type": "stream",
     "text": [
      "Submitting 584...\n"
     ]
    },
    {
     "data": {
      "text/plain": [
       "True"
      ]
     },
     "execution_count": 8,
     "metadata": {},
     "output_type": "execute_result"
    }
   ],
   "source": [
    "submit1(_)"
   ]
  },
  {
   "cell_type": "code",
   "execution_count": 21,
   "metadata": {
    "execution": {
     "iopub.execute_input": "2022-12-04T05:04:34.701397Z",
     "iopub.status.busy": "2022-12-04T05:04:34.701090Z",
     "iopub.status.idle": "2022-12-04T05:04:34.721205Z",
     "shell.execute_reply": "2022-12-04T05:04:34.720856Z",
     "shell.execute_reply.started": "2022-12-04T05:04:34.701377Z"
    },
    "tags": []
   },
   "outputs": [
    {
     "data": {
      "text/plain": [
       "933"
      ]
     },
     "execution_count": 21,
     "metadata": {},
     "output_type": "execute_result"
    }
   ],
   "source": [
    "res = 0\n",
    "a = []\n",
    "s = set()\n",
    "d = collections.defaultdict()\n",
    "\n",
    "for line in lines:\n",
    "  if m := re.findall(r'\\d+', line):\n",
    "    a, b, c, d = amap(int, m)\n",
    "    if max(a, c) <= min(b, d):\n",
    "      res += 1\n",
    "      # print(line)\n",
    "res"
   ]
  },
  {
   "cell_type": "code",
   "execution_count": 22,
   "metadata": {
    "execution": {
     "iopub.execute_input": "2022-12-04T05:04:36.280760Z",
     "iopub.status.busy": "2022-12-04T05:04:36.280131Z",
     "iopub.status.idle": "2022-12-04T05:04:36.741178Z",
     "shell.execute_reply": "2022-12-04T05:04:36.740028Z",
     "shell.execute_reply.started": "2022-12-04T05:04:36.280716Z"
    },
    "tags": []
   },
   "outputs": [
    {
     "name": "stdout",
     "output_type": "stream",
     "text": [
      "Submitting 933...\n"
     ]
    },
    {
     "data": {
      "text/plain": [
       "True"
      ]
     },
     "execution_count": 22,
     "metadata": {},
     "output_type": "execute_result"
    }
   ],
   "source": [
    "submit2(_)"
   ]
  }
 ],
 "metadata": {
  "kernelspec": {
   "display_name": "Python 3 (ipykernel)",
   "language": "python",
   "name": "python3"
  },
  "language_info": {
   "codemirror_mode": {
    "name": "ipython",
    "version": 3
   },
   "file_extension": ".py",
   "mimetype": "text/x-python",
   "name": "python",
   "nbconvert_exporter": "python",
   "pygments_lexer": "ipython3",
   "version": "3.11.0"
  }
 },
 "nbformat": 4,
 "nbformat_minor": 4
}
