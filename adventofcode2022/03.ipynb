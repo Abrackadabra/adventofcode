{
 "cells": [
  {
   "cell_type": "code",
   "execution_count": 2,
   "metadata": {
    "execution": {
     "iopub.execute_input": "2022-12-03T06:09:36.825194Z",
     "iopub.status.busy": "2022-12-03T06:09:36.824830Z",
     "iopub.status.idle": "2022-12-03T06:09:37.193664Z",
     "shell.execute_reply": "2022-12-03T06:09:37.192506Z",
     "shell.execute_reply.started": "2022-12-03T06:09:36.825152Z"
    },
    "tags": []
   },
   "outputs": [],
   "source": [
    "import numpy as np\n",
    "from numpy import *\n",
    "import matplotlib\n",
    "from matplotlib import pyplot as plt\n",
    "import requests\n",
    "import pickle\n",
    "import re\n",
    "import itertools\n",
    "import functools\n",
    "import collections\n",
    "import string\n",
    "import time\n",
    "from bs4 import BeautifulSoup\n",
    "from sortedcontainers import SortedList # http://www.grantjenks.com/docs/sortedcontainers/sortedlist.html#sortedlist\n",
    "\n",
    "from adventlib import *\n",
    "\n",
    "YEAR = 2022\n",
    "DAY = int('03')\n",
    "\n",
    "submit1, submit2 = generate_submits(YEAR, DAY)\n",
    "\n",
    "while True:\n",
    "  try:\n",
    "    raw_input = get_input(YEAR, DAY)\n",
    "    break\n",
    "  except Exception as e:\n",
    "    print(e)\n",
    "    time.sleep(1)"
   ]
  },
  {
   "cell_type": "code",
   "execution_count": 3,
   "metadata": {
    "execution": {
     "iopub.execute_input": "2022-12-03T06:09:38.489375Z",
     "iopub.status.busy": "2022-12-03T06:09:38.488498Z",
     "iopub.status.idle": "2022-12-03T06:09:38.556686Z",
     "shell.execute_reply": "2022-12-03T06:09:38.555994Z",
     "shell.execute_reply.started": "2022-12-03T06:09:38.489304Z"
    },
    "tags": []
   },
   "outputs": [
    {
     "name": "stderr",
     "output_type": "stream",
     "text": [
      "/var/folders/9q/9hbfyw_57hgd4qgq8x3y2hsr006cyr/T/ipykernel_90923/2171266868.py:1: TqdmDeprecationWarning: This function will be removed in tqdm==5.0.0\n",
      "Please use `tqdm.notebook.tqdm` instead of `tqdm.tqdm_notebook`\n",
      "  for i in tqdm(range(100)):\n"
     ]
    },
    {
     "data": {
      "application/vnd.jupyter.widget-view+json": {
       "model_id": "b8c2026a94f54e2d890acbe4b210bd00",
       "version_major": 2,
       "version_minor": 0
      },
      "text/plain": [
       "  0%|          | 0/100 [00:00<?, ?it/s]"
      ]
     },
     "metadata": {},
     "output_type": "display_data"
    }
   ],
   "source": [
    "for i in tqdm(range(100)):\n",
    "  pass"
   ]
  },
  {
   "cell_type": "code",
   "execution_count": 19,
   "metadata": {
    "execution": {
     "iopub.execute_input": "2022-12-03T05:18:04.421632Z",
     "iopub.status.busy": "2022-12-03T05:18:04.421080Z",
     "iopub.status.idle": "2022-12-03T05:18:04.430206Z",
     "shell.execute_reply": "2022-12-03T05:18:04.429439Z",
     "shell.execute_reply.started": "2022-12-03T05:18:04.421609Z"
    }
   },
   "outputs": [],
   "source": [
    "lines, groups = linesplit(\"\"\"\n",
    "vJrwpWtwJgWrhcsFMMfFFhFp\n",
    "jqHRNqRjqzjGDLGLrsFMfFZSrLrFZsSL\n",
    "PmmdzqPrVvPwwTWBwg\n",
    "wMqvLMZHhHMvwLHjbvcjnnSBnvTQFn\n",
    "ttgJtRGJQctTZtZT\n",
    "CrZsJsPPZsGzwwsLwLmpwMDw\n",
    "\"\"\".strip())"
   ]
  },
  {
   "cell_type": "code",
   "execution_count": 20,
   "metadata": {
    "execution": {
     "iopub.execute_input": "2022-12-03T05:18:05.257205Z",
     "iopub.status.busy": "2022-12-03T05:18:05.256764Z",
     "iopub.status.idle": "2022-12-03T05:18:05.264018Z",
     "shell.execute_reply": "2022-12-03T05:18:05.263236Z",
     "shell.execute_reply.started": "2022-12-03T05:18:05.257174Z"
    }
   },
   "outputs": [
    {
     "name": "stdout",
     "output_type": "stream",
     "text": [
      "300 lines\n",
      "1 groups\n",
      ">>>\n",
      "FzQrhQpJtJMFzlpplrTWjTnTTrjVsVvvTnTs\n",
      "mScqSqqgcfPCqGPZcfGNSvTNsVVNSjNvWSNsNz\n",
      "fPcPGqgCcHgFzQpJJtHtJH\n",
      "...\n"
     ]
    }
   ],
   "source": [
    "lines, groups = linesplit(raw_input, verbose=True)"
   ]
  },
  {
   "cell_type": "code",
   "execution_count": null,
   "metadata": {},
   "outputs": [],
   "source": []
  },
  {
   "cell_type": "code",
   "execution_count": 21,
   "metadata": {
    "execution": {
     "iopub.execute_input": "2022-12-03T05:18:08.103708Z",
     "iopub.status.busy": "2022-12-03T05:18:08.103102Z",
     "iopub.status.idle": "2022-12-03T05:18:08.119402Z",
     "shell.execute_reply": "2022-12-03T05:18:08.118317Z",
     "shell.execute_reply.started": "2022-12-03T05:18:08.103678Z"
    }
   },
   "outputs": [
    {
     "data": {
      "text/plain": [
       "['r',\n",
       " 'S',\n",
       " 'H',\n",
       " 'H',\n",
       " 'd',\n",
       " 'w',\n",
       " 'q',\n",
       " 'W',\n",
       " 'r',\n",
       " 'M',\n",
       " 'F',\n",
       " 'w',\n",
       " 'T',\n",
       " 'l',\n",
       " 'g',\n",
       " 'C',\n",
       " 'r',\n",
       " 'V',\n",
       " 'H',\n",
       " 'Z',\n",
       " 'p',\n",
       " 'B',\n",
       " 'f',\n",
       " 'G',\n",
       " 'M',\n",
       " 'S',\n",
       " 'f',\n",
       " 'v',\n",
       " 'f',\n",
       " 'V',\n",
       " 'c',\n",
       " 'w',\n",
       " 'P',\n",
       " 'H',\n",
       " 'f',\n",
       " 'h',\n",
       " 'F',\n",
       " 'g',\n",
       " 'm',\n",
       " 'B',\n",
       " 'v',\n",
       " 'N',\n",
       " 'B',\n",
       " 'L',\n",
       " 'D',\n",
       " 'g',\n",
       " 'l',\n",
       " 'n',\n",
       " 's',\n",
       " 'v',\n",
       " 'L',\n",
       " 'V',\n",
       " 'f',\n",
       " 'd',\n",
       " 'D',\n",
       " 'P',\n",
       " 'g',\n",
       " 'g',\n",
       " 'c',\n",
       " 'w',\n",
       " 'M',\n",
       " 'N',\n",
       " 'n',\n",
       " 'H',\n",
       " 'w',\n",
       " 'R',\n",
       " 'f',\n",
       " 'L',\n",
       " 'b',\n",
       " 'F',\n",
       " 'N',\n",
       " 'w',\n",
       " 'p',\n",
       " 'R',\n",
       " 'v',\n",
       " 'L',\n",
       " 'F',\n",
       " 'v',\n",
       " 'H',\n",
       " 'S',\n",
       " 'p',\n",
       " 'm',\n",
       " 'q',\n",
       " 'W',\n",
       " 'g',\n",
       " 'v',\n",
       " 'n',\n",
       " 'z',\n",
       " 'M',\n",
       " 'N',\n",
       " 'n',\n",
       " 'T',\n",
       " 'L',\n",
       " 'M',\n",
       " 'c',\n",
       " 'Z',\n",
       " 'C',\n",
       " 'Z',\n",
       " 'p',\n",
       " 'P',\n",
       " 'L',\n",
       " 'r',\n",
       " 'D',\n",
       " 'R',\n",
       " 'J',\n",
       " 'c',\n",
       " 't',\n",
       " 'm',\n",
       " 'p',\n",
       " 'V',\n",
       " 'n',\n",
       " 'Q',\n",
       " 't',\n",
       " 'G',\n",
       " 'n',\n",
       " 'Q',\n",
       " 'b',\n",
       " 'L',\n",
       " 'n',\n",
       " 'q',\n",
       " 'W',\n",
       " 'f',\n",
       " 'V',\n",
       " 't',\n",
       " 'S',\n",
       " 'h',\n",
       " 'j',\n",
       " 'd',\n",
       " 'z',\n",
       " 'v',\n",
       " 'z',\n",
       " 'H',\n",
       " 'd',\n",
       " 'N',\n",
       " 'w',\n",
       " 'W',\n",
       " 'r',\n",
       " 'j',\n",
       " 'F',\n",
       " 'T',\n",
       " 'Q',\n",
       " 's',\n",
       " 'c',\n",
       " 'h',\n",
       " 'q',\n",
       " 'f',\n",
       " 'F',\n",
       " 'Z',\n",
       " 'd',\n",
       " 'm',\n",
       " 'F',\n",
       " 'L',\n",
       " 'H',\n",
       " 'Q',\n",
       " 'g',\n",
       " 'z',\n",
       " 'l',\n",
       " 'j',\n",
       " 'm',\n",
       " 'S',\n",
       " 'B',\n",
       " 'b',\n",
       " 'M',\n",
       " 'H',\n",
       " 'N',\n",
       " 'w',\n",
       " 'F',\n",
       " 'N',\n",
       " 'f',\n",
       " 'W',\n",
       " 'J',\n",
       " 'w',\n",
       " 'p',\n",
       " 'F',\n",
       " 'b',\n",
       " 'D',\n",
       " 'g',\n",
       " 'G',\n",
       " 'S',\n",
       " 'z',\n",
       " 'B',\n",
       " 'R',\n",
       " 'W',\n",
       " 'b',\n",
       " 'm',\n",
       " 'f',\n",
       " 'M',\n",
       " 'm',\n",
       " 'L',\n",
       " 'F',\n",
       " 'q',\n",
       " 'b',\n",
       " 'c',\n",
       " 'g',\n",
       " 'G',\n",
       " 'G',\n",
       " 'v',\n",
       " 'L',\n",
       " 'R',\n",
       " 'j',\n",
       " 'F',\n",
       " 'b',\n",
       " 'f',\n",
       " 'r',\n",
       " 'M',\n",
       " 't',\n",
       " 's',\n",
       " 'W',\n",
       " 'G',\n",
       " 'R',\n",
       " 'R',\n",
       " 'r',\n",
       " 'q',\n",
       " 'r',\n",
       " 'F',\n",
       " 'C',\n",
       " 'C',\n",
       " 'V',\n",
       " 'v',\n",
       " 'q',\n",
       " 'M',\n",
       " 'b',\n",
       " 'M',\n",
       " 'l',\n",
       " 'B',\n",
       " 'G',\n",
       " 't',\n",
       " 'M',\n",
       " 'V',\n",
       " 'q',\n",
       " 'W',\n",
       " 'n',\n",
       " 'W',\n",
       " 'J',\n",
       " 'Q',\n",
       " 'Z',\n",
       " 'h',\n",
       " 'p',\n",
       " 'c',\n",
       " 'L',\n",
       " 'L',\n",
       " 'f',\n",
       " 'Q',\n",
       " 'G',\n",
       " 'J',\n",
       " 'B',\n",
       " 'w',\n",
       " 'z',\n",
       " 'r',\n",
       " 'n',\n",
       " 'B',\n",
       " 't',\n",
       " 'f',\n",
       " 'm',\n",
       " 'n',\n",
       " 'F',\n",
       " 'W',\n",
       " 's',\n",
       " 'D',\n",
       " 'p',\n",
       " 'd',\n",
       " 'H',\n",
       " 'Q',\n",
       " 'N',\n",
       " 'J',\n",
       " 'R',\n",
       " 'W',\n",
       " 'l',\n",
       " 'P',\n",
       " 'n',\n",
       " 'J',\n",
       " 'p',\n",
       " 't',\n",
       " 'C',\n",
       " 'H',\n",
       " 'W',\n",
       " 'F',\n",
       " 'C',\n",
       " 'N',\n",
       " 'F',\n",
       " 'G',\n",
       " 'b',\n",
       " 'C',\n",
       " 'M',\n",
       " 'W',\n",
       " 'W',\n",
       " 'd',\n",
       " 'T',\n",
       " 'F',\n",
       " 'B',\n",
       " 'd',\n",
       " 'g',\n",
       " 'S',\n",
       " 'c',\n",
       " 's',\n",
       " 't',\n",
       " 'C',\n",
       " 'g',\n",
       " 'Q',\n",
       " 'T']"
      ]
     },
     "execution_count": 21,
     "metadata": {},
     "output_type": "execute_result"
    }
   ],
   "source": [
    "a = []\n",
    "\n",
    "for line in lines:\n",
    "  n = len(line)\n",
    "  s1 = line[:n//2]\n",
    "  s2 = line[n//2:]\n",
    "  \n",
    "  a.append(list(set(s1) & set(s2))[0])\n",
    "a"
   ]
  },
  {
   "cell_type": "code",
   "execution_count": 11,
   "metadata": {},
   "outputs": [
    {
     "data": {
      "text/plain": [
       "7908"
      ]
     },
     "execution_count": 11,
     "metadata": {},
     "output_type": "execute_result"
    }
   ],
   "source": [
    "x = 0\n",
    "for i in a:\n",
    "  if 'a' <= i <= 'z':\n",
    "    x += ord(i) - ord('a') + 1\n",
    "  if 'A' <= i <= 'Z':\n",
    "    x += ord(i) - ord('A') + 27\n",
    "x"
   ]
  },
  {
   "cell_type": "code",
   "execution_count": 12,
   "metadata": {},
   "outputs": [
    {
     "name": "stdout",
     "output_type": "stream",
     "text": [
      "Submitting 7908...\n"
     ]
    },
    {
     "data": {
      "text/plain": [
       "True"
      ]
     },
     "execution_count": 12,
     "metadata": {},
     "output_type": "execute_result"
    }
   ],
   "source": [
    "submit1(_)"
   ]
  },
  {
   "cell_type": "code",
   "execution_count": null,
   "metadata": {},
   "outputs": [],
   "source": []
  },
  {
   "cell_type": "code",
   "execution_count": null,
   "metadata": {},
   "outputs": [],
   "source": []
  },
  {
   "cell_type": "code",
   "execution_count": 17,
   "metadata": {
    "execution": {
     "iopub.execute_input": "2022-12-03T05:14:46.045561Z",
     "iopub.status.busy": "2022-12-03T05:14:46.045232Z",
     "iopub.status.idle": "2022-12-03T05:14:46.058579Z",
     "shell.execute_reply": "2022-12-03T05:14:46.057903Z",
     "shell.execute_reply.started": "2022-12-03T05:14:46.045540Z"
    },
    "tags": []
   },
   "outputs": [
    {
     "data": {
      "text/plain": [
       "2838"
      ]
     },
     "execution_count": 17,
     "metadata": {},
     "output_type": "execute_result"
    }
   ],
   "source": [
    "a = []\n",
    "x = 0\n",
    "\n",
    "for i in range(0, len(lines), 3):\n",
    "  i = list((set(lines[i]) & set(lines[i+ 1]) & set(lines[i + 2])))[0]\n",
    "  \n",
    "  if 'a' <= i <= 'z':\n",
    "    x += ord(i) - ord('a') + 1\n",
    "  if 'A' <= i <= 'Z':\n",
    "    x += ord(i) - ord('A') + 27\n",
    "x"
   ]
  },
  {
   "cell_type": "code",
   "execution_count": 15,
   "metadata": {},
   "outputs": [
    {
     "name": "stdout",
     "output_type": "stream",
     "text": [
      "Submitting 2838...\n"
     ]
    },
    {
     "data": {
      "text/plain": [
       "True"
      ]
     },
     "execution_count": 15,
     "metadata": {},
     "output_type": "execute_result"
    }
   ],
   "source": [
    "submit2(_)"
   ]
  }
 ],
 "metadata": {
  "kernelspec": {
   "display_name": "Python 3 (ipykernel)",
   "language": "python",
   "name": "python3"
  },
  "language_info": {
   "codemirror_mode": {
    "name": "ipython",
    "version": 3
   },
   "file_extension": ".py",
   "mimetype": "text/x-python",
   "name": "python",
   "nbconvert_exporter": "python",
   "pygments_lexer": "ipython3",
   "version": "3.11.0"
  }
 },
 "nbformat": 4,
 "nbformat_minor": 4
}
