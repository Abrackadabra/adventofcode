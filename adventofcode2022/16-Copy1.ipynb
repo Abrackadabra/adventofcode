{
 "cells": [
  {
   "cell_type": "code",
   "execution_count": 1,
   "metadata": {
    "execution": {
     "iopub.execute_input": "2022-12-16T21:56:13.072055Z",
     "iopub.status.busy": "2022-12-16T21:56:13.071781Z",
     "iopub.status.idle": "2022-12-16T21:56:14.045651Z",
     "shell.execute_reply": "2022-12-16T21:56:14.044504Z",
     "shell.execute_reply.started": "2022-12-16T21:56:13.072015Z"
    },
    "tags": []
   },
   "outputs": [],
   "source": [
    "import numpy as np\n",
    "from numpy import *\n",
    "import matplotlib\n",
    "from matplotlib import pyplot as plt\n",
    "from tqdm.auto import tqdm\n",
    "import requests\n",
    "import pickle\n",
    "import re\n",
    "import itertools\n",
    "import functools\n",
    "import collections\n",
    "import string\n",
    "import time\n",
    "from bs4 import BeautifulSoup\n",
    "from sortedcontainers import SortedList # http://www.grantjenks.com/docs/sortedcontainers/sortedlist.html#sortedlist\n",
    "\n",
    "from adventlib.common import *\n",
    "# n, m, a = lines_as_matrix_nm(lines)\n",
    "# a = lines_as_matrix(lines)\n",
    "# a = lines_as_digit_matrix(lines)\n",
    "# chunks = split_iter_by_start_indices(a, indices)\n",
    "# chunks = split_iter_by_bools(a, bools)\n",
    "\n",
    "# from adventlib.point_2d import *\n",
    "# from adventlib.point_3d import *\n",
    "\n",
    "YEAR = 2022\n",
    "DAY = int('16')\n",
    "\n",
    "submit1, submit2 = generate_submits(YEAR, DAY)\n",
    "\n",
    "while True:\n",
    "  try:\n",
    "    raw_input = get_input(YEAR, DAY)\n",
    "    break\n",
    "  except Exception as e:\n",
    "    print(e)\n",
    "    time.sleep(1)"
   ]
  },
  {
   "cell_type": "code",
   "execution_count": 2,
   "metadata": {
    "execution": {
     "iopub.execute_input": "2022-12-16T21:56:17.675677Z",
     "iopub.status.busy": "2022-12-16T21:56:17.675133Z",
     "iopub.status.idle": "2022-12-16T21:56:17.685223Z",
     "shell.execute_reply": "2022-12-16T21:56:17.684447Z",
     "shell.execute_reply.started": "2022-12-16T21:56:17.675638Z"
    },
    "tags": []
   },
   "outputs": [],
   "source": [
    "lines, groups = linesplit(\"\"\"\n",
    "Valve AA has flow rate=0; tunnels lead to valves DD, II, BB\n",
    "Valve BB has flow rate=13; tunnels lead to valves CC, AA\n",
    "Valve CC has flow rate=2; tunnels lead to valves DD, BB\n",
    "Valve DD has flow rate=20; tunnels lead to valves CC, AA, EE\n",
    "Valve EE has flow rate=3; tunnels lead to valves FF, DD\n",
    "Valve FF has flow rate=0; tunnels lead to valves EE, GG\n",
    "Valve GG has flow rate=0; tunnels lead to valves FF, HH\n",
    "Valve HH has flow rate=22; tunnel leads to valve GG\n",
    "Valve II has flow rate=0; tunnels lead to valves AA, JJ\n",
    "Valve JJ has flow rate=21; tunnel leads to valve II\n",
    "\"\"\".strip())"
   ]
  },
  {
   "cell_type": "code",
   "execution_count": 3,
   "metadata": {
    "execution": {
     "iopub.execute_input": "2022-12-16T21:56:18.840015Z",
     "iopub.status.busy": "2022-12-16T21:56:18.839217Z",
     "iopub.status.idle": "2022-12-16T21:56:18.849297Z",
     "shell.execute_reply": "2022-12-16T21:56:18.848069Z",
     "shell.execute_reply.started": "2022-12-16T21:56:18.839984Z"
    },
    "tags": []
   },
   "outputs": [],
   "source": [
    "lines, groups = linesplit(\"\"\"\n",
    "Valve XC has flow rate=0; tunnels lead to valves YK, AM\n",
    "Valve ME has flow rate=0; tunnels lead to valves UU, SX\n",
    "Valve EP has flow rate=0; tunnels lead to valves YS, QU\n",
    "Valve GR has flow rate=0; tunnels lead to valves QZ, OG\n",
    "Valve FA has flow rate=0; tunnels lead to valves DB, DP\n",
    "Valve UJ has flow rate=0; tunnels lead to valves XN, CH\n",
    "Valve QU has flow rate=0; tunnels lead to valves EP, YK\n",
    "Valve OX has flow rate=19; tunnels lead to valves RI, PV\n",
    "Valve VI has flow rate=0; tunnels lead to valves WI, XN\n",
    "Valve IQ has flow rate=0; tunnels lead to valves QL, OG\n",
    "Valve XO has flow rate=0; tunnels lead to valves GU, UI\n",
    "Valve IY has flow rate=0; tunnels lead to valves VC, NT\n",
    "Valve YS has flow rate=24; tunnel leads to valve EP\n",
    "Valve XN has flow rate=7; tunnels lead to valves DG, UJ, VD, VI, OU\n",
    "Valve AM has flow rate=6; tunnels lead to valves KA, NC, XC, TP, SI\n",
    "Valve IH has flow rate=8; tunnels lead to valves TW, CH, WY, EC\n",
    "Valve ZR has flow rate=18; tunnel leads to valve RI\n",
    "Valve FP has flow rate=14; tunnels lead to valves DP, UF\n",
    "Valve KA has flow rate=0; tunnels lead to valves VC, AM\n",
    "Valve NC has flow rate=0; tunnels lead to valves UI, AM\n",
    "Valve EC has flow rate=0; tunnels lead to valves IH, GU\n",
    "Valve DG has flow rate=0; tunnels lead to valves AA, XN\n",
    "Valve RI has flow rate=0; tunnels lead to valves OX, ZR\n",
    "Valve NJ has flow rate=0; tunnels lead to valves YK, TW\n",
    "Valve OG has flow rate=12; tunnels lead to valves GR, WY, IQ, UE\n",
    "Valve IB has flow rate=0; tunnels lead to valves VB, UU\n",
    "Valve RP has flow rate=0; tunnels lead to valves UI, OU\n",
    "Valve OU has flow rate=0; tunnels lead to valves XN, RP\n",
    "Valve NT has flow rate=0; tunnels lead to valves IY, AA\n",
    "Valve MN has flow rate=0; tunnels lead to valves LX, VC\n",
    "Valve SI has flow rate=0; tunnels lead to valves AM, AA\n",
    "Valve VB has flow rate=0; tunnels lead to valves KT, IB\n",
    "Valve UI has flow rate=4; tunnels lead to valves YI, XO, LX, NC, RP\n",
    "Valve DL has flow rate=0; tunnels lead to valves GU, UE\n",
    "Valve CH has flow rate=0; tunnels lead to valves UJ, IH\n",
    "Valve WI has flow rate=0; tunnels lead to valves VI, VC\n",
    "Valve GU has flow rate=11; tunnels lead to valves EC, XO, DL, SX\n",
    "Valve KT has flow rate=17; tunnels lead to valves PV, VB\n",
    "Valve TW has flow rate=0; tunnels lead to valves IH, NJ\n",
    "Valve UE has flow rate=0; tunnels lead to valves DL, OG\n",
    "Valve PV has flow rate=0; tunnels lead to valves KT, OX\n",
    "Valve DP has flow rate=0; tunnels lead to valves FP, FA\n",
    "Valve TP has flow rate=0; tunnels lead to valves VD, AM\n",
    "Valve YI has flow rate=0; tunnels lead to valves AA, UI\n",
    "Valve LX has flow rate=0; tunnels lead to valves UI, MN\n",
    "Valve QZ has flow rate=0; tunnels lead to valves GR, UU\n",
    "Valve DB has flow rate=23; tunnel leads to valve FA\n",
    "Valve SX has flow rate=0; tunnels lead to valves ME, GU\n",
    "Valve QL has flow rate=0; tunnels lead to valves AA, IQ\n",
    "Valve YK has flow rate=16; tunnels lead to valves NJ, XC, QU\n",
    "Valve VC has flow rate=5; tunnels lead to valves UF, KA, WI, IY, MN\n",
    "Valve VD has flow rate=0; tunnels lead to valves TP, XN\n",
    "Valve WY has flow rate=0; tunnels lead to valves IH, OG\n",
    "Valve AA has flow rate=0; tunnels lead to valves YI, DG, QL, NT, SI\n",
    "Valve UF has flow rate=0; tunnels lead to valves VC, FP\n",
    "Valve UU has flow rate=15; tunnels lead to valves QZ, IB, ME\n",
    "\"\"\".strip())"
   ]
  },
  {
   "cell_type": "code",
   "execution_count": 47,
   "metadata": {
    "execution": {
     "iopub.execute_input": "2022-12-16T05:45:55.037167Z",
     "iopub.status.busy": "2022-12-16T05:45:55.037023Z",
     "iopub.status.idle": "2022-12-16T05:45:55.039763Z",
     "shell.execute_reply": "2022-12-16T05:45:55.038843Z",
     "shell.execute_reply.started": "2022-12-16T05:45:55.037159Z"
    },
    "tags": []
   },
   "outputs": [
    {
     "name": "stdout",
     "output_type": "stream",
     "text": [
      "64 lines\n",
      "1 groups\n",
      ">>>\n",
      "Valve MU has flow rate=0; tunnels lead to valves VT, LA\n",
      "Valve TQ has flow rate=0; tunnels lead to valves HU, SU\n",
      "Valve YH has flow rate=0; tunnels lead to valves CN, BN\n",
      "...\n"
     ]
    }
   ],
   "source": [
    "lines, groups = linesplit(raw_input, verbose=True)"
   ]
  },
  {
   "cell_type": "code",
   "execution_count": 4,
   "metadata": {
    "execution": {
     "iopub.execute_input": "2022-12-16T21:56:20.164747Z",
     "iopub.status.busy": "2022-12-16T21:56:20.164362Z",
     "iopub.status.idle": "2022-12-16T21:56:20.172429Z",
     "shell.execute_reply": "2022-12-16T21:56:20.171481Z",
     "shell.execute_reply.started": "2022-12-16T21:56:20.164718Z"
    },
    "tags": []
   },
   "outputs": [],
   "source": [
    "names = set()\n",
    "rates = {}\n",
    "neighs = {}\n",
    "\n",
    "for line in lines:\n",
    "  if m := re.findall(r'^Valve (.*) has flow rate=(.*); tunnels? leads? to valves? (.*)$', line):\n",
    "    m = m[0]\n",
    "    name = m[0]\n",
    "    rate = int(m[1])\n",
    "    neigh = m[2].split(', ')\n",
    "    \n",
    "    names.add(name)\n",
    "    rates[name] = rate\n",
    "    neighs[name] = neigh\n",
    "  else:\n",
    "    raise Exception()"
   ]
  },
  {
   "cell_type": "code",
   "execution_count": 207,
   "metadata": {
    "execution": {
     "iopub.execute_input": "2022-12-16T21:51:09.962305Z",
     "iopub.status.busy": "2022-12-16T21:51:09.961886Z",
     "iopub.status.idle": "2022-12-16T21:51:09.983574Z",
     "shell.execute_reply": "2022-12-16T21:51:09.983193Z",
     "shell.execute_reply.started": "2022-12-16T21:51:09.962276Z"
    },
    "tags": []
   },
   "outputs": [
    {
     "data": {
      "text/plain": [
       "['QU',\n",
       " 'YI',\n",
       " 'VI',\n",
       " 'VB',\n",
       " 'RI',\n",
       " 'GR',\n",
       " 'PV',\n",
       " 'KA',\n",
       " 'VD',\n",
       " 'TW',\n",
       " 'DL',\n",
       " 'MN',\n",
       " 'XC',\n",
       " 'SX',\n",
       " 'FA',\n",
       " 'UJ',\n",
       " 'ME',\n",
       " 'EC',\n",
       " 'LX',\n",
       " 'SI',\n",
       " 'DP',\n",
       " 'DG',\n",
       " 'OU',\n",
       " 'WY',\n",
       " 'RP',\n",
       " 'EP',\n",
       " 'IB',\n",
       " 'QZ',\n",
       " 'IY',\n",
       " 'QL',\n",
       " 'IQ',\n",
       " 'UF',\n",
       " 'NT',\n",
       " 'NC',\n",
       " 'WI',\n",
       " 'TP',\n",
       " 'XO',\n",
       " 'AA',\n",
       " 'NJ',\n",
       " 'CH',\n",
       " 'UE',\n",
       " 'UI',\n",
       " 'VC',\n",
       " 'AM',\n",
       " 'XN',\n",
       " 'IH',\n",
       " 'GU',\n",
       " 'OG',\n",
       " 'FP',\n",
       " 'UU',\n",
       " 'YK',\n",
       " 'KT',\n",
       " 'ZR',\n",
       " 'OX',\n",
       " 'DB',\n",
       " 'YS']"
      ]
     },
     "execution_count": 207,
     "metadata": {},
     "output_type": "execute_result"
    }
   ],
   "source": [
    "paths = {}\n",
    "\n",
    "for start in names:\n",
    "  visited = set()\n",
    "  distance = {start: 0}\n",
    "  q = collections.deque([start])\n",
    "  prev = {}\n",
    "  \n",
    "  while q:\n",
    "    t = q.popleft()\n",
    "    \n",
    "    for tt in neighs[t]:\n",
    "      if tt not in visited:\n",
    "        visited.add(tt)\n",
    "        q.append(tt)\n",
    "        distance[tt] = distance[t] + 1\n",
    "        prev[tt] = t\n",
    "  \n",
    "  for name in names:\n",
    "    t = name\n",
    "    path = []\n",
    "    \n",
    "    while t != start:\n",
    "      path.append(t)\n",
    "      t = prev[t]\n",
    "    \n",
    "    paths[(start, name)] = path[::-1]\n",
    "    \n",
    "byrate = sorted(names, key=lambda x: rates[x])\n",
    "byrate"
   ]
  },
  {
   "cell_type": "code",
   "execution_count": 208,
   "metadata": {
    "execution": {
     "iopub.execute_input": "2022-12-16T21:51:10.161439Z",
     "iopub.status.busy": "2022-12-16T21:51:10.161116Z",
     "iopub.status.idle": "2022-12-16T21:51:10.171527Z",
     "shell.execute_reply": "2022-12-16T21:51:10.170779Z",
     "shell.execute_reply.started": "2022-12-16T21:51:10.161419Z"
    },
    "tags": []
   },
   "outputs": [
    {
     "data": {
      "text/plain": [
       "{'AA',\n",
       " 'AM',\n",
       " 'CH',\n",
       " 'DB',\n",
       " 'DG',\n",
       " 'DL',\n",
       " 'DP',\n",
       " 'EC',\n",
       " 'EP',\n",
       " 'FA',\n",
       " 'FP',\n",
       " 'GR',\n",
       " 'GU',\n",
       " 'IB',\n",
       " 'IH',\n",
       " 'IQ',\n",
       " 'IY',\n",
       " 'KA',\n",
       " 'KT',\n",
       " 'LX',\n",
       " 'ME',\n",
       " 'MN',\n",
       " 'NC',\n",
       " 'NJ',\n",
       " 'NT',\n",
       " 'OG',\n",
       " 'OU',\n",
       " 'OX',\n",
       " 'PV',\n",
       " 'QL',\n",
       " 'QU',\n",
       " 'QZ',\n",
       " 'RI',\n",
       " 'RP',\n",
       " 'SI',\n",
       " 'SX',\n",
       " 'TP',\n",
       " 'TW',\n",
       " 'UE',\n",
       " 'UF',\n",
       " 'UI',\n",
       " 'UJ',\n",
       " 'UU',\n",
       " 'VB',\n",
       " 'VC',\n",
       " 'VD',\n",
       " 'VI',\n",
       " 'WI',\n",
       " 'WY',\n",
       " 'XC',\n",
       " 'XN',\n",
       " 'XO',\n",
       " 'YI',\n",
       " 'YK',\n",
       " 'YS',\n",
       " 'ZR'}"
      ]
     },
     "execution_count": 208,
     "metadata": {},
     "output_type": "execute_result"
    }
   ],
   "source": [
    "names"
   ]
  },
  {
   "cell_type": "code",
   "execution_count": 41,
   "metadata": {
    "execution": {
     "iopub.execute_input": "2022-12-16T05:45:07.021329Z",
     "iopub.status.busy": "2022-12-16T05:45:07.021173Z",
     "iopub.status.idle": "2022-12-16T05:45:07.024022Z",
     "shell.execute_reply": "2022-12-16T05:45:07.023594Z",
     "shell.execute_reply.started": "2022-12-16T05:45:07.021319Z"
    },
    "tags": []
   },
   "outputs": [
    {
     "data": {
      "text/plain": [
       "['II', 'FF', 'GG', 'AA', 'CC', 'EE', 'BB', 'DD', 'JJ', 'HH']"
      ]
     },
     "execution_count": 41,
     "metadata": {},
     "output_type": "execute_result"
    }
   ],
   "source": []
  },
  {
   "cell_type": "code",
   "execution_count": 78,
   "metadata": {
    "execution": {
     "iopub.execute_input": "2022-12-16T05:21:39.708693Z",
     "iopub.status.busy": "2022-12-16T05:21:39.708116Z",
     "iopub.status.idle": "2022-12-16T05:21:44.306795Z",
     "shell.execute_reply": "2022-12-16T05:21:44.306394Z",
     "shell.execute_reply.started": "2022-12-16T05:21:39.708655Z"
    },
    "tags": []
   },
   "outputs": [
    {
     "data": {
      "application/vnd.jupyter.widget-view+json": {
       "model_id": "823afb46ee7d4d0eb677dde0ded96aa2",
       "version_major": 2,
       "version_minor": 0
      },
      "text/plain": [
       "0it [00:00, ?it/s]"
      ]
     },
     "metadata": {},
     "output_type": "display_data"
    },
    {
     "name": "stdout",
     "output_type": "stream",
     "text": [
      "625\n",
      "722\n",
      "734\n",
      "760\n",
      "781\n",
      "854\n",
      "875\n",
      "925\n",
      "953\n",
      "977\n",
      "1010\n",
      "1027\n",
      "1043\n",
      "1046\n",
      "1055\n",
      "1063\n",
      "1075\n",
      "1094\n",
      "1121\n",
      "1137\n",
      "1140\n",
      "1149\n",
      "1154\n",
      "1195\n",
      "1199\n",
      "1207\n",
      "1219\n",
      "1247\n",
      "1312\n",
      "1316\n",
      "1328\n",
      "1347\n",
      "1361\n",
      "1366\n",
      "1377\n",
      "1383\n",
      "1431\n",
      "1438\n",
      "1487\n",
      "1531\n",
      "1571\n",
      "1613\n",
      "1653\n"
     ]
    }
   ],
   "source": [
    "best = 0\n",
    "\n",
    "for order in tqdm(itertools.permutations(byrate[-10:])):\n",
    "  cur = 'AA'\n",
    "  t = 30\n",
    "  score = 0\n",
    "  \n",
    "  for i in order:\n",
    "    t -= len(paths[(cur, i)])\n",
    "    t -= 1\n",
    "    if t <= 0:\n",
    "      break\n",
    "    score += rates[i] * t\n",
    "    cur = i\n",
    "  \n",
    "  if score > best:\n",
    "    # print(order)\n",
    "    best = score\n",
    "    print(best)"
   ]
  },
  {
   "cell_type": "code",
   "execution_count": 66,
   "metadata": {
    "execution": {
     "iopub.execute_input": "2022-12-16T05:19:51.958021Z",
     "iopub.status.busy": "2022-12-16T05:19:51.957615Z",
     "iopub.status.idle": "2022-12-16T05:19:52.531871Z",
     "shell.execute_reply": "2022-12-16T05:19:52.530355Z",
     "shell.execute_reply.started": "2022-12-16T05:19:51.957998Z"
    },
    "tags": []
   },
   "outputs": [
    {
     "name": "stdout",
     "output_type": "stream",
     "text": [
      "Submitting 1653...\n"
     ]
    },
    {
     "data": {
      "text/plain": [
       "True"
      ]
     },
     "execution_count": 66,
     "metadata": {},
     "output_type": "execute_result"
    }
   ],
   "source": [
    "submit1(1653)"
   ]
  },
  {
   "cell_type": "code",
   "execution_count": 43,
   "metadata": {
    "execution": {
     "iopub.execute_input": "2022-12-16T05:45:17.997691Z",
     "iopub.status.busy": "2022-12-16T05:45:17.997539Z",
     "iopub.status.idle": "2022-12-16T05:45:22.890339Z",
     "shell.execute_reply": "2022-12-16T05:45:22.889772Z",
     "shell.execute_reply.started": "2022-12-16T05:45:17.997681Z"
    },
    "tags": []
   },
   "outputs": [
    {
     "data": {
      "application/vnd.jupyter.widget-view+json": {
       "model_id": "e1fcd5dc51c5434099d519849bdd178e",
       "version_major": 2,
       "version_minor": 0
      },
      "text/plain": [
       "0it [00:00, ?it/s]"
      ]
     },
     "metadata": {},
     "output_type": "display_data"
    },
    {
     "name": "stdout",
     "output_type": "stream",
     "text": [
      "797\n",
      "805\n",
      "845\n",
      "859\n",
      "866\n",
      "898\n",
      "899\n",
      "906\n",
      "955\n",
      "975\n",
      "976\n",
      "987\n",
      "1050\n",
      "1063\n",
      "1071\n",
      "1073\n",
      "1084\n",
      "1089\n",
      "1095\n",
      "1102\n",
      "1106\n",
      "1110\n",
      "1139\n",
      "1212\n",
      "1218\n",
      "1228\n",
      "1233\n",
      "1242\n",
      "1246\n",
      "1247\n",
      "1258\n",
      "1320\n",
      "1333\n",
      "1341\n",
      "1354\n",
      "1355\n",
      "1360\n",
      "1363\n",
      "1376\n",
      "1381\n",
      "1387\n",
      "1388\n",
      "1390\n",
      "1396\n",
      "1409\n",
      "1414\n",
      "1415\n",
      "1417\n",
      "1430\n",
      "1435\n",
      "1444\n",
      "1446\n",
      "1449\n",
      "1455\n",
      "1456\n",
      "1460\n",
      "1464\n",
      "1474\n",
      "1477\n",
      "1481\n",
      "1482\n",
      "1485\n",
      "1486\n",
      "1496\n",
      "1499\n",
      "1503\n",
      "1506\n",
      "1513\n",
      "1527\n",
      "1549\n",
      "1551\n",
      "1552\n",
      "1555\n",
      "1557\n",
      "1558\n",
      "1567\n",
      "1570\n",
      "1588\n",
      "1589\n",
      "1601\n",
      "1615\n",
      "1625\n",
      "1626\n",
      "1628\n",
      "1631\n",
      "1636\n",
      "1637\n",
      "1640\n",
      "1643\n",
      "1646\n",
      "1647\n",
      "1655\n",
      "1660\n",
      "1662\n",
      "1664\n",
      "1670\n",
      "1671\n"
     ]
    },
    {
     "ename": "KeyboardInterrupt",
     "evalue": "",
     "output_type": "error",
     "traceback": [
      "\u001b[0;31m---------------------------------------------------------------------------\u001b[0m",
      "\u001b[0;31mKeyboardInterrupt\u001b[0m                         Traceback (most recent call last)",
      "Cell \u001b[0;32mIn[43], line 24\u001b[0m\n\u001b[1;32m     22\u001b[0m     \u001b[38;5;28;01mbreak\u001b[39;00m\n\u001b[1;32m     23\u001b[0m   score \u001b[38;5;241m+\u001b[39m\u001b[38;5;241m=\u001b[39m rates[i] \u001b[38;5;241m*\u001b[39m t\n\u001b[0;32m---> 24\u001b[0m   cur2 \u001b[38;5;241m=\u001b[39m i\n\u001b[1;32m     26\u001b[0m \u001b[38;5;28;01mif\u001b[39;00m score \u001b[38;5;241m>\u001b[39m best:\n\u001b[1;32m     27\u001b[0m   \u001b[38;5;66;03m# print(order)\u001b[39;00m\n\u001b[1;32m     28\u001b[0m   best \u001b[38;5;241m=\u001b[39m score\n",
      "\u001b[0;31mKeyboardInterrupt\u001b[0m: "
     ]
    }
   ],
   "source": [
    "best = 0\n",
    "\n",
    "for order in tqdm(itertools.permutations(byrate[-13:])):\n",
    "  cur1 = 'AA'\n",
    "  cur2 = 'AA'\n",
    "  score = 0\n",
    "  \n",
    "  t = 26\n",
    "  for i in order[::2]:\n",
    "    t -= len(paths[(cur1, i)])\n",
    "    t -= 1\n",
    "    if t <= 0:\n",
    "      break\n",
    "    score += rates[i] * t\n",
    "    cur1 = i\n",
    "  \n",
    "  t = 26\n",
    "  for i in order[1::2]:\n",
    "    t -= len(paths[(cur2, i)])\n",
    "    t -= 1\n",
    "    if t <= 0:\n",
    "      break\n",
    "    score += rates[i] * t\n",
    "    cur2 = i\n",
    "  \n",
    "  if score > best:\n",
    "    # print(order)\n",
    "    best = score\n",
    "    print(best)"
   ]
  },
  {
   "cell_type": "code",
   "execution_count": null,
   "metadata": {},
   "outputs": [],
   "source": [
    "submit2(best)"
   ]
  },
  {
   "cell_type": "code",
   "execution_count": null,
   "metadata": {},
   "outputs": [],
   "source": []
  },
  {
   "cell_type": "code",
   "execution_count": 11,
   "metadata": {
    "execution": {
     "iopub.execute_input": "2022-12-16T05:32:28.706214Z",
     "iopub.status.busy": "2022-12-16T05:32:28.706054Z",
     "iopub.status.idle": "2022-12-16T05:32:28.708313Z",
     "shell.execute_reply": "2022-12-16T05:32:28.707736Z",
     "shell.execute_reply.started": "2022-12-16T05:32:28.706205Z"
    },
    "tags": []
   },
   "outputs": [],
   "source": [
    "import multiprocessing"
   ]
  },
  {
   "cell_type": "code",
   "execution_count": 21,
   "metadata": {
    "execution": {
     "iopub.execute_input": "2022-12-16T05:36:59.682709Z",
     "iopub.status.busy": "2022-12-16T05:36:59.682526Z",
     "iopub.status.idle": "2022-12-16T05:36:59.685974Z",
     "shell.execute_reply": "2022-12-16T05:36:59.685446Z",
     "shell.execute_reply.started": "2022-12-16T05:36:59.682699Z"
    },
    "tags": []
   },
   "outputs": [],
   "source": [
    "best = 0\n",
    "\n",
    "def proc_order(order):\n",
    "  cur1 = 'AA'\n",
    "  cur2 = 'AA'\n",
    "  score = 0\n",
    "  \n",
    "  t = 26\n",
    "  for i in order[::2]:\n",
    "    t -= len(paths[(cur1, i)]) + 1\n",
    "    if t <= 0:\n",
    "      break\n",
    "    score += rates[i] * t\n",
    "    cur1 = i\n",
    "  \n",
    "  t = 26\n",
    "  for i in order[1::2]:\n",
    "    t -= len(paths[(cur2, i)]) + 1\n",
    "    if t <= 0:\n",
    "      break\n",
    "    score += rates[i] * t\n",
    "    cur2 = i\n",
    "  \n",
    "  return score"
   ]
  },
  {
   "cell_type": "code",
   "execution_count": 33,
   "metadata": {
    "execution": {
     "iopub.execute_input": "2022-12-16T05:39:40.189707Z",
     "iopub.status.busy": "2022-12-16T05:39:40.189474Z",
     "iopub.status.idle": "2022-12-16T05:39:40.192656Z",
     "shell.execute_reply": "2022-12-16T05:39:40.192194Z",
     "shell.execute_reply.started": "2022-12-16T05:39:40.189691Z"
    },
    "tags": []
   },
   "outputs": [
    {
     "data": {
      "text/plain": [
       "[('RP', 3),\n",
       " ('RI', 4),\n",
       " ('VT', 5),\n",
       " ('JQ', 6),\n",
       " ('CN', 7),\n",
       " ('HR', 11),\n",
       " ('GG', 12),\n",
       " ('KV', 13),\n",
       " ('LI', 15),\n",
       " ('DT', 16),\n",
       " ('QF', 17),\n",
       " ('SU', 19),\n",
       " ('YA', 21),\n",
       " ('NS', 23),\n",
       " ('UH', 25)]"
      ]
     },
     "execution_count": 33,
     "metadata": {},
     "output_type": "execute_result"
    }
   ],
   "source": [
    "[(i, rates[i]) for i in byrate[-15:]]"
   ]
  },
  {
   "cell_type": "code",
   "execution_count": 55,
   "metadata": {
    "execution": {
     "iopub.execute_input": "2022-12-16T05:48:38.410079Z",
     "iopub.status.busy": "2022-12-16T05:48:38.409880Z",
     "iopub.status.idle": "2022-12-16T05:58:29.559791Z",
     "shell.execute_reply": "2022-12-16T05:58:29.559516Z",
     "shell.execute_reply.started": "2022-12-16T05:48:38.410062Z"
    },
    "tags": []
   },
   "outputs": [
    {
     "data": {
      "application/vnd.jupyter.widget-view+json": {
       "model_id": "8ed963dc20394b9ab09b807b63b0b628",
       "version_major": 2,
       "version_minor": 0
      },
      "text/plain": [
       "  0%|          | 0/32768 [00:00<?, ?it/s]"
      ]
     },
     "metadata": {},
     "output_type": "display_data"
    },
    {
     "name": "stdout",
     "output_type": "stream",
     "text": [
      "1715\n",
      "1763\n",
      "1892\n",
      "1978\n",
      "1981\n",
      "2032\n",
      "2074\n",
      "2083\n",
      "2091\n",
      "2098\n",
      "2121\n",
      "2136\n",
      "2145\n",
      "2200\n",
      "2218\n",
      "2223\n"
     ]
    }
   ],
   "source": [
    "N = 15\n",
    "M = 6\n",
    "\n",
    "a = byrate[-N:]\n",
    "best = 0\n",
    "\n",
    "for i in tqdm(range(1 << N)):\n",
    "  a1 = []\n",
    "  a2 = []\n",
    "  \n",
    "  for j in range(N):\n",
    "    if i & (1 << j) > 0:\n",
    "      a1.append(a[j])\n",
    "    else:\n",
    "      a2.append(a[j])\n",
    "      \n",
    "  if len(a1) <= M or len(a2) <= M:\n",
    "    continue\n",
    "  \n",
    "  best1 = 0\n",
    "  best2 = 0\n",
    "  \n",
    "  for order in itertools.permutations(a1):\n",
    "    cur1 = 'AA'\n",
    "    score = 0\n",
    "\n",
    "    t = 26\n",
    "    for i in order:\n",
    "      t -= len(paths[(cur1, i)]) + 1\n",
    "      if t <= 0:\n",
    "        break\n",
    "      score += rates[i] * t\n",
    "      cur1 = i\n",
    "    \n",
    "    if score > best1:\n",
    "      best1 = score\n",
    "  \n",
    "  for order in itertools.permutations(a2):\n",
    "    cur1 = 'AA'\n",
    "    score = 0\n",
    "\n",
    "    t = 26\n",
    "    for i in order:\n",
    "      t -= len(paths[(cur1, i)]) + 1\n",
    "      if t <= 0:\n",
    "        break\n",
    "      score += rates[i] * t\n",
    "      cur1 = i\n",
    "    \n",
    "    if score > best2:\n",
    "      best2 = score\n",
    "  \n",
    "  if best1 + best2 > best:\n",
    "    best = best1 + best2\n",
    "    print(best)"
   ]
  },
  {
   "cell_type": "code",
   "execution_count": 52,
   "metadata": {
    "execution": {
     "iopub.execute_input": "2022-12-16T05:47:00.023776Z",
     "iopub.status.busy": "2022-12-16T05:47:00.023604Z",
     "iopub.status.idle": "2022-12-16T05:47:00.605668Z",
     "shell.execute_reply": "2022-12-16T05:47:00.605175Z",
     "shell.execute_reply.started": "2022-12-16T05:47:00.023769Z"
    },
    "tags": []
   },
   "outputs": [
    {
     "name": "stdout",
     "output_type": "stream",
     "text": [
      "Submitting 2210...\n",
      "[<p>That's not the right answer.  If you're stuck, make sure you're using the full input data; there are also some general tips on the <a href=\"/2022/about\">about page</a>, or you can ask for hints on the <a href=\"https://www.reddit.com/r/adventofcode/\" target=\"_blank\">subreddit</a>.  Because you have guessed incorrectly 5 times on this puzzle, please wait 5 minutes before trying again. (You guessed <span style=\"white-space:nowrap;\"><code>2210</code>.)</span> <a href=\"/2022/day/16\">[Return to Day 16]</a></p>]\n"
     ]
    },
    {
     "name": "stderr",
     "output_type": "stream",
     "text": [
      "/Users/abra/projects/jupyter/adventofcode2022/adventlib/common.py:51: GuessedAtParserWarning: No parser was explicitly specified, so I'm using the best available HTML parser for this system (\"html.parser\"). This usually isn't a problem, but if you run this code on another system, or in a different virtual environment, it may use a different parser and behave differently.\n",
      "\n",
      "The code that caused this warning is on line 51 of the file /Users/abra/projects/jupyter/adventofcode2022/adventlib/common.py. To get rid of this warning, pass the additional argument 'features=\"html.parser\"' to the BeautifulSoup constructor.\n",
      "\n",
      "  print(BeautifulSoup(response.text).select('main>article>p'))\n"
     ]
    },
    {
     "ename": "AssertionError",
     "evalue": "",
     "output_type": "error",
     "traceback": [
      "\u001b[0;31m---------------------------------------------------------------------------\u001b[0m",
      "\u001b[0;31mAssertionError\u001b[0m                            Traceback (most recent call last)",
      "Cell \u001b[0;32mIn[52], line 1\u001b[0m\n\u001b[0;32m----> 1\u001b[0m \u001b[43msubmit2\u001b[49m\u001b[43m(\u001b[49m\u001b[43mbest\u001b[49m\u001b[43m)\u001b[49m\n",
      "File \u001b[0;32m~/projects/jupyter/adventofcode2022/adventlib/common.py:112\u001b[0m, in \u001b[0;36mgenerate_submits.<locals>.<lambda>\u001b[0;34m(ans)\u001b[0m\n\u001b[1;32m    110\u001b[0m \u001b[38;5;28;01mdef\u001b[39;00m \u001b[38;5;21mgenerate_submits\u001b[39m(year, day):\n\u001b[1;32m    111\u001b[0m   submit1 \u001b[38;5;241m=\u001b[39m \u001b[38;5;28;01mlambda\u001b[39;00m ans: submit(year\u001b[38;5;241m=\u001b[39myear, day\u001b[38;5;241m=\u001b[39mday, level\u001b[38;5;241m=\u001b[39m\u001b[38;5;241m1\u001b[39m, ans\u001b[38;5;241m=\u001b[39mans)\n\u001b[0;32m--> 112\u001b[0m   submit2 \u001b[38;5;241m=\u001b[39m \u001b[38;5;28;01mlambda\u001b[39;00m ans: \u001b[43msubmit\u001b[49m\u001b[43m(\u001b[49m\u001b[43myear\u001b[49m\u001b[38;5;241;43m=\u001b[39;49m\u001b[43myear\u001b[49m\u001b[43m,\u001b[49m\u001b[43m \u001b[49m\u001b[43mday\u001b[49m\u001b[38;5;241;43m=\u001b[39;49m\u001b[43mday\u001b[49m\u001b[43m,\u001b[49m\u001b[43m \u001b[49m\u001b[43mlevel\u001b[49m\u001b[38;5;241;43m=\u001b[39;49m\u001b[38;5;241;43m2\u001b[39;49m\u001b[43m,\u001b[49m\u001b[43m \u001b[49m\u001b[43mans\u001b[49m\u001b[38;5;241;43m=\u001b[39;49m\u001b[43mans\u001b[49m\u001b[43m)\u001b[49m\n\u001b[1;32m    114\u001b[0m   \u001b[38;5;28;01mreturn\u001b[39;00m submit1, submit2\n",
      "File \u001b[0;32m~/projects/jupyter/adventofcode2022/adventlib/common.py:53\u001b[0m, in \u001b[0;36msubmit\u001b[0;34m(year, day, level, ans)\u001b[0m\n\u001b[1;32m     51\u001b[0m \u001b[38;5;28mprint\u001b[39m(BeautifulSoup(response\u001b[38;5;241m.\u001b[39mtext)\u001b[38;5;241m.\u001b[39mselect(\u001b[38;5;124m'\u001b[39m\u001b[38;5;124mmain>article>p\u001b[39m\u001b[38;5;124m'\u001b[39m))\n\u001b[1;32m     52\u001b[0m SUBMITTED_ANSWERS[key] \u001b[38;5;241m=\u001b[39m \u001b[38;5;28;01mFalse\u001b[39;00m\n\u001b[0;32m---> 53\u001b[0m \u001b[38;5;28;01massert\u001b[39;00m \u001b[38;5;28;01mFalse\u001b[39;00m\n",
      "\u001b[0;31mAssertionError\u001b[0m: "
     ]
    }
   ],
   "source": [
    "submit2(best)"
   ]
  },
  {
   "cell_type": "code",
   "execution_count": 57,
   "metadata": {
    "execution": {
     "iopub.execute_input": "2022-12-16T06:03:14.858999Z",
     "iopub.status.busy": "2022-12-16T06:03:14.858864Z",
     "iopub.status.idle": "2022-12-16T06:05:15.677169Z",
     "shell.execute_reply": "2022-12-16T06:05:15.676604Z",
     "shell.execute_reply.started": "2022-12-16T06:03:14.858991Z"
    },
    "tags": []
   },
   "outputs": [
    {
     "data": {
      "application/vnd.jupyter.widget-view+json": {
       "model_id": "da4fe7536dbd46f5b0b45c808244f132",
       "version_major": 2,
       "version_minor": 0
      },
      "text/plain": [
       "  0%|          | 0/32768 [00:00<?, ?it/s]"
      ]
     },
     "metadata": {},
     "output_type": "display_data"
    },
    {
     "name": "stdout",
     "output_type": "stream",
     "text": [
      "1672 ['RP', 'RI', 'VT', 'JQ', 'CN', 'HR', 'GG', 'KV'] ['LI', 'DT', 'QF', 'SU', 'YA', 'NS', 'UH']\n",
      "1757 ['RP', 'RI', 'VT', 'JQ', 'CN', 'HR', 'GG', 'LI'] ['KV', 'DT', 'QF', 'SU', 'YA', 'NS', 'UH']\n",
      "1828 ['RP', 'RI', 'VT', 'JQ', 'CN', 'HR', 'GG', 'DT'] ['KV', 'LI', 'QF', 'SU', 'YA', 'NS', 'UH']\n",
      "1981 ['RP', 'RI', 'VT', 'JQ', 'CN', 'GG', 'LI', 'DT'] ['HR', 'KV', 'QF', 'SU', 'YA', 'NS', 'UH']\n",
      "2004 ['RP', 'RI', 'VT', 'JQ', 'CN', 'HR', 'GG', 'SU'] ['KV', 'LI', 'DT', 'QF', 'YA', 'NS', 'UH']\n",
      "2032 ['RP', 'RI', 'VT', 'JQ', 'CN', 'GG', 'LI', 'SU'] ['HR', 'KV', 'DT', 'QF', 'YA', 'NS', 'UH']\n",
      "2098 ['RP', 'RI', 'VT', 'JQ', 'CN', 'GG', 'DT', 'SU'] ['HR', 'KV', 'LI', 'QF', 'YA', 'NS', 'UH']\n",
      "2121 ['RP', 'RI', 'VT', 'JQ', 'GG', 'LI', 'DT', 'SU'] ['CN', 'HR', 'KV', 'QF', 'YA', 'NS', 'UH']\n",
      "2136 ['RP', 'RI', 'JQ', 'CN', 'GG', 'LI', 'DT', 'SU'] ['VT', 'HR', 'KV', 'QF', 'YA', 'NS', 'UH']\n",
      "2145 ['RP', 'JQ', 'CN', 'GG', 'LI', 'DT', 'QF', 'SU'] ['RI', 'VT', 'HR', 'KV', 'YA', 'NS', 'UH']\n",
      "2182 ['RP', 'RI', 'VT', 'JQ', 'HR', 'KV', 'YA', 'NS'] ['CN', 'GG', 'LI', 'DT', 'QF', 'SU', 'UH']\n",
      "2200 ['RP', 'RI', 'VT', 'CN', 'HR', 'KV', 'YA', 'NS'] ['JQ', 'GG', 'LI', 'DT', 'QF', 'SU', 'UH']\n",
      "2218 ['RP', 'RI', 'VT', 'HR', 'KV', 'DT', 'YA', 'NS'] ['JQ', 'CN', 'GG', 'LI', 'QF', 'SU', 'UH']\n",
      "2223 ['RP', 'VT', 'CN', 'HR', 'KV', 'DT', 'YA', 'NS'] ['RI', 'JQ', 'GG', 'LI', 'QF', 'SU', 'UH']\n"
     ]
    },
    {
     "ename": "KeyboardInterrupt",
     "evalue": "",
     "output_type": "error",
     "traceback": [
      "\u001b[0;31m---------------------------------------------------------------------------\u001b[0m",
      "\u001b[0;31mKeyboardInterrupt\u001b[0m                         Traceback (most recent call last)",
      "Cell \u001b[0;32mIn[57], line 33\u001b[0m\n\u001b[1;32m     31\u001b[0m     \u001b[38;5;28;01mbreak\u001b[39;00m\n\u001b[1;32m     32\u001b[0m   score \u001b[38;5;241m+\u001b[39m\u001b[38;5;241m=\u001b[39m rates[i] \u001b[38;5;241m*\u001b[39m t\n\u001b[0;32m---> 33\u001b[0m   cur1 \u001b[38;5;241m=\u001b[39m i\n\u001b[1;32m     35\u001b[0m \u001b[38;5;28;01mif\u001b[39;00m score \u001b[38;5;241m>\u001b[39m best1:\n\u001b[1;32m     36\u001b[0m   best1 \u001b[38;5;241m=\u001b[39m score\n",
      "\u001b[0;31mKeyboardInterrupt\u001b[0m: "
     ]
    }
   ],
   "source": [
    "N = 15\n",
    "M = 6\n",
    "\n",
    "a = byrate[-N:]\n",
    "best = 0\n",
    "\n",
    "for i in tqdm(range(1 << N)):\n",
    "  a1 = []\n",
    "  a2 = []\n",
    "  \n",
    "  for j in range(N):\n",
    "    if i & (1 << j) > 0:\n",
    "      a1.append(a[j])\n",
    "    else:\n",
    "      a2.append(a[j])\n",
    "      \n",
    "  if len(a1) <= M or len(a2) <= M or len(a1) < len(a2):\n",
    "    continue\n",
    "  \n",
    "  best1 = 0\n",
    "  best2 = 0\n",
    "  \n",
    "  for order in itertools.permutations(a1):\n",
    "    cur1 = 'AA'\n",
    "    score = 0\n",
    "\n",
    "    t = 26\n",
    "    for i in order:\n",
    "      t -= len(paths[(cur1, i)]) + 1\n",
    "      if t <= 0:\n",
    "        break\n",
    "      score += rates[i] * t\n",
    "      cur1 = i\n",
    "    \n",
    "    if score > best1:\n",
    "      best1 = score\n",
    "  \n",
    "  for order in itertools.permutations(a2):\n",
    "    cur1 = 'AA'\n",
    "    score = 0\n",
    "\n",
    "    t = 26\n",
    "    for i in order:\n",
    "      t -= len(paths[(cur1, i)]) + 1\n",
    "      if t <= 0:\n",
    "        break\n",
    "      score += rates[i] * t\n",
    "      cur1 = i\n",
    "    \n",
    "    if score > best2:\n",
    "      best2 = score\n",
    "  \n",
    "  if best1 + best2 > best:\n",
    "    best = best1 + best2\n",
    "    print(best, a1, a2)"
   ]
  },
  {
   "cell_type": "code",
   "execution_count": null,
   "metadata": {},
   "outputs": [],
   "source": []
  },
  {
   "cell_type": "code",
   "execution_count": 60,
   "metadata": {
    "execution": {
     "iopub.execute_input": "2022-12-16T06:08:50.771122Z",
     "iopub.status.busy": "2022-12-16T06:08:50.770966Z",
     "iopub.status.idle": "2022-12-16T06:08:50.827792Z",
     "shell.execute_reply": "2022-12-16T06:08:50.827454Z",
     "shell.execute_reply.started": "2022-12-16T06:08:50.771111Z"
    },
    "tags": []
   },
   "outputs": [
    {
     "name": "stdout",
     "output_type": "stream",
     "text": [
      "A ('RP', 'VT', 'CN', 'HR', 'KV', 'DT', 'YA', 'NS') 310\n",
      "A ('RP', 'VT', 'CN', 'HR', 'NS', 'KV', 'DT', 'YA') 333\n",
      "A ('RP', 'VT', 'CN', 'KV', 'HR', 'DT', 'YA', 'NS') 390\n",
      "A ('RP', 'VT', 'CN', 'KV', 'DT', 'HR', 'YA', 'NS') 405\n",
      "A ('RP', 'VT', 'CN', 'KV', 'NS', 'HR', 'DT', 'YA') 460\n",
      "A ('RP', 'VT', 'CN', 'KV', 'NS', 'YA', 'HR', 'DT') 470\n",
      "A ('RP', 'VT', 'HR', 'KV', 'NS', 'YA', 'CN', 'DT') 486\n",
      "A ('RP', 'VT', 'HR', 'YA', 'NS', 'CN', 'KV', 'DT') 521\n",
      "A ('RP', 'VT', 'HR', 'YA', 'NS', 'KV', 'CN', 'DT') 534\n",
      "A ('RP', 'VT', 'HR', 'NS', 'KV', 'DT', 'CN', 'YA') 547\n",
      "A ('RP', 'VT', 'HR', 'NS', 'YA', 'CN', 'KV', 'DT') 571\n",
      "A ('RP', 'VT', 'KV', 'HR', 'YA', 'CN', 'DT', 'NS') 579\n",
      "A ('RP', 'VT', 'KV', 'HR', 'YA', 'NS', 'CN', 'DT') 648\n",
      "A ('RP', 'VT', 'KV', 'HR', 'NS', 'YA', 'CN', 'DT') 698\n",
      "A ('RP', 'VT', 'KV', 'YA', 'NS', 'HR', 'CN', 'DT') 703\n",
      "A ('RP', 'VT', 'KV', 'NS', 'HR', 'YA', 'CN', 'DT') 768\n",
      "A ('RP', 'VT', 'KV', 'NS', 'YA', 'HR', 'CN', 'DT') 808\n",
      "A ('RP', 'KV', 'NS', 'HR', 'YA', 'VT', 'CN', 'DT') 809\n",
      "A ('RP', 'KV', 'NS', 'YA', 'HR', 'VT', 'CN', 'DT') 849\n",
      "A ('VT', 'KV', 'HR', 'NS', 'YA', 'RP', 'CN', 'DT') 851\n",
      "A ('VT', 'KV', 'YA', 'NS', 'HR', 'RP', 'CN', 'DT') 856\n",
      "A ('VT', 'KV', 'NS', 'HR', 'YA', 'RP', 'CN', 'DT') 921\n",
      "A ('VT', 'KV', 'NS', 'YA', 'HR', 'RP', 'CN', 'DT') 961\n",
      "A ('KV', 'HR', 'YA', 'NS', 'RP', 'VT', 'CN', 'DT') 969\n",
      "A ('KV', 'HR', 'YA', 'NS', 'VT', 'RP', 'CN', 'DT') 978\n",
      "A ('KV', 'HR', 'YA', 'NS', 'DT', 'RP', 'VT', 'CN') 1027\n",
      "A ('KV', 'HR', 'NS', 'YA', 'DT', 'RP', 'VT', 'CN') 1061\n",
      "A ('KV', 'YA', 'NS', 'HR', 'DT', 'RP', 'VT', 'CN') 1066\n",
      "A ('KV', 'NS', 'HR', 'YA', 'RP', 'VT', 'CN', 'DT') 1086\n",
      "A ('KV', 'NS', 'HR', 'YA', 'VT', 'RP', 'CN', 'DT') 1093\n",
      "A ('KV', 'NS', 'HR', 'YA', 'DT', 'RP', 'VT', 'CN') 1131\n",
      "A ('KV', 'NS', 'YA', 'HR', 'VT', 'RP', 'CN', 'DT') 1138\n",
      "A ('KV', 'NS', 'YA', 'HR', 'DT', 'RP', 'VT', 'CN') 1187\n",
      "A ('RI', 'JQ', 'GG', 'LI', 'QF', 'SU', 'UH') 401\n",
      "A ('RI', 'JQ', 'GG', 'SU', 'LI', 'QF', 'UH') 493\n",
      "A ('RI', 'JQ', 'GG', 'SU', 'QF', 'LI', 'UH') 495\n",
      "A ('RI', 'JQ', 'QF', 'SU', 'GG', 'LI', 'UH') 565\n",
      "A ('RI', 'JQ', 'QF', 'UH', 'GG', 'LI', 'SU') 665\n",
      "A ('RI', 'JQ', 'QF', 'UH', 'SU', 'GG', 'LI') 684\n",
      "A ('RI', 'GG', 'JQ', 'QF', 'UH', 'LI', 'SU') 761\n",
      "A ('RI', 'GG', 'SU', 'JQ', 'LI', 'QF', 'UH') 778\n",
      "A ('RI', 'GG', 'SU', 'JQ', 'QF', 'LI', 'UH') 886\n",
      "A ('RI', 'GG', 'SU', 'JQ', 'QF', 'UH', 'LI') 1036\n"
     ]
    }
   ],
   "source": [
    "best1 = 0\n",
    "best2 = 0\n",
    "best1_order = None\n",
    "best2_order = None\n",
    "\n",
    "a1 = ['RP', 'VT', 'CN', 'HR', 'KV', 'DT', 'YA', 'NS']\n",
    "a2 = ['RI', 'JQ', 'GG', 'LI', 'QF', 'SU', 'UH']\n",
    "\n",
    "for order in itertools.permutations(a1):\n",
    "  cur1 = 'AA'\n",
    "  score = 0\n",
    "\n",
    "  t = 26\n",
    "  for i in order:\n",
    "    t -= len(paths[(cur1, i)]) + 1\n",
    "    if t <= 0:\n",
    "      break\n",
    "    score += rates[i] * t\n",
    "    cur1 = i\n",
    "\n",
    "  if score > best1:\n",
    "    best1 = score\n",
    "    best1_order = order\n",
    "    print('A', order, best1)\n",
    "\n",
    "for order in itertools.permutations(a2):\n",
    "  cur1 = 'AA'\n",
    "  score = 0\n",
    "\n",
    "  t = 26\n",
    "  for i in order:\n",
    "    t -= len(paths[(cur1, i)]) + 1\n",
    "    if t <= 0:\n",
    "      break\n",
    "    score += rates[i] * t\n",
    "    cur1 = i\n",
    "\n",
    "  if score > best2:\n",
    "    best2 = score\n",
    "    best2_order = order\n",
    "    print('A', order, best2)"
   ]
  },
  {
   "cell_type": "code",
   "execution_count": 63,
   "metadata": {
    "execution": {
     "iopub.execute_input": "2022-12-16T06:10:25.891525Z",
     "iopub.status.busy": "2022-12-16T06:10:25.891372Z",
     "iopub.status.idle": "2022-12-16T06:10:25.894644Z",
     "shell.execute_reply": "2022-12-16T06:10:25.894243Z",
     "shell.execute_reply.started": "2022-12-16T06:10:25.891515Z"
    },
    "tags": []
   },
   "outputs": [
    {
     "name": "stdout",
     "output_type": "stream",
     "text": [
      "used KV 273 21\n",
      "used NS 687 18\n",
      "used YA 1002 15\n",
      "used HR 1123 11\n",
      "used DT 1187 4\n"
     ]
    }
   ],
   "source": [
    "cur1 = 'AA'\n",
    "score = 0\n",
    "\n",
    "t = 26\n",
    "for i in best1_order:\n",
    "  t -= len(paths[(cur1, i)]) + 1\n",
    "  if t <= 0:\n",
    "    break\n",
    "  score += rates[i] * t\n",
    "  cur1 = i\n",
    "  print('used', cur1, score, t)"
   ]
  },
  {
   "cell_type": "code",
   "execution_count": 64,
   "metadata": {
    "execution": {
     "iopub.execute_input": "2022-12-16T06:10:26.028798Z",
     "iopub.status.busy": "2022-12-16T06:10:26.028573Z",
     "iopub.status.idle": "2022-12-16T06:10:26.031419Z",
     "shell.execute_reply": "2022-12-16T06:10:26.031028Z",
     "shell.execute_reply.started": "2022-12-16T06:10:26.028782Z"
    },
    "tags": []
   },
   "outputs": [
    {
     "name": "stdout",
     "output_type": "stream",
     "text": [
      "used RI 92 23\n",
      "used GG 332 20\n",
      "used SU 655 17\n",
      "used JQ 733 13\n",
      "used QF 886 9\n",
      "used UH 1036 6\n"
     ]
    }
   ],
   "source": [
    "cur1 = 'AA'\n",
    "score = 0\n",
    "\n",
    "t = 26\n",
    "for i in best2_order:\n",
    "  t -= len(paths[(cur1, i)]) + 1\n",
    "  if t <= 0:\n",
    "    break\n",
    "  score += rates[i] * t\n",
    "  cur1 = i\n",
    "  print('used', cur1, score, t)"
   ]
  },
  {
   "cell_type": "code",
   "execution_count": null,
   "metadata": {},
   "outputs": [],
   "source": []
  },
  {
   "cell_type": "code",
   "execution_count": null,
   "metadata": {},
   "outputs": [],
   "source": []
  },
  {
   "cell_type": "code",
   "execution_count": null,
   "metadata": {},
   "outputs": [],
   "source": []
  },
  {
   "cell_type": "code",
   "execution_count": null,
   "metadata": {},
   "outputs": [],
   "source": []
  },
  {
   "cell_type": "code",
   "execution_count": null,
   "metadata": {},
   "outputs": [],
   "source": []
  },
  {
   "cell_type": "code",
   "execution_count": 66,
   "metadata": {
    "execution": {
     "iopub.execute_input": "2022-12-16T06:18:08.819312Z",
     "iopub.status.busy": "2022-12-16T06:18:08.819156Z",
     "iopub.status.idle": "2022-12-16T06:18:08.822139Z",
     "shell.execute_reply": "2022-12-16T06:18:08.821624Z",
     "shell.execute_reply.started": "2022-12-16T06:18:08.819301Z"
    },
    "tags": []
   },
   "outputs": [
    {
     "data": {
      "text/plain": [
       "('KV', 'NS', 'YA', 'HR', 'DT', 'RP', 'VT', 'CN')"
      ]
     },
     "execution_count": 66,
     "metadata": {},
     "output_type": "execute_result"
    }
   ],
   "source": [
    "best1_order"
   ]
  },
  {
   "cell_type": "code",
   "execution_count": 71,
   "metadata": {
    "execution": {
     "iopub.execute_input": "2022-12-16T06:19:06.731184Z",
     "iopub.status.busy": "2022-12-16T06:19:06.730993Z",
     "iopub.status.idle": "2022-12-16T06:19:06.735615Z",
     "shell.execute_reply": "2022-12-16T06:19:06.735213Z",
     "shell.execute_reply.started": "2022-12-16T06:19:06.731166Z"
    },
    "tags": []
   },
   "outputs": [
    {
     "data": {
      "text/plain": [
       "1187"
      ]
     },
     "execution_count": 71,
     "metadata": {},
     "output_type": "execute_result"
    }
   ],
   "source": [
    "calc_with_order(set(best1_order), 'AA', 26, 0)"
   ]
  },
  {
   "cell_type": "code",
   "execution_count": 70,
   "metadata": {
    "execution": {
     "iopub.execute_input": "2022-12-16T06:19:05.560342Z",
     "iopub.status.busy": "2022-12-16T06:19:05.559910Z",
     "iopub.status.idle": "2022-12-16T06:19:05.564535Z",
     "shell.execute_reply": "2022-12-16T06:19:05.563917Z",
     "shell.execute_reply.started": "2022-12-16T06:19:05.560324Z"
    },
    "tags": []
   },
   "outputs": [],
   "source": [
    "def calc_with_order(options, cur, timeleft, score):\n",
    "  best = score\n",
    "\n",
    "  for option in list(options):\n",
    "    time = timeleft - len(paths[(cur, option)]) - 1\n",
    "    if time <= 0:\n",
    "      continue\n",
    "    \n",
    "    gain_score = rates[option] * time\n",
    "    \n",
    "    options.remove(option)\n",
    "    best = max(best, calc_with_order(options, option, time, score + gain_score))\n",
    "    options.add(option)\n",
    "  \n",
    "  return best"
   ]
  },
  {
   "cell_type": "code",
   "execution_count": 151,
   "metadata": {
    "execution": {
     "iopub.execute_input": "2022-12-16T21:07:52.881380Z",
     "iopub.status.busy": "2022-12-16T21:07:52.880029Z",
     "iopub.status.idle": "2022-12-16T21:08:00.696575Z",
     "shell.execute_reply": "2022-12-16T21:08:00.696261Z",
     "shell.execute_reply.started": "2022-12-16T21:07:52.881339Z"
    },
    "tags": []
   },
   "outputs": [
    {
     "data": {
      "application/vnd.jupyter.widget-view+json": {
       "model_id": "04b219570e04437e873b1de5a7b18e45",
       "version_major": 2,
       "version_minor": 0
      },
      "text/plain": [
       "  0%|          | 0/32768 [00:00<?, ?it/s]"
      ]
     },
     "metadata": {},
     "output_type": "display_data"
    },
    {
     "name": "stdout",
     "output_type": "stream",
     "text": [
      "1672 ['RP', 'RI', 'VT', 'JQ', 'CN', 'HR', 'GG', 'KV'] ['LI', 'DT', 'QF', 'SU', 'YA', 'NS', 'UH']\n",
      "1757 ['RP', 'RI', 'VT', 'JQ', 'CN', 'HR', 'GG', 'LI'] ['KV', 'DT', 'QF', 'SU', 'YA', 'NS', 'UH']\n",
      "1828 ['RP', 'RI', 'VT', 'JQ', 'CN', 'HR', 'GG', 'DT'] ['KV', 'LI', 'QF', 'SU', 'YA', 'NS', 'UH']\n",
      "1981 ['RP', 'RI', 'VT', 'JQ', 'CN', 'GG', 'LI', 'DT'] ['HR', 'KV', 'QF', 'SU', 'YA', 'NS', 'UH']\n",
      "2004 ['RP', 'RI', 'VT', 'JQ', 'CN', 'HR', 'GG', 'SU'] ['KV', 'LI', 'DT', 'QF', 'YA', 'NS', 'UH']\n",
      "2032 ['RP', 'RI', 'VT', 'JQ', 'CN', 'GG', 'LI', 'SU'] ['HR', 'KV', 'DT', 'QF', 'YA', 'NS', 'UH']\n",
      "2098 ['RP', 'RI', 'VT', 'JQ', 'CN', 'GG', 'DT', 'SU'] ['HR', 'KV', 'LI', 'QF', 'YA', 'NS', 'UH']\n",
      "2121 ['RP', 'RI', 'VT', 'JQ', 'GG', 'LI', 'DT', 'SU'] ['CN', 'HR', 'KV', 'QF', 'YA', 'NS', 'UH']\n",
      "2136 ['RP', 'RI', 'JQ', 'CN', 'GG', 'LI', 'DT', 'SU'] ['VT', 'HR', 'KV', 'QF', 'YA', 'NS', 'UH']\n",
      "2145 ['RP', 'JQ', 'CN', 'GG', 'LI', 'DT', 'QF', 'SU'] ['RI', 'VT', 'HR', 'KV', 'YA', 'NS', 'UH']\n",
      "2182 ['RP', 'RI', 'VT', 'JQ', 'HR', 'KV', 'YA', 'NS'] ['CN', 'GG', 'LI', 'DT', 'QF', 'SU', 'UH']\n",
      "2200 ['RP', 'RI', 'VT', 'CN', 'HR', 'KV', 'YA', 'NS'] ['JQ', 'GG', 'LI', 'DT', 'QF', 'SU', 'UH']\n",
      "2218 ['RP', 'RI', 'VT', 'HR', 'KV', 'DT', 'YA', 'NS'] ['JQ', 'CN', 'GG', 'LI', 'QF', 'SU', 'UH']\n",
      "2223 ['RP', 'VT', 'CN', 'HR', 'KV', 'DT', 'YA', 'NS'] ['RI', 'JQ', 'GG', 'LI', 'QF', 'SU', 'UH']\n"
     ]
    }
   ],
   "source": [
    "N = 15\n",
    "M = 6\n",
    "\n",
    "a = byrate[-N:]\n",
    "best = 0\n",
    "\n",
    "for i in tqdm(range(1 << N)):\n",
    "  a1 = []\n",
    "  a2 = []\n",
    "  \n",
    "  for j in range(N):\n",
    "    if i & (1 << j) > 0:\n",
    "      a1.append(a[j])\n",
    "    else:\n",
    "      a2.append(a[j])\n",
    "      \n",
    "  if len(a1) <= M or len(a2) <= M or len(a1) < len(a2):\n",
    "    continue\n",
    "  \n",
    "  best1 = calc_with_order(set(a1), 'AA', 26, 0)\n",
    "  best2 = calc_with_order(set(a2), 'AA', 26, 0)\n",
    "  \n",
    "  if best1 + best2 > best:\n",
    "    best = best1 + best2\n",
    "    print(best, a1, a2)"
   ]
  },
  {
   "cell_type": "code",
   "execution_count": 80,
   "metadata": {
    "execution": {
     "iopub.execute_input": "2022-12-16T06:21:00.557689Z",
     "iopub.status.busy": "2022-12-16T06:21:00.557552Z",
     "iopub.status.idle": "2022-12-16T06:21:00.560259Z",
     "shell.execute_reply": "2022-12-16T06:21:00.559936Z",
     "shell.execute_reply.started": "2022-12-16T06:21:00.557681Z"
    },
    "tags": []
   },
   "outputs": [
    {
     "data": {
      "text/plain": [
       "(64, 15)"
      ]
     },
     "execution_count": 80,
     "metadata": {},
     "output_type": "execute_result"
    }
   ],
   "source": [
    "sum(array(list(rates.values())) >= 0), sum(array(list(rates.values())) > 0)"
   ]
  },
  {
   "cell_type": "code",
   "execution_count": null,
   "metadata": {},
   "outputs": [],
   "source": []
  },
  {
   "cell_type": "code",
   "execution_count": null,
   "metadata": {},
   "outputs": [],
   "source": []
  },
  {
   "cell_type": "code",
   "execution_count": null,
   "metadata": {},
   "outputs": [],
   "source": []
  },
  {
   "cell_type": "code",
   "execution_count": 127,
   "metadata": {
    "execution": {
     "iopub.execute_input": "2022-12-16T20:45:08.442790Z",
     "iopub.status.busy": "2022-12-16T20:45:08.442400Z",
     "iopub.status.idle": "2022-12-16T20:45:11.970744Z",
     "shell.execute_reply": "2022-12-16T20:45:11.969927Z",
     "shell.execute_reply.started": "2022-12-16T20:45:08.442771Z"
    },
    "tags": []
   },
   "outputs": [
    {
     "data": {
      "application/vnd.jupyter.widget-view+json": {
       "model_id": "3b529d6b904e4515828c7b9e6010236d",
       "version_major": 2,
       "version_minor": 0
      },
      "text/plain": [
       "  0%|          | 0/30 [00:00<?, ?it/s]"
      ]
     },
     "metadata": {},
     "output_type": "display_data"
    },
    {
     "name": "stdout",
     "output_type": "stream",
     "text": [
      "174\n",
      "174\n"
     ]
    },
    {
     "ename": "KeyboardInterrupt",
     "evalue": "",
     "output_type": "error",
     "traceback": [
      "\u001b[0;31m---------------------------------------------------------------------------\u001b[0m",
      "\u001b[0;31mKeyboardInterrupt\u001b[0m                         Traceback (most recent call last)",
      "Cell \u001b[0;32mIn[127], line 38\u001b[0m\n\u001b[1;32m     33\u001b[0m   m2 \u001b[38;5;241m=\u001b[39m m1 \u001b[38;5;241m+\u001b[39m (\u001b[38;5;241m1\u001b[39m \u001b[38;5;241m<<\u001b[39m i1)\n\u001b[1;32m     35\u001b[0m   newdp[v1, :, m2] \u001b[38;5;241m=\u001b[39m np\u001b[38;5;241m.\u001b[39mmaximum(\n\u001b[1;32m     36\u001b[0m     dp[v1, :, m1] \u001b[38;5;241m+\u001b[39m (time_remaining \u001b[38;5;241m-\u001b[39m \u001b[38;5;241m1\u001b[39m) \u001b[38;5;241m*\u001b[39m rates_i[v1],\n\u001b[1;32m     37\u001b[0m     newdp[v1, :, m2])\n\u001b[0;32m---> 38\u001b[0m   newdp[:, v1, m2] \u001b[38;5;241m=\u001b[39m \u001b[43mnp\u001b[49m\u001b[38;5;241;43m.\u001b[39;49m\u001b[43mmaximum\u001b[49m\u001b[43m(\u001b[49m\n\u001b[1;32m     39\u001b[0m \u001b[43m    \u001b[49m\u001b[43mdp\u001b[49m\u001b[43m[\u001b[49m\u001b[43m:\u001b[49m\u001b[43m,\u001b[49m\u001b[43m \u001b[49m\u001b[43mv1\u001b[49m\u001b[43m,\u001b[49m\u001b[43m \u001b[49m\u001b[43mm1\u001b[49m\u001b[43m]\u001b[49m\u001b[43m \u001b[49m\u001b[38;5;241;43m+\u001b[39;49m\u001b[43m \u001b[49m\u001b[43m(\u001b[49m\u001b[43mtime_remaining\u001b[49m\u001b[43m \u001b[49m\u001b[38;5;241;43m-\u001b[39;49m\u001b[43m \u001b[49m\u001b[38;5;241;43m1\u001b[39;49m\u001b[43m)\u001b[49m\u001b[43m \u001b[49m\u001b[38;5;241;43m*\u001b[39;49m\u001b[43m \u001b[49m\u001b[43mrates_i\u001b[49m\u001b[43m[\u001b[49m\u001b[43mv1\u001b[49m\u001b[43m]\u001b[49m\u001b[43m,\u001b[49m\n\u001b[1;32m     40\u001b[0m \u001b[43m    \u001b[49m\u001b[43mnewdp\u001b[49m\u001b[43m[\u001b[49m\u001b[43m:\u001b[49m\u001b[43m,\u001b[49m\u001b[43m \u001b[49m\u001b[43mv1\u001b[49m\u001b[43m,\u001b[49m\u001b[43m \u001b[49m\u001b[43mm2\u001b[49m\u001b[43m]\u001b[49m\u001b[43m)\u001b[49m\n\u001b[1;32m     42\u001b[0m dp \u001b[38;5;241m=\u001b[39m newdp\n\u001b[1;32m     43\u001b[0m \u001b[38;5;28mprint\u001b[39m(np\u001b[38;5;241m.\u001b[39mmax(dp))\n",
      "\u001b[0;31mKeyboardInterrupt\u001b[0m: "
     ]
    }
   ],
   "source": [
    "name_list = list(names)\n",
    "name_to_index = {j: i for i, j in enumerate(names)}\n",
    "\n",
    "neighs_i = [\n",
    "  [name_to_index[j] for j in neighs[i]]\n",
    "  for i in name_list\n",
    "]\n",
    "rates_i = [rates[i] for i in name_list]\n",
    "\n",
    "useful_nodes = [i for i, j in enumerate(rates_i) if j > 0]\n",
    "\n",
    "N = len(name_list)\n",
    "M = len(useful_nodes)\n",
    "masks = arange(1 << M, dtype=int)\n",
    "\n",
    "dp = zeros((N, N, 1 << M), dtype=int)\n",
    "dp -= 1000000\n",
    "dp[0][0][0] = 0\n",
    "\n",
    "for time_remaining in tqdm(range(30, 0, -1)):\n",
    "# for time_remaining in tqdm(range(26, 20, -1)):\n",
    "  newdp = dp + 0\n",
    "  \n",
    "  # movement\n",
    "  for v1 in range(N):\n",
    "    for v2 in neighs_i[v1]:\n",
    "      newdp[v2, :, :] = np.maximum(dp[v1, :, :], newdp[v2, :, :])\n",
    "      newdp[:, v2, :] = np.maximum(dp[:, v1, :], newdp[:, v2, :])\n",
    "    \n",
    "  # activation\n",
    "  for i1, v1 in enumerate(useful_nodes):\n",
    "    m1 = where((masks & (1 << i1)) == 0)[0]\n",
    "    m2 = m1 + (1 << i1)\n",
    "    \n",
    "    newdp[v1, :, m2] = np.maximum(\n",
    "      dp[v1, :, m1] + (time_remaining - 1) * rates_i[v1],\n",
    "      newdp[v1, :, m2])\n",
    "    newdp[:, v1, m2] = np.maximum(\n",
    "      dp[:, v1, m1] + (time_remaining - 1) * rates_i[v1],\n",
    "      newdp[:, v1, m2])\n",
    "\n",
    "  dp = newdp\n",
    "  print(np.max(dp))"
   ]
  },
  {
   "cell_type": "code",
   "execution_count": 125,
   "metadata": {
    "execution": {
     "iopub.execute_input": "2022-12-16T20:44:12.510215Z",
     "iopub.status.busy": "2022-12-16T20:44:12.509909Z",
     "iopub.status.idle": "2022-12-16T20:44:13.576157Z",
     "shell.execute_reply": "2022-12-16T20:44:13.575682Z",
     "shell.execute_reply.started": "2022-12-16T20:44:12.510195Z"
    },
    "tags": []
   },
   "outputs": [
    {
     "data": {
      "application/vnd.jupyter.widget-view+json": {
       "model_id": "baed93bedfb340cba7bc1b25ac97bb50",
       "version_major": 2,
       "version_minor": 0
      },
      "text/plain": [
       "  0%|          | 0/32768 [00:00<?, ?it/s]"
      ]
     },
     "metadata": {},
     "output_type": "display_data"
    },
    {
     "data": {
      "text/plain": [
       "2616"
      ]
     },
     "execution_count": 125,
     "metadata": {},
     "output_type": "execute_result"
    }
   ],
   "source": [
    "x = np.max(dp, axis=(0, 1))\n",
    "best = 0\n",
    "for i in tqdm(range(1 << M)):\n",
    "  m = where((masks & i) == 0)\n",
    "  best = max(best, np.max(x[m] + x[i]))\n",
    "best"
   ]
  },
  {
   "cell_type": "code",
   "execution_count": 6,
   "metadata": {
    "execution": {
     "iopub.execute_input": "2022-12-16T21:56:36.001174Z",
     "iopub.status.busy": "2022-12-16T21:56:36.000631Z",
     "iopub.status.idle": "2022-12-16T21:56:36.163405Z",
     "shell.execute_reply": "2022-12-16T21:56:36.163101Z",
     "shell.execute_reply.started": "2022-12-16T21:56:36.001134Z"
    },
    "tags": []
   },
   "outputs": [
    {
     "name": "stdout",
     "output_type": "stream",
     "text": [
      "ans 1 1460\n"
     ]
    }
   ],
   "source": [
    "name_list = list(names)\n",
    "name_to_index = {j: i for i, j in enumerate(names)}\n",
    "\n",
    "neighs_i = [\n",
    "  [name_to_index[j] for j in neighs[i]]\n",
    "  for i in name_list\n",
    "]\n",
    "rates_i = [rates[i] for i in name_list]\n",
    "\n",
    "useful_nodes = [i for i, j in enumerate(rates_i) if j > 0]\n",
    "\n",
    "N = len(name_list)\n",
    "M = len(useful_nodes)\n",
    "masks = arange(1 << M, dtype=int)\n",
    "\n",
    "dp = full((N, 1 << M), -100000, dtype=int)\n",
    "dp[name_to_index['AA'], 0] = 0\n",
    "\n",
    "for time_remaining in range(30, 0, -1):\n",
    "  newdp = np.array(dp)\n",
    "  \n",
    "  # movement\n",
    "  for v1 in range(N):\n",
    "    for v2 in neighs_i[v1]:\n",
    "      newdp[v2, :] = np.maximum(newdp[v2, :], dp[v1, :])\n",
    "    \n",
    "  # activation\n",
    "  for i1, v1 in enumerate(useful_nodes):\n",
    "    m1 = where((masks & (1 << i1)) == 0)[0]\n",
    "    m2 = m1 | (1 << i1)\n",
    "    \n",
    "    newdp[v1, m2] = np.maximum(\n",
    "      newdp[v1, m2],\n",
    "      dp[v1, m1] + (time_remaining - 1) * rates_i[v1])\n",
    "\n",
    "  dp = newdp\n",
    "  \n",
    "print('ans 1', np.max(dp))"
   ]
  },
  {
   "cell_type": "code",
   "execution_count": 211,
   "metadata": {
    "execution": {
     "iopub.execute_input": "2022-12-16T21:51:47.853939Z",
     "iopub.status.busy": "2022-12-16T21:51:47.853617Z",
     "iopub.status.idle": "2022-12-16T21:51:49.007998Z",
     "shell.execute_reply": "2022-12-16T21:51:49.007553Z",
     "shell.execute_reply.started": "2022-12-16T21:51:47.853919Z"
    },
    "tags": []
   },
   "outputs": [
    {
     "name": "stdout",
     "output_type": "stream",
     "text": [
      "ans 2 2117\n"
     ]
    }
   ],
   "source": [
    "dp = full((N, 1 << M), -100000, dtype=int)\n",
    "dp[name_to_index['AA'], 0] = 0\n",
    "\n",
    "for time_remaining in range(26, 0, -1):\n",
    "  newdp = np.array(dp)\n",
    "  \n",
    "  # movement\n",
    "  for v1 in range(N):\n",
    "    for v2 in neighs_i[v1]:\n",
    "      newdp[v2, :] = np.maximum(newdp[v2, :], dp[v1, :])\n",
    "    \n",
    "  # activation\n",
    "  for i1, v1 in enumerate(useful_nodes):\n",
    "    m1 = where((masks & (1 << i1)) == 0)[0]\n",
    "    m2 = m1 | (1 << i1)\n",
    "    \n",
    "    newdp[v1, m2] = np.maximum(\n",
    "      newdp[v1, m2],\n",
    "      dp[v1, m1] + (time_remaining - 1) * rates_i[v1])\n",
    "\n",
    "  dp = newdp\n",
    "\n",
    "x = np.max(dp, axis=0)\n",
    "best = 0\n",
    "for i in range(1 << M):\n",
    "  best = max(best, np.max(x[i] + x[(masks & i) == 0]))\n",
    "\n",
    "print('ans 2', best)"
   ]
  },
  {
   "cell_type": "code",
   "execution_count": null,
   "metadata": {},
   "outputs": [],
   "source": []
  },
  {
   "cell_type": "code",
   "execution_count": null,
   "metadata": {},
   "outputs": [],
   "source": []
  },
  {
   "cell_type": "code",
   "execution_count": 5,
   "metadata": {
    "execution": {
     "iopub.execute_input": "2022-12-16T21:56:32.563775Z",
     "iopub.status.busy": "2022-12-16T21:56:32.563265Z",
     "iopub.status.idle": "2022-12-16T21:56:32.888323Z",
     "shell.execute_reply": "2022-12-16T21:56:32.888030Z",
     "shell.execute_reply.started": "2022-12-16T21:56:32.563753Z"
    },
    "tags": []
   },
   "outputs": [
    {
     "name": "stdout",
     "output_type": "stream",
     "text": [
      "2117\n"
     ]
    }
   ],
   "source": [
    "# names = set of 'AA' names\n",
    "# neighs = dict of lists of neighboring names\n",
    "# rates = dict of integer pressures\n",
    "\n",
    "# convert to indices for convenience\n",
    "name_list = list(names)\n",
    "name_to_index = {j: i for i, j in enumerate(names)}\n",
    "neighs_i = [\n",
    "  [name_to_index[j] for j in neighs[i]]\n",
    "  for i in name_list\n",
    "]\n",
    "rates_i = [rates[i] for i in name_list]\n",
    "\n",
    "useful_nodes = [i for i, j in enumerate(rates_i) if j > 0]\n",
    "\n",
    "N = len(name_list)\n",
    "M = len(useful_nodes)\n",
    "masks = np.arange(1 << M, dtype=int)\n",
    "  \n",
    "dp = np.full((N, 1 << M), -100000, dtype=int)\n",
    "dp[name_to_index['AA'], 0] = 0\n",
    "\n",
    "for time_remaining in range(26, 0, -1):\n",
    "  newdp = np.array(dp)\n",
    "  \n",
    "  # movement\n",
    "  for v1 in range(N):\n",
    "    for v2 in neighs_i[v1]:\n",
    "      newdp[v2, :] = np.maximum(newdp[v2, :], dp[v1, :])\n",
    "    \n",
    "  # activation\n",
    "  for i1, v1 in enumerate(useful_nodes):\n",
    "    mask_unused = where((masks & (1 << i1)) == 0)[0]\n",
    "    mask_used = mask_unused | (1 << i1)\n",
    "    \n",
    "    newdp[v1, mask_used] = np.maximum(\n",
    "      newdp[v1, mask_used],\n",
    "      dp[v1, mask_unused] + (time_remaining - 1) * rates_i[v1])\n",
    "\n",
    "  dp = newdp\n",
    "\n",
    "best_for_mask = np.max(dp, axis=0)\n",
    "best = 0\n",
    "\n",
    "# extend masks\n",
    "for i in range(1 << M):\n",
    "  for j in range(M):\n",
    "    best_for_mask[i | (1 << j)] = max(best_for_mask[i | (1 << j)], best_for_mask[i])\n",
    "\n",
    "print(np.max(best_for_mask[masks] + best_for_mask[(1 << M) - masks - 1]))"
   ]
  }
 ],
 "metadata": {
  "kernelspec": {
   "display_name": "Python 3 (ipykernel)",
   "language": "python",
   "name": "python3"
  },
  "language_info": {
   "codemirror_mode": {
    "name": "ipython",
    "version": 3
   },
   "file_extension": ".py",
   "mimetype": "text/x-python",
   "name": "python",
   "nbconvert_exporter": "python",
   "pygments_lexer": "ipython3",
   "version": "3.11.0"
  }
 },
 "nbformat": 4,
 "nbformat_minor": 4
}
