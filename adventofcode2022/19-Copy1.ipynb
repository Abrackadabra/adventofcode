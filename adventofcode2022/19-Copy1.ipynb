{
 "cells": [
  {
   "cell_type": "code",
   "execution_count": 1,
   "metadata": {
    "execution": {
     "iopub.execute_input": "2022-12-19T10:57:23.452924Z",
     "iopub.status.busy": "2022-12-19T10:57:23.452682Z",
     "iopub.status.idle": "2022-12-19T10:57:24.355077Z",
     "shell.execute_reply": "2022-12-19T10:57:24.354729Z",
     "shell.execute_reply.started": "2022-12-19T10:57:23.452878Z"
    },
    "tags": []
   },
   "outputs": [],
   "source": [
    "import numpy as np\n",
    "from numpy import *\n",
    "import matplotlib\n",
    "from matplotlib import pyplot as plt\n",
    "from tqdm.auto import tqdm\n",
    "import requests\n",
    "import pickle\n",
    "import re\n",
    "import itertools\n",
    "import functools\n",
    "import collections\n",
    "import string\n",
    "import time\n",
    "from bs4 import BeautifulSoup\n",
    "from sortedcontainers import SortedList # http://www.grantjenks.com/docs/sortedcontainers/sortedlist.html#sortedlist\n",
    "\n",
    "import multiprocess\n",
    "# with multiprocess.Pool(processes=8) as pool:\n",
    "#   for i in pool.imap_unordered(f, a):\n",
    "#     print(i)\n",
    "\n",
    "from adventlib.common import *\n",
    "# n, m, a = lines_as_matrix_nm(lines)\n",
    "# a = lines_as_matrix(lines)\n",
    "# a = lines_as_digit_matrix(lines)\n",
    "# chunks = split_iter_by_start_indices(a, indices)\n",
    "# chunks = split_iter_by_bools(a, bools)\n",
    "\n",
    "from adventlib.point_2d import *\n",
    "# from adventlib.point_3d import *\n",
    "\n",
    "YEAR = 2022\n",
    "DAY = int('19')\n",
    "\n",
    "submit1, submit2 = generate_submits(YEAR, DAY)\n",
    "\n",
    "while True:\n",
    "  try:\n",
    "    raw_input = get_input(YEAR, DAY)\n",
    "    break\n",
    "  except Exception as e:\n",
    "    print(e)\n",
    "    time.sleep(1)"
   ]
  },
  {
   "cell_type": "code",
   "execution_count": 61,
   "metadata": {
    "execution": {
     "iopub.execute_input": "2022-12-19T11:14:14.460312Z",
     "iopub.status.busy": "2022-12-19T11:14:14.460075Z",
     "iopub.status.idle": "2022-12-19T11:14:14.462519Z",
     "shell.execute_reply": "2022-12-19T11:14:14.462153Z",
     "shell.execute_reply.started": "2022-12-19T11:14:14.460302Z"
    },
    "tags": []
   },
   "outputs": [],
   "source": [
    "lines, groups = linesplit(\"\"\"\n",
    "Blueprint 1: Each ore robot costs 4 ore. Each clay robot costs 2 ore. Each obsidian robot costs 3 ore and 14 clay. Each geode robot costs 2 ore and 7 obsidian.\n",
    "Blueprint 2: Each ore robot costs 2 ore. Each clay robot costs 3 ore. Each obsidian robot costs 3 ore and 8 clay. Each geode robot costs 3 ore and 12 obsidian.\n",
    "\"\"\".strip())"
   ]
  },
  {
   "cell_type": "code",
   "execution_count": 3,
   "metadata": {
    "execution": {
     "iopub.execute_input": "2022-12-19T10:57:25.826259Z",
     "iopub.status.busy": "2022-12-19T10:57:25.826036Z",
     "iopub.status.idle": "2022-12-19T10:57:25.829139Z",
     "shell.execute_reply": "2022-12-19T10:57:25.828354Z",
     "shell.execute_reply.started": "2022-12-19T10:57:25.826239Z"
    },
    "tags": []
   },
   "outputs": [
    {
     "name": "stdout",
     "output_type": "stream",
     "text": [
      "30 lines\n",
      "1 groups\n",
      ">>>\n",
      "Blueprint 1: Each ore robot costs 3 ore. Each clay robot costs 3 ore. Each obsidian robot costs 2 or...\n",
      "Blueprint 2: Each ore robot costs 4 ore. Each clay robot costs 4 ore. Each obsidian robot costs 4 or...\n",
      "Blueprint 3: Each ore robot costs 4 ore. Each clay robot costs 4 ore. Each obsidian robot costs 2 or...\n",
      "...\n"
     ]
    }
   ],
   "source": [
    "lines, groups = linesplit(raw_input, verbose=True)"
   ]
  },
  {
   "cell_type": "code",
   "execution_count": null,
   "metadata": {},
   "outputs": [],
   "source": []
  },
  {
   "cell_type": "code",
   "execution_count": null,
   "metadata": {
    "tags": []
   },
   "outputs": [],
   "source": []
  },
  {
   "cell_type": "code",
   "execution_count": 64,
   "metadata": {
    "execution": {
     "iopub.execute_input": "2022-12-19T11:16:20.113953Z",
     "iopub.status.busy": "2022-12-19T11:16:20.113733Z",
     "iopub.status.idle": "2022-12-19T11:17:48.795703Z",
     "shell.execute_reply": "2022-12-19T11:17:48.795390Z",
     "shell.execute_reply.started": "2022-12-19T11:16:20.113942Z"
    },
    "tags": []
   },
   "outputs": [
    {
     "data": {
      "application/vnd.jupyter.widget-view+json": {
       "model_id": "6752a6b8c2544bc2a2953c9aed661fb5",
       "version_major": 2,
       "version_minor": 0
      },
      "text/plain": [
       "  0%|          | 0/24 [00:00<?, ?it/s]"
      ]
     },
     "metadata": {},
     "output_type": "display_data"
    },
    {
     "name": "stdout",
     "output_type": "stream",
     "text": [
      "0 1 1\n",
      "1 1 1\n",
      "2 2 2\n",
      "3 3 2\n",
      "4 5 4\n",
      "5 7 4\n",
      "6 10 7\n",
      "7 15 9\n",
      "8 23 14\n",
      "9 34 22\n",
      "10 59 37\n",
      "11 97 48\n",
      "12 131 65\n",
      "13 181 98\n",
      "14 290 160\n",
      "15 487 265\n",
      "16 826 453\n",
      "17 1436 775\n",
      "18 2505 1346\n",
      "19 4546 2358\n",
      "20 8260 4212\n",
      "21 15153 8013\n",
      "22 29486 15716\n",
      "23 58164 31515\n"
     ]
    },
    {
     "data": {
      "application/vnd.jupyter.widget-view+json": {
       "model_id": "6f75e19bf13c42e3b9aa8fadd7134f4d",
       "version_major": 2,
       "version_minor": 0
      },
      "text/plain": [
       "  0%|          | 0/24 [00:00<?, ?it/s]"
      ]
     },
     "metadata": {},
     "output_type": "display_data"
    },
    {
     "name": "stdout",
     "output_type": "stream",
     "text": [
      "0 1 1\n",
      "1 1 1\n",
      "2 2 2\n",
      "3 4 3\n",
      "4 7 4\n",
      "5 9 7\n",
      "6 15 9\n",
      "7 21 9\n",
      "8 19 9\n",
      "9 19 7\n",
      "10 17 11\n",
      "11 27 15\n",
      "12 40 23\n",
      "13 63 36\n",
      "14 95 51\n",
      "15 131 68\n",
      "16 174 88\n",
      "17 246 134\n",
      "18 403 208\n",
      "19 631 314\n",
      "20 979 506\n",
      "21 1572 810\n",
      "22 2488 1285\n",
      "23 3912 2038\n"
     ]
    }
   ],
   "source": [
    "ans = []\n",
    "\n",
    "for bluep_id, line in enumerate(lines):\n",
    "  a = amap(int, re.findall(r'-?\\d+', line))\n",
    "  id = a[0]\n",
    "  rob1_1_cost = a[1]\n",
    "  rob2_1_cost = a[2]\n",
    "  rob3_1_cost, rob3_2_cost = a[3:5]\n",
    "  rob4_1_cost, rob4_3_cost = a[5:7]\n",
    "  \n",
    "  states = [\n",
    "    (\n",
    "     0, 1,\n",
    "    0, 0,\n",
    "    0, 0,\n",
    "    0, 0,\n",
    "    )\n",
    "  ]\n",
    "  # visited = set()\n",
    "  \n",
    "  for time in tqdm(range(24)):\n",
    "    newpareto = set()\n",
    "    newstates = []\n",
    "    \n",
    "    for state in states:\n",
    "      h1, r1, h2, r2, h3, r3, h4, r4 = state\n",
    "      \n",
    "      if (\n",
    "          h1 >= rob1_1_cost\n",
    "          and r1 < max(rob1_1_cost, rob2_1_cost, rob3_1_cost, r1 < rob4_1_cost)\n",
    "          # and h1 < max(rob1_1_cost, rob2_1_cost, rob3_1_cost, r1 < rob4_1_cost) * 2\n",
    "      ):\n",
    "        newstates.append(\n",
    "          (\n",
    "            h1 - rob1_1_cost + r1, r1 + 1,\n",
    "            h2 + r2, r2,\n",
    "            h3 + r3, r3,\n",
    "            h4 + r4, r4\n",
    "          )\n",
    "        )\n",
    "      \n",
    "      if (\n",
    "          h1 >= rob2_1_cost\n",
    "          and r2 < rob3_2_cost\n",
    "          # and h2 < rob3_2_cost * 2\n",
    "      ):\n",
    "        newstates.append(\n",
    "          (\n",
    "            h1 - rob2_1_cost + r1, r1,\n",
    "            h2 + r2, r2 + 1,\n",
    "            h3 + r3, r3,\n",
    "            h4 + r4, r4\n",
    "          )\n",
    "        )\n",
    "      \n",
    "      if h1 >= rob3_1_cost and h2 >= rob3_2_cost and (r3 < rob4_3_cost):\n",
    "        newstates.append(\n",
    "          (\n",
    "            h1 - rob3_1_cost + r1, r1,\n",
    "            h2 - rob3_2_cost + r2, r2,\n",
    "            h3 + r3, r3 + 1,\n",
    "            h4 + r4, r4\n",
    "          )\n",
    "        )\n",
    "      \n",
    "      if h1 >= rob4_1_cost and h3 >= rob4_3_cost:\n",
    "        newstates.append(\n",
    "          (\n",
    "            h1 - rob4_1_cost + r1, r1,\n",
    "            h2 + r2, r2,\n",
    "            h3 - rob4_3_cost + r3, r3,\n",
    "            h4 + r4, r4 + 1\n",
    "          )\n",
    "        )\n",
    "      \n",
    "      newstates.append(\n",
    "        (\n",
    "          h1 + r1, r1,\n",
    "          h2 + r2, r2,\n",
    "          h3 + r3, r3,\n",
    "          h4 + r4, r4\n",
    "        )\n",
    "      )\n",
    "      \n",
    "      for i in newstates:\n",
    "        newpareto.add(i)\n",
    "\n",
    "    a = -np.array(ndomsort.non_domin_sort(-np.array(list(newpareto)))[0])\n",
    "    states = [tuple(i) for i in a]\n",
    "    # newstates = []\n",
    "    # for i in newpareto:\n",
    "    #   should_add = True\n",
    "    #   for j in newpareto:\n",
    "    #     if i == j:\n",
    "    #       continue\n",
    "    #     found_better = True\n",
    "    #     for ii, jj in zip(i, j):\n",
    "    #       if jj >= ii:\n",
    "    #         pass\n",
    "    #       else:\n",
    "    #         found_better = False\n",
    "    #         break\n",
    "    #     if found_better:\n",
    "    #       should_add = False\n",
    "    #       break\n",
    "    #   if should_add:\n",
    "    #     newstates.append(i)\n",
    "      \n",
    "    # states = newstates\n",
    "    print(time, len(newpareto), len(states))\n",
    "  \n",
    "  ans.append(max([i[-2] for i in states]))\n",
    "  # break"
   ]
  },
  {
   "cell_type": "code",
   "execution_count": 65,
   "metadata": {
    "execution": {
     "iopub.execute_input": "2022-12-19T11:17:48.796422Z",
     "iopub.status.busy": "2022-12-19T11:17:48.796345Z",
     "iopub.status.idle": "2022-12-19T11:17:48.798953Z",
     "shell.execute_reply": "2022-12-19T11:17:48.798494Z",
     "shell.execute_reply.started": "2022-12-19T11:17:48.796415Z"
    },
    "tags": []
   },
   "outputs": [
    {
     "data": {
      "text/plain": [
       "[9, 12]"
      ]
     },
     "execution_count": 65,
     "metadata": {},
     "output_type": "execute_result"
    }
   ],
   "source": [
    "ans"
   ]
  },
  {
   "cell_type": "code",
   "execution_count": 37,
   "metadata": {
    "execution": {
     "iopub.execute_input": "2022-12-19T11:03:42.918410Z",
     "iopub.status.busy": "2022-12-19T11:03:42.918309Z",
     "iopub.status.idle": "2022-12-19T11:03:42.920652Z",
     "shell.execute_reply": "2022-12-19T11:03:42.920142Z",
     "shell.execute_reply.started": "2022-12-19T11:03:42.918403Z"
    },
    "tags": []
   },
   "outputs": [],
   "source": [
    "import scipy.spatial"
   ]
  },
  {
   "cell_type": "code",
   "execution_count": 38,
   "metadata": {
    "execution": {
     "iopub.execute_input": "2022-12-19T11:03:42.921259Z",
     "iopub.status.busy": "2022-12-19T11:03:42.921181Z",
     "iopub.status.idle": "2022-12-19T11:03:42.925149Z",
     "shell.execute_reply": "2022-12-19T11:03:42.924842Z",
     "shell.execute_reply.started": "2022-12-19T11:03:42.921252Z"
    },
    "tags": []
   },
   "outputs": [
    {
     "data": {
      "text/plain": [
       "array([[ 10,   3,  74, ...,   2,   1,   1],\n",
       "       [ 13,   3,  83, ...,   2,   0,   0],\n",
       "       [  9,   3,  61, ...,   3,   0,   1],\n",
       "       ...,\n",
       "       [ 11,   3,  58, ...,   3,   1,   1],\n",
       "       [ 12,   3, 116, ...,   0,   0,   0],\n",
       "       [ 10,   3,  41, ...,   4,   0,   0]])"
      ]
     },
     "execution_count": 38,
     "metadata": {},
     "output_type": "execute_result"
    }
   ],
   "source": [
    "np.array(list(newpareto))"
   ]
  },
  {
   "cell_type": "code",
   "execution_count": 39,
   "metadata": {
    "execution": {
     "iopub.execute_input": "2022-12-19T11:03:42.925731Z",
     "iopub.status.busy": "2022-12-19T11:03:42.925647Z",
     "iopub.status.idle": "2022-12-19T11:03:42.929355Z",
     "shell.execute_reply": "2022-12-19T11:03:42.928749Z",
     "shell.execute_reply.started": "2022-12-19T11:03:42.925724Z"
    },
    "tags": []
   },
   "outputs": [],
   "source": [
    "a = np.array(list(newpareto))\n",
    "deltas = np.max(a, axis=0) - np.min(a, axis=0)\n",
    "deltas = deltas[:8]\n",
    "non_zero_axes = where(deltas > 0)[0]"
   ]
  },
  {
   "cell_type": "code",
   "execution_count": 40,
   "metadata": {
    "execution": {
     "iopub.execute_input": "2022-12-19T11:03:42.930609Z",
     "iopub.status.busy": "2022-12-19T11:03:42.930495Z",
     "iopub.status.idle": "2022-12-19T11:03:44.903795Z",
     "shell.execute_reply": "2022-12-19T11:03:44.903390Z",
     "shell.execute_reply.started": "2022-12-19T11:03:42.930601Z"
    },
    "tags": []
   },
   "outputs": [
    {
     "data": {
      "text/plain": [
       "<scipy.spatial._qhull.ConvexHull at 0x127f3c590>"
      ]
     },
     "execution_count": 40,
     "metadata": {},
     "output_type": "execute_result"
    }
   ],
   "source": [
    "hull = scipy.spatial.ConvexHull(np.array(states)[:, non_zero_axes])\n",
    "hull"
   ]
  },
  {
   "cell_type": "code",
   "execution_count": 41,
   "metadata": {
    "execution": {
     "iopub.execute_input": "2022-12-19T11:03:44.904667Z",
     "iopub.status.busy": "2022-12-19T11:03:44.904444Z",
     "iopub.status.idle": "2022-12-19T11:03:44.932524Z",
     "shell.execute_reply": "2022-12-19T11:03:44.932241Z",
     "shell.execute_reply.started": "2022-12-19T11:03:44.904655Z"
    },
    "tags": []
   },
   "outputs": [
    {
     "data": {
      "text/plain": [
       "((927, 7), (460,), (125444, 7))"
      ]
     },
     "execution_count": 41,
     "metadata": {},
     "output_type": "execute_result"
    }
   ],
   "source": [
    "hull.points.shape, hull.vertices.shape, hull.simplices.shape"
   ]
  },
  {
   "cell_type": "code",
   "execution_count": 42,
   "metadata": {
    "execution": {
     "iopub.execute_input": "2022-12-19T11:03:44.933055Z",
     "iopub.status.busy": "2022-12-19T11:03:44.932973Z",
     "iopub.status.idle": "2022-12-19T11:03:44.935702Z",
     "shell.execute_reply": "2022-12-19T11:03:44.935185Z",
     "shell.execute_reply.started": "2022-12-19T11:03:44.933048Z"
    },
    "tags": []
   },
   "outputs": [
    {
     "data": {
      "text/plain": [
       "927"
      ]
     },
     "execution_count": 42,
     "metadata": {},
     "output_type": "execute_result"
    }
   ],
   "source": [
    "len(states)"
   ]
  },
  {
   "cell_type": "code",
   "execution_count": null,
   "metadata": {},
   "outputs": [],
   "source": []
  },
  {
   "cell_type": "code",
   "execution_count": null,
   "metadata": {},
   "outputs": [],
   "source": []
  },
  {
   "cell_type": "code",
   "execution_count": 43,
   "metadata": {
    "execution": {
     "iopub.execute_input": "2022-12-19T11:10:23.939718Z",
     "iopub.status.busy": "2022-12-19T11:10:23.939478Z",
     "iopub.status.idle": "2022-12-19T11:10:24.113347Z",
     "shell.execute_reply": "2022-12-19T11:10:24.113005Z",
     "shell.execute_reply.started": "2022-12-19T11:10:23.939703Z"
    },
    "tags": []
   },
   "outputs": [],
   "source": [
    "from nds import ndomsort"
   ]
  },
  {
   "cell_type": "code",
   "execution_count": 50,
   "metadata": {
    "execution": {
     "iopub.execute_input": "2022-12-19T11:11:49.977766Z",
     "iopub.status.busy": "2022-12-19T11:11:49.977605Z",
     "iopub.status.idle": "2022-12-19T11:11:49.982064Z",
     "shell.execute_reply": "2022-12-19T11:11:49.981624Z",
     "shell.execute_reply.started": "2022-12-19T11:11:49.977755Z"
    },
    "tags": []
   },
   "outputs": [
    {
     "data": {
      "text/plain": [
       "array([[ -10,   -3,  -74, ...,   -2,   -1,   -1],\n",
       "       [ -13,   -3,  -83, ...,   -2,    0,    0],\n",
       "       [  -9,   -3,  -61, ...,   -3,    0,   -1],\n",
       "       ...,\n",
       "       [ -11,   -3,  -58, ...,   -3,   -1,   -1],\n",
       "       [ -12,   -3, -116, ...,    0,    0,    0],\n",
       "       [ -10,   -3,  -41, ...,   -4,    0,    0]])"
      ]
     },
     "execution_count": 50,
     "metadata": {},
     "output_type": "execute_result"
    }
   ],
   "source": [
    "-np.array(list(newpareto))"
   ]
  },
  {
   "cell_type": "code",
   "execution_count": 55,
   "metadata": {
    "execution": {
     "iopub.execute_input": "2022-12-19T11:12:15.223759Z",
     "iopub.status.busy": "2022-12-19T11:12:15.223588Z",
     "iopub.status.idle": "2022-12-19T11:12:15.289838Z",
     "shell.execute_reply": "2022-12-19T11:12:15.289553Z",
     "shell.execute_reply.started": "2022-12-19T11:12:15.223748Z"
    },
    "tags": []
   },
   "outputs": [],
   "source": [
    "a = -np.array(ndomsort.non_domin_sort(-np.array(list(newpareto)))[0])"
   ]
  },
  {
   "cell_type": "code",
   "execution_count": 56,
   "metadata": {
    "execution": {
     "iopub.execute_input": "2022-12-19T11:12:19.456450Z",
     "iopub.status.busy": "2022-12-19T11:12:19.456308Z",
     "iopub.status.idle": "2022-12-19T11:12:19.458753Z",
     "shell.execute_reply": "2022-12-19T11:12:19.458340Z",
     "shell.execute_reply.started": "2022-12-19T11:12:19.456441Z"
    },
    "tags": []
   },
   "outputs": [
    {
     "data": {
      "text/plain": [
       "(927, 8)"
      ]
     },
     "execution_count": 56,
     "metadata": {},
     "output_type": "execute_result"
    }
   ],
   "source": [
    "a.shape"
   ]
  },
  {
   "cell_type": "code",
   "execution_count": 57,
   "metadata": {
    "execution": {
     "iopub.execute_input": "2022-12-19T11:12:23.946126Z",
     "iopub.status.busy": "2022-12-19T11:12:23.945983Z",
     "iopub.status.idle": "2022-12-19T11:12:23.948429Z",
     "shell.execute_reply": "2022-12-19T11:12:23.948155Z",
     "shell.execute_reply.started": "2022-12-19T11:12:23.946117Z"
    },
    "tags": []
   },
   "outputs": [
    {
     "data": {
      "text/plain": [
       "927"
      ]
     },
     "execution_count": 57,
     "metadata": {},
     "output_type": "execute_result"
    }
   ],
   "source": []
  }
 ],
 "metadata": {
  "kernelspec": {
   "display_name": "Python 3 (ipykernel)",
   "language": "python",
   "name": "python3"
  },
  "language_info": {
   "codemirror_mode": {
    "name": "ipython",
    "version": 3
   },
   "file_extension": ".py",
   "mimetype": "text/x-python",
   "name": "python",
   "nbconvert_exporter": "python",
   "pygments_lexer": "ipython3",
   "version": "3.11.0"
  }
 },
 "nbformat": 4,
 "nbformat_minor": 4
}
