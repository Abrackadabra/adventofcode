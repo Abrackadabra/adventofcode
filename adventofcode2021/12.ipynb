{
 "cells": [
  {
   "cell_type": "code",
   "execution_count": 2,
   "metadata": {},
   "outputs": [
    {
     "name": "stdout",
     "output_type": "stream",
     "text": [
      "Populating the interactive namespace from numpy and matplotlib\n"
     ]
    }
   ],
   "source": [
    "%pylab inline\n",
    "\n",
    "from tqdm import tqdm_notebook as tqdm\n",
    "import requests\n",
    "import pickle\n",
    "import re\n",
    "import itertools\n",
    "import functools\n",
    "import collections\n",
    "import string\n",
    "import time\n",
    "from bs4 import BeautifulSoup\n",
    "\n",
    "from adventlib import *\n",
    "\n",
    "YEAR = 2021\n",
    "DAY = int('12')\n",
    "\n",
    "submit1, submit2 = generate_submits(YEAR, DAY)\n",
    "\n",
    "while True:\n",
    "    try:\n",
    "        raw_input = get_input(YEAR, DAY)\n",
    "        break\n",
    "    except Exception as e:\n",
    "        print(e)\n",
    "        time.sleep(1)"
   ]
  },
  {
   "cell_type": "code",
   "execution_count": 23,
   "metadata": {},
   "outputs": [],
   "source": [
    "lines, groups = linesplit(\"\"\"\n",
    "start-A\n",
    "start-b\n",
    "A-c\n",
    "A-b\n",
    "b-d\n",
    "A-end\n",
    "b-end\n",
    "\"\"\".strip())"
   ]
  },
  {
   "cell_type": "code",
   "execution_count": 45,
   "metadata": {},
   "outputs": [
    {
     "name": "stdout",
     "output_type": "stream",
     "text": [
      "22 lines\n",
      "1 groups\n",
      ">>>\n",
      "xx-xh\n",
      "vx-qc\n",
      "cu-wf\n",
      "...\n"
     ]
    }
   ],
   "source": [
    "lines, groups = linesplit(raw_input, verbose=True)"
   ]
  },
  {
   "cell_type": "code",
   "execution_count": null,
   "metadata": {},
   "outputs": [],
   "source": []
  },
  {
   "cell_type": "code",
   "execution_count": 46,
   "metadata": {},
   "outputs": [
    {
     "data": {
      "text/plain": [
       "defaultdict(list,\n",
       "            {'xx': ['xh', 'start', 'cu', 'DR', 'ny'],\n",
       "             'xh': ['xx', 'start', 'DR', 'cu'],\n",
       "             'vx': ['qc', 'LO', 'AP', 'end'],\n",
       "             'qc': ['vx', 'DR'],\n",
       "             'cu': ['wf', 'DR', 'LO', 'xx', 'ny', 'xh'],\n",
       "             'wf': ['cu'],\n",
       "             'ny': ['LO', 'cu', 'DR', 'end', 'xx'],\n",
       "             'LO': ['ny', 'vx', 'cu', 'end'],\n",
       "             'DR': ['cu', 'qc', 'ny', 'xx', 'start', 'xh'],\n",
       "             'start': ['xx', 'xh', 'DR'],\n",
       "             'AP': ['vx'],\n",
       "             'end': ['LO', 'vx', 'ny']})"
      ]
     },
     "execution_count": 46,
     "metadata": {},
     "output_type": "execute_result"
    }
   ],
   "source": [
    "d = collections.defaultdict(list)\n",
    "\n",
    "for line in lines:\n",
    "    m = re.findall(r'\\w+', line)\n",
    "    d[m[0]].append(m[1])\n",
    "    d[m[1]].append(m[0])\n",
    "\n",
    "d"
   ]
  },
  {
   "cell_type": "code",
   "execution_count": 47,
   "metadata": {},
   "outputs": [],
   "source": [
    "small = {i for i in d.keys() if i.lower() == i and i not in ['start', 'end'] }"
   ]
  },
  {
   "cell_type": "code",
   "execution_count": 48,
   "metadata": {},
   "outputs": [
    {
     "data": {
      "text/plain": [
       "{'cu', 'ny', 'qc', 'vx', 'wf', 'xh', 'xx'}"
      ]
     },
     "execution_count": 48,
     "metadata": {},
     "output_type": "execute_result"
    }
   ],
   "source": [
    "small"
   ]
  },
  {
   "cell_type": "code",
   "execution_count": 27,
   "metadata": {},
   "outputs": [
    {
     "data": {
      "text/plain": [
       "10"
      ]
     },
     "execution_count": 27,
     "metadata": {},
     "output_type": "execute_result"
    }
   ],
   "source": [
    "def dfs(v, visited):\n",
    "    if v == 'end':\n",
    "        return 1\n",
    "    c = 0\n",
    "    for vv in d[v]:\n",
    "        if vv != 'start' and vv not in small:\n",
    "            c += dfs(vv, visited)\n",
    "        elif vv != 'start' and vv not in visited:\n",
    "            visited.add(vv)\n",
    "            c += dfs(vv, visited)\n",
    "            visited.remove(vv)\n",
    "    return c\n",
    "\n",
    "visited = set()\n",
    "dfs('start', visited)"
   ]
  },
  {
   "cell_type": "code",
   "execution_count": 20,
   "metadata": {},
   "outputs": [
    {
     "data": {
      "text/plain": [
       "True"
      ]
     },
     "execution_count": 20,
     "metadata": {},
     "output_type": "execute_result"
    }
   ],
   "source": [
    "submit1(_)"
   ]
  },
  {
   "cell_type": "code",
   "execution_count": 49,
   "metadata": {},
   "outputs": [
    {
     "data": {
      "text/plain": [
       "98441"
      ]
     },
     "execution_count": 49,
     "metadata": {},
     "output_type": "execute_result"
    }
   ],
   "source": [
    "def dfs(v, visited, special):\n",
    "    c = 0\n",
    "    for vv in d[v]:\n",
    "        if vv == 'start':\n",
    "            continue  \n",
    "        elif vv == 'end':\n",
    "            c += 1\n",
    "        elif vv not in small:\n",
    "            c += dfs(vv, visited, special)\n",
    "        elif special is None and visited[vv] == 1:\n",
    "            visited[vv] += 1\n",
    "            c += dfs(vv, visited, vv)\n",
    "            visited[vv] -= 1\n",
    "        elif visited[vv] < 1:\n",
    "            visited[vv] += 1\n",
    "            c += dfs(vv, visited, special)\n",
    "            visited[vv] -= 1\n",
    "    return c\n",
    "\n",
    "visited = collections.defaultdict(int)\n",
    "dfs('start', visited, None)"
   ]
  },
  {
   "cell_type": "code",
   "execution_count": 50,
   "metadata": {},
   "outputs": [
    {
     "data": {
      "text/plain": [
       "True"
      ]
     },
     "execution_count": 50,
     "metadata": {},
     "output_type": "execute_result"
    }
   ],
   "source": [
    "submit2(_)"
   ]
  }
 ],
 "metadata": {
  "kernelspec": {
   "display_name": "Python 3",
   "language": "python",
   "name": "python3"
  },
  "language_info": {
   "codemirror_mode": {
    "name": "ipython",
    "version": 3
   },
   "file_extension": ".py",
   "mimetype": "text/x-python",
   "name": "python",
   "nbconvert_exporter": "python",
   "pygments_lexer": "ipython3",
   "version": "3.9.0"
  }
 },
 "nbformat": 4,
 "nbformat_minor": 4
}
