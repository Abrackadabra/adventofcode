{
 "cells": [
  {
   "cell_type": "code",
   "execution_count": 1,
   "metadata": {},
   "outputs": [
    {
     "name": "stdout",
     "output_type": "stream",
     "text": [
      "Populating the interactive namespace from numpy and matplotlib\n"
     ]
    }
   ],
   "source": [
    "%pylab inline\n",
    "\n",
    "from tqdm import tqdm_notebook as tqdm\n",
    "import requests\n",
    "import pickle\n",
    "import re\n",
    "import itertools\n",
    "import functools\n",
    "import collections\n",
    "import string\n",
    "import time\n",
    "from bs4 import BeautifulSoup\n",
    "from sortedcontainers import SortedList # http://www.grantjenks.com/docs/sortedcontainers/sortedlist.html#sortedlist\n",
    "\n",
    "from adventlib import *\n",
    "\n",
    "YEAR = 2021\n",
    "DAY = int('25')\n",
    "\n",
    "submit1, submit2 = generate_submits(YEAR, DAY)\n",
    "\n",
    "while True:\n",
    "  try:\n",
    "    raw_input = get_input(YEAR, DAY)\n",
    "    break\n",
    "  except Exception as e:\n",
    "    print(e)\n",
    "    time.sleep(1)"
   ]
  },
  {
   "cell_type": "code",
   "execution_count": 2,
   "metadata": {},
   "outputs": [],
   "source": [
    "lines, groups = linesplit(\"\"\"\n",
    "v...>>.vv>\n",
    ".vv>>.vv..\n",
    ">>.>v>...v\n",
    ">>v>>.>.v.\n",
    "v>v.vv.v..\n",
    ">.>>..v...\n",
    ".vv..>.>v.\n",
    "v.v..>>v.v\n",
    "....v..v.>\n",
    "\"\"\".strip())"
   ]
  },
  {
   "cell_type": "code",
   "execution_count": 17,
   "metadata": {},
   "outputs": [
    {
     "name": "stdout",
     "output_type": "stream",
     "text": [
      "137 lines\n",
      "1 groups\n",
      ">>>\n",
      ">...v>..v......v>>>.>....>v.>v...>....v...>...>.>v.>>>>..>.>>v.........>>vv..>vvv>.v>v..v....v.>.>v>...\n",
      "..>>>....vv..>>.vv.v..v....>v.>>.....>.>.>v......v...v.........>.>>..v.>.....vvv..>..vvv.>.>..>v.vv>...\n",
      "v>...v.v.v.>>...vv>vvv..vv...v...>.v>....>>.>...>.vv..>>.v>v........>v.v.>v>>..>.>..........vvv.>......\n",
      "...\n"
     ]
    }
   ],
   "source": [
    "lines, groups = linesplit(raw_input, verbose=True)"
   ]
  },
  {
   "cell_type": "code",
   "execution_count": null,
   "metadata": {},
   "outputs": [],
   "source": []
  },
  {
   "cell_type": "code",
   "execution_count": 18,
   "metadata": {},
   "outputs": [],
   "source": [
    "n, m, a = lines_as_matrix_nm(lines)"
   ]
  },
  {
   "cell_type": "code",
   "execution_count": 19,
   "metadata": {},
   "outputs": [
    {
     "data": {
      "text/plain": [
       "array([['>', '.', '.', ..., '>', '>', '.'],\n",
       "       ['.', '.', '>', ..., '>', '>', 'v'],\n",
       "       ['v', '>', '.', ..., '.', '>', '.'],\n",
       "       ...,\n",
       "       ['.', 'v', '.', ..., '>', '.', '.'],\n",
       "       ['.', 'v', '>', ..., '.', '.', 'v'],\n",
       "       ['>', 'v', '.', ..., 'v', '>', 'v']], dtype='<U1')"
      ]
     },
     "execution_count": 19,
     "metadata": {},
     "output_type": "execute_result"
    }
   ],
   "source": [
    "a"
   ]
  },
  {
   "cell_type": "code",
   "execution_count": 20,
   "metadata": {},
   "outputs": [
    {
     "data": {
      "text/plain": [
       "array([['.', '>', '.', ..., '>', '.', '>'],\n",
       "       ['.', '.', '>', ..., '>', '>', 'v'],\n",
       "       ['v', '.', '>', ..., '.', '.', '>'],\n",
       "       ...,\n",
       "       ['.', 'v', '.', ..., '.', '>', '.'],\n",
       "       ['.', 'v', '>', ..., '.', '.', 'v'],\n",
       "       ['>', 'v', '.', ..., 'v', '>', 'v']], dtype='<U1')"
      ]
     },
     "execution_count": 20,
     "metadata": {},
     "output_type": "execute_result"
    }
   ],
   "source": [
    "def f(a):\n",
    "  b = zeros_like(a)\n",
    "  b[:, :] = '.'\n",
    "  for i in range(n):\n",
    "    for j in range(m):\n",
    "      if a[i, j] == 'v':\n",
    "        b[i, j] = a[i, j]\n",
    "      if a[i, j] == '>':\n",
    "        jj = (j + 1) % m\n",
    "        if a[i, jj] == '.':\n",
    "          b[i, jj] = '>'\n",
    "        else:\n",
    "          b[i, j] = '>'\n",
    "  a = b\n",
    "  \n",
    "  b = zeros_like(a)\n",
    "  b[:, :] = '.'\n",
    "  for i in range(n):\n",
    "    for j in range(m):\n",
    "      if a[i, j] == '>':\n",
    "        b[i, j] = a[i, j]\n",
    "      if a[i, j] == 'v':\n",
    "        ii = (i + 1) % n\n",
    "        if a[ii, j] == '.':\n",
    "          b[ii, j] = 'v'\n",
    "        else:\n",
    "          b[i, j] = 'v'\n",
    "          \n",
    "  return b\n",
    "\n",
    "f(a)"
   ]
  },
  {
   "cell_type": "code",
   "execution_count": 23,
   "metadata": {},
   "outputs": [
    {
     "name": "stderr",
     "output_type": "stream",
     "text": [
      "/var/folders/r7/1gs9hgtd52d66t277y5f85kw006cyr/T/ipykernel_51561/1127966738.py:2: TqdmDeprecationWarning: This function will be removed in tqdm==5.0.0\n",
      "Please use `tqdm.notebook.tqdm` instead of `tqdm.tqdm_notebook`\n",
      "  for i in tqdm(range(1, 10000)):\n"
     ]
    },
    {
     "data": {
      "application/vnd.jupyter.widget-view+json": {
       "model_id": "cfab214c3da8411796cc1641761e1956",
       "version_major": 2,
       "version_minor": 0
      },
      "text/plain": [
       "  0%|          | 0/9999 [00:00<?, ?it/s]"
      ]
     },
     "metadata": {},
     "output_type": "display_data"
    },
    {
     "name": "stdout",
     "output_type": "stream",
     "text": [
      "done 337\n"
     ]
    }
   ],
   "source": [
    "x = a\n",
    "for i in tqdm(range(1, 10000)):\n",
    "  xx = f(x)\n",
    "  if all(x == xx):\n",
    "    print('done', i)\n",
    "    break\n",
    "  x = xx"
   ]
  },
  {
   "cell_type": "code",
   "execution_count": 24,
   "metadata": {},
   "outputs": [
    {
     "data": {
      "text/plain": [
       "True"
      ]
     },
     "execution_count": 24,
     "metadata": {},
     "output_type": "execute_result"
    }
   ],
   "source": [
    "submit1(337)"
   ]
  },
  {
   "cell_type": "code",
   "execution_count": null,
   "metadata": {},
   "outputs": [],
   "source": []
  }
 ],
 "metadata": {
  "kernelspec": {
   "display_name": "Python 3 (ipykernel)",
   "language": "python",
   "name": "python3"
  },
  "language_info": {
   "codemirror_mode": {
    "name": "ipython",
    "version": 3
   },
   "file_extension": ".py",
   "mimetype": "text/x-python",
   "name": "python",
   "nbconvert_exporter": "python",
   "pygments_lexer": "ipython3",
   "version": "3.9.0"
  }
 },
 "nbformat": 4,
 "nbformat_minor": 4
}
