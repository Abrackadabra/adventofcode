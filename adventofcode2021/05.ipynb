{
 "cells": [
  {
   "cell_type": "code",
   "execution_count": 1,
   "metadata": {},
   "outputs": [
    {
     "name": "stdout",
     "output_type": "stream",
     "text": [
      "Populating the interactive namespace from numpy and matplotlib\n"
     ]
    }
   ],
   "source": [
    "%pylab inline\n",
    "\n",
    "from tqdm import tqdm_notebook as tqdm\n",
    "import requests\n",
    "import pickle\n",
    "import re\n",
    "import itertools\n",
    "import functools\n",
    "import collections\n",
    "import string\n",
    "import time\n",
    "from bs4 import BeautifulSoup\n",
    "\n",
    "from adventlib import *\n",
    "\n",
    "YEAR = 2021\n",
    "DAY = int('05')\n",
    "\n",
    "submit1, submit2 = generate_submits(YEAR, DAY)\n",
    "\n",
    "while True:\n",
    "    try:\n",
    "        raw_input = get_input(YEAR, DAY)\n",
    "        break\n",
    "    except Exception as e:\n",
    "        print(e)\n",
    "        time.sleep(1)"
   ]
  },
  {
   "cell_type": "code",
   "execution_count": 34,
   "metadata": {},
   "outputs": [],
   "source": [
    "lines, groups = linesplit(\"\"\"\n",
    "0,9 -> 5,9\n",
    "8,0 -> 0,8\n",
    "9,4 -> 3,4\n",
    "2,2 -> 2,1\n",
    "7,0 -> 7,4\n",
    "6,4 -> 2,0\n",
    "0,9 -> 2,9\n",
    "3,4 -> 1,4\n",
    "0,0 -> 8,8\n",
    "5,5 -> 8,2\n",
    "\"\"\".strip())"
   ]
  },
  {
   "cell_type": "code",
   "execution_count": 48,
   "metadata": {},
   "outputs": [
    {
     "name": "stdout",
     "output_type": "stream",
     "text": [
      "500 lines\n",
      "1 groups\n",
      ">>>\n",
      "348,742 -> 620,742\n",
      "494,864 -> 494,484\n",
      "193,136 -> 301,136\n",
      "...\n"
     ]
    }
   ],
   "source": [
    "lines, groups = linesplit(raw_input, verbose=True)"
   ]
  },
  {
   "cell_type": "code",
   "execution_count": null,
   "metadata": {},
   "outputs": [],
   "source": []
  },
  {
   "cell_type": "code",
   "execution_count": 49,
   "metadata": {},
   "outputs": [],
   "source": [
    "resi = 0\n",
    "resa = []\n",
    "ress = set()\n",
    "resd = collections.defaultdict()\n",
    "\n",
    "a = []\n",
    "\n",
    "for line in lines:\n",
    "    matched = False\n",
    "    \n",
    "    m = re.findall(r'\\d+', line)\n",
    "    m = amap(int, m)\n",
    "    \n",
    "    a.append(m)"
   ]
  },
  {
   "cell_type": "code",
   "execution_count": 50,
   "metadata": {},
   "outputs": [],
   "source": [
    "a = array(a)"
   ]
  },
  {
   "cell_type": "code",
   "execution_count": 51,
   "metadata": {},
   "outputs": [
    {
     "data": {
      "text/plain": [
       "array([[348, 742, 620, 742],\n",
       "       [494, 864, 494, 484],\n",
       "       [193, 136, 301, 136],\n",
       "       ...,\n",
       "       [477, 825, 477, 343],\n",
       "       [220, 665, 351, 796],\n",
       "       [483, 128, 376, 128]])"
      ]
     },
     "execution_count": 51,
     "metadata": {},
     "output_type": "execute_result"
    }
   ],
   "source": [
    "a"
   ]
  },
  {
   "cell_type": "code",
   "execution_count": 52,
   "metadata": {},
   "outputs": [],
   "source": [
    "s = collections.defaultdict(int)\n",
    "\n",
    "for i in a:\n",
    "    if i[0] == i[2]:\n",
    "        for j in range(min(i[1], i[3]), max(i[1], i[3]) + 1):\n",
    "            s[(i[0], j)] += 1\n",
    "    elif i[1] == i[3]:\n",
    "        for j in range(min(i[0], i[2]), max(i[0], i[2]) + 1):\n",
    "            s[(j, i[1])] += 1\n",
    "    else:\n",
    "        x1, y1, x2, y2 = i\n",
    "        if x1 > x2:\n",
    "            x1, y1, x2, y2 = x2, y2, x1, y1\n",
    "        for x in range(x1, x2 + 1):\n",
    "            yy = (y2 - y1) // abs(y2 - y1) * (x - x1) + y1\n",
    "            s[(x, yy)] += 1"
   ]
  },
  {
   "cell_type": "code",
   "execution_count": 53,
   "metadata": {},
   "outputs": [
    {
     "data": {
      "text/plain": [
       "16793"
      ]
     },
     "execution_count": 53,
     "metadata": {},
     "output_type": "execute_result"
    }
   ],
   "source": [
    "len([i for i in s.values() if i >= 2])"
   ]
  },
  {
   "cell_type": "code",
   "execution_count": 54,
   "metadata": {},
   "outputs": [
    {
     "data": {
      "text/plain": [
       "True"
      ]
     },
     "execution_count": 54,
     "metadata": {},
     "output_type": "execute_result"
    }
   ],
   "source": [
    "submit2(_)"
   ]
  },
  {
   "cell_type": "code",
   "execution_count": null,
   "metadata": {},
   "outputs": [],
   "source": []
  }
 ],
 "metadata": {
  "kernelspec": {
   "display_name": "Python 3",
   "language": "python",
   "name": "python3"
  },
  "language_info": {
   "codemirror_mode": {
    "name": "ipython",
    "version": 3
   },
   "file_extension": ".py",
   "mimetype": "text/x-python",
   "name": "python",
   "nbconvert_exporter": "python",
   "pygments_lexer": "ipython3",
   "version": "3.9.0"
  }
 },
 "nbformat": 4,
 "nbformat_minor": 4
}
