{
 "cells": [
  {
   "cell_type": "code",
   "execution_count": 2,
   "metadata": {},
   "outputs": [
    {
     "name": "stdout",
     "output_type": "stream",
     "text": [
      "Populating the interactive namespace from numpy and matplotlib\n"
     ]
    }
   ],
   "source": [
    "%pylab inline\n",
    "\n",
    "from tqdm import tqdm_notebook as tqdm\n",
    "import requests\n",
    "import pickle\n",
    "import re\n",
    "import itertools\n",
    "import functools\n",
    "import collections\n",
    "import string\n",
    "import time\n",
    "from bs4 import BeautifulSoup\n",
    "from sortedcontainers import SortedList # http://www.grantjenks.com/docs/sortedcontainers/sortedlist.html#sortedlist\n",
    "\n",
    "from adventlib import *\n",
    "\n",
    "YEAR = 2021\n",
    "DAY = int('18')\n",
    "\n",
    "submit1, submit2 = generate_submits(YEAR, DAY)\n",
    "\n",
    "while True:\n",
    "  try:\n",
    "    raw_input = get_input(YEAR, DAY)\n",
    "    break\n",
    "  except Exception as e:\n",
    "    print(e)\n",
    "    time.sleep(1)"
   ]
  },
  {
   "cell_type": "code",
   "execution_count": 99,
   "metadata": {},
   "outputs": [],
   "source": [
    "lines, groups = linesplit(\"\"\"\n",
    "[[[0,[5,8]],[[1,7],[9,6]]],[[4,[1,2]],[[1,4],2]]]\n",
    "[[[5,[2,8]],4],[5,[[9,9],0]]]\n",
    "[6,[[[6,2],[5,6]],[[7,6],[4,7]]]]\n",
    "[[[6,[0,7]],[0,9]],[4,[9,[9,0]]]]\n",
    "[[[7,[6,4]],[3,[1,3]]],[[[5,5],1],9]]\n",
    "[[6,[[7,3],[3,2]]],[[[3,8],[5,7]],4]]\n",
    "[[[[5,4],[7,7]],8],[[8,3],8]]\n",
    "[[9,3],[[9,9],[6,[4,9]]]]\n",
    "[[2,[[7,7],7]],[[5,8],[[9,3],[0,2]]]]\n",
    "[[[[5,2],5],[8,[3,7]]],[[5,[7,5]],[4,4]]]\n",
    "\"\"\".strip())"
   ]
  },
  {
   "cell_type": "code",
   "execution_count": 106,
   "metadata": {},
   "outputs": [
    {
     "name": "stdout",
     "output_type": "stream",
     "text": [
      "100 lines\n",
      "1 groups\n",
      ">>>\n",
      "[3,[5,[7,[3,9]]]]\n",
      "[[[[7,0],0],[2,[2,8]]],[[[7,8],1],3]]\n",
      "[[[[2,7],0],7],4]\n",
      "...\n"
     ]
    }
   ],
   "source": [
    "lines, groups = linesplit(raw_input, verbose=True)"
   ]
  },
  {
   "cell_type": "code",
   "execution_count": null,
   "metadata": {},
   "outputs": [],
   "source": []
  },
  {
   "cell_type": "code",
   "execution_count": 107,
   "metadata": {},
   "outputs": [],
   "source": [
    "class Node:\n",
    "  def __init__(self):\n",
    "    self.l = None\n",
    "    self.r = None\n",
    "    self.p = None\n",
    "    self.x = None\n",
    "  \n",
    "  def __repr__(self):\n",
    "    return str(self.x) if self.x is not None else f'[{repr(self.l)},{repr(self.r)}]'\n",
    "      \n",
    "  def get_left(self):\n",
    "    prev = self\n",
    "    p = self.p\n",
    "    found = None\n",
    "    while p is not None:\n",
    "      if p.l is prev:\n",
    "        prev, p = p, p.p\n",
    "      else:\n",
    "        found = p.l\n",
    "        break\n",
    "    else:\n",
    "      return\n",
    "    \n",
    "    while found.x is None:\n",
    "      found = found.r\n",
    "    \n",
    "    return found\n",
    "      \n",
    "  def get_right(self):\n",
    "    prev = self\n",
    "    p = self.p\n",
    "    found = None\n",
    "    while p is not None:\n",
    "      if p.r is prev:\n",
    "        prev, p = p, p.p\n",
    "      else:\n",
    "        found = p.r\n",
    "        break\n",
    "    else:\n",
    "      return\n",
    "    \n",
    "    while found.x is None:\n",
    "      found = found.l\n",
    "    \n",
    "    return found\n",
    "  \n",
    "  def reduce(self):\n",
    "    while True:\n",
    "      if (e := self.find_explode()) is not None:\n",
    "        if (l := e.get_left()) is not None:\n",
    "          l.x += e.l.x\n",
    "        if (r := e.get_right()) is not None:\n",
    "          r.x += e.r.x\n",
    "          \n",
    "        p = e.p\n",
    "        if p.l is e:\n",
    "          p.l = Node()\n",
    "          p.l.x = 0\n",
    "          p.l.p = p\n",
    "        else:\n",
    "          p.r = Node()\n",
    "          p.r.x = 0\n",
    "          p.r.p = p\n",
    "        continue\n",
    "      if (s := self.find_split()) is not None:\n",
    "        l1 = s.x // 2\n",
    "        r1 = (s.x + 1) // 2\n",
    "        \n",
    "        x = Node()\n",
    "        x.l = Node()\n",
    "        x.l.x = l1\n",
    "        x.l.p = x\n",
    "        x.r = Node()\n",
    "        x.r.x = r1\n",
    "        x.r.p = x\n",
    "        \n",
    "        p = s.p\n",
    "        if p.l is s:\n",
    "          p.l = x\n",
    "          p.l.p = p\n",
    "        else:\n",
    "          p.r = x\n",
    "          p.r.p = p\n",
    "        continue\n",
    "      break\n",
    "    \n",
    "  def find_explode(self, depth=0):\n",
    "    if self.x is not None:\n",
    "      return\n",
    "    \n",
    "    if depth >= 4 and self.l.x is not None and self.r.x is not None:\n",
    "      return self\n",
    "    \n",
    "    if (r := self.l.find_explode(depth + 1)) is not None:\n",
    "      return r\n",
    "    if (r := self.r.find_explode(depth + 1)) is not None:\n",
    "      return r\n",
    "    \n",
    "  def find_split(self):\n",
    "    if self.x is not None:\n",
    "      if self.x >= 10:\n",
    "        return self\n",
    "      return\n",
    "    \n",
    "    if (r := self.l.find_split()) is not None:\n",
    "      return r\n",
    "    if (r := self.r.find_split()) is not None:\n",
    "      return r\n",
    "    \n",
    "  def magnitude(self):\n",
    "    if self.x is not None:\n",
    "      return self.x\n",
    "    return self.l.magnitude() * 3 + self.r.magnitude() * 2\n",
    "  \n",
    "  def copy(self):\n",
    "    x = Node()\n",
    "    if self.x is not None:\n",
    "      x.x = self.x\n",
    "      return x\n",
    "    \n",
    "    x.l = self.l.copy()\n",
    "    x.l.p = x\n",
    "    x.r = self.r.copy()\n",
    "    x.r.p = x\n",
    "    return x\n",
    "    \n",
    "def add(a, b):\n",
    "  x = Node()\n",
    "  x.l = a\n",
    "  x.r = b\n",
    "  a.p = x\n",
    "  b.p = x\n",
    "  x.reduce()\n",
    "  return x\n",
    "\n",
    "def parse(s):\n",
    "  root = Node()\n",
    "  a = [root]\n",
    "  \n",
    "  for i in s[1:-1]:\n",
    "    if i == '[':\n",
    "      a.append(Node())\n",
    "      a[-1].p = a[-2]\n",
    "    elif i == ']':\n",
    "      child = a.pop()\n",
    "      cur = a[-1]\n",
    "      \n",
    "      if cur.l is None:\n",
    "        cur.l = child\n",
    "      else:\n",
    "        cur.r = child\n",
    "    elif i == ',':\n",
    "      pass\n",
    "    else:\n",
    "      cur = a[-1]\n",
    "      x = Node()\n",
    "      x.x = int(i)\n",
    "      x.p = cur\n",
    "      \n",
    "      if cur.l is None:\n",
    "        cur.l = x\n",
    "      else:\n",
    "        cur.r = x\n",
    "  return root"
   ]
  },
  {
   "cell_type": "code",
   "execution_count": 67,
   "metadata": {},
   "outputs": [
    {
     "data": {
      "text/plain": [
       "[[[[0,9],2],3],4]"
      ]
     },
     "execution_count": 67,
     "metadata": {},
     "output_type": "execute_result"
    }
   ],
   "source": [
    "root = parse('[[[[[9,8],1],2],3],4]')\n",
    "root.reduce()\n",
    "root"
   ]
  },
  {
   "cell_type": "code",
   "execution_count": 68,
   "metadata": {},
   "outputs": [
    {
     "data": {
      "text/plain": [
       "[7,[6,[5,[7,0]]]]"
      ]
     },
     "execution_count": 68,
     "metadata": {},
     "output_type": "execute_result"
    }
   ],
   "source": [
    "root = parse('[7,[6,[5,[4,[3,2]]]]]')\n",
    "root.reduce()\n",
    "root"
   ]
  },
  {
   "cell_type": "code",
   "execution_count": 69,
   "metadata": {},
   "outputs": [
    {
     "data": {
      "text/plain": [
       "[[6,[5,[7,0]]],3]"
      ]
     },
     "execution_count": 69,
     "metadata": {},
     "output_type": "execute_result"
    }
   ],
   "source": [
    "root = parse('[[6,[5,[4,[3,2]]]],1]')\n",
    "root.reduce()\n",
    "root"
   ]
  },
  {
   "cell_type": "code",
   "execution_count": 70,
   "metadata": {},
   "outputs": [
    {
     "data": {
      "text/plain": [
       "[[3,[2,[8,0]]],[9,[5,[7,0]]]]"
      ]
     },
     "execution_count": 70,
     "metadata": {},
     "output_type": "execute_result"
    }
   ],
   "source": [
    "root = parse('[[3,[2,[1,[7,3]]]],[6,[5,[4,[3,2]]]]]')\n",
    "root.reduce()\n",
    "root"
   ]
  },
  {
   "cell_type": "code",
   "execution_count": 72,
   "metadata": {},
   "outputs": [
    {
     "data": {
      "text/plain": [
       "[[[[0,7],4],[[7,8],[6,0]]],[8,1]]"
      ]
     },
     "execution_count": 72,
     "metadata": {},
     "output_type": "execute_result"
    }
   ],
   "source": [
    "a = parse('[[[[4,3],4],4],[7,[[8,4],9]]]')\n",
    "b = parse('[1,1]')\n",
    "c = add(a, b)\n",
    "c.reduce()\n",
    "c"
   ]
  },
  {
   "cell_type": "code",
   "execution_count": 95,
   "metadata": {},
   "outputs": [
    {
     "data": {
      "text/plain": [
       "[[[[6,6],[7,6]],[[7,7],[7,0]]],[[[7,7],[7,7]],[[7,8],[9,9]]]]"
      ]
     },
     "execution_count": 95,
     "metadata": {},
     "output_type": "execute_result"
    }
   ],
   "source": [
    "xs = [parse(line) for line in lines]\n",
    "a = xs[0]\n",
    "for i in xs[1:]:\n",
    "  a = add(a, i)\n",
    "  a.reduce()\n",
    "a"
   ]
  },
  {
   "cell_type": "code",
   "execution_count": 96,
   "metadata": {},
   "outputs": [
    {
     "data": {
      "text/plain": [
       "4140"
      ]
     },
     "execution_count": 96,
     "metadata": {},
     "output_type": "execute_result"
    }
   ],
   "source": [
    "a.magnitude()"
   ]
  },
  {
   "cell_type": "code",
   "execution_count": 83,
   "metadata": {},
   "outputs": [
    {
     "data": {
      "text/plain": [
       "True"
      ]
     },
     "execution_count": 83,
     "metadata": {},
     "output_type": "execute_result"
    }
   ],
   "source": [
    "submit1(_)"
   ]
  },
  {
   "cell_type": "code",
   "execution_count": 108,
   "metadata": {},
   "outputs": [
    {
     "data": {
      "text/plain": [
       "4763"
      ]
     },
     "execution_count": 108,
     "metadata": {},
     "output_type": "execute_result"
    }
   ],
   "source": [
    "xs = [parse(line) for line in lines]\n",
    "best = 0\n",
    "for a, b in itertools.combinations(xs, 2):\n",
    "  best = max(best, add(a.copy(), b.copy()).magnitude())\n",
    "  best = max(best, add(b.copy(), a.copy()).magnitude())\n",
    "best"
   ]
  },
  {
   "cell_type": "code",
   "execution_count": 109,
   "metadata": {},
   "outputs": [
    {
     "data": {
      "text/plain": [
       "True"
      ]
     },
     "execution_count": 109,
     "metadata": {},
     "output_type": "execute_result"
    }
   ],
   "source": [
    "submit2(_)"
   ]
  },
  {
   "cell_type": "code",
   "execution_count": null,
   "metadata": {},
   "outputs": [],
   "source": []
  }
 ],
 "metadata": {
  "kernelspec": {
   "display_name": "Python 3",
   "language": "python",
   "name": "python3"
  },
  "language_info": {
   "codemirror_mode": {
    "name": "ipython",
    "version": 3
   },
   "file_extension": ".py",
   "mimetype": "text/x-python",
   "name": "python",
   "nbconvert_exporter": "python",
   "pygments_lexer": "ipython3",
   "version": "3.9.0"
  }
 },
 "nbformat": 4,
 "nbformat_minor": 4
}
