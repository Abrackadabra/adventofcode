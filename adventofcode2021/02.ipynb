{
 "cells": [
  {
   "cell_type": "code",
   "execution_count": 1,
   "metadata": {},
   "outputs": [
    {
     "name": "stdout",
     "output_type": "stream",
     "text": [
      "Populating the interactive namespace from numpy and matplotlib\n"
     ]
    }
   ],
   "source": [
    "%pylab inline\n",
    "\n",
    "from tqdm import tqdm_notebook as tqdm\n",
    "import requests\n",
    "import pickle\n",
    "import re\n",
    "import itertools\n",
    "import functools\n",
    "import collections\n",
    "import string\n",
    "import time\n",
    "from bs4 import BeautifulSoup\n",
    "\n",
    "from adventlib import *\n",
    "\n",
    "YEAR = 2021\n",
    "DAY = int('02')\n",
    "\n",
    "submit1, submit2 = generate_submits(YEAR, DAY)\n",
    "\n",
    "while True:\n",
    "    try:\n",
    "        raw_input = get_input(YEAR, DAY)\n",
    "        break\n",
    "    except Exception as e:\n",
    "        print(e)\n",
    "        time.sleep(1)"
   ]
  },
  {
   "cell_type": "code",
   "execution_count": 13,
   "metadata": {},
   "outputs": [],
   "source": [
    "lines, groups = linesplit(\"\"\"\n",
    "forward 5\n",
    "down 5\n",
    "forward 8\n",
    "up 3\n",
    "down 8\n",
    "forward 2\n",
    "\"\"\".strip())"
   ]
  },
  {
   "cell_type": "code",
   "execution_count": 18,
   "metadata": {},
   "outputs": [
    {
     "name": "stdout",
     "output_type": "stream",
     "text": [
      "1000 lines\n",
      "1 groups\n",
      ">>>\n",
      "forward 8\n",
      "forward 9\n",
      "forward 9\n",
      "...\n"
     ]
    }
   ],
   "source": [
    "lines, groups = linesplit(raw_input, verbose=True)"
   ]
  },
  {
   "cell_type": "code",
   "execution_count": null,
   "metadata": {},
   "outputs": [],
   "source": []
  },
  {
   "cell_type": "code",
   "execution_count": 7,
   "metadata": {},
   "outputs": [],
   "source": [
    "resi = 0\n",
    "resa = []\n",
    "ress = set()\n",
    "resd = collections.defaultdict()\n",
    "\n",
    "x = 0\n",
    "y = 0\n",
    "\n",
    "for line in lines:\n",
    "    matched = False\n",
    "    \n",
    "    m = re.findall(r'^forward (\\d+)$', line)\n",
    "    if m:\n",
    "        matched = True\n",
    "        x = x + int(m[0])\n",
    "    \n",
    "    m = re.findall(r'^down (\\d+)$', line)\n",
    "    if m:\n",
    "        matched = True\n",
    "        y = y + int(m[0])\n",
    "    \n",
    "    m = re.findall(r'^up (\\d+)$', line)\n",
    "    if m:\n",
    "        matched = True\n",
    "        y = y - int(m[0])\n",
    "        \n",
    "    if not matched:\n",
    "        raise Exception()"
   ]
  },
  {
   "cell_type": "code",
   "execution_count": 8,
   "metadata": {},
   "outputs": [
    {
     "data": {
      "text/plain": [
       "1746616"
      ]
     },
     "execution_count": 8,
     "metadata": {},
     "output_type": "execute_result"
    }
   ],
   "source": [
    "x * y"
   ]
  },
  {
   "cell_type": "code",
   "execution_count": 9,
   "metadata": {},
   "outputs": [
    {
     "data": {
      "text/plain": [
       "True"
      ]
     },
     "execution_count": 9,
     "metadata": {},
     "output_type": "execute_result"
    }
   ],
   "source": [
    "submit1(_)"
   ]
  },
  {
   "cell_type": "code",
   "execution_count": 19,
   "metadata": {},
   "outputs": [],
   "source": [
    "resi = 0\n",
    "resa = []\n",
    "ress = set()\n",
    "resd = collections.defaultdict()\n",
    "\n",
    "x = 0\n",
    "y = 0\n",
    "aim = 0\n",
    "\n",
    "for line in lines:\n",
    "    matched = False\n",
    "    \n",
    "    m = re.findall(r'^forward (\\d+)$', line)\n",
    "    if m:\n",
    "        matched = True\n",
    "        x = x + int(m[0])\n",
    "        y = y + aim * int(m[0])\n",
    "    \n",
    "    m = re.findall(r'^down (\\d+)$', line)\n",
    "    if m:\n",
    "        matched = True\n",
    "        aim = aim + int(m[0])\n",
    "    \n",
    "    m = re.findall(r'^up (\\d+)$', line)\n",
    "    if m:\n",
    "        matched = True\n",
    "        aim = aim - int(m[0])\n",
    "        \n",
    "    if not matched:\n",
    "        raise Exception()"
   ]
  },
  {
   "cell_type": "code",
   "execution_count": 20,
   "metadata": {},
   "outputs": [
    {
     "data": {
      "text/plain": [
       "1741971043"
      ]
     },
     "execution_count": 20,
     "metadata": {},
     "output_type": "execute_result"
    }
   ],
   "source": [
    "x * y"
   ]
  },
  {
   "cell_type": "code",
   "execution_count": 21,
   "metadata": {},
   "outputs": [
    {
     "data": {
      "text/plain": [
       "True"
      ]
     },
     "execution_count": 21,
     "metadata": {},
     "output_type": "execute_result"
    }
   ],
   "source": [
    "submit2(_)"
   ]
  }
 ],
 "metadata": {
  "kernelspec": {
   "display_name": "Python 3",
   "language": "python",
   "name": "python3"
  },
  "language_info": {
   "codemirror_mode": {
    "name": "ipython",
    "version": 3
   },
   "file_extension": ".py",
   "mimetype": "text/x-python",
   "name": "python",
   "nbconvert_exporter": "python",
   "pygments_lexer": "ipython3",
   "version": "3.9.0"
  }
 },
 "nbformat": 4,
 "nbformat_minor": 4
}
