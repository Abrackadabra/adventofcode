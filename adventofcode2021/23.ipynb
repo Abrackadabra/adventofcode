{
 "cells": [
  {
   "cell_type": "code",
   "execution_count": null,
   "metadata": {},
   "outputs": [],
   "source": [
    "%pylab inline\n",
    "\n",
    "from tqdm.notebook import tqdm\n",
    "import requests\n",
    "import pickle\n",
    "import re\n",
    "import itertools\n",
    "import functools\n",
    "import collections\n",
    "import string\n",
    "import time\n",
    "from bs4 import BeautifulSoup\n",
    "from sortedcontainers import SortedList # http://www.grantjenks.com/docs/sortedcontainers/sortedlist.html#sortedlist\n",
    "\n",
    "from adventlib import *\n",
    "\n",
    "YEAR = 2021\n",
    "DAY = int('23')\n",
    "\n",
    "submit1, submit2 = generate_submits(YEAR, DAY)\n",
    "\n",
    "while True:\n",
    "  try:\n",
    "    raw_input = get_input(YEAR, DAY)\n",
    "    break\n",
    "  except Exception as e:\n",
    "    print(e)\n",
    "    time.sleep(1)"
   ]
  },
  {
   "cell_type": "code",
   "execution_count": null,
   "metadata": {},
   "outputs": [],
   "source": [
    "lines, groups = linesplit(\"\"\"\n",
    "#############\n",
    "#...........#\n",
    "###B#C#B#D###\n",
    "  #A#D#C#A#\n",
    "  #########\n",
    "\"\"\".strip())"
   ]
  },
  {
   "cell_type": "code",
   "execution_count": null,
   "metadata": {},
   "outputs": [],
   "source": [
    "lines, groups = linesplit(raw_input, verbose=True)"
   ]
  },
  {
   "cell_type": "code",
   "execution_count": null,
   "metadata": {},
   "outputs": [],
   "source": []
  },
  {
   "cell_type": "code",
   "execution_count": null,
   "metadata": {},
   "outputs": [],
   "source": [
    "letters = re.findall(r'[ABCD]', ''.join(lines))\n",
    "letters"
   ]
  },
  {
   "cell_type": "code",
   "execution_count": null,
   "metadata": {},
   "outputs": [],
   "source": [
    "# l2, l1, m1, m2, m3, r1, r2\n",
    "# a1, b1, c1, d1\n",
    "# a2, b2, c2, d2"
   ]
  },
  {
   "cell_type": "code",
   "execution_count": null,
   "metadata": {},
   "outputs": [],
   "source": [
    "lines"
   ]
  },
  {
   "cell_type": "code",
   "execution_count": null,
   "metadata": {},
   "outputs": [],
   "source": [
    "M_lines, _ = linesplit(\"\"\"\n",
    "...........\n",
    "##.#.#.#.##\n",
    "##.#.#.#.##\n",
    "\"\"\".strip())"
   ]
  },
  {
   "cell_type": "code",
   "execution_count": null,
   "metadata": {},
   "outputs": [],
   "source": [
    "n, m, M = lines_as_matrix_nm(M_lines)\n",
    "M = M == '.'"
   ]
  },
  {
   "cell_type": "code",
   "execution_count": null,
   "metadata": {},
   "outputs": [],
   "source": [
    "locs = dict(\n",
    "  l2=(0, 0),\n",
    "  l1=(0, 1),\n",
    "  \n",
    "  m1=(0, 3),\n",
    "  m2=(0, 5),\n",
    "  m3=(0, 7),\n",
    "  \n",
    "  a1=(1, 2),\n",
    "  b1=(1, 4),\n",
    "  c1=(1, 6),\n",
    "  d1=(1, 8),\n",
    "  \n",
    "  a2=(2, 2),\n",
    "  b2=(2, 4),\n",
    "  c2=(2, 6),\n",
    "  d2=(2, 8),\n",
    "  \n",
    "  r1=(0, 9),\n",
    "  r2=(0, 10),\n",
    ")"
   ]
  },
  {
   "cell_type": "code",
   "execution_count": null,
   "metadata": {},
   "outputs": [],
   "source": [
    "locs_inv = {j: i for i, j in locs.items()}"
   ]
  },
  {
   "cell_type": "code",
   "execution_count": null,
   "metadata": {},
   "outputs": [],
   "source": [
    "def dfs(i, j, visited, prev):\n",
    "  for di, dj in DIR4:\n",
    "    ii = i + di\n",
    "    jj = j + dj\n",
    "    if 0 <= ii < n and 0 <= jj < m and (ii, jj) not in visited and M[ii, jj]:\n",
    "      visited.add((ii, jj))\n",
    "      prev[(ii, jj)] = (i, j)\n",
    "      dfs(ii, jj, visited, prev)\n",
    "\n",
    "x = locs['l2']\n",
    "visited = set([x])\n",
    "prev = {}\n",
    "dfs(x[0], x[1], visited, prev)"
   ]
  },
  {
   "cell_type": "code",
   "execution_count": null,
   "metadata": {},
   "outputs": [],
   "source": [
    "prev"
   ]
  },
  {
   "cell_type": "code",
   "execution_count": null,
   "metadata": {},
   "outputs": [],
   "source": [
    "paths = {}\n",
    "for loc1 in locs:\n",
    "  x = locs[loc1]\n",
    "  prev = {}\n",
    "  dfs(x[0], x[1], set([x]), prev)\n",
    "  for loc2 in locs:\n",
    "    if loc1 == loc2:\n",
    "      continue\n",
    "    x = locs[loc2]\n",
    "    path = [x]\n",
    "    while x != locs[loc1]:\n",
    "      x = prev[x]\n",
    "      path.append(x)\n",
    "    l = len(path) - 1\n",
    "    path = path[::-1][1:-1]\n",
    "    \n",
    "    met = [locs_inv[i] for i in path if i in locs_inv]\n",
    "    \n",
    "    paths[(loc1, loc2)] = (l, met)"
   ]
  },
  {
   "cell_type": "code",
   "execution_count": null,
   "metadata": {},
   "outputs": [],
   "source": [
    "paths"
   ]
  },
  {
   "cell_type": "code",
   "execution_count": null,
   "metadata": {},
   "outputs": [],
   "source": [
    "letters"
   ]
  },
  {
   "cell_type": "code",
   "execution_count": null,
   "metadata": {},
   "outputs": [],
   "source": [
    "def key(conf):\n",
    "  \n",
    "  # return ''.join(itertools.chain(conf.keys(), conf.values()))\n",
    "  return repr(tuple(sorted(list(conf.items()))))"
   ]
  },
  {
   "cell_type": "code",
   "execution_count": null,
   "metadata": {},
   "outputs": [],
   "source": [
    "starting_conf = {'a1': 'A',\n",
    " 'b1': 'C',\n",
    " 'c1': 'B',\n",
    " 'd1': 'A',\n",
    " 'a2': 'D',\n",
    " 'b2': 'D',\n",
    " 'c2': 'B',\n",
    " 'd2': 'C'}\n",
    "starting_conf"
   ]
  },
  {
   "cell_type": "code",
   "execution_count": null,
   "metadata": {},
   "outputs": [],
   "source": [
    "key(starting_conf)"
   ]
  },
  {
   "cell_type": "code",
   "execution_count": null,
   "metadata": {},
   "outputs": [],
   "source": [
    "moves = {}\n",
    "for i in itertools.combinations(list(locs.keys()), 8):\n",
    "  print(i)\n",
    "  break"
   ]
  },
  {
   "cell_type": "code",
   "execution_count": null,
   "metadata": {},
   "outputs": [],
   "source": [
    "len(locs.keys()), 8"
   ]
  },
  {
   "cell_type": "code",
   "execution_count": null,
   "metadata": {},
   "outputs": [],
   "source": [
    "move_cost_mults = dict(\n",
    "  A=1,\n",
    "  B=10,\n",
    "  C=100,\n",
    "  D=1000,\n",
    ")"
   ]
  },
  {
   "cell_type": "code",
   "execution_count": null,
   "metadata": {},
   "outputs": [],
   "source": [
    "def neighbours(conf):\n",
    "  res = []\n",
    "  for start_loc in conf:\n",
    "    for target_loc in locs:\n",
    "      if start_loc == target_loc or target_loc in conf:\n",
    "        continue\n",
    "      pathl, path = paths[start_loc, target_loc]\n",
    "      \n",
    "      # collisions?\n",
    "      bad = False\n",
    "      for i in path:\n",
    "        if i in conf:\n",
    "          bad = True\n",
    "      if bad:\n",
    "        continue\n",
    "        \n",
    "      me = conf[start_loc]\n",
    "      color = target_loc[0]\n",
    "      if color in 'abcd':\n",
    "        # move to room\n",
    "        if color != me.lower():\n",
    "          # not my room\n",
    "          continue\n",
    "        if target_loc[1] == '1':\n",
    "          next_loc = color + '2'\n",
    "          if next_loc not in conf:\n",
    "            # a2 is empty, no sense to move to a1\n",
    "            continue\n",
    "          if conf[next_loc].lower() != color:\n",
    "            # a2 is wrong, no sense to move to a1\n",
    "            continue\n",
    "      \n",
    "      if color in 'lmr':\n",
    "        if start_loc[0] in 'lmr':\n",
    "          # no hallway-to-hallway\n",
    "          continue\n",
    "        if start_loc[0] == me.lower() and start_loc[1] == '2':\n",
    "          # A doesn't leave a2\n",
    "          continue\n",
    "      \n",
    "      cost = pathl * move_cost_mults[me]\n",
    "      new_conf = dict(conf)\n",
    "      del new_conf[start_loc]\n",
    "      new_conf[target_loc] = me\n",
    "      res.append((cost, new_conf))\n",
    "  return res"
   ]
  },
  {
   "cell_type": "code",
   "execution_count": null,
   "metadata": {},
   "outputs": [],
   "source": [
    "dists = {key(starting_conf): 0}\n",
    "prev = {}\n",
    "visited = set()\n",
    "q = SortedList()\n",
    "q.add((0, key(starting_conf), starting_conf))\n",
    "dup = 0\n",
    "\n",
    "with tqdm() as pbar:\n",
    "  while len(q) > 0:\n",
    "    dist, _, conf = q.pop(0)\n",
    "    if rand() < 0.01:\n",
    "      pbar.set_description(f'dist={dist} q={len(q)} dup={dup}')\n",
    "    pbar.update()\n",
    "\n",
    "    if len(q) == 100000:\n",
    "      break\n",
    "    if key(conf) in visited:\n",
    "      dup += 1\n",
    "      continue\n",
    "    visited.add(key(conf))\n",
    "\n",
    "    win = True\n",
    "    win &= conf.get('a1', '') == 'A'\n",
    "    win &= conf.get('a2', '') == 'A'\n",
    "    win &= conf.get('b1', '') == 'B'\n",
    "    win &= conf.get('b2', '') == 'B'\n",
    "    win &= conf.get('c1', '') == 'C'\n",
    "    win &= conf.get('c2', '') == 'C'\n",
    "    win &= conf.get('d1', '') == 'D'\n",
    "    win &= conf.get('d2', '') == 'D'\n",
    "    if win:\n",
    "      print(dist, conf)\n",
    "      break\n",
    "\n",
    "    for dist2, conf2 in neighbours(conf):\n",
    "      if key(conf2) in visited:\n",
    "        continue\n",
    "\n",
    "      if key(conf2) not in dists or dist + dist2 < dists[key(conf2)]:\n",
    "        dists[key(conf2)] = dist + dist2\n",
    "        prev[key(conf2)] = conf\n",
    "        q.add((dists[key(conf2)], key(conf2), conf2))"
   ]
  },
  {
   "cell_type": "code",
   "execution_count": null,
   "metadata": {},
   "outputs": [],
   "source": [
    "submit1(18195)"
   ]
  },
  {
   "cell_type": "code",
   "execution_count": null,
   "metadata": {},
   "outputs": [],
   "source": []
  },
  {
   "cell_type": "code",
   "execution_count": null,
   "metadata": {},
   "outputs": [],
   "source": []
  },
  {
   "cell_type": "code",
   "execution_count": 96,
   "metadata": {},
   "outputs": [],
   "source": [
    "lines, groups = linesplit(\"\"\"\n",
    "#############\n",
    "#...........#\n",
    "###A#C#B#A###\n",
    "  #D#C#B#A#\n",
    "  #D#B#A#C#\n",
    "  #D#D#B#C#\n",
    "  #########\n",
    "\"\"\".strip())"
   ]
  },
  {
   "cell_type": "code",
   "execution_count": 97,
   "metadata": {},
   "outputs": [],
   "source": [
    "M_lines, _ = linesplit(\"\"\"\n",
    "...........\n",
    "##.#.#.#.##\n",
    "##.#.#.#.##\n",
    "##.#.#.#.##\n",
    "##.#.#.#.##\n",
    "\"\"\".strip())"
   ]
  },
  {
   "cell_type": "code",
   "execution_count": 98,
   "metadata": {},
   "outputs": [],
   "source": [
    "n, m, M = lines_as_matrix_nm(M_lines)\n",
    "M = M == '.'"
   ]
  },
  {
   "cell_type": "code",
   "execution_count": 100,
   "metadata": {},
   "outputs": [],
   "source": [
    "locs = dict(\n",
    "  l2=(0, 0),\n",
    "  l1=(0, 1),\n",
    "  \n",
    "  m1=(0, 3),\n",
    "  m2=(0, 5),\n",
    "  m3=(0, 7),\n",
    "  \n",
    "  a1=(1, 2),\n",
    "  b1=(1, 4),\n",
    "  c1=(1, 6),\n",
    "  d1=(1, 8),\n",
    "  \n",
    "  a2=(2, 2),\n",
    "  b2=(2, 4),\n",
    "  c2=(2, 6),\n",
    "  d2=(2, 8),\n",
    "  \n",
    "  a3=(3, 2),\n",
    "  b3=(3, 4),\n",
    "  c3=(3, 6),\n",
    "  d3=(3, 8),\n",
    "  \n",
    "  a4=(4, 2),\n",
    "  b4=(4, 4),\n",
    "  c4=(4, 6),\n",
    "  d4=(4, 8),\n",
    "  \n",
    "  r1=(0, 9),\n",
    "  r2=(0, 10),\n",
    ")\n",
    "locs_inv = {j: i for i, j in locs.items()}"
   ]
  },
  {
   "cell_type": "code",
   "execution_count": 101,
   "metadata": {},
   "outputs": [],
   "source": [
    "def dfs(i, j, visited, prev):\n",
    "  for di, dj in DIR4:\n",
    "    ii = i + di\n",
    "    jj = j + dj\n",
    "    if 0 <= ii < n and 0 <= jj < m and (ii, jj) not in visited and M[ii, jj]:\n",
    "      visited.add((ii, jj))\n",
    "      prev[(ii, jj)] = (i, j)\n",
    "      dfs(ii, jj, visited, prev)\n",
    "\n",
    "x = locs['l2']\n",
    "visited = set([x])\n",
    "prev = {}\n",
    "dfs(x[0], x[1], visited, prev)"
   ]
  },
  {
   "cell_type": "code",
   "execution_count": 102,
   "metadata": {},
   "outputs": [],
   "source": [
    "paths = {}\n",
    "for loc1 in locs:\n",
    "  x = locs[loc1]\n",
    "  prev = {}\n",
    "  dfs(x[0], x[1], set([x]), prev)\n",
    "  for loc2 in locs:\n",
    "    if loc1 == loc2:\n",
    "      continue\n",
    "    x = locs[loc2]\n",
    "    path = [x]\n",
    "    while x != locs[loc1]:\n",
    "      x = prev[x]\n",
    "      path.append(x)\n",
    "    l = len(path) - 1\n",
    "    path = path[::-1][1:-1]\n",
    "    \n",
    "    met = [locs_inv[i] for i in path if i in locs_inv]\n",
    "    \n",
    "    paths[(loc1, loc2)] = (l, met)"
   ]
  },
  {
   "cell_type": "code",
   "execution_count": 105,
   "metadata": {},
   "outputs": [],
   "source": [
    "def key(conf):\n",
    "  \n",
    "  # return ''.join(itertools.chain(conf.keys(), conf.values()))\n",
    "  return repr(tuple(sorted(list(conf.items()))))"
   ]
  },
  {
   "cell_type": "code",
   "execution_count": 106,
   "metadata": {},
   "outputs": [
    {
     "data": {
      "text/plain": [
       "['A',\n",
       " 'C',\n",
       " 'B',\n",
       " 'A',\n",
       " 'D',\n",
       " 'C',\n",
       " 'B',\n",
       " 'A',\n",
       " 'D',\n",
       " 'B',\n",
       " 'A',\n",
       " 'C',\n",
       " 'D',\n",
       " 'D',\n",
       " 'B',\n",
       " 'C']"
      ]
     },
     "execution_count": 106,
     "metadata": {},
     "output_type": "execute_result"
    }
   ],
   "source": [
    "letters = re.findall(r'[ABCD]', ''.join(lines))\n",
    "letters"
   ]
  },
  {
   "cell_type": "code",
   "execution_count": 108,
   "metadata": {},
   "outputs": [
    {
     "data": {
      "text/plain": [
       "{'a1': 'A',\n",
       " 'b1': 'C',\n",
       " 'c1': 'B',\n",
       " 'd1': 'A',\n",
       " 'a2': 'D',\n",
       " 'b2': 'C',\n",
       " 'c2': 'B',\n",
       " 'd2': 'A',\n",
       " 'a3': 'D',\n",
       " 'b3': 'B',\n",
       " 'c3': 'A',\n",
       " 'd3': 'C',\n",
       " 'a4': 'D',\n",
       " 'b4': 'D',\n",
       " 'c4': 'B',\n",
       " 'd4': 'C'}"
      ]
     },
     "execution_count": 108,
     "metadata": {},
     "output_type": "execute_result"
    }
   ],
   "source": [
    "starting_conf = {}\n",
    "for i, j in enumerate(letters):\n",
    "  starting_conf[f'{\"abcd\"[i % 4]}{i//4+1}'] = j\n",
    "starting_conf"
   ]
  },
  {
   "cell_type": "code",
   "execution_count": 109,
   "metadata": {},
   "outputs": [],
   "source": [
    "move_cost_mults = dict(\n",
    "  A=1,\n",
    "  B=10,\n",
    "  C=100,\n",
    "  D=1000,\n",
    ")"
   ]
  },
  {
   "cell_type": "code",
   "execution_count": 111,
   "metadata": {},
   "outputs": [],
   "source": [
    "def neighbours(conf):\n",
    "  res = []\n",
    "  for start_loc in conf:\n",
    "    for target_loc in locs:\n",
    "      if start_loc == target_loc or target_loc in conf:\n",
    "        continue\n",
    "      pathl, path = paths[start_loc, target_loc]\n",
    "      \n",
    "      # collisions?\n",
    "      bad = False\n",
    "      for i in path:\n",
    "        if i in conf:\n",
    "          bad = True\n",
    "      if bad:\n",
    "        continue\n",
    "        \n",
    "      me = conf[start_loc]\n",
    "      color = target_loc[0]\n",
    "      if color in 'abcd':\n",
    "        # move to room\n",
    "        if color != me.lower():\n",
    "          # not my room\n",
    "          continue\n",
    "        if target_loc[1] == '1':\n",
    "          next_loc = color + '2'\n",
    "          if next_loc not in conf:\n",
    "            # a2 is empty, no sense to move to a1\n",
    "            continue\n",
    "          if conf[next_loc].lower() != color:\n",
    "            # a2 is wrong, no sense to move to a1\n",
    "            continue\n",
    "        if target_loc[1] == '2':\n",
    "          next_loc = color + '3'\n",
    "          if next_loc not in conf:\n",
    "            # a2 is empty, no sense to move to a1\n",
    "            continue\n",
    "          if conf[next_loc].lower() != color:\n",
    "            # a2 is wrong, no sense to move to a1\n",
    "            continue\n",
    "        if target_loc[1] == '3':\n",
    "          next_loc = color + '4'\n",
    "          if next_loc not in conf:\n",
    "            # a2 is empty, no sense to move to a1\n",
    "            continue\n",
    "          if conf[next_loc].lower() != color:\n",
    "            # a2 is wrong, no sense to move to a1\n",
    "            continue\n",
    "      \n",
    "      if color in 'lmr':\n",
    "        if start_loc[0] in 'lmr':\n",
    "          # no hallway-to-hallway\n",
    "          continue\n",
    "        if start_loc[0] == me.lower() and start_loc[1] == '4':\n",
    "          # A doesn't leave a4\n",
    "          continue\n",
    "      \n",
    "      cost = pathl * move_cost_mults[me]\n",
    "      new_conf = dict(conf)\n",
    "      del new_conf[start_loc]\n",
    "      new_conf[target_loc] = me\n",
    "      res.append((cost, new_conf))\n",
    "  return res"
   ]
  },
  {
   "cell_type": "code",
   "execution_count": 116,
   "metadata": {},
   "outputs": [
    {
     "data": {
      "application/vnd.jupyter.widget-view+json": {
       "model_id": "25938151a467478fb77d1ef3f30a51cc",
       "version_major": 2,
       "version_minor": 0
      },
      "text/plain": [
       "0it [00:00, ?it/s]"
      ]
     },
     "metadata": {},
     "output_type": "display_data"
    },
    {
     "name": "stdout",
     "output_type": "stream",
     "text": [
      "50265 {'c4': 'C', 'c3': 'C', 'b4': 'B', 'b3': 'B', 'b2': 'B', 'c2': 'C', 'c1': 'C', 'd4': 'D', 'b1': 'B', 'a4': 'A', 'a3': 'A', 'd3': 'D', 'd2': 'D', 'd1': 'D', 'a2': 'A', 'a1': 'A'}\n"
     ]
    }
   ],
   "source": [
    "dists = {key(starting_conf): 0}\n",
    "prev = {}\n",
    "visited = set()\n",
    "q = SortedList()\n",
    "q.add((0, key(starting_conf), starting_conf))\n",
    "dup = 0\n",
    "\n",
    "with tqdm() as pbar:\n",
    "  while len(q) > 0:\n",
    "    dist, _, conf = q.pop(0)\n",
    "    if rand() < 0.001:\n",
    "      pbar.set_description(f'dist={dist} q={len(q)} dup={dup}')\n",
    "      pbar.update()\n",
    "\n",
    "    if len(q) == 100000:\n",
    "      break\n",
    "    if key(conf) in visited:\n",
    "      dup += 1\n",
    "      continue\n",
    "    visited.add(key(conf))\n",
    "\n",
    "    win = True\n",
    "    for i in 'abcd':\n",
    "      for j in range(1, 5):\n",
    "        win &= conf.get(f'{i}{j}', '') == i.upper()\n",
    "    if win:\n",
    "      print(dist, conf)\n",
    "      break\n",
    "\n",
    "    for dist2, conf2 in neighbours(conf):\n",
    "      if key(conf2) in visited:\n",
    "        continue\n",
    "\n",
    "      if key(conf2) not in dists or dist + dist2 < dists[key(conf2)]:\n",
    "        dists[key(conf2)] = dist + dist2\n",
    "        prev[key(conf2)] = conf\n",
    "        q.add((dists[key(conf2)], key(conf2), conf2))"
   ]
  },
  {
   "cell_type": "code",
   "execution_count": 118,
   "metadata": {},
   "outputs": [
    {
     "data": {
      "text/plain": [
       "{(2021, 23, 1, 18195): True,\n",
       " (2021,\n",
       "  23,\n",
       "  2,\n",
       "  \"(('a1', 'A'), ('a2', 'A'), ('a3', 'A'), ('a4', 'A'), ('b1', 'B'), ('b2', 'B'), ('b3', 'B'), ('b4', 'B'), ('c1', 'C'), ('c2', 'C'), ('c3', 'C'), ('c4', 'C'), ('d1', 'D'), ('d2', 'D'), ('d3', 'D'), ('d4', 'D'))\"): False}"
      ]
     },
     "execution_count": 118,
     "metadata": {},
     "output_type": "execute_result"
    }
   ],
   "source": [
    "SUBMITTED_ANSWERS"
   ]
  },
  {
   "cell_type": "code",
   "execution_count": 122,
   "metadata": {},
   "outputs": [
    {
     "data": {
      "text/plain": [
       "True"
      ]
     },
     "execution_count": 122,
     "metadata": {},
     "output_type": "execute_result"
    }
   ],
   "source": [
    "submit2(50265)"
   ]
  }
 ],
 "metadata": {
  "kernelspec": {
   "display_name": "Python 3 (ipykernel)",
   "language": "python",
   "name": "python3"
  },
  "language_info": {
   "codemirror_mode": {
    "name": "ipython",
    "version": 3
   },
   "file_extension": ".py",
   "mimetype": "text/x-python",
   "name": "python",
   "nbconvert_exporter": "python",
   "pygments_lexer": "ipython3",
   "version": "3.9.0"
  }
 },
 "nbformat": 4,
 "nbformat_minor": 4
}
