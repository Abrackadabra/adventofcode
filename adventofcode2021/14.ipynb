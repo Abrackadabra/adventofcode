{
 "cells": [
  {
   "cell_type": "code",
   "execution_count": 1,
   "metadata": {},
   "outputs": [
    {
     "name": "stdout",
     "output_type": "stream",
     "text": [
      "Populating the interactive namespace from numpy and matplotlib\n"
     ]
    }
   ],
   "source": [
    "%pylab inline\n",
    "\n",
    "from tqdm import tqdm_notebook as tqdm\n",
    "import requests\n",
    "import pickle\n",
    "import re\n",
    "import itertools\n",
    "import functools\n",
    "import collections\n",
    "import string\n",
    "import time\n",
    "from bs4 import BeautifulSoup\n",
    "\n",
    "from adventlib import *\n",
    "\n",
    "YEAR = 2021\n",
    "DAY = int('14')\n",
    "\n",
    "submit1, submit2 = generate_submits(YEAR, DAY)\n",
    "\n",
    "while True:\n",
    "    try:\n",
    "        raw_input = get_input(YEAR, DAY)\n",
    "        break\n",
    "    except Exception as e:\n",
    "        print(e)\n",
    "        time.sleep(1)"
   ]
  },
  {
   "cell_type": "code",
   "execution_count": 28,
   "metadata": {},
   "outputs": [],
   "source": [
    "lines, groups = linesplit(\"\"\"\n",
    "NNCB\n",
    "\n",
    "CH -> B\n",
    "HH -> N\n",
    "CB -> H\n",
    "NH -> C\n",
    "HB -> C\n",
    "HC -> B\n",
    "HN -> C\n",
    "NN -> C\n",
    "BH -> H\n",
    "NC -> B\n",
    "NB -> B\n",
    "BN -> B\n",
    "BB -> N\n",
    "BC -> B\n",
    "CC -> N\n",
    "CN -> C\n",
    "\"\"\".strip())"
   ]
  },
  {
   "cell_type": "code",
   "execution_count": 38,
   "metadata": {},
   "outputs": [
    {
     "name": "stdout",
     "output_type": "stream",
     "text": [
      "102 lines\n",
      "2 groups\n",
      ">>>\n",
      "KFFNFNNBCNOBCNPFVKCP\n",
      "\n",
      "PB -> F\n",
      "...\n"
     ]
    }
   ],
   "source": [
    "lines, groups = linesplit(raw_input, verbose=True)"
   ]
  },
  {
   "cell_type": "code",
   "execution_count": null,
   "metadata": {},
   "outputs": [],
   "source": []
  },
  {
   "cell_type": "code",
   "execution_count": 12,
   "metadata": {},
   "outputs": [
    {
     "data": {
      "text/plain": [
       "{'PB': 'F',\n",
       " 'KC': 'F',\n",
       " 'OB': 'H',\n",
       " 'HV': 'N',\n",
       " 'FS': 'S',\n",
       " 'CK': 'K',\n",
       " 'CC': 'V',\n",
       " 'HF': 'K',\n",
       " 'VP': 'C',\n",
       " 'CP': 'S',\n",
       " 'HO': 'N',\n",
       " 'OS': 'N',\n",
       " 'HS': 'O',\n",
       " 'HB': 'F',\n",
       " 'OH': 'V',\n",
       " 'PP': 'B',\n",
       " 'BS': 'N',\n",
       " 'VS': 'F',\n",
       " 'CN': 'B',\n",
       " 'KB': 'O',\n",
       " 'KH': 'B',\n",
       " 'SS': 'K',\n",
       " 'NS': 'B',\n",
       " 'BP': 'V',\n",
       " 'FB': 'S',\n",
       " 'PV': 'O',\n",
       " 'NB': 'S',\n",
       " 'FC': 'F',\n",
       " 'VB': 'P',\n",
       " 'PC': 'O',\n",
       " 'VF': 'K',\n",
       " 'BV': 'K',\n",
       " 'OO': 'B',\n",
       " 'PN': 'N',\n",
       " 'NH': 'H',\n",
       " 'SP': 'B',\n",
       " 'KF': 'O',\n",
       " 'BN': 'F',\n",
       " 'OF': 'C',\n",
       " 'VV': 'H',\n",
       " 'BB': 'P',\n",
       " 'KN': 'H',\n",
       " 'PO': 'C',\n",
       " 'BH': 'O',\n",
       " 'HC': 'B',\n",
       " 'VO': 'O',\n",
       " 'FV': 'B',\n",
       " 'PK': 'V',\n",
       " 'KO': 'H',\n",
       " 'BK': 'V',\n",
       " 'SC': 'S',\n",
       " 'KV': 'B',\n",
       " 'OV': 'S',\n",
       " 'HK': 'F',\n",
       " 'NP': 'V',\n",
       " 'VH': 'P',\n",
       " 'OK': 'S',\n",
       " 'SO': 'C',\n",
       " 'PF': 'C',\n",
       " 'SH': 'N',\n",
       " 'FP': 'V',\n",
       " 'CS': 'C',\n",
       " 'HH': 'O',\n",
       " 'KK': 'P',\n",
       " 'BF': 'S',\n",
       " 'NN': 'O',\n",
       " 'OC': 'C',\n",
       " 'CB': 'O',\n",
       " 'BO': 'V',\n",
       " 'ON': 'F',\n",
       " 'BC': 'P',\n",
       " 'NO': 'N',\n",
       " 'KS': 'H',\n",
       " 'FF': 'V',\n",
       " 'FN': 'V',\n",
       " 'HP': 'N',\n",
       " 'VC': 'F',\n",
       " 'OP': 'K',\n",
       " 'VN': 'S',\n",
       " 'NV': 'F',\n",
       " 'SV': 'F',\n",
       " 'FO': 'V',\n",
       " 'PS': 'H',\n",
       " 'VK': 'O',\n",
       " 'PH': 'P',\n",
       " 'NF': 'N',\n",
       " 'KP': 'S',\n",
       " 'CF': 'S',\n",
       " 'FK': 'P',\n",
       " 'FH': 'F',\n",
       " 'CO': 'H',\n",
       " 'SN': 'B',\n",
       " 'NC': 'H',\n",
       " 'SK': 'P',\n",
       " 'CV': 'P',\n",
       " 'CH': 'H',\n",
       " 'HN': 'N',\n",
       " 'SB': 'H',\n",
       " 'NK': 'B',\n",
       " 'SF': 'H'}"
      ]
     },
     "execution_count": 12,
     "metadata": {},
     "output_type": "execute_result"
    }
   ],
   "source": [
    "a = groups[0][0]\n",
    "\n",
    "rules = {}\n",
    "\n",
    "for line in groups[1]:\n",
    "    matched = False\n",
    "    \n",
    "    m = re.findall(r'(\\w\\w) -> (\\w)', line)\n",
    "    s1, s2 = m[0]\n",
    "    rules[s1] = s2\n",
    "rules"
   ]
  },
  {
   "cell_type": "code",
   "execution_count": 13,
   "metadata": {},
   "outputs": [
    {
     "data": {
      "text/plain": [
       "'KOFVFVNNFVNONSBPCBNNOHBPCBNVPCFBVOKFCSP'"
      ]
     },
     "execution_count": 13,
     "metadata": {},
     "output_type": "execute_result"
    }
   ],
   "source": [
    "def f(a):\n",
    "    b = []\n",
    "    for i, j in zip(a[:-1], a[1:]):\n",
    "        b.append(i)\n",
    "        if i + j in rules:\n",
    "            b.append(rules[i + j])\n",
    "    b.append(a[-1])\n",
    "    return ''.join(b)\n",
    "f(a)"
   ]
  },
  {
   "cell_type": "code",
   "execution_count": 14,
   "metadata": {},
   "outputs": [],
   "source": [
    "x = a\n",
    "for i in range(10):\n",
    "    x = f(x)"
   ]
  },
  {
   "cell_type": "code",
   "execution_count": 15,
   "metadata": {},
   "outputs": [
    {
     "data": {
      "text/plain": [
       "Counter({'K': 1529,\n",
       "         'O': 2890,\n",
       "         'B': 1928,\n",
       "         'H': 1900,\n",
       "         'N': 2483,\n",
       "         'S': 2097,\n",
       "         'V': 2093,\n",
       "         'P': 822,\n",
       "         'F': 2108,\n",
       "         'C': 1607})"
      ]
     },
     "execution_count": 15,
     "metadata": {},
     "output_type": "execute_result"
    }
   ],
   "source": [
    "c = collections.Counter(x)\n",
    "c"
   ]
  },
  {
   "cell_type": "code",
   "execution_count": 16,
   "metadata": {},
   "outputs": [
    {
     "data": {
      "text/plain": [
       "2068"
      ]
     },
     "execution_count": 16,
     "metadata": {},
     "output_type": "execute_result"
    }
   ],
   "source": [
    "max(c.values()) - min(c.values())"
   ]
  },
  {
   "cell_type": "code",
   "execution_count": 26,
   "metadata": {},
   "outputs": [
    {
     "data": {
      "text/plain": [
       "True"
      ]
     },
     "execution_count": 26,
     "metadata": {},
     "output_type": "execute_result"
    }
   ],
   "source": [
    "submit1(_)"
   ]
  },
  {
   "cell_type": "code",
   "execution_count": 39,
   "metadata": {},
   "outputs": [
    {
     "data": {
      "text/plain": [
       "Counter({('K', 'F'): 1,\n",
       "         ('F', 'F'): 1,\n",
       "         ('F', 'N'): 2,\n",
       "         ('N', 'F'): 1,\n",
       "         ('N', 'N'): 1,\n",
       "         ('N', 'B'): 1,\n",
       "         ('B', 'C'): 2,\n",
       "         ('C', 'N'): 2,\n",
       "         ('N', 'O'): 1,\n",
       "         ('O', 'B'): 1,\n",
       "         ('N', 'P'): 1,\n",
       "         ('P', 'F'): 1,\n",
       "         ('F', 'V'): 1,\n",
       "         ('V', 'K'): 1,\n",
       "         ('K', 'C'): 1,\n",
       "         ('C', 'P'): 1})"
      ]
     },
     "execution_count": 39,
     "metadata": {},
     "output_type": "execute_result"
    }
   ],
   "source": [
    "a = collections.Counter(zip(groups[0][0][:-1], groups[0][0][1:]))\n",
    "a"
   ]
  },
  {
   "cell_type": "code",
   "execution_count": 40,
   "metadata": {},
   "outputs": [
    {
     "data": {
      "text/plain": [
       "{'PB': 'F',\n",
       " 'KC': 'F',\n",
       " 'OB': 'H',\n",
       " 'HV': 'N',\n",
       " 'FS': 'S',\n",
       " 'CK': 'K',\n",
       " 'CC': 'V',\n",
       " 'HF': 'K',\n",
       " 'VP': 'C',\n",
       " 'CP': 'S',\n",
       " 'HO': 'N',\n",
       " 'OS': 'N',\n",
       " 'HS': 'O',\n",
       " 'HB': 'F',\n",
       " 'OH': 'V',\n",
       " 'PP': 'B',\n",
       " 'BS': 'N',\n",
       " 'VS': 'F',\n",
       " 'CN': 'B',\n",
       " 'KB': 'O',\n",
       " 'KH': 'B',\n",
       " 'SS': 'K',\n",
       " 'NS': 'B',\n",
       " 'BP': 'V',\n",
       " 'FB': 'S',\n",
       " 'PV': 'O',\n",
       " 'NB': 'S',\n",
       " 'FC': 'F',\n",
       " 'VB': 'P',\n",
       " 'PC': 'O',\n",
       " 'VF': 'K',\n",
       " 'BV': 'K',\n",
       " 'OO': 'B',\n",
       " 'PN': 'N',\n",
       " 'NH': 'H',\n",
       " 'SP': 'B',\n",
       " 'KF': 'O',\n",
       " 'BN': 'F',\n",
       " 'OF': 'C',\n",
       " 'VV': 'H',\n",
       " 'BB': 'P',\n",
       " 'KN': 'H',\n",
       " 'PO': 'C',\n",
       " 'BH': 'O',\n",
       " 'HC': 'B',\n",
       " 'VO': 'O',\n",
       " 'FV': 'B',\n",
       " 'PK': 'V',\n",
       " 'KO': 'H',\n",
       " 'BK': 'V',\n",
       " 'SC': 'S',\n",
       " 'KV': 'B',\n",
       " 'OV': 'S',\n",
       " 'HK': 'F',\n",
       " 'NP': 'V',\n",
       " 'VH': 'P',\n",
       " 'OK': 'S',\n",
       " 'SO': 'C',\n",
       " 'PF': 'C',\n",
       " 'SH': 'N',\n",
       " 'FP': 'V',\n",
       " 'CS': 'C',\n",
       " 'HH': 'O',\n",
       " 'KK': 'P',\n",
       " 'BF': 'S',\n",
       " 'NN': 'O',\n",
       " 'OC': 'C',\n",
       " 'CB': 'O',\n",
       " 'BO': 'V',\n",
       " 'ON': 'F',\n",
       " 'BC': 'P',\n",
       " 'NO': 'N',\n",
       " 'KS': 'H',\n",
       " 'FF': 'V',\n",
       " 'FN': 'V',\n",
       " 'HP': 'N',\n",
       " 'VC': 'F',\n",
       " 'OP': 'K',\n",
       " 'VN': 'S',\n",
       " 'NV': 'F',\n",
       " 'SV': 'F',\n",
       " 'FO': 'V',\n",
       " 'PS': 'H',\n",
       " 'VK': 'O',\n",
       " 'PH': 'P',\n",
       " 'NF': 'N',\n",
       " 'KP': 'S',\n",
       " 'CF': 'S',\n",
       " 'FK': 'P',\n",
       " 'FH': 'F',\n",
       " 'CO': 'H',\n",
       " 'SN': 'B',\n",
       " 'NC': 'H',\n",
       " 'SK': 'P',\n",
       " 'CV': 'P',\n",
       " 'CH': 'H',\n",
       " 'HN': 'N',\n",
       " 'SB': 'H',\n",
       " 'NK': 'B',\n",
       " 'SF': 'H'}"
      ]
     },
     "execution_count": 40,
     "metadata": {},
     "output_type": "execute_result"
    }
   ],
   "source": [
    "rules = {}\n",
    "\n",
    "for line in groups[1]:\n",
    "    matched = False\n",
    "    \n",
    "    m = re.findall(r'(\\w\\w) -> (\\w)', line)\n",
    "    s1, s2 = m[0]\n",
    "    rules[s1] = s2\n",
    "rules"
   ]
  },
  {
   "cell_type": "code",
   "execution_count": 41,
   "metadata": {},
   "outputs": [
    {
     "data": {
      "text/plain": [
       "defaultdict(int,\n",
       "            {('K', 'O'): 1,\n",
       "             ('O', 'F'): 1,\n",
       "             ('F', 'V'): 3,\n",
       "             ('V', 'F'): 1,\n",
       "             ('V', 'N'): 2,\n",
       "             ('N', 'N'): 2,\n",
       "             ('N', 'F'): 1,\n",
       "             ('N', 'O'): 2,\n",
       "             ('O', 'N'): 1,\n",
       "             ('N', 'S'): 1,\n",
       "             ('S', 'B'): 1,\n",
       "             ('B', 'P'): 2,\n",
       "             ('P', 'C'): 3,\n",
       "             ('C', 'B'): 2,\n",
       "             ('B', 'N'): 2,\n",
       "             ('O', 'H'): 1,\n",
       "             ('H', 'B'): 1,\n",
       "             ('N', 'V'): 1,\n",
       "             ('V', 'P'): 1,\n",
       "             ('C', 'F'): 1,\n",
       "             ('F', 'B'): 1,\n",
       "             ('B', 'V'): 1,\n",
       "             ('V', 'O'): 1,\n",
       "             ('O', 'K'): 1,\n",
       "             ('K', 'F'): 1,\n",
       "             ('F', 'C'): 1,\n",
       "             ('C', 'S'): 1,\n",
       "             ('S', 'P'): 1})"
      ]
     },
     "execution_count": 41,
     "metadata": {},
     "output_type": "execute_result"
    }
   ],
   "source": [
    "def f(a):\n",
    "    b = collections.defaultdict(int)\n",
    "    for (i, j), k in a.items():\n",
    "        if i + j in rules:\n",
    "            b[(i, rules[i + j])] += k\n",
    "            b[(rules[i + j], j)] += k\n",
    "        else:\n",
    "            b[(i, j)] += k\n",
    "    return b\n",
    "f(a)"
   ]
  },
  {
   "cell_type": "code",
   "execution_count": 42,
   "metadata": {},
   "outputs": [],
   "source": [
    "x = a\n",
    "for i in range(40):\n",
    "    x = f(x)"
   ]
  },
  {
   "cell_type": "code",
   "execution_count": 43,
   "metadata": {},
   "outputs": [
    {
     "data": {
      "text/plain": [
       "defaultdict(int,\n",
       "            {('K', 'O'): 326797322158,\n",
       "             ('O', 'B'): 299763244182,\n",
       "             ('B', 'O'): 210502333214,\n",
       "             ('O', 'H'): 320499848854,\n",
       "             ('H', 'N'): 343614924681,\n",
       "             ('N', 'N'): 687252746067,\n",
       "             ('N', 'O'): 1030881044200,\n",
       "             ('O', 'S'): 262550590243,\n",
       "             ('S', 'V'): 129958339751,\n",
       "             ('V', 'P'): 181520955595,\n",
       "             ('P', 'H'): 160243674600,\n",
       "             ('H', 'K'): 218746558367,\n",
       "             ('K', 'F'): 362254650945,\n",
       "             ('F', 'S'): 497953183461,\n",
       "             ('S', 'B'): 535423669810,\n",
       "             ('B', 'V'): 714137559888,\n",
       "             ('V', 'K'): 405875274597,\n",
       "             ('K', 'B'): 291355383899,\n",
       "             ('V', 'O'): 616366843830,\n",
       "             ('O', 'O'): 308186344549,\n",
       "             ('O', 'N'): 474897575125,\n",
       "             ('N', 'S'): 326543648939,\n",
       "             ('S', 'F'): 238650055755,\n",
       "             ('F', 'V'): 355507965269,\n",
       "             ('V', 'C'): 321754582161,\n",
       "             ('C', 'P'): 206259743950,\n",
       "             ('P', 'P'): 80119532545,\n",
       "             ('O', 'F'): 418579059593,\n",
       "             ('F', 'N'): 365501779956,\n",
       "             ('O', 'C'): 498383907849,\n",
       "             ('C', 'F'): 219304194718,\n",
       "             ('V', 'N'): 182745383234,\n",
       "             ('B', 'N'): 256088693841,\n",
       "             ('S', 'N'): 284892088652,\n",
       "             ('N', 'H'): 387031553616,\n",
       "             ('B', 'K'): 357052524638,\n",
       "             ('K', 'V'): 357052524638,\n",
       "             ('F', 'F'): 160884255411,\n",
       "             ('F', 'C'): 321763127058,\n",
       "             ('C', 'C'): 461983706042,\n",
       "             ('C', 'S'): 425571389201,\n",
       "             ('B', 'P'): 148115155726,\n",
       "             ('P', 'F'): 20028762390,\n",
       "             ('F', 'B'): 406581885140,\n",
       "             ('P', 'B'): 40059391530,\n",
       "             ('H', 'F'): 437490847224,\n",
       "             ('F', 'K'): 109370221409,\n",
       "             ('P', 'V'): 199331406824,\n",
       "             ('B', 'H'): 112819646851,\n",
       "             ('S', 'S'): 248976637876,\n",
       "             ('S', 'K'): 225958121382,\n",
       "             ('K', 'S'): 124487316419,\n",
       "             ('S', 'P'): 216105927758,\n",
       "             ('P', 'K'): 167661395575,\n",
       "             ('K', 'H'): 225646802776,\n",
       "             ('H', 'S'): 62243746833,\n",
       "             ('H', 'H'): 228409995307,\n",
       "             ('O', 'K'): 202929904866,\n",
       "             ('O', 'V'): 259911215188,\n",
       "             ('V', 'H'): 160245495440,\n",
       "             ('H', 'B'): 417599610085,\n",
       "             ('V', 'S'): 91376523410,\n",
       "             ('N', 'B'): 163284198732,\n",
       "             ('B', 'S'): 227304033848,\n",
       "             ('S', 'H'): 387042229246,\n",
       "             ('B', 'F'): 128047435372,\n",
       "             ('V', 'F'): 287008753355,\n",
       "             ('C', 'V'): 230994800064,\n",
       "             ('P', 'C'): 79798538088,\n",
       "             ('H', 'O'): 343619308580,\n",
       "             ('P', 'O'): 139564211082,\n",
       "             ('C', 'O'): 69784282836,\n",
       "             ('F', 'P'): 54685597061,\n",
       "             ('C', 'H'): 69785744387,\n",
       "             ('N', 'F'): 2})"
      ]
     },
     "execution_count": 43,
     "metadata": {},
     "output_type": "execute_result"
    }
   ],
   "source": [
    "x"
   ]
  },
  {
   "cell_type": "code",
   "execution_count": 44,
   "metadata": {},
   "outputs": [],
   "source": [
    "xx = collections.defaultdict(int)\n",
    "for (i, j), k in x.items():\n",
    "    xx[i] += k\n",
    "    xx[j] += k\n",
    "xx[groups[0][0][0]] += 1\n",
    "xx[groups[0][0][-1]] += 1"
   ]
  },
  {
   "cell_type": "code",
   "execution_count": 45,
   "metadata": {},
   "outputs": [
    {
     "data": {
      "text/plain": [
       "2158894777814"
      ]
     },
     "execution_count": 45,
     "metadata": {},
     "output_type": "execute_result"
    }
   ],
   "source": [
    "(max(xx.values()) - min(xx.values())) // 2"
   ]
  },
  {
   "cell_type": "code",
   "execution_count": 46,
   "metadata": {},
   "outputs": [
    {
     "data": {
      "text/plain": [
       "True"
      ]
     },
     "execution_count": 46,
     "metadata": {},
     "output_type": "execute_result"
    }
   ],
   "source": [
    "submit2(_)"
   ]
  }
 ],
 "metadata": {
  "kernelspec": {
   "display_name": "Python 3",
   "language": "python",
   "name": "python3"
  },
  "language_info": {
   "codemirror_mode": {
    "name": "ipython",
    "version": 3
   },
   "file_extension": ".py",
   "mimetype": "text/x-python",
   "name": "python",
   "nbconvert_exporter": "python",
   "pygments_lexer": "ipython3",
   "version": "3.9.0"
  }
 },
 "nbformat": 4,
 "nbformat_minor": 4
}
