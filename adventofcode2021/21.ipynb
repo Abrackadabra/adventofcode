{
 "cells": [
  {
   "cell_type": "code",
   "execution_count": 1,
   "metadata": {},
   "outputs": [
    {
     "name": "stdout",
     "output_type": "stream",
     "text": [
      "Populating the interactive namespace from numpy and matplotlib\n"
     ]
    }
   ],
   "source": [
    "%pylab inline\n",
    "\n",
    "from tqdm import tqdm_notebook as tqdm\n",
    "import requests\n",
    "import pickle\n",
    "import re\n",
    "import itertools\n",
    "import functools\n",
    "import collections\n",
    "import string\n",
    "import time\n",
    "from bs4 import BeautifulSoup\n",
    "from sortedcontainers import SortedList # http://www.grantjenks.com/docs/sortedcontainers/sortedlist.html#sortedlist\n",
    "\n",
    "from adventlib import *\n",
    "\n",
    "YEAR = 2021\n",
    "DAY = int('21')\n",
    "\n",
    "submit1, submit2 = generate_submits(YEAR, DAY)\n",
    "\n",
    "while True:\n",
    "  try:\n",
    "    raw_input = get_input(YEAR, DAY)\n",
    "    break\n",
    "  except Exception as e:\n",
    "    print(e)\n",
    "    time.sleep(1)"
   ]
  },
  {
   "cell_type": "code",
   "execution_count": 31,
   "metadata": {},
   "outputs": [],
   "source": [
    "lines, groups = linesplit(\"\"\"\n",
    "Player 1 starting position: 4\n",
    "Player 2 starting position: 8\n",
    "\"\"\".strip())"
   ]
  },
  {
   "cell_type": "code",
   "execution_count": 51,
   "metadata": {},
   "outputs": [
    {
     "name": "stdout",
     "output_type": "stream",
     "text": [
      "2 lines\n",
      "1 groups\n",
      ">>>\n",
      "Player 1 starting position: 2\n",
      "Player 2 starting position: 8\n"
     ]
    }
   ],
   "source": [
    "lines, groups = linesplit(raw_input, verbose=True)"
   ]
  },
  {
   "cell_type": "code",
   "execution_count": null,
   "metadata": {},
   "outputs": [],
   "source": []
  },
  {
   "cell_type": "code",
   "execution_count": 32,
   "metadata": {},
   "outputs": [
    {
     "data": {
      "text/plain": [
       "(3, 7)"
      ]
     },
     "execution_count": 32,
     "metadata": {},
     "output_type": "execute_result"
    }
   ],
   "source": [
    "pos1 = int(re.findall(r': (\\d+)', lines[0])[0]) - 1\n",
    "pos2 = int(re.findall(r': (\\d+)', lines[1])[0]) - 1\n",
    "pos1, pos2"
   ]
  },
  {
   "cell_type": "code",
   "execution_count": 15,
   "metadata": {},
   "outputs": [
    {
     "name": "stdout",
     "output_type": "stream",
     "text": [
      "1006 894 1338\n"
     ]
    }
   ],
   "source": [
    "rolls = 0\n",
    "curd = 0\n",
    "\n",
    "score1 = 0\n",
    "score2 = 0\n",
    "\n",
    "p1, p2 = pos1, pos2\n",
    "\n",
    "while True:\n",
    "  inc = 0\n",
    "  for i in range(3):\n",
    "    inc += curd + 1\n",
    "    curd = (curd + 1) % 100\n",
    "    rolls += 1\n",
    "  p1 = (p1 + inc) % 10\n",
    "  score1 += p1 + 1\n",
    "  if score1 >= 1000:\n",
    "    print(score1, score2, rolls)\n",
    "    break\n",
    "  \n",
    "  inc = 0\n",
    "  for i in range(3):\n",
    "    inc += curd + 1\n",
    "    curd = (curd + 1) % 100\n",
    "    rolls += 1\n",
    "  p2 = (p2 + inc) % 10\n",
    "  score2 += p2 + 1\n",
    "  if score2 >= 1000:\n",
    "    print(score2, score1, rolls)\n",
    "    break"
   ]
  },
  {
   "cell_type": "code",
   "execution_count": 16,
   "metadata": {},
   "outputs": [
    {
     "data": {
      "text/plain": [
       "1196172"
      ]
     },
     "execution_count": 16,
     "metadata": {},
     "output_type": "execute_result"
    }
   ],
   "source": [
    "894 * 1338"
   ]
  },
  {
   "cell_type": "code",
   "execution_count": 17,
   "metadata": {},
   "outputs": [
    {
     "data": {
      "text/plain": [
       "True"
      ]
     },
     "execution_count": 17,
     "metadata": {},
     "output_type": "execute_result"
    }
   ],
   "source": [
    "submit1(_) # 5:52"
   ]
  },
  {
   "cell_type": "code",
   "execution_count": 52,
   "metadata": {},
   "outputs": [
    {
     "data": {
      "text/plain": [
       "(1, 7)"
      ]
     },
     "execution_count": 52,
     "metadata": {},
     "output_type": "execute_result"
    }
   ],
   "source": [
    "pos1 = int(re.findall(r': (\\d+)', lines[0])[0]) - 1\n",
    "pos2 = int(re.findall(r': (\\d+)', lines[1])[0]) - 1\n",
    "pos1, pos2"
   ]
  },
  {
   "cell_type": "code",
   "execution_count": 53,
   "metadata": {},
   "outputs": [
    {
     "data": {
      "text/plain": [
       "defaultdict(int, {3: 1, 4: 3, 5: 6, 6: 7, 7: 6, 8: 3, 9: 1})"
      ]
     },
     "execution_count": 53,
     "metadata": {},
     "output_type": "execute_result"
    }
   ],
   "source": [
    "sums = collections.defaultdict(int)\n",
    "for i in range(1, 4):\n",
    "  for j in range(1, 4):\n",
    "    for k in range(1, 4):\n",
    "      sums[i + j + k] += 1\n",
    "sums"
   ]
  },
  {
   "cell_type": "code",
   "execution_count": 54,
   "metadata": {},
   "outputs": [],
   "source": [
    "# sums = collections.defaultdict(int)\n",
    "# for i in range(3):\n",
    "#   for j in range(3):\n",
    "#     for k in range(3):\n",
    "#       for i1 in range(3):\n",
    "#         for j1 in range(3):\n",
    "#           for k1 in range(3):\n",
    "#             sums[(i + j + k, i1 + j1 + k1)] += 1\n",
    "# sums"
   ]
  },
  {
   "cell_type": "code",
   "execution_count": 55,
   "metadata": {},
   "outputs": [
    {
     "data": {
      "text/plain": [
       "(106768284484217, 63041043110262)"
      ]
     },
     "execution_count": 55,
     "metadata": {},
     "output_type": "execute_result"
    }
   ],
   "source": [
    "wins1 = 0\n",
    "wins2 = 0\n",
    "dp = zeros((10, 10, 21, 21), dtype=object)\n",
    "dp[pos1, pos2, 0, 0] = 1\n",
    "for score1 in range(21):\n",
    "  for score2 in range(21):\n",
    "    for p1 in range(10):\n",
    "      for p2 in range(10):\n",
    "        if dp[p1, p2, score1, score2] == 0:\n",
    "          continue\n",
    "        \n",
    "        for sum1, times1 in sums.items():\n",
    "          np1 = (p1 + sum1) % 10\n",
    "          nscore1 = score1 + np1 + 1\n",
    "          if nscore1 >= 21:\n",
    "            wins1 += dp[p1, p2, score1, score2] * times1\n",
    "            continue\n",
    "          \n",
    "          for sum2, times2 in sums.items():\n",
    "            np2 = (p2 + sum2) % 10\n",
    "            nscore2 = score2 + np2 + 1\n",
    "            if nscore2 >= 21:\n",
    "              wins2 += dp[p1, p2, score1, score2] * times1 * times2\n",
    "              continue\n",
    "          \n",
    "            dp[np1, np2, nscore1, nscore2] += dp[p1, p2, score1, score2] * times1 * times2\n",
    "wins1, wins2"
   ]
  },
  {
   "cell_type": "code",
   "execution_count": 56,
   "metadata": {},
   "outputs": [
    {
     "data": {
      "text/plain": [
       "106768284484217"
      ]
     },
     "execution_count": 56,
     "metadata": {},
     "output_type": "execute_result"
    }
   ],
   "source": [
    "max(wins1, wins2)"
   ]
  },
  {
   "cell_type": "code",
   "execution_count": 57,
   "metadata": {},
   "outputs": [
    {
     "data": {
      "text/plain": [
       "True"
      ]
     },
     "execution_count": 57,
     "metadata": {},
     "output_type": "execute_result"
    }
   ],
   "source": [
    "submit2(_)"
   ]
  }
 ],
 "metadata": {
  "kernelspec": {
   "display_name": "Python 3",
   "language": "python",
   "name": "python3"
  },
  "language_info": {
   "codemirror_mode": {
    "name": "ipython",
    "version": 3
   },
   "file_extension": ".py",
   "mimetype": "text/x-python",
   "name": "python",
   "nbconvert_exporter": "python",
   "pygments_lexer": "ipython3",
   "version": "3.9.0"
  }
 },
 "nbformat": 4,
 "nbformat_minor": 4
}
