{
 "cells": [
  {
   "cell_type": "code",
   "execution_count": 2,
   "metadata": {},
   "outputs": [
    {
     "name": "stdout",
     "output_type": "stream",
     "text": [
      "Populating the interactive namespace from numpy and matplotlib\n"
     ]
    }
   ],
   "source": [
    "%pylab inline\n",
    "\n",
    "from tqdm import tqdm_notebook as tqdm\n",
    "import requests\n",
    "import pickle\n",
    "import re\n",
    "import itertools\n",
    "import functools\n",
    "import collections\n",
    "import string\n",
    "import time\n",
    "from bs4 import BeautifulSoup\n",
    "from sortedcontainers import SortedList # http://www.grantjenks.com/docs/sortedcontainers/sortedlist.html#sortedlist\n",
    "\n",
    "from adventlib import *\n",
    "\n",
    "YEAR = 2021\n",
    "DAY = int('24')\n",
    "\n",
    "submit1, submit2 = generate_submits(YEAR, DAY)\n",
    "\n",
    "while True:\n",
    "  try:\n",
    "    raw_input = get_input(YEAR, DAY)\n",
    "    break\n",
    "  except Exception as e:\n",
    "    print(e)\n",
    "    time.sleep(1)"
   ]
  },
  {
   "cell_type": "code",
   "execution_count": 16,
   "metadata": {},
   "outputs": [],
   "source": [
    "lines, groups = linesplit(\"\"\"\n",
    "inp w\n",
    "add z w\n",
    "mod z 2\n",
    "div w 2\n",
    "add y w\n",
    "mod y 2\n",
    "div w 2\n",
    "add x w\n",
    "mod x 2\n",
    "div w 2\n",
    "mod w 2\n",
    "\"\"\".strip())"
   ]
  },
  {
   "cell_type": "code",
   "execution_count": 40,
   "metadata": {},
   "outputs": [],
   "source": [
    "lines, groups = linesplit(\"\"\"\n",
    "inp z\n",
    "inp x\n",
    "mul z 3\n",
    "eql z x\n",
    "\"\"\".strip())"
   ]
  },
  {
   "cell_type": "code",
   "execution_count": 56,
   "metadata": {},
   "outputs": [],
   "source": [
    "lines, groups = linesplit(\"\"\"\n",
    "inp w\n",
    "mul x 0\n",
    "add x z\n",
    "mod x 26\n",
    "div z 1\n",
    "add x 12\n",
    "eql x w\n",
    "eql x 0\n",
    "mul y 0\n",
    "add y 25\n",
    "mul y x\n",
    "add y 1\n",
    "mul z y\n",
    "mul y 0\n",
    "add y w\n",
    "add y 7\n",
    "mul y x\n",
    "add z y\n",
    "\"\"\".strip())"
   ]
  },
  {
   "cell_type": "code",
   "execution_count": 55,
   "metadata": {},
   "outputs": [
    {
     "name": "stdout",
     "output_type": "stream",
     "text": [
      "252 lines\n",
      "1 groups\n",
      ">>>\n",
      "inp w\n",
      "mul x 0\n",
      "add x z\n",
      "...\n"
     ]
    }
   ],
   "source": [
    "lines, groups = linesplit(raw_input, verbose=True)"
   ]
  },
  {
   "cell_type": "code",
   "execution_count": null,
   "metadata": {},
   "outputs": [],
   "source": []
  },
  {
   "cell_type": "code",
   "execution_count": 57,
   "metadata": {},
   "outputs": [],
   "source": [
    "import sympy"
   ]
  },
  {
   "cell_type": "code",
   "execution_count": 58,
   "metadata": {},
   "outputs": [],
   "source": [
    "def sym_eq(x, y):\n",
    "  return 1 - sympy.Abs(sympy.sign(x - y))"
   ]
  },
  {
   "cell_type": "code",
   "execution_count": 59,
   "metadata": {},
   "outputs": [],
   "source": [
    "inputs = sympy.symbols('input:1:14')\n",
    "input_i = 0\n",
    "x, y, z, w = 0, 0, 0, 0\n",
    "\n",
    "for line in lines:\n",
    "  if m := re.findall(r'^inp (.*)$', line):\n",
    "    t = inputs[input_i]\n",
    "    input_i += 1\n",
    "    var1 = m[0][0]\n",
    "    if var1 == 'x':\n",
    "      x = t\n",
    "    elif var1 == 'y':\n",
    "      y = t\n",
    "    elif var1 == 'z':\n",
    "      z = t\n",
    "    elif var1 == 'w':\n",
    "      w = t\n",
    "  elif m := re.findall(r'^add (.*) (.*)$', line):\n",
    "    var2 = m[0][1]\n",
    "    if var2 == 'x':\n",
    "      t = x\n",
    "    elif var2 == 'y':\n",
    "      t = y\n",
    "    elif var2 == 'z':\n",
    "      t = z\n",
    "    elif var2 == 'w':\n",
    "      t = w\n",
    "    else:\n",
    "      t = int(var2)\n",
    "    \n",
    "    var1 = m[0][0]\n",
    "    if var1 == 'x':\n",
    "      x = x + t\n",
    "    elif var1 == 'y':\n",
    "      y = y + t\n",
    "    elif var1 == 'z':\n",
    "      z = z + t\n",
    "    elif var1 == 'w':\n",
    "      w = w + t\n",
    "  elif m := re.findall(r'^div (.*) (.*)$', line):\n",
    "    var2 = m[0][1]\n",
    "    if var2 == 'x':\n",
    "      t = x\n",
    "    elif var2 == 'y':\n",
    "      t = y\n",
    "    elif var2 == 'z':\n",
    "      t = z\n",
    "    elif var2 == 'w':\n",
    "      t = w\n",
    "    else:\n",
    "      t = int(var2)\n",
    "    \n",
    "    var1 = m[0][0]\n",
    "    if var1 == 'x':\n",
    "      x = x // t\n",
    "    elif var1 == 'y':\n",
    "      y = y // t\n",
    "    elif var1 == 'z':\n",
    "      z = z // t\n",
    "    elif var1 == 'w':\n",
    "      w = w // t\n",
    "  elif m := re.findall(r'^mod (.*) (.*)$', line):\n",
    "    var2 = m[0][1]\n",
    "    if var2 == 'x':\n",
    "      t = x\n",
    "    elif var2 == 'y':\n",
    "      t = y\n",
    "    elif var2 == 'z':\n",
    "      t = z\n",
    "    elif var2 == 'w':\n",
    "      t = w\n",
    "    else:\n",
    "      t = int(var2)\n",
    "    \n",
    "    var1 = m[0][0]\n",
    "    if var1 == 'x':\n",
    "      x = x % t\n",
    "    elif var1 == 'y':\n",
    "      y = y % t\n",
    "    elif var1 == 'z':\n",
    "      z = z % t\n",
    "    elif var1 == 'w':\n",
    "      w = w % t\n",
    "  elif m := re.findall(r'^mul (.*) (.*)$', line):\n",
    "    var2 = m[0][1]\n",
    "    if var2 == 'x':\n",
    "      t = x\n",
    "    elif var2 == 'y':\n",
    "      t = y\n",
    "    elif var2 == 'z':\n",
    "      t = z\n",
    "    elif var2 == 'w':\n",
    "      t = w\n",
    "    else:\n",
    "      t = int(var2)\n",
    "    \n",
    "    var1 = m[0][0]\n",
    "    if var1 == 'x':\n",
    "      x = x * t\n",
    "    elif var1 == 'y':\n",
    "      y = y * t\n",
    "    elif var1 == 'z':\n",
    "      z = z * t\n",
    "    elif var1 == 'w':\n",
    "      w = w * t\n",
    "  elif m := re.findall(r'^eql (.*) (.*)$', line):\n",
    "    var2 = m[0][1]\n",
    "    if var2 == 'x':\n",
    "      t = x\n",
    "    elif var2 == 'y':\n",
    "      t = y\n",
    "    elif var2 == 'z':\n",
    "      t = z\n",
    "    elif var2 == 'w':\n",
    "      t = w\n",
    "    else:\n",
    "      t = int(var2)\n",
    "    \n",
    "    var1 = m[0][0]\n",
    "    if var1 == 'x':\n",
    "      x = sym_eq(x, t)\n",
    "    elif var1 == 'y':\n",
    "      y = sym_eq(y, t)\n",
    "    elif var1 == 'z':\n",
    "      z = sym_eq(z, t)\n",
    "    elif var1 == 'w':\n",
    "      w = sym_eq(w, t)\n",
    "  else:\n",
    "    print('unrec ', line)"
   ]
  },
  {
   "cell_type": "code",
   "execution_count": 60,
   "metadata": {},
   "outputs": [
    {
     "data": {
      "text/plain": [
       "(1 - Abs(sign(Abs(sign(input00 - 12)) - 1)),\n",
       " (1 - Abs(sign(Abs(sign(input00 - 12)) - 1)))*(input00 + 7),\n",
       " (1 - Abs(sign(Abs(sign(input00 - 12)) - 1)))*(input00 + 7),\n",
       " input00)"
      ]
     },
     "execution_count": 60,
     "metadata": {},
     "output_type": "execute_result"
    }
   ],
   "source": [
    "x, y, z, w"
   ]
  },
  {
   "cell_type": "code",
   "execution_count": 73,
   "metadata": {},
   "outputs": [
    {
     "data": {
      "text/plain": [
       "\u001b[0;31mSignature:\u001b[0m \u001b[0msympy\u001b[0m\u001b[0;34m.\u001b[0m\u001b[0mrefine\u001b[0m\u001b[0;34m(\u001b[0m\u001b[0mexpr\u001b[0m\u001b[0;34m,\u001b[0m \u001b[0massumptions\u001b[0m\u001b[0;34m=\u001b[0m\u001b[0;32mTrue\u001b[0m\u001b[0;34m)\u001b[0m\u001b[0;34m\u001b[0m\u001b[0;34m\u001b[0m\u001b[0m\n",
       "\u001b[0;31mDocstring:\u001b[0m\n",
       "Simplify an expression using assumptions.\n",
       "\n",
       "Explanation\n",
       "===========\n",
       "\n",
       "Unlike :func:`~.simplify()` which performs structural simplification\n",
       "without any assumption, this function transforms the expression into\n",
       "the form which is only valid under certain assumptions. Note that\n",
       "``simplify()`` is generally not done in refining process.\n",
       "\n",
       "Refining boolean expression involves reducing it to ``S.true`` or\n",
       "``S.false``. Unlike :func:`~.ask()`, the expression will not be reduced\n",
       "if the truth value cannot be determined.\n",
       "\n",
       "Examples\n",
       "========\n",
       "\n",
       ">>> from sympy import refine, sqrt, Q\n",
       ">>> from sympy.abc import x\n",
       ">>> refine(sqrt(x**2), Q.real(x))\n",
       "Abs(x)\n",
       ">>> refine(sqrt(x**2), Q.positive(x))\n",
       "x\n",
       "\n",
       ">>> refine(Q.real(x), Q.positive(x))\n",
       "True\n",
       ">>> refine(Q.positive(x), Q.real(x))\n",
       "Q.positive(x)\n",
       "\n",
       "See Also\n",
       "========\n",
       "\n",
       "sympy.simplify.simplify.simplify : Structural simplification without assumptions.\n",
       "sympy.assumptions.ask.ask : Query for boolean expressions using assumptions.\n",
       "\u001b[0;31mFile:\u001b[0m      ~/projects/jupyter/.venv/lib/python3.9/site-packages/sympy/assumptions/refine.py\n",
       "\u001b[0;31mType:\u001b[0m      function\n"
      ]
     },
     "metadata": {},
     "output_type": "display_data"
    }
   ],
   "source": [
    "sympy.refine?"
   ]
  },
  {
   "cell_type": "code",
   "execution_count": 75,
   "metadata": {},
   "outputs": [
    {
     "data": {
      "text/latex": [
       "$\\displaystyle \\begin{cases} 1 & \\text{for}\\: \\left(\\left|{\\frac{input_{00} - 12}{\\left|{input_{00} - 12}\\right|}}\\right| - 1 = 0 \\wedge input_{00} > 12\\right) \\vee \\left(\\left|{\\frac{input_{00} - 12}{\\left|{input_{00} - 12}\\right|}}\\right| - 1 = 0 \\wedge input_{00} < 12\\right) \\\\0 & \\text{for}\\: input_{00} = 12 \\\\1 - \\left|{\\frac{\\left|{\\frac{input_{00} - 12}{\\left|{input_{00} - 12}\\right|}}\\right| - 1}{\\left|{\\left|{\\frac{input_{00} - 12}{\\left|{input_{00} - 12}\\right|}}\\right| - 1}\\right|}}\\right| & \\text{otherwise} \\end{cases}$"
      ],
      "text/plain": [
       "Piecewise((1, ((input00 > 12) & Eq(Abs((input00 - 12)/Abs(input00 - 12)) - 1, 0)) | ((input00 < 12) & Eq(Abs((input00 - 12)/Abs(input00 - 12)) - 1, 0))), (0, Eq(input00, 12)), (1 - Abs((Abs((input00 - 12)/Abs(input00 - 12)) - 1)/Abs(Abs((input00 - 12)/Abs(input00 - 12)) - 1)), True))"
      ]
     },
     "execution_count": 75,
     "metadata": {},
     "output_type": "execute_result"
    }
   ],
   "source": [
    "x.simplify()"
   ]
  },
  {
   "cell_type": "code",
   "execution_count": 69,
   "metadata": {},
   "outputs": [
    {
     "ename": "TypeError",
     "evalue": "unsupported operand type(s) for +: 'Equality' and 'int'",
     "output_type": "error",
     "traceback": [
      "\u001b[0;31m---------------------------------------------------------------------------\u001b[0m",
      "\u001b[0;31mTypeError\u001b[0m                                 Traceback (most recent call last)",
      "\u001b[0;32m/var/folders/r7/1gs9hgtd52d66t277y5f85kw006cyr/T/ipykernel_37664/446222568.py\u001b[0m in \u001b[0;36m<module>\u001b[0;34m\u001b[0m\n\u001b[0;32m----> 1\u001b[0;31m \u001b[0msympy\u001b[0m\u001b[0;34m.\u001b[0m\u001b[0mEq\u001b[0m\u001b[0;34m(\u001b[0m\u001b[0mx\u001b[0m\u001b[0;34m,\u001b[0m \u001b[0my\u001b[0m\u001b[0;34m)\u001b[0m \u001b[0;34m+\u001b[0m \u001b[0;36m1\u001b[0m\u001b[0;34m\u001b[0m\u001b[0;34m\u001b[0m\u001b[0m\n\u001b[0m",
      "\u001b[0;31mTypeError\u001b[0m: unsupported operand type(s) for +: 'Equality' and 'int'"
     ]
    }
   ],
   "source": [
    "sympy.Eq(x, y) + 1"
   ]
  },
  {
   "cell_type": "code",
   "execution_count": 46,
   "metadata": {},
   "outputs": [
    {
     "data": {
      "text/latex": [
       "$\\displaystyle 0$"
      ],
      "text/plain": [
       "0"
      ]
     },
     "execution_count": 46,
     "metadata": {},
     "output_type": "execute_result"
    }
   ],
   "source": [
    "z.subs({\n",
    "  inputs[0]: 1,\n",
    "  inputs[1]: 2,\n",
    "})"
   ]
  }
 ],
 "metadata": {
  "kernelspec": {
   "display_name": "Python 3 (ipykernel)",
   "language": "python",
   "name": "python3"
  },
  "language_info": {
   "codemirror_mode": {
    "name": "ipython",
    "version": 3
   },
   "file_extension": ".py",
   "mimetype": "text/x-python",
   "name": "python",
   "nbconvert_exporter": "python",
   "pygments_lexer": "ipython3",
   "version": "3.9.0"
  }
 },
 "nbformat": 4,
 "nbformat_minor": 4
}
