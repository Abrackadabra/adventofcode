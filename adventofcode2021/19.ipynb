{
 "cells": [
  {
   "cell_type": "code",
   "execution_count": 1,
   "metadata": {},
   "outputs": [
    {
     "name": "stdout",
     "output_type": "stream",
     "text": [
      "Populating the interactive namespace from numpy and matplotlib\n"
     ]
    }
   ],
   "source": [
    "%pylab inline\n",
    "\n",
    "from tqdm import tqdm_notebook as tqdm\n",
    "import requests\n",
    "import pickle\n",
    "import re\n",
    "import itertools\n",
    "import functools\n",
    "import collections\n",
    "import string\n",
    "import time\n",
    "from bs4 import BeautifulSoup\n",
    "from sortedcontainers import SortedList # http://www.grantjenks.com/docs/sortedcontainers/sortedlist.html#sortedlist\n",
    "\n",
    "from adventlib import *\n",
    "\n",
    "YEAR = 2021\n",
    "DAY = int('19')\n",
    "\n",
    "submit1, submit2 = generate_submits(YEAR, DAY)\n",
    "\n",
    "while True:\n",
    "  try:\n",
    "    raw_input = get_input(YEAR, DAY)\n",
    "    break\n",
    "  except Exception as e:\n",
    "    print(e)\n",
    "    time.sleep(1)"
   ]
  },
  {
   "cell_type": "code",
   "execution_count": 78,
   "metadata": {},
   "outputs": [],
   "source": [
    "lines, groups = linesplit(\"\"\"\n",
    "--- scanner 0 ---\n",
    "404,-588,-901\n",
    "528,-643,409\n",
    "-838,591,734\n",
    "390,-675,-793\n",
    "-537,-823,-458\n",
    "-485,-357,347\n",
    "-345,-311,381\n",
    "-661,-816,-575\n",
    "-876,649,763\n",
    "-618,-824,-621\n",
    "553,345,-567\n",
    "474,580,667\n",
    "-447,-329,318\n",
    "-584,868,-557\n",
    "544,-627,-890\n",
    "564,392,-477\n",
    "455,729,728\n",
    "-892,524,684\n",
    "-689,845,-530\n",
    "423,-701,434\n",
    "7,-33,-71\n",
    "630,319,-379\n",
    "443,580,662\n",
    "-789,900,-551\n",
    "459,-707,401\n",
    "\n",
    "--- scanner 1 ---\n",
    "686,422,578\n",
    "605,423,415\n",
    "515,917,-361\n",
    "-336,658,858\n",
    "95,138,22\n",
    "-476,619,847\n",
    "-340,-569,-846\n",
    "567,-361,727\n",
    "-460,603,-452\n",
    "669,-402,600\n",
    "729,430,532\n",
    "-500,-761,534\n",
    "-322,571,750\n",
    "-466,-666,-811\n",
    "-429,-592,574\n",
    "-355,545,-477\n",
    "703,-491,-529\n",
    "-328,-685,520\n",
    "413,935,-424\n",
    "-391,539,-444\n",
    "586,-435,557\n",
    "-364,-763,-893\n",
    "807,-499,-711\n",
    "755,-354,-619\n",
    "553,889,-390\n",
    "\n",
    "--- scanner 2 ---\n",
    "649,640,665\n",
    "682,-795,504\n",
    "-784,533,-524\n",
    "-644,584,-595\n",
    "-588,-843,648\n",
    "-30,6,44\n",
    "-674,560,763\n",
    "500,723,-460\n",
    "609,671,-379\n",
    "-555,-800,653\n",
    "-675,-892,-343\n",
    "697,-426,-610\n",
    "578,704,681\n",
    "493,664,-388\n",
    "-671,-858,530\n",
    "-667,343,800\n",
    "571,-461,-707\n",
    "-138,-166,112\n",
    "-889,563,-600\n",
    "646,-828,498\n",
    "640,759,510\n",
    "-630,509,768\n",
    "-681,-892,-333\n",
    "673,-379,-804\n",
    "-742,-814,-386\n",
    "577,-820,562\n",
    "\n",
    "--- scanner 3 ---\n",
    "-589,542,597\n",
    "605,-692,669\n",
    "-500,565,-823\n",
    "-660,373,557\n",
    "-458,-679,-417\n",
    "-488,449,543\n",
    "-626,468,-788\n",
    "338,-750,-386\n",
    "528,-832,-391\n",
    "562,-778,733\n",
    "-938,-730,414\n",
    "543,643,-506\n",
    "-524,371,-870\n",
    "407,773,750\n",
    "-104,29,83\n",
    "378,-903,-323\n",
    "-778,-728,485\n",
    "426,699,580\n",
    "-438,-605,-362\n",
    "-469,-447,-387\n",
    "509,732,623\n",
    "647,635,-688\n",
    "-868,-804,481\n",
    "614,-800,639\n",
    "595,780,-596\n",
    "\n",
    "--- scanner 4 ---\n",
    "727,592,562\n",
    "-293,-554,779\n",
    "441,611,-461\n",
    "-714,465,-776\n",
    "-743,427,-804\n",
    "-660,-479,-426\n",
    "832,-632,460\n",
    "927,-485,-438\n",
    "408,393,-506\n",
    "466,436,-512\n",
    "110,16,151\n",
    "-258,-428,682\n",
    "-393,719,612\n",
    "-211,-452,876\n",
    "808,-476,-593\n",
    "-575,615,604\n",
    "-485,667,467\n",
    "-680,325,-822\n",
    "-627,-443,-432\n",
    "872,-547,-609\n",
    "833,512,582\n",
    "807,604,487\n",
    "839,-516,451\n",
    "891,-625,532\n",
    "-652,-548,-490\n",
    "30,-46,-14\n",
    "\"\"\".strip())"
   ]
  },
  {
   "cell_type": "code",
   "execution_count": 84,
   "metadata": {},
   "outputs": [
    {
     "name": "stdout",
     "output_type": "stream",
     "text": [
      "1084 lines\n",
      "39 groups\n",
      ">>>\n",
      "--- scanner 0 ---\n",
      "518,548,922\n",
      "-463,418,-234\n",
      "...\n"
     ]
    }
   ],
   "source": [
    "lines, groups = linesplit(raw_input, verbose=True)"
   ]
  },
  {
   "cell_type": "code",
   "execution_count": 85,
   "metadata": {},
   "outputs": [],
   "source": [
    "beacon_sets = []\n",
    "\n",
    "for group in groups:\n",
    "  b = []\n",
    "  for line in group[1:]:\n",
    "    m = vectorize(int)(re.findall(r'\\-?\\d+', line))\n",
    "    b.append(m)\n",
    "  beacon_sets.append(array(b))"
   ]
  },
  {
   "cell_type": "code",
   "execution_count": 40,
   "metadata": {},
   "outputs": [
    {
     "name": "stderr",
     "output_type": "stream",
     "text": [
      "<timed exec>:3: TqdmDeprecationWarning: This function will be removed in tqdm==5.0.0\n",
      "Please use `tqdm.notebook.tqdm` instead of `tqdm.tqdm_notebook`\n"
     ]
    },
    {
     "data": {
      "application/vnd.jupyter.widget-view+json": {
       "model_id": "4d5dc1f52fa64c71942a04b78b88cc5b",
       "version_major": 2,
       "version_minor": 0
      },
      "text/plain": [
       "HBox(children=(HTML(value=''), FloatProgress(value=0.0, max=1.0), HTML(value='')))"
      ]
     },
     "metadata": {},
     "output_type": "display_data"
    },
    {
     "name": "stdout",
     "output_type": "stream",
     "text": [
      "12\n",
      "\n",
      "CPU times: user 1.35 s, sys: 14.6 ms, total: 1.37 s\n",
      "Wall time: 1.39 s\n"
     ]
    }
   ],
   "source": [
    "%%time\n",
    "\n",
    "set1 = beacon_sets[0]\n",
    "\n",
    "for set2 in tqdm(beacon_sets[6:7]):\n",
    "  # set2 = beacon_sets[1]\n",
    "\n",
    "  res = []\n",
    "\n",
    "  set1set = {tuple(i) for i in set1}\n",
    "  \n",
    "  x = zeros_like(set2)\n",
    "\n",
    "  for signs in itertools.product([-1, 1], repeat=3):\n",
    "    for perm in itertools.permutations(arange(3)):\n",
    "      for i, j, sign in zip(range(3), perm, signs):\n",
    "        x[:, i] = sign * set2[:, j]\n",
    "\n",
    "      for i1 in range(len(set1)):\n",
    "        for i2 in range(len(set2)):\n",
    "          delta = set1[i1] - x[i2]\n",
    "          y = x + delta\n",
    "\n",
    "          c = 0\n",
    "          for i in y:\n",
    "            if tuple(i) in set1set:\n",
    "              c += 1\n",
    "          res.append(c)\n",
    "  print(max(res))"
   ]
  },
  {
   "cell_type": "code",
   "execution_count": null,
   "metadata": {},
   "outputs": [],
   "source": [
    "correct_sets = beacon_sets[0:1]\n",
    "unassigned_sets = beacon_sets[1:]"
   ]
  },
  {
   "cell_type": "code",
   "execution_count": 45,
   "metadata": {},
   "outputs": [
    {
     "name": "stdout",
     "output_type": "stream",
     "text": [
      "found 12: 5 + 0 | 29 10\n",
      "found 12: 5 + 5 | 30 9\n",
      "found 12: 7 + 2 | 31 8\n"
     ]
    },
    {
     "ename": "KeyboardInterrupt",
     "evalue": "",
     "output_type": "error",
     "traceback": [
      "\u001b[0;31m---------------------------------------------------------------------------\u001b[0m",
      "\u001b[0;31mKeyboardInterrupt\u001b[0m                         Traceback (most recent call last)",
      "\u001b[0;32m<timed exec>\u001b[0m in \u001b[0;36m<module>\u001b[0;34m\u001b[0m\n",
      "\u001b[0;31mKeyboardInterrupt\u001b[0m: "
     ]
    }
   ],
   "source": [
    "%%time\n",
    "\n",
    "# correct_sets = beacon_sets[0:1]\n",
    "# unassigned_sets = beacon_sets[1:]\n",
    "\n",
    "while len(unassigned_sets) > 0:\n",
    "  for (set1i, set1), (set2i, set2) in itertools.product(\n",
    "    list(enumerate(correct_sets))[5:15], \n",
    "    enumerate(unassigned_sets)):\n",
    "    best_col = 0\n",
    "    best_y = None\n",
    "\n",
    "    set1set = {tuple(i) for i in set1}\n",
    "\n",
    "    x = zeros_like(set2)\n",
    "\n",
    "    for signs in itertools.product([-1, 1], repeat=3):\n",
    "      for perm in itertools.permutations(arange(3)):\n",
    "        for i, j, sign in zip(range(3), perm, signs):\n",
    "          x[:, i] = sign * set2[:, j]\n",
    "\n",
    "        for i1 in range(len(set1)):\n",
    "          for i2 in range(len(set2)):\n",
    "            delta = set1[i1] - x[i2]\n",
    "            y = x + delta\n",
    "\n",
    "            c = 0\n",
    "            for i in y:\n",
    "              if tuple(i) in set1set:\n",
    "                c += 1\n",
    "            if c > best_col:\n",
    "              best_col = c\n",
    "              best_y = y\n",
    "    \n",
    "    if best_col >= 12:\n",
    "      print(f'found {best_col}: {set1i} + {set2i} | {len(correct_sets)} {len(unassigned_sets)}')\n",
    "      correct_sets.append(best_y)\n",
    "      unassigned_sets.pop(set2i)\n",
    "      break"
   ]
  },
  {
   "cell_type": "code",
   "execution_count": 50,
   "metadata": {},
   "outputs": [
    {
     "name": "stdout",
     "output_type": "stream",
     "text": [
      "[((1271, 96, 460), 1)]\n",
      "[((1271, 86, 470), 1)]\n",
      "[((66, 1301, 460), 1)]\n",
      "[((66, 86, 1675), 1)]\n",
      "[((390, -305, 622), 2)]\n",
      "[((56, 96, 1675), 1)]\n",
      "[((1271, 96, 1384), 1)]\n",
      "[((1271, 86, 1374), 1)]\n",
      "[((66, 1301, 1384), 1)]\n",
      "[((66, 86, 169), 1)]\n",
      "[((56, 1301, 1374), 1)]\n",
      "[((56, 96, 169), 1)]\n",
      "[((1271, 1000, 460), 1)]\n",
      "[((1271, 1010, 470), 1)]\n",
      "[((66, -205, 460), 1)]\n",
      "[((66, 1010, 1675), 1)]\n",
      "[((-683, 141, 622), 2)]\n",
      "[((56, 1000, 1675), 1)]\n",
      "[((1271, 1000, 1384), 1)]\n",
      "[((1271, 1010, 1374), 1)]\n",
      "[((66, -205, 1384), 1)]\n",
      "[((66, 1010, 169), 1)]\n",
      "[((56, -205, 1374), 1)]\n",
      "[((56, 1000, 169), 1)]\n",
      "[((-235, 96, 460), 1)]\n",
      "[((-235, 86, 470), 1)]\n",
      "[((970, 1301, 460), 1)]\n",
      "[((970, 86, 1675), 1)]\n",
      "[((980, 1301, 470), 1)]\n",
      "[((980, 96, 1675), 1)]\n",
      "[((-235, 96, 1384), 1)]\n",
      "[((-235, 86, 1374), 1)]\n",
      "[((970, 1301, 1384), 1)]\n",
      "[((970, 86, 169), 1)]\n",
      "[((-18, 877, -1155), 2)]\n",
      "[((980, 96, 169), 1)]\n",
      "[((-235, 1000, 460), 1)]\n",
      "[((-235, 1010, 470), 1)]\n",
      "[((970, -205, 460), 1)]\n",
      "[((970, 1010, 1675), 1)]\n",
      "[((980, -205, 470), 1)]\n",
      "[((980, 1000, 1675), 1)]\n",
      "[((-235, 1000, 1384), 1)]\n",
      "[((-235, 1010, 1374), 1)]\n",
      "[((970, -205, 1384), 1)]\n",
      "[((970, 1010, 169), 1)]\n",
      "[((-18, 141, -1155), 12)]\n",
      "[((980, 1000, 169), 1)]\n",
      "CPU times: user 109 ms, sys: 6.35 ms, total: 115 ms\n",
      "Wall time: 114 ms\n"
     ]
    }
   ],
   "source": [
    "%%time\n",
    "\n",
    "# correct_sets = beacon_sets[0:1]\n",
    "# unassigned_sets = beacon_sets[1:]\n",
    "\n",
    "set1 = beacon_sets[0]\n",
    "set2 = beacon_sets[6]\n",
    "best_col = 0\n",
    "best_y = None\n",
    "\n",
    "set1set = {tuple(i) for i in set1}\n",
    "\n",
    "x = zeros_like(set2)\n",
    "\n",
    "for signs in itertools.product([-1, 1], repeat=3):\n",
    "  for perm in itertools.permutations(arange(3)):\n",
    "    for i, j, sign in zip(range(3), perm, signs):\n",
    "      x[:, i] = sign * set2[:, j]\n",
    "\n",
    "    a = []\n",
    "    for i1 in range(len(set1)):\n",
    "      for i2 in range(len(set2)):\n",
    "        delta = set1[i1] - x[i2]\n",
    "        a.append(tuple(delta))\n",
    "    c = collections.Counter(a)\n",
    "    print(c.most_common(1))\n",
    "#         y = x + delta\n",
    "\n",
    "#         c = 0\n",
    "#         for i in y:\n",
    "#           if tuple(i) in set1set:\n",
    "#             c += 1\n",
    "#         if c > best_col:\n",
    "#           best_col = c\n",
    "#           best_y = y\n",
    "\n",
    "# if best_col >= 12:\n",
    "#   print(f'found {best_col}: {set1i} + {set2i} | {len(correct_sets)} {len(unassigned_sets)}')\n",
    "#   correct_sets.append(best_y)\n",
    "#   unassigned_sets.pop(set2i)\n",
    "#   break"
   ]
  },
  {
   "cell_type": "code",
   "execution_count": 53,
   "metadata": {},
   "outputs": [
    {
     "name": "stdout",
     "output_type": "stream",
     "text": [
      "found 12: 2 + 5 | 32 7\n",
      "found 12: 3 + 5 | 33 6\n",
      "found 12: 4 + 2 | 34 5\n",
      "found 12: 29 + 1 | 35 4\n",
      "found 12: 31 + 2 | 36 3\n",
      "found 12: 32 + 0 | 37 2\n",
      "found 12: 32 + 0 | 38 1\n"
     ]
    }
   ],
   "source": [
    "# %%time\n",
    "\n",
    "# correct_sets = beacon_sets[0:1]\n",
    "# unassigned_sets = beacon_sets[1:]\n",
    "\n",
    "while len(unassigned_sets) > 0:\n",
    "  for (set1i, set1), (set2i, set2) in itertools.product(\n",
    "    list(enumerate(correct_sets))[:], \n",
    "    enumerate(unassigned_sets)):\n",
    "    best_col = 0\n",
    "    best_y = None\n",
    "\n",
    "    set1set = {tuple(i) for i in set1}\n",
    "\n",
    "    x = zeros_like(set2)\n",
    "\n",
    "    for signs in itertools.product([-1, 1], repeat=3):\n",
    "      for perm in itertools.permutations(arange(3)):\n",
    "        for i, j, sign in zip(range(3), perm, signs):\n",
    "          x[:, i] = sign * set2[:, j]\n",
    "\n",
    "          a = []\n",
    "          for i1 in range(len(set1)):\n",
    "            for i2 in range(len(set2)):\n",
    "              delta = set1[i1] - x[i2]\n",
    "              a.append(tuple(delta))\n",
    "          delta, c = collections.Counter(a).most_common(1)[0]\n",
    "          if c < 12:\n",
    "            continue\n",
    "          \n",
    "          y = x + delta\n",
    "\n",
    "          c = 0\n",
    "          for i in y:\n",
    "            if tuple(i) in set1set:\n",
    "              c += 1\n",
    "          if c > best_col:\n",
    "            best_col = c\n",
    "            best_y = y\n",
    "    \n",
    "    if best_col >= 12:\n",
    "      print(f'found {best_col}: {set1i} + {set2i} | {len(correct_sets)} {len(unassigned_sets)}')\n",
    "      correct_sets.append(best_y)\n",
    "      unassigned_sets.pop(set2i)\n",
    "      break"
   ]
  },
  {
   "cell_type": "code",
   "execution_count": 58,
   "metadata": {},
   "outputs": [],
   "source": [
    "everything = zeros((0, 3), dtype=int)\n",
    "for i in correct_sets:\n",
    "  everything = r_[everything, i]"
   ]
  },
  {
   "cell_type": "code",
   "execution_count": 60,
   "metadata": {},
   "outputs": [
    {
     "data": {
      "text/plain": [
       "(1007, 3)"
      ]
     },
     "execution_count": 60,
     "metadata": {},
     "output_type": "execute_result"
    }
   ],
   "source": [
    "everything.shape"
   ]
  },
  {
   "cell_type": "code",
   "execution_count": 63,
   "metadata": {},
   "outputs": [
    {
     "data": {
      "text/plain": [
       "(479, 3)"
      ]
     },
     "execution_count": 63,
     "metadata": {},
     "output_type": "execute_result"
    }
   ],
   "source": [
    "unique(everything, axis=0).shape"
   ]
  },
  {
   "cell_type": "code",
   "execution_count": 64,
   "metadata": {},
   "outputs": [
    {
     "data": {
      "text/plain": [
       "True"
      ]
     },
     "execution_count": 64,
     "metadata": {},
     "output_type": "execute_result"
    }
   ],
   "source": [
    "submit1(_[0])"
   ]
  },
  {
   "cell_type": "code",
   "execution_count": 65,
   "metadata": {},
   "outputs": [],
   "source": [
    "b1 = correct_sets"
   ]
  },
  {
   "cell_type": "code",
   "execution_count": 86,
   "metadata": {},
   "outputs": [
    {
     "name": "stdout",
     "output_type": "stream",
     "text": [
      "found 12: 0 + 5 | 1 38\n",
      "[  -18   141 -1155]\n",
      "found 12: 1 + 28 | 2 37\n",
      "[ 1145    24 -1117]\n",
      "found 12: 1 + 24 | 3 36\n",
      "[-1153    -7 -1203]\n",
      "found 12: 1 + 19 | 4 35\n",
      "[   81     7 -2326]\n",
      "found 12: 2 + 18 | 5 34\n",
      "[ 1145    56 -2313]\n",
      "found 12: 2 + 13 | 6 33\n",
      "[ 2427    87 -1070]\n",
      "found 12: 2 + 12 | 7 32\n",
      "[ 1250  1314 -1052]\n",
      "found 12: 3 + 26 | 8 31\n",
      "[-2350    13 -1042]\n",
      "found 12: 4 + 20 | 9 30\n",
      "[   13 -1039 -2309]\n",
      "found 12: 4 + 5 | 10 29\n",
      "[    7  1338 -2337]\n",
      "found 12: 5 + 24 | 11 28\n",
      "[ 2394   -17 -2349]\n",
      "found 12: 6 + 17 | 12 27\n",
      "[2348   -2  131]\n",
      "found 12: 6 + 13 | 13 26\n",
      "[ 3707    53 -1210]\n",
      "found 12: 6 + 7 | 14 25\n",
      "[ 2360 -1078 -1085]\n",
      "found 12: 9 + 10 | 15 24\n",
      "[-1142 -1165 -2379]\n",
      "found 12: 9 + 3 | 16 23\n",
      "[   -1 -2358 -2359]\n",
      "found 12: 10 + 11 | 17 22\n",
      "[   10  2434 -2398]\n",
      "found 12: 10 + 0 | 18 21\n",
      "[  132  1356 -3524]\n",
      "found 12: 11 + 18 | 19 20\n",
      "[ 3649    55 -2266]\n",
      "found 12: 11 + 5 | 20 19\n",
      "[ 2487  1333 -2369]\n",
      "found 12: 11 + 1 | 21 18\n",
      "[ 2453 -1116 -2255]\n",
      "found 12: 13 + 5 | 22 17\n",
      "[ 3572 -1163 -1032]\n",
      "found 12: 14 + 14 | 23 16\n",
      "[ 2409 -2260 -1156]\n",
      "found 12: 17 + 3 | 24 15\n",
      "[  136  2391 -3592]\n",
      "found 12: 19 + 2 | 25 14\n",
      "[ 4848   149 -2297]\n",
      "found 12: 20 + 5 | 26 13\n",
      "[ 2517  1315 -3437]\n",
      "found 12: 25 + 9 | 27 12\n",
      "[ 4889 -1109 -2256]\n",
      "found 12: 27 + 6 | 28 11\n",
      "[ 4865 -2233 -2389]\n",
      "found 12: 28 + 8 | 29 10\n",
      "[ 3704 -2335 -2423]\n",
      "found 12: 28 + 2 | 30 9\n",
      "[ 5959 -2355 -2423]\n",
      "found 12: 29 + 7 | 31 8\n",
      "[ 3708 -3524 -2317]\n",
      "found 12: 29 + 3 | 32 7\n",
      "[ 3725 -2249 -3543]\n",
      "found 12: 31 + 1 | 33 6\n",
      "[ 3660 -4772 -2280]\n",
      "found 12: 32 + 3 | 34 5\n",
      "[ 3694 -1148 -3517]\n",
      "found 12: 32 + 1 | 35 4\n",
      "[ 2420 -2243 -3456]\n",
      "found 12: 32 + 0 | 36 3\n",
      "[ 3604 -2420 -4688]\n",
      "found 12: 35 + 1 | 37 2\n",
      "[ 2531 -3467 -3556]\n",
      "found 12: 36 + 0 | 38 1\n",
      "[ 3586 -3566 -4640]\n"
     ]
    }
   ],
   "source": [
    "# %%time\n",
    "\n",
    "correct_sets = beacon_sets[0:1]\n",
    "unassigned_sets = beacon_sets[1:]\n",
    "locs = zeros((1, 3), dtype=int)\n",
    "\n",
    "for set1i in range(len(beacon_sets)):\n",
    "  set1 = correct_sets[set1i]\n",
    "  for set2i, set2 in list(enumerate(unassigned_sets))[::-1]:\n",
    "    best_col = 0\n",
    "    best_y = None\n",
    "    best_delta = None\n",
    "\n",
    "    set1set = {tuple(i) for i in set1}\n",
    "\n",
    "    x = zeros_like(set2)\n",
    "\n",
    "    for signs in itertools.product([-1, 1], repeat=3):\n",
    "      for perm in itertools.permutations(arange(3)):\n",
    "        for i, j, sign in zip(range(3), perm, signs):\n",
    "          x[:, i] = sign * set2[:, j]\n",
    "\n",
    "          a = []\n",
    "          for i1 in range(len(set1)):\n",
    "            for i2 in range(len(set2)):\n",
    "              delta = set1[i1] - x[i2]\n",
    "              a.append(tuple(delta))\n",
    "          delta, c = collections.Counter(a).most_common(1)[0]\n",
    "          if c < 12:\n",
    "            continue\n",
    "\n",
    "          y = x + delta\n",
    "\n",
    "          c = 0\n",
    "          for i in y:\n",
    "            if tuple(i) in set1set:\n",
    "              c += 1\n",
    "          if c > best_col:\n",
    "            best_col = c\n",
    "            best_y = y\n",
    "            best_delta = delta\n",
    "\n",
    "    if best_col >= 12:\n",
    "      print(f'found {best_col}: {set1i} + {set2i} | {len(correct_sets)} {len(unassigned_sets)}')\n",
    "      correct_sets.append(best_y)\n",
    "      unassigned_sets.pop(set2i)\n",
    "#       locs = r_[locs, [locs[set1i] + best_delta]]\n",
    "      locs = r_[locs, [best_delta]]\n",
    "      print(locs[-1])"
   ]
  },
  {
   "cell_type": "code",
   "execution_count": 87,
   "metadata": {},
   "outputs": [
    {
     "data": {
      "text/plain": [
       "13113"
      ]
     },
     "execution_count": 87,
     "metadata": {},
     "output_type": "execute_result"
    }
   ],
   "source": [
    "a = []\n",
    "for i, j in itertools.product(locs, repeat=2):\n",
    "#   print(i - j)\n",
    "  a.append(sum(abs(i - j)))\n",
    "max(a)"
   ]
  },
  {
   "cell_type": "code",
   "execution_count": 77,
   "metadata": {},
   "outputs": [
    {
     "data": {
      "text/plain": [
       "82744"
      ]
     },
     "execution_count": 77,
     "metadata": {},
     "output_type": "execute_result"
    }
   ],
   "source": [
    "a = []\n",
    "for i, j in itertools.product(locs, repeat=2):\n",
    "#   print(i - j)\n",
    "  a.append(sum(abs(i - j)))\n",
    "max(a)"
   ]
  },
  {
   "cell_type": "code",
   "execution_count": 88,
   "metadata": {},
   "outputs": [
    {
     "data": {
      "text/plain": [
       "True"
      ]
     },
     "execution_count": 88,
     "metadata": {},
     "output_type": "execute_result"
    }
   ],
   "source": [
    "submit2(_)"
   ]
  },
  {
   "cell_type": "code",
   "execution_count": null,
   "metadata": {},
   "outputs": [],
   "source": []
  }
 ],
 "metadata": {
  "kernelspec": {
   "display_name": "Python 3",
   "language": "python",
   "name": "python3"
  },
  "language_info": {
   "codemirror_mode": {
    "name": "ipython",
    "version": 3
   },
   "file_extension": ".py",
   "mimetype": "text/x-python",
   "name": "python",
   "nbconvert_exporter": "python",
   "pygments_lexer": "ipython3",
   "version": "3.9.0"
  }
 },
 "nbformat": 4,
 "nbformat_minor": 4
}
