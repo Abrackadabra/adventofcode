{
 "cells": [
  {
   "cell_type": "code",
   "execution_count": 1,
   "metadata": {},
   "outputs": [
    {
     "name": "stdout",
     "output_type": "stream",
     "text": [
      "Populating the interactive namespace from numpy and matplotlib\n"
     ]
    }
   ],
   "source": [
    "%pylab inline\n",
    "\n",
    "from tqdm import tqdm_notebook as tqdm\n",
    "import requests\n",
    "import pickle\n",
    "import re\n",
    "import itertools\n",
    "import functools\n",
    "import collections\n",
    "import string\n",
    "import time\n",
    "from bs4 import BeautifulSoup\n",
    "\n",
    "from adventlib import *\n",
    "\n",
    "YEAR = 2021\n",
    "DAY = int('06')\n",
    "\n",
    "submit1, submit2 = generate_submits(YEAR, DAY)\n",
    "\n",
    "while True:\n",
    "    try:\n",
    "        raw_input = get_input(YEAR, DAY)\n",
    "        break\n",
    "    except Exception as e:\n",
    "        print(e)\n",
    "        time.sleep(1)"
   ]
  },
  {
   "cell_type": "code",
   "execution_count": 54,
   "metadata": {},
   "outputs": [],
   "source": [
    "lines, groups = linesplit(\"\"\"\n",
    "3,4,3,1,2\n",
    "\"\"\".strip())"
   ]
  },
  {
   "cell_type": "code",
   "execution_count": 62,
   "metadata": {},
   "outputs": [
    {
     "name": "stdout",
     "output_type": "stream",
     "text": [
      "1 lines\n",
      "1 groups\n",
      ">>>\n",
      "2,5,2,3,5,3,5,5,4,2,1,5,5,5,5,1,2,5,1,1,1,1,1,5,5,1,5,4,3,3,1,2,4,2,4,5,4,5,5,5,4,4,1,3,5,1,2,2,4,2,...\n"
     ]
    }
   ],
   "source": [
    "lines, groups = linesplit(raw_input, verbose=True)"
   ]
  },
  {
   "cell_type": "code",
   "execution_count": null,
   "metadata": {},
   "outputs": [],
   "source": []
  },
  {
   "cell_type": "code",
   "execution_count": 46,
   "metadata": {},
   "outputs": [],
   "source": [
    "a = amap(int, lines[0].split(','))\n",
    "\n",
    "b = ones(len(a), dtype=int) * 6\n",
    "\n",
    "def f(a, b):\n",
    "    m1 = (a - 1) != -1\n",
    "    m2 = (a - 1) == -1\n",
    "    \n",
    "#     bb = r_[b, b[m2] + 2]\n",
    "#     aa = r_[a - 1, b[m2] + 2]\n",
    "#     aa[aa == -1] = bb[aa == -1]\n",
    "\n",
    "\n",
    "    bb = r_[b, b[m2]]\n",
    "    aa = r_[a - 1, b[m2] + 2]\n",
    "    aa[aa == -1] = bb[aa == -1]\n",
    "    \n",
    "    return aa, bb"
   ]
  },
  {
   "cell_type": "code",
   "execution_count": 47,
   "metadata": {},
   "outputs": [],
   "source": [
    "aa, bb = a, b\n",
    "\n",
    "\n",
    "\n",
    "for i in range(80):\n",
    "    aa, bb = f(aa, bb)\n",
    "#     print(i, aa, bb)"
   ]
  },
  {
   "cell_type": "code",
   "execution_count": 48,
   "metadata": {},
   "outputs": [
    {
     "data": {
      "text/plain": [
       "350605"
      ]
     },
     "execution_count": 48,
     "metadata": {},
     "output_type": "execute_result"
    }
   ],
   "source": [
    "len(aa)"
   ]
  },
  {
   "cell_type": "code",
   "execution_count": 49,
   "metadata": {},
   "outputs": [
    {
     "data": {
      "text/plain": [
       "True"
      ]
     },
     "execution_count": 49,
     "metadata": {},
     "output_type": "execute_result"
    }
   ],
   "source": [
    "submit1(_)"
   ]
  },
  {
   "cell_type": "code",
   "execution_count": null,
   "metadata": {},
   "outputs": [],
   "source": [
    "f"
   ]
  },
  {
   "cell_type": "code",
   "execution_count": null,
   "metadata": {},
   "outputs": [],
   "source": []
  },
  {
   "cell_type": "code",
   "execution_count": 63,
   "metadata": {},
   "outputs": [
    {
     "data": {
      "text/plain": [
       "array([2, 5, 2, 3, 5, 3, 5, 5, 4, 2, 1, 5, 5, 5, 5, 1, 2, 5, 1, 1, 1, 1,\n",
       "       1, 5, 5, 1, 5, 4, 3, 3, 1, 2, 4, 2, 4, 5, 4, 5, 5, 5, 4, 4, 1, 3,\n",
       "       5, 1, 2, 2, 4, 2, 1, 1, 2, 1, 1, 4, 2, 1, 2, 1, 2, 1, 3, 3, 3, 5,\n",
       "       1, 1, 1, 3, 4, 4, 1, 3, 1, 5, 5, 1, 5, 3, 1, 5, 2, 2, 2, 2, 1, 1,\n",
       "       1, 1, 3, 3, 3, 1, 4, 3, 5, 3, 5, 5, 1, 4, 4, 2, 5, 1, 5, 5, 4, 5,\n",
       "       5, 1, 5, 4, 4, 1, 3, 4, 1, 2, 3, 2, 5, 1, 3, 1, 5, 5, 2, 2, 2, 1,\n",
       "       3, 3, 1, 1, 1, 4, 2, 5, 1, 2, 4, 4, 2, 5, 1, 1, 3, 5, 4, 2, 1, 2,\n",
       "       5, 4, 1, 5, 5, 2, 4, 3, 5, 2, 4, 1, 4, 3, 5, 5, 3, 1, 5, 1, 3, 5,\n",
       "       1, 1, 1, 4, 2, 4, 4, 1, 1, 1, 1, 1, 3, 4, 5, 2, 3, 4, 5, 1, 4, 1,\n",
       "       2, 3, 4, 2, 1, 4, 4, 2, 1, 5, 3, 4, 1, 1, 2, 2, 1, 5, 5, 2, 5, 1,\n",
       "       4, 4, 2, 1, 3, 1, 5, 5, 1, 4, 2, 2, 1, 1, 1, 5, 1, 3, 4, 1, 3, 3,\n",
       "       5, 3, 5, 5, 3, 1, 4, 4, 1, 1, 1, 3, 3, 2, 3, 1, 1, 1, 5, 4, 2, 5,\n",
       "       3, 5, 4, 4, 5, 2, 3, 2, 5, 2, 1, 1, 1, 2, 1, 5, 3, 5, 1, 4, 1, 2,\n",
       "       1, 5, 3, 5, 2, 1, 3, 1, 2, 4, 5, 3, 4, 3])"
      ]
     },
     "execution_count": 63,
     "metadata": {},
     "output_type": "execute_result"
    }
   ],
   "source": [
    "a = amap(int, lines[0].split(','))\n",
    "a"
   ]
  },
  {
   "cell_type": "code",
   "execution_count": 64,
   "metadata": {},
   "outputs": [
    {
     "data": {
      "text/plain": [
       "array([ 0, 89, 50, 46, 48, 67,  0,  0,  0,  0])"
      ]
     },
     "execution_count": 64,
     "metadata": {},
     "output_type": "execute_result"
    }
   ],
   "source": [
    "c = array([sum(a == i) for i in range(10)])\n",
    "c"
   ]
  },
  {
   "cell_type": "code",
   "execution_count": 65,
   "metadata": {},
   "outputs": [],
   "source": [
    "def next(c):\n",
    "    cc = zeros_like(c)\n",
    "    cc[0:-1] += c[1:]\n",
    "    cc[6] += c[0]\n",
    "    cc[8] += c[0]\n",
    "    return cc"
   ]
  },
  {
   "cell_type": "code",
   "execution_count": 66,
   "metadata": {},
   "outputs": [
    {
     "data": {
      "text/plain": [
       "1592778185024"
      ]
     },
     "execution_count": 66,
     "metadata": {},
     "output_type": "execute_result"
    }
   ],
   "source": [
    "x = c\n",
    "for i in range(256):\n",
    "    x = next(x)\n",
    "sum(x)"
   ]
  },
  {
   "cell_type": "code",
   "execution_count": null,
   "metadata": {},
   "outputs": [],
   "source": [
    "submit2(_)"
   ]
  }
 ],
 "metadata": {
  "kernelspec": {
   "display_name": "Python 3",
   "language": "python",
   "name": "python3"
  },
  "language_info": {
   "codemirror_mode": {
    "name": "ipython",
    "version": 3
   },
   "file_extension": ".py",
   "mimetype": "text/x-python",
   "name": "python",
   "nbconvert_exporter": "python",
   "pygments_lexer": "ipython3",
   "version": "3.9.0"
  }
 },
 "nbformat": 4,
 "nbformat_minor": 4
}
