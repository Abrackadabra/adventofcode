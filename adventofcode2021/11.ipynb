{
 "cells": [
  {
   "cell_type": "code",
   "execution_count": 1,
   "metadata": {},
   "outputs": [
    {
     "name": "stdout",
     "output_type": "stream",
     "text": [
      "Populating the interactive namespace from numpy and matplotlib\n"
     ]
    }
   ],
   "source": [
    "%pylab inline\n",
    "\n",
    "from tqdm import tqdm_notebook as tqdm\n",
    "import requests\n",
    "import pickle\n",
    "import re\n",
    "import itertools\n",
    "import functools\n",
    "import collections\n",
    "import string\n",
    "import time\n",
    "from bs4 import BeautifulSoup\n",
    "\n",
    "from adventlib import *\n",
    "\n",
    "YEAR = 2021\n",
    "DAY = int('11')\n",
    "\n",
    "submit1, submit2 = generate_submits(YEAR, DAY)\n",
    "\n",
    "while True:\n",
    "    try:\n",
    "        raw_input = get_input(YEAR, DAY)\n",
    "        break\n",
    "    except Exception as e:\n",
    "        print(e)\n",
    "        time.sleep(1)"
   ]
  },
  {
   "cell_type": "code",
   "execution_count": 24,
   "metadata": {},
   "outputs": [],
   "source": [
    "lines, groups = linesplit(\"\"\"\n",
    "5483143223\n",
    "2745854711\n",
    "5264556173\n",
    "6141336146\n",
    "6357385478\n",
    "4167524645\n",
    "2176841721\n",
    "6882881134\n",
    "4846848554\n",
    "5283751526\n",
    "\"\"\".strip())"
   ]
  },
  {
   "cell_type": "code",
   "execution_count": 29,
   "metadata": {},
   "outputs": [
    {
     "name": "stdout",
     "output_type": "stream",
     "text": [
      "10 lines\n",
      "1 groups\n",
      ">>>\n",
      "7777838353\n",
      "2217272478\n",
      "3355318645\n",
      "...\n"
     ]
    }
   ],
   "source": [
    "lines, groups = linesplit(raw_input, verbose=True)"
   ]
  },
  {
   "cell_type": "code",
   "execution_count": 30,
   "metadata": {},
   "outputs": [],
   "source": [
    "d = [\n",
    "    [0, 1],\n",
    "    [1, 1],\n",
    "    [1, 0],\n",
    "    [1, -1],\n",
    "    [0, -1],\n",
    "    [-1, -1],\n",
    "    [-1, 0],\n",
    "    [-1, 1],\n",
    "]"
   ]
  },
  {
   "cell_type": "code",
   "execution_count": 31,
   "metadata": {},
   "outputs": [],
   "source": [
    "a = vectorize(int)(lines_as_matrix(lines))\n",
    "n, m = a.shape"
   ]
  },
  {
   "cell_type": "code",
   "execution_count": 32,
   "metadata": {},
   "outputs": [
    {
     "data": {
      "text/plain": [
       "(array([[8, 8, 8, 8, 9, 4, 9, 4, 6, 4],\n",
       "        [3, 3, 2, 8, 3, 8, 3, 5, 8, 9],\n",
       "        [4, 4, 6, 6, 4, 2, 9, 7, 5, 6],\n",
       "        [3, 3, 5, 3, 7, 2, 9, 2, 2, 4],\n",
       "        [8, 2, 9, 3, 5, 7, 9, 7, 7, 7],\n",
       "        [6, 5, 5, 2, 7, 5, 2, 2, 2, 2],\n",
       "        [5, 8, 8, 4, 9, 7, 3, 4, 7, 5],\n",
       "        [6, 8, 2, 8, 2, 3, 6, 6, 3, 2],\n",
       "        [8, 6, 5, 3, 2, 3, 8, 8, 3, 2],\n",
       "        [5, 6, 8, 7, 7, 8, 9, 4, 5, 2]]),\n",
       " 0)"
      ]
     },
     "execution_count": 32,
     "metadata": {},
     "output_type": "execute_result"
    }
   ],
   "source": [
    "def step(a):\n",
    "    flashes = set()\n",
    "    b = array(a) + 1\n",
    "    while True:\n",
    "        xs, ys = where(b >= 10)\n",
    "        if len(xs) == 0:\n",
    "            break\n",
    "        b[xs, ys] = -1000\n",
    "        for x, y in zip(xs, ys):\n",
    "            if (x, y) in flashes:\n",
    "                continue\n",
    "            flashes.add((x, y))\n",
    "            for dd in d:\n",
    "                xx = x + dd[0]\n",
    "                yy = y + dd[1]\n",
    "                if 0 <= xx < n and 0 <= yy < m:\n",
    "                    b[xx, yy] += 1\n",
    "    b[b < 0] = 0\n",
    "    return b, len(flashes)\n",
    "    \n",
    "step(a)"
   ]
  },
  {
   "cell_type": "code",
   "execution_count": 33,
   "metadata": {},
   "outputs": [
    {
     "data": {
      "text/plain": [
       "1721"
      ]
     },
     "execution_count": 33,
     "metadata": {},
     "output_type": "execute_result"
    }
   ],
   "source": [
    "x = a\n",
    "c = 0\n",
    "for i in range(100):\n",
    "    x, cc = step(x)\n",
    "    c += cc\n",
    "c"
   ]
  },
  {
   "cell_type": "code",
   "execution_count": 34,
   "metadata": {},
   "outputs": [
    {
     "data": {
      "text/plain": [
       "True"
      ]
     },
     "execution_count": 34,
     "metadata": {},
     "output_type": "execute_result"
    }
   ],
   "source": [
    "submit1(_)"
   ]
  },
  {
   "cell_type": "code",
   "execution_count": 35,
   "metadata": {},
   "outputs": [
    {
     "name": "stdout",
     "output_type": "stream",
     "text": [
      "298\n"
     ]
    },
    {
     "data": {
      "text/plain": [
       "0"
      ]
     },
     "execution_count": 35,
     "metadata": {},
     "output_type": "execute_result"
    }
   ],
   "source": [
    "x = a\n",
    "c = 0\n",
    "for i in range(1000):\n",
    "    x, cc = step(x)\n",
    "    if cc == n * m:\n",
    "        print(i + 1)\n",
    "        break\n",
    "c"
   ]
  },
  {
   "cell_type": "code",
   "execution_count": 36,
   "metadata": {},
   "outputs": [
    {
     "data": {
      "text/plain": [
       "True"
      ]
     },
     "execution_count": 36,
     "metadata": {},
     "output_type": "execute_result"
    }
   ],
   "source": [
    "submit2(298)"
   ]
  }
 ],
 "metadata": {
  "kernelspec": {
   "display_name": "Python 3",
   "language": "python",
   "name": "python3"
  },
  "language_info": {
   "codemirror_mode": {
    "name": "ipython",
    "version": 3
   },
   "file_extension": ".py",
   "mimetype": "text/x-python",
   "name": "python",
   "nbconvert_exporter": "python",
   "pygments_lexer": "ipython3",
   "version": "3.9.0"
  }
 },
 "nbformat": 4,
 "nbformat_minor": 4
}
