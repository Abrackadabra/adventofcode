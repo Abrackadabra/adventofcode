{
 "cells": [
  {
   "cell_type": "code",
   "execution_count": 71,
   "metadata": {},
   "outputs": [
    {
     "name": "stdout",
     "output_type": "stream",
     "text": [
      "Populating the interactive namespace from numpy and matplotlib\n"
     ]
    }
   ],
   "source": [
    "%pylab inline\n",
    "\n",
    "from tqdm import tqdm_notebook as tqdm\n",
    "import requests\n",
    "import pickle\n",
    "import re\n",
    "import itertools\n",
    "import functools\n",
    "import collections\n",
    "import string\n",
    "import time\n",
    "from bs4 import BeautifulSoup\n",
    "from sortedcontainers import SortedList\n",
    "\n",
    "from adventlib import *\n",
    "\n",
    "YEAR = 2021\n",
    "DAY = int('15')\n",
    "\n",
    "submit1, submit2 = generate_submits(YEAR, DAY)\n",
    "\n",
    "while True:\n",
    "    try:\n",
    "        raw_input = get_input(YEAR, DAY)\n",
    "        break\n",
    "    except Exception as e:\n",
    "        print(e)\n",
    "        time.sleep(1)"
   ]
  },
  {
   "cell_type": "code",
   "execution_count": 17,
   "metadata": {},
   "outputs": [],
   "source": [
    "import heapq"
   ]
  },
  {
   "cell_type": "code",
   "execution_count": 32,
   "metadata": {},
   "outputs": [],
   "source": [
    "lines, groups = linesplit(\"\"\"\n",
    "1163751742\n",
    "1381373672\n",
    "2136511328\n",
    "3694931569\n",
    "7463417111\n",
    "1319128137\n",
    "1359912421\n",
    "3125421639\n",
    "1293138521\n",
    "2311944581\n",
    "\"\"\".strip())"
   ]
  },
  {
   "cell_type": "code",
   "execution_count": 73,
   "metadata": {},
   "outputs": [
    {
     "name": "stdout",
     "output_type": "stream",
     "text": [
      "100 lines\n",
      "1 groups\n",
      ">>>\n",
      "9937913613489579689887899839718659949144483893874749858366681232699911196851919824197391598696712368\n",
      "5253918396598241962985986992428814875993889428717557939529588827685169588381194992989482737895729941\n",
      "4729891993659869351699195978189948897799346577498659736999269171689999888159836937748681169667242592\n",
      "...\n"
     ]
    }
   ],
   "source": [
    "lines, groups = linesplit(raw_input, verbose=True)"
   ]
  },
  {
   "cell_type": "code",
   "execution_count": null,
   "metadata": {},
   "outputs": [],
   "source": []
  },
  {
   "cell_type": "code",
   "execution_count": 74,
   "metadata": {},
   "outputs": [
    {
     "data": {
      "text/plain": [
       "array([[9, 9, 3, ..., 3, 6, 8],\n",
       "       [5, 2, 5, ..., 9, 4, 1],\n",
       "       [4, 7, 2, ..., 5, 9, 2],\n",
       "       ...,\n",
       "       [6, 9, 9, ..., 3, 9, 2],\n",
       "       [7, 5, 9, ..., 6, 9, 9],\n",
       "       [6, 1, 9, ..., 9, 1, 9]])"
      ]
     },
     "execution_count": 74,
     "metadata": {},
     "output_type": "execute_result"
    }
   ],
   "source": [
    "a = lines_as_matrix(lines)\n",
    "a = vectorize(int)(a)\n",
    "a"
   ]
  },
  {
   "cell_type": "code",
   "execution_count": 75,
   "metadata": {},
   "outputs": [
    {
     "data": {
      "text/plain": [
       "(100, 100)"
      ]
     },
     "execution_count": 75,
     "metadata": {},
     "output_type": "execute_result"
    }
   ],
   "source": [
    "n, m = a.shape\n",
    "n, m"
   ]
  },
  {
   "cell_type": "code",
   "execution_count": 76,
   "metadata": {},
   "outputs": [],
   "source": [
    "d = [\n",
    "    [-1, 0],\n",
    "    [0, 1],\n",
    "    [1, 0],\n",
    "    [0, -1],\n",
    "]"
   ]
  },
  {
   "cell_type": "code",
   "execution_count": 77,
   "metadata": {},
   "outputs": [],
   "source": [
    "q = []\n",
    "heapq.heappush(q, (0, 0, 0))\n",
    "dp = zeros_like(a) + 1000000\n",
    "\n",
    "while q:\n",
    "    dist, i, j = heapq.heappop(q)\n",
    "    if dist > dp[i, j]:\n",
    "        continue\n",
    "\n",
    "    for dd in d:\n",
    "        ii = i + dd[0]\n",
    "        jj = j + dd[1]\n",
    "        if 0 <= ii < n and 0 <= jj < m:\n",
    "            ddist = dist + a[ii, jj]\n",
    "            if ddist < dp[ii, jj]:\n",
    "                dp[ii, jj] = ddist\n",
    "                heapq.heappush(q, (ddist, ii, jj))"
   ]
  },
  {
   "cell_type": "code",
   "execution_count": 78,
   "metadata": {},
   "outputs": [
    {
     "data": {
      "text/plain": [
       "array([[ 14,   9,  12, ..., 513, 519, 527],\n",
       "       [  5,   7,  12, ..., 521, 523, 524],\n",
       "       [  9,  14,  14, ..., 512, 521, 523],\n",
       "       ...,\n",
       "       [476, 471, 480, ..., 714, 723, 725],\n",
       "       [483, 476, 485, ..., 720, 729, 734],\n",
       "       [483, 477, 486, ..., 729, 730, 739]])"
      ]
     },
     "execution_count": 78,
     "metadata": {},
     "output_type": "execute_result"
    }
   ],
   "source": [
    "dp"
   ]
  },
  {
   "cell_type": "code",
   "execution_count": 79,
   "metadata": {},
   "outputs": [
    {
     "data": {
      "text/plain": [
       "739"
      ]
     },
     "execution_count": 79,
     "metadata": {},
     "output_type": "execute_result"
    }
   ],
   "source": [
    "dp[-1, -1]"
   ]
  },
  {
   "cell_type": "code",
   "execution_count": 80,
   "metadata": {},
   "outputs": [
    {
     "name": "stdout",
     "output_type": "stream",
     "text": [
      "Already submitted (2021, 15, 1, 739): True\n"
     ]
    },
    {
     "data": {
      "text/plain": [
       "True"
      ]
     },
     "execution_count": 80,
     "metadata": {},
     "output_type": "execute_result"
    }
   ],
   "source": [
    "submit1(dp[-1, -1])"
   ]
  },
  {
   "cell_type": "code",
   "execution_count": null,
   "metadata": {},
   "outputs": [],
   "source": []
  },
  {
   "cell_type": "code",
   "execution_count": 81,
   "metadata": {},
   "outputs": [
    {
     "data": {
      "text/plain": [
       "array([[9, 9, 3, ..., 7, 1, 3],\n",
       "       [5, 2, 5, ..., 4, 8, 5],\n",
       "       [4, 7, 2, ..., 9, 4, 6],\n",
       "       ...,\n",
       "       [1, 4, 4, ..., 2, 8, 1],\n",
       "       [2, 9, 4, ..., 5, 8, 8],\n",
       "       [1, 5, 4, ..., 8, 9, 8]])"
      ]
     },
     "execution_count": 81,
     "metadata": {},
     "output_type": "execute_result"
    }
   ],
   "source": [
    "b = zeros((n * 5, m * 5), dtype=int)\n",
    "for i in range(5):\n",
    "    for j in range(5):\n",
    "        x = a\n",
    "        for k in range(i + j):\n",
    "            x = (x % 9) + 1\n",
    "        b[i * n : i * n + n, j * m : j * m + m] = x\n",
    "b"
   ]
  },
  {
   "cell_type": "code",
   "execution_count": 82,
   "metadata": {},
   "outputs": [],
   "source": [
    "n, m = b.shape\n",
    "n, m\n",
    "\n",
    "q = []\n",
    "heapq.heappush(q, (0, 0, 0))\n",
    "dp = zeros_like(b) + 1000000\n",
    "\n",
    "while q:\n",
    "    dist, i, j = heapq.heappop(q)\n",
    "    if dist > dp[i, j]:\n",
    "        continue\n",
    "\n",
    "    for dd in d:\n",
    "        ii = i + dd[0]\n",
    "        jj = j + dd[1]\n",
    "        if 0 <= ii < n and 0 <= jj < m:\n",
    "            ddist = dist + b[ii, jj]\n",
    "            if ddist < dp[ii, jj]:\n",
    "                dp[ii, jj] = ddist\n",
    "                heapq.heappush(q, (ddist, ii, jj))"
   ]
  },
  {
   "cell_type": "code",
   "execution_count": 83,
   "metadata": {},
   "outputs": [
    {
     "data": {
      "text/plain": [
       "array([[  14,    9,   12, ..., 1737, 1738, 1741],\n",
       "       [   5,    7,   12, ..., 1733, 1741, 1746],\n",
       "       [   9,   14,   14, ..., 1737, 1736, 1742],\n",
       "       ...,\n",
       "       [1744, 1748, 1747, ..., 3015, 3023, 3024],\n",
       "       [1746, 1755, 1748, ..., 3020, 3028, 3032],\n",
       "       [1747, 1752, 1752, ..., 3028, 3037, 3040]])"
      ]
     },
     "execution_count": 83,
     "metadata": {},
     "output_type": "execute_result"
    }
   ],
   "source": [
    "dp"
   ]
  },
  {
   "cell_type": "code",
   "execution_count": 84,
   "metadata": {},
   "outputs": [
    {
     "name": "stdout",
     "output_type": "stream",
     "text": [
      "Already submitted (2021, 15, 2, 3040): True\n"
     ]
    },
    {
     "data": {
      "text/plain": [
       "True"
      ]
     },
     "execution_count": 84,
     "metadata": {},
     "output_type": "execute_result"
    }
   ],
   "source": [
    "submit2(dp[-1, -1])"
   ]
  },
  {
   "cell_type": "code",
   "execution_count": null,
   "metadata": {},
   "outputs": [],
   "source": []
  },
  {
   "cell_type": "code",
   "execution_count": null,
   "metadata": {},
   "outputs": [],
   "source": []
  },
  {
   "cell_type": "code",
   "execution_count": 69,
   "metadata": {},
   "outputs": [],
   "source": [
    "d = SortedList()\n",
    "n = 1000000\n",
    "m = 1000000000000\n",
    "for i in range(n):\n",
    "    d[np.random.randint(m)] = np.random.randint(m)"
   ]
  },
  {
   "cell_type": "code",
   "execution_count": 70,
   "metadata": {},
   "outputs": [
    {
     "name": "stdout",
     "output_type": "stream",
     "text": [
      "48.8 ns ± 3.3 ns per loop (mean ± std. dev. of 7 runs, 10000000 loops each)\n"
     ]
    }
   ],
   "source": [
    "%%timeit\n",
    "0 in d"
   ]
  },
  {
   "cell_type": "code",
   "execution_count": 100,
   "metadata": {},
   "outputs": [
    {
     "name": "stdout",
     "output_type": "stream",
     "text": [
      "250000\n",
      "250000\n",
      "250000\n",
      "250000\n",
      "250000\n",
      "250000\n",
      "250000\n",
      "250000\n",
      "1.39 s ± 105 ms per loop (mean ± std. dev. of 7 runs, 1 loop each)\n"
     ]
    }
   ],
   "source": [
    "%%timeit\n",
    "n, m = b.shape\n",
    "n, m\n",
    "\n",
    "q = []\n",
    "heapq.heappush(q, (0, 0, 0))\n",
    "dp = zeros_like(b) + 1000000\n",
    "adds = 0\n",
    "\n",
    "while q:\n",
    "    dist, i, j = heapq.heappop(q)\n",
    "    if dist > dp[i, j]:\n",
    "        continue\n",
    "\n",
    "    for dd in d:\n",
    "        ii = i + dd[0]\n",
    "        jj = j + dd[1]\n",
    "        if 0 <= ii < n and 0 <= jj < m:\n",
    "            ddist = dist + b[ii, jj]\n",
    "            if ddist < dp[ii, jj]:\n",
    "                dp[ii, jj] = ddist\n",
    "                heapq.heappush(q, (ddist, ii, jj))\n",
    "                adds += 1\n",
    "print(adds)"
   ]
  },
  {
   "cell_type": "code",
   "execution_count": 104,
   "metadata": {},
   "outputs": [
    {
     "name": "stdout",
     "output_type": "stream",
     "text": [
      "250000\n",
      "250000\n",
      "250000\n",
      "250000\n",
      "250000\n",
      "250000\n",
      "250000\n",
      "250000\n",
      "1.57 s ± 45.6 ms per loop (mean ± std. dev. of 7 runs, 1 loop each)\n"
     ]
    }
   ],
   "source": [
    "%%timeit\n",
    "n, m = b.shape\n",
    "n, m\n",
    "\n",
    "M = 1000000\n",
    "\n",
    "q = SortedList()\n",
    "q.add((0, 0, 0))\n",
    "dp = zeros_like(b) + M\n",
    "adds = 0\n",
    "\n",
    "while q:\n",
    "    dist, i, j = q.pop(0)\n",
    "\n",
    "    for dd in d:\n",
    "        ii = i + dd[0]\n",
    "        jj = j + dd[1]\n",
    "        if 0 <= ii < n and 0 <= jj < m:\n",
    "            ddist = dist + b[ii, jj]\n",
    "            if ddist < dp[ii, jj]:\n",
    "#                 q.discard((dp[ii, jj], ii, jj))\n",
    "                dp[ii, jj] = ddist\n",
    "                q.add((dp[ii, jj], ii, jj))\n",
    "                adds += 1\n",
    "print(adds)"
   ]
  }
 ],
 "metadata": {
  "kernelspec": {
   "display_name": "Python 3",
   "language": "python",
   "name": "python3"
  },
  "language_info": {
   "codemirror_mode": {
    "name": "ipython",
    "version": 3
   },
   "file_extension": ".py",
   "mimetype": "text/x-python",
   "name": "python",
   "nbconvert_exporter": "python",
   "pygments_lexer": "ipython3",
   "version": "3.9.0"
  }
 },
 "nbformat": 4,
 "nbformat_minor": 4
}
