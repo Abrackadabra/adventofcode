{
 "cells": [
  {
   "cell_type": "code",
   "execution_count": 3,
   "metadata": {},
   "outputs": [
    {
     "name": "stdout",
     "output_type": "stream",
     "text": [
      "Populating the interactive namespace from numpy and matplotlib\n"
     ]
    }
   ],
   "source": [
    "%pylab inline\n",
    "\n",
    "from tqdm import tqdm_notebook as tqdm\n",
    "import requests\n",
    "import pickle\n",
    "import re\n",
    "import itertools\n",
    "import functools\n",
    "import collections\n",
    "import string\n",
    "import time\n",
    "from bs4 import BeautifulSoup\n",
    "\n",
    "from adventlib import *\n",
    "\n",
    "YEAR = 2020\n",
    "DAY = 14\n",
    "\n",
    "submit1, submit2 = generate_submits(YEAR, DAY)\n",
    "\n",
    "while True:\n",
    "    try:\n",
    "        raw_input = get_input(YEAR, DAY)\n",
    "        break\n",
    "    except Exception as e:\n",
    "        print(e)\n",
    "        time.sleep(1)"
   ]
  },
  {
   "cell_type": "code",
   "execution_count": 12,
   "metadata": {},
   "outputs": [],
   "source": [
    "lines, groups = linesplit(\"\"\"\n",
    "mask = 000000000000000000000000000000X1001X\n",
    "mem[42] = 100\n",
    "mask = 00000000000000000000000000000000X0XX\n",
    "mem[26] = 1\n",
    "\"\"\".strip())"
   ]
  },
  {
   "cell_type": "code",
   "execution_count": 22,
   "metadata": {},
   "outputs": [
    {
     "name": "stdout",
     "output_type": "stream",
     "text": [
      "561 lines\n",
      "1 groups\n",
      ">>>\n",
      "mask = 10X1101X10X111011001X00X0110101X11XX\n",
      "mem[32921] = 1577116\n",
      "mem[16647] = 3562548\n",
      "...\n"
     ]
    }
   ],
   "source": [
    "lines, groups = linesplit(raw_input, verbose=True)"
   ]
  },
  {
   "cell_type": "code",
   "execution_count": null,
   "metadata": {},
   "outputs": [],
   "source": []
  },
  {
   "cell_type": "code",
   "execution_count": 24,
   "metadata": {},
   "outputs": [],
   "source": [
    "mem = {}\n",
    "\n",
    "mask0 = 0\n",
    "mask1 = 0\n",
    "\n",
    "for line in lines:\n",
    "    m = re.findall(r'mask = (.*)', line)\n",
    "    if m:\n",
    "        a = np.array(list(m[0]))\n",
    "        mask0 = (a == '0') @ (2 ** arange(36))[::-1]\n",
    "        mask1 = (a == '1') @ (2 ** arange(36))[::-1]\n",
    "        maskX = (a == 'X') @ (2 ** arange(36))[::-1]\n",
    "    \n",
    "    \n",
    "    m = re.findall(r'mem\\[(\\d+)\\] = (\\d+)', line)\n",
    "    if m:\n",
    "        ad, v = int(m[0][0]), int(m[0][1])\n",
    "        \n",
    "        a = []\n",
    "        x = maskX\n",
    "        while True:\n",
    "            a.append(x)\n",
    "            if x == 0:\n",
    "                break\n",
    "            x -= 1\n",
    "            x &= maskX\n",
    "            \n",
    "#         print(maskX, a, ad)\n",
    "        \n",
    "        ad |= mask1\n",
    "        ad -= ad & maskX\n",
    "        \n",
    "        for i in a:\n",
    "#             print(ad | i)\n",
    "            mem[ad | i] = v\n",
    "        \n",
    "#         v |= mask1\n",
    "#         v -= v & mask0\n",
    "        \n",
    "#         mem[ad] = v\n",
    "\n",
    "# mem"
   ]
  },
  {
   "cell_type": "code",
   "execution_count": 25,
   "metadata": {},
   "outputs": [
    {
     "data": {
      "text/plain": [
       "3443997590975"
      ]
     },
     "execution_count": 25,
     "metadata": {},
     "output_type": "execute_result"
    }
   ],
   "source": [
    "sum(list(mem.values()))"
   ]
  },
  {
   "cell_type": "code",
   "execution_count": 26,
   "metadata": {},
   "outputs": [
    {
     "data": {
      "text/plain": [
       "True"
      ]
     },
     "execution_count": 26,
     "metadata": {},
     "output_type": "execute_result"
    }
   ],
   "source": [
    "submit2(_)"
   ]
  }
 ],
 "metadata": {
  "kernelspec": {
   "display_name": "Python 3",
   "language": "python",
   "name": "python3"
  },
  "language_info": {
   "codemirror_mode": {
    "name": "ipython",
    "version": 3
   },
   "file_extension": ".py",
   "mimetype": "text/x-python",
   "name": "python",
   "nbconvert_exporter": "python",
   "pygments_lexer": "ipython3",
   "version": "3.9.0"
  }
 },
 "nbformat": 4,
 "nbformat_minor": 4
}
