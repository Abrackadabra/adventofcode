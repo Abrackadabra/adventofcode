{
 "cells": [
  {
   "cell_type": "code",
   "execution_count": 1,
   "metadata": {},
   "outputs": [
    {
     "name": "stdout",
     "output_type": "stream",
     "text": [
      "Populating the interactive namespace from numpy and matplotlib\n"
     ]
    }
   ],
   "source": [
    "%pylab inline\n",
    "\n",
    "from tqdm import tqdm_notebook as tqdm\n",
    "import requests\n",
    "import pickle\n",
    "import re\n",
    "import itertools\n",
    "import functools\n",
    "import collections\n",
    "import string\n",
    "import time\n",
    "from bs4 import BeautifulSoup\n",
    "\n",
    "from adventlib import *\n",
    "\n",
    "YEAR = 2020\n",
    "DAY = 10\n",
    "\n",
    "submit1, submit2 = generate_submits(YEAR, DAY)\n",
    "\n",
    "while True:\n",
    "    try:\n",
    "        raw_input = get_input(YEAR, DAY)\n",
    "        break\n",
    "    except Exception as e:\n",
    "        print(e)\n",
    "        time.sleep(1)"
   ]
  },
  {
   "cell_type": "code",
   "execution_count": 2,
   "metadata": {},
   "outputs": [],
   "source": [
    "lines, groups = linesplit(\"\"\"\n",
    "\n",
    "\"\"\".strip())"
   ]
  },
  {
   "cell_type": "code",
   "execution_count": 3,
   "metadata": {},
   "outputs": [
    {
     "name": "stdout",
     "output_type": "stream",
     "text": [
      "114 lines\n",
      "1 groups\n",
      ">>>\n",
      "178\n",
      "135\n",
      "78\n",
      "...\n"
     ]
    }
   ],
   "source": [
    "lines, groups = linesplit(raw_input, verbose=True)"
   ]
  },
  {
   "cell_type": "code",
   "execution_count": null,
   "metadata": {},
   "outputs": [],
   "source": []
  },
  {
   "cell_type": "code",
   "execution_count": 4,
   "metadata": {},
   "outputs": [],
   "source": [
    "a = amap(int, lines)\n",
    "a = r_[a, 0, max(a) + 3]"
   ]
  },
  {
   "cell_type": "code",
   "execution_count": 5,
   "metadata": {},
   "outputs": [],
   "source": [
    "b = a[argsort(a)]"
   ]
  },
  {
   "cell_type": "code",
   "execution_count": 6,
   "metadata": {},
   "outputs": [
    {
     "data": {
      "text/plain": [
       "array([1, 1, 1, 1, 3, 3, 1, 1, 1, 3, 3, 1, 1, 1, 3, 1, 1, 3, 3, 1, 1, 3,\n",
       "       3, 3, 1, 1, 1, 1, 3, 1, 3, 3, 1, 1, 1, 3, 3, 1, 3, 1, 1, 1, 3, 1,\n",
       "       1, 1, 3, 3, 1, 1, 1, 1, 3, 1, 1, 3, 1, 1, 1, 1, 3, 3, 1, 1, 3, 1,\n",
       "       1, 3, 1, 1, 1, 1, 3, 3, 1, 1, 1, 1, 3, 1, 1, 1, 1, 3, 1, 1, 1, 3,\n",
       "       3, 1, 1, 1, 3, 3, 1, 1, 1, 3, 1, 1, 1, 3, 1, 1, 3, 1, 1, 1, 1, 3,\n",
       "       3, 3, 1, 1, 3])"
      ]
     },
     "execution_count": 6,
     "metadata": {},
     "output_type": "execute_result"
    }
   ],
   "source": [
    "c = b[1:] - b[:-1]\n",
    "c"
   ]
  },
  {
   "cell_type": "code",
   "execution_count": 7,
   "metadata": {},
   "outputs": [
    {
     "data": {
      "text/plain": [
       "3000"
      ]
     },
     "execution_count": 7,
     "metadata": {},
     "output_type": "execute_result"
    }
   ],
   "source": [
    "sum(c == 1) * sum(c == 3)"
   ]
  },
  {
   "cell_type": "code",
   "execution_count": 8,
   "metadata": {},
   "outputs": [
    {
     "data": {
      "text/plain": [
       "True"
      ]
     },
     "execution_count": 8,
     "metadata": {},
     "output_type": "execute_result"
    }
   ],
   "source": [
    "submit1(3000)"
   ]
  },
  {
   "cell_type": "code",
   "execution_count": 11,
   "metadata": {},
   "outputs": [],
   "source": [
    "m = max(b)"
   ]
  },
  {
   "cell_type": "code",
   "execution_count": 16,
   "metadata": {},
   "outputs": [
    {
     "data": {
      "text/plain": [
       "array([  0,   1,   2,   3,   4,   7,  10,  11,  12,  13,  16,  19,  20,\n",
       "        21,  22,  25,  26,  27,  30,  33,  34,  35,  38,  41,  44,  45,\n",
       "        46,  47,  48,  51,  52,  55,  58,  59,  60,  61,  64,  67,  68,\n",
       "        71,  72,  73,  74,  77,  78,  79,  80,  83,  86,  87,  88,  89,\n",
       "        90,  93,  94,  95,  98,  99, 100, 101, 102, 105, 108, 109, 110,\n",
       "       113, 114, 115, 118, 119, 120, 121, 122, 125, 128, 129, 130, 131,\n",
       "       132, 135, 136, 137, 138, 139, 142, 143, 144, 145, 148, 151, 152,\n",
       "       153, 154, 157, 160, 161, 162, 163, 166, 167, 168, 169, 172, 173,\n",
       "       174, 177, 178, 179, 180, 181, 184, 187, 190, 191, 192, 195])"
      ]
     },
     "execution_count": 16,
     "metadata": {},
     "output_type": "execute_result"
    }
   ],
   "source": [
    "b"
   ]
  },
  {
   "cell_type": "code",
   "execution_count": 19,
   "metadata": {},
   "outputs": [
    {
     "data": {
      "text/plain": [
       "array([1, 1, 2, 4, 7, 0, 0, 7, 0, 0, 7, 7, 14, 28, 0, 0, 28, 0, 0, 28, 28,\n",
       "       56, 112, 0, 0, 112, 112, 224, 0, 0, 224, 0, 0, 224, 224, 448, 0, 0,\n",
       "       448, 0, 0, 448, 0, 0, 448, 448, 896, 1792, 3136, 0, 0, 3136, 3136,\n",
       "       0, 0, 3136, 0, 0, 3136, 3136, 6272, 12544, 0, 0, 12544, 0, 0,\n",
       "       12544, 12544, 0, 0, 12544, 12544, 25088, 50176, 0, 0, 50176, 50176,\n",
       "       100352, 200704, 0, 0, 200704, 0, 0, 200704, 200704, 401408, 802816,\n",
       "       1404928, 0, 0, 1404928, 1404928, 2809856, 0, 0, 2809856, 2809856,\n",
       "       5619712, 11239424, 19668992, 0, 0, 19668992, 0, 0, 19668992,\n",
       "       19668992, 39337984, 0, 0, 39337984, 39337984, 78675968, 0, 0,\n",
       "       78675968, 78675968, 157351936, 314703872, 550731776, 0, 0,\n",
       "       550731776, 0, 0, 550731776, 550731776, 1101463552, 2202927104,\n",
       "       3855122432, 0, 0, 3855122432, 3855122432, 7710244864, 15420489728,\n",
       "       26985857024, 0, 0, 26985857024, 26985857024, 53971714048,\n",
       "       107943428096, 0, 0, 107943428096, 0, 0, 107943428096, 107943428096,\n",
       "       215886856192, 431773712384, 0, 0, 431773712384, 0, 0, 431773712384,\n",
       "       431773712384, 863547424768, 1727094849536, 0, 0, 1727094849536,\n",
       "       1727094849536, 3454189699072, 6908379398144, 0, 0, 6908379398144,\n",
       "       6908379398144, 13816758796288, 0, 0, 13816758796288,\n",
       "       13816758796288, 27633517592576, 55267035185152, 96717311574016, 0,\n",
       "       0, 96717311574016, 0, 0, 96717311574016, 0, 0, 96717311574016,\n",
       "       96717311574016, 193434623148032, 0, 0, 193434623148032],\n",
       "      dtype=object)"
      ]
     },
     "execution_count": 19,
     "metadata": {},
     "output_type": "execute_result"
    }
   ],
   "source": [
    "dp = np.zeros(m + 1, dtype=object)\n",
    "\n",
    "dp[0] = 1\n",
    "\n",
    "for i in range(0, m + 1):\n",
    "    for j in b:\n",
    "        if j > i and j - i <= 3 and j <= m:\n",
    "            dp[j] += dp[i]\n",
    "\n",
    "dp"
   ]
  },
  {
   "cell_type": "code",
   "execution_count": 20,
   "metadata": {},
   "outputs": [
    {
     "data": {
      "text/plain": [
       "193434623148032"
      ]
     },
     "execution_count": 20,
     "metadata": {},
     "output_type": "execute_result"
    }
   ],
   "source": [
    "dp[-1]"
   ]
  },
  {
   "cell_type": "code",
   "execution_count": 21,
   "metadata": {},
   "outputs": [
    {
     "data": {
      "text/plain": [
       "True"
      ]
     },
     "execution_count": 21,
     "metadata": {},
     "output_type": "execute_result"
    }
   ],
   "source": [
    "submit2(_)"
   ]
  }
 ],
 "metadata": {
  "kernelspec": {
   "display_name": "Python 3",
   "language": "python",
   "name": "python3"
  },
  "language_info": {
   "codemirror_mode": {
    "name": "ipython",
    "version": 3
   },
   "file_extension": ".py",
   "mimetype": "text/x-python",
   "name": "python",
   "nbconvert_exporter": "python",
   "pygments_lexer": "ipython3",
   "version": "3.9.0"
  }
 },
 "nbformat": 4,
 "nbformat_minor": 4
}
