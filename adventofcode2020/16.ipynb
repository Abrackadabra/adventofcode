{
 "cells": [
  {
   "cell_type": "code",
   "execution_count": 1,
   "metadata": {},
   "outputs": [
    {
     "name": "stdout",
     "output_type": "stream",
     "text": [
      "Populating the interactive namespace from numpy and matplotlib\n"
     ]
    }
   ],
   "source": [
    "%pylab inline\n",
    "\n",
    "from tqdm import tqdm_notebook as tqdm\n",
    "import requests\n",
    "import pickle\n",
    "import re\n",
    "import itertools\n",
    "import functools\n",
    "import collections\n",
    "import string\n",
    "import time\n",
    "from bs4 import BeautifulSoup\n",
    "\n",
    "from adventlib import *\n",
    "\n",
    "YEAR = 2020\n",
    "DAY = 16\n",
    "\n",
    "submit1, submit2 = generate_submits(YEAR, DAY)\n",
    "\n",
    "while True:\n",
    "    try:\n",
    "        raw_input = get_input(YEAR, DAY)\n",
    "        break\n",
    "    except Exception as e:\n",
    "        print(e)\n",
    "        time.sleep(1)"
   ]
  },
  {
   "cell_type": "code",
   "execution_count": 3,
   "metadata": {},
   "outputs": [],
   "source": [
    "lines, groups = linesplit(\"\"\"\n",
    "class: 1-3 or 5-7\n",
    "row: 6-11 or 33-44\n",
    "seat: 13-40 or 45-50\n",
    "\n",
    "your ticket:\n",
    "7,1,14\n",
    "\n",
    "nearby tickets:\n",
    "7,3,47\n",
    "40,4,50\n",
    "55,2,20\n",
    "38,6,12\n",
    "\"\"\".strip())"
   ]
  },
  {
   "cell_type": "code",
   "execution_count": 13,
   "metadata": {},
   "outputs": [
    {
     "name": "stdout",
     "output_type": "stream",
     "text": [
      "263 lines\n",
      "3 groups\n",
      ">>>\n",
      "departure location: 48-793 or 800-971\n",
      "departure station: 36-235 or 247-974\n",
      "departure platform: 25-850 or 862-964\n",
      "...\n"
     ]
    }
   ],
   "source": [
    "lines, groups = linesplit(raw_input, verbose=True)"
   ]
  },
  {
   "cell_type": "code",
   "execution_count": null,
   "metadata": {},
   "outputs": [],
   "source": []
  },
  {
   "cell_type": "code",
   "execution_count": 14,
   "metadata": {},
   "outputs": [],
   "source": [
    "types = []\n",
    "\n",
    "for line in groups[0]:\n",
    "    matched = False\n",
    "    \n",
    "    m = re.findall(r'(\\d+)\\-(\\d+)', line)\n",
    "    z = []\n",
    "    for a, b in m:\n",
    "        matched = True\n",
    "        a = int(a)\n",
    "        b = int(b)\n",
    "        z.append((a, b))\n",
    "    types.append(z)\n",
    "        \n",
    "    if not matched:\n",
    "        raise Exception()"
   ]
  },
  {
   "cell_type": "code",
   "execution_count": 15,
   "metadata": {},
   "outputs": [
    {
     "data": {
      "text/plain": [
       "[[(48, 793), (800, 971)],\n",
       " [(36, 235), (247, 974)],\n",
       " [(25, 850), (862, 964)],\n",
       " [(40, 173), (193, 959)],\n",
       " [(42, 895), (902, 955)],\n",
       " [(43, 692), (715, 951)],\n",
       " [(38, 528), (549, 967)],\n",
       " [(43, 133), (141, 963)],\n",
       " [(40, 651), (675, 951)],\n",
       " [(48, 801), (811, 973)],\n",
       " [(50, 562), (587, 955)],\n",
       " [(43, 520), (527, 968)],\n",
       " [(44, 745), (752, 950)],\n",
       " [(41, 929), (941, 963)],\n",
       " [(37, 828), (838, 958)],\n",
       " [(47, 475), (491, 972)],\n",
       " [(38, 198), (210, 965)],\n",
       " [(33, 66), (74, 949)],\n",
       " [(35, 492), (507, 962)],\n",
       " [(35, 358), (381, 965)]]"
      ]
     },
     "execution_count": 15,
     "metadata": {},
     "output_type": "execute_result"
    }
   ],
   "source": [
    "types"
   ]
  },
  {
   "cell_type": "code",
   "execution_count": 20,
   "metadata": {},
   "outputs": [],
   "source": [
    "res = 0\n",
    "\n",
    "for line in groups[2][1:]:\n",
    "    matched = False\n",
    "    \n",
    "    m = re.findall(r'\\d+', line)\n",
    "    for i in amap(int, m):\n",
    "        matched = True\n",
    "    \n",
    "        ok = False\n",
    "        for z in types:\n",
    "            for a, b in z:\n",
    "                if a <= i <= b:\n",
    "                    ok = True\n",
    "        \n",
    "        if not ok:\n",
    "            res += i\n",
    "    \n",
    "        \n",
    "    if not matched:\n",
    "        raise Exception()"
   ]
  },
  {
   "cell_type": "code",
   "execution_count": 17,
   "metadata": {},
   "outputs": [
    {
     "data": {
      "text/plain": [
       "32842"
      ]
     },
     "execution_count": 17,
     "metadata": {},
     "output_type": "execute_result"
    }
   ],
   "source": [
    "res"
   ]
  },
  {
   "cell_type": "code",
   "execution_count": 19,
   "metadata": {},
   "outputs": [
    {
     "data": {
      "text/plain": [
       "20"
      ]
     },
     "execution_count": 19,
     "metadata": {},
     "output_type": "execute_result"
    }
   ],
   "source": [
    "len(types)"
   ]
  },
  {
   "cell_type": "code",
   "execution_count": 25,
   "metadata": {},
   "outputs": [],
   "source": [
    "q = []\n",
    "\n",
    "for line in groups[2][1:] + groups[1][1:]:\n",
    "    matched = False\n",
    "    \n",
    "    m = re.findall(r'\\d+', line)\n",
    "    okk = True\n",
    "    for i in amap(int, m):\n",
    "        matched = True\n",
    "    \n",
    "        ok = False\n",
    "        for z in types:\n",
    "            for a, b in z:\n",
    "                if a <= i <= b:\n",
    "                    ok = True\n",
    "        \n",
    "        if not ok:\n",
    "            okk = False\n",
    "            res += i\n",
    "            \n",
    "    if okk:\n",
    "        q.append(amap(int, m))\n",
    "            \n",
    "    \n",
    "        \n",
    "    if not matched:\n",
    "        raise Exception()"
   ]
  },
  {
   "cell_type": "code",
   "execution_count": 27,
   "metadata": {},
   "outputs": [],
   "source": [
    "matches = []\n",
    "\n",
    "for type_ in types:\n",
    "    t = []\n",
    "    for a in q:\n",
    "        for i, j in enumerate(a):\n",
    "            ok = False\n",
    "            for l, r in type_:\n",
    "                ok |= l <= j <= r\n",
    "            \n",
    "            if ok:\n",
    "                t.append(i)\n",
    "    matches.append(t)"
   ]
  },
  {
   "cell_type": "code",
   "execution_count": 36,
   "metadata": {},
   "outputs": [],
   "source": [
    "oks = []\n",
    "\n",
    "for match in matches:\n",
    "    oks.append(list(map(lambda x: x[0], list(filter(lambda x: x[1] == 191, collections.Counter(match).items())))))"
   ]
  },
  {
   "cell_type": "code",
   "execution_count": 62,
   "metadata": {},
   "outputs": [],
   "source": [
    "d = {\n",
    "    7: 14,\n",
    "    10: 1,\n",
    "    8: 0,\n",
    "    19: 10,\n",
    "    14: 6,\n",
    "    16: 15,\n",
    "    15: 3,\n",
    "    9: 13,\n",
    "    13: 12,\n",
    "    18: 19,\n",
    "    11: 16,\n",
    "    5: 7,\n",
    "    1: 4,\n",
    "    3: 9,\n",
    "    4: 17,\n",
    "    2: 18,\n",
    "    0: 8,\n",
    "    12: 5,\n",
    "    6: 2,\n",
    "    17: 11,\n",
    "}\n",
    "\n",
    "dv = set(list(d.values()))\n",
    "\n",
    "for i, j in enumerate(oks):\n",
    "    if i in d:\n",
    "        continue\n",
    "    print(i, set(j) - dv)"
   ]
  },
  {
   "cell_type": "code",
   "execution_count": 70,
   "metadata": {},
   "outputs": [
    {
     "name": "stdout",
     "output_type": "stream",
     "text": [
      "0\n",
      "1\n",
      "2\n",
      "3\n",
      "4\n",
      "5\n"
     ]
    }
   ],
   "source": [
    "for i, j in enumerate(groups[0]):\n",
    "    if 'departure' in j:\n",
    "        print(i)"
   ]
  },
  {
   "cell_type": "code",
   "execution_count": 76,
   "metadata": {},
   "outputs": [],
   "source": [
    "a = amap(int, groups[1][1].split(','))"
   ]
  },
  {
   "cell_type": "code",
   "execution_count": 78,
   "metadata": {},
   "outputs": [
    {
     "data": {
      "text/plain": [
       "2628667251989"
      ]
     },
     "execution_count": 78,
     "metadata": {},
     "output_type": "execute_result"
    }
   ],
   "source": [
    "res = 1\n",
    "for i in range(6):\n",
    "    res *= a[d[i]]\n",
    "    \n",
    "res"
   ]
  },
  {
   "cell_type": "code",
   "execution_count": 79,
   "metadata": {},
   "outputs": [
    {
     "data": {
      "text/plain": [
       "True"
      ]
     },
     "execution_count": 79,
     "metadata": {},
     "output_type": "execute_result"
    }
   ],
   "source": [
    "submit2(res)"
   ]
  },
  {
   "cell_type": "code",
   "execution_count": 18,
   "metadata": {},
   "outputs": [
    {
     "data": {
      "text/plain": [
       "True"
      ]
     },
     "execution_count": 18,
     "metadata": {},
     "output_type": "execute_result"
    }
   ],
   "source": [
    "submit1(res)"
   ]
  }
 ],
 "metadata": {
  "kernelspec": {
   "display_name": "Python 3",
   "language": "python",
   "name": "python3"
  },
  "language_info": {
   "codemirror_mode": {
    "name": "ipython",
    "version": 3
   },
   "file_extension": ".py",
   "mimetype": "text/x-python",
   "name": "python",
   "nbconvert_exporter": "python",
   "pygments_lexer": "ipython3",
   "version": "3.9.0"
  }
 },
 "nbformat": 4,
 "nbformat_minor": 4
}
