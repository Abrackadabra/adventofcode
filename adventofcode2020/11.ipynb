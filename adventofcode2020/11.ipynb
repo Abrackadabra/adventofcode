{
 "cells": [
  {
   "cell_type": "code",
   "execution_count": 2,
   "metadata": {},
   "outputs": [
    {
     "name": "stdout",
     "output_type": "stream",
     "text": [
      "Populating the interactive namespace from numpy and matplotlib\n"
     ]
    }
   ],
   "source": [
    "%pylab inline\n",
    "\n",
    "from tqdm import tqdm_notebook as tqdm\n",
    "import requests\n",
    "import pickle\n",
    "import re\n",
    "import itertools\n",
    "import functools\n",
    "import collections\n",
    "import string\n",
    "import time\n",
    "from bs4 import BeautifulSoup\n",
    "\n",
    "from adventlib import *\n",
    "\n",
    "YEAR = 2020\n",
    "DAY = 11\n",
    "\n",
    "submit1, submit2 = generate_submits(YEAR, DAY)\n",
    "\n",
    "while True:\n",
    "    try:\n",
    "        raw_input = get_input(YEAR, DAY)\n",
    "        break\n",
    "    except Exception as e:\n",
    "        print(e)\n",
    "        time.sleep(1)"
   ]
  },
  {
   "cell_type": "code",
   "execution_count": 31,
   "metadata": {},
   "outputs": [],
   "source": [
    "lines, groups = linesplit(\"\"\"\n",
    "L.LL.LL.LL\n",
    "LLLLLLL.LL\n",
    "L.L.L..L..\n",
    "LLLL.LL.LL\n",
    "L.LL.LL.LL\n",
    "L.LLLLL.LL\n",
    "..L.L.....\n",
    "LLLLLLLLLL\n",
    "L.LLLLLL.L\n",
    "L.LLLLL.LL\n",
    "\"\"\".strip())"
   ]
  },
  {
   "cell_type": "code",
   "execution_count": 52,
   "metadata": {},
   "outputs": [
    {
     "name": "stdout",
     "output_type": "stream",
     "text": [
      "98 lines\n",
      "1 groups\n",
      ">>>\n",
      "LLLLLLLLLLLLLL.LLLLLLLLLLLLLLL.LLLLLLLLL.LLLLLLL.LLLLLLL.LLLLLL.LLLLLLLL.LLLLL.LLLLLLLL..LLLLLLLLL\n",
      "LLLLLLLLL.LLLL.LLLLL.L.LLLLLLL.LLLLLLLLL.LLLLLL.L.LLLLLL.LLLLLL.LLLLLLLLLLLLLLLL.LLLLLLLLLLLLLLLLL\n",
      "LLLLLLLLL..LLL.LLLLL.LLLLLLLLL.LLLLLLLL..LLLLLLLL..LLLLL.LLLLL.LLLLLLLLLLLLLLLLLLL.LLL.L.LLLLLLLLL\n",
      "...\n"
     ]
    }
   ],
   "source": [
    "lines, groups = linesplit(raw_input, verbose=True)"
   ]
  },
  {
   "cell_type": "code",
   "execution_count": null,
   "metadata": {},
   "outputs": [],
   "source": []
  },
  {
   "cell_type": "code",
   "execution_count": 27,
   "metadata": {},
   "outputs": [],
   "source": [
    "A = lines_as_matrix(lines)\n",
    "\n",
    "def nextA(A):\n",
    "    B = np.zeros_like(A)\n",
    "    n, m = A.shape\n",
    "    for i in range(len(A)):\n",
    "        for j in range(len(A[0])):\n",
    "            i1 = max(0, i - 1)\n",
    "            i2 = min(n - 1, i + 1)\n",
    "            j1 = max(0, j - 1)\n",
    "            j2 = min(m - 1, j + 1)\n",
    "            \n",
    "            if A[i, j] == '.':\n",
    "                B[i, j] = '.'\n",
    "            elif A[i, j] == 'L':\n",
    "                if sum(A[i1:i2+1,j1:j2+1] == '#') == 0:\n",
    "                    B[i, j] = '#'\n",
    "                else:\n",
    "                    B[i, j] = 'L'\n",
    "            elif A[i, j] == '#':\n",
    "                if sum(A[i1:i2+1,j1:j2+1] == '#') >= 5:\n",
    "                    B[i, j] = 'L'\n",
    "                else:\n",
    "                    B[i, j] = '#'\n",
    "            else:\n",
    "                raise Exception()\n",
    "                \n",
    "    return B"
   ]
  },
  {
   "cell_type": "code",
   "execution_count": 28,
   "metadata": {},
   "outputs": [
    {
     "name": "stdout",
     "output_type": "stream",
     "text": [
      "70\n"
     ]
    }
   ],
   "source": [
    "a = A\n",
    "s = ''.join(a.flatten())\n",
    "\n",
    "c = 0 \n",
    "\n",
    "while True:\n",
    "    aa = nextA(a)\n",
    "    ss = ''.join(aa.flatten())\n",
    "    \n",
    "    if s == ss:\n",
    "        print(c)\n",
    "        break\n",
    "    else:\n",
    "        a = aa\n",
    "        s = ss\n",
    "        \n",
    "    c += 1"
   ]
  },
  {
   "cell_type": "code",
   "execution_count": 24,
   "metadata": {},
   "outputs": [
    {
     "data": {
      "text/plain": [
       "array([['#', '.', '#', 'L', '.', 'L', '#', '.', '#', '#'],\n",
       "       ['#', 'L', 'L', 'L', '#', 'L', 'L', '.', 'L', '#'],\n",
       "       ['L', '.', '#', '.', 'L', '.', '.', '#', '.', '.'],\n",
       "       ['#', 'L', '#', '#', '.', '#', '#', '.', 'L', '#'],\n",
       "       ['#', '.', '#', 'L', '.', 'L', 'L', '.', 'L', 'L'],\n",
       "       ['#', '.', '#', 'L', '#', 'L', '#', '.', '#', '#'],\n",
       "       ['.', '.', 'L', '.', 'L', '.', '.', '.', '.', '.'],\n",
       "       ['#', 'L', '#', 'L', '#', '#', 'L', '#', 'L', '#'],\n",
       "       ['#', '.', 'L', 'L', 'L', 'L', 'L', 'L', '.', 'L'],\n",
       "       ['#', '.', '#', 'L', '#', 'L', '#', '.', '#', '#']], dtype='<U1')"
      ]
     },
     "execution_count": 24,
     "metadata": {},
     "output_type": "execute_result"
    }
   ],
   "source": [
    "nextA(a)"
   ]
  },
  {
   "cell_type": "code",
   "execution_count": 29,
   "metadata": {},
   "outputs": [
    {
     "data": {
      "text/plain": [
       "2468"
      ]
     },
     "execution_count": 29,
     "metadata": {},
     "output_type": "execute_result"
    }
   ],
   "source": [
    "sum(a == '#')"
   ]
  },
  {
   "cell_type": "code",
   "execution_count": 30,
   "metadata": {},
   "outputs": [
    {
     "data": {
      "text/plain": [
       "True"
      ]
     },
     "execution_count": 30,
     "metadata": {},
     "output_type": "execute_result"
    }
   ],
   "source": [
    "submit1(_)"
   ]
  },
  {
   "cell_type": "code",
   "execution_count": 44,
   "metadata": {},
   "outputs": [],
   "source": [
    "dirs = [\n",
    "    [-1, -1],\n",
    "    [-1, 0],\n",
    "    [-1, 1],\n",
    "    [0, -1],\n",
    "    [0, 1],\n",
    "    [1, -1],\n",
    "    [1, 0],\n",
    "    [1, 1],\n",
    "]\n",
    "\n",
    "def nei(A, i, j):\n",
    "    n, m = A.shape\n",
    "    \n",
    "    for dir in dirs:\n",
    "        res = False\n",
    "        ii, jj = i, j\n",
    "        ii += dir[0]\n",
    "        jj += dir[1]\n",
    "        \n",
    "        while 0 <= ii < n and 0 <= jj < m:\n",
    "            if A[ii, jj] == '#':\n",
    "                yield True\n",
    "                break\n",
    "            if A[ii, jj] == 'L':\n",
    "                yield False\n",
    "                break\n",
    "            \n",
    "            ii += dir[0]\n",
    "            jj += dir[1]\n",
    "        else:\n",
    "            yield False"
   ]
  },
  {
   "cell_type": "code",
   "execution_count": 53,
   "metadata": {},
   "outputs": [],
   "source": [
    "A = lines_as_matrix(lines)\n",
    "\n",
    "def nextA(A):\n",
    "    B = np.zeros_like(A)\n",
    "    n, m = A.shape\n",
    "    for i in range(len(A)):\n",
    "        for j in range(len(A[0])):\n",
    "            x = sum(list(nei(A, i, j)))\n",
    "            \n",
    "            if A[i, j] == '.':\n",
    "                B[i, j] = '.'\n",
    "            elif A[i, j] == 'L':\n",
    "                if x == 0:\n",
    "                    B[i, j] = '#'\n",
    "                else:\n",
    "                    B[i, j] = 'L'\n",
    "            elif A[i, j] == '#':\n",
    "                if x >= 5:\n",
    "                    B[i, j] = 'L'\n",
    "                else:\n",
    "                    B[i, j] = '#'\n",
    "            else:\n",
    "                raise Exception()\n",
    "                \n",
    "    return B"
   ]
  },
  {
   "cell_type": "code",
   "execution_count": 54,
   "metadata": {},
   "outputs": [
    {
     "name": "stdout",
     "output_type": "stream",
     "text": [
      "87\n"
     ]
    }
   ],
   "source": [
    "a = A\n",
    "s = ''.join(a.flatten())\n",
    "\n",
    "c = 0 \n",
    "\n",
    "while True:\n",
    "    aa = nextA(a)\n",
    "    ss = ''.join(aa.flatten())\n",
    "    \n",
    "    if s == ss:\n",
    "        print(c)\n",
    "        break\n",
    "    else:\n",
    "        a = aa\n",
    "        s = ss\n",
    "        \n",
    "    c += 1"
   ]
  },
  {
   "cell_type": "code",
   "execution_count": 55,
   "metadata": {},
   "outputs": [
    {
     "data": {
      "text/plain": [
       "array([['#', '#', '#', ..., '#', '#', '#'],\n",
       "       ['#', '#', '#', ..., '#', '#', '#'],\n",
       "       ['#', '#', '#', ..., '#', '#', '#'],\n",
       "       ...,\n",
       "       ['#', '#', '#', ..., '#', '#', '#'],\n",
       "       ['.', '#', '#', ..., '#', '#', '#'],\n",
       "       ['#', '#', '#', ..., '#', '#', '#']], dtype='<U1')"
      ]
     },
     "execution_count": 55,
     "metadata": {},
     "output_type": "execute_result"
    }
   ],
   "source": [
    "a = nextA(A)\n",
    "a"
   ]
  },
  {
   "cell_type": "code",
   "execution_count": 47,
   "metadata": {},
   "outputs": [
    {
     "data": {
      "text/plain": [
       "3"
      ]
     },
     "execution_count": 47,
     "metadata": {},
     "output_type": "execute_result"
    }
   ],
   "source": [
    "sum(list(nei(a, 1, 1)))"
   ]
  },
  {
   "cell_type": "code",
   "execution_count": 56,
   "metadata": {},
   "outputs": [
    {
     "data": {
      "text/plain": [
       "2214"
      ]
     },
     "execution_count": 56,
     "metadata": {},
     "output_type": "execute_result"
    }
   ],
   "source": [
    "sum(aa == '#')"
   ]
  },
  {
   "cell_type": "code",
   "execution_count": 57,
   "metadata": {},
   "outputs": [
    {
     "data": {
      "text/plain": [
       "True"
      ]
     },
     "execution_count": 57,
     "metadata": {},
     "output_type": "execute_result"
    }
   ],
   "source": [
    "submit2(_)"
   ]
  }
 ],
 "metadata": {
  "kernelspec": {
   "display_name": "Python 3",
   "language": "python",
   "name": "python3"
  },
  "language_info": {
   "codemirror_mode": {
    "name": "ipython",
    "version": 3
   },
   "file_extension": ".py",
   "mimetype": "text/x-python",
   "name": "python",
   "nbconvert_exporter": "python",
   "pygments_lexer": "ipython3",
   "version": "3.9.0"
  }
 },
 "nbformat": 4,
 "nbformat_minor": 4
}
