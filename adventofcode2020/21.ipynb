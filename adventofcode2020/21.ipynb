{
 "cells": [
  {
   "cell_type": "code",
   "execution_count": 1,
   "metadata": {},
   "outputs": [
    {
     "name": "stdout",
     "output_type": "stream",
     "text": [
      "Populating the interactive namespace from numpy and matplotlib\n"
     ]
    }
   ],
   "source": [
    "%pylab inline\n",
    "\n",
    "from tqdm import tqdm_notebook as tqdm\n",
    "import requests\n",
    "import pickle\n",
    "import re\n",
    "import itertools\n",
    "import functools\n",
    "import collections\n",
    "import string\n",
    "import time\n",
    "from bs4 import BeautifulSoup\n",
    "\n",
    "from adventlib import *\n",
    "\n",
    "YEAR = 2020\n",
    "DAY = 21\n",
    "\n",
    "submit1, submit2 = generate_submits(YEAR, DAY)\n",
    "\n",
    "while True:\n",
    "    try:\n",
    "        raw_input = get_input(YEAR, DAY)\n",
    "        break\n",
    "    except Exception as e:\n",
    "        print(e)\n",
    "        time.sleep(1)"
   ]
  },
  {
   "cell_type": "code",
   "execution_count": 2,
   "metadata": {},
   "outputs": [],
   "source": [
    "lines, groups = linesplit(\"\"\"\n",
    "mxmxvkd kfcds sqjhc nhms (contains dairy, fish)\n",
    "trh fvjkl sbzzf mxmxvkd (contains dairy)\n",
    "sqjhc fvjkl (contains soy)\n",
    "sqjhc mxmxvkd sbzzf (contains fish)\n",
    "\"\"\".strip())"
   ]
  },
  {
   "cell_type": "code",
   "execution_count": 47,
   "metadata": {},
   "outputs": [
    {
     "name": "stdout",
     "output_type": "stream",
     "text": [
      "34 lines\n",
      "1 groups\n",
      ">>>\n",
      "cdblnb txts scljtv dsvl ksdgk zbkbgp jflb gxhc chjx rnptcf hpvzlb hxxb gcc rrbk lzpcq dpk rmrmhb clb...\n",
      "hdfrg rvvcm kqpbzn ksj dcgpsq bgzm rrbk dsvl pctjm dbkz rmbk cdblnb spfzpm ckptp rzvpm gdhpvgz vjbmb...\n",
      "kjdrd gcllv rckbqrc ffssl fxlbcb ztvfvhz nvbrx vgbl dskjpq rtvgv hmqhpzr pgnpx jvpsllhl xzb srmsh gl...\n",
      "...\n"
     ]
    }
   ],
   "source": [
    "lines, groups = linesplit(raw_input, verbose=True)"
   ]
  },
  {
   "cell_type": "code",
   "execution_count": null,
   "metadata": {},
   "outputs": [],
   "source": []
  },
  {
   "cell_type": "code",
   "execution_count": 48,
   "metadata": {},
   "outputs": [],
   "source": [
    "resi = 0\n",
    "resa = []\n",
    "ress = set()\n",
    "resd = collections.defaultdict()\n",
    "\n",
    "for line in lines:\n",
    "    matched = False\n",
    "    \n",
    "    m = re.findall(r'^(.*) \\(contains (.*)\\)$', line)\n",
    "    if m:\n",
    "        matched = True\n",
    "        p1, p2 = m[0]\n",
    "        resa.append((p1.split(' '), p2.split(', ')))\n",
    "        \n",
    "    if not matched:\n",
    "        raise Exception()"
   ]
  },
  {
   "cell_type": "code",
   "execution_count": 49,
   "metadata": {},
   "outputs": [],
   "source": [
    "import operator"
   ]
  },
  {
   "cell_type": "code",
   "execution_count": 50,
   "metadata": {},
   "outputs": [
    {
     "data": {
      "text/plain": [
       "({'bcchptf',\n",
       "  'bcpgx',\n",
       "  'bgqg',\n",
       "  'bgzm',\n",
       "  'bhzqc',\n",
       "  'blkh',\n",
       "  'bzjmn',\n",
       "  'cbshx',\n",
       "  'cdblnb',\n",
       "  'cdqrg',\n",
       "  'chjx',\n",
       "  'cjgm',\n",
       "  'ckptp',\n",
       "  'clbqr',\n",
       "  'cljq',\n",
       "  'cprbsmpx',\n",
       "  'cpzzfpz',\n",
       "  'crfvzpt',\n",
       "  'crlzb',\n",
       "  'cvv',\n",
       "  'dbkz',\n",
       "  'dcgpsq',\n",
       "  'dgms',\n",
       "  'djjk',\n",
       "  'dpk',\n",
       "  'drfgh',\n",
       "  'dskjpq',\n",
       "  'dsvl',\n",
       "  'dtpkz',\n",
       "  'dzdgl',\n",
       "  'ffssl',\n",
       "  'fhhcv',\n",
       "  'fhmgrhg',\n",
       "  'fjqlm',\n",
       "  'flxvrh',\n",
       "  'fnsjrp',\n",
       "  'frsvq',\n",
       "  'fxlbcb',\n",
       "  'fzhvcz',\n",
       "  'fzmzs',\n",
       "  'gbtss',\n",
       "  'gcc',\n",
       "  'gcj',\n",
       "  'gcllv',\n",
       "  'gdhpvgz',\n",
       "  'gdvts',\n",
       "  'glpmssg',\n",
       "  'gpzq',\n",
       "  'grkrz',\n",
       "  'gtjhr',\n",
       "  'gxhc',\n",
       "  'hdfrg',\n",
       "  'hdkc',\n",
       "  'hk',\n",
       "  'hmqhpzr',\n",
       "  'hplt',\n",
       "  'hpvzlb',\n",
       "  'htk',\n",
       "  'hxxb',\n",
       "  'jbmq',\n",
       "  'jbvhl',\n",
       "  'jdcvff',\n",
       "  'jf',\n",
       "  'jffhm',\n",
       "  'jflb',\n",
       "  'jlpzn',\n",
       "  'jmrdr',\n",
       "  'jmtzqjs',\n",
       "  'jphll',\n",
       "  'jrfzs',\n",
       "  'jtq',\n",
       "  'jvljzbh',\n",
       "  'jvpsllhl',\n",
       "  'jvrn',\n",
       "  'jzdhlj',\n",
       "  'kcck',\n",
       "  'khqsk',\n",
       "  'kjdrd',\n",
       "  'kkggp',\n",
       "  'km',\n",
       "  'kmjvr',\n",
       "  'kpcv',\n",
       "  'kqpbzn',\n",
       "  'krllr',\n",
       "  'ksdgk',\n",
       "  'ksj',\n",
       "  'ktlttm',\n",
       "  'kttg',\n",
       "  'lbvgfq',\n",
       "  'lbvlp',\n",
       "  'lhgkrc',\n",
       "  'ljkdr',\n",
       "  'lkrnkm',\n",
       "  'llfdjz',\n",
       "  'lmhqv',\n",
       "  'lmn',\n",
       "  'lqb',\n",
       "  'lqx',\n",
       "  'lrhtp',\n",
       "  'lrnxgns',\n",
       "  'ltxf',\n",
       "  'lzpcq',\n",
       "  'mcmr',\n",
       "  'mcnzq',\n",
       "  'mdzbsft',\n",
       "  'mhzdz',\n",
       "  'mlvdvc',\n",
       "  'msfxp',\n",
       "  'mvbxt',\n",
       "  'mxd',\n",
       "  'ndnq',\n",
       "  'nhqtzkn',\n",
       "  'nkn',\n",
       "  'nqkggbpq',\n",
       "  'nql',\n",
       "  'nsgpf',\n",
       "  'nvbrx',\n",
       "  'pchzb',\n",
       "  'pclzcd',\n",
       "  'pctjm',\n",
       "  'pdmg',\n",
       "  'pgnpx',\n",
       "  'pgxzdxf',\n",
       "  'pknvxsb',\n",
       "  'pnhrz',\n",
       "  'qnmt',\n",
       "  'qnzljfj',\n",
       "  'qpnt',\n",
       "  'qqzqd',\n",
       "  'qrvdjvg',\n",
       "  'qsbsr',\n",
       "  'qvqf',\n",
       "  'qxmrqb',\n",
       "  'qxpmkdp',\n",
       "  'rckbqrc',\n",
       "  'rmbk',\n",
       "  'rmrmhb',\n",
       "  'rnptcf',\n",
       "  'rrbk',\n",
       "  'rtvgv',\n",
       "  'rvvcm',\n",
       "  'rzpdmp',\n",
       "  'rzvpm',\n",
       "  'sbjnrn',\n",
       "  'sbtkm',\n",
       "  'scljtv',\n",
       "  'scnlb',\n",
       "  'skkn',\n",
       "  'sklm',\n",
       "  'skxd',\n",
       "  'smjk',\n",
       "  'smtthp',\n",
       "  'snjbct',\n",
       "  'spfzpm',\n",
       "  'spnzjj',\n",
       "  'srmsh',\n",
       "  'stfmsqc',\n",
       "  'sxmsxx',\n",
       "  'thfqk',\n",
       "  'tjfgc',\n",
       "  'tjm',\n",
       "  'tlfjpc',\n",
       "  'tnjnr',\n",
       "  'ttmr',\n",
       "  'tvdqr',\n",
       "  'tvtsbxb',\n",
       "  'txts',\n",
       "  'tzbrg',\n",
       "  'vcfxs',\n",
       "  'vgbl',\n",
       "  'vgh',\n",
       "  'vhhj',\n",
       "  'vjbmbz',\n",
       "  'vnrmm',\n",
       "  'vrssb',\n",
       "  'vvcnht',\n",
       "  'vxqrj',\n",
       "  'vzsjm',\n",
       "  'xbhmf',\n",
       "  'xbngqsv',\n",
       "  'xhdq',\n",
       "  'xhqsl',\n",
       "  'xlchb',\n",
       "  'xnhgg',\n",
       "  'xplz',\n",
       "  'xqxgx',\n",
       "  'xrmx',\n",
       "  'xrvhc',\n",
       "  'xtzhq',\n",
       "  'xzb',\n",
       "  'xzgst',\n",
       "  'zbkbgp',\n",
       "  'zcxfj',\n",
       "  'zdjcvfc',\n",
       "  'zkkxgzm',\n",
       "  'zlc',\n",
       "  'zstptg',\n",
       "  'ztvfvhz',\n",
       "  'zvth',\n",
       "  'zxtgf'},\n",
       " {'dairy', 'eggs', 'fish', 'peanuts', 'sesame', 'shellfish', 'soy', 'wheat'})"
      ]
     },
     "execution_count": 50,
     "metadata": {},
     "output_type": "execute_result"
    }
   ],
   "source": [
    "all_als = set()\n",
    "all_ings = set()\n",
    "\n",
    "for ings, als in resa:\n",
    "    all_ings |= set(ings)\n",
    "    all_als |= set(als)\n",
    "\n",
    "all_ings, all_als"
   ]
  },
  {
   "cell_type": "code",
   "execution_count": 51,
   "metadata": {},
   "outputs": [],
   "source": [
    "rev = collections.defaultdict(list)\n",
    "\n",
    "for ing, al in resa:\n",
    "    for i in al:\n",
    "        rev[i].append(set(ing))"
   ]
  },
  {
   "cell_type": "code",
   "execution_count": 52,
   "metadata": {},
   "outputs": [
    {
     "data": {
      "text/plain": [
       "defaultdict(list,\n",
       "            {'dairy': set(),\n",
       "             'sesame': set(),\n",
       "             'wheat': set(),\n",
       "             'soy': set(),\n",
       "             'peanuts': set(),\n",
       "             'fish': set(),\n",
       "             'eggs': set(),\n",
       "             'shellfish': set()})"
      ]
     },
     "execution_count": 52,
     "metadata": {},
     "output_type": "execute_result"
    }
   ],
   "source": [
    "for i in rev:\n",
    "    rev[i] = functools.reduce(set.__and__, rev[i])\n",
    "    \n",
    "known_ings = {}\n",
    "known_als = {}\n",
    "\n",
    "while True:\n",
    "    ok = True\n",
    "    for al, ings in rev.items():\n",
    "        if len(ings) > 0:\n",
    "            ok = False\n",
    "        \n",
    "        if len(ings) == 1:\n",
    "            ing = next(iter(ings))\n",
    "            known_ings[ing] = al\n",
    "            known_als[al] = ing\n",
    "        \n",
    "        rev[al] = set(ings) - set(known_ings.keys())\n",
    "        \n",
    "    if ok:\n",
    "        break\n",
    "    \n",
    "rev"
   ]
  },
  {
   "cell_type": "code",
   "execution_count": 53,
   "metadata": {},
   "outputs": [],
   "source": [
    "unknown_ings = all_ings - set(known_ings.keys())"
   ]
  },
  {
   "cell_type": "code",
   "execution_count": 54,
   "metadata": {},
   "outputs": [
    {
     "data": {
      "text/plain": [
       "1945"
      ]
     },
     "execution_count": 54,
     "metadata": {},
     "output_type": "execute_result"
    }
   ],
   "source": [
    "c = 0\n",
    "for ings, _ in resa:\n",
    "    for ing in ings:\n",
    "        if ing in unknown_ings:\n",
    "            c += 1\n",
    "c"
   ]
  },
  {
   "cell_type": "code",
   "execution_count": 55,
   "metadata": {},
   "outputs": [
    {
     "data": {
      "text/plain": [
       "True"
      ]
     },
     "execution_count": 55,
     "metadata": {},
     "output_type": "execute_result"
    }
   ],
   "source": [
    "submit1(1945)"
   ]
  },
  {
   "cell_type": "code",
   "execution_count": 59,
   "metadata": {},
   "outputs": [
    {
     "data": {
      "text/plain": [
       "'pgnpx,srmsh,ksdgk,dskjpq,nvbrx,khqsk,zbkbgp,xzb'"
      ]
     },
     "execution_count": 59,
     "metadata": {},
     "output_type": "execute_result"
    }
   ],
   "source": [
    "','.join(amap(known_als.get, sorted(known_als.keys())))"
   ]
  },
  {
   "cell_type": "code",
   "execution_count": 60,
   "metadata": {},
   "outputs": [
    {
     "data": {
      "text/plain": [
       "True"
      ]
     },
     "execution_count": 60,
     "metadata": {},
     "output_type": "execute_result"
    }
   ],
   "source": [
    "submit2('pgnpx,srmsh,ksdgk,dskjpq,nvbrx,khqsk,zbkbgp,xzb')"
   ]
  }
 ],
 "metadata": {
  "kernelspec": {
   "display_name": "Python 3",
   "language": "python",
   "name": "python3"
  },
  "language_info": {
   "codemirror_mode": {
    "name": "ipython",
    "version": 3
   },
   "file_extension": ".py",
   "mimetype": "text/x-python",
   "name": "python",
   "nbconvert_exporter": "python",
   "pygments_lexer": "ipython3",
   "version": "3.9.0"
  }
 },
 "nbformat": 4,
 "nbformat_minor": 4
}
