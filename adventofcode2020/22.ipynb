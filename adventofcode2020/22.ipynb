{
 "cells": [
  {
   "cell_type": "code",
   "execution_count": 2,
   "metadata": {},
   "outputs": [
    {
     "name": "stdout",
     "output_type": "stream",
     "text": [
      "Populating the interactive namespace from numpy and matplotlib\n"
     ]
    }
   ],
   "source": [
    "%pylab inline\n",
    "\n",
    "from tqdm import tqdm_notebook as tqdm\n",
    "import requests\n",
    "import pickle\n",
    "import re\n",
    "import itertools\n",
    "import functools\n",
    "import collections\n",
    "import string\n",
    "import time\n",
    "from bs4 import BeautifulSoup\n",
    "\n",
    "from adventlib import *\n",
    "\n",
    "YEAR = 2020\n",
    "DAY = 22\n",
    "\n",
    "submit1, submit2 = generate_submits(YEAR, DAY)\n",
    "\n",
    "while True:\n",
    "    try:\n",
    "        raw_input = get_input(YEAR, DAY)\n",
    "        break\n",
    "    except Exception as e:\n",
    "        print(e)\n",
    "        time.sleep(1)"
   ]
  },
  {
   "cell_type": "code",
   "execution_count": 50,
   "metadata": {},
   "outputs": [],
   "source": [
    "lines, groups = linesplit(\"\"\"\n",
    "Player 1:\n",
    "9\n",
    "2\n",
    "6\n",
    "3\n",
    "1\n",
    "\n",
    "Player 2:\n",
    "5\n",
    "8\n",
    "4\n",
    "7\n",
    "10\n",
    "\"\"\".strip())"
   ]
  },
  {
   "cell_type": "code",
   "execution_count": 62,
   "metadata": {},
   "outputs": [
    {
     "name": "stdout",
     "output_type": "stream",
     "text": [
      "53 lines\n",
      "2 groups\n",
      ">>>\n",
      "Player 1:\n",
      "21\n",
      "50\n",
      "...\n"
     ]
    }
   ],
   "source": [
    "lines, groups = linesplit(raw_input, verbose=True)"
   ]
  },
  {
   "cell_type": "code",
   "execution_count": null,
   "metadata": {},
   "outputs": [],
   "source": []
  },
  {
   "cell_type": "code",
   "execution_count": 63,
   "metadata": {},
   "outputs": [],
   "source": [
    "a_ = list(map(int, groups[0][1:]))\n",
    "b_ = list(map(int, groups[1][1:]))"
   ]
  },
  {
   "cell_type": "code",
   "execution_count": 20,
   "metadata": {},
   "outputs": [],
   "source": [
    "a = list(a_)\n",
    "b = list(b_)\n",
    "\n",
    "while a and b:\n",
    "    if a[0] > b[0]:\n",
    "        a.append(a[0])\n",
    "        a.append(b[0])\n",
    "        a.pop(0)\n",
    "        b.pop(0)\n",
    "    else:\n",
    "        b.append(b[0])\n",
    "        b.append(a[0])\n",
    "        b.pop(0)\n",
    "        a.pop(0)"
   ]
  },
  {
   "cell_type": "code",
   "execution_count": 22,
   "metadata": {},
   "outputs": [
    {
     "data": {
      "text/plain": [
       "29764"
      ]
     },
     "execution_count": 22,
     "metadata": {},
     "output_type": "execute_result"
    }
   ],
   "source": [
    "arange(1, len(a) + 1)[::-1] @ a"
   ]
  },
  {
   "cell_type": "code",
   "execution_count": 23,
   "metadata": {},
   "outputs": [
    {
     "data": {
      "text/plain": [
       "0.0"
      ]
     },
     "execution_count": 23,
     "metadata": {},
     "output_type": "execute_result"
    }
   ],
   "source": [
    "arange(1, len(b) + 1)[::-1] @ b"
   ]
  },
  {
   "cell_type": "code",
   "execution_count": 24,
   "metadata": {},
   "outputs": [
    {
     "data": {
      "text/plain": [
       "True"
      ]
     },
     "execution_count": 24,
     "metadata": {},
     "output_type": "execute_result"
    }
   ],
   "source": [
    "submit1(29764)"
   ]
  },
  {
   "cell_type": "code",
   "execution_count": 35,
   "metadata": {},
   "outputs": [],
   "source": [
    "def go(a_, b_, gmem):\n",
    "    mem = set()\n",
    "\n",
    "    a = list(a_)\n",
    "    b = list(b_)\n",
    "    while a and b:\n",
    "        key = (tuple(a), tuple(b))\n",
    "        \n",
    "        if key in gmem:\n",
    "            return gmem[key]\n",
    "        \n",
    "        if key in mem:\n",
    "            return True, a, b\n",
    "        mem.add(key)\n",
    "        \n",
    "        a0 = a.pop(0)\n",
    "        b0 = b.pop(0)\n",
    "        \n",
    "        if len(a) >= a0 and len(b) >= b0:\n",
    "            win, a2, b2 = go(list(a), list(b), gmem)\n",
    "        else:\n",
    "            win = a0 > b0\n",
    "\n",
    "        if win:\n",
    "            a += [a0, b0]\n",
    "        else:\n",
    "            b += [b0, a0]\n",
    "            \n",
    "    res = (bool(a), a, b)\n",
    "            \n",
    "    a = list(a_)\n",
    "    b = list(b_)\n",
    "    while a and b:\n",
    "        key = (tuple(a), tuple(b))\n",
    "        gmem[key] = res\n",
    "        \n",
    "        a0 = a.pop(0)\n",
    "        b0 = b.pop(0)\n",
    "        \n",
    "        if len(a) >= a0 and len(b) >= b0:\n",
    "            win, a2, b2 = go(list(a), list(b), gmem)\n",
    "        else:\n",
    "            win = a0 > b0\n",
    "\n",
    "        if win:\n",
    "            a += [a0, b0]\n",
    "        else:\n",
    "            b += [b0, a0]\n",
    "    \n",
    "    return res"
   ]
  },
  {
   "cell_type": "code",
   "execution_count": 64,
   "metadata": {},
   "outputs": [],
   "source": [
    "def go(a_, b_):\n",
    "    mem = set()\n",
    "\n",
    "    a = list(a_)\n",
    "    b = list(b_)\n",
    "    while a and b:\n",
    "#         print(a_, b_, a, b)\n",
    "        \n",
    "        key = (tuple(a), tuple(b))\n",
    "        \n",
    "        if key in mem:\n",
    "            return True, 0\n",
    "        mem.add(key)\n",
    "        \n",
    "        a0 = a.pop(0)\n",
    "        b0 = b.pop(0)\n",
    "        \n",
    "        if len(a) >= a0 and len(b) >= b0:\n",
    "            win, _ = go(a[:a0], b[:b0])\n",
    "        else:\n",
    "            win = a0 > b0\n",
    "\n",
    "        if win:\n",
    "            a += [a0, b0]\n",
    "        else:\n",
    "            b += [b0, a0]\n",
    "            \n",
    "    x = a if a else b\n",
    "    return bool(a), arange(1, len(x) + 1)[::-1] @ x"
   ]
  },
  {
   "cell_type": "code",
   "execution_count": 65,
   "metadata": {},
   "outputs": [
    {
     "data": {
      "text/plain": [
       "(True, 32588)"
      ]
     },
     "execution_count": 65,
     "metadata": {},
     "output_type": "execute_result"
    }
   ],
   "source": [
    "go(a_, b_)"
   ]
  },
  {
   "cell_type": "code",
   "execution_count": 66,
   "metadata": {},
   "outputs": [
    {
     "data": {
      "text/plain": [
       "True"
      ]
     },
     "execution_count": 66,
     "metadata": {},
     "output_type": "execute_result"
    }
   ],
   "source": [
    "submit2(32588)"
   ]
  }
 ],
 "metadata": {
  "kernelspec": {
   "display_name": "Python 3",
   "language": "python",
   "name": "python3"
  },
  "language_info": {
   "codemirror_mode": {
    "name": "ipython",
    "version": 3
   },
   "file_extension": ".py",
   "mimetype": "text/x-python",
   "name": "python",
   "nbconvert_exporter": "python",
   "pygments_lexer": "ipython3",
   "version": "3.9.0"
  }
 },
 "nbformat": 4,
 "nbformat_minor": 4
}
