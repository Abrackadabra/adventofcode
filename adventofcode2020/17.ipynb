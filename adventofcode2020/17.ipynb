{
 "cells": [
  {
   "cell_type": "code",
   "execution_count": 1,
   "metadata": {},
   "outputs": [
    {
     "name": "stdout",
     "output_type": "stream",
     "text": [
      "Populating the interactive namespace from numpy and matplotlib\n"
     ]
    }
   ],
   "source": [
    "%pylab inline\n",
    "\n",
    "from tqdm import tqdm_notebook as tqdm\n",
    "import requests\n",
    "import pickle\n",
    "import re\n",
    "import itertools\n",
    "import functools\n",
    "import collections\n",
    "import string\n",
    "import time\n",
    "from bs4 import BeautifulSoup\n",
    "\n",
    "from adventlib import *\n",
    "\n",
    "YEAR = 2020\n",
    "DAY = 17\n",
    "\n",
    "submit1, submit2 = generate_submits(YEAR, DAY)\n",
    "\n",
    "while True:\n",
    "    try:\n",
    "        raw_input = get_input(YEAR, DAY)\n",
    "        break\n",
    "    except Exception as e:\n",
    "        print(e)\n",
    "        time.sleep(1)"
   ]
  },
  {
   "cell_type": "code",
   "execution_count": 96,
   "metadata": {},
   "outputs": [],
   "source": [
    "lines, groups = linesplit(\"\"\"\n",
    ".#.\n",
    "..#\n",
    "###\n",
    "\"\"\".strip())"
   ]
  },
  {
   "cell_type": "code",
   "execution_count": 112,
   "metadata": {},
   "outputs": [
    {
     "name": "stdout",
     "output_type": "stream",
     "text": [
      "8 lines\n",
      "1 groups\n",
      ">>>\n",
      "...###.#\n",
      "#.#.##..\n",
      ".##.##..\n",
      "...\n"
     ]
    }
   ],
   "source": [
    "lines, groups = linesplit(raw_input, verbose=True)"
   ]
  },
  {
   "cell_type": "code",
   "execution_count": 113,
   "metadata": {},
   "outputs": [
    {
     "data": {
      "text/plain": [
       "(array([[False, False, False,  True,  True,  True, False,  True],\n",
       "        [ True, False,  True, False,  True,  True, False, False],\n",
       "        [False,  True,  True, False,  True,  True, False, False],\n",
       "        [False, False,  True,  True, False, False, False,  True],\n",
       "        [False,  True,  True,  True, False,  True,  True, False],\n",
       "        [False,  True, False, False,  True,  True, False, False],\n",
       "        [False, False, False, False, False,  True,  True,  True],\n",
       "        [False,  True,  True,  True,  True, False, False,  True]]),\n",
       " (8, 8))"
      ]
     },
     "execution_count": 113,
     "metadata": {},
     "output_type": "execute_result"
    }
   ],
   "source": [
    "S = lines_as_matrix(lines) == '#'\n",
    "m = len(S)\n",
    "S, S.shape"
   ]
  },
  {
   "cell_type": "code",
   "execution_count": null,
   "metadata": {},
   "outputs": [],
   "source": []
  },
  {
   "cell_type": "code",
   "execution_count": null,
   "metadata": {},
   "outputs": [],
   "source": []
  },
  {
   "cell_type": "code",
   "execution_count": null,
   "metadata": {},
   "outputs": [],
   "source": []
  },
  {
   "cell_type": "code",
   "execution_count": 61,
   "metadata": {},
   "outputs": [],
   "source": [
    "n = 20\n",
    "\n",
    "AA = np.zeros((n, n, n), dtype=bool)\n",
    "AA[n//2:n//2 + m, n//2:n//2+m, n // 2] = S"
   ]
  },
  {
   "cell_type": "code",
   "execution_count": 62,
   "metadata": {},
   "outputs": [],
   "source": [
    "def nex(A):\n",
    "    B = np.zeros_like(A)\n",
    "    \n",
    "    for i in range(1, n - 1):\n",
    "        for j in range(1, n - 1):\n",
    "            for k in range(1, n - 1):\n",
    "                s = sum(A[i-1:i+2,j-1:j+2,k-1:k+2])\n",
    "#                 if s >= 3:\n",
    "#                     print(i, j, k, s)\n",
    "                if (A[i, j, k] and s in [3, 4]) or (not A[i, j, k] and s == 3):\n",
    "                    B[i, j, k] = True\n",
    "                    \n",
    "    return B"
   ]
  },
  {
   "cell_type": "code",
   "execution_count": 65,
   "metadata": {},
   "outputs": [
    {
     "name": "stdout",
     "output_type": "stream",
     "text": [
      "0 31\n",
      "1 52\n",
      "2 59\n",
      "3 109\n",
      "4 128\n",
      "5 154\n"
     ]
    },
    {
     "data": {
      "text/plain": [
       "254"
      ]
     },
     "execution_count": 65,
     "metadata": {},
     "output_type": "execute_result"
    }
   ],
   "source": [
    "x = AA\n",
    "for i in range(6):\n",
    "    print(i, sum(x))\n",
    "    x = nex(x)\n",
    "    \n",
    "sum(x)"
   ]
  },
  {
   "cell_type": "code",
   "execution_count": 64,
   "metadata": {},
   "outputs": [
    {
     "name": "stdout",
     "output_type": "stream",
     "text": [
      "Already submitted (2020, 17, 1, 254): False\n"
     ]
    },
    {
     "data": {
      "text/plain": [
       "False"
      ]
     },
     "execution_count": 64,
     "metadata": {},
     "output_type": "execute_result"
    }
   ],
   "source": [
    "submit1(254)"
   ]
  },
  {
   "cell_type": "code",
   "execution_count": null,
   "metadata": {},
   "outputs": [],
   "source": [
    "resi = 0\n",
    "resa = []\n",
    "ress = set()\n",
    "resd = collections.defaultdict()\n",
    "\n",
    "for line in lines:\n",
    "    matched = False\n",
    "    \n",
    "    m = re.findall(r'^$', line)\n",
    "    if m:\n",
    "        matched = True\n",
    "        #pass\n",
    "    \n",
    "    m = re.findall(r'^$', line)\n",
    "    if m:\n",
    "        matched = True\n",
    "        #pass\n",
    "        \n",
    "    if not matched:\n",
    "        raise Exception()"
   ]
  },
  {
   "cell_type": "code",
   "execution_count": null,
   "metadata": {},
   "outputs": [],
   "source": []
  },
  {
   "cell_type": "code",
   "execution_count": null,
   "metadata": {},
   "outputs": [],
   "source": []
  },
  {
   "cell_type": "code",
   "execution_count": null,
   "metadata": {},
   "outputs": [],
   "source": []
  },
  {
   "cell_type": "code",
   "execution_count": 114,
   "metadata": {},
   "outputs": [
    {
     "data": {
      "text/plain": [
       "array([[False, False, False,  True,  True,  True, False,  True],\n",
       "       [ True, False,  True, False,  True,  True, False, False],\n",
       "       [False,  True,  True, False,  True,  True, False, False],\n",
       "       [False, False,  True,  True, False, False, False,  True],\n",
       "       [False,  True,  True,  True, False,  True,  True, False],\n",
       "       [False,  True, False, False,  True,  True, False, False],\n",
       "       [False, False, False, False, False,  True,  True,  True],\n",
       "       [False,  True,  True,  True,  True, False, False,  True]])"
      ]
     },
     "execution_count": 114,
     "metadata": {},
     "output_type": "execute_result"
    }
   ],
   "source": [
    "S"
   ]
  },
  {
   "cell_type": "code",
   "execution_count": 115,
   "metadata": {},
   "outputs": [],
   "source": [
    "st = set()\n",
    "\n",
    "for i in range(m):\n",
    "    for j in range(m):\n",
    "        if S[i, j]:\n",
    "            st.add((i, j, 0, 0))"
   ]
  },
  {
   "cell_type": "code",
   "execution_count": 116,
   "metadata": {},
   "outputs": [],
   "source": [
    "def nei(p):\n",
    "    ii, jj, kk, ll = p\n",
    "    for i in range(-1, 2):\n",
    "        for j in range(-1, 2):\n",
    "            for k in range(-1, 2):\n",
    "                for l in range(-1, 2):\n",
    "                    if i == j == k == l == 0:\n",
    "                        continue\n",
    "                    yield i + ii, j + jj, k + kk, l + ll"
   ]
  },
  {
   "cell_type": "code",
   "execution_count": 117,
   "metadata": {},
   "outputs": [],
   "source": [
    "def nex(d):\n",
    "    c = set()\n",
    "    \n",
    "    for i in d:\n",
    "        c |= set(nei(i))\n",
    "        \n",
    "    dd = set()\n",
    "        \n",
    "    for i in c:\n",
    "        x = sum(list(map(d.__contains__, list(nei(i)))))\n",
    "        if (i in d and x in [2, 3]) or (i not in d and x == 3):\n",
    "            dd.add(i)\n",
    "            \n",
    "    return dd"
   ]
  },
  {
   "cell_type": "code",
   "execution_count": 118,
   "metadata": {},
   "outputs": [
    {
     "data": {
      "text/plain": [
       "1980"
      ]
     },
     "execution_count": 118,
     "metadata": {},
     "output_type": "execute_result"
    }
   ],
   "source": [
    "s = st\n",
    "for i in range(6):\n",
    "    s = nex(s)\n",
    "    \n",
    "len(s)"
   ]
  },
  {
   "cell_type": "code",
   "execution_count": 95,
   "metadata": {},
   "outputs": [
    {
     "data": {
      "text/plain": [
       "True"
      ]
     },
     "execution_count": 95,
     "metadata": {},
     "output_type": "execute_result"
    }
   ],
   "source": [
    "submit1(362)"
   ]
  },
  {
   "cell_type": "code",
   "execution_count": 119,
   "metadata": {},
   "outputs": [
    {
     "data": {
      "text/plain": [
       "True"
      ]
     },
     "execution_count": 119,
     "metadata": {},
     "output_type": "execute_result"
    }
   ],
   "source": [
    "submit2(1980)"
   ]
  }
 ],
 "metadata": {
  "kernelspec": {
   "display_name": "Python 3",
   "language": "python",
   "name": "python3"
  },
  "language_info": {
   "codemirror_mode": {
    "name": "ipython",
    "version": 3
   },
   "file_extension": ".py",
   "mimetype": "text/x-python",
   "name": "python",
   "nbconvert_exporter": "python",
   "pygments_lexer": "ipython3",
   "version": "3.9.0"
  }
 },
 "nbformat": 4,
 "nbformat_minor": 4
}
