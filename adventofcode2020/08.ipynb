{
 "cells": [
  {
   "cell_type": "code",
   "execution_count": 4,
   "metadata": {},
   "outputs": [
    {
     "name": "stdout",
     "output_type": "stream",
     "text": [
      "Populating the interactive namespace from numpy and matplotlib\n"
     ]
    }
   ],
   "source": [
    "%pylab inline\n",
    "\n",
    "from tqdm import tqdm_notebook as tqdm\n",
    "import requests\n",
    "import pickle\n",
    "import re\n",
    "import itertools\n",
    "import functools\n",
    "import collections\n",
    "import string\n",
    "import time\n",
    "from bs4 import BeautifulSoup\n",
    "\n",
    "from adventlib import *\n",
    "\n",
    "YEAR = 2020\n",
    "DAY = 8\n",
    "\n",
    "submit1, submit2 = generate_submits(YEAR, DAY)\n",
    "\n",
    "while True:\n",
    "    try:\n",
    "        raw_input = get_input(YEAR, DAY)\n",
    "        break\n",
    "    except Exception as e:\n",
    "        print(e)\n",
    "        time.sleep(1)"
   ]
  },
  {
   "cell_type": "code",
   "execution_count": 5,
   "metadata": {},
   "outputs": [],
   "source": [
    "lines, groups = linesplit(\"\"\"\n",
    "\n",
    "\"\"\".strip())"
   ]
  },
  {
   "cell_type": "code",
   "execution_count": 6,
   "metadata": {},
   "outputs": [
    {
     "name": "stdout",
     "output_type": "stream",
     "text": [
      "634 lines\n",
      "1 groups\n",
      ">>>\n",
      "acc +15\n",
      "acc +2\n",
      "acc -14\n",
      "...\n"
     ]
    }
   ],
   "source": [
    "lines, groups = linesplit(raw_input, verbose=True)"
   ]
  },
  {
   "cell_type": "code",
   "execution_count": null,
   "metadata": {},
   "outputs": [],
   "source": []
  },
  {
   "cell_type": "code",
   "execution_count": 18,
   "metadata": {},
   "outputs": [],
   "source": [
    "resi = 0\n",
    "resa = []\n",
    "ress = set()\n",
    "resd = collections.defaultdict()\n",
    "\n",
    "insts = []\n",
    "\n",
    "for line in lines:\n",
    "    m = re.findall(r'acc (\\S+)', line)\n",
    "    if m:\n",
    "        insts.append(('acc', int(m[0]),))\n",
    "    m = re.findall(r'jmp (\\S+)', line)\n",
    "    if m:\n",
    "        insts.append(('jmp', int(m[0]),))\n",
    "    m = re.findall(r'nop (\\S+)', line)\n",
    "    if m:\n",
    "        insts.append(('nop', int(m[0])))"
   ]
  },
  {
   "cell_type": "code",
   "execution_count": 19,
   "metadata": {},
   "outputs": [
    {
     "data": {
      "text/plain": [
       "(634, True)"
      ]
     },
     "execution_count": 19,
     "metadata": {},
     "output_type": "execute_result"
    }
   ],
   "source": [
    "len(insts), len(insts) == len(lines)"
   ]
  },
  {
   "cell_type": "code",
   "execution_count": 15,
   "metadata": {},
   "outputs": [
    {
     "name": "stdout",
     "output_type": "stream",
     "text": [
      "done 1749\n"
     ]
    }
   ],
   "source": [
    "i = 0\n",
    "s = set()\n",
    "acc = 0\n",
    "\n",
    "while True:\n",
    "    if i in s:\n",
    "        print('done', acc)\n",
    "        break\n",
    "    \n",
    "    s.add(i)\n",
    "    \n",
    "    if insts[i][0] == 'acc':\n",
    "        acc += insts[i][1]\n",
    "        i += 1\n",
    "    elif insts[i][0] == 'jmp':\n",
    "        i += insts[i][1]\n",
    "    else:\n",
    "        i += 1"
   ]
  },
  {
   "cell_type": "code",
   "execution_count": 16,
   "metadata": {},
   "outputs": [
    {
     "data": {
      "text/plain": [
       "True"
      ]
     },
     "execution_count": 16,
     "metadata": {},
     "output_type": "execute_result"
    }
   ],
   "source": [
    "submit1(1749)"
   ]
  },
  {
   "cell_type": "code",
   "execution_count": 20,
   "metadata": {},
   "outputs": [],
   "source": [
    "def run(dis = -1):\n",
    "    i = 0\n",
    "    s = set()\n",
    "    acc = 0\n",
    "\n",
    "    while True:\n",
    "        if i in s:\n",
    "            return 0, acc\n",
    "        \n",
    "        if i == len(insts):\n",
    "            return 1, acc\n",
    "\n",
    "        s.add(i)\n",
    "        \n",
    "        if i == dis:\n",
    "            if insts[i][0] == 'acc':\n",
    "                return 0, 0\n",
    "            elif insts[i][0] == 'jmp':\n",
    "                i += 1\n",
    "            elif insts[i][0] == 'nop':\n",
    "                i += insts[i][1]\n",
    "            else:\n",
    "                raise Exception()\n",
    "        else:\n",
    "            if insts[i][0] == 'acc':\n",
    "                acc += insts[i][1]\n",
    "                i += 1\n",
    "            elif insts[i][0] == 'jmp':\n",
    "                i += insts[i][1]\n",
    "            elif insts[i][0] == 'nop':\n",
    "                i += 1\n",
    "            else:\n",
    "                raise Exception()"
   ]
  },
  {
   "cell_type": "code",
   "execution_count": 23,
   "metadata": {},
   "outputs": [
    {
     "data": {
      "text/plain": [
       "(0, 1749)"
      ]
     },
     "execution_count": 23,
     "metadata": {},
     "output_type": "execute_result"
    }
   ],
   "source": [
    "run(-1)"
   ]
  },
  {
   "cell_type": "code",
   "execution_count": 24,
   "metadata": {},
   "outputs": [
    {
     "name": "stdout",
     "output_type": "stream",
     "text": [
      "1 515\n"
     ]
    }
   ],
   "source": [
    "for dis in range(len(lines)):\n",
    "    a, b = run(dis)\n",
    "    if a == 1:\n",
    "        print(a, b)"
   ]
  },
  {
   "cell_type": "code",
   "execution_count": 25,
   "metadata": {},
   "outputs": [
    {
     "data": {
      "text/plain": [
       "True"
      ]
     },
     "execution_count": 25,
     "metadata": {},
     "output_type": "execute_result"
    }
   ],
   "source": [
    "submit2(515)"
   ]
  }
 ],
 "metadata": {
  "kernelspec": {
   "display_name": "Python 3",
   "language": "python",
   "name": "python3"
  },
  "language_info": {
   "codemirror_mode": {
    "name": "ipython",
    "version": 3
   },
   "file_extension": ".py",
   "mimetype": "text/x-python",
   "name": "python",
   "nbconvert_exporter": "python",
   "pygments_lexer": "ipython3",
   "version": "3.9.0"
  }
 },
 "nbformat": 4,
 "nbformat_minor": 4
}
