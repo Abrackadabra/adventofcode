{
 "cells": [
  {
   "cell_type": "code",
   "execution_count": 1,
   "metadata": {},
   "outputs": [
    {
     "name": "stdout",
     "output_type": "stream",
     "text": [
      "Populating the interactive namespace from numpy and matplotlib\n"
     ]
    }
   ],
   "source": [
    "%pylab inline"
   ]
  },
  {
   "cell_type": "code",
   "execution_count": 2,
   "metadata": {},
   "outputs": [],
   "source": [
    "from tqdm import tqdm_notebook as tqdm\n",
    "import requests\n",
    "import pickle\n",
    "import re\n",
    "import itertools\n",
    "import functools\n",
    "import collections\n",
    "import string\n",
    "from bs4 import BeautifulSoup\n",
    "\n",
    "from adventlib import *\n",
    "\n",
    "YEAR = 2020\n",
    "DAY = int('01')\n",
    "\n",
    "submit1, submit2 = generate_submits(YEAR, DAY)"
   ]
  },
  {
   "cell_type": "code",
   "execution_count": 24,
   "metadata": {},
   "outputs": [],
   "source": [
    "import time"
   ]
  },
  {
   "cell_type": "code",
   "execution_count": 30,
   "metadata": {},
   "outputs": [
    {
     "name": "stdout",
     "output_type": "stream",
     "text": [
      "--1822\n",
      "1917\n",
      "1642\n",
      "1617\n",
      "1941\n",
      "1740\n",
      "1529\n",
      "1896\n",
      "1880\n",
      "568\n",
      "1897\n",
      "1521\n",
      "1832\n",
      "1936\n",
      "611\n",
      "1475\n",
      "1950\n",
      "1895\n",
      "1532\n",
      "1721\n",
      "1498\n",
      "1905\n",
      "1770\n",
      "1845\n",
      "2003\n",
      "1854\n",
      "1705\n",
      "1916\n",
      "1913\n",
      "1956\n",
      "1798\n",
      "1823\n",
      "1955\n",
      "1713\n",
      "1942\n",
      "1710\n",
      "1696\n",
      "1590\n",
      "1966\n",
      "1476\n",
      "1800\n",
      "1672\n",
      "1533\n",
      "1524\n",
      "1957\n",
      "1923\n",
      "1545\n",
      "534\n",
      "1707\n",
      "1760\n",
      "1104\n",
      "1471\n",
      "1947\n",
      "1802\n",
      "1525\n",
      "1931\n",
      "1653\n",
      "1608\n",
      "1937\n",
      "1977\n",
      "1598\n",
      "1470\n",
      "1794\n",
      "1488\n",
      "1786\n",
      "1652\n",
      "1482\n",
      "1603\n",
      "1667\n",
      "1245\n",
      "1478\n",
      "667\n",
      "1948\n",
      "1885\n",
      "547\n",
      "1971\n",
      "1795\n",
      "1910\n",
      "1571\n",
      "1711\n",
      "1727\n",
      "1987\n",
      "1597\n",
      "1586\n",
      "1661\n",
      "1893\n",
      "1873\n",
      "1827\n",
      "1561\n",
      "2006\n",
      "1782\n",
      "1813\n",
      "2000\n",
      "1592\n",
      "1714\n",
      "1849\n",
      "1501\n",
      "1809\n",
      "1751\n",
      "1935\n",
      "1692\n",
      "1697\n",
      "1878\n",
      "1502\n",
      "1738\n",
      "1731\n",
      "1682\n",
      "1690\n",
      "1499\n",
      "1641\n",
      "1925\n",
      "1996\n",
      "1972\n",
      "1886\n",
      "1836\n",
      "1747\n",
      "1841\n",
      "1668\n",
      "715\n",
      "1698\n",
      "1859\n",
      "1637\n",
      "1477\n",
      "1785\n",
      "1695\n",
      "1702\n",
      "1944\n",
      "1631\n",
      "1771\n",
      "1623\n",
      "1892\n",
      "1466\n",
      "1834\n",
      "1899\n",
      "201\n",
      "1801\n",
      "1978\n",
      "1830\n",
      "1591\n",
      "1673\n",
      "1949\n",
      "1846\n",
      "1677\n",
      "1657\n",
      "1576\n",
      "1817\n",
      "1851\n",
      "1894\n",
      "1754\n",
      "1604\n",
      "1568\n",
      "1730\n",
      "1985\n",
      "1614\n",
      "1980\n",
      "1554\n",
      "1997\n",
      "1960\n",
      "1983\n",
      "1848\n",
      "1883\n",
      "1968\n",
      "1729\n",
      "1716\n",
      "628\n",
      "1472\n",
      "1676\n",
      "1943\n",
      "1821\n",
      "1681\n",
      "1619\n",
      "1644\n",
      "842\n",
      "1492\n",
      "1633\n",
      "1921\n",
      "775\n",
      "1861\n",
      "1584\n",
      "1974\n",
      "585\n",
      "1898\n",
      "1560\n",
      "1708\n",
      "1927\n",
      "1563\n",
      "1872\n",
      "1876\n",
      "1865\n",
      "1535\n",
      "1994\n",
      "1756\n",
      "1662\n",
      "1621\n",
      "1993\n",
      "1825\n",
      "1679\n",
      "1959\n",
      "1691\n",
      "1875\n",
      "\n"
     ]
    }
   ],
   "source": [
    "while True:\n",
    "    try:\n",
    "        raw_input = get_input(YEAR, DAY)\n",
    "    except Exception as e:\n",
    "        print('-', end='')\n",
    "        time.sleep(1)\n",
    "        continue\n",
    "    break\n",
    "\n",
    "print(raw_input)"
   ]
  },
  {
   "cell_type": "code",
   "execution_count": null,
   "metadata": {},
   "outputs": [],
   "source": [
    "lines = linesplit(\"\"\"\n",
    "1721\n",
    "979\n",
    "366\n",
    "299\n",
    "675\n",
    "1456\n",
    "\"\"\".strip())"
   ]
  },
  {
   "cell_type": "code",
   "execution_count": 31,
   "metadata": {},
   "outputs": [
    {
     "name": "stdout",
     "output_type": "stream",
     "text": [
      "200 lines\n",
      ">>>\n",
      "1822\n",
      "1917\n",
      "1642\n",
      "...\n"
     ]
    }
   ],
   "source": [
    "lines = linesplit(raw_input, verbose=True)"
   ]
  },
  {
   "cell_type": "code",
   "execution_count": 32,
   "metadata": {},
   "outputs": [],
   "source": [
    "a = []\n",
    "for line in lines:\n",
    "    a.append(int(line))\n",
    "a = np.array(a)"
   ]
  },
  {
   "cell_type": "code",
   "execution_count": 42,
   "metadata": {},
   "outputs": [
    {
     "name": "stdout",
     "output_type": "stream",
     "text": [
      "964875\n",
      "964875\n"
     ]
    }
   ],
   "source": [
    "s = set(a)\n",
    "for i in s:\n",
    "    if 2020 - i in s:\n",
    "        print(i * (2020-i))"
   ]
  },
  {
   "cell_type": "code",
   "execution_count": 44,
   "metadata": {},
   "outputs": [],
   "source": [
    "dp = np.zeros(2021, dtype=bool)\n",
    "z = {}\n",
    "\n",
    "dp[0] = True\n",
    "z[0] = set()\n",
    "\n",
    "for k in range(1, 4):\n",
    "    for i in range(2021):\n",
    "        for j in s:\n",
    "            x = i + j\n",
    "            if x <= 2020 and dp[i] and len(z.get(x, set())) < k and len(z.get(i, set())) == k - 1:\n",
    "                dp[i + j] = True\n",
    "                z[i + j] = z[i] | {j}"
   ]
  },
  {
   "cell_type": "code",
   "execution_count": 46,
   "metadata": {},
   "outputs": [
    {
     "data": {
      "text/plain": [
       "{201, 715, 1104}"
      ]
     },
     "execution_count": 46,
     "metadata": {},
     "output_type": "execute_result"
    }
   ],
   "source": [
    "z[2020]"
   ]
  },
  {
   "cell_type": "code",
   "execution_count": 49,
   "metadata": {},
   "outputs": [
    {
     "data": {
      "text/plain": [
       "158661360"
      ]
     },
     "execution_count": 49,
     "metadata": {},
     "output_type": "execute_result"
    }
   ],
   "source": [
    "product(list(z[2020]))"
   ]
  },
  {
   "cell_type": "code",
   "execution_count": 60,
   "metadata": {},
   "outputs": [
    {
     "data": {
      "text/plain": [
       "{'CodeCell': {'cm_config': {'indentUnit': 2, 'autoCloseBrackets': False}}}"
      ]
     },
     "execution_count": 60,
     "metadata": {},
     "output_type": "execute_result"
    }
   ],
   "source": [
    "from notebook.services.config import ConfigManager\n",
    "c = ConfigManager()\n",
    "c.update('notebook', {\"CodeCell\": {\"cm_config\": {\"autoCloseBrackets\": False}}})"
   ]
  },
  {
   "cell_type": "code",
   "execution_count": 59,
   "metadata": {},
   "outputs": [
    {
     "data": {
      "text/plain": [
       "{}"
      ]
     },
     "execution_count": 59,
     "metadata": {},
     "output_type": "execute_result"
    }
   ],
   "source": []
  },
  {
   "cell_type": "code",
   "execution_count": 51,
   "metadata": {},
   "outputs": [
    {
     "data": {
      "text/plain": [
       "{'CodeCell': {'cm_config': {'indentUnit': 2, 'autoCloseBrackets': False}}}"
      ]
     },
     "execution_count": 51,
     "metadata": {},
     "output_type": "execute_result"
    }
   ],
   "source": [
    "from notebook.services.config import ConfigManager\n",
    "c = ConfigManager()\n",
    "c.update('notebook', {\"CodeCell\": {\"cm_config\": {\"indentUnit\": 2}}})"
   ]
  },
  {
   "cell_type": "code",
   "execution_count": null,
   "metadata": {},
   "outputs": [],
   "source": [
    "    "
   ]
  }
 ],
 "metadata": {
  "kernelspec": {
   "display_name": "Python 3",
   "language": "python",
   "name": "python3"
  },
  "language_info": {
   "codemirror_mode": {
    "name": "ipython",
    "version": 3
   },
   "file_extension": ".py",
   "mimetype": "text/x-python",
   "name": "python",
   "nbconvert_exporter": "python",
   "pygments_lexer": "ipython3",
   "version": "3.9.0"
  }
 },
 "nbformat": 4,
 "nbformat_minor": 4
}
